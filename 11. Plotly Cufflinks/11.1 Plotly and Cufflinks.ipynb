{
 "cells": [
  {
   "cell_type": "markdown",
   "metadata": {},
   "source": [
    "# Plotly and Cufflinks"
   ]
  },
  {
   "cell_type": "code",
   "execution_count": 1,
   "metadata": {
    "ExecuteTime": {
     "end_time": "2019-05-06T16:55:23.339912Z",
     "start_time": "2019-05-06T16:55:22.887889Z"
    }
   },
   "outputs": [],
   "source": [
    "import pandas as pd\n",
    "import numpy as np\n",
    "%matplotlib inline"
   ]
  },
  {
   "cell_type": "code",
   "execution_count": 2,
   "metadata": {
    "ExecuteTime": {
     "end_time": "2019-05-06T16:55:24.100838Z",
     "start_time": "2019-05-06T16:55:24.095888Z"
    }
   },
   "outputs": [
    {
     "data": {
      "text/html": [
       "<style type=\"text/css\">\n",
       "table.dataframe td, table.dataframe th {\n",
       "    border: 3px  black solid !important;\n",
       "  color: black !important;\n",
       "}\n",
       "# For having gridlines \n"
      ],
      "text/plain": [
       "<IPython.core.display.HTML object>"
      ]
     },
     "metadata": {},
     "output_type": "display_data"
    }
   ],
   "source": [
    "%%HTML\n",
    "<style type=\"text/css\">\n",
    "table.dataframe td, table.dataframe th {\n",
    "    border: 3px  black solid !important;\n",
    "  color: black !important;\n",
    "}\n",
    "# For having gridlines "
   ]
  },
  {
   "cell_type": "code",
   "execution_count": 6,
   "metadata": {
    "ExecuteTime": {
     "end_time": "2019-05-06T16:55:26.879487Z",
     "start_time": "2019-05-06T16:55:26.399769Z"
    }
   },
   "outputs": [],
   "source": [
    "import cufflinks as cf"
   ]
  },
  {
   "cell_type": "code",
   "execution_count": 7,
   "metadata": {
    "ExecuteTime": {
     "end_time": "2019-05-06T16:55:26.897441Z",
     "start_time": "2019-05-06T16:55:26.893451Z"
    }
   },
   "outputs": [
    {
     "data": {
      "text/html": [
       "        <script type=\"text/javascript\">\n",
       "        window.PlotlyConfig = {MathJaxConfig: 'local'};\n",
       "        if (window.MathJax) {MathJax.Hub.Config({SVG: {font: \"STIX-Web\"}});}\n",
       "        if (typeof require !== 'undefined') {\n",
       "        require.undef(\"plotly\");\n",
       "        requirejs.config({\n",
       "            paths: {\n",
       "                'plotly': ['https://cdn.plot.ly/plotly-2.6.3.min']\n",
       "            }\n",
       "        });\n",
       "        require(['plotly'], function(Plotly) {\n",
       "            window._Plotly = Plotly;\n",
       "        });\n",
       "        }\n",
       "        </script>\n",
       "        "
      ]
     },
     "metadata": {},
     "output_type": "display_data"
    }
   ],
   "source": [
    "init_notebook_mode(connected=True)"
   ]
  },
  {
   "cell_type": "code",
   "execution_count": 8,
   "metadata": {
    "ExecuteTime": {
     "end_time": "2019-05-06T16:55:27.624699Z",
     "start_time": "2019-05-06T16:55:27.553861Z"
    }
   },
   "outputs": [
    {
     "data": {
      "text/html": [
       "        <script type=\"text/javascript\">\n",
       "        window.PlotlyConfig = {MathJaxConfig: 'local'};\n",
       "        if (window.MathJax) {MathJax.Hub.Config({SVG: {font: \"STIX-Web\"}});}\n",
       "        if (typeof require !== 'undefined') {\n",
       "        require.undef(\"plotly\");\n",
       "        requirejs.config({\n",
       "            paths: {\n",
       "                'plotly': ['https://cdn.plot.ly/plotly-2.6.3.min']\n",
       "            }\n",
       "        });\n",
       "        require(['plotly'], function(Plotly) {\n",
       "            window._Plotly = Plotly;\n",
       "        });\n",
       "        }\n",
       "        </script>\n",
       "        "
      ]
     },
     "metadata": {},
     "output_type": "display_data"
    }
   ],
   "source": [
    "cf.go_offline()"
   ]
  },
  {
   "cell_type": "markdown",
   "metadata": {
    "ExecuteTime": {
     "end_time": "2019-05-05T07:38:17.035269Z",
     "start_time": "2019-05-05T07:38:17.032277Z"
    }
   },
   "source": [
    "### Fake Data"
   ]
  },
  {
   "cell_type": "code",
   "execution_count": 9,
   "metadata": {
    "ExecuteTime": {
     "end_time": "2019-05-06T16:55:29.230694Z",
     "start_time": "2019-05-06T16:55:29.226705Z"
    }
   },
   "outputs": [],
   "source": [
    "df = pd.DataFrame(np.random.randn(100,4),columns='A B C D'.split()) "
   ]
  },
  {
   "cell_type": "code",
   "execution_count": 10,
   "metadata": {
    "ExecuteTime": {
     "end_time": "2019-05-06T16:55:29.728902Z",
     "start_time": "2019-05-06T16:55:29.719963Z"
    }
   },
   "outputs": [
    {
     "data": {
      "text/html": [
       "<div>\n",
       "<style scoped>\n",
       "    .dataframe tbody tr th:only-of-type {\n",
       "        vertical-align: middle;\n",
       "    }\n",
       "\n",
       "    .dataframe tbody tr th {\n",
       "        vertical-align: top;\n",
       "    }\n",
       "\n",
       "    .dataframe thead th {\n",
       "        text-align: right;\n",
       "    }\n",
       "</style>\n",
       "<table border=\"1\" class=\"dataframe\">\n",
       "  <thead>\n",
       "    <tr style=\"text-align: right;\">\n",
       "      <th></th>\n",
       "      <th>A</th>\n",
       "      <th>B</th>\n",
       "      <th>C</th>\n",
       "      <th>D</th>\n",
       "    </tr>\n",
       "  </thead>\n",
       "  <tbody>\n",
       "    <tr>\n",
       "      <th>0</th>\n",
       "      <td>3.362583</td>\n",
       "      <td>-0.098700</td>\n",
       "      <td>-0.038714</td>\n",
       "      <td>-0.261075</td>\n",
       "    </tr>\n",
       "    <tr>\n",
       "      <th>1</th>\n",
       "      <td>-0.688562</td>\n",
       "      <td>2.037267</td>\n",
       "      <td>0.811571</td>\n",
       "      <td>-0.312743</td>\n",
       "    </tr>\n",
       "    <tr>\n",
       "      <th>2</th>\n",
       "      <td>0.514995</td>\n",
       "      <td>1.439483</td>\n",
       "      <td>-0.176654</td>\n",
       "      <td>-0.051955</td>\n",
       "    </tr>\n",
       "    <tr>\n",
       "      <th>3</th>\n",
       "      <td>-0.497660</td>\n",
       "      <td>1.869713</td>\n",
       "      <td>1.346693</td>\n",
       "      <td>-0.636372</td>\n",
       "    </tr>\n",
       "    <tr>\n",
       "      <th>4</th>\n",
       "      <td>1.312918</td>\n",
       "      <td>-0.554900</td>\n",
       "      <td>-0.709624</td>\n",
       "      <td>0.264037</td>\n",
       "    </tr>\n",
       "  </tbody>\n",
       "</table>\n",
       "</div>"
      ],
      "text/plain": [
       "          A         B         C         D\n",
       "0  3.362583 -0.098700 -0.038714 -0.261075\n",
       "1 -0.688562  2.037267  0.811571 -0.312743\n",
       "2  0.514995  1.439483 -0.176654 -0.051955\n",
       "3 -0.497660  1.869713  1.346693 -0.636372\n",
       "4  1.312918 -0.554900 -0.709624  0.264037"
      ]
     },
     "execution_count": 10,
     "metadata": {},
     "output_type": "execute_result"
    }
   ],
   "source": [
    "df.head()"
   ]
  },
  {
   "cell_type": "code",
   "execution_count": 11,
   "metadata": {
    "ExecuteTime": {
     "end_time": "2019-05-06T16:55:30.190742Z",
     "start_time": "2019-05-06T16:55:30.186791Z"
    }
   },
   "outputs": [],
   "source": [
    "df2 = pd.DataFrame({'Category':['A','B','C'],'Values':[32,43,50]})"
   ]
  },
  {
   "cell_type": "code",
   "execution_count": 12,
   "metadata": {
    "ExecuteTime": {
     "end_time": "2019-05-06T16:55:30.666602Z",
     "start_time": "2019-05-06T16:55:30.659621Z"
    },
    "scrolled": true
   },
   "outputs": [
    {
     "data": {
      "text/html": [
       "<div>\n",
       "<style scoped>\n",
       "    .dataframe tbody tr th:only-of-type {\n",
       "        vertical-align: middle;\n",
       "    }\n",
       "\n",
       "    .dataframe tbody tr th {\n",
       "        vertical-align: top;\n",
       "    }\n",
       "\n",
       "    .dataframe thead th {\n",
       "        text-align: right;\n",
       "    }\n",
       "</style>\n",
       "<table border=\"1\" class=\"dataframe\">\n",
       "  <thead>\n",
       "    <tr style=\"text-align: right;\">\n",
       "      <th></th>\n",
       "      <th>Category</th>\n",
       "      <th>Values</th>\n",
       "    </tr>\n",
       "  </thead>\n",
       "  <tbody>\n",
       "    <tr>\n",
       "      <th>0</th>\n",
       "      <td>A</td>\n",
       "      <td>32</td>\n",
       "    </tr>\n",
       "    <tr>\n",
       "      <th>1</th>\n",
       "      <td>B</td>\n",
       "      <td>43</td>\n",
       "    </tr>\n",
       "    <tr>\n",
       "      <th>2</th>\n",
       "      <td>C</td>\n",
       "      <td>50</td>\n",
       "    </tr>\n",
       "  </tbody>\n",
       "</table>\n",
       "</div>"
      ],
      "text/plain": [
       "  Category  Values\n",
       "0        A      32\n",
       "1        B      43\n",
       "2        C      50"
      ]
     },
     "execution_count": 12,
     "metadata": {},
     "output_type": "execute_result"
    }
   ],
   "source": [
    "df2"
   ]
  },
  {
   "cell_type": "markdown",
   "metadata": {},
   "source": [
    "## Using Cufflinks and iplot()\n",
    "\n",
    "* scatter\n",
    "* bar\n",
    "* box\n",
    "* spread\n",
    "* ratio\n",
    "* heatmap\n",
    "* surface\n",
    "* histogram\n",
    "* bubble"
   ]
  },
  {
   "cell_type": "code",
   "execution_count": 13,
   "metadata": {
    "ExecuteTime": {
     "end_time": "2019-05-06T16:55:31.745440Z",
     "start_time": "2019-05-06T16:55:31.598832Z"
    }
   },
   "outputs": [
    {
     "data": {
      "text/plain": [
       "<AxesSubplot:>"
      ]
     },
     "execution_count": 13,
     "metadata": {},
     "output_type": "execute_result"
    },
    {
     "data": {
      "image/png": "[encoded data removed]",
      "text/plain": [
       "<Figure size 432x288 with 1 Axes>"
      ]
     },
     "metadata": {
      "needs_background": "light"
     },
     "output_type": "display_data"
    }
   ],
   "source": [
    "df.plot()"
   ]
  },
  {
   "cell_type": "code",
   "execution_count": 14,
   "metadata": {
    "ExecuteTime": {
     "end_time": "2019-05-06T16:55:33.230709Z",
     "start_time": "2019-05-06T16:55:32.102407Z"
    }
   },
   "outputs": [
    {
     "data": {
      "application/vnd.plotly.v1+json": {
       "config": {
        "linkText": "Export to plot.ly",
        "plotlyServerURL": "https://plot.ly",
        "showLink": true
       },
       "data": [
        {
         "line": {
          "color": "rgba(255, 153, 51, 1.0)",
          "dash": "solid",
          "shape": "linear",
          "width": 1.3
         },
         "mode": "lines",
         "name": "A",
         "text": "",
         "type": "scatter",
         "x": [
          0,
          1,
          2,
          3,
          4,
          5,
          6,
          7,
          8,
          9,
          10,
          11,
          12,
          13,
          14,
          15,
          16,
          17,
          18,
          19,
          20,
          21,
          22,
          23,
          24,
          25,
          26,
          27,
          28,
          29,
          30,
          31,
          32,
          33,
          34,
          35,
          36,
          37,
          38,
          39,
          40,
          41,
          42,
          43,
          44,
          45,
          46,
          47,
          48,
          49,
          50,
          51,
          52,
          53,
          54,
          55,
          56,
          57,
          58,
          59,
          60,
          61,
          62,
          63,
          64,
          65,
          66,
          67,
          68,
          69,
          70,
          71,
          72,
          73,
          74,
          75,
          76,
          77,
          78,
          79,
          80,
          81,
          82,
          83,
          84,
          85,
          86,
          87,
          88,
          89,
          90,
          91,
          92,
          93,
          94,
          95,
          96,
          97,
          98,
          99
         ],
         "y": [
          3.3625825147031634,
          -0.6885621495157169,
          0.5149951992086972,
          -0.4976600607971672,
          1.3129178129369143,
          1.259037760305938,
          -0.8205591484786454,
          -0.2888956899883146,
          -0.09602816876888236,
          -0.9613950050487399,
          0.19756992435357082,
          -2.010039225046455,
          -0.7479232977395808,
          1.947999686378811,
          -1.300068284850122,
          0.8562782186572203,
          -0.8554492701360895,
          -0.4206993361270417,
          0.17322463597602866,
          -0.47160211461434376,
          0.565677357194077,
          -0.6594632474857488,
          1.7551221205900165,
          0.7357358194208311,
          -1.1591709602449005,
          -0.05419091582379508,
          -0.36257185525324137,
          1.4349669783777106,
          -0.5661528981377684,
          -0.407032366454418,
          0.22755126025017564,
          0.8257857482311864,
          0.27076051378642957,
          -0.46987215853669007,
          -0.6260892978035598,
          -0.14422154840098403,
          0.06729047029481175,
          -0.7538901577971123,
          -0.16372387540641004,
          -1.5306935620588862,
          1.7378715409320646,
          1.8728785308476077,
          -0.22596064971310095,
          0.19265357626344148,
          1.3095974819986245,
          -0.8467226757105627,
          -0.47588441755457705,
          0.8436192849298026,
          -1.0696497054771597,
          -0.29246972729030885,
          -0.5072696949324063,
          -1.804060391633852,
          0.41463973873286825,
          -0.06065342496772562,
          -1.2132110689335833,
          -0.1869364025887339,
          0.7239663414003534,
          -0.03198459252341648,
          0.9917197143234533,
          0.4124466650325076,
          -0.6198057419680839,
          -0.27086068891135073,
          -1.6085151157707147,
          -0.5886897832373408,
          -2.03889655784642,
          -0.08269100136583725,
          -0.2998182776646363,
          0.7537301596831394,
          -0.5572938977691413,
          0.2816574459013314,
          0.12511549492515286,
          -1.1520414977821023,
          -1.6077418183548926,
          0.12518543876338792,
          -0.17240992239466557,
          -0.29687603356526354,
          -0.538488421711546,
          1.011892155339132,
          0.5242967165890116,
          0.37788940477311916,
          1.3818585203086495,
          1.3322459158616347,
          1.3491805785283302,
          0.260837473417611,
          0.9770174853395498,
          -0.417469144514007,
          0.2532052106744681,
          -1.418974713556114,
          -1.304961959687015,
          -0.7850198786305627,
          -2.637960154783843,
          -0.702041364600879,
          0.2929621979386714,
          -0.31570510433110843,
          -0.2629023198827632,
          0.19022263715975085,
          0.6217882134487541,
          -0.2991271853655061,
          1.0088878670316135,
          -1.6952584120476268
         ]
        },
        {
         "line": {
          "color": "rgba(55, 128, 191, 1.0)",
          "dash": "solid",
          "shape": "linear",
          "width": 1.3
         },
         "mode": "lines",
         "name": "B",
         "text": "",
         "type": "scatter",
         "x": [
          0,
          1,
          2,
          3,
          4,
          5,
          6,
          7,
          8,
          9,
          10,
          11,
          12,
          13,
          14,
          15,
          16,
          17,
          18,
          19,
          20,
          21,
          22,
          23,
          24,
          25,
          26,
          27,
          28,
          29,
          30,
          31,
          32,
          33,
          34,
          35,
          36,
          37,
          38,
          39,
          40,
          41,
          42,
          43,
          44,
          45,
          46,
          47,
          48,
          49,
          50,
          51,
          52,
          53,
          54,
          55,
          56,
          57,
          58,
          59,
          60,
          61,
          62,
          63,
          64,
          65,
          66,
          67,
          68,
          69,
          70,
          71,
          72,
          73,
          74,
          75,
          76,
          77,
          78,
          79,
          80,
          81,
          82,
          83,
          84,
          85,
          86,
          87,
          88,
          89,
          90,
          91,
          92,
          93,
          94,
          95,
          96,
          97,
          98,
          99
         ],
         "y": [
          -0.09869980248667033,
          2.03726652741454,
          1.4394828771486599,
          1.8697131285068431,
          -0.5548997790378658,
          -0.6217206439491961,
          -0.689074198736593,
          -0.06741428706327046,
          1.7098599778074983,
          -0.4176920959973648,
          2.168907375948452,
          -0.4880158437300923,
          0.27498240917764155,
          0.08170163057623107,
          -0.03384861897299663,
          1.647092749347639,
          0.15860105398020632,
          0.059442598251813514,
          -0.5762077458563473,
          1.4150104934559853,
          -0.5749855002518763,
          -0.546415696315059,
          -1.5240091166445844,
          -0.9241042955106828,
          -1.9699502760010996,
          -0.6245600967739037,
          0.46518656287393384,
          -0.5218551564845291,
          0.2791729390951336,
          0.38578951337570555,
          0.39588598472909636,
          -0.7255379856229528,
          -0.56042666640254,
          -0.6027380454238817,
          0.06544925823079883,
          0.0977013071597415,
          0.2884822951944402,
          0.01713950529145413,
          -0.6866144000900855,
          -0.7898794564866739,
          0.10855608206827938,
          -0.22219683727590325,
          0.8283900308964371,
          -0.22510174689080045,
          0.08635559723721953,
          0.5335960581183034,
          0.37052671554643235,
          -0.570615537939435,
          0.2934992940562579,
          0.35328262839809565,
          -0.504249051160435,
          -1.9841088941570533,
          0.16468981598788138,
          -0.457678976262291,
          -0.4458065995793777,
          -0.6009038322071909,
          1.081394434790141,
          -0.32228195363254253,
          -0.2734324040026059,
          -0.11560060379954049,
          -1.145759112427046,
          -0.11539531430117402,
          0.32766295593105765,
          -0.373990881876142,
          -1.8553040836366972,
          0.41643076492351705,
          0.8492089009344047,
          -0.7965102060113378,
          2.036714812577297,
          0.21979935049899096,
          -1.1294971239943814,
          0.15636794398823822,
          0.19528867658492846,
          -0.664078836346772,
          0.29684278242568446,
          -0.8367625226528052,
          0.7616986595793469,
          1.855823984151398,
          -1.133439152106387,
          -0.8195629205557495,
          -0.46718347774595076,
          0.9486061350544259,
          -0.07737115781296872,
          -0.42174556204453584,
          1.6477605761097094,
          0.382673801536673,
          1.0452339650064126,
          -1.2834000440096809,
          0.8211643104999973,
          2.0187466797608917,
          0.03507192302206712,
          -1.290810831468579,
          0.7469538642891566,
          -0.7722379464065471,
          -0.7828371849281098,
          -0.7157909433349646,
          1.0350233315650033,
          0.34197577939435325,
          -0.20965832848228794,
          0.33295144312351205
         ]
        },
        {
         "line": {
          "color": "rgba(50, 171, 96, 1.0)",
          "dash": "solid",
          "shape": "linear",
          "width": 1.3
         },
         "mode": "lines",
         "name": "C",
         "text": "",
         "type": "scatter",
         "x": [
          0,
          1,
          2,
          3,
          4,
          5,
          6,
          7,
          8,
          9,
          10,
          11,
          12,
          13,
          14,
          15,
          16,
          17,
          18,
          19,
          20,
          21,
          22,
          23,
          24,
          25,
          26,
          27,
          28,
          29,
          30,
          31,
          32,
          33,
          34,
          35,
          36,
          37,
          38,
          39,
          40,
          41,
          42,
          43,
          44,
          45,
          46,
          47,
          48,
          49,
          50,
          51,
          52,
          53,
          54,
          55,
          56,
          57,
          58,
          59,
          60,
          61,
          62,
          63,
          64,
          65,
          66,
          67,
          68,
          69,
          70,
          71,
          72,
          73,
          74,
          75,
          76,
          77,
          78,
          79,
          80,
          81,
          82,
          83,
          84,
          85,
          86,
          87,
          88,
          89,
          90,
          91,
          92,
          93,
          94,
          95,
          96,
          97,
          98,
          99
         ],
         "y": [
          -0.03871432534083431,
          0.8115707952131627,
          -0.17665423819459455,
          1.3466930613339523,
          -0.7096242874361512,
          0.5827954368056582,
          0.46518279753224095,
          -1.5660683477890591,
          -0.33199610826936693,
          -0.4744363313695482,
          1.4711440122729522,
          -0.003955344986920965,
          0.0562545380152191,
          0.15362277115179548,
          -0.36353528708391786,
          -0.012124866275137487,
          -0.20009491093416557,
          0.9614757069810966,
          0.7697978672912913,
          -0.23742915591891228,
          0.9725222749061871,
          0.41582536826645344,
          -1.0625242653194664,
          -0.7900579467789591,
          -0.6818934981943373,
          -0.13917048218982198,
          -0.3541996772670713,
          -0.8213352921077302,
          -0.07126063095007504,
          -0.26033422049286276,
          -0.5289646963018059,
          -0.43873497104461107,
          -0.45044738503422543,
          0.7478128184341659,
          0.6641194392583254,
          -0.979094314437018,
          -1.119399923453585,
          -1.5594785503686877,
          0.7599857788414909,
          -1.9097517568392404,
          -1.9468678465506883,
          0.5218375682681676,
          -1.0396394039937231,
          1.1276287199659947,
          -1.184342666394064,
          0.022131779564743076,
          -0.3201532437258341,
          -0.19702044383341424,
          -0.3758894766712151,
          0.05237384319038519,
          1.5172743804134299,
          2.4247879322619643,
          -0.9755230759676465,
          1.012608550719346,
          -1.290639386572514,
          -0.17154180805176894,
          0.7087889536846921,
          0.16864636263787605,
          -0.1312296598447758,
          0.7305408215857765,
          -1.3689031206003062,
          0.22090233284189276,
          1.3597780697136148,
          0.9944818070429114,
          0.6964499854986963,
          0.6745445328562419,
          -0.6662469380254723,
          -1.0174720887610438,
          0.2300492223012016,
          -0.036954874906627216,
          -0.726688304201755,
          -1.0211999418778872,
          1.0250471207567862,
          0.21183444445887054,
          0.37261079372522277,
          0.5822324112944044,
          -0.22929439516700795,
          0.2480386641167231,
          0.5643644796350337,
          0.9750637011146529,
          -0.18448805836167542,
          1.0717767289630435,
          2.0980105239450886,
          0.38372361927407656,
          -0.004206138482686182,
          -0.13370915390265514,
          0.16589187268661165,
          0.47628847080812187,
          0.704925336787344,
          0.12372473894611717,
          0.15210545578859208,
          -0.9406035775255597,
          -0.226907080030317,
          0.2499324277887329,
          -1.5170304489877942,
          1.2639490310851944,
          -0.516687512771716,
          2.305904708755523,
          -1.3952138991015384,
          0.630778993152211
         ]
        },
        {
         "line": {
          "color": "rgba(128, 0, 128, 1.0)",
          "dash": "solid",
          "shape": "linear",
          "width": 1.3
         },
         "mode": "lines",
         "name": "D",
         "text": "",
         "type": "scatter",
         "x": [
          0,
          1,
          2,
          3,
          4,
          5,
          6,
          7,
          8,
          9,
          10,
          11,
          12,
          13,
          14,
          15,
          16,
          17,
          18,
          19,
          20,
          21,
          22,
          23,
          24,
          25,
          26,
          27,
          28,
          29,
          30,
          31,
          32,
          33,
          34,
          35,
          36,
          37,
          38,
          39,
          40,
          41,
          42,
          43,
          44,
          45,
          46,
          47,
          48,
          49,
          50,
          51,
          52,
          53,
          54,
          55,
          56,
          57,
          58,
          59,
          60,
          61,
          62,
          63,
          64,
          65,
          66,
          67,
          68,
          69,
          70,
          71,
          72,
          73,
          74,
          75,
          76,
          77,
          78,
          79,
          80,
          81,
          82,
          83,
          84,
          85,
          86,
          87,
          88,
          89,
          90,
          91,
          92,
          93,
          94,
          95,
          96,
          97,
          98,
          99
         ],
         "y": [
          -0.2610754490700943,
          -0.31274259932016485,
          -0.05195486783740825,
          -0.6363720505501187,
          0.26403720932684455,
          -0.670878971050256,
          0.35306264868315396,
          -1.4766036084490375,
          -1.0570360760952613,
          -0.5716289462859565,
          0.5996025660857952,
          0.6669472548117814,
          -0.20190710037508552,
          0.6591484959562992,
          0.3007018794461643,
          -2.3269309002298684,
          -0.45564726513007425,
          0.31412461514473483,
          1.5775316971860345,
          -0.20816830651970206,
          1.0992586180529906,
          1.2482324665607225,
          0.5963441305128984,
          0.6759383135148479,
          -0.31391325666451225,
          1.20331051531392,
          -1.1189113149477334,
          0.04340009025224424,
          -0.5873078097584103,
          -1.7395764773201399,
          1.7318829844673942,
          -1.8582286156354608,
          0.2102896767181078,
          0.036038219215623425,
          1.7315528329827625,
          -0.23751896821776966,
          -1.2619041772231365,
          -0.4209939529770629,
          0.6444023091948922,
          -0.12611657156977105,
          -0.8679107790133433,
          -1.2941016753923553,
          0.14594471207322482,
          -1.0981622210575677,
          -0.08624722509148783,
          -0.5531726942858656,
          1.3258006005289427,
          -0.5239864957809007,
          0.09995128771691131,
          2.10208730930389,
          -0.6752478145794528,
          -0.3840445714707245,
          -0.1372520446980467,
          0.3886173501207647,
          1.2332964234722699,
          1.4381637163220384,
          -0.25764043429119016,
          -0.9842129074651307,
          -0.13624389171313364,
          -1.2929703628833762,
          -0.21066150761967375,
          -1.0517433412117014,
          0.12062324844287063,
          1.2927129194575222,
          -0.7835829494349476,
          -0.7570704661624947,
          -1.161275272484911,
          -0.6580589800179951,
          0.4574163292136516,
          0.9282633619209005,
          1.2361508560233534,
          1.6358461396414072,
          -0.3275027468944334,
          0.4715100581108882,
          0.1900867796549248,
          0.9503595438312736,
          0.2846599033154163,
          0.7838010808747881,
          -0.6215426494588088,
          -2.5585283098605864,
          2.792906821685706,
          -0.21163724717237037,
          -0.799844955740187,
          -0.12841497548761696,
          1.643525322798787,
          0.6669179707736347,
          -2.071559206824266,
          0.8811338533173473,
          -2.0193879616140107,
          -1.9139249417279494,
          0.9818762536192873,
          -0.14457914752721937,
          -0.1019202571490361,
          -0.10167892581764211,
          1.2887099889784408,
          0.7911773663583078,
          -1.0221485430858486,
          -0.47387097215670204,
          -0.20350765600332388,
          -0.13150023481557147
         ]
        }
       ],
       "layout": {
        "legend": {
         "bgcolor": "#F5F6F9",
         "font": {
          "color": "#4D5663"
         }
        },
        "paper_bgcolor": "#F5F6F9",
        "plot_bgcolor": "#F5F6F9",
        "template": {
         "data": {
          "bar": [
           {
            "error_x": {
             "color": "#2a3f5f"
            },
            "error_y": {
             "color": "#2a3f5f"
            },
            "marker": {
             "line": {
              "color": "#E5ECF6",
              "width": 0.5
             },
             "pattern": {
              "fillmode": "overlay",
              "size": 10,
              "solidity": 0.2
             }
            },
            "type": "bar"
           }
          ],
          "barpolar": [
           {
            "marker": {
             "line": {
              "color": "#E5ECF6",
              "width": 0.5
             },
             "pattern": {
              "fillmode": "overlay",
              "size": 10,
              "solidity": 0.2
             }
            },
            "type": "barpolar"
           }
          ],
          "carpet": [
           {
            "aaxis": {
             "endlinecolor": "#2a3f5f",
             "gridcolor": "white",
             "linecolor": "white",
             "minorgridcolor": "white",
             "startlinecolor": "#2a3f5f"
            },
            "baxis": {
             "endlinecolor": "#2a3f5f",
             "gridcolor": "white",
             "linecolor": "white",
             "minorgridcolor": "white",
             "startlinecolor": "#2a3f5f"
            },
            "type": "carpet"
           }
          ],
          "choropleth": [
           {
            "colorbar": {
             "outlinewidth": 0,
             "ticks": ""
            },
            "type": "choropleth"
           }
          ],
          "contour": [
           {
            "colorbar": {
             "outlinewidth": 0,
             "ticks": ""
            },
            "colorscale": [
             [
              0,
              "#0d0887"
             ],
             [
              0.1111111111111111,
              "#46039f"
             ],
             [
              0.2222222222222222,
              "#7201a8"
             ],
             [
              0.3333333333333333,
              "#9c179e"
             ],
             [
              0.4444444444444444,
              "#bd3786"
             ],
             [
              0.5555555555555556,
              "#d8576b"
             ],
             [
              0.6666666666666666,
              "#ed7953"
             ],
             [
              0.7777777777777778,
              "#fb9f3a"
             ],
             [
              0.8888888888888888,
              "#fdca26"
             ],
             [
              1,
              "#f0f921"
             ]
            ],
            "type": "contour"
           }
          ],
          "contourcarpet": [
           {
            "colorbar": {
             "outlinewidth": 0,
             "ticks": ""
            },
            "type": "contourcarpet"
           }
          ],
          "heatmap": [
           {
            "colorbar": {
             "outlinewidth": 0,
             "ticks": ""
            },
            "colorscale": [
             [
              0,
              "#0d0887"
             ],
             [
              0.1111111111111111,
              "#46039f"
             ],
             [
              0.2222222222222222,
              "#7201a8"
             ],
             [
              0.3333333333333333,
              "#9c179e"
             ],
             [
              0.4444444444444444,
              "#bd3786"
             ],
             [
              0.5555555555555556,
              "#d8576b"
             ],
             [
              0.6666666666666666,
              "#ed7953"
             ],
             [
              0.7777777777777778,
              "#fb9f3a"
             ],
             [
              0.8888888888888888,
              "#fdca26"
             ],
             [
              1,
              "#f0f921"
             ]
            ],
            "type": "heatmap"
           }
          ],
          "heatmapgl": [
           {
            "colorbar": {
             "outlinewidth": 0,
             "ticks": ""
            },
            "colorscale": [
             [
              0,
              "#0d0887"
             ],
             [
              0.1111111111111111,
              "#46039f"
             ],
             [
              0.2222222222222222,
              "#7201a8"
             ],
             [
              0.3333333333333333,
              "#9c179e"
             ],
             [
              0.4444444444444444,
              "#bd3786"
             ],
             [
              0.5555555555555556,
              "#d8576b"
             ],
             [
              0.6666666666666666,
              "#ed7953"
             ],
             [
              0.7777777777777778,
              "#fb9f3a"
             ],
             [
              0.8888888888888888,
              "#fdca26"
             ],
             [
              1,
              "#f0f921"
             ]
            ],
            "type": "heatmapgl"
           }
          ],
          "histogram": [
           {
            "marker": {
             "pattern": {
              "fillmode": "overlay",
              "size": 10,
              "solidity": 0.2
             }
            },
            "type": "histogram"
           }
          ],
          "histogram2d": [
           {
            "colorbar": {
             "outlinewidth": 0,
             "ticks": ""
            },
            "colorscale": [
             [
              0,
              "#0d0887"
             ],
             [
              0.1111111111111111,
              "#46039f"
             ],
             [
              0.2222222222222222,
              "#7201a8"
             ],
             [
              0.3333333333333333,
              "#9c179e"
             ],
             [
              0.4444444444444444,
              "#bd3786"
             ],
             [
              0.5555555555555556,
              "#d8576b"
             ],
             [
              0.6666666666666666,
              "#ed7953"
             ],
             [
              0.7777777777777778,
              "#fb9f3a"
             ],
             [
              0.8888888888888888,
              "#fdca26"
             ],
             [
              1,
              "#f0f921"
             ]
            ],
            "type": "histogram2d"
           }
          ],
          "histogram2dcontour": [
           {
            "colorbar": {
             "outlinewidth": 0,
             "ticks": ""
            },
            "colorscale": [
             [
              0,
              "#0d0887"
             ],
             [
              0.1111111111111111,
              "#46039f"
             ],
             [
              0.2222222222222222,
              "#7201a8"
             ],
             [
              0.3333333333333333,
              "#9c179e"
             ],
             [
              0.4444444444444444,
              "#bd3786"
             ],
             [
              0.5555555555555556,
              "#d8576b"
             ],
             [
              0.6666666666666666,
              "#ed7953"
             ],
             [
              0.7777777777777778,
              "#fb9f3a"
             ],
             [
              0.8888888888888888,
              "#fdca26"
             ],
             [
              1,
              "#f0f921"
             ]
            ],
            "type": "histogram2dcontour"
           }
          ],
          "mesh3d": [
           {
            "colorbar": {
             "outlinewidth": 0,
             "ticks": ""
            },
            "type": "mesh3d"
           }
          ],
          "parcoords": [
           {
            "line": {
             "colorbar": {
              "outlinewidth": 0,
              "ticks": ""
             }
            },
            "type": "parcoords"
           }
          ],
          "pie": [
           {
            "automargin": true,
            "type": "pie"
           }
          ],
          "scatter": [
           {
            "marker": {
             "colorbar": {
              "outlinewidth": 0,
              "ticks": ""
             }
            },
            "type": "scatter"
           }
          ],
          "scatter3d": [
           {
            "line": {
             "colorbar": {
              "outlinewidth": 0,
              "ticks": ""
             }
            },
            "marker": {
             "colorbar": {
              "outlinewidth": 0,
              "ticks": ""
             }
            },
            "type": "scatter3d"
           }
          ],
          "scattercarpet": [
           {
            "marker": {
             "colorbar": {
              "outlinewidth": 0,
              "ticks": ""
             }
            },
            "type": "scattercarpet"
           }
          ],
          "scattergeo": [
           {
            "marker": {
             "colorbar": {
              "outlinewidth": 0,
              "ticks": ""
             }
            },
            "type": "scattergeo"
           }
          ],
          "scattergl": [
           {
            "marker": {
             "colorbar": {
              "outlinewidth": 0,
              "ticks": ""
             }
            },
            "type": "scattergl"
           }
          ],
          "scattermapbox": [
           {
            "marker": {
             "colorbar": {
              "outlinewidth": 0,
              "ticks": ""
             }
            },
            "type": "scattermapbox"
           }
          ],
          "scatterpolar": [
           {
            "marker": {
             "colorbar": {
              "outlinewidth": 0,
              "ticks": ""
             }
            },
            "type": "scatterpolar"
           }
          ],
          "scatterpolargl": [
           {
            "marker": {
             "colorbar": {
              "outlinewidth": 0,
              "ticks": ""
             }
            },
            "type": "scatterpolargl"
           }
          ],
          "scatterternary": [
           {
            "marker": {
             "colorbar": {
              "outlinewidth": 0,
              "ticks": ""
             }
            },
            "type": "scatterternary"
           }
          ],
          "surface": [
           {
            "colorbar": {
             "outlinewidth": 0,
             "ticks": ""
            },
            "colorscale": [
             [
              0,
              "#0d0887"
             ],
             [
              0.1111111111111111,
              "#46039f"
             ],
             [
              0.2222222222222222,
              "#7201a8"
             ],
             [
              0.3333333333333333,
              "#9c179e"
             ],
             [
              0.4444444444444444,
              "#bd3786"
             ],
             [
              0.5555555555555556,
              "#d8576b"
             ],
             [
              0.6666666666666666,
              "#ed7953"
             ],
             [
              0.7777777777777778,
              "#fb9f3a"
             ],
             [
              0.8888888888888888,
              "#fdca26"
             ],
             [
              1,
              "#f0f921"
             ]
            ],
            "type": "surface"
           }
          ],
          "table": [
           {
            "cells": {
             "fill": {
              "color": "#EBF0F8"
             },
             "line": {
              "color": "white"
             }
            },
            "header": {
             "fill": {
              "color": "#C8D4E3"
             },
             "line": {
              "color": "white"
             }
            },
            "type": "table"
           }
          ]
         },
         "layout": {
          "annotationdefaults": {
           "arrowcolor": "#2a3f5f",
           "arrowhead": 0,
           "arrowwidth": 1
          },
          "autotypenumbers": "strict",
          "coloraxis": {
           "colorbar": {
            "outlinewidth": 0,
            "ticks": ""
           }
          },
          "colorscale": {
           "diverging": [
            [
             0,
             "#8e0152"
            ],
            [
             0.1,
             "#c51b7d"
            ],
            [
             0.2,
             "#de77ae"
            ],
            [
             0.3,
             "#f1b6da"
            ],
            [
             0.4,
             "#fde0ef"
            ],
            [
             0.5,
             "#f7f7f7"
            ],
            [
             0.6,
             "#e6f5d0"
            ],
            [
             0.7,
             "#b8e186"
            ],
            [
             0.8,
             "#7fbc41"
            ],
            [
             0.9,
             "#4d9221"
            ],
            [
             1,
             "#276419"
            ]
           ],
           "sequential": [
            [
             0,
             "#0d0887"
            ],
            [
             0.1111111111111111,
             "#46039f"
            ],
            [
             0.2222222222222222,
             "#7201a8"
            ],
            [
             0.3333333333333333,
             "#9c179e"
            ],
            [
             0.4444444444444444,
             "#bd3786"
            ],
            [
             0.5555555555555556,
             "#d8576b"
            ],
            [
             0.6666666666666666,
             "#ed7953"
            ],
            [
             0.7777777777777778,
             "#fb9f3a"
            ],
            [
             0.8888888888888888,
             "#fdca26"
            ],
            [
             1,
             "#f0f921"
            ]
           ],
           "sequentialminus": [
            [
             0,
             "#0d0887"
            ],
            [
             0.1111111111111111,
             "#46039f"
            ],
            [
             0.2222222222222222,
             "#7201a8"
            ],
            [
             0.3333333333333333,
             "#9c179e"
            ],
            [
             0.4444444444444444,
             "#bd3786"
            ],
            [
             0.5555555555555556,
             "#d8576b"
            ],
            [
             0.6666666666666666,
             "#ed7953"
            ],
            [
             0.7777777777777778,
             "#fb9f3a"
            ],
            [
             0.8888888888888888,
             "#fdca26"
            ],
            [
             1,
             "#f0f921"
            ]
           ]
          },
          "colorway": [
           "#636efa",
           "#EF553B",
           "#00cc96",
           "#ab63fa",
           "#FFA15A",
           "#19d3f3",
           "#FF6692",
           "#B6E880",
           "#FF97FF",
           "#FECB52"
          ],
          "font": {
           "color": "#2a3f5f"
          },
          "geo": {
           "bgcolor": "white",
           "lakecolor": "white",
           "landcolor": "#E5ECF6",
           "showlakes": true,
           "showland": true,
           "subunitcolor": "white"
          },
          "hoverlabel": {
           "align": "left"
          },
          "hovermode": "closest",
          "mapbox": {
           "style": "light"
          },
          "paper_bgcolor": "white",
          "plot_bgcolor": "#E5ECF6",
          "polar": {
           "angularaxis": {
            "gridcolor": "white",
            "linecolor": "white",
            "ticks": ""
           },
           "bgcolor": "#E5ECF6",
           "radialaxis": {
            "gridcolor": "white",
            "linecolor": "white",
            "ticks": ""
           }
          },
          "scene": {
           "xaxis": {
            "backgroundcolor": "#E5ECF6",
            "gridcolor": "white",
            "gridwidth": 2,
            "linecolor": "white",
            "showbackground": true,
            "ticks": "",
            "zerolinecolor": "white"
           },
           "yaxis": {
            "backgroundcolor": "#E5ECF6",
            "gridcolor": "white",
            "gridwidth": 2,
            "linecolor": "white",
            "showbackground": true,
            "ticks": "",
            "zerolinecolor": "white"
           },
           "zaxis": {
            "backgroundcolor": "#E5ECF6",
            "gridcolor": "white",
            "gridwidth": 2,
            "linecolor": "white",
            "showbackground": true,
            "ticks": "",
            "zerolinecolor": "white"
           }
          },
          "shapedefaults": {
           "line": {
            "color": "#2a3f5f"
           }
          },
          "ternary": {
           "aaxis": {
            "gridcolor": "white",
            "linecolor": "white",
            "ticks": ""
           },
           "baxis": {
            "gridcolor": "white",
            "linecolor": "white",
            "ticks": ""
           },
           "bgcolor": "#E5ECF6",
           "caxis": {
            "gridcolor": "white",
            "linecolor": "white",
            "ticks": ""
           }
          },
          "title": {
           "x": 0.05
          },
          "xaxis": {
           "automargin": true,
           "gridcolor": "white",
           "linecolor": "white",
           "ticks": "",
           "title": {
            "standoff": 15
           },
           "zerolinecolor": "white",
           "zerolinewidth": 2
          },
          "yaxis": {
           "automargin": true,
           "gridcolor": "white",
           "linecolor": "white",
           "ticks": "",
           "title": {
            "standoff": 15
           },
           "zerolinecolor": "white",
           "zerolinewidth": 2
          }
         }
        },
        "title": {
         "font": {
          "color": "#4D5663"
         }
        },
        "xaxis": {
         "gridcolor": "#E1E5ED",
         "showgrid": true,
         "tickfont": {
          "color": "#4D5663"
         },
         "title": {
          "font": {
           "color": "#4D5663"
          },
          "text": ""
         },
         "zerolinecolor": "#E1E5ED"
        },
        "yaxis": {
         "gridcolor": "#E1E5ED",
         "showgrid": true,
         "tickfont": {
          "color": "#4D5663"
         },
         "title": {
          "font": {
           "color": "#4D5663"
          },
          "text": ""
         },
         "zerolinecolor": "#E1E5ED"
        }
       }
      },
      "text/html": [
       "<div>                            <div id=\"ffaaef1f-3d2c-45f1-a38b-55719580e8e2\" class=\"plotly-graph-div\" style=\"height:525px; width:100%;\"></div>            <script type=\"text/javascript\">                require([\"plotly\"], function(Plotly) {                    window.PLOTLYENV=window.PLOTLYENV || {};\n",
       "                    window.PLOTLYENV.BASE_URL='https://plot.ly';                                    if (document.getElementById(\"ffaaef1f-3d2c-45f1-a38b-55719580e8e2\")) {                    Plotly.newPlot(                        \"ffaaef1f-3d2c-45f1-a38b-55719580e8e2\",                        [{\"line\":{\"color\":\"rgba(255, 153, 51, 1.0)\",\"dash\":\"solid\",\"shape\":\"linear\",\"width\":1.3},\"mode\":\"lines\",\"name\":\"A\",\"text\":\"\",\"x\":[0,1,2,3,4,5,6,7,8,9,10,11,12,13,14,15,16,17,18,19,20,21,22,23,24,25,26,27,28,29,30,31,32,33,34,35,36,37,38,39,40,41,42,43,44,45,46,47,48,49,50,51,52,53,54,55,56,57,58,59,60,61,62,63,64,65,66,67,68,69,70,71,72,73,74,75,76,77,78,79,80,81,82,83,84,85,86,87,88,89,90,91,92,93,94,95,96,97,98,99],\"y\":[3.3625825147031634,-0.6885621495157169,0.5149951992086972,-0.4976600607971672,1.3129178129369143,1.259037760305938,-0.8205591484786454,-0.2888956899883146,-0.09602816876888236,-0.9613950050487399,0.19756992435357082,-2.010039225046455,-0.7479232977395808,1.947999686378811,-1.300068284850122,0.8562782186572203,-0.8554492701360895,-0.4206993361270417,0.17322463597602866,-0.47160211461434376,0.565677357194077,-0.6594632474857488,1.7551221205900165,0.7357358194208311,-1.1591709602449005,-0.05419091582379508,-0.36257185525324137,1.4349669783777106,-0.5661528981377684,-0.407032366454418,0.22755126025017564,0.8257857482311864,0.27076051378642957,-0.46987215853669007,-0.6260892978035598,-0.14422154840098403,0.06729047029481175,-0.7538901577971123,-0.16372387540641004,-1.5306935620588862,1.7378715409320646,1.8728785308476077,-0.22596064971310095,0.19265357626344148,1.3095974819986245,-0.8467226757105627,-0.47588441755457705,0.8436192849298026,-1.0696497054771597,-0.29246972729030885,-0.5072696949324063,-1.804060391633852,0.41463973873286825,-0.06065342496772562,-1.2132110689335833,-0.1869364025887339,0.7239663414003534,-0.03198459252341648,0.9917197143234533,0.4124466650325076,-0.6198057419680839,-0.27086068891135073,-1.6085151157707147,-0.5886897832373408,-2.03889655784642,-0.08269100136583725,-0.2998182776646363,0.7537301596831394,-0.5572938977691413,0.2816574459013314,0.12511549492515286,-1.1520414977821023,-1.6077418183548926,0.12518543876338792,-0.17240992239466557,-0.29687603356526354,-0.538488421711546,1.011892155339132,0.5242967165890116,0.37788940477311916,1.3818585203086495,1.3322459158616347,1.3491805785283302,0.260837473417611,0.9770174853395498,-0.417469144514007,0.2532052106744681,-1.418974713556114,-1.304961959687015,-0.7850198786305627,-2.637960154783843,-0.702041364600879,0.2929621979386714,-0.31570510433110843,-0.2629023198827632,0.19022263715975085,0.6217882134487541,-0.2991271853655061,1.0088878670316135,-1.6952584120476268],\"type\":\"scatter\"},{\"line\":{\"color\":\"rgba(55, 128, 191, 1.0)\",\"dash\":\"solid\",\"shape\":\"linear\",\"width\":1.3},\"mode\":\"lines\",\"name\":\"B\",\"text\":\"\",\"x\":[0,1,2,3,4,5,6,7,8,9,10,11,12,13,14,15,16,17,18,19,20,21,22,23,24,25,26,27,28,29,30,31,32,33,34,35,36,37,38,39,40,41,42,43,44,45,46,47,48,49,50,51,52,53,54,55,56,57,58,59,60,61,62,63,64,65,66,67,68,69,70,71,72,73,74,75,76,77,78,79,80,81,82,83,84,85,86,87,88,89,90,91,92,93,94,95,96,97,98,99],\"y\":[-0.09869980248667033,2.03726652741454,1.4394828771486599,1.8697131285068431,-0.5548997790378658,-0.6217206439491961,-0.689074198736593,-0.06741428706327046,1.7098599778074983,-0.4176920959973648,2.168907375948452,-0.4880158437300923,0.27498240917764155,0.08170163057623107,-0.03384861897299663,1.647092749347639,0.15860105398020632,0.059442598251813514,-0.5762077458563473,1.4150104934559853,-0.5749855002518763,-0.546415696315059,-1.5240091166445844,-0.9241042955106828,-1.9699502760010996,-0.6245600967739037,0.46518656287393384,-0.5218551564845291,0.2791729390951336,0.38578951337570555,0.39588598472909636,-0.7255379856229528,-0.56042666640254,-0.6027380454238817,0.06544925823079883,0.0977013071597415,0.2884822951944402,0.01713950529145413,-0.6866144000900855,-0.7898794564866739,0.10855608206827938,-0.22219683727590325,0.8283900308964371,-0.22510174689080045,0.08635559723721953,0.5335960581183034,0.37052671554643235,-0.570615537939435,0.2934992940562579,0.35328262839809565,-0.504249051160435,-1.9841088941570533,0.16468981598788138,-0.457678976262291,-0.4458065995793777,-0.6009038322071909,1.081394434790141,-0.32228195363254253,-0.2734324040026059,-0.11560060379954049,-1.145759112427046,-0.11539531430117402,0.32766295593105765,-0.373990881876142,-1.8553040836366972,0.41643076492351705,0.8492089009344047,-0.7965102060113378,2.036714812577297,0.21979935049899096,-1.1294971239943814,0.15636794398823822,0.19528867658492846,-0.664078836346772,0.29684278242568446,-0.8367625226528052,0.7616986595793469,1.855823984151398,-1.133439152106387,-0.8195629205557495,-0.46718347774595076,0.9486061350544259,-0.07737115781296872,-0.42174556204453584,1.6477605761097094,0.382673801536673,1.0452339650064126,-1.2834000440096809,0.8211643104999973,2.0187466797608917,0.03507192302206712,-1.290810831468579,0.7469538642891566,-0.7722379464065471,-0.7828371849281098,-0.7157909433349646,1.0350233315650033,0.34197577939435325,-0.20965832848228794,0.33295144312351205],\"type\":\"scatter\"},{\"line\":{\"color\":\"rgba(50, 171, 96, 1.0)\",\"dash\":\"solid\",\"shape\":\"linear\",\"width\":1.3},\"mode\":\"lines\",\"name\":\"C\",\"text\":\"\",\"x\":[0,1,2,3,4,5,6,7,8,9,10,11,12,13,14,15,16,17,18,19,20,21,22,23,24,25,26,27,28,29,30,31,32,33,34,35,36,37,38,39,40,41,42,43,44,45,46,47,48,49,50,51,52,53,54,55,56,57,58,59,60,61,62,63,64,65,66,67,68,69,70,71,72,73,74,75,76,77,78,79,80,81,82,83,84,85,86,87,88,89,90,91,92,93,94,95,96,97,98,99],\"y\":[-0.03871432534083431,0.8115707952131627,-0.17665423819459455,1.3466930613339523,-0.7096242874361512,0.5827954368056582,0.46518279753224095,-1.5660683477890591,-0.33199610826936693,-0.4744363313695482,1.4711440122729522,-0.003955344986920965,0.0562545380152191,0.15362277115179548,-0.36353528708391786,-0.012124866275137487,-0.20009491093416557,0.9614757069810966,0.7697978672912913,-0.23742915591891228,0.9725222749061871,0.41582536826645344,-1.0625242653194664,-0.7900579467789591,-0.6818934981943373,-0.13917048218982198,-0.3541996772670713,-0.8213352921077302,-0.07126063095007504,-0.26033422049286276,-0.5289646963018059,-0.43873497104461107,-0.45044738503422543,0.7478128184341659,0.6641194392583254,-0.979094314437018,-1.119399923453585,-1.5594785503686877,0.7599857788414909,-1.9097517568392404,-1.9468678465506883,0.5218375682681676,-1.0396394039937231,1.1276287199659947,-1.184342666394064,0.022131779564743076,-0.3201532437258341,-0.19702044383341424,-0.3758894766712151,0.05237384319038519,1.5172743804134299,2.4247879322619643,-0.9755230759676465,1.012608550719346,-1.290639386572514,-0.17154180805176894,0.7087889536846921,0.16864636263787605,-0.1312296598447758,0.7305408215857765,-1.3689031206003062,0.22090233284189276,1.3597780697136148,0.9944818070429114,0.6964499854986963,0.6745445328562419,-0.6662469380254723,-1.0174720887610438,0.2300492223012016,-0.036954874906627216,-0.726688304201755,-1.0211999418778872,1.0250471207567862,0.21183444445887054,0.37261079372522277,0.5822324112944044,-0.22929439516700795,0.2480386641167231,0.5643644796350337,0.9750637011146529,-0.18448805836167542,1.0717767289630435,2.0980105239450886,0.38372361927407656,-0.004206138482686182,-0.13370915390265514,0.16589187268661165,0.47628847080812187,0.704925336787344,0.12372473894611717,0.15210545578859208,-0.9406035775255597,-0.226907080030317,0.2499324277887329,-1.5170304489877942,1.2639490310851944,-0.516687512771716,2.305904708755523,-1.3952138991015384,0.630778993152211],\"type\":\"scatter\"},{\"line\":{\"color\":\"rgba(128, 0, 128, 1.0)\",\"dash\":\"solid\",\"shape\":\"linear\",\"width\":1.3},\"mode\":\"lines\",\"name\":\"D\",\"text\":\"\",\"x\":[0,1,2,3,4,5,6,7,8,9,10,11,12,13,14,15,16,17,18,19,20,21,22,23,24,25,26,27,28,29,30,31,32,33,34,35,36,37,38,39,40,41,42,43,44,45,46,47,48,49,50,51,52,53,54,55,56,57,58,59,60,61,62,63,64,65,66,67,68,69,70,71,72,73,74,75,76,77,78,79,80,81,82,83,84,85,86,87,88,89,90,91,92,93,94,95,96,97,98,99],\"y\":[-0.2610754490700943,-0.31274259932016485,-0.05195486783740825,-0.6363720505501187,0.26403720932684455,-0.670878971050256,0.35306264868315396,-1.4766036084490375,-1.0570360760952613,-0.5716289462859565,0.5996025660857952,0.6669472548117814,-0.20190710037508552,0.6591484959562992,0.3007018794461643,-2.3269309002298684,-0.45564726513007425,0.31412461514473483,1.5775316971860345,-0.20816830651970206,1.0992586180529906,1.2482324665607225,0.5963441305128984,0.6759383135148479,-0.31391325666451225,1.20331051531392,-1.1189113149477334,0.04340009025224424,-0.5873078097584103,-1.7395764773201399,1.7318829844673942,-1.8582286156354608,0.2102896767181078,0.036038219215623425,1.7315528329827625,-0.23751896821776966,-1.2619041772231365,-0.4209939529770629,0.6444023091948922,-0.12611657156977105,-0.8679107790133433,-1.2941016753923553,0.14594471207322482,-1.0981622210575677,-0.08624722509148783,-0.5531726942858656,1.3258006005289427,-0.5239864957809007,0.09995128771691131,2.10208730930389,-0.6752478145794528,-0.3840445714707245,-0.1372520446980467,0.3886173501207647,1.2332964234722699,1.4381637163220384,-0.25764043429119016,-0.9842129074651307,-0.13624389171313364,-1.2929703628833762,-0.21066150761967375,-1.0517433412117014,0.12062324844287063,1.2927129194575222,-0.7835829494349476,-0.7570704661624947,-1.161275272484911,-0.6580589800179951,0.4574163292136516,0.9282633619209005,1.2361508560233534,1.6358461396414072,-0.3275027468944334,0.4715100581108882,0.1900867796549248,0.9503595438312736,0.2846599033154163,0.7838010808747881,-0.6215426494588088,-2.5585283098605864,2.792906821685706,-0.21163724717237037,-0.799844955740187,-0.12841497548761696,1.643525322798787,0.6669179707736347,-2.071559206824266,0.8811338533173473,-2.0193879616140107,-1.9139249417279494,0.9818762536192873,-0.14457914752721937,-0.1019202571490361,-0.10167892581764211,1.2887099889784408,0.7911773663583078,-1.0221485430858486,-0.47387097215670204,-0.20350765600332388,-0.13150023481557147],\"type\":\"scatter\"}],                        {\"legend\":{\"bgcolor\":\"#F5F6F9\",\"font\":{\"color\":\"#4D5663\"}},\"paper_bgcolor\":\"#F5F6F9\",\"plot_bgcolor\":\"#F5F6F9\",\"template\":{\"data\":{\"barpolar\":[{\"marker\":{\"line\":{\"color\":\"#E5ECF6\",\"width\":0.5},\"pattern\":{\"fillmode\":\"overlay\",\"size\":10,\"solidity\":0.2}},\"type\":\"barpolar\"}],\"bar\":[{\"error_x\":{\"color\":\"#2a3f5f\"},\"error_y\":{\"color\":\"#2a3f5f\"},\"marker\":{\"line\":{\"color\":\"#E5ECF6\",\"width\":0.5},\"pattern\":{\"fillmode\":\"overlay\",\"size\":10,\"solidity\":0.2}},\"type\":\"bar\"}],\"carpet\":[{\"aaxis\":{\"endlinecolor\":\"#2a3f5f\",\"gridcolor\":\"white\",\"linecolor\":\"white\",\"minorgridcolor\":\"white\",\"startlinecolor\":\"#2a3f5f\"},\"baxis\":{\"endlinecolor\":\"#2a3f5f\",\"gridcolor\":\"white\",\"linecolor\":\"white\",\"minorgridcolor\":\"white\",\"startlinecolor\":\"#2a3f5f\"},\"type\":\"carpet\"}],\"choropleth\":[{\"colorbar\":{\"outlinewidth\":0,\"ticks\":\"\"},\"type\":\"choropleth\"}],\"contourcarpet\":[{\"colorbar\":{\"outlinewidth\":0,\"ticks\":\"\"},\"type\":\"contourcarpet\"}],\"contour\":[{\"colorbar\":{\"outlinewidth\":0,\"ticks\":\"\"},\"colorscale\":[[0.0,\"#0d0887\"],[0.1111111111111111,\"#46039f\"],[0.2222222222222222,\"#7201a8\"],[0.3333333333333333,\"#9c179e\"],[0.4444444444444444,\"#bd3786\"],[0.5555555555555556,\"#d8576b\"],[0.6666666666666666,\"#ed7953\"],[0.7777777777777778,\"#fb9f3a\"],[0.8888888888888888,\"#fdca26\"],[1.0,\"#f0f921\"]],\"type\":\"contour\"}],\"heatmapgl\":[{\"colorbar\":{\"outlinewidth\":0,\"ticks\":\"\"},\"colorscale\":[[0.0,\"#0d0887\"],[0.1111111111111111,\"#46039f\"],[0.2222222222222222,\"#7201a8\"],[0.3333333333333333,\"#9c179e\"],[0.4444444444444444,\"#bd3786\"],[0.5555555555555556,\"#d8576b\"],[0.6666666666666666,\"#ed7953\"],[0.7777777777777778,\"#fb9f3a\"],[0.8888888888888888,\"#fdca26\"],[1.0,\"#f0f921\"]],\"type\":\"heatmapgl\"}],\"heatmap\":[{\"colorbar\":{\"outlinewidth\":0,\"ticks\":\"\"},\"colorscale\":[[0.0,\"#0d0887\"],[0.1111111111111111,\"#46039f\"],[0.2222222222222222,\"#7201a8\"],[0.3333333333333333,\"#9c179e\"],[0.4444444444444444,\"#bd3786\"],[0.5555555555555556,\"#d8576b\"],[0.6666666666666666,\"#ed7953\"],[0.7777777777777778,\"#fb9f3a\"],[0.8888888888888888,\"#fdca26\"],[1.0,\"#f0f921\"]],\"type\":\"heatmap\"}],\"histogram2dcontour\":[{\"colorbar\":{\"outlinewidth\":0,\"ticks\":\"\"},\"colorscale\":[[0.0,\"#0d0887\"],[0.1111111111111111,\"#46039f\"],[0.2222222222222222,\"#7201a8\"],[0.3333333333333333,\"#9c179e\"],[0.4444444444444444,\"#bd3786\"],[0.5555555555555556,\"#d8576b\"],[0.6666666666666666,\"#ed7953\"],[0.7777777777777778,\"#fb9f3a\"],[0.8888888888888888,\"#fdca26\"],[1.0,\"#f0f921\"]],\"type\":\"histogram2dcontour\"}],\"histogram2d\":[{\"colorbar\":{\"outlinewidth\":0,\"ticks\":\"\"},\"colorscale\":[[0.0,\"#0d0887\"],[0.1111111111111111,\"#46039f\"],[0.2222222222222222,\"#7201a8\"],[0.3333333333333333,\"#9c179e\"],[0.4444444444444444,\"#bd3786\"],[0.5555555555555556,\"#d8576b\"],[0.6666666666666666,\"#ed7953\"],[0.7777777777777778,\"#fb9f3a\"],[0.8888888888888888,\"#fdca26\"],[1.0,\"#f0f921\"]],\"type\":\"histogram2d\"}],\"histogram\":[{\"marker\":{\"pattern\":{\"fillmode\":\"overlay\",\"size\":10,\"solidity\":0.2}},\"type\":\"histogram\"}],\"mesh3d\":[{\"colorbar\":{\"outlinewidth\":0,\"ticks\":\"\"},\"type\":\"mesh3d\"}],\"parcoords\":[{\"line\":{\"colorbar\":{\"outlinewidth\":0,\"ticks\":\"\"}},\"type\":\"parcoords\"}],\"pie\":[{\"automargin\":true,\"type\":\"pie\"}],\"scatter3d\":[{\"line\":{\"colorbar\":{\"outlinewidth\":0,\"ticks\":\"\"}},\"marker\":{\"colorbar\":{\"outlinewidth\":0,\"ticks\":\"\"}},\"type\":\"scatter3d\"}],\"scattercarpet\":[{\"marker\":{\"colorbar\":{\"outlinewidth\":0,\"ticks\":\"\"}},\"type\":\"scattercarpet\"}],\"scattergeo\":[{\"marker\":{\"colorbar\":{\"outlinewidth\":0,\"ticks\":\"\"}},\"type\":\"scattergeo\"}],\"scattergl\":[{\"marker\":{\"colorbar\":{\"outlinewidth\":0,\"ticks\":\"\"}},\"type\":\"scattergl\"}],\"scattermapbox\":[{\"marker\":{\"colorbar\":{\"outlinewidth\":0,\"ticks\":\"\"}},\"type\":\"scattermapbox\"}],\"scatterpolargl\":[{\"marker\":{\"colorbar\":{\"outlinewidth\":0,\"ticks\":\"\"}},\"type\":\"scatterpolargl\"}],\"scatterpolar\":[{\"marker\":{\"colorbar\":{\"outlinewidth\":0,\"ticks\":\"\"}},\"type\":\"scatterpolar\"}],\"scatter\":[{\"marker\":{\"colorbar\":{\"outlinewidth\":0,\"ticks\":\"\"}},\"type\":\"scatter\"}],\"scatterternary\":[{\"marker\":{\"colorbar\":{\"outlinewidth\":0,\"ticks\":\"\"}},\"type\":\"scatterternary\"}],\"surface\":[{\"colorbar\":{\"outlinewidth\":0,\"ticks\":\"\"},\"colorscale\":[[0.0,\"#0d0887\"],[0.1111111111111111,\"#46039f\"],[0.2222222222222222,\"#7201a8\"],[0.3333333333333333,\"#9c179e\"],[0.4444444444444444,\"#bd3786\"],[0.5555555555555556,\"#d8576b\"],[0.6666666666666666,\"#ed7953\"],[0.7777777777777778,\"#fb9f3a\"],[0.8888888888888888,\"#fdca26\"],[1.0,\"#f0f921\"]],\"type\":\"surface\"}],\"table\":[{\"cells\":{\"fill\":{\"color\":\"#EBF0F8\"},\"line\":{\"color\":\"white\"}},\"header\":{\"fill\":{\"color\":\"#C8D4E3\"},\"line\":{\"color\":\"white\"}},\"type\":\"table\"}]},\"layout\":{\"annotationdefaults\":{\"arrowcolor\":\"#2a3f5f\",\"arrowhead\":0,\"arrowwidth\":1},\"autotypenumbers\":\"strict\",\"coloraxis\":{\"colorbar\":{\"outlinewidth\":0,\"ticks\":\"\"}},\"colorscale\":{\"diverging\":[[0,\"#8e0152\"],[0.1,\"#c51b7d\"],[0.2,\"#de77ae\"],[0.3,\"#f1b6da\"],[0.4,\"#fde0ef\"],[0.5,\"#f7f7f7\"],[0.6,\"#e6f5d0\"],[0.7,\"#b8e186\"],[0.8,\"#7fbc41\"],[0.9,\"#4d9221\"],[1,\"#276419\"]],\"sequential\":[[0.0,\"#0d0887\"],[0.1111111111111111,\"#46039f\"],[0.2222222222222222,\"#7201a8\"],[0.3333333333333333,\"#9c179e\"],[0.4444444444444444,\"#bd3786\"],[0.5555555555555556,\"#d8576b\"],[0.6666666666666666,\"#ed7953\"],[0.7777777777777778,\"#fb9f3a\"],[0.8888888888888888,\"#fdca26\"],[1.0,\"#f0f921\"]],\"sequentialminus\":[[0.0,\"#0d0887\"],[0.1111111111111111,\"#46039f\"],[0.2222222222222222,\"#7201a8\"],[0.3333333333333333,\"#9c179e\"],[0.4444444444444444,\"#bd3786\"],[0.5555555555555556,\"#d8576b\"],[0.6666666666666666,\"#ed7953\"],[0.7777777777777778,\"#fb9f3a\"],[0.8888888888888888,\"#fdca26\"],[1.0,\"#f0f921\"]]},\"colorway\":[\"#636efa\",\"#EF553B\",\"#00cc96\",\"#ab63fa\",\"#FFA15A\",\"#19d3f3\",\"#FF6692\",\"#B6E880\",\"#FF97FF\",\"#FECB52\"],\"font\":{\"color\":\"#2a3f5f\"},\"geo\":{\"bgcolor\":\"white\",\"lakecolor\":\"white\",\"landcolor\":\"#E5ECF6\",\"showlakes\":true,\"showland\":true,\"subunitcolor\":\"white\"},\"hoverlabel\":{\"align\":\"left\"},\"hovermode\":\"closest\",\"mapbox\":{\"style\":\"light\"},\"paper_bgcolor\":\"white\",\"plot_bgcolor\":\"#E5ECF6\",\"polar\":{\"angularaxis\":{\"gridcolor\":\"white\",\"linecolor\":\"white\",\"ticks\":\"\"},\"bgcolor\":\"#E5ECF6\",\"radialaxis\":{\"gridcolor\":\"white\",\"linecolor\":\"white\",\"ticks\":\"\"}},\"scene\":{\"xaxis\":{\"backgroundcolor\":\"#E5ECF6\",\"gridcolor\":\"white\",\"gridwidth\":2,\"linecolor\":\"white\",\"showbackground\":true,\"ticks\":\"\",\"zerolinecolor\":\"white\"},\"yaxis\":{\"backgroundcolor\":\"#E5ECF6\",\"gridcolor\":\"white\",\"gridwidth\":2,\"linecolor\":\"white\",\"showbackground\":true,\"ticks\":\"\",\"zerolinecolor\":\"white\"},\"zaxis\":{\"backgroundcolor\":\"#E5ECF6\",\"gridcolor\":\"white\",\"gridwidth\":2,\"linecolor\":\"white\",\"showbackground\":true,\"ticks\":\"\",\"zerolinecolor\":\"white\"}},\"shapedefaults\":{\"line\":{\"color\":\"#2a3f5f\"}},\"ternary\":{\"aaxis\":{\"gridcolor\":\"white\",\"linecolor\":\"white\",\"ticks\":\"\"},\"baxis\":{\"gridcolor\":\"white\",\"linecolor\":\"white\",\"ticks\":\"\"},\"bgcolor\":\"#E5ECF6\",\"caxis\":{\"gridcolor\":\"white\",\"linecolor\":\"white\",\"ticks\":\"\"}},\"title\":{\"x\":0.05},\"xaxis\":{\"automargin\":true,\"gridcolor\":\"white\",\"linecolor\":\"white\",\"ticks\":\"\",\"title\":{\"standoff\":15},\"zerolinecolor\":\"white\",\"zerolinewidth\":2},\"yaxis\":{\"automargin\":true,\"gridcolor\":\"white\",\"linecolor\":\"white\",\"ticks\":\"\",\"title\":{\"standoff\":15},\"zerolinecolor\":\"white\",\"zerolinewidth\":2}}},\"title\":{\"font\":{\"color\":\"#4D5663\"}},\"xaxis\":{\"gridcolor\":\"#E1E5ED\",\"showgrid\":true,\"tickfont\":{\"color\":\"#4D5663\"},\"title\":{\"font\":{\"color\":\"#4D5663\"},\"text\":\"\"},\"zerolinecolor\":\"#E1E5ED\"},\"yaxis\":{\"gridcolor\":\"#E1E5ED\",\"showgrid\":true,\"tickfont\":{\"color\":\"#4D5663\"},\"title\":{\"font\":{\"color\":\"#4D5663\"},\"text\":\"\"},\"zerolinecolor\":\"#E1E5ED\"}},                        {\"showLink\": true, \"linkText\": \"Export to plot.ly\", \"plotlyServerURL\": \"https://plot.ly\", \"responsive\": true}                    ).then(function(){\n",
       "                            \n",
       "var gd = document.getElementById('ffaaef1f-3d2c-45f1-a38b-55719580e8e2');\n",
       "var x = new MutationObserver(function (mutations, observer) {{\n",
       "        var display = window.getComputedStyle(gd).display;\n",
       "        if (!display || display === 'none') {{\n",
       "            console.log([gd, 'removed!']);\n",
       "            Plotly.purge(gd);\n",
       "            observer.disconnect();\n",
       "        }}\n",
       "}});\n",
       "\n",
       "// Listen for the removal of the full notebook cells\n",
       "var notebookContainer = gd.closest('#notebook-container');\n",
       "if (notebookContainer) {{\n",
       "    x.observe(notebookContainer, {childList: true});\n",
       "}}\n",
       "\n",
       "// Listen for the clearing of the current output cell\n",
       "var outputEl = gd.closest('.output');\n",
       "if (outputEl) {{\n",
       "    x.observe(outputEl, {childList: true});\n",
       "}}\n",
       "\n",
       "                        })                };                });            </script>        </div>"
      ]
     },
     "metadata": {},
     "output_type": "display_data"
    }
   ],
   "source": [
    "df.iplot()"
   ]
  },
  {
   "cell_type": "markdown",
   "metadata": {
    "ExecuteTime": {
     "end_time": "2019-05-05T07:50:03.674601Z",
     "start_time": "2019-05-05T07:50:03.671609Z"
    }
   },
   "source": [
    "* Scatter, bar, heat map, box, ratio are the kinds of plots that we can do using plotly.\n",
    "## Scatter Plot"
   ]
  },
  {
   "cell_type": "code",
   "execution_count": 15,
   "metadata": {
    "ExecuteTime": {
     "end_time": "2019-05-06T16:55:33.438154Z",
     "start_time": "2019-05-06T16:55:33.363389Z"
    }
   },
   "outputs": [
    {
     "data": {
      "application/vnd.plotly.v1+json": {
       "config": {
        "linkText": "Export to plot.ly",
        "plotlyServerURL": "https://plot.ly",
        "showLink": true
       },
       "data": [
        {
         "line": {
          "color": "rgba(255, 153, 51, 1.0)",
          "dash": "solid",
          "shape": "linear",
          "width": 1.3
         },
         "mode": "lines",
         "name": "B",
         "text": "",
         "type": "scatter",
         "x": [
          3.3625825147031634,
          -0.6885621495157169,
          0.5149951992086972,
          -0.4976600607971672,
          1.3129178129369143,
          1.259037760305938,
          -0.8205591484786454,
          -0.2888956899883146,
          -0.09602816876888236,
          -0.9613950050487399,
          0.19756992435357082,
          -2.010039225046455,
          -0.7479232977395808,
          1.947999686378811,
          -1.300068284850122,
          0.8562782186572203,
          -0.8554492701360895,
          -0.4206993361270417,
          0.17322463597602866,
          -0.47160211461434376,
          0.565677357194077,
          -0.6594632474857488,
          1.7551221205900165,
          0.7357358194208311,
          -1.1591709602449005,
          -0.05419091582379508,
          -0.36257185525324137,
          1.4349669783777106,
          -0.5661528981377684,
          -0.407032366454418,
          0.22755126025017564,
          0.8257857482311864,
          0.27076051378642957,
          -0.46987215853669007,
          -0.6260892978035598,
          -0.14422154840098403,
          0.06729047029481175,
          -0.7538901577971123,
          -0.16372387540641004,
          -1.5306935620588862,
          1.7378715409320646,
          1.8728785308476077,
          -0.22596064971310095,
          0.19265357626344148,
          1.3095974819986245,
          -0.8467226757105627,
          -0.47588441755457705,
          0.8436192849298026,
          -1.0696497054771597,
          -0.29246972729030885,
          -0.5072696949324063,
          -1.804060391633852,
          0.41463973873286825,
          -0.06065342496772562,
          -1.2132110689335833,
          -0.1869364025887339,
          0.7239663414003534,
          -0.03198459252341648,
          0.9917197143234533,
          0.4124466650325076,
          -0.6198057419680839,
          -0.27086068891135073,
          -1.6085151157707147,
          -0.5886897832373408,
          -2.03889655784642,
          -0.08269100136583725,
          -0.2998182776646363,
          0.7537301596831394,
          -0.5572938977691413,
          0.2816574459013314,
          0.12511549492515286,
          -1.1520414977821023,
          -1.6077418183548926,
          0.12518543876338792,
          -0.17240992239466557,
          -0.29687603356526354,
          -0.538488421711546,
          1.011892155339132,
          0.5242967165890116,
          0.37788940477311916,
          1.3818585203086495,
          1.3322459158616347,
          1.3491805785283302,
          0.260837473417611,
          0.9770174853395498,
          -0.417469144514007,
          0.2532052106744681,
          -1.418974713556114,
          -1.304961959687015,
          -0.7850198786305627,
          -2.637960154783843,
          -0.702041364600879,
          0.2929621979386714,
          -0.31570510433110843,
          -0.2629023198827632,
          0.19022263715975085,
          0.6217882134487541,
          -0.2991271853655061,
          1.0088878670316135,
          -1.6952584120476268
         ],
         "y": [
          -0.09869980248667033,
          2.03726652741454,
          1.4394828771486599,
          1.8697131285068431,
          -0.5548997790378658,
          -0.6217206439491961,
          -0.689074198736593,
          -0.06741428706327046,
          1.7098599778074983,
          -0.4176920959973648,
          2.168907375948452,
          -0.4880158437300923,
          0.27498240917764155,
          0.08170163057623107,
          -0.03384861897299663,
          1.647092749347639,
          0.15860105398020632,
          0.059442598251813514,
          -0.5762077458563473,
          1.4150104934559853,
          -0.5749855002518763,
          -0.546415696315059,
          -1.5240091166445844,
          -0.9241042955106828,
          -1.9699502760010996,
          -0.6245600967739037,
          0.46518656287393384,
          -0.5218551564845291,
          0.2791729390951336,
          0.38578951337570555,
          0.39588598472909636,
          -0.7255379856229528,
          -0.56042666640254,
          -0.6027380454238817,
          0.06544925823079883,
          0.0977013071597415,
          0.2884822951944402,
          0.01713950529145413,
          -0.6866144000900855,
          -0.7898794564866739,
          0.10855608206827938,
          -0.22219683727590325,
          0.8283900308964371,
          -0.22510174689080045,
          0.08635559723721953,
          0.5335960581183034,
          0.37052671554643235,
          -0.570615537939435,
          0.2934992940562579,
          0.35328262839809565,
          -0.504249051160435,
          -1.9841088941570533,
          0.16468981598788138,
          -0.457678976262291,
          -0.4458065995793777,
          -0.6009038322071909,
          1.081394434790141,
          -0.32228195363254253,
          -0.2734324040026059,
          -0.11560060379954049,
          -1.145759112427046,
          -0.11539531430117402,
          0.32766295593105765,
          -0.373990881876142,
          -1.8553040836366972,
          0.41643076492351705,
          0.8492089009344047,
          -0.7965102060113378,
          2.036714812577297,
          0.21979935049899096,
          -1.1294971239943814,
          0.15636794398823822,
          0.19528867658492846,
          -0.664078836346772,
          0.29684278242568446,
          -0.8367625226528052,
          0.7616986595793469,
          1.855823984151398,
          -1.133439152106387,
          -0.8195629205557495,
          -0.46718347774595076,
          0.9486061350544259,
          -0.07737115781296872,
          -0.42174556204453584,
          1.6477605761097094,
          0.382673801536673,
          1.0452339650064126,
          -1.2834000440096809,
          0.8211643104999973,
          2.0187466797608917,
          0.03507192302206712,
          -1.290810831468579,
          0.7469538642891566,
          -0.7722379464065471,
          -0.7828371849281098,
          -0.7157909433349646,
          1.0350233315650033,
          0.34197577939435325,
          -0.20965832848228794,
          0.33295144312351205
         ]
        }
       ],
       "layout": {
        "legend": {
         "bgcolor": "#F5F6F9",
         "font": {
          "color": "#4D5663"
         }
        },
        "paper_bgcolor": "#F5F6F9",
        "plot_bgcolor": "#F5F6F9",
        "template": {
         "data": {
          "bar": [
           {
            "error_x": {
             "color": "#2a3f5f"
            },
            "error_y": {
             "color": "#2a3f5f"
            },
            "marker": {
             "line": {
              "color": "#E5ECF6",
              "width": 0.5
             },
             "pattern": {
              "fillmode": "overlay",
              "size": 10,
              "solidity": 0.2
             }
            },
            "type": "bar"
           }
          ],
          "barpolar": [
           {
            "marker": {
             "line": {
              "color": "#E5ECF6",
              "width": 0.5
             },
             "pattern": {
              "fillmode": "overlay",
              "size": 10,
              "solidity": 0.2
             }
            },
            "type": "barpolar"
           }
          ],
          "carpet": [
           {
            "aaxis": {
             "endlinecolor": "#2a3f5f",
             "gridcolor": "white",
             "linecolor": "white",
             "minorgridcolor": "white",
             "startlinecolor": "#2a3f5f"
            },
            "baxis": {
             "endlinecolor": "#2a3f5f",
             "gridcolor": "white",
             "linecolor": "white",
             "minorgridcolor": "white",
             "startlinecolor": "#2a3f5f"
            },
            "type": "carpet"
           }
          ],
          "choropleth": [
           {
            "colorbar": {
             "outlinewidth": 0,
             "ticks": ""
            },
            "type": "choropleth"
           }
          ],
          "contour": [
           {
            "colorbar": {
             "outlinewidth": 0,
             "ticks": ""
            },
            "colorscale": [
             [
              0,
              "#0d0887"
             ],
             [
              0.1111111111111111,
              "#46039f"
             ],
             [
              0.2222222222222222,
              "#7201a8"
             ],
             [
              0.3333333333333333,
              "#9c179e"
             ],
             [
              0.4444444444444444,
              "#bd3786"
             ],
             [
              0.5555555555555556,
              "#d8576b"
             ],
             [
              0.6666666666666666,
              "#ed7953"
             ],
             [
              0.7777777777777778,
              "#fb9f3a"
             ],
             [
              0.8888888888888888,
              "#fdca26"
             ],
             [
              1,
              "#f0f921"
             ]
            ],
            "type": "contour"
           }
          ],
          "contourcarpet": [
           {
            "colorbar": {
             "outlinewidth": 0,
             "ticks": ""
            },
            "type": "contourcarpet"
           }
          ],
          "heatmap": [
           {
            "colorbar": {
             "outlinewidth": 0,
             "ticks": ""
            },
            "colorscale": [
             [
              0,
              "#0d0887"
             ],
             [
              0.1111111111111111,
              "#46039f"
             ],
             [
              0.2222222222222222,
              "#7201a8"
             ],
             [
              0.3333333333333333,
              "#9c179e"
             ],
             [
              0.4444444444444444,
              "#bd3786"
             ],
             [
              0.5555555555555556,
              "#d8576b"
             ],
             [
              0.6666666666666666,
              "#ed7953"
             ],
             [
              0.7777777777777778,
              "#fb9f3a"
             ],
             [
              0.8888888888888888,
              "#fdca26"
             ],
             [
              1,
              "#f0f921"
             ]
            ],
            "type": "heatmap"
           }
          ],
          "heatmapgl": [
           {
            "colorbar": {
             "outlinewidth": 0,
             "ticks": ""
            },
            "colorscale": [
             [
              0,
              "#0d0887"
             ],
             [
              0.1111111111111111,
              "#46039f"
             ],
             [
              0.2222222222222222,
              "#7201a8"
             ],
             [
              0.3333333333333333,
              "#9c179e"
             ],
             [
              0.4444444444444444,
              "#bd3786"
             ],
             [
              0.5555555555555556,
              "#d8576b"
             ],
             [
              0.6666666666666666,
              "#ed7953"
             ],
             [
              0.7777777777777778,
              "#fb9f3a"
             ],
             [
              0.8888888888888888,
              "#fdca26"
             ],
             [
              1,
              "#f0f921"
             ]
            ],
            "type": "heatmapgl"
           }
          ],
          "histogram": [
           {
            "marker": {
             "pattern": {
              "fillmode": "overlay",
              "size": 10,
              "solidity": 0.2
             }
            },
            "type": "histogram"
           }
          ],
          "histogram2d": [
           {
            "colorbar": {
             "outlinewidth": 0,
             "ticks": ""
            },
            "colorscale": [
             [
              0,
              "#0d0887"
             ],
             [
              0.1111111111111111,
              "#46039f"
             ],
             [
              0.2222222222222222,
              "#7201a8"
             ],
             [
              0.3333333333333333,
              "#9c179e"
             ],
             [
              0.4444444444444444,
              "#bd3786"
             ],
             [
              0.5555555555555556,
              "#d8576b"
             ],
             [
              0.6666666666666666,
              "#ed7953"
             ],
             [
              0.7777777777777778,
              "#fb9f3a"
             ],
             [
              0.8888888888888888,
              "#fdca26"
             ],
             [
              1,
              "#f0f921"
             ]
            ],
            "type": "histogram2d"
           }
          ],
          "histogram2dcontour": [
           {
            "colorbar": {
             "outlinewidth": 0,
             "ticks": ""
            },
            "colorscale": [
             [
              0,
              "#0d0887"
             ],
             [
              0.1111111111111111,
              "#46039f"
             ],
             [
              0.2222222222222222,
              "#7201a8"
             ],
             [
              0.3333333333333333,
              "#9c179e"
             ],
             [
              0.4444444444444444,
              "#bd3786"
             ],
             [
              0.5555555555555556,
              "#d8576b"
             ],
             [
              0.6666666666666666,
              "#ed7953"
             ],
             [
              0.7777777777777778,
              "#fb9f3a"
             ],
             [
              0.8888888888888888,
              "#fdca26"
             ],
             [
              1,
              "#f0f921"
             ]
            ],
            "type": "histogram2dcontour"
           }
          ],
          "mesh3d": [
           {
            "colorbar": {
             "outlinewidth": 0,
             "ticks": ""
            },
            "type": "mesh3d"
           }
          ],
          "parcoords": [
           {
            "line": {
             "colorbar": {
              "outlinewidth": 0,
              "ticks": ""
             }
            },
            "type": "parcoords"
           }
          ],
          "pie": [
           {
            "automargin": true,
            "type": "pie"
           }
          ],
          "scatter": [
           {
            "marker": {
             "colorbar": {
              "outlinewidth": 0,
              "ticks": ""
             }
            },
            "type": "scatter"
           }
          ],
          "scatter3d": [
           {
            "line": {
             "colorbar": {
              "outlinewidth": 0,
              "ticks": ""
             }
            },
            "marker": {
             "colorbar": {
              "outlinewidth": 0,
              "ticks": ""
             }
            },
            "type": "scatter3d"
           }
          ],
          "scattercarpet": [
           {
            "marker": {
             "colorbar": {
              "outlinewidth": 0,
              "ticks": ""
             }
            },
            "type": "scattercarpet"
           }
          ],
          "scattergeo": [
           {
            "marker": {
             "colorbar": {
              "outlinewidth": 0,
              "ticks": ""
             }
            },
            "type": "scattergeo"
           }
          ],
          "scattergl": [
           {
            "marker": {
             "colorbar": {
              "outlinewidth": 0,
              "ticks": ""
             }
            },
            "type": "scattergl"
           }
          ],
          "scattermapbox": [
           {
            "marker": {
             "colorbar": {
              "outlinewidth": 0,
              "ticks": ""
             }
            },
            "type": "scattermapbox"
           }
          ],
          "scatterpolar": [
           {
            "marker": {
             "colorbar": {
              "outlinewidth": 0,
              "ticks": ""
             }
            },
            "type": "scatterpolar"
           }
          ],
          "scatterpolargl": [
           {
            "marker": {
             "colorbar": {
              "outlinewidth": 0,
              "ticks": ""
             }
            },
            "type": "scatterpolargl"
           }
          ],
          "scatterternary": [
           {
            "marker": {
             "colorbar": {
              "outlinewidth": 0,
              "ticks": ""
             }
            },
            "type": "scatterternary"
           }
          ],
          "surface": [
           {
            "colorbar": {
             "outlinewidth": 0,
             "ticks": ""
            },
            "colorscale": [
             [
              0,
              "#0d0887"
             ],
             [
              0.1111111111111111,
              "#46039f"
             ],
             [
              0.2222222222222222,
              "#7201a8"
             ],
             [
              0.3333333333333333,
              "#9c179e"
             ],
             [
              0.4444444444444444,
              "#bd3786"
             ],
             [
              0.5555555555555556,
              "#d8576b"
             ],
             [
              0.6666666666666666,
              "#ed7953"
             ],
             [
              0.7777777777777778,
              "#fb9f3a"
             ],
             [
              0.8888888888888888,
              "#fdca26"
             ],
             [
              1,
              "#f0f921"
             ]
            ],
            "type": "surface"
           }
          ],
          "table": [
           {
            "cells": {
             "fill": {
              "color": "#EBF0F8"
             },
             "line": {
              "color": "white"
             }
            },
            "header": {
             "fill": {
              "color": "#C8D4E3"
             },
             "line": {
              "color": "white"
             }
            },
            "type": "table"
           }
          ]
         },
         "layout": {
          "annotationdefaults": {
           "arrowcolor": "#2a3f5f",
           "arrowhead": 0,
           "arrowwidth": 1
          },
          "autotypenumbers": "strict",
          "coloraxis": {
           "colorbar": {
            "outlinewidth": 0,
            "ticks": ""
           }
          },
          "colorscale": {
           "diverging": [
            [
             0,
             "#8e0152"
            ],
            [
             0.1,
             "#c51b7d"
            ],
            [
             0.2,
             "#de77ae"
            ],
            [
             0.3,
             "#f1b6da"
            ],
            [
             0.4,
             "#fde0ef"
            ],
            [
             0.5,
             "#f7f7f7"
            ],
            [
             0.6,
             "#e6f5d0"
            ],
            [
             0.7,
             "#b8e186"
            ],
            [
             0.8,
             "#7fbc41"
            ],
            [
             0.9,
             "#4d9221"
            ],
            [
             1,
             "#276419"
            ]
           ],
           "sequential": [
            [
             0,
             "#0d0887"
            ],
            [
             0.1111111111111111,
             "#46039f"
            ],
            [
             0.2222222222222222,
             "#7201a8"
            ],
            [
             0.3333333333333333,
             "#9c179e"
            ],
            [
             0.4444444444444444,
             "#bd3786"
            ],
            [
             0.5555555555555556,
             "#d8576b"
            ],
            [
             0.6666666666666666,
             "#ed7953"
            ],
            [
             0.7777777777777778,
             "#fb9f3a"
            ],
            [
             0.8888888888888888,
             "#fdca26"
            ],
            [
             1,
             "#f0f921"
            ]
           ],
           "sequentialminus": [
            [
             0,
             "#0d0887"
            ],
            [
             0.1111111111111111,
             "#46039f"
            ],
            [
             0.2222222222222222,
             "#7201a8"
            ],
            [
             0.3333333333333333,
             "#9c179e"
            ],
            [
             0.4444444444444444,
             "#bd3786"
            ],
            [
             0.5555555555555556,
             "#d8576b"
            ],
            [
             0.6666666666666666,
             "#ed7953"
            ],
            [
             0.7777777777777778,
             "#fb9f3a"
            ],
            [
             0.8888888888888888,
             "#fdca26"
            ],
            [
             1,
             "#f0f921"
            ]
           ]
          },
          "colorway": [
           "#636efa",
           "#EF553B",
           "#00cc96",
           "#ab63fa",
           "#FFA15A",
           "#19d3f3",
           "#FF6692",
           "#B6E880",
           "#FF97FF",
           "#FECB52"
          ],
          "font": {
           "color": "#2a3f5f"
          },
          "geo": {
           "bgcolor": "white",
           "lakecolor": "white",
           "landcolor": "#E5ECF6",
           "showlakes": true,
           "showland": true,
           "subunitcolor": "white"
          },
          "hoverlabel": {
           "align": "left"
          },
          "hovermode": "closest",
          "mapbox": {
           "style": "light"
          },
          "paper_bgcolor": "white",
          "plot_bgcolor": "#E5ECF6",
          "polar": {
           "angularaxis": {
            "gridcolor": "white",
            "linecolor": "white",
            "ticks": ""
           },
           "bgcolor": "#E5ECF6",
           "radialaxis": {
            "gridcolor": "white",
            "linecolor": "white",
            "ticks": ""
           }
          },
          "scene": {
           "xaxis": {
            "backgroundcolor": "#E5ECF6",
            "gridcolor": "white",
            "gridwidth": 2,
            "linecolor": "white",
            "showbackground": true,
            "ticks": "",
            "zerolinecolor": "white"
           },
           "yaxis": {
            "backgroundcolor": "#E5ECF6",
            "gridcolor": "white",
            "gridwidth": 2,
            "linecolor": "white",
            "showbackground": true,
            "ticks": "",
            "zerolinecolor": "white"
           },
           "zaxis": {
            "backgroundcolor": "#E5ECF6",
            "gridcolor": "white",
            "gridwidth": 2,
            "linecolor": "white",
            "showbackground": true,
            "ticks": "",
            "zerolinecolor": "white"
           }
          },
          "shapedefaults": {
           "line": {
            "color": "#2a3f5f"
           }
          },
          "ternary": {
           "aaxis": {
            "gridcolor": "white",
            "linecolor": "white",
            "ticks": ""
           },
           "baxis": {
            "gridcolor": "white",
            "linecolor": "white",
            "ticks": ""
           },
           "bgcolor": "#E5ECF6",
           "caxis": {
            "gridcolor": "white",
            "linecolor": "white",
            "ticks": ""
           }
          },
          "title": {
           "x": 0.05
          },
          "xaxis": {
           "automargin": true,
           "gridcolor": "white",
           "linecolor": "white",
           "ticks": "",
           "title": {
            "standoff": 15
           },
           "zerolinecolor": "white",
           "zerolinewidth": 2
          },
          "yaxis": {
           "automargin": true,
           "gridcolor": "white",
           "linecolor": "white",
           "ticks": "",
           "title": {
            "standoff": 15
           },
           "zerolinecolor": "white",
           "zerolinewidth": 2
          }
         }
        },
        "title": {
         "font": {
          "color": "#4D5663"
         }
        },
        "xaxis": {
         "gridcolor": "#E1E5ED",
         "showgrid": true,
         "tickfont": {
          "color": "#4D5663"
         },
         "title": {
          "font": {
           "color": "#4D5663"
          },
          "text": ""
         },
         "zerolinecolor": "#E1E5ED"
        },
        "yaxis": {
         "gridcolor": "#E1E5ED",
         "showgrid": true,
         "tickfont": {
          "color": "#4D5663"
         },
         "title": {
          "font": {
           "color": "#4D5663"
          },
          "text": ""
         },
         "zerolinecolor": "#E1E5ED"
        }
       }
      },
      "text/html": [
       "<div>                            <div id=\"481cfe07-6ebd-4339-b763-f23496bf94d0\" class=\"plotly-graph-div\" style=\"height:525px; width:100%;\"></div>            <script type=\"text/javascript\">                require([\"plotly\"], function(Plotly) {                    window.PLOTLYENV=window.PLOTLYENV || {};\n",
       "                    window.PLOTLYENV.BASE_URL='https://plot.ly';                                    if (document.getElementById(\"481cfe07-6ebd-4339-b763-f23496bf94d0\")) {                    Plotly.newPlot(                        \"481cfe07-6ebd-4339-b763-f23496bf94d0\",                        [{\"line\":{\"color\":\"rgba(255, 153, 51, 1.0)\",\"dash\":\"solid\",\"shape\":\"linear\",\"width\":1.3},\"mode\":\"lines\",\"name\":\"B\",\"text\":\"\",\"x\":[3.3625825147031634,-0.6885621495157169,0.5149951992086972,-0.4976600607971672,1.3129178129369143,1.259037760305938,-0.8205591484786454,-0.2888956899883146,-0.09602816876888236,-0.9613950050487399,0.19756992435357082,-2.010039225046455,-0.7479232977395808,1.947999686378811,-1.300068284850122,0.8562782186572203,-0.8554492701360895,-0.4206993361270417,0.17322463597602866,-0.47160211461434376,0.565677357194077,-0.6594632474857488,1.7551221205900165,0.7357358194208311,-1.1591709602449005,-0.05419091582379508,-0.36257185525324137,1.4349669783777106,-0.5661528981377684,-0.407032366454418,0.22755126025017564,0.8257857482311864,0.27076051378642957,-0.46987215853669007,-0.6260892978035598,-0.14422154840098403,0.06729047029481175,-0.7538901577971123,-0.16372387540641004,-1.5306935620588862,1.7378715409320646,1.8728785308476077,-0.22596064971310095,0.19265357626344148,1.3095974819986245,-0.8467226757105627,-0.47588441755457705,0.8436192849298026,-1.0696497054771597,-0.29246972729030885,-0.5072696949324063,-1.804060391633852,0.41463973873286825,-0.06065342496772562,-1.2132110689335833,-0.1869364025887339,0.7239663414003534,-0.03198459252341648,0.9917197143234533,0.4124466650325076,-0.6198057419680839,-0.27086068891135073,-1.6085151157707147,-0.5886897832373408,-2.03889655784642,-0.08269100136583725,-0.2998182776646363,0.7537301596831394,-0.5572938977691413,0.2816574459013314,0.12511549492515286,-1.1520414977821023,-1.6077418183548926,0.12518543876338792,-0.17240992239466557,-0.29687603356526354,-0.538488421711546,1.011892155339132,0.5242967165890116,0.37788940477311916,1.3818585203086495,1.3322459158616347,1.3491805785283302,0.260837473417611,0.9770174853395498,-0.417469144514007,0.2532052106744681,-1.418974713556114,-1.304961959687015,-0.7850198786305627,-2.637960154783843,-0.702041364600879,0.2929621979386714,-0.31570510433110843,-0.2629023198827632,0.19022263715975085,0.6217882134487541,-0.2991271853655061,1.0088878670316135,-1.6952584120476268],\"y\":[-0.09869980248667033,2.03726652741454,1.4394828771486599,1.8697131285068431,-0.5548997790378658,-0.6217206439491961,-0.689074198736593,-0.06741428706327046,1.7098599778074983,-0.4176920959973648,2.168907375948452,-0.4880158437300923,0.27498240917764155,0.08170163057623107,-0.03384861897299663,1.647092749347639,0.15860105398020632,0.059442598251813514,-0.5762077458563473,1.4150104934559853,-0.5749855002518763,-0.546415696315059,-1.5240091166445844,-0.9241042955106828,-1.9699502760010996,-0.6245600967739037,0.46518656287393384,-0.5218551564845291,0.2791729390951336,0.38578951337570555,0.39588598472909636,-0.7255379856229528,-0.56042666640254,-0.6027380454238817,0.06544925823079883,0.0977013071597415,0.2884822951944402,0.01713950529145413,-0.6866144000900855,-0.7898794564866739,0.10855608206827938,-0.22219683727590325,0.8283900308964371,-0.22510174689080045,0.08635559723721953,0.5335960581183034,0.37052671554643235,-0.570615537939435,0.2934992940562579,0.35328262839809565,-0.504249051160435,-1.9841088941570533,0.16468981598788138,-0.457678976262291,-0.4458065995793777,-0.6009038322071909,1.081394434790141,-0.32228195363254253,-0.2734324040026059,-0.11560060379954049,-1.145759112427046,-0.11539531430117402,0.32766295593105765,-0.373990881876142,-1.8553040836366972,0.41643076492351705,0.8492089009344047,-0.7965102060113378,2.036714812577297,0.21979935049899096,-1.1294971239943814,0.15636794398823822,0.19528867658492846,-0.664078836346772,0.29684278242568446,-0.8367625226528052,0.7616986595793469,1.855823984151398,-1.133439152106387,-0.8195629205557495,-0.46718347774595076,0.9486061350544259,-0.07737115781296872,-0.42174556204453584,1.6477605761097094,0.382673801536673,1.0452339650064126,-1.2834000440096809,0.8211643104999973,2.0187466797608917,0.03507192302206712,-1.290810831468579,0.7469538642891566,-0.7722379464065471,-0.7828371849281098,-0.7157909433349646,1.0350233315650033,0.34197577939435325,-0.20965832848228794,0.33295144312351205],\"type\":\"scatter\"}],                        {\"legend\":{\"bgcolor\":\"#F5F6F9\",\"font\":{\"color\":\"#4D5663\"}},\"paper_bgcolor\":\"#F5F6F9\",\"plot_bgcolor\":\"#F5F6F9\",\"template\":{\"data\":{\"barpolar\":[{\"marker\":{\"line\":{\"color\":\"#E5ECF6\",\"width\":0.5},\"pattern\":{\"fillmode\":\"overlay\",\"size\":10,\"solidity\":0.2}},\"type\":\"barpolar\"}],\"bar\":[{\"error_x\":{\"color\":\"#2a3f5f\"},\"error_y\":{\"color\":\"#2a3f5f\"},\"marker\":{\"line\":{\"color\":\"#E5ECF6\",\"width\":0.5},\"pattern\":{\"fillmode\":\"overlay\",\"size\":10,\"solidity\":0.2}},\"type\":\"bar\"}],\"carpet\":[{\"aaxis\":{\"endlinecolor\":\"#2a3f5f\",\"gridcolor\":\"white\",\"linecolor\":\"white\",\"minorgridcolor\":\"white\",\"startlinecolor\":\"#2a3f5f\"},\"baxis\":{\"endlinecolor\":\"#2a3f5f\",\"gridcolor\":\"white\",\"linecolor\":\"white\",\"minorgridcolor\":\"white\",\"startlinecolor\":\"#2a3f5f\"},\"type\":\"carpet\"}],\"choropleth\":[{\"colorbar\":{\"outlinewidth\":0,\"ticks\":\"\"},\"type\":\"choropleth\"}],\"contourcarpet\":[{\"colorbar\":{\"outlinewidth\":0,\"ticks\":\"\"},\"type\":\"contourcarpet\"}],\"contour\":[{\"colorbar\":{\"outlinewidth\":0,\"ticks\":\"\"},\"colorscale\":[[0.0,\"#0d0887\"],[0.1111111111111111,\"#46039f\"],[0.2222222222222222,\"#7201a8\"],[0.3333333333333333,\"#9c179e\"],[0.4444444444444444,\"#bd3786\"],[0.5555555555555556,\"#d8576b\"],[0.6666666666666666,\"#ed7953\"],[0.7777777777777778,\"#fb9f3a\"],[0.8888888888888888,\"#fdca26\"],[1.0,\"#f0f921\"]],\"type\":\"contour\"}],\"heatmapgl\":[{\"colorbar\":{\"outlinewidth\":0,\"ticks\":\"\"},\"colorscale\":[[0.0,\"#0d0887\"],[0.1111111111111111,\"#46039f\"],[0.2222222222222222,\"#7201a8\"],[0.3333333333333333,\"#9c179e\"],[0.4444444444444444,\"#bd3786\"],[0.5555555555555556,\"#d8576b\"],[0.6666666666666666,\"#ed7953\"],[0.7777777777777778,\"#fb9f3a\"],[0.8888888888888888,\"#fdca26\"],[1.0,\"#f0f921\"]],\"type\":\"heatmapgl\"}],\"heatmap\":[{\"colorbar\":{\"outlinewidth\":0,\"ticks\":\"\"},\"colorscale\":[[0.0,\"#0d0887\"],[0.1111111111111111,\"#46039f\"],[0.2222222222222222,\"#7201a8\"],[0.3333333333333333,\"#9c179e\"],[0.4444444444444444,\"#bd3786\"],[0.5555555555555556,\"#d8576b\"],[0.6666666666666666,\"#ed7953\"],[0.7777777777777778,\"#fb9f3a\"],[0.8888888888888888,\"#fdca26\"],[1.0,\"#f0f921\"]],\"type\":\"heatmap\"}],\"histogram2dcontour\":[{\"colorbar\":{\"outlinewidth\":0,\"ticks\":\"\"},\"colorscale\":[[0.0,\"#0d0887\"],[0.1111111111111111,\"#46039f\"],[0.2222222222222222,\"#7201a8\"],[0.3333333333333333,\"#9c179e\"],[0.4444444444444444,\"#bd3786\"],[0.5555555555555556,\"#d8576b\"],[0.6666666666666666,\"#ed7953\"],[0.7777777777777778,\"#fb9f3a\"],[0.8888888888888888,\"#fdca26\"],[1.0,\"#f0f921\"]],\"type\":\"histogram2dcontour\"}],\"histogram2d\":[{\"colorbar\":{\"outlinewidth\":0,\"ticks\":\"\"},\"colorscale\":[[0.0,\"#0d0887\"],[0.1111111111111111,\"#46039f\"],[0.2222222222222222,\"#7201a8\"],[0.3333333333333333,\"#9c179e\"],[0.4444444444444444,\"#bd3786\"],[0.5555555555555556,\"#d8576b\"],[0.6666666666666666,\"#ed7953\"],[0.7777777777777778,\"#fb9f3a\"],[0.8888888888888888,\"#fdca26\"],[1.0,\"#f0f921\"]],\"type\":\"histogram2d\"}],\"histogram\":[{\"marker\":{\"pattern\":{\"fillmode\":\"overlay\",\"size\":10,\"solidity\":0.2}},\"type\":\"histogram\"}],\"mesh3d\":[{\"colorbar\":{\"outlinewidth\":0,\"ticks\":\"\"},\"type\":\"mesh3d\"}],\"parcoords\":[{\"line\":{\"colorbar\":{\"outlinewidth\":0,\"ticks\":\"\"}},\"type\":\"parcoords\"}],\"pie\":[{\"automargin\":true,\"type\":\"pie\"}],\"scatter3d\":[{\"line\":{\"colorbar\":{\"outlinewidth\":0,\"ticks\":\"\"}},\"marker\":{\"colorbar\":{\"outlinewidth\":0,\"ticks\":\"\"}},\"type\":\"scatter3d\"}],\"scattercarpet\":[{\"marker\":{\"colorbar\":{\"outlinewidth\":0,\"ticks\":\"\"}},\"type\":\"scattercarpet\"}],\"scattergeo\":[{\"marker\":{\"colorbar\":{\"outlinewidth\":0,\"ticks\":\"\"}},\"type\":\"scattergeo\"}],\"scattergl\":[{\"marker\":{\"colorbar\":{\"outlinewidth\":0,\"ticks\":\"\"}},\"type\":\"scattergl\"}],\"scattermapbox\":[{\"marker\":{\"colorbar\":{\"outlinewidth\":0,\"ticks\":\"\"}},\"type\":\"scattermapbox\"}],\"scatterpolargl\":[{\"marker\":{\"colorbar\":{\"outlinewidth\":0,\"ticks\":\"\"}},\"type\":\"scatterpolargl\"}],\"scatterpolar\":[{\"marker\":{\"colorbar\":{\"outlinewidth\":0,\"ticks\":\"\"}},\"type\":\"scatterpolar\"}],\"scatter\":[{\"marker\":{\"colorbar\":{\"outlinewidth\":0,\"ticks\":\"\"}},\"type\":\"scatter\"}],\"scatterternary\":[{\"marker\":{\"colorbar\":{\"outlinewidth\":0,\"ticks\":\"\"}},\"type\":\"scatterternary\"}],\"surface\":[{\"colorbar\":{\"outlinewidth\":0,\"ticks\":\"\"},\"colorscale\":[[0.0,\"#0d0887\"],[0.1111111111111111,\"#46039f\"],[0.2222222222222222,\"#7201a8\"],[0.3333333333333333,\"#9c179e\"],[0.4444444444444444,\"#bd3786\"],[0.5555555555555556,\"#d8576b\"],[0.6666666666666666,\"#ed7953\"],[0.7777777777777778,\"#fb9f3a\"],[0.8888888888888888,\"#fdca26\"],[1.0,\"#f0f921\"]],\"type\":\"surface\"}],\"table\":[{\"cells\":{\"fill\":{\"color\":\"#EBF0F8\"},\"line\":{\"color\":\"white\"}},\"header\":{\"fill\":{\"color\":\"#C8D4E3\"},\"line\":{\"color\":\"white\"}},\"type\":\"table\"}]},\"layout\":{\"annotationdefaults\":{\"arrowcolor\":\"#2a3f5f\",\"arrowhead\":0,\"arrowwidth\":1},\"autotypenumbers\":\"strict\",\"coloraxis\":{\"colorbar\":{\"outlinewidth\":0,\"ticks\":\"\"}},\"colorscale\":{\"diverging\":[[0,\"#8e0152\"],[0.1,\"#c51b7d\"],[0.2,\"#de77ae\"],[0.3,\"#f1b6da\"],[0.4,\"#fde0ef\"],[0.5,\"#f7f7f7\"],[0.6,\"#e6f5d0\"],[0.7,\"#b8e186\"],[0.8,\"#7fbc41\"],[0.9,\"#4d9221\"],[1,\"#276419\"]],\"sequential\":[[0.0,\"#0d0887\"],[0.1111111111111111,\"#46039f\"],[0.2222222222222222,\"#7201a8\"],[0.3333333333333333,\"#9c179e\"],[0.4444444444444444,\"#bd3786\"],[0.5555555555555556,\"#d8576b\"],[0.6666666666666666,\"#ed7953\"],[0.7777777777777778,\"#fb9f3a\"],[0.8888888888888888,\"#fdca26\"],[1.0,\"#f0f921\"]],\"sequentialminus\":[[0.0,\"#0d0887\"],[0.1111111111111111,\"#46039f\"],[0.2222222222222222,\"#7201a8\"],[0.3333333333333333,\"#9c179e\"],[0.4444444444444444,\"#bd3786\"],[0.5555555555555556,\"#d8576b\"],[0.6666666666666666,\"#ed7953\"],[0.7777777777777778,\"#fb9f3a\"],[0.8888888888888888,\"#fdca26\"],[1.0,\"#f0f921\"]]},\"colorway\":[\"#636efa\",\"#EF553B\",\"#00cc96\",\"#ab63fa\",\"#FFA15A\",\"#19d3f3\",\"#FF6692\",\"#B6E880\",\"#FF97FF\",\"#FECB52\"],\"font\":{\"color\":\"#2a3f5f\"},\"geo\":{\"bgcolor\":\"white\",\"lakecolor\":\"white\",\"landcolor\":\"#E5ECF6\",\"showlakes\":true,\"showland\":true,\"subunitcolor\":\"white\"},\"hoverlabel\":{\"align\":\"left\"},\"hovermode\":\"closest\",\"mapbox\":{\"style\":\"light\"},\"paper_bgcolor\":\"white\",\"plot_bgcolor\":\"#E5ECF6\",\"polar\":{\"angularaxis\":{\"gridcolor\":\"white\",\"linecolor\":\"white\",\"ticks\":\"\"},\"bgcolor\":\"#E5ECF6\",\"radialaxis\":{\"gridcolor\":\"white\",\"linecolor\":\"white\",\"ticks\":\"\"}},\"scene\":{\"xaxis\":{\"backgroundcolor\":\"#E5ECF6\",\"gridcolor\":\"white\",\"gridwidth\":2,\"linecolor\":\"white\",\"showbackground\":true,\"ticks\":\"\",\"zerolinecolor\":\"white\"},\"yaxis\":{\"backgroundcolor\":\"#E5ECF6\",\"gridcolor\":\"white\",\"gridwidth\":2,\"linecolor\":\"white\",\"showbackground\":true,\"ticks\":\"\",\"zerolinecolor\":\"white\"},\"zaxis\":{\"backgroundcolor\":\"#E5ECF6\",\"gridcolor\":\"white\",\"gridwidth\":2,\"linecolor\":\"white\",\"showbackground\":true,\"ticks\":\"\",\"zerolinecolor\":\"white\"}},\"shapedefaults\":{\"line\":{\"color\":\"#2a3f5f\"}},\"ternary\":{\"aaxis\":{\"gridcolor\":\"white\",\"linecolor\":\"white\",\"ticks\":\"\"},\"baxis\":{\"gridcolor\":\"white\",\"linecolor\":\"white\",\"ticks\":\"\"},\"bgcolor\":\"#E5ECF6\",\"caxis\":{\"gridcolor\":\"white\",\"linecolor\":\"white\",\"ticks\":\"\"}},\"title\":{\"x\":0.05},\"xaxis\":{\"automargin\":true,\"gridcolor\":\"white\",\"linecolor\":\"white\",\"ticks\":\"\",\"title\":{\"standoff\":15},\"zerolinecolor\":\"white\",\"zerolinewidth\":2},\"yaxis\":{\"automargin\":true,\"gridcolor\":\"white\",\"linecolor\":\"white\",\"ticks\":\"\",\"title\":{\"standoff\":15},\"zerolinecolor\":\"white\",\"zerolinewidth\":2}}},\"title\":{\"font\":{\"color\":\"#4D5663\"}},\"xaxis\":{\"gridcolor\":\"#E1E5ED\",\"showgrid\":true,\"tickfont\":{\"color\":\"#4D5663\"},\"title\":{\"font\":{\"color\":\"#4D5663\"},\"text\":\"\"},\"zerolinecolor\":\"#E1E5ED\"},\"yaxis\":{\"gridcolor\":\"#E1E5ED\",\"showgrid\":true,\"tickfont\":{\"color\":\"#4D5663\"},\"title\":{\"font\":{\"color\":\"#4D5663\"},\"text\":\"\"},\"zerolinecolor\":\"#E1E5ED\"}},                        {\"showLink\": true, \"linkText\": \"Export to plot.ly\", \"plotlyServerURL\": \"https://plot.ly\", \"responsive\": true}                    ).then(function(){\n",
       "                            \n",
       "var gd = document.getElementById('481cfe07-6ebd-4339-b763-f23496bf94d0');\n",
       "var x = new MutationObserver(function (mutations, observer) {{\n",
       "        var display = window.getComputedStyle(gd).display;\n",
       "        if (!display || display === 'none') {{\n",
       "            console.log([gd, 'removed!']);\n",
       "            Plotly.purge(gd);\n",
       "            observer.disconnect();\n",
       "        }}\n",
       "}});\n",
       "\n",
       "// Listen for the removal of the full notebook cells\n",
       "var notebookContainer = gd.closest('#notebook-container');\n",
       "if (notebookContainer) {{\n",
       "    x.observe(notebookContainer, {childList: true});\n",
       "}}\n",
       "\n",
       "// Listen for the clearing of the current output cell\n",
       "var outputEl = gd.closest('.output');\n",
       "if (outputEl) {{\n",
       "    x.observe(outputEl, {childList: true});\n",
       "}}\n",
       "\n",
       "                        })                };                });            </script>        </div>"
      ]
     },
     "metadata": {},
     "output_type": "display_data"
    }
   ],
   "source": [
    "df.iplot(kind='scatter',x='A',y = 'B')"
   ]
  },
  {
   "cell_type": "code",
   "execution_count": 16,
   "metadata": {
    "ExecuteTime": {
     "end_time": "2019-05-06T16:55:34.375952Z",
     "start_time": "2019-05-06T16:55:34.261205Z"
    }
   },
   "outputs": [
    {
     "data": {
      "application/vnd.plotly.v1+json": {
       "config": {
        "linkText": "Export to plot.ly",
        "plotlyServerURL": "https://plot.ly",
        "showLink": true
       },
       "data": [
        {
         "line": {
          "color": "rgba(255, 153, 51, 1.0)",
          "dash": "solid",
          "shape": "linear",
          "width": 1.3
         },
         "marker": {
          "size": 10,
          "symbol": "circle"
         },
         "mode": "markers",
         "name": "B",
         "text": "",
         "type": "scatter",
         "x": [
          3.3625825147031634,
          -0.6885621495157169,
          0.5149951992086972,
          -0.4976600607971672,
          1.3129178129369143,
          1.259037760305938,
          -0.8205591484786454,
          -0.2888956899883146,
          -0.09602816876888236,
          -0.9613950050487399,
          0.19756992435357082,
          -2.010039225046455,
          -0.7479232977395808,
          1.947999686378811,
          -1.300068284850122,
          0.8562782186572203,
          -0.8554492701360895,
          -0.4206993361270417,
          0.17322463597602866,
          -0.47160211461434376,
          0.565677357194077,
          -0.6594632474857488,
          1.7551221205900165,
          0.7357358194208311,
          -1.1591709602449005,
          -0.05419091582379508,
          -0.36257185525324137,
          1.4349669783777106,
          -0.5661528981377684,
          -0.407032366454418,
          0.22755126025017564,
          0.8257857482311864,
          0.27076051378642957,
          -0.46987215853669007,
          -0.6260892978035598,
          -0.14422154840098403,
          0.06729047029481175,
          -0.7538901577971123,
          -0.16372387540641004,
          -1.5306935620588862,
          1.7378715409320646,
          1.8728785308476077,
          -0.22596064971310095,
          0.19265357626344148,
          1.3095974819986245,
          -0.8467226757105627,
          -0.47588441755457705,
          0.8436192849298026,
          -1.0696497054771597,
          -0.29246972729030885,
          -0.5072696949324063,
          -1.804060391633852,
          0.41463973873286825,
          -0.06065342496772562,
          -1.2132110689335833,
          -0.1869364025887339,
          0.7239663414003534,
          -0.03198459252341648,
          0.9917197143234533,
          0.4124466650325076,
          -0.6198057419680839,
          -0.27086068891135073,
          -1.6085151157707147,
          -0.5886897832373408,
          -2.03889655784642,
          -0.08269100136583725,
          -0.2998182776646363,
          0.7537301596831394,
          -0.5572938977691413,
          0.2816574459013314,
          0.12511549492515286,
          -1.1520414977821023,
          -1.6077418183548926,
          0.12518543876338792,
          -0.17240992239466557,
          -0.29687603356526354,
          -0.538488421711546,
          1.011892155339132,
          0.5242967165890116,
          0.37788940477311916,
          1.3818585203086495,
          1.3322459158616347,
          1.3491805785283302,
          0.260837473417611,
          0.9770174853395498,
          -0.417469144514007,
          0.2532052106744681,
          -1.418974713556114,
          -1.304961959687015,
          -0.7850198786305627,
          -2.637960154783843,
          -0.702041364600879,
          0.2929621979386714,
          -0.31570510433110843,
          -0.2629023198827632,
          0.19022263715975085,
          0.6217882134487541,
          -0.2991271853655061,
          1.0088878670316135,
          -1.6952584120476268
         ],
         "y": [
          -0.09869980248667033,
          2.03726652741454,
          1.4394828771486599,
          1.8697131285068431,
          -0.5548997790378658,
          -0.6217206439491961,
          -0.689074198736593,
          -0.06741428706327046,
          1.7098599778074983,
          -0.4176920959973648,
          2.168907375948452,
          -0.4880158437300923,
          0.27498240917764155,
          0.08170163057623107,
          -0.03384861897299663,
          1.647092749347639,
          0.15860105398020632,
          0.059442598251813514,
          -0.5762077458563473,
          1.4150104934559853,
          -0.5749855002518763,
          -0.546415696315059,
          -1.5240091166445844,
          -0.9241042955106828,
          -1.9699502760010996,
          -0.6245600967739037,
          0.46518656287393384,
          -0.5218551564845291,
          0.2791729390951336,
          0.38578951337570555,
          0.39588598472909636,
          -0.7255379856229528,
          -0.56042666640254,
          -0.6027380454238817,
          0.06544925823079883,
          0.0977013071597415,
          0.2884822951944402,
          0.01713950529145413,
          -0.6866144000900855,
          -0.7898794564866739,
          0.10855608206827938,
          -0.22219683727590325,
          0.8283900308964371,
          -0.22510174689080045,
          0.08635559723721953,
          0.5335960581183034,
          0.37052671554643235,
          -0.570615537939435,
          0.2934992940562579,
          0.35328262839809565,
          -0.504249051160435,
          -1.9841088941570533,
          0.16468981598788138,
          -0.457678976262291,
          -0.4458065995793777,
          -0.6009038322071909,
          1.081394434790141,
          -0.32228195363254253,
          -0.2734324040026059,
          -0.11560060379954049,
          -1.145759112427046,
          -0.11539531430117402,
          0.32766295593105765,
          -0.373990881876142,
          -1.8553040836366972,
          0.41643076492351705,
          0.8492089009344047,
          -0.7965102060113378,
          2.036714812577297,
          0.21979935049899096,
          -1.1294971239943814,
          0.15636794398823822,
          0.19528867658492846,
          -0.664078836346772,
          0.29684278242568446,
          -0.8367625226528052,
          0.7616986595793469,
          1.855823984151398,
          -1.133439152106387,
          -0.8195629205557495,
          -0.46718347774595076,
          0.9486061350544259,
          -0.07737115781296872,
          -0.42174556204453584,
          1.6477605761097094,
          0.382673801536673,
          1.0452339650064126,
          -1.2834000440096809,
          0.8211643104999973,
          2.0187466797608917,
          0.03507192302206712,
          -1.290810831468579,
          0.7469538642891566,
          -0.7722379464065471,
          -0.7828371849281098,
          -0.7157909433349646,
          1.0350233315650033,
          0.34197577939435325,
          -0.20965832848228794,
          0.33295144312351205
         ]
        }
       ],
       "layout": {
        "legend": {
         "bgcolor": "#F5F6F9",
         "font": {
          "color": "#4D5663"
         }
        },
        "paper_bgcolor": "#F5F6F9",
        "plot_bgcolor": "#F5F6F9",
        "template": {
         "data": {
          "bar": [
           {
            "error_x": {
             "color": "#2a3f5f"
            },
            "error_y": {
             "color": "#2a3f5f"
            },
            "marker": {
             "line": {
              "color": "#E5ECF6",
              "width": 0.5
             },
             "pattern": {
              "fillmode": "overlay",
              "size": 10,
              "solidity": 0.2
             }
            },
            "type": "bar"
           }
          ],
          "barpolar": [
           {
            "marker": {
             "line": {
              "color": "#E5ECF6",
              "width": 0.5
             },
             "pattern": {
              "fillmode": "overlay",
              "size": 10,
              "solidity": 0.2
             }
            },
            "type": "barpolar"
           }
          ],
          "carpet": [
           {
            "aaxis": {
             "endlinecolor": "#2a3f5f",
             "gridcolor": "white",
             "linecolor": "white",
             "minorgridcolor": "white",
             "startlinecolor": "#2a3f5f"
            },
            "baxis": {
             "endlinecolor": "#2a3f5f",
             "gridcolor": "white",
             "linecolor": "white",
             "minorgridcolor": "white",
             "startlinecolor": "#2a3f5f"
            },
            "type": "carpet"
           }
          ],
          "choropleth": [
           {
            "colorbar": {
             "outlinewidth": 0,
             "ticks": ""
            },
            "type": "choropleth"
           }
          ],
          "contour": [
           {
            "colorbar": {
             "outlinewidth": 0,
             "ticks": ""
            },
            "colorscale": [
             [
              0,
              "#0d0887"
             ],
             [
              0.1111111111111111,
              "#46039f"
             ],
             [
              0.2222222222222222,
              "#7201a8"
             ],
             [
              0.3333333333333333,
              "#9c179e"
             ],
             [
              0.4444444444444444,
              "#bd3786"
             ],
             [
              0.5555555555555556,
              "#d8576b"
             ],
             [
              0.6666666666666666,
              "#ed7953"
             ],
             [
              0.7777777777777778,
              "#fb9f3a"
             ],
             [
              0.8888888888888888,
              "#fdca26"
             ],
             [
              1,
              "#f0f921"
             ]
            ],
            "type": "contour"
           }
          ],
          "contourcarpet": [
           {
            "colorbar": {
             "outlinewidth": 0,
             "ticks": ""
            },
            "type": "contourcarpet"
           }
          ],
          "heatmap": [
           {
            "colorbar": {
             "outlinewidth": 0,
             "ticks": ""
            },
            "colorscale": [
             [
              0,
              "#0d0887"
             ],
             [
              0.1111111111111111,
              "#46039f"
             ],
             [
              0.2222222222222222,
              "#7201a8"
             ],
             [
              0.3333333333333333,
              "#9c179e"
             ],
             [
              0.4444444444444444,
              "#bd3786"
             ],
             [
              0.5555555555555556,
              "#d8576b"
             ],
             [
              0.6666666666666666,
              "#ed7953"
             ],
             [
              0.7777777777777778,
              "#fb9f3a"
             ],
             [
              0.8888888888888888,
              "#fdca26"
             ],
             [
              1,
              "#f0f921"
             ]
            ],
            "type": "heatmap"
           }
          ],
          "heatmapgl": [
           {
            "colorbar": {
             "outlinewidth": 0,
             "ticks": ""
            },
            "colorscale": [
             [
              0,
              "#0d0887"
             ],
             [
              0.1111111111111111,
              "#46039f"
             ],
             [
              0.2222222222222222,
              "#7201a8"
             ],
             [
              0.3333333333333333,
              "#9c179e"
             ],
             [
              0.4444444444444444,
              "#bd3786"
             ],
             [
              0.5555555555555556,
              "#d8576b"
             ],
             [
              0.6666666666666666,
              "#ed7953"
             ],
             [
              0.7777777777777778,
              "#fb9f3a"
             ],
             [
              0.8888888888888888,
              "#fdca26"
             ],
             [
              1,
              "#f0f921"
             ]
            ],
            "type": "heatmapgl"
           }
          ],
          "histogram": [
           {
            "marker": {
             "pattern": {
              "fillmode": "overlay",
              "size": 10,
              "solidity": 0.2
             }
            },
            "type": "histogram"
           }
          ],
          "histogram2d": [
           {
            "colorbar": {
             "outlinewidth": 0,
             "ticks": ""
            },
            "colorscale": [
             [
              0,
              "#0d0887"
             ],
             [
              0.1111111111111111,
              "#46039f"
             ],
             [
              0.2222222222222222,
              "#7201a8"
             ],
             [
              0.3333333333333333,
              "#9c179e"
             ],
             [
              0.4444444444444444,
              "#bd3786"
             ],
             [
              0.5555555555555556,
              "#d8576b"
             ],
             [
              0.6666666666666666,
              "#ed7953"
             ],
             [
              0.7777777777777778,
              "#fb9f3a"
             ],
             [
              0.8888888888888888,
              "#fdca26"
             ],
             [
              1,
              "#f0f921"
             ]
            ],
            "type": "histogram2d"
           }
          ],
          "histogram2dcontour": [
           {
            "colorbar": {
             "outlinewidth": 0,
             "ticks": ""
            },
            "colorscale": [
             [
              0,
              "#0d0887"
             ],
             [
              0.1111111111111111,
              "#46039f"
             ],
             [
              0.2222222222222222,
              "#7201a8"
             ],
             [
              0.3333333333333333,
              "#9c179e"
             ],
             [
              0.4444444444444444,
              "#bd3786"
             ],
             [
              0.5555555555555556,
              "#d8576b"
             ],
             [
              0.6666666666666666,
              "#ed7953"
             ],
             [
              0.7777777777777778,
              "#fb9f3a"
             ],
             [
              0.8888888888888888,
              "#fdca26"
             ],
             [
              1,
              "#f0f921"
             ]
            ],
            "type": "histogram2dcontour"
           }
          ],
          "mesh3d": [
           {
            "colorbar": {
             "outlinewidth": 0,
             "ticks": ""
            },
            "type": "mesh3d"
           }
          ],
          "parcoords": [
           {
            "line": {
             "colorbar": {
              "outlinewidth": 0,
              "ticks": ""
             }
            },
            "type": "parcoords"
           }
          ],
          "pie": [
           {
            "automargin": true,
            "type": "pie"
           }
          ],
          "scatter": [
           {
            "marker": {
             "colorbar": {
              "outlinewidth": 0,
              "ticks": ""
             }
            },
            "type": "scatter"
           }
          ],
          "scatter3d": [
           {
            "line": {
             "colorbar": {
              "outlinewidth": 0,
              "ticks": ""
             }
            },
            "marker": {
             "colorbar": {
              "outlinewidth": 0,
              "ticks": ""
             }
            },
            "type": "scatter3d"
           }
          ],
          "scattercarpet": [
           {
            "marker": {
             "colorbar": {
              "outlinewidth": 0,
              "ticks": ""
             }
            },
            "type": "scattercarpet"
           }
          ],
          "scattergeo": [
           {
            "marker": {
             "colorbar": {
              "outlinewidth": 0,
              "ticks": ""
             }
            },
            "type": "scattergeo"
           }
          ],
          "scattergl": [
           {
            "marker": {
             "colorbar": {
              "outlinewidth": 0,
              "ticks": ""
             }
            },
            "type": "scattergl"
           }
          ],
          "scattermapbox": [
           {
            "marker": {
             "colorbar": {
              "outlinewidth": 0,
              "ticks": ""
             }
            },
            "type": "scattermapbox"
           }
          ],
          "scatterpolar": [
           {
            "marker": {
             "colorbar": {
              "outlinewidth": 0,
              "ticks": ""
             }
            },
            "type": "scatterpolar"
           }
          ],
          "scatterpolargl": [
           {
            "marker": {
             "colorbar": {
              "outlinewidth": 0,
              "ticks": ""
             }
            },
            "type": "scatterpolargl"
           }
          ],
          "scatterternary": [
           {
            "marker": {
             "colorbar": {
              "outlinewidth": 0,
              "ticks": ""
             }
            },
            "type": "scatterternary"
           }
          ],
          "surface": [
           {
            "colorbar": {
             "outlinewidth": 0,
             "ticks": ""
            },
            "colorscale": [
             [
              0,
              "#0d0887"
             ],
             [
              0.1111111111111111,
              "#46039f"
             ],
             [
              0.2222222222222222,
              "#7201a8"
             ],
             [
              0.3333333333333333,
              "#9c179e"
             ],
             [
              0.4444444444444444,
              "#bd3786"
             ],
             [
              0.5555555555555556,
              "#d8576b"
             ],
             [
              0.6666666666666666,
              "#ed7953"
             ],
             [
              0.7777777777777778,
              "#fb9f3a"
             ],
             [
              0.8888888888888888,
              "#fdca26"
             ],
             [
              1,
              "#f0f921"
             ]
            ],
            "type": "surface"
           }
          ],
          "table": [
           {
            "cells": {
             "fill": {
              "color": "#EBF0F8"
             },
             "line": {
              "color": "white"
             }
            },
            "header": {
             "fill": {
              "color": "#C8D4E3"
             },
             "line": {
              "color": "white"
             }
            },
            "type": "table"
           }
          ]
         },
         "layout": {
          "annotationdefaults": {
           "arrowcolor": "#2a3f5f",
           "arrowhead": 0,
           "arrowwidth": 1
          },
          "autotypenumbers": "strict",
          "coloraxis": {
           "colorbar": {
            "outlinewidth": 0,
            "ticks": ""
           }
          },
          "colorscale": {
           "diverging": [
            [
             0,
             "#8e0152"
            ],
            [
             0.1,
             "#c51b7d"
            ],
            [
             0.2,
             "#de77ae"
            ],
            [
             0.3,
             "#f1b6da"
            ],
            [
             0.4,
             "#fde0ef"
            ],
            [
             0.5,
             "#f7f7f7"
            ],
            [
             0.6,
             "#e6f5d0"
            ],
            [
             0.7,
             "#b8e186"
            ],
            [
             0.8,
             "#7fbc41"
            ],
            [
             0.9,
             "#4d9221"
            ],
            [
             1,
             "#276419"
            ]
           ],
           "sequential": [
            [
             0,
             "#0d0887"
            ],
            [
             0.1111111111111111,
             "#46039f"
            ],
            [
             0.2222222222222222,
             "#7201a8"
            ],
            [
             0.3333333333333333,
             "#9c179e"
            ],
            [
             0.4444444444444444,
             "#bd3786"
            ],
            [
             0.5555555555555556,
             "#d8576b"
            ],
            [
             0.6666666666666666,
             "#ed7953"
            ],
            [
             0.7777777777777778,
             "#fb9f3a"
            ],
            [
             0.8888888888888888,
             "#fdca26"
            ],
            [
             1,
             "#f0f921"
            ]
           ],
           "sequentialminus": [
            [
             0,
             "#0d0887"
            ],
            [
             0.1111111111111111,
             "#46039f"
            ],
            [
             0.2222222222222222,
             "#7201a8"
            ],
            [
             0.3333333333333333,
             "#9c179e"
            ],
            [
             0.4444444444444444,
             "#bd3786"
            ],
            [
             0.5555555555555556,
             "#d8576b"
            ],
            [
             0.6666666666666666,
             "#ed7953"
            ],
            [
             0.7777777777777778,
             "#fb9f3a"
            ],
            [
             0.8888888888888888,
             "#fdca26"
            ],
            [
             1,
             "#f0f921"
            ]
           ]
          },
          "colorway": [
           "#636efa",
           "#EF553B",
           "#00cc96",
           "#ab63fa",
           "#FFA15A",
           "#19d3f3",
           "#FF6692",
           "#B6E880",
           "#FF97FF",
           "#FECB52"
          ],
          "font": {
           "color": "#2a3f5f"
          },
          "geo": {
           "bgcolor": "white",
           "lakecolor": "white",
           "landcolor": "#E5ECF6",
           "showlakes": true,
           "showland": true,
           "subunitcolor": "white"
          },
          "hoverlabel": {
           "align": "left"
          },
          "hovermode": "closest",
          "mapbox": {
           "style": "light"
          },
          "paper_bgcolor": "white",
          "plot_bgcolor": "#E5ECF6",
          "polar": {
           "angularaxis": {
            "gridcolor": "white",
            "linecolor": "white",
            "ticks": ""
           },
           "bgcolor": "#E5ECF6",
           "radialaxis": {
            "gridcolor": "white",
            "linecolor": "white",
            "ticks": ""
           }
          },
          "scene": {
           "xaxis": {
            "backgroundcolor": "#E5ECF6",
            "gridcolor": "white",
            "gridwidth": 2,
            "linecolor": "white",
            "showbackground": true,
            "ticks": "",
            "zerolinecolor": "white"
           },
           "yaxis": {
            "backgroundcolor": "#E5ECF6",
            "gridcolor": "white",
            "gridwidth": 2,
            "linecolor": "white",
            "showbackground": true,
            "ticks": "",
            "zerolinecolor": "white"
           },
           "zaxis": {
            "backgroundcolor": "#E5ECF6",
            "gridcolor": "white",
            "gridwidth": 2,
            "linecolor": "white",
            "showbackground": true,
            "ticks": "",
            "zerolinecolor": "white"
           }
          },
          "shapedefaults": {
           "line": {
            "color": "#2a3f5f"
           }
          },
          "ternary": {
           "aaxis": {
            "gridcolor": "white",
            "linecolor": "white",
            "ticks": ""
           },
           "baxis": {
            "gridcolor": "white",
            "linecolor": "white",
            "ticks": ""
           },
           "bgcolor": "#E5ECF6",
           "caxis": {
            "gridcolor": "white",
            "linecolor": "white",
            "ticks": ""
           }
          },
          "title": {
           "x": 0.05
          },
          "xaxis": {
           "automargin": true,
           "gridcolor": "white",
           "linecolor": "white",
           "ticks": "",
           "title": {
            "standoff": 15
           },
           "zerolinecolor": "white",
           "zerolinewidth": 2
          },
          "yaxis": {
           "automargin": true,
           "gridcolor": "white",
           "linecolor": "white",
           "ticks": "",
           "title": {
            "standoff": 15
           },
           "zerolinecolor": "white",
           "zerolinewidth": 2
          }
         }
        },
        "title": {
         "font": {
          "color": "#4D5663"
         }
        },
        "xaxis": {
         "gridcolor": "#E1E5ED",
         "showgrid": true,
         "tickfont": {
          "color": "#4D5663"
         },
         "title": {
          "font": {
           "color": "#4D5663"
          },
          "text": ""
         },
         "zerolinecolor": "#E1E5ED"
        },
        "yaxis": {
         "gridcolor": "#E1E5ED",
         "showgrid": true,
         "tickfont": {
          "color": "#4D5663"
         },
         "title": {
          "font": {
           "color": "#4D5663"
          },
          "text": ""
         },
         "zerolinecolor": "#E1E5ED"
        }
       }
      },
      "text/html": [
       "<div>                            <div id=\"8e776b74-26b9-48f0-b6ce-ca3fe05e1e44\" class=\"plotly-graph-div\" style=\"height:525px; width:100%;\"></div>            <script type=\"text/javascript\">                require([\"plotly\"], function(Plotly) {                    window.PLOTLYENV=window.PLOTLYENV || {};\n",
       "                    window.PLOTLYENV.BASE_URL='https://plot.ly';                                    if (document.getElementById(\"8e776b74-26b9-48f0-b6ce-ca3fe05e1e44\")) {                    Plotly.newPlot(                        \"8e776b74-26b9-48f0-b6ce-ca3fe05e1e44\",                        [{\"line\":{\"color\":\"rgba(255, 153, 51, 1.0)\",\"dash\":\"solid\",\"shape\":\"linear\",\"width\":1.3},\"marker\":{\"size\":10,\"symbol\":\"circle\"},\"mode\":\"markers\",\"name\":\"B\",\"text\":\"\",\"x\":[3.3625825147031634,-0.6885621495157169,0.5149951992086972,-0.4976600607971672,1.3129178129369143,1.259037760305938,-0.8205591484786454,-0.2888956899883146,-0.09602816876888236,-0.9613950050487399,0.19756992435357082,-2.010039225046455,-0.7479232977395808,1.947999686378811,-1.300068284850122,0.8562782186572203,-0.8554492701360895,-0.4206993361270417,0.17322463597602866,-0.47160211461434376,0.565677357194077,-0.6594632474857488,1.7551221205900165,0.7357358194208311,-1.1591709602449005,-0.05419091582379508,-0.36257185525324137,1.4349669783777106,-0.5661528981377684,-0.407032366454418,0.22755126025017564,0.8257857482311864,0.27076051378642957,-0.46987215853669007,-0.6260892978035598,-0.14422154840098403,0.06729047029481175,-0.7538901577971123,-0.16372387540641004,-1.5306935620588862,1.7378715409320646,1.8728785308476077,-0.22596064971310095,0.19265357626344148,1.3095974819986245,-0.8467226757105627,-0.47588441755457705,0.8436192849298026,-1.0696497054771597,-0.29246972729030885,-0.5072696949324063,-1.804060391633852,0.41463973873286825,-0.06065342496772562,-1.2132110689335833,-0.1869364025887339,0.7239663414003534,-0.03198459252341648,0.9917197143234533,0.4124466650325076,-0.6198057419680839,-0.27086068891135073,-1.6085151157707147,-0.5886897832373408,-2.03889655784642,-0.08269100136583725,-0.2998182776646363,0.7537301596831394,-0.5572938977691413,0.2816574459013314,0.12511549492515286,-1.1520414977821023,-1.6077418183548926,0.12518543876338792,-0.17240992239466557,-0.29687603356526354,-0.538488421711546,1.011892155339132,0.5242967165890116,0.37788940477311916,1.3818585203086495,1.3322459158616347,1.3491805785283302,0.260837473417611,0.9770174853395498,-0.417469144514007,0.2532052106744681,-1.418974713556114,-1.304961959687015,-0.7850198786305627,-2.637960154783843,-0.702041364600879,0.2929621979386714,-0.31570510433110843,-0.2629023198827632,0.19022263715975085,0.6217882134487541,-0.2991271853655061,1.0088878670316135,-1.6952584120476268],\"y\":[-0.09869980248667033,2.03726652741454,1.4394828771486599,1.8697131285068431,-0.5548997790378658,-0.6217206439491961,-0.689074198736593,-0.06741428706327046,1.7098599778074983,-0.4176920959973648,2.168907375948452,-0.4880158437300923,0.27498240917764155,0.08170163057623107,-0.03384861897299663,1.647092749347639,0.15860105398020632,0.059442598251813514,-0.5762077458563473,1.4150104934559853,-0.5749855002518763,-0.546415696315059,-1.5240091166445844,-0.9241042955106828,-1.9699502760010996,-0.6245600967739037,0.46518656287393384,-0.5218551564845291,0.2791729390951336,0.38578951337570555,0.39588598472909636,-0.7255379856229528,-0.56042666640254,-0.6027380454238817,0.06544925823079883,0.0977013071597415,0.2884822951944402,0.01713950529145413,-0.6866144000900855,-0.7898794564866739,0.10855608206827938,-0.22219683727590325,0.8283900308964371,-0.22510174689080045,0.08635559723721953,0.5335960581183034,0.37052671554643235,-0.570615537939435,0.2934992940562579,0.35328262839809565,-0.504249051160435,-1.9841088941570533,0.16468981598788138,-0.457678976262291,-0.4458065995793777,-0.6009038322071909,1.081394434790141,-0.32228195363254253,-0.2734324040026059,-0.11560060379954049,-1.145759112427046,-0.11539531430117402,0.32766295593105765,-0.373990881876142,-1.8553040836366972,0.41643076492351705,0.8492089009344047,-0.7965102060113378,2.036714812577297,0.21979935049899096,-1.1294971239943814,0.15636794398823822,0.19528867658492846,-0.664078836346772,0.29684278242568446,-0.8367625226528052,0.7616986595793469,1.855823984151398,-1.133439152106387,-0.8195629205557495,-0.46718347774595076,0.9486061350544259,-0.07737115781296872,-0.42174556204453584,1.6477605761097094,0.382673801536673,1.0452339650064126,-1.2834000440096809,0.8211643104999973,2.0187466797608917,0.03507192302206712,-1.290810831468579,0.7469538642891566,-0.7722379464065471,-0.7828371849281098,-0.7157909433349646,1.0350233315650033,0.34197577939435325,-0.20965832848228794,0.33295144312351205],\"type\":\"scatter\"}],                        {\"legend\":{\"bgcolor\":\"#F5F6F9\",\"font\":{\"color\":\"#4D5663\"}},\"paper_bgcolor\":\"#F5F6F9\",\"plot_bgcolor\":\"#F5F6F9\",\"template\":{\"data\":{\"barpolar\":[{\"marker\":{\"line\":{\"color\":\"#E5ECF6\",\"width\":0.5},\"pattern\":{\"fillmode\":\"overlay\",\"size\":10,\"solidity\":0.2}},\"type\":\"barpolar\"}],\"bar\":[{\"error_x\":{\"color\":\"#2a3f5f\"},\"error_y\":{\"color\":\"#2a3f5f\"},\"marker\":{\"line\":{\"color\":\"#E5ECF6\",\"width\":0.5},\"pattern\":{\"fillmode\":\"overlay\",\"size\":10,\"solidity\":0.2}},\"type\":\"bar\"}],\"carpet\":[{\"aaxis\":{\"endlinecolor\":\"#2a3f5f\",\"gridcolor\":\"white\",\"linecolor\":\"white\",\"minorgridcolor\":\"white\",\"startlinecolor\":\"#2a3f5f\"},\"baxis\":{\"endlinecolor\":\"#2a3f5f\",\"gridcolor\":\"white\",\"linecolor\":\"white\",\"minorgridcolor\":\"white\",\"startlinecolor\":\"#2a3f5f\"},\"type\":\"carpet\"}],\"choropleth\":[{\"colorbar\":{\"outlinewidth\":0,\"ticks\":\"\"},\"type\":\"choropleth\"}],\"contourcarpet\":[{\"colorbar\":{\"outlinewidth\":0,\"ticks\":\"\"},\"type\":\"contourcarpet\"}],\"contour\":[{\"colorbar\":{\"outlinewidth\":0,\"ticks\":\"\"},\"colorscale\":[[0.0,\"#0d0887\"],[0.1111111111111111,\"#46039f\"],[0.2222222222222222,\"#7201a8\"],[0.3333333333333333,\"#9c179e\"],[0.4444444444444444,\"#bd3786\"],[0.5555555555555556,\"#d8576b\"],[0.6666666666666666,\"#ed7953\"],[0.7777777777777778,\"#fb9f3a\"],[0.8888888888888888,\"#fdca26\"],[1.0,\"#f0f921\"]],\"type\":\"contour\"}],\"heatmapgl\":[{\"colorbar\":{\"outlinewidth\":0,\"ticks\":\"\"},\"colorscale\":[[0.0,\"#0d0887\"],[0.1111111111111111,\"#46039f\"],[0.2222222222222222,\"#7201a8\"],[0.3333333333333333,\"#9c179e\"],[0.4444444444444444,\"#bd3786\"],[0.5555555555555556,\"#d8576b\"],[0.6666666666666666,\"#ed7953\"],[0.7777777777777778,\"#fb9f3a\"],[0.8888888888888888,\"#fdca26\"],[1.0,\"#f0f921\"]],\"type\":\"heatmapgl\"}],\"heatmap\":[{\"colorbar\":{\"outlinewidth\":0,\"ticks\":\"\"},\"colorscale\":[[0.0,\"#0d0887\"],[0.1111111111111111,\"#46039f\"],[0.2222222222222222,\"#7201a8\"],[0.3333333333333333,\"#9c179e\"],[0.4444444444444444,\"#bd3786\"],[0.5555555555555556,\"#d8576b\"],[0.6666666666666666,\"#ed7953\"],[0.7777777777777778,\"#fb9f3a\"],[0.8888888888888888,\"#fdca26\"],[1.0,\"#f0f921\"]],\"type\":\"heatmap\"}],\"histogram2dcontour\":[{\"colorbar\":{\"outlinewidth\":0,\"ticks\":\"\"},\"colorscale\":[[0.0,\"#0d0887\"],[0.1111111111111111,\"#46039f\"],[0.2222222222222222,\"#7201a8\"],[0.3333333333333333,\"#9c179e\"],[0.4444444444444444,\"#bd3786\"],[0.5555555555555556,\"#d8576b\"],[0.6666666666666666,\"#ed7953\"],[0.7777777777777778,\"#fb9f3a\"],[0.8888888888888888,\"#fdca26\"],[1.0,\"#f0f921\"]],\"type\":\"histogram2dcontour\"}],\"histogram2d\":[{\"colorbar\":{\"outlinewidth\":0,\"ticks\":\"\"},\"colorscale\":[[0.0,\"#0d0887\"],[0.1111111111111111,\"#46039f\"],[0.2222222222222222,\"#7201a8\"],[0.3333333333333333,\"#9c179e\"],[0.4444444444444444,\"#bd3786\"],[0.5555555555555556,\"#d8576b\"],[0.6666666666666666,\"#ed7953\"],[0.7777777777777778,\"#fb9f3a\"],[0.8888888888888888,\"#fdca26\"],[1.0,\"#f0f921\"]],\"type\":\"histogram2d\"}],\"histogram\":[{\"marker\":{\"pattern\":{\"fillmode\":\"overlay\",\"size\":10,\"solidity\":0.2}},\"type\":\"histogram\"}],\"mesh3d\":[{\"colorbar\":{\"outlinewidth\":0,\"ticks\":\"\"},\"type\":\"mesh3d\"}],\"parcoords\":[{\"line\":{\"colorbar\":{\"outlinewidth\":0,\"ticks\":\"\"}},\"type\":\"parcoords\"}],\"pie\":[{\"automargin\":true,\"type\":\"pie\"}],\"scatter3d\":[{\"line\":{\"colorbar\":{\"outlinewidth\":0,\"ticks\":\"\"}},\"marker\":{\"colorbar\":{\"outlinewidth\":0,\"ticks\":\"\"}},\"type\":\"scatter3d\"}],\"scattercarpet\":[{\"marker\":{\"colorbar\":{\"outlinewidth\":0,\"ticks\":\"\"}},\"type\":\"scattercarpet\"}],\"scattergeo\":[{\"marker\":{\"colorbar\":{\"outlinewidth\":0,\"ticks\":\"\"}},\"type\":\"scattergeo\"}],\"scattergl\":[{\"marker\":{\"colorbar\":{\"outlinewidth\":0,\"ticks\":\"\"}},\"type\":\"scattergl\"}],\"scattermapbox\":[{\"marker\":{\"colorbar\":{\"outlinewidth\":0,\"ticks\":\"\"}},\"type\":\"scattermapbox\"}],\"scatterpolargl\":[{\"marker\":{\"colorbar\":{\"outlinewidth\":0,\"ticks\":\"\"}},\"type\":\"scatterpolargl\"}],\"scatterpolar\":[{\"marker\":{\"colorbar\":{\"outlinewidth\":0,\"ticks\":\"\"}},\"type\":\"scatterpolar\"}],\"scatter\":[{\"marker\":{\"colorbar\":{\"outlinewidth\":0,\"ticks\":\"\"}},\"type\":\"scatter\"}],\"scatterternary\":[{\"marker\":{\"colorbar\":{\"outlinewidth\":0,\"ticks\":\"\"}},\"type\":\"scatterternary\"}],\"surface\":[{\"colorbar\":{\"outlinewidth\":0,\"ticks\":\"\"},\"colorscale\":[[0.0,\"#0d0887\"],[0.1111111111111111,\"#46039f\"],[0.2222222222222222,\"#7201a8\"],[0.3333333333333333,\"#9c179e\"],[0.4444444444444444,\"#bd3786\"],[0.5555555555555556,\"#d8576b\"],[0.6666666666666666,\"#ed7953\"],[0.7777777777777778,\"#fb9f3a\"],[0.8888888888888888,\"#fdca26\"],[1.0,\"#f0f921\"]],\"type\":\"surface\"}],\"table\":[{\"cells\":{\"fill\":{\"color\":\"#EBF0F8\"},\"line\":{\"color\":\"white\"}},\"header\":{\"fill\":{\"color\":\"#C8D4E3\"},\"line\":{\"color\":\"white\"}},\"type\":\"table\"}]},\"layout\":{\"annotationdefaults\":{\"arrowcolor\":\"#2a3f5f\",\"arrowhead\":0,\"arrowwidth\":1},\"autotypenumbers\":\"strict\",\"coloraxis\":{\"colorbar\":{\"outlinewidth\":0,\"ticks\":\"\"}},\"colorscale\":{\"diverging\":[[0,\"#8e0152\"],[0.1,\"#c51b7d\"],[0.2,\"#de77ae\"],[0.3,\"#f1b6da\"],[0.4,\"#fde0ef\"],[0.5,\"#f7f7f7\"],[0.6,\"#e6f5d0\"],[0.7,\"#b8e186\"],[0.8,\"#7fbc41\"],[0.9,\"#4d9221\"],[1,\"#276419\"]],\"sequential\":[[0.0,\"#0d0887\"],[0.1111111111111111,\"#46039f\"],[0.2222222222222222,\"#7201a8\"],[0.3333333333333333,\"#9c179e\"],[0.4444444444444444,\"#bd3786\"],[0.5555555555555556,\"#d8576b\"],[0.6666666666666666,\"#ed7953\"],[0.7777777777777778,\"#fb9f3a\"],[0.8888888888888888,\"#fdca26\"],[1.0,\"#f0f921\"]],\"sequentialminus\":[[0.0,\"#0d0887\"],[0.1111111111111111,\"#46039f\"],[0.2222222222222222,\"#7201a8\"],[0.3333333333333333,\"#9c179e\"],[0.4444444444444444,\"#bd3786\"],[0.5555555555555556,\"#d8576b\"],[0.6666666666666666,\"#ed7953\"],[0.7777777777777778,\"#fb9f3a\"],[0.8888888888888888,\"#fdca26\"],[1.0,\"#f0f921\"]]},\"colorway\":[\"#636efa\",\"#EF553B\",\"#00cc96\",\"#ab63fa\",\"#FFA15A\",\"#19d3f3\",\"#FF6692\",\"#B6E880\",\"#FF97FF\",\"#FECB52\"],\"font\":{\"color\":\"#2a3f5f\"},\"geo\":{\"bgcolor\":\"white\",\"lakecolor\":\"white\",\"landcolor\":\"#E5ECF6\",\"showlakes\":true,\"showland\":true,\"subunitcolor\":\"white\"},\"hoverlabel\":{\"align\":\"left\"},\"hovermode\":\"closest\",\"mapbox\":{\"style\":\"light\"},\"paper_bgcolor\":\"white\",\"plot_bgcolor\":\"#E5ECF6\",\"polar\":{\"angularaxis\":{\"gridcolor\":\"white\",\"linecolor\":\"white\",\"ticks\":\"\"},\"bgcolor\":\"#E5ECF6\",\"radialaxis\":{\"gridcolor\":\"white\",\"linecolor\":\"white\",\"ticks\":\"\"}},\"scene\":{\"xaxis\":{\"backgroundcolor\":\"#E5ECF6\",\"gridcolor\":\"white\",\"gridwidth\":2,\"linecolor\":\"white\",\"showbackground\":true,\"ticks\":\"\",\"zerolinecolor\":\"white\"},\"yaxis\":{\"backgroundcolor\":\"#E5ECF6\",\"gridcolor\":\"white\",\"gridwidth\":2,\"linecolor\":\"white\",\"showbackground\":true,\"ticks\":\"\",\"zerolinecolor\":\"white\"},\"zaxis\":{\"backgroundcolor\":\"#E5ECF6\",\"gridcolor\":\"white\",\"gridwidth\":2,\"linecolor\":\"white\",\"showbackground\":true,\"ticks\":\"\",\"zerolinecolor\":\"white\"}},\"shapedefaults\":{\"line\":{\"color\":\"#2a3f5f\"}},\"ternary\":{\"aaxis\":{\"gridcolor\":\"white\",\"linecolor\":\"white\",\"ticks\":\"\"},\"baxis\":{\"gridcolor\":\"white\",\"linecolor\":\"white\",\"ticks\":\"\"},\"bgcolor\":\"#E5ECF6\",\"caxis\":{\"gridcolor\":\"white\",\"linecolor\":\"white\",\"ticks\":\"\"}},\"title\":{\"x\":0.05},\"xaxis\":{\"automargin\":true,\"gridcolor\":\"white\",\"linecolor\":\"white\",\"ticks\":\"\",\"title\":{\"standoff\":15},\"zerolinecolor\":\"white\",\"zerolinewidth\":2},\"yaxis\":{\"automargin\":true,\"gridcolor\":\"white\",\"linecolor\":\"white\",\"ticks\":\"\",\"title\":{\"standoff\":15},\"zerolinecolor\":\"white\",\"zerolinewidth\":2}}},\"title\":{\"font\":{\"color\":\"#4D5663\"}},\"xaxis\":{\"gridcolor\":\"#E1E5ED\",\"showgrid\":true,\"tickfont\":{\"color\":\"#4D5663\"},\"title\":{\"font\":{\"color\":\"#4D5663\"},\"text\":\"\"},\"zerolinecolor\":\"#E1E5ED\"},\"yaxis\":{\"gridcolor\":\"#E1E5ED\",\"showgrid\":true,\"tickfont\":{\"color\":\"#4D5663\"},\"title\":{\"font\":{\"color\":\"#4D5663\"},\"text\":\"\"},\"zerolinecolor\":\"#E1E5ED\"}},                        {\"showLink\": true, \"linkText\": \"Export to plot.ly\", \"plotlyServerURL\": \"https://plot.ly\", \"responsive\": true}                    ).then(function(){\n",
       "                            \n",
       "var gd = document.getElementById('8e776b74-26b9-48f0-b6ce-ca3fe05e1e44');\n",
       "var x = new MutationObserver(function (mutations, observer) {{\n",
       "        var display = window.getComputedStyle(gd).display;\n",
       "        if (!display || display === 'none') {{\n",
       "            console.log([gd, 'removed!']);\n",
       "            Plotly.purge(gd);\n",
       "            observer.disconnect();\n",
       "        }}\n",
       "}});\n",
       "\n",
       "// Listen for the removal of the full notebook cells\n",
       "var notebookContainer = gd.closest('#notebook-container');\n",
       "if (notebookContainer) {{\n",
       "    x.observe(notebookContainer, {childList: true});\n",
       "}}\n",
       "\n",
       "// Listen for the clearing of the current output cell\n",
       "var outputEl = gd.closest('.output');\n",
       "if (outputEl) {{\n",
       "    x.observe(outputEl, {childList: true});\n",
       "}}\n",
       "\n",
       "                        })                };                });            </script>        </div>"
      ]
     },
     "metadata": {},
     "output_type": "display_data"
    }
   ],
   "source": [
    "df.iplot(kind='scatter',x='A',y='B',mode='markers',size=10)"
   ]
  },
  {
   "cell_type": "markdown",
   "metadata": {},
   "source": [
    "## Bar Plot"
   ]
  },
  {
   "cell_type": "code",
   "execution_count": 17,
   "metadata": {
    "ExecuteTime": {
     "end_time": "2019-05-06T16:55:35.654321Z",
     "start_time": "2019-05-06T16:55:35.425839Z"
    }
   },
   "outputs": [
    {
     "data": {
      "application/vnd.plotly.v1+json": {
       "config": {
        "linkText": "Export to plot.ly",
        "plotlyServerURL": "https://plot.ly",
        "showLink": true
       },
       "data": [
        {
         "marker": {
          "color": "rgba(255, 153, 51, 0.6)",
          "line": {
           "color": "rgba(255, 153, 51, 1.0)",
           "width": 1
          }
         },
         "name": "Values",
         "orientation": "v",
         "text": "",
         "type": "bar",
         "x": [
          "A",
          "B",
          "C"
         ],
         "y": [
          32,
          43,
          50
         ]
        }
       ],
       "layout": {
        "legend": {
         "bgcolor": "#F5F6F9",
         "font": {
          "color": "#4D5663"
         }
        },
        "paper_bgcolor": "#F5F6F9",
        "plot_bgcolor": "#F5F6F9",
        "template": {
         "data": {
          "bar": [
           {
            "error_x": {
             "color": "#2a3f5f"
            },
            "error_y": {
             "color": "#2a3f5f"
            },
            "marker": {
             "line": {
              "color": "#E5ECF6",
              "width": 0.5
             },
             "pattern": {
              "fillmode": "overlay",
              "size": 10,
              "solidity": 0.2
             }
            },
            "type": "bar"
           }
          ],
          "barpolar": [
           {
            "marker": {
             "line": {
              "color": "#E5ECF6",
              "width": 0.5
             },
             "pattern": {
              "fillmode": "overlay",
              "size": 10,
              "solidity": 0.2
             }
            },
            "type": "barpolar"
           }
          ],
          "carpet": [
           {
            "aaxis": {
             "endlinecolor": "#2a3f5f",
             "gridcolor": "white",
             "linecolor": "white",
             "minorgridcolor": "white",
             "startlinecolor": "#2a3f5f"
            },
            "baxis": {
             "endlinecolor": "#2a3f5f",
             "gridcolor": "white",
             "linecolor": "white",
             "minorgridcolor": "white",
             "startlinecolor": "#2a3f5f"
            },
            "type": "carpet"
           }
          ],
          "choropleth": [
           {
            "colorbar": {
             "outlinewidth": 0,
             "ticks": ""
            },
            "type": "choropleth"
           }
          ],
          "contour": [
           {
            "colorbar": {
             "outlinewidth": 0,
             "ticks": ""
            },
            "colorscale": [
             [
              0,
              "#0d0887"
             ],
             [
              0.1111111111111111,
              "#46039f"
             ],
             [
              0.2222222222222222,
              "#7201a8"
             ],
             [
              0.3333333333333333,
              "#9c179e"
             ],
             [
              0.4444444444444444,
              "#bd3786"
             ],
             [
              0.5555555555555556,
              "#d8576b"
             ],
             [
              0.6666666666666666,
              "#ed7953"
             ],
             [
              0.7777777777777778,
              "#fb9f3a"
             ],
             [
              0.8888888888888888,
              "#fdca26"
             ],
             [
              1,
              "#f0f921"
             ]
            ],
            "type": "contour"
           }
          ],
          "contourcarpet": [
           {
            "colorbar": {
             "outlinewidth": 0,
             "ticks": ""
            },
            "type": "contourcarpet"
           }
          ],
          "heatmap": [
           {
            "colorbar": {
             "outlinewidth": 0,
             "ticks": ""
            },
            "colorscale": [
             [
              0,
              "#0d0887"
             ],
             [
              0.1111111111111111,
              "#46039f"
             ],
             [
              0.2222222222222222,
              "#7201a8"
             ],
             [
              0.3333333333333333,
              "#9c179e"
             ],
             [
              0.4444444444444444,
              "#bd3786"
             ],
             [
              0.5555555555555556,
              "#d8576b"
             ],
             [
              0.6666666666666666,
              "#ed7953"
             ],
             [
              0.7777777777777778,
              "#fb9f3a"
             ],
             [
              0.8888888888888888,
              "#fdca26"
             ],
             [
              1,
              "#f0f921"
             ]
            ],
            "type": "heatmap"
           }
          ],
          "heatmapgl": [
           {
            "colorbar": {
             "outlinewidth": 0,
             "ticks": ""
            },
            "colorscale": [
             [
              0,
              "#0d0887"
             ],
             [
              0.1111111111111111,
              "#46039f"
             ],
             [
              0.2222222222222222,
              "#7201a8"
             ],
             [
              0.3333333333333333,
              "#9c179e"
             ],
             [
              0.4444444444444444,
              "#bd3786"
             ],
             [
              0.5555555555555556,
              "#d8576b"
             ],
             [
              0.6666666666666666,
              "#ed7953"
             ],
             [
              0.7777777777777778,
              "#fb9f3a"
             ],
             [
              0.8888888888888888,
              "#fdca26"
             ],
             [
              1,
              "#f0f921"
             ]
            ],
            "type": "heatmapgl"
           }
          ],
          "histogram": [
           {
            "marker": {
             "pattern": {
              "fillmode": "overlay",
              "size": 10,
              "solidity": 0.2
             }
            },
            "type": "histogram"
           }
          ],
          "histogram2d": [
           {
            "colorbar": {
             "outlinewidth": 0,
             "ticks": ""
            },
            "colorscale": [
             [
              0,
              "#0d0887"
             ],
             [
              0.1111111111111111,
              "#46039f"
             ],
             [
              0.2222222222222222,
              "#7201a8"
             ],
             [
              0.3333333333333333,
              "#9c179e"
             ],
             [
              0.4444444444444444,
              "#bd3786"
             ],
             [
              0.5555555555555556,
              "#d8576b"
             ],
             [
              0.6666666666666666,
              "#ed7953"
             ],
             [
              0.7777777777777778,
              "#fb9f3a"
             ],
             [
              0.8888888888888888,
              "#fdca26"
             ],
             [
              1,
              "#f0f921"
             ]
            ],
            "type": "histogram2d"
           }
          ],
          "histogram2dcontour": [
           {
            "colorbar": {
             "outlinewidth": 0,
             "ticks": ""
            },
            "colorscale": [
             [
              0,
              "#0d0887"
             ],
             [
              0.1111111111111111,
              "#46039f"
             ],
             [
              0.2222222222222222,
              "#7201a8"
             ],
             [
              0.3333333333333333,
              "#9c179e"
             ],
             [
              0.4444444444444444,
              "#bd3786"
             ],
             [
              0.5555555555555556,
              "#d8576b"
             ],
             [
              0.6666666666666666,
              "#ed7953"
             ],
             [
              0.7777777777777778,
              "#fb9f3a"
             ],
             [
              0.8888888888888888,
              "#fdca26"
             ],
             [
              1,
              "#f0f921"
             ]
            ],
            "type": "histogram2dcontour"
           }
          ],
          "mesh3d": [
           {
            "colorbar": {
             "outlinewidth": 0,
             "ticks": ""
            },
            "type": "mesh3d"
           }
          ],
          "parcoords": [
           {
            "line": {
             "colorbar": {
              "outlinewidth": 0,
              "ticks": ""
             }
            },
            "type": "parcoords"
           }
          ],
          "pie": [
           {
            "automargin": true,
            "type": "pie"
           }
          ],
          "scatter": [
           {
            "marker": {
             "colorbar": {
              "outlinewidth": 0,
              "ticks": ""
             }
            },
            "type": "scatter"
           }
          ],
          "scatter3d": [
           {
            "line": {
             "colorbar": {
              "outlinewidth": 0,
              "ticks": ""
             }
            },
            "marker": {
             "colorbar": {
              "outlinewidth": 0,
              "ticks": ""
             }
            },
            "type": "scatter3d"
           }
          ],
          "scattercarpet": [
           {
            "marker": {
             "colorbar": {
              "outlinewidth": 0,
              "ticks": ""
             }
            },
            "type": "scattercarpet"
           }
          ],
          "scattergeo": [
           {
            "marker": {
             "colorbar": {
              "outlinewidth": 0,
              "ticks": ""
             }
            },
            "type": "scattergeo"
           }
          ],
          "scattergl": [
           {
            "marker": {
             "colorbar": {
              "outlinewidth": 0,
              "ticks": ""
             }
            },
            "type": "scattergl"
           }
          ],
          "scattermapbox": [
           {
            "marker": {
             "colorbar": {
              "outlinewidth": 0,
              "ticks": ""
             }
            },
            "type": "scattermapbox"
           }
          ],
          "scatterpolar": [
           {
            "marker": {
             "colorbar": {
              "outlinewidth": 0,
              "ticks": ""
             }
            },
            "type": "scatterpolar"
           }
          ],
          "scatterpolargl": [
           {
            "marker": {
             "colorbar": {
              "outlinewidth": 0,
              "ticks": ""
             }
            },
            "type": "scatterpolargl"
           }
          ],
          "scatterternary": [
           {
            "marker": {
             "colorbar": {
              "outlinewidth": 0,
              "ticks": ""
             }
            },
            "type": "scatterternary"
           }
          ],
          "surface": [
           {
            "colorbar": {
             "outlinewidth": 0,
             "ticks": ""
            },
            "colorscale": [
             [
              0,
              "#0d0887"
             ],
             [
              0.1111111111111111,
              "#46039f"
             ],
             [
              0.2222222222222222,
              "#7201a8"
             ],
             [
              0.3333333333333333,
              "#9c179e"
             ],
             [
              0.4444444444444444,
              "#bd3786"
             ],
             [
              0.5555555555555556,
              "#d8576b"
             ],
             [
              0.6666666666666666,
              "#ed7953"
             ],
             [
              0.7777777777777778,
              "#fb9f3a"
             ],
             [
              0.8888888888888888,
              "#fdca26"
             ],
             [
              1,
              "#f0f921"
             ]
            ],
            "type": "surface"
           }
          ],
          "table": [
           {
            "cells": {
             "fill": {
              "color": "#EBF0F8"
             },
             "line": {
              "color": "white"
             }
            },
            "header": {
             "fill": {
              "color": "#C8D4E3"
             },
             "line": {
              "color": "white"
             }
            },
            "type": "table"
           }
          ]
         },
         "layout": {
          "annotationdefaults": {
           "arrowcolor": "#2a3f5f",
           "arrowhead": 0,
           "arrowwidth": 1
          },
          "autotypenumbers": "strict",
          "coloraxis": {
           "colorbar": {
            "outlinewidth": 0,
            "ticks": ""
           }
          },
          "colorscale": {
           "diverging": [
            [
             0,
             "#8e0152"
            ],
            [
             0.1,
             "#c51b7d"
            ],
            [
             0.2,
             "#de77ae"
            ],
            [
             0.3,
             "#f1b6da"
            ],
            [
             0.4,
             "#fde0ef"
            ],
            [
             0.5,
             "#f7f7f7"
            ],
            [
             0.6,
             "#e6f5d0"
            ],
            [
             0.7,
             "#b8e186"
            ],
            [
             0.8,
             "#7fbc41"
            ],
            [
             0.9,
             "#4d9221"
            ],
            [
             1,
             "#276419"
            ]
           ],
           "sequential": [
            [
             0,
             "#0d0887"
            ],
            [
             0.1111111111111111,
             "#46039f"
            ],
            [
             0.2222222222222222,
             "#7201a8"
            ],
            [
             0.3333333333333333,
             "#9c179e"
            ],
            [
             0.4444444444444444,
             "#bd3786"
            ],
            [
             0.5555555555555556,
             "#d8576b"
            ],
            [
             0.6666666666666666,
             "#ed7953"
            ],
            [
             0.7777777777777778,
             "#fb9f3a"
            ],
            [
             0.8888888888888888,
             "#fdca26"
            ],
            [
             1,
             "#f0f921"
            ]
           ],
           "sequentialminus": [
            [
             0,
             "#0d0887"
            ],
            [
             0.1111111111111111,
             "#46039f"
            ],
            [
             0.2222222222222222,
             "#7201a8"
            ],
            [
             0.3333333333333333,
             "#9c179e"
            ],
            [
             0.4444444444444444,
             "#bd3786"
            ],
            [
             0.5555555555555556,
             "#d8576b"
            ],
            [
             0.6666666666666666,
             "#ed7953"
            ],
            [
             0.7777777777777778,
             "#fb9f3a"
            ],
            [
             0.8888888888888888,
             "#fdca26"
            ],
            [
             1,
             "#f0f921"
            ]
           ]
          },
          "colorway": [
           "#636efa",
           "#EF553B",
           "#00cc96",
           "#ab63fa",
           "#FFA15A",
           "#19d3f3",
           "#FF6692",
           "#B6E880",
           "#FF97FF",
           "#FECB52"
          ],
          "font": {
           "color": "#2a3f5f"
          },
          "geo": {
           "bgcolor": "white",
           "lakecolor": "white",
           "landcolor": "#E5ECF6",
           "showlakes": true,
           "showland": true,
           "subunitcolor": "white"
          },
          "hoverlabel": {
           "align": "left"
          },
          "hovermode": "closest",
          "mapbox": {
           "style": "light"
          },
          "paper_bgcolor": "white",
          "plot_bgcolor": "#E5ECF6",
          "polar": {
           "angularaxis": {
            "gridcolor": "white",
            "linecolor": "white",
            "ticks": ""
           },
           "bgcolor": "#E5ECF6",
           "radialaxis": {
            "gridcolor": "white",
            "linecolor": "white",
            "ticks": ""
           }
          },
          "scene": {
           "xaxis": {
            "backgroundcolor": "#E5ECF6",
            "gridcolor": "white",
            "gridwidth": 2,
            "linecolor": "white",
            "showbackground": true,
            "ticks": "",
            "zerolinecolor": "white"
           },
           "yaxis": {
            "backgroundcolor": "#E5ECF6",
            "gridcolor": "white",
            "gridwidth": 2,
            "linecolor": "white",
            "showbackground": true,
            "ticks": "",
            "zerolinecolor": "white"
           },
           "zaxis": {
            "backgroundcolor": "#E5ECF6",
            "gridcolor": "white",
            "gridwidth": 2,
            "linecolor": "white",
            "showbackground": true,
            "ticks": "",
            "zerolinecolor": "white"
           }
          },
          "shapedefaults": {
           "line": {
            "color": "#2a3f5f"
           }
          },
          "ternary": {
           "aaxis": {
            "gridcolor": "white",
            "linecolor": "white",
            "ticks": ""
           },
           "baxis": {
            "gridcolor": "white",
            "linecolor": "white",
            "ticks": ""
           },
           "bgcolor": "#E5ECF6",
           "caxis": {
            "gridcolor": "white",
            "linecolor": "white",
            "ticks": ""
           }
          },
          "title": {
           "x": 0.05
          },
          "xaxis": {
           "automargin": true,
           "gridcolor": "white",
           "linecolor": "white",
           "ticks": "",
           "title": {
            "standoff": 15
           },
           "zerolinecolor": "white",
           "zerolinewidth": 2
          },
          "yaxis": {
           "automargin": true,
           "gridcolor": "white",
           "linecolor": "white",
           "ticks": "",
           "title": {
            "standoff": 15
           },
           "zerolinecolor": "white",
           "zerolinewidth": 2
          }
         }
        },
        "title": {
         "font": {
          "color": "#4D5663"
         }
        },
        "xaxis": {
         "gridcolor": "#E1E5ED",
         "showgrid": true,
         "tickfont": {
          "color": "#4D5663"
         },
         "title": {
          "font": {
           "color": "#4D5663"
          },
          "text": ""
         },
         "zerolinecolor": "#E1E5ED"
        },
        "yaxis": {
         "gridcolor": "#E1E5ED",
         "showgrid": true,
         "tickfont": {
          "color": "#4D5663"
         },
         "title": {
          "font": {
           "color": "#4D5663"
          },
          "text": ""
         },
         "zerolinecolor": "#E1E5ED"
        }
       }
      },
      "text/html": [
       "<div>                            <div id=\"827fac46-3269-4902-b1de-c8fb09ec6e25\" class=\"plotly-graph-div\" style=\"height:525px; width:100%;\"></div>            <script type=\"text/javascript\">                require([\"plotly\"], function(Plotly) {                    window.PLOTLYENV=window.PLOTLYENV || {};\n",
       "                    window.PLOTLYENV.BASE_URL='https://plot.ly';                                    if (document.getElementById(\"827fac46-3269-4902-b1de-c8fb09ec6e25\")) {                    Plotly.newPlot(                        \"827fac46-3269-4902-b1de-c8fb09ec6e25\",                        [{\"marker\":{\"color\":\"rgba(255, 153, 51, 0.6)\",\"line\":{\"color\":\"rgba(255, 153, 51, 1.0)\",\"width\":1}},\"name\":\"Values\",\"orientation\":\"v\",\"text\":\"\",\"x\":[\"A\",\"B\",\"C\"],\"y\":[32,43,50],\"type\":\"bar\"}],                        {\"legend\":{\"bgcolor\":\"#F5F6F9\",\"font\":{\"color\":\"#4D5663\"}},\"paper_bgcolor\":\"#F5F6F9\",\"plot_bgcolor\":\"#F5F6F9\",\"template\":{\"data\":{\"barpolar\":[{\"marker\":{\"line\":{\"color\":\"#E5ECF6\",\"width\":0.5},\"pattern\":{\"fillmode\":\"overlay\",\"size\":10,\"solidity\":0.2}},\"type\":\"barpolar\"}],\"bar\":[{\"error_x\":{\"color\":\"#2a3f5f\"},\"error_y\":{\"color\":\"#2a3f5f\"},\"marker\":{\"line\":{\"color\":\"#E5ECF6\",\"width\":0.5},\"pattern\":{\"fillmode\":\"overlay\",\"size\":10,\"solidity\":0.2}},\"type\":\"bar\"}],\"carpet\":[{\"aaxis\":{\"endlinecolor\":\"#2a3f5f\",\"gridcolor\":\"white\",\"linecolor\":\"white\",\"minorgridcolor\":\"white\",\"startlinecolor\":\"#2a3f5f\"},\"baxis\":{\"endlinecolor\":\"#2a3f5f\",\"gridcolor\":\"white\",\"linecolor\":\"white\",\"minorgridcolor\":\"white\",\"startlinecolor\":\"#2a3f5f\"},\"type\":\"carpet\"}],\"choropleth\":[{\"colorbar\":{\"outlinewidth\":0,\"ticks\":\"\"},\"type\":\"choropleth\"}],\"contourcarpet\":[{\"colorbar\":{\"outlinewidth\":0,\"ticks\":\"\"},\"type\":\"contourcarpet\"}],\"contour\":[{\"colorbar\":{\"outlinewidth\":0,\"ticks\":\"\"},\"colorscale\":[[0.0,\"#0d0887\"],[0.1111111111111111,\"#46039f\"],[0.2222222222222222,\"#7201a8\"],[0.3333333333333333,\"#9c179e\"],[0.4444444444444444,\"#bd3786\"],[0.5555555555555556,\"#d8576b\"],[0.6666666666666666,\"#ed7953\"],[0.7777777777777778,\"#fb9f3a\"],[0.8888888888888888,\"#fdca26\"],[1.0,\"#f0f921\"]],\"type\":\"contour\"}],\"heatmapgl\":[{\"colorbar\":{\"outlinewidth\":0,\"ticks\":\"\"},\"colorscale\":[[0.0,\"#0d0887\"],[0.1111111111111111,\"#46039f\"],[0.2222222222222222,\"#7201a8\"],[0.3333333333333333,\"#9c179e\"],[0.4444444444444444,\"#bd3786\"],[0.5555555555555556,\"#d8576b\"],[0.6666666666666666,\"#ed7953\"],[0.7777777777777778,\"#fb9f3a\"],[0.8888888888888888,\"#fdca26\"],[1.0,\"#f0f921\"]],\"type\":\"heatmapgl\"}],\"heatmap\":[{\"colorbar\":{\"outlinewidth\":0,\"ticks\":\"\"},\"colorscale\":[[0.0,\"#0d0887\"],[0.1111111111111111,\"#46039f\"],[0.2222222222222222,\"#7201a8\"],[0.3333333333333333,\"#9c179e\"],[0.4444444444444444,\"#bd3786\"],[0.5555555555555556,\"#d8576b\"],[0.6666666666666666,\"#ed7953\"],[0.7777777777777778,\"#fb9f3a\"],[0.8888888888888888,\"#fdca26\"],[1.0,\"#f0f921\"]],\"type\":\"heatmap\"}],\"histogram2dcontour\":[{\"colorbar\":{\"outlinewidth\":0,\"ticks\":\"\"},\"colorscale\":[[0.0,\"#0d0887\"],[0.1111111111111111,\"#46039f\"],[0.2222222222222222,\"#7201a8\"],[0.3333333333333333,\"#9c179e\"],[0.4444444444444444,\"#bd3786\"],[0.5555555555555556,\"#d8576b\"],[0.6666666666666666,\"#ed7953\"],[0.7777777777777778,\"#fb9f3a\"],[0.8888888888888888,\"#fdca26\"],[1.0,\"#f0f921\"]],\"type\":\"histogram2dcontour\"}],\"histogram2d\":[{\"colorbar\":{\"outlinewidth\":0,\"ticks\":\"\"},\"colorscale\":[[0.0,\"#0d0887\"],[0.1111111111111111,\"#46039f\"],[0.2222222222222222,\"#7201a8\"],[0.3333333333333333,\"#9c179e\"],[0.4444444444444444,\"#bd3786\"],[0.5555555555555556,\"#d8576b\"],[0.6666666666666666,\"#ed7953\"],[0.7777777777777778,\"#fb9f3a\"],[0.8888888888888888,\"#fdca26\"],[1.0,\"#f0f921\"]],\"type\":\"histogram2d\"}],\"histogram\":[{\"marker\":{\"pattern\":{\"fillmode\":\"overlay\",\"size\":10,\"solidity\":0.2}},\"type\":\"histogram\"}],\"mesh3d\":[{\"colorbar\":{\"outlinewidth\":0,\"ticks\":\"\"},\"type\":\"mesh3d\"}],\"parcoords\":[{\"line\":{\"colorbar\":{\"outlinewidth\":0,\"ticks\":\"\"}},\"type\":\"parcoords\"}],\"pie\":[{\"automargin\":true,\"type\":\"pie\"}],\"scatter3d\":[{\"line\":{\"colorbar\":{\"outlinewidth\":0,\"ticks\":\"\"}},\"marker\":{\"colorbar\":{\"outlinewidth\":0,\"ticks\":\"\"}},\"type\":\"scatter3d\"}],\"scattercarpet\":[{\"marker\":{\"colorbar\":{\"outlinewidth\":0,\"ticks\":\"\"}},\"type\":\"scattercarpet\"}],\"scattergeo\":[{\"marker\":{\"colorbar\":{\"outlinewidth\":0,\"ticks\":\"\"}},\"type\":\"scattergeo\"}],\"scattergl\":[{\"marker\":{\"colorbar\":{\"outlinewidth\":0,\"ticks\":\"\"}},\"type\":\"scattergl\"}],\"scattermapbox\":[{\"marker\":{\"colorbar\":{\"outlinewidth\":0,\"ticks\":\"\"}},\"type\":\"scattermapbox\"}],\"scatterpolargl\":[{\"marker\":{\"colorbar\":{\"outlinewidth\":0,\"ticks\":\"\"}},\"type\":\"scatterpolargl\"}],\"scatterpolar\":[{\"marker\":{\"colorbar\":{\"outlinewidth\":0,\"ticks\":\"\"}},\"type\":\"scatterpolar\"}],\"scatter\":[{\"marker\":{\"colorbar\":{\"outlinewidth\":0,\"ticks\":\"\"}},\"type\":\"scatter\"}],\"scatterternary\":[{\"marker\":{\"colorbar\":{\"outlinewidth\":0,\"ticks\":\"\"}},\"type\":\"scatterternary\"}],\"surface\":[{\"colorbar\":{\"outlinewidth\":0,\"ticks\":\"\"},\"colorscale\":[[0.0,\"#0d0887\"],[0.1111111111111111,\"#46039f\"],[0.2222222222222222,\"#7201a8\"],[0.3333333333333333,\"#9c179e\"],[0.4444444444444444,\"#bd3786\"],[0.5555555555555556,\"#d8576b\"],[0.6666666666666666,\"#ed7953\"],[0.7777777777777778,\"#fb9f3a\"],[0.8888888888888888,\"#fdca26\"],[1.0,\"#f0f921\"]],\"type\":\"surface\"}],\"table\":[{\"cells\":{\"fill\":{\"color\":\"#EBF0F8\"},\"line\":{\"color\":\"white\"}},\"header\":{\"fill\":{\"color\":\"#C8D4E3\"},\"line\":{\"color\":\"white\"}},\"type\":\"table\"}]},\"layout\":{\"annotationdefaults\":{\"arrowcolor\":\"#2a3f5f\",\"arrowhead\":0,\"arrowwidth\":1},\"autotypenumbers\":\"strict\",\"coloraxis\":{\"colorbar\":{\"outlinewidth\":0,\"ticks\":\"\"}},\"colorscale\":{\"diverging\":[[0,\"#8e0152\"],[0.1,\"#c51b7d\"],[0.2,\"#de77ae\"],[0.3,\"#f1b6da\"],[0.4,\"#fde0ef\"],[0.5,\"#f7f7f7\"],[0.6,\"#e6f5d0\"],[0.7,\"#b8e186\"],[0.8,\"#7fbc41\"],[0.9,\"#4d9221\"],[1,\"#276419\"]],\"sequential\":[[0.0,\"#0d0887\"],[0.1111111111111111,\"#46039f\"],[0.2222222222222222,\"#7201a8\"],[0.3333333333333333,\"#9c179e\"],[0.4444444444444444,\"#bd3786\"],[0.5555555555555556,\"#d8576b\"],[0.6666666666666666,\"#ed7953\"],[0.7777777777777778,\"#fb9f3a\"],[0.8888888888888888,\"#fdca26\"],[1.0,\"#f0f921\"]],\"sequentialminus\":[[0.0,\"#0d0887\"],[0.1111111111111111,\"#46039f\"],[0.2222222222222222,\"#7201a8\"],[0.3333333333333333,\"#9c179e\"],[0.4444444444444444,\"#bd3786\"],[0.5555555555555556,\"#d8576b\"],[0.6666666666666666,\"#ed7953\"],[0.7777777777777778,\"#fb9f3a\"],[0.8888888888888888,\"#fdca26\"],[1.0,\"#f0f921\"]]},\"colorway\":[\"#636efa\",\"#EF553B\",\"#00cc96\",\"#ab63fa\",\"#FFA15A\",\"#19d3f3\",\"#FF6692\",\"#B6E880\",\"#FF97FF\",\"#FECB52\"],\"font\":{\"color\":\"#2a3f5f\"},\"geo\":{\"bgcolor\":\"white\",\"lakecolor\":\"white\",\"landcolor\":\"#E5ECF6\",\"showlakes\":true,\"showland\":true,\"subunitcolor\":\"white\"},\"hoverlabel\":{\"align\":\"left\"},\"hovermode\":\"closest\",\"mapbox\":{\"style\":\"light\"},\"paper_bgcolor\":\"white\",\"plot_bgcolor\":\"#E5ECF6\",\"polar\":{\"angularaxis\":{\"gridcolor\":\"white\",\"linecolor\":\"white\",\"ticks\":\"\"},\"bgcolor\":\"#E5ECF6\",\"radialaxis\":{\"gridcolor\":\"white\",\"linecolor\":\"white\",\"ticks\":\"\"}},\"scene\":{\"xaxis\":{\"backgroundcolor\":\"#E5ECF6\",\"gridcolor\":\"white\",\"gridwidth\":2,\"linecolor\":\"white\",\"showbackground\":true,\"ticks\":\"\",\"zerolinecolor\":\"white\"},\"yaxis\":{\"backgroundcolor\":\"#E5ECF6\",\"gridcolor\":\"white\",\"gridwidth\":2,\"linecolor\":\"white\",\"showbackground\":true,\"ticks\":\"\",\"zerolinecolor\":\"white\"},\"zaxis\":{\"backgroundcolor\":\"#E5ECF6\",\"gridcolor\":\"white\",\"gridwidth\":2,\"linecolor\":\"white\",\"showbackground\":true,\"ticks\":\"\",\"zerolinecolor\":\"white\"}},\"shapedefaults\":{\"line\":{\"color\":\"#2a3f5f\"}},\"ternary\":{\"aaxis\":{\"gridcolor\":\"white\",\"linecolor\":\"white\",\"ticks\":\"\"},\"baxis\":{\"gridcolor\":\"white\",\"linecolor\":\"white\",\"ticks\":\"\"},\"bgcolor\":\"#E5ECF6\",\"caxis\":{\"gridcolor\":\"white\",\"linecolor\":\"white\",\"ticks\":\"\"}},\"title\":{\"x\":0.05},\"xaxis\":{\"automargin\":true,\"gridcolor\":\"white\",\"linecolor\":\"white\",\"ticks\":\"\",\"title\":{\"standoff\":15},\"zerolinecolor\":\"white\",\"zerolinewidth\":2},\"yaxis\":{\"automargin\":true,\"gridcolor\":\"white\",\"linecolor\":\"white\",\"ticks\":\"\",\"title\":{\"standoff\":15},\"zerolinecolor\":\"white\",\"zerolinewidth\":2}}},\"title\":{\"font\":{\"color\":\"#4D5663\"}},\"xaxis\":{\"gridcolor\":\"#E1E5ED\",\"showgrid\":true,\"tickfont\":{\"color\":\"#4D5663\"},\"title\":{\"font\":{\"color\":\"#4D5663\"},\"text\":\"\"},\"zerolinecolor\":\"#E1E5ED\"},\"yaxis\":{\"gridcolor\":\"#E1E5ED\",\"showgrid\":true,\"tickfont\":{\"color\":\"#4D5663\"},\"title\":{\"font\":{\"color\":\"#4D5663\"},\"text\":\"\"},\"zerolinecolor\":\"#E1E5ED\"}},                        {\"showLink\": true, \"linkText\": \"Export to plot.ly\", \"plotlyServerURL\": \"https://plot.ly\", \"responsive\": true}                    ).then(function(){\n",
       "                            \n",
       "var gd = document.getElementById('827fac46-3269-4902-b1de-c8fb09ec6e25');\n",
       "var x = new MutationObserver(function (mutations, observer) {{\n",
       "        var display = window.getComputedStyle(gd).display;\n",
       "        if (!display || display === 'none') {{\n",
       "            console.log([gd, 'removed!']);\n",
       "            Plotly.purge(gd);\n",
       "            observer.disconnect();\n",
       "        }}\n",
       "}});\n",
       "\n",
       "// Listen for the removal of the full notebook cells\n",
       "var notebookContainer = gd.closest('#notebook-container');\n",
       "if (notebookContainer) {{\n",
       "    x.observe(notebookContainer, {childList: true});\n",
       "}}\n",
       "\n",
       "// Listen for the clearing of the current output cell\n",
       "var outputEl = gd.closest('.output');\n",
       "if (outputEl) {{\n",
       "    x.observe(outputEl, {childList: true});\n",
       "}}\n",
       "\n",
       "                        })                };                });            </script>        </div>"
      ]
     },
     "metadata": {},
     "output_type": "display_data"
    }
   ],
   "source": [
    "df2.iplot(kind='bar',x= 'Category',y='Values') "
   ]
  },
  {
   "cell_type": "markdown",
   "metadata": {},
   "source": [
    "* Data will not be always conveniently placed in a categorical values column, what we can do is group by or an aggregate function on our data to get it into some sort of form where it would make sense to use bar plot via iplot"
   ]
  },
  {
   "cell_type": "code",
   "execution_count": 18,
   "metadata": {
    "ExecuteTime": {
     "end_time": "2019-05-06T16:55:36.508163Z",
     "start_time": "2019-05-06T16:55:36.499187Z"
    }
   },
   "outputs": [
    {
     "data": {
      "text/html": [
       "<div>\n",
       "<style scoped>\n",
       "    .dataframe tbody tr th:only-of-type {\n",
       "        vertical-align: middle;\n",
       "    }\n",
       "\n",
       "    .dataframe tbody tr th {\n",
       "        vertical-align: top;\n",
       "    }\n",
       "\n",
       "    .dataframe thead th {\n",
       "        text-align: right;\n",
       "    }\n",
       "</style>\n",
       "<table border=\"1\" class=\"dataframe\">\n",
       "  <thead>\n",
       "    <tr style=\"text-align: right;\">\n",
       "      <th></th>\n",
       "      <th>A</th>\n",
       "      <th>B</th>\n",
       "      <th>C</th>\n",
       "      <th>D</th>\n",
       "    </tr>\n",
       "  </thead>\n",
       "  <tbody>\n",
       "    <tr>\n",
       "      <th>0</th>\n",
       "      <td>3.362583</td>\n",
       "      <td>-0.098700</td>\n",
       "      <td>-0.038714</td>\n",
       "      <td>-0.261075</td>\n",
       "    </tr>\n",
       "    <tr>\n",
       "      <th>1</th>\n",
       "      <td>-0.688562</td>\n",
       "      <td>2.037267</td>\n",
       "      <td>0.811571</td>\n",
       "      <td>-0.312743</td>\n",
       "    </tr>\n",
       "    <tr>\n",
       "      <th>2</th>\n",
       "      <td>0.514995</td>\n",
       "      <td>1.439483</td>\n",
       "      <td>-0.176654</td>\n",
       "      <td>-0.051955</td>\n",
       "    </tr>\n",
       "    <tr>\n",
       "      <th>3</th>\n",
       "      <td>-0.497660</td>\n",
       "      <td>1.869713</td>\n",
       "      <td>1.346693</td>\n",
       "      <td>-0.636372</td>\n",
       "    </tr>\n",
       "    <tr>\n",
       "      <th>4</th>\n",
       "      <td>1.312918</td>\n",
       "      <td>-0.554900</td>\n",
       "      <td>-0.709624</td>\n",
       "      <td>0.264037</td>\n",
       "    </tr>\n",
       "  </tbody>\n",
       "</table>\n",
       "</div>"
      ],
      "text/plain": [
       "          A         B         C         D\n",
       "0  3.362583 -0.098700 -0.038714 -0.261075\n",
       "1 -0.688562  2.037267  0.811571 -0.312743\n",
       "2  0.514995  1.439483 -0.176654 -0.051955\n",
       "3 -0.497660  1.869713  1.346693 -0.636372\n",
       "4  1.312918 -0.554900 -0.709624  0.264037"
      ]
     },
     "execution_count": 18,
     "metadata": {},
     "output_type": "execute_result"
    }
   ],
   "source": [
    "df.head()"
   ]
  },
  {
   "cell_type": "code",
   "execution_count": 19,
   "metadata": {
    "ExecuteTime": {
     "end_time": "2019-05-06T16:55:37.084278Z",
     "start_time": "2019-05-06T16:55:36.989494Z"
    }
   },
   "outputs": [
    {
     "data": {
      "application/vnd.plotly.v1+json": {
       "config": {
        "linkText": "Export to plot.ly",
        "plotlyServerURL": "https://plot.ly",
        "showLink": true
       },
       "data": [
        {
         "marker": {
          "color": "rgba(255, 153, 51, 0.6)",
          "line": {
           "color": "rgba(255, 153, 51, 1.0)",
           "width": 1
          }
         },
         "name": "A",
         "orientation": "v",
         "text": "",
         "type": "bar",
         "x": [
          0,
          1,
          2,
          3,
          4,
          5,
          6,
          7,
          8,
          9,
          10,
          11,
          12,
          13,
          14,
          15,
          16,
          17,
          18,
          19,
          20,
          21,
          22,
          23,
          24,
          25,
          26,
          27,
          28,
          29,
          30,
          31,
          32,
          33,
          34,
          35,
          36,
          37,
          38,
          39,
          40,
          41,
          42,
          43,
          44,
          45,
          46,
          47,
          48,
          49,
          50,
          51,
          52,
          53,
          54,
          55,
          56,
          57,
          58,
          59,
          60,
          61,
          62,
          63,
          64,
          65,
          66,
          67,
          68,
          69,
          70,
          71,
          72,
          73,
          74,
          75,
          76,
          77,
          78,
          79,
          80,
          81,
          82,
          83,
          84,
          85,
          86,
          87,
          88,
          89,
          90,
          91,
          92,
          93,
          94,
          95,
          96,
          97,
          98,
          99
         ],
         "y": [
          3.3625825147031634,
          -0.6885621495157169,
          0.5149951992086972,
          -0.4976600607971672,
          1.3129178129369143,
          1.259037760305938,
          -0.8205591484786454,
          -0.2888956899883146,
          -0.09602816876888236,
          -0.9613950050487399,
          0.19756992435357082,
          -2.010039225046455,
          -0.7479232977395808,
          1.947999686378811,
          -1.300068284850122,
          0.8562782186572203,
          -0.8554492701360895,
          -0.4206993361270417,
          0.17322463597602866,
          -0.47160211461434376,
          0.565677357194077,
          -0.6594632474857488,
          1.7551221205900165,
          0.7357358194208311,
          -1.1591709602449005,
          -0.05419091582379508,
          -0.36257185525324137,
          1.4349669783777106,
          -0.5661528981377684,
          -0.407032366454418,
          0.22755126025017564,
          0.8257857482311864,
          0.27076051378642957,
          -0.46987215853669007,
          -0.6260892978035598,
          -0.14422154840098403,
          0.06729047029481175,
          -0.7538901577971123,
          -0.16372387540641004,
          -1.5306935620588862,
          1.7378715409320646,
          1.8728785308476077,
          -0.22596064971310095,
          0.19265357626344148,
          1.3095974819986245,
          -0.8467226757105627,
          -0.47588441755457705,
          0.8436192849298026,
          -1.0696497054771597,
          -0.29246972729030885,
          -0.5072696949324063,
          -1.804060391633852,
          0.41463973873286825,
          -0.06065342496772562,
          -1.2132110689335833,
          -0.1869364025887339,
          0.7239663414003534,
          -0.03198459252341648,
          0.9917197143234533,
          0.4124466650325076,
          -0.6198057419680839,
          -0.27086068891135073,
          -1.6085151157707147,
          -0.5886897832373408,
          -2.03889655784642,
          -0.08269100136583725,
          -0.2998182776646363,
          0.7537301596831394,
          -0.5572938977691413,
          0.2816574459013314,
          0.12511549492515286,
          -1.1520414977821023,
          -1.6077418183548926,
          0.12518543876338792,
          -0.17240992239466557,
          -0.29687603356526354,
          -0.538488421711546,
          1.011892155339132,
          0.5242967165890116,
          0.37788940477311916,
          1.3818585203086495,
          1.3322459158616347,
          1.3491805785283302,
          0.260837473417611,
          0.9770174853395498,
          -0.417469144514007,
          0.2532052106744681,
          -1.418974713556114,
          -1.304961959687015,
          -0.7850198786305627,
          -2.637960154783843,
          -0.702041364600879,
          0.2929621979386714,
          -0.31570510433110843,
          -0.2629023198827632,
          0.19022263715975085,
          0.6217882134487541,
          -0.2991271853655061,
          1.0088878670316135,
          -1.6952584120476268
         ]
        },
        {
         "marker": {
          "color": "rgba(55, 128, 191, 0.6)",
          "line": {
           "color": "rgba(55, 128, 191, 1.0)",
           "width": 1
          }
         },
         "name": "B",
         "orientation": "v",
         "text": "",
         "type": "bar",
         "x": [
          0,
          1,
          2,
          3,
          4,
          5,
          6,
          7,
          8,
          9,
          10,
          11,
          12,
          13,
          14,
          15,
          16,
          17,
          18,
          19,
          20,
          21,
          22,
          23,
          24,
          25,
          26,
          27,
          28,
          29,
          30,
          31,
          32,
          33,
          34,
          35,
          36,
          37,
          38,
          39,
          40,
          41,
          42,
          43,
          44,
          45,
          46,
          47,
          48,
          49,
          50,
          51,
          52,
          53,
          54,
          55,
          56,
          57,
          58,
          59,
          60,
          61,
          62,
          63,
          64,
          65,
          66,
          67,
          68,
          69,
          70,
          71,
          72,
          73,
          74,
          75,
          76,
          77,
          78,
          79,
          80,
          81,
          82,
          83,
          84,
          85,
          86,
          87,
          88,
          89,
          90,
          91,
          92,
          93,
          94,
          95,
          96,
          97,
          98,
          99
         ],
         "y": [
          -0.09869980248667033,
          2.03726652741454,
          1.4394828771486599,
          1.8697131285068431,
          -0.5548997790378658,
          -0.6217206439491961,
          -0.689074198736593,
          -0.06741428706327046,
          1.7098599778074983,
          -0.4176920959973648,
          2.168907375948452,
          -0.4880158437300923,
          0.27498240917764155,
          0.08170163057623107,
          -0.03384861897299663,
          1.647092749347639,
          0.15860105398020632,
          0.059442598251813514,
          -0.5762077458563473,
          1.4150104934559853,
          -0.5749855002518763,
          -0.546415696315059,
          -1.5240091166445844,
          -0.9241042955106828,
          -1.9699502760010996,
          -0.6245600967739037,
          0.46518656287393384,
          -0.5218551564845291,
          0.2791729390951336,
          0.38578951337570555,
          0.39588598472909636,
          -0.7255379856229528,
          -0.56042666640254,
          -0.6027380454238817,
          0.06544925823079883,
          0.0977013071597415,
          0.2884822951944402,
          0.01713950529145413,
          -0.6866144000900855,
          -0.7898794564866739,
          0.10855608206827938,
          -0.22219683727590325,
          0.8283900308964371,
          -0.22510174689080045,
          0.08635559723721953,
          0.5335960581183034,
          0.37052671554643235,
          -0.570615537939435,
          0.2934992940562579,
          0.35328262839809565,
          -0.504249051160435,
          -1.9841088941570533,
          0.16468981598788138,
          -0.457678976262291,
          -0.4458065995793777,
          -0.6009038322071909,
          1.081394434790141,
          -0.32228195363254253,
          -0.2734324040026059,
          -0.11560060379954049,
          -1.145759112427046,
          -0.11539531430117402,
          0.32766295593105765,
          -0.373990881876142,
          -1.8553040836366972,
          0.41643076492351705,
          0.8492089009344047,
          -0.7965102060113378,
          2.036714812577297,
          0.21979935049899096,
          -1.1294971239943814,
          0.15636794398823822,
          0.19528867658492846,
          -0.664078836346772,
          0.29684278242568446,
          -0.8367625226528052,
          0.7616986595793469,
          1.855823984151398,
          -1.133439152106387,
          -0.8195629205557495,
          -0.46718347774595076,
          0.9486061350544259,
          -0.07737115781296872,
          -0.42174556204453584,
          1.6477605761097094,
          0.382673801536673,
          1.0452339650064126,
          -1.2834000440096809,
          0.8211643104999973,
          2.0187466797608917,
          0.03507192302206712,
          -1.290810831468579,
          0.7469538642891566,
          -0.7722379464065471,
          -0.7828371849281098,
          -0.7157909433349646,
          1.0350233315650033,
          0.34197577939435325,
          -0.20965832848228794,
          0.33295144312351205
         ]
        },
        {
         "marker": {
          "color": "rgba(50, 171, 96, 0.6)",
          "line": {
           "color": "rgba(50, 171, 96, 1.0)",
           "width": 1
          }
         },
         "name": "C",
         "orientation": "v",
         "text": "",
         "type": "bar",
         "x": [
          0,
          1,
          2,
          3,
          4,
          5,
          6,
          7,
          8,
          9,
          10,
          11,
          12,
          13,
          14,
          15,
          16,
          17,
          18,
          19,
          20,
          21,
          22,
          23,
          24,
          25,
          26,
          27,
          28,
          29,
          30,
          31,
          32,
          33,
          34,
          35,
          36,
          37,
          38,
          39,
          40,
          41,
          42,
          43,
          44,
          45,
          46,
          47,
          48,
          49,
          50,
          51,
          52,
          53,
          54,
          55,
          56,
          57,
          58,
          59,
          60,
          61,
          62,
          63,
          64,
          65,
          66,
          67,
          68,
          69,
          70,
          71,
          72,
          73,
          74,
          75,
          76,
          77,
          78,
          79,
          80,
          81,
          82,
          83,
          84,
          85,
          86,
          87,
          88,
          89,
          90,
          91,
          92,
          93,
          94,
          95,
          96,
          97,
          98,
          99
         ],
         "y": [
          -0.03871432534083431,
          0.8115707952131627,
          -0.17665423819459455,
          1.3466930613339523,
          -0.7096242874361512,
          0.5827954368056582,
          0.46518279753224095,
          -1.5660683477890591,
          -0.33199610826936693,
          -0.4744363313695482,
          1.4711440122729522,
          -0.003955344986920965,
          0.0562545380152191,
          0.15362277115179548,
          -0.36353528708391786,
          -0.012124866275137487,
          -0.20009491093416557,
          0.9614757069810966,
          0.7697978672912913,
          -0.23742915591891228,
          0.9725222749061871,
          0.41582536826645344,
          -1.0625242653194664,
          -0.7900579467789591,
          -0.6818934981943373,
          -0.13917048218982198,
          -0.3541996772670713,
          -0.8213352921077302,
          -0.07126063095007504,
          -0.26033422049286276,
          -0.5289646963018059,
          -0.43873497104461107,
          -0.45044738503422543,
          0.7478128184341659,
          0.6641194392583254,
          -0.979094314437018,
          -1.119399923453585,
          -1.5594785503686877,
          0.7599857788414909,
          -1.9097517568392404,
          -1.9468678465506883,
          0.5218375682681676,
          -1.0396394039937231,
          1.1276287199659947,
          -1.184342666394064,
          0.022131779564743076,
          -0.3201532437258341,
          -0.19702044383341424,
          -0.3758894766712151,
          0.05237384319038519,
          1.5172743804134299,
          2.4247879322619643,
          -0.9755230759676465,
          1.012608550719346,
          -1.290639386572514,
          -0.17154180805176894,
          0.7087889536846921,
          0.16864636263787605,
          -0.1312296598447758,
          0.7305408215857765,
          -1.3689031206003062,
          0.22090233284189276,
          1.3597780697136148,
          0.9944818070429114,
          0.6964499854986963,
          0.6745445328562419,
          -0.6662469380254723,
          -1.0174720887610438,
          0.2300492223012016,
          -0.036954874906627216,
          -0.726688304201755,
          -1.0211999418778872,
          1.0250471207567862,
          0.21183444445887054,
          0.37261079372522277,
          0.5822324112944044,
          -0.22929439516700795,
          0.2480386641167231,
          0.5643644796350337,
          0.9750637011146529,
          -0.18448805836167542,
          1.0717767289630435,
          2.0980105239450886,
          0.38372361927407656,
          -0.004206138482686182,
          -0.13370915390265514,
          0.16589187268661165,
          0.47628847080812187,
          0.704925336787344,
          0.12372473894611717,
          0.15210545578859208,
          -0.9406035775255597,
          -0.226907080030317,
          0.2499324277887329,
          -1.5170304489877942,
          1.2639490310851944,
          -0.516687512771716,
          2.305904708755523,
          -1.3952138991015384,
          0.630778993152211
         ]
        },
        {
         "marker": {
          "color": "rgba(128, 0, 128, 0.6)",
          "line": {
           "color": "rgba(128, 0, 128, 1.0)",
           "width": 1
          }
         },
         "name": "D",
         "orientation": "v",
         "text": "",
         "type": "bar",
         "x": [
          0,
          1,
          2,
          3,
          4,
          5,
          6,
          7,
          8,
          9,
          10,
          11,
          12,
          13,
          14,
          15,
          16,
          17,
          18,
          19,
          20,
          21,
          22,
          23,
          24,
          25,
          26,
          27,
          28,
          29,
          30,
          31,
          32,
          33,
          34,
          35,
          36,
          37,
          38,
          39,
          40,
          41,
          42,
          43,
          44,
          45,
          46,
          47,
          48,
          49,
          50,
          51,
          52,
          53,
          54,
          55,
          56,
          57,
          58,
          59,
          60,
          61,
          62,
          63,
          64,
          65,
          66,
          67,
          68,
          69,
          70,
          71,
          72,
          73,
          74,
          75,
          76,
          77,
          78,
          79,
          80,
          81,
          82,
          83,
          84,
          85,
          86,
          87,
          88,
          89,
          90,
          91,
          92,
          93,
          94,
          95,
          96,
          97,
          98,
          99
         ],
         "y": [
          -0.2610754490700943,
          -0.31274259932016485,
          -0.05195486783740825,
          -0.6363720505501187,
          0.26403720932684455,
          -0.670878971050256,
          0.35306264868315396,
          -1.4766036084490375,
          -1.0570360760952613,
          -0.5716289462859565,
          0.5996025660857952,
          0.6669472548117814,
          -0.20190710037508552,
          0.6591484959562992,
          0.3007018794461643,
          -2.3269309002298684,
          -0.45564726513007425,
          0.31412461514473483,
          1.5775316971860345,
          -0.20816830651970206,
          1.0992586180529906,
          1.2482324665607225,
          0.5963441305128984,
          0.6759383135148479,
          -0.31391325666451225,
          1.20331051531392,
          -1.1189113149477334,
          0.04340009025224424,
          -0.5873078097584103,
          -1.7395764773201399,
          1.7318829844673942,
          -1.8582286156354608,
          0.2102896767181078,
          0.036038219215623425,
          1.7315528329827625,
          -0.23751896821776966,
          -1.2619041772231365,
          -0.4209939529770629,
          0.6444023091948922,
          -0.12611657156977105,
          -0.8679107790133433,
          -1.2941016753923553,
          0.14594471207322482,
          -1.0981622210575677,
          -0.08624722509148783,
          -0.5531726942858656,
          1.3258006005289427,
          -0.5239864957809007,
          0.09995128771691131,
          2.10208730930389,
          -0.6752478145794528,
          -0.3840445714707245,
          -0.1372520446980467,
          0.3886173501207647,
          1.2332964234722699,
          1.4381637163220384,
          -0.25764043429119016,
          -0.9842129074651307,
          -0.13624389171313364,
          -1.2929703628833762,
          -0.21066150761967375,
          -1.0517433412117014,
          0.12062324844287063,
          1.2927129194575222,
          -0.7835829494349476,
          -0.7570704661624947,
          -1.161275272484911,
          -0.6580589800179951,
          0.4574163292136516,
          0.9282633619209005,
          1.2361508560233534,
          1.6358461396414072,
          -0.3275027468944334,
          0.4715100581108882,
          0.1900867796549248,
          0.9503595438312736,
          0.2846599033154163,
          0.7838010808747881,
          -0.6215426494588088,
          -2.5585283098605864,
          2.792906821685706,
          -0.21163724717237037,
          -0.799844955740187,
          -0.12841497548761696,
          1.643525322798787,
          0.6669179707736347,
          -2.071559206824266,
          0.8811338533173473,
          -2.0193879616140107,
          -1.9139249417279494,
          0.9818762536192873,
          -0.14457914752721937,
          -0.1019202571490361,
          -0.10167892581764211,
          1.2887099889784408,
          0.7911773663583078,
          -1.0221485430858486,
          -0.47387097215670204,
          -0.20350765600332388,
          -0.13150023481557147
         ]
        }
       ],
       "layout": {
        "legend": {
         "bgcolor": "#F5F6F9",
         "font": {
          "color": "#4D5663"
         }
        },
        "paper_bgcolor": "#F5F6F9",
        "plot_bgcolor": "#F5F6F9",
        "template": {
         "data": {
          "bar": [
           {
            "error_x": {
             "color": "#2a3f5f"
            },
            "error_y": {
             "color": "#2a3f5f"
            },
            "marker": {
             "line": {
              "color": "#E5ECF6",
              "width": 0.5
             },
             "pattern": {
              "fillmode": "overlay",
              "size": 10,
              "solidity": 0.2
             }
            },
            "type": "bar"
           }
          ],
          "barpolar": [
           {
            "marker": {
             "line": {
              "color": "#E5ECF6",
              "width": 0.5
             },
             "pattern": {
              "fillmode": "overlay",
              "size": 10,
              "solidity": 0.2
             }
            },
            "type": "barpolar"
           }
          ],
          "carpet": [
           {
            "aaxis": {
             "endlinecolor": "#2a3f5f",
             "gridcolor": "white",
             "linecolor": "white",
             "minorgridcolor": "white",
             "startlinecolor": "#2a3f5f"
            },
            "baxis": {
             "endlinecolor": "#2a3f5f",
             "gridcolor": "white",
             "linecolor": "white",
             "minorgridcolor": "white",
             "startlinecolor": "#2a3f5f"
            },
            "type": "carpet"
           }
          ],
          "choropleth": [
           {
            "colorbar": {
             "outlinewidth": 0,
             "ticks": ""
            },
            "type": "choropleth"
           }
          ],
          "contour": [
           {
            "colorbar": {
             "outlinewidth": 0,
             "ticks": ""
            },
            "colorscale": [
             [
              0,
              "#0d0887"
             ],
             [
              0.1111111111111111,
              "#46039f"
             ],
             [
              0.2222222222222222,
              "#7201a8"
             ],
             [
              0.3333333333333333,
              "#9c179e"
             ],
             [
              0.4444444444444444,
              "#bd3786"
             ],
             [
              0.5555555555555556,
              "#d8576b"
             ],
             [
              0.6666666666666666,
              "#ed7953"
             ],
             [
              0.7777777777777778,
              "#fb9f3a"
             ],
             [
              0.8888888888888888,
              "#fdca26"
             ],
             [
              1,
              "#f0f921"
             ]
            ],
            "type": "contour"
           }
          ],
          "contourcarpet": [
           {
            "colorbar": {
             "outlinewidth": 0,
             "ticks": ""
            },
            "type": "contourcarpet"
           }
          ],
          "heatmap": [
           {
            "colorbar": {
             "outlinewidth": 0,
             "ticks": ""
            },
            "colorscale": [
             [
              0,
              "#0d0887"
             ],
             [
              0.1111111111111111,
              "#46039f"
             ],
             [
              0.2222222222222222,
              "#7201a8"
             ],
             [
              0.3333333333333333,
              "#9c179e"
             ],
             [
              0.4444444444444444,
              "#bd3786"
             ],
             [
              0.5555555555555556,
              "#d8576b"
             ],
             [
              0.6666666666666666,
              "#ed7953"
             ],
             [
              0.7777777777777778,
              "#fb9f3a"
             ],
             [
              0.8888888888888888,
              "#fdca26"
             ],
             [
              1,
              "#f0f921"
             ]
            ],
            "type": "heatmap"
           }
          ],
          "heatmapgl": [
           {
            "colorbar": {
             "outlinewidth": 0,
             "ticks": ""
            },
            "colorscale": [
             [
              0,
              "#0d0887"
             ],
             [
              0.1111111111111111,
              "#46039f"
             ],
             [
              0.2222222222222222,
              "#7201a8"
             ],
             [
              0.3333333333333333,
              "#9c179e"
             ],
             [
              0.4444444444444444,
              "#bd3786"
             ],
             [
              0.5555555555555556,
              "#d8576b"
             ],
             [
              0.6666666666666666,
              "#ed7953"
             ],
             [
              0.7777777777777778,
              "#fb9f3a"
             ],
             [
              0.8888888888888888,
              "#fdca26"
             ],
             [
              1,
              "#f0f921"
             ]
            ],
            "type": "heatmapgl"
           }
          ],
          "histogram": [
           {
            "marker": {
             "pattern": {
              "fillmode": "overlay",
              "size": 10,
              "solidity": 0.2
             }
            },
            "type": "histogram"
           }
          ],
          "histogram2d": [
           {
            "colorbar": {
             "outlinewidth": 0,
             "ticks": ""
            },
            "colorscale": [
             [
              0,
              "#0d0887"
             ],
             [
              0.1111111111111111,
              "#46039f"
             ],
             [
              0.2222222222222222,
              "#7201a8"
             ],
             [
              0.3333333333333333,
              "#9c179e"
             ],
             [
              0.4444444444444444,
              "#bd3786"
             ],
             [
              0.5555555555555556,
              "#d8576b"
             ],
             [
              0.6666666666666666,
              "#ed7953"
             ],
             [
              0.7777777777777778,
              "#fb9f3a"
             ],
             [
              0.8888888888888888,
              "#fdca26"
             ],
             [
              1,
              "#f0f921"
             ]
            ],
            "type": "histogram2d"
           }
          ],
          "histogram2dcontour": [
           {
            "colorbar": {
             "outlinewidth": 0,
             "ticks": ""
            },
            "colorscale": [
             [
              0,
              "#0d0887"
             ],
             [
              0.1111111111111111,
              "#46039f"
             ],
             [
              0.2222222222222222,
              "#7201a8"
             ],
             [
              0.3333333333333333,
              "#9c179e"
             ],
             [
              0.4444444444444444,
              "#bd3786"
             ],
             [
              0.5555555555555556,
              "#d8576b"
             ],
             [
              0.6666666666666666,
              "#ed7953"
             ],
             [
              0.7777777777777778,
              "#fb9f3a"
             ],
             [
              0.8888888888888888,
              "#fdca26"
             ],
             [
              1,
              "#f0f921"
             ]
            ],
            "type": "histogram2dcontour"
           }
          ],
          "mesh3d": [
           {
            "colorbar": {
             "outlinewidth": 0,
             "ticks": ""
            },
            "type": "mesh3d"
           }
          ],
          "parcoords": [
           {
            "line": {
             "colorbar": {
              "outlinewidth": 0,
              "ticks": ""
             }
            },
            "type": "parcoords"
           }
          ],
          "pie": [
           {
            "automargin": true,
            "type": "pie"
           }
          ],
          "scatter": [
           {
            "marker": {
             "colorbar": {
              "outlinewidth": 0,
              "ticks": ""
             }
            },
            "type": "scatter"
           }
          ],
          "scatter3d": [
           {
            "line": {
             "colorbar": {
              "outlinewidth": 0,
              "ticks": ""
             }
            },
            "marker": {
             "colorbar": {
              "outlinewidth": 0,
              "ticks": ""
             }
            },
            "type": "scatter3d"
           }
          ],
          "scattercarpet": [
           {
            "marker": {
             "colorbar": {
              "outlinewidth": 0,
              "ticks": ""
             }
            },
            "type": "scattercarpet"
           }
          ],
          "scattergeo": [
           {
            "marker": {
             "colorbar": {
              "outlinewidth": 0,
              "ticks": ""
             }
            },
            "type": "scattergeo"
           }
          ],
          "scattergl": [
           {
            "marker": {
             "colorbar": {
              "outlinewidth": 0,
              "ticks": ""
             }
            },
            "type": "scattergl"
           }
          ],
          "scattermapbox": [
           {
            "marker": {
             "colorbar": {
              "outlinewidth": 0,
              "ticks": ""
             }
            },
            "type": "scattermapbox"
           }
          ],
          "scatterpolar": [
           {
            "marker": {
             "colorbar": {
              "outlinewidth": 0,
              "ticks": ""
             }
            },
            "type": "scatterpolar"
           }
          ],
          "scatterpolargl": [
           {
            "marker": {
             "colorbar": {
              "outlinewidth": 0,
              "ticks": ""
             }
            },
            "type": "scatterpolargl"
           }
          ],
          "scatterternary": [
           {
            "marker": {
             "colorbar": {
              "outlinewidth": 0,
              "ticks": ""
             }
            },
            "type": "scatterternary"
           }
          ],
          "surface": [
           {
            "colorbar": {
             "outlinewidth": 0,
             "ticks": ""
            },
            "colorscale": [
             [
              0,
              "#0d0887"
             ],
             [
              0.1111111111111111,
              "#46039f"
             ],
             [
              0.2222222222222222,
              "#7201a8"
             ],
             [
              0.3333333333333333,
              "#9c179e"
             ],
             [
              0.4444444444444444,
              "#bd3786"
             ],
             [
              0.5555555555555556,
              "#d8576b"
             ],
             [
              0.6666666666666666,
              "#ed7953"
             ],
             [
              0.7777777777777778,
              "#fb9f3a"
             ],
             [
              0.8888888888888888,
              "#fdca26"
             ],
             [
              1,
              "#f0f921"
             ]
            ],
            "type": "surface"
           }
          ],
          "table": [
           {
            "cells": {
             "fill": {
              "color": "#EBF0F8"
             },
             "line": {
              "color": "white"
             }
            },
            "header": {
             "fill": {
              "color": "#C8D4E3"
             },
             "line": {
              "color": "white"
             }
            },
            "type": "table"
           }
          ]
         },
         "layout": {
          "annotationdefaults": {
           "arrowcolor": "#2a3f5f",
           "arrowhead": 0,
           "arrowwidth": 1
          },
          "autotypenumbers": "strict",
          "coloraxis": {
           "colorbar": {
            "outlinewidth": 0,
            "ticks": ""
           }
          },
          "colorscale": {
           "diverging": [
            [
             0,
             "#8e0152"
            ],
            [
             0.1,
             "#c51b7d"
            ],
            [
             0.2,
             "#de77ae"
            ],
            [
             0.3,
             "#f1b6da"
            ],
            [
             0.4,
             "#fde0ef"
            ],
            [
             0.5,
             "#f7f7f7"
            ],
            [
             0.6,
             "#e6f5d0"
            ],
            [
             0.7,
             "#b8e186"
            ],
            [
             0.8,
             "#7fbc41"
            ],
            [
             0.9,
             "#4d9221"
            ],
            [
             1,
             "#276419"
            ]
           ],
           "sequential": [
            [
             0,
             "#0d0887"
            ],
            [
             0.1111111111111111,
             "#46039f"
            ],
            [
             0.2222222222222222,
             "#7201a8"
            ],
            [
             0.3333333333333333,
             "#9c179e"
            ],
            [
             0.4444444444444444,
             "#bd3786"
            ],
            [
             0.5555555555555556,
             "#d8576b"
            ],
            [
             0.6666666666666666,
             "#ed7953"
            ],
            [
             0.7777777777777778,
             "#fb9f3a"
            ],
            [
             0.8888888888888888,
             "#fdca26"
            ],
            [
             1,
             "#f0f921"
            ]
           ],
           "sequentialminus": [
            [
             0,
             "#0d0887"
            ],
            [
             0.1111111111111111,
             "#46039f"
            ],
            [
             0.2222222222222222,
             "#7201a8"
            ],
            [
             0.3333333333333333,
             "#9c179e"
            ],
            [
             0.4444444444444444,
             "#bd3786"
            ],
            [
             0.5555555555555556,
             "#d8576b"
            ],
            [
             0.6666666666666666,
             "#ed7953"
            ],
            [
             0.7777777777777778,
             "#fb9f3a"
            ],
            [
             0.8888888888888888,
             "#fdca26"
            ],
            [
             1,
             "#f0f921"
            ]
           ]
          },
          "colorway": [
           "#636efa",
           "#EF553B",
           "#00cc96",
           "#ab63fa",
           "#FFA15A",
           "#19d3f3",
           "#FF6692",
           "#B6E880",
           "#FF97FF",
           "#FECB52"
          ],
          "font": {
           "color": "#2a3f5f"
          },
          "geo": {
           "bgcolor": "white",
           "lakecolor": "white",
           "landcolor": "#E5ECF6",
           "showlakes": true,
           "showland": true,
           "subunitcolor": "white"
          },
          "hoverlabel": {
           "align": "left"
          },
          "hovermode": "closest",
          "mapbox": {
           "style": "light"
          },
          "paper_bgcolor": "white",
          "plot_bgcolor": "#E5ECF6",
          "polar": {
           "angularaxis": {
            "gridcolor": "white",
            "linecolor": "white",
            "ticks": ""
           },
           "bgcolor": "#E5ECF6",
           "radialaxis": {
            "gridcolor": "white",
            "linecolor": "white",
            "ticks": ""
           }
          },
          "scene": {
           "xaxis": {
            "backgroundcolor": "#E5ECF6",
            "gridcolor": "white",
            "gridwidth": 2,
            "linecolor": "white",
            "showbackground": true,
            "ticks": "",
            "zerolinecolor": "white"
           },
           "yaxis": {
            "backgroundcolor": "#E5ECF6",
            "gridcolor": "white",
            "gridwidth": 2,
            "linecolor": "white",
            "showbackground": true,
            "ticks": "",
            "zerolinecolor": "white"
           },
           "zaxis": {
            "backgroundcolor": "#E5ECF6",
            "gridcolor": "white",
            "gridwidth": 2,
            "linecolor": "white",
            "showbackground": true,
            "ticks": "",
            "zerolinecolor": "white"
           }
          },
          "shapedefaults": {
           "line": {
            "color": "#2a3f5f"
           }
          },
          "ternary": {
           "aaxis": {
            "gridcolor": "white",
            "linecolor": "white",
            "ticks": ""
           },
           "baxis": {
            "gridcolor": "white",
            "linecolor": "white",
            "ticks": ""
           },
           "bgcolor": "#E5ECF6",
           "caxis": {
            "gridcolor": "white",
            "linecolor": "white",
            "ticks": ""
           }
          },
          "title": {
           "x": 0.05
          },
          "xaxis": {
           "automargin": true,
           "gridcolor": "white",
           "linecolor": "white",
           "ticks": "",
           "title": {
            "standoff": 15
           },
           "zerolinecolor": "white",
           "zerolinewidth": 2
          },
          "yaxis": {
           "automargin": true,
           "gridcolor": "white",
           "linecolor": "white",
           "ticks": "",
           "title": {
            "standoff": 15
           },
           "zerolinecolor": "white",
           "zerolinewidth": 2
          }
         }
        },
        "title": {
         "font": {
          "color": "#4D5663"
         }
        },
        "xaxis": {
         "gridcolor": "#E1E5ED",
         "showgrid": true,
         "tickfont": {
          "color": "#4D5663"
         },
         "title": {
          "font": {
           "color": "#4D5663"
          },
          "text": ""
         },
         "zerolinecolor": "#E1E5ED"
        },
        "yaxis": {
         "gridcolor": "#E1E5ED",
         "showgrid": true,
         "tickfont": {
          "color": "#4D5663"
         },
         "title": {
          "font": {
           "color": "#4D5663"
          },
          "text": ""
         },
         "zerolinecolor": "#E1E5ED"
        }
       }
      },
      "text/html": [
       "<div>                            <div id=\"3e9d22a6-5462-4e62-941d-d11029b61b76\" class=\"plotly-graph-div\" style=\"height:525px; width:100%;\"></div>            <script type=\"text/javascript\">                require([\"plotly\"], function(Plotly) {                    window.PLOTLYENV=window.PLOTLYENV || {};\n",
       "                    window.PLOTLYENV.BASE_URL='https://plot.ly';                                    if (document.getElementById(\"3e9d22a6-5462-4e62-941d-d11029b61b76\")) {                    Plotly.newPlot(                        \"3e9d22a6-5462-4e62-941d-d11029b61b76\",                        [{\"marker\":{\"color\":\"rgba(255, 153, 51, 0.6)\",\"line\":{\"color\":\"rgba(255, 153, 51, 1.0)\",\"width\":1}},\"name\":\"A\",\"orientation\":\"v\",\"text\":\"\",\"x\":[0,1,2,3,4,5,6,7,8,9,10,11,12,13,14,15,16,17,18,19,20,21,22,23,24,25,26,27,28,29,30,31,32,33,34,35,36,37,38,39,40,41,42,43,44,45,46,47,48,49,50,51,52,53,54,55,56,57,58,59,60,61,62,63,64,65,66,67,68,69,70,71,72,73,74,75,76,77,78,79,80,81,82,83,84,85,86,87,88,89,90,91,92,93,94,95,96,97,98,99],\"y\":[3.3625825147031634,-0.6885621495157169,0.5149951992086972,-0.4976600607971672,1.3129178129369143,1.259037760305938,-0.8205591484786454,-0.2888956899883146,-0.09602816876888236,-0.9613950050487399,0.19756992435357082,-2.010039225046455,-0.7479232977395808,1.947999686378811,-1.300068284850122,0.8562782186572203,-0.8554492701360895,-0.4206993361270417,0.17322463597602866,-0.47160211461434376,0.565677357194077,-0.6594632474857488,1.7551221205900165,0.7357358194208311,-1.1591709602449005,-0.05419091582379508,-0.36257185525324137,1.4349669783777106,-0.5661528981377684,-0.407032366454418,0.22755126025017564,0.8257857482311864,0.27076051378642957,-0.46987215853669007,-0.6260892978035598,-0.14422154840098403,0.06729047029481175,-0.7538901577971123,-0.16372387540641004,-1.5306935620588862,1.7378715409320646,1.8728785308476077,-0.22596064971310095,0.19265357626344148,1.3095974819986245,-0.8467226757105627,-0.47588441755457705,0.8436192849298026,-1.0696497054771597,-0.29246972729030885,-0.5072696949324063,-1.804060391633852,0.41463973873286825,-0.06065342496772562,-1.2132110689335833,-0.1869364025887339,0.7239663414003534,-0.03198459252341648,0.9917197143234533,0.4124466650325076,-0.6198057419680839,-0.27086068891135073,-1.6085151157707147,-0.5886897832373408,-2.03889655784642,-0.08269100136583725,-0.2998182776646363,0.7537301596831394,-0.5572938977691413,0.2816574459013314,0.12511549492515286,-1.1520414977821023,-1.6077418183548926,0.12518543876338792,-0.17240992239466557,-0.29687603356526354,-0.538488421711546,1.011892155339132,0.5242967165890116,0.37788940477311916,1.3818585203086495,1.3322459158616347,1.3491805785283302,0.260837473417611,0.9770174853395498,-0.417469144514007,0.2532052106744681,-1.418974713556114,-1.304961959687015,-0.7850198786305627,-2.637960154783843,-0.702041364600879,0.2929621979386714,-0.31570510433110843,-0.2629023198827632,0.19022263715975085,0.6217882134487541,-0.2991271853655061,1.0088878670316135,-1.6952584120476268],\"type\":\"bar\"},{\"marker\":{\"color\":\"rgba(55, 128, 191, 0.6)\",\"line\":{\"color\":\"rgba(55, 128, 191, 1.0)\",\"width\":1}},\"name\":\"B\",\"orientation\":\"v\",\"text\":\"\",\"x\":[0,1,2,3,4,5,6,7,8,9,10,11,12,13,14,15,16,17,18,19,20,21,22,23,24,25,26,27,28,29,30,31,32,33,34,35,36,37,38,39,40,41,42,43,44,45,46,47,48,49,50,51,52,53,54,55,56,57,58,59,60,61,62,63,64,65,66,67,68,69,70,71,72,73,74,75,76,77,78,79,80,81,82,83,84,85,86,87,88,89,90,91,92,93,94,95,96,97,98,99],\"y\":[-0.09869980248667033,2.03726652741454,1.4394828771486599,1.8697131285068431,-0.5548997790378658,-0.6217206439491961,-0.689074198736593,-0.06741428706327046,1.7098599778074983,-0.4176920959973648,2.168907375948452,-0.4880158437300923,0.27498240917764155,0.08170163057623107,-0.03384861897299663,1.647092749347639,0.15860105398020632,0.059442598251813514,-0.5762077458563473,1.4150104934559853,-0.5749855002518763,-0.546415696315059,-1.5240091166445844,-0.9241042955106828,-1.9699502760010996,-0.6245600967739037,0.46518656287393384,-0.5218551564845291,0.2791729390951336,0.38578951337570555,0.39588598472909636,-0.7255379856229528,-0.56042666640254,-0.6027380454238817,0.06544925823079883,0.0977013071597415,0.2884822951944402,0.01713950529145413,-0.6866144000900855,-0.7898794564866739,0.10855608206827938,-0.22219683727590325,0.8283900308964371,-0.22510174689080045,0.08635559723721953,0.5335960581183034,0.37052671554643235,-0.570615537939435,0.2934992940562579,0.35328262839809565,-0.504249051160435,-1.9841088941570533,0.16468981598788138,-0.457678976262291,-0.4458065995793777,-0.6009038322071909,1.081394434790141,-0.32228195363254253,-0.2734324040026059,-0.11560060379954049,-1.145759112427046,-0.11539531430117402,0.32766295593105765,-0.373990881876142,-1.8553040836366972,0.41643076492351705,0.8492089009344047,-0.7965102060113378,2.036714812577297,0.21979935049899096,-1.1294971239943814,0.15636794398823822,0.19528867658492846,-0.664078836346772,0.29684278242568446,-0.8367625226528052,0.7616986595793469,1.855823984151398,-1.133439152106387,-0.8195629205557495,-0.46718347774595076,0.9486061350544259,-0.07737115781296872,-0.42174556204453584,1.6477605761097094,0.382673801536673,1.0452339650064126,-1.2834000440096809,0.8211643104999973,2.0187466797608917,0.03507192302206712,-1.290810831468579,0.7469538642891566,-0.7722379464065471,-0.7828371849281098,-0.7157909433349646,1.0350233315650033,0.34197577939435325,-0.20965832848228794,0.33295144312351205],\"type\":\"bar\"},{\"marker\":{\"color\":\"rgba(50, 171, 96, 0.6)\",\"line\":{\"color\":\"rgba(50, 171, 96, 1.0)\",\"width\":1}},\"name\":\"C\",\"orientation\":\"v\",\"text\":\"\",\"x\":[0,1,2,3,4,5,6,7,8,9,10,11,12,13,14,15,16,17,18,19,20,21,22,23,24,25,26,27,28,29,30,31,32,33,34,35,36,37,38,39,40,41,42,43,44,45,46,47,48,49,50,51,52,53,54,55,56,57,58,59,60,61,62,63,64,65,66,67,68,69,70,71,72,73,74,75,76,77,78,79,80,81,82,83,84,85,86,87,88,89,90,91,92,93,94,95,96,97,98,99],\"y\":[-0.03871432534083431,0.8115707952131627,-0.17665423819459455,1.3466930613339523,-0.7096242874361512,0.5827954368056582,0.46518279753224095,-1.5660683477890591,-0.33199610826936693,-0.4744363313695482,1.4711440122729522,-0.003955344986920965,0.0562545380152191,0.15362277115179548,-0.36353528708391786,-0.012124866275137487,-0.20009491093416557,0.9614757069810966,0.7697978672912913,-0.23742915591891228,0.9725222749061871,0.41582536826645344,-1.0625242653194664,-0.7900579467789591,-0.6818934981943373,-0.13917048218982198,-0.3541996772670713,-0.8213352921077302,-0.07126063095007504,-0.26033422049286276,-0.5289646963018059,-0.43873497104461107,-0.45044738503422543,0.7478128184341659,0.6641194392583254,-0.979094314437018,-1.119399923453585,-1.5594785503686877,0.7599857788414909,-1.9097517568392404,-1.9468678465506883,0.5218375682681676,-1.0396394039937231,1.1276287199659947,-1.184342666394064,0.022131779564743076,-0.3201532437258341,-0.19702044383341424,-0.3758894766712151,0.05237384319038519,1.5172743804134299,2.4247879322619643,-0.9755230759676465,1.012608550719346,-1.290639386572514,-0.17154180805176894,0.7087889536846921,0.16864636263787605,-0.1312296598447758,0.7305408215857765,-1.3689031206003062,0.22090233284189276,1.3597780697136148,0.9944818070429114,0.6964499854986963,0.6745445328562419,-0.6662469380254723,-1.0174720887610438,0.2300492223012016,-0.036954874906627216,-0.726688304201755,-1.0211999418778872,1.0250471207567862,0.21183444445887054,0.37261079372522277,0.5822324112944044,-0.22929439516700795,0.2480386641167231,0.5643644796350337,0.9750637011146529,-0.18448805836167542,1.0717767289630435,2.0980105239450886,0.38372361927407656,-0.004206138482686182,-0.13370915390265514,0.16589187268661165,0.47628847080812187,0.704925336787344,0.12372473894611717,0.15210545578859208,-0.9406035775255597,-0.226907080030317,0.2499324277887329,-1.5170304489877942,1.2639490310851944,-0.516687512771716,2.305904708755523,-1.3952138991015384,0.630778993152211],\"type\":\"bar\"},{\"marker\":{\"color\":\"rgba(128, 0, 128, 0.6)\",\"line\":{\"color\":\"rgba(128, 0, 128, 1.0)\",\"width\":1}},\"name\":\"D\",\"orientation\":\"v\",\"text\":\"\",\"x\":[0,1,2,3,4,5,6,7,8,9,10,11,12,13,14,15,16,17,18,19,20,21,22,23,24,25,26,27,28,29,30,31,32,33,34,35,36,37,38,39,40,41,42,43,44,45,46,47,48,49,50,51,52,53,54,55,56,57,58,59,60,61,62,63,64,65,66,67,68,69,70,71,72,73,74,75,76,77,78,79,80,81,82,83,84,85,86,87,88,89,90,91,92,93,94,95,96,97,98,99],\"y\":[-0.2610754490700943,-0.31274259932016485,-0.05195486783740825,-0.6363720505501187,0.26403720932684455,-0.670878971050256,0.35306264868315396,-1.4766036084490375,-1.0570360760952613,-0.5716289462859565,0.5996025660857952,0.6669472548117814,-0.20190710037508552,0.6591484959562992,0.3007018794461643,-2.3269309002298684,-0.45564726513007425,0.31412461514473483,1.5775316971860345,-0.20816830651970206,1.0992586180529906,1.2482324665607225,0.5963441305128984,0.6759383135148479,-0.31391325666451225,1.20331051531392,-1.1189113149477334,0.04340009025224424,-0.5873078097584103,-1.7395764773201399,1.7318829844673942,-1.8582286156354608,0.2102896767181078,0.036038219215623425,1.7315528329827625,-0.23751896821776966,-1.2619041772231365,-0.4209939529770629,0.6444023091948922,-0.12611657156977105,-0.8679107790133433,-1.2941016753923553,0.14594471207322482,-1.0981622210575677,-0.08624722509148783,-0.5531726942858656,1.3258006005289427,-0.5239864957809007,0.09995128771691131,2.10208730930389,-0.6752478145794528,-0.3840445714707245,-0.1372520446980467,0.3886173501207647,1.2332964234722699,1.4381637163220384,-0.25764043429119016,-0.9842129074651307,-0.13624389171313364,-1.2929703628833762,-0.21066150761967375,-1.0517433412117014,0.12062324844287063,1.2927129194575222,-0.7835829494349476,-0.7570704661624947,-1.161275272484911,-0.6580589800179951,0.4574163292136516,0.9282633619209005,1.2361508560233534,1.6358461396414072,-0.3275027468944334,0.4715100581108882,0.1900867796549248,0.9503595438312736,0.2846599033154163,0.7838010808747881,-0.6215426494588088,-2.5585283098605864,2.792906821685706,-0.21163724717237037,-0.799844955740187,-0.12841497548761696,1.643525322798787,0.6669179707736347,-2.071559206824266,0.8811338533173473,-2.0193879616140107,-1.9139249417279494,0.9818762536192873,-0.14457914752721937,-0.1019202571490361,-0.10167892581764211,1.2887099889784408,0.7911773663583078,-1.0221485430858486,-0.47387097215670204,-0.20350765600332388,-0.13150023481557147],\"type\":\"bar\"}],                        {\"legend\":{\"bgcolor\":\"#F5F6F9\",\"font\":{\"color\":\"#4D5663\"}},\"paper_bgcolor\":\"#F5F6F9\",\"plot_bgcolor\":\"#F5F6F9\",\"template\":{\"data\":{\"barpolar\":[{\"marker\":{\"line\":{\"color\":\"#E5ECF6\",\"width\":0.5},\"pattern\":{\"fillmode\":\"overlay\",\"size\":10,\"solidity\":0.2}},\"type\":\"barpolar\"}],\"bar\":[{\"error_x\":{\"color\":\"#2a3f5f\"},\"error_y\":{\"color\":\"#2a3f5f\"},\"marker\":{\"line\":{\"color\":\"#E5ECF6\",\"width\":0.5},\"pattern\":{\"fillmode\":\"overlay\",\"size\":10,\"solidity\":0.2}},\"type\":\"bar\"}],\"carpet\":[{\"aaxis\":{\"endlinecolor\":\"#2a3f5f\",\"gridcolor\":\"white\",\"linecolor\":\"white\",\"minorgridcolor\":\"white\",\"startlinecolor\":\"#2a3f5f\"},\"baxis\":{\"endlinecolor\":\"#2a3f5f\",\"gridcolor\":\"white\",\"linecolor\":\"white\",\"minorgridcolor\":\"white\",\"startlinecolor\":\"#2a3f5f\"},\"type\":\"carpet\"}],\"choropleth\":[{\"colorbar\":{\"outlinewidth\":0,\"ticks\":\"\"},\"type\":\"choropleth\"}],\"contourcarpet\":[{\"colorbar\":{\"outlinewidth\":0,\"ticks\":\"\"},\"type\":\"contourcarpet\"}],\"contour\":[{\"colorbar\":{\"outlinewidth\":0,\"ticks\":\"\"},\"colorscale\":[[0.0,\"#0d0887\"],[0.1111111111111111,\"#46039f\"],[0.2222222222222222,\"#7201a8\"],[0.3333333333333333,\"#9c179e\"],[0.4444444444444444,\"#bd3786\"],[0.5555555555555556,\"#d8576b\"],[0.6666666666666666,\"#ed7953\"],[0.7777777777777778,\"#fb9f3a\"],[0.8888888888888888,\"#fdca26\"],[1.0,\"#f0f921\"]],\"type\":\"contour\"}],\"heatmapgl\":[{\"colorbar\":{\"outlinewidth\":0,\"ticks\":\"\"},\"colorscale\":[[0.0,\"#0d0887\"],[0.1111111111111111,\"#46039f\"],[0.2222222222222222,\"#7201a8\"],[0.3333333333333333,\"#9c179e\"],[0.4444444444444444,\"#bd3786\"],[0.5555555555555556,\"#d8576b\"],[0.6666666666666666,\"#ed7953\"],[0.7777777777777778,\"#fb9f3a\"],[0.8888888888888888,\"#fdca26\"],[1.0,\"#f0f921\"]],\"type\":\"heatmapgl\"}],\"heatmap\":[{\"colorbar\":{\"outlinewidth\":0,\"ticks\":\"\"},\"colorscale\":[[0.0,\"#0d0887\"],[0.1111111111111111,\"#46039f\"],[0.2222222222222222,\"#7201a8\"],[0.3333333333333333,\"#9c179e\"],[0.4444444444444444,\"#bd3786\"],[0.5555555555555556,\"#d8576b\"],[0.6666666666666666,\"#ed7953\"],[0.7777777777777778,\"#fb9f3a\"],[0.8888888888888888,\"#fdca26\"],[1.0,\"#f0f921\"]],\"type\":\"heatmap\"}],\"histogram2dcontour\":[{\"colorbar\":{\"outlinewidth\":0,\"ticks\":\"\"},\"colorscale\":[[0.0,\"#0d0887\"],[0.1111111111111111,\"#46039f\"],[0.2222222222222222,\"#7201a8\"],[0.3333333333333333,\"#9c179e\"],[0.4444444444444444,\"#bd3786\"],[0.5555555555555556,\"#d8576b\"],[0.6666666666666666,\"#ed7953\"],[0.7777777777777778,\"#fb9f3a\"],[0.8888888888888888,\"#fdca26\"],[1.0,\"#f0f921\"]],\"type\":\"histogram2dcontour\"}],\"histogram2d\":[{\"colorbar\":{\"outlinewidth\":0,\"ticks\":\"\"},\"colorscale\":[[0.0,\"#0d0887\"],[0.1111111111111111,\"#46039f\"],[0.2222222222222222,\"#7201a8\"],[0.3333333333333333,\"#9c179e\"],[0.4444444444444444,\"#bd3786\"],[0.5555555555555556,\"#d8576b\"],[0.6666666666666666,\"#ed7953\"],[0.7777777777777778,\"#fb9f3a\"],[0.8888888888888888,\"#fdca26\"],[1.0,\"#f0f921\"]],\"type\":\"histogram2d\"}],\"histogram\":[{\"marker\":{\"pattern\":{\"fillmode\":\"overlay\",\"size\":10,\"solidity\":0.2}},\"type\":\"histogram\"}],\"mesh3d\":[{\"colorbar\":{\"outlinewidth\":0,\"ticks\":\"\"},\"type\":\"mesh3d\"}],\"parcoords\":[{\"line\":{\"colorbar\":{\"outlinewidth\":0,\"ticks\":\"\"}},\"type\":\"parcoords\"}],\"pie\":[{\"automargin\":true,\"type\":\"pie\"}],\"scatter3d\":[{\"line\":{\"colorbar\":{\"outlinewidth\":0,\"ticks\":\"\"}},\"marker\":{\"colorbar\":{\"outlinewidth\":0,\"ticks\":\"\"}},\"type\":\"scatter3d\"}],\"scattercarpet\":[{\"marker\":{\"colorbar\":{\"outlinewidth\":0,\"ticks\":\"\"}},\"type\":\"scattercarpet\"}],\"scattergeo\":[{\"marker\":{\"colorbar\":{\"outlinewidth\":0,\"ticks\":\"\"}},\"type\":\"scattergeo\"}],\"scattergl\":[{\"marker\":{\"colorbar\":{\"outlinewidth\":0,\"ticks\":\"\"}},\"type\":\"scattergl\"}],\"scattermapbox\":[{\"marker\":{\"colorbar\":{\"outlinewidth\":0,\"ticks\":\"\"}},\"type\":\"scattermapbox\"}],\"scatterpolargl\":[{\"marker\":{\"colorbar\":{\"outlinewidth\":0,\"ticks\":\"\"}},\"type\":\"scatterpolargl\"}],\"scatterpolar\":[{\"marker\":{\"colorbar\":{\"outlinewidth\":0,\"ticks\":\"\"}},\"type\":\"scatterpolar\"}],\"scatter\":[{\"marker\":{\"colorbar\":{\"outlinewidth\":0,\"ticks\":\"\"}},\"type\":\"scatter\"}],\"scatterternary\":[{\"marker\":{\"colorbar\":{\"outlinewidth\":0,\"ticks\":\"\"}},\"type\":\"scatterternary\"}],\"surface\":[{\"colorbar\":{\"outlinewidth\":0,\"ticks\":\"\"},\"colorscale\":[[0.0,\"#0d0887\"],[0.1111111111111111,\"#46039f\"],[0.2222222222222222,\"#7201a8\"],[0.3333333333333333,\"#9c179e\"],[0.4444444444444444,\"#bd3786\"],[0.5555555555555556,\"#d8576b\"],[0.6666666666666666,\"#ed7953\"],[0.7777777777777778,\"#fb9f3a\"],[0.8888888888888888,\"#fdca26\"],[1.0,\"#f0f921\"]],\"type\":\"surface\"}],\"table\":[{\"cells\":{\"fill\":{\"color\":\"#EBF0F8\"},\"line\":{\"color\":\"white\"}},\"header\":{\"fill\":{\"color\":\"#C8D4E3\"},\"line\":{\"color\":\"white\"}},\"type\":\"table\"}]},\"layout\":{\"annotationdefaults\":{\"arrowcolor\":\"#2a3f5f\",\"arrowhead\":0,\"arrowwidth\":1},\"autotypenumbers\":\"strict\",\"coloraxis\":{\"colorbar\":{\"outlinewidth\":0,\"ticks\":\"\"}},\"colorscale\":{\"diverging\":[[0,\"#8e0152\"],[0.1,\"#c51b7d\"],[0.2,\"#de77ae\"],[0.3,\"#f1b6da\"],[0.4,\"#fde0ef\"],[0.5,\"#f7f7f7\"],[0.6,\"#e6f5d0\"],[0.7,\"#b8e186\"],[0.8,\"#7fbc41\"],[0.9,\"#4d9221\"],[1,\"#276419\"]],\"sequential\":[[0.0,\"#0d0887\"],[0.1111111111111111,\"#46039f\"],[0.2222222222222222,\"#7201a8\"],[0.3333333333333333,\"#9c179e\"],[0.4444444444444444,\"#bd3786\"],[0.5555555555555556,\"#d8576b\"],[0.6666666666666666,\"#ed7953\"],[0.7777777777777778,\"#fb9f3a\"],[0.8888888888888888,\"#fdca26\"],[1.0,\"#f0f921\"]],\"sequentialminus\":[[0.0,\"#0d0887\"],[0.1111111111111111,\"#46039f\"],[0.2222222222222222,\"#7201a8\"],[0.3333333333333333,\"#9c179e\"],[0.4444444444444444,\"#bd3786\"],[0.5555555555555556,\"#d8576b\"],[0.6666666666666666,\"#ed7953\"],[0.7777777777777778,\"#fb9f3a\"],[0.8888888888888888,\"#fdca26\"],[1.0,\"#f0f921\"]]},\"colorway\":[\"#636efa\",\"#EF553B\",\"#00cc96\",\"#ab63fa\",\"#FFA15A\",\"#19d3f3\",\"#FF6692\",\"#B6E880\",\"#FF97FF\",\"#FECB52\"],\"font\":{\"color\":\"#2a3f5f\"},\"geo\":{\"bgcolor\":\"white\",\"lakecolor\":\"white\",\"landcolor\":\"#E5ECF6\",\"showlakes\":true,\"showland\":true,\"subunitcolor\":\"white\"},\"hoverlabel\":{\"align\":\"left\"},\"hovermode\":\"closest\",\"mapbox\":{\"style\":\"light\"},\"paper_bgcolor\":\"white\",\"plot_bgcolor\":\"#E5ECF6\",\"polar\":{\"angularaxis\":{\"gridcolor\":\"white\",\"linecolor\":\"white\",\"ticks\":\"\"},\"bgcolor\":\"#E5ECF6\",\"radialaxis\":{\"gridcolor\":\"white\",\"linecolor\":\"white\",\"ticks\":\"\"}},\"scene\":{\"xaxis\":{\"backgroundcolor\":\"#E5ECF6\",\"gridcolor\":\"white\",\"gridwidth\":2,\"linecolor\":\"white\",\"showbackground\":true,\"ticks\":\"\",\"zerolinecolor\":\"white\"},\"yaxis\":{\"backgroundcolor\":\"#E5ECF6\",\"gridcolor\":\"white\",\"gridwidth\":2,\"linecolor\":\"white\",\"showbackground\":true,\"ticks\":\"\",\"zerolinecolor\":\"white\"},\"zaxis\":{\"backgroundcolor\":\"#E5ECF6\",\"gridcolor\":\"white\",\"gridwidth\":2,\"linecolor\":\"white\",\"showbackground\":true,\"ticks\":\"\",\"zerolinecolor\":\"white\"}},\"shapedefaults\":{\"line\":{\"color\":\"#2a3f5f\"}},\"ternary\":{\"aaxis\":{\"gridcolor\":\"white\",\"linecolor\":\"white\",\"ticks\":\"\"},\"baxis\":{\"gridcolor\":\"white\",\"linecolor\":\"white\",\"ticks\":\"\"},\"bgcolor\":\"#E5ECF6\",\"caxis\":{\"gridcolor\":\"white\",\"linecolor\":\"white\",\"ticks\":\"\"}},\"title\":{\"x\":0.05},\"xaxis\":{\"automargin\":true,\"gridcolor\":\"white\",\"linecolor\":\"white\",\"ticks\":\"\",\"title\":{\"standoff\":15},\"zerolinecolor\":\"white\",\"zerolinewidth\":2},\"yaxis\":{\"automargin\":true,\"gridcolor\":\"white\",\"linecolor\":\"white\",\"ticks\":\"\",\"title\":{\"standoff\":15},\"zerolinecolor\":\"white\",\"zerolinewidth\":2}}},\"title\":{\"font\":{\"color\":\"#4D5663\"}},\"xaxis\":{\"gridcolor\":\"#E1E5ED\",\"showgrid\":true,\"tickfont\":{\"color\":\"#4D5663\"},\"title\":{\"font\":{\"color\":\"#4D5663\"},\"text\":\"\"},\"zerolinecolor\":\"#E1E5ED\"},\"yaxis\":{\"gridcolor\":\"#E1E5ED\",\"showgrid\":true,\"tickfont\":{\"color\":\"#4D5663\"},\"title\":{\"font\":{\"color\":\"#4D5663\"},\"text\":\"\"},\"zerolinecolor\":\"#E1E5ED\"}},                        {\"showLink\": true, \"linkText\": \"Export to plot.ly\", \"plotlyServerURL\": \"https://plot.ly\", \"responsive\": true}                    ).then(function(){\n",
       "                            \n",
       "var gd = document.getElementById('3e9d22a6-5462-4e62-941d-d11029b61b76');\n",
       "var x = new MutationObserver(function (mutations, observer) {{\n",
       "        var display = window.getComputedStyle(gd).display;\n",
       "        if (!display || display === 'none') {{\n",
       "            console.log([gd, 'removed!']);\n",
       "            Plotly.purge(gd);\n",
       "            observer.disconnect();\n",
       "        }}\n",
       "}});\n",
       "\n",
       "// Listen for the removal of the full notebook cells\n",
       "var notebookContainer = gd.closest('#notebook-container');\n",
       "if (notebookContainer) {{\n",
       "    x.observe(notebookContainer, {childList: true});\n",
       "}}\n",
       "\n",
       "// Listen for the clearing of the current output cell\n",
       "var outputEl = gd.closest('.output');\n",
       "if (outputEl) {{\n",
       "    x.observe(outputEl, {childList: true});\n",
       "}}\n",
       "\n",
       "                        })                };                });            </script>        </div>"
      ]
     },
     "metadata": {},
     "output_type": "display_data"
    }
   ],
   "source": [
    "df.iplot(kind='bar')"
   ]
  },
  {
   "cell_type": "code",
   "execution_count": 20,
   "metadata": {
    "ExecuteTime": {
     "end_time": "2019-05-06T16:55:37.544012Z",
     "start_time": "2019-05-06T16:55:37.467217Z"
    }
   },
   "outputs": [
    {
     "data": {
      "application/vnd.plotly.v1+json": {
       "config": {
        "linkText": "Export to plot.ly",
        "plotlyServerURL": "https://plot.ly",
        "showLink": true
       },
       "data": [
        {
         "marker": {
          "color": "rgba(255, 153, 51, 0.6)",
          "line": {
           "color": "rgba(255, 153, 51, 1.0)",
           "width": 1
          }
         },
         "name": "None",
         "orientation": "v",
         "text": "",
         "type": "bar",
         "x": [
          "A",
          "B",
          "C",
          "D"
         ],
         "y": [
          100,
          100,
          100,
          100
         ]
        }
       ],
       "layout": {
        "legend": {
         "bgcolor": "#F5F6F9",
         "font": {
          "color": "#4D5663"
         }
        },
        "paper_bgcolor": "#F5F6F9",
        "plot_bgcolor": "#F5F6F9",
        "template": {
         "data": {
          "bar": [
           {
            "error_x": {
             "color": "#2a3f5f"
            },
            "error_y": {
             "color": "#2a3f5f"
            },
            "marker": {
             "line": {
              "color": "#E5ECF6",
              "width": 0.5
             },
             "pattern": {
              "fillmode": "overlay",
              "size": 10,
              "solidity": 0.2
             }
            },
            "type": "bar"
           }
          ],
          "barpolar": [
           {
            "marker": {
             "line": {
              "color": "#E5ECF6",
              "width": 0.5
             },
             "pattern": {
              "fillmode": "overlay",
              "size": 10,
              "solidity": 0.2
             }
            },
            "type": "barpolar"
           }
          ],
          "carpet": [
           {
            "aaxis": {
             "endlinecolor": "#2a3f5f",
             "gridcolor": "white",
             "linecolor": "white",
             "minorgridcolor": "white",
             "startlinecolor": "#2a3f5f"
            },
            "baxis": {
             "endlinecolor": "#2a3f5f",
             "gridcolor": "white",
             "linecolor": "white",
             "minorgridcolor": "white",
             "startlinecolor": "#2a3f5f"
            },
            "type": "carpet"
           }
          ],
          "choropleth": [
           {
            "colorbar": {
             "outlinewidth": 0,
             "ticks": ""
            },
            "type": "choropleth"
           }
          ],
          "contour": [
           {
            "colorbar": {
             "outlinewidth": 0,
             "ticks": ""
            },
            "colorscale": [
             [
              0,
              "#0d0887"
             ],
             [
              0.1111111111111111,
              "#46039f"
             ],
             [
              0.2222222222222222,
              "#7201a8"
             ],
             [
              0.3333333333333333,
              "#9c179e"
             ],
             [
              0.4444444444444444,
              "#bd3786"
             ],
             [
              0.5555555555555556,
              "#d8576b"
             ],
             [
              0.6666666666666666,
              "#ed7953"
             ],
             [
              0.7777777777777778,
              "#fb9f3a"
             ],
             [
              0.8888888888888888,
              "#fdca26"
             ],
             [
              1,
              "#f0f921"
             ]
            ],
            "type": "contour"
           }
          ],
          "contourcarpet": [
           {
            "colorbar": {
             "outlinewidth": 0,
             "ticks": ""
            },
            "type": "contourcarpet"
           }
          ],
          "heatmap": [
           {
            "colorbar": {
             "outlinewidth": 0,
             "ticks": ""
            },
            "colorscale": [
             [
              0,
              "#0d0887"
             ],
             [
              0.1111111111111111,
              "#46039f"
             ],
             [
              0.2222222222222222,
              "#7201a8"
             ],
             [
              0.3333333333333333,
              "#9c179e"
             ],
             [
              0.4444444444444444,
              "#bd3786"
             ],
             [
              0.5555555555555556,
              "#d8576b"
             ],
             [
              0.6666666666666666,
              "#ed7953"
             ],
             [
              0.7777777777777778,
              "#fb9f3a"
             ],
             [
              0.8888888888888888,
              "#fdca26"
             ],
             [
              1,
              "#f0f921"
             ]
            ],
            "type": "heatmap"
           }
          ],
          "heatmapgl": [
           {
            "colorbar": {
             "outlinewidth": 0,
             "ticks": ""
            },
            "colorscale": [
             [
              0,
              "#0d0887"
             ],
             [
              0.1111111111111111,
              "#46039f"
             ],
             [
              0.2222222222222222,
              "#7201a8"
             ],
             [
              0.3333333333333333,
              "#9c179e"
             ],
             [
              0.4444444444444444,
              "#bd3786"
             ],
             [
              0.5555555555555556,
              "#d8576b"
             ],
             [
              0.6666666666666666,
              "#ed7953"
             ],
             [
              0.7777777777777778,
              "#fb9f3a"
             ],
             [
              0.8888888888888888,
              "#fdca26"
             ],
             [
              1,
              "#f0f921"
             ]
            ],
            "type": "heatmapgl"
           }
          ],
          "histogram": [
           {
            "marker": {
             "pattern": {
              "fillmode": "overlay",
              "size": 10,
              "solidity": 0.2
             }
            },
            "type": "histogram"
           }
          ],
          "histogram2d": [
           {
            "colorbar": {
             "outlinewidth": 0,
             "ticks": ""
            },
            "colorscale": [
             [
              0,
              "#0d0887"
             ],
             [
              0.1111111111111111,
              "#46039f"
             ],
             [
              0.2222222222222222,
              "#7201a8"
             ],
             [
              0.3333333333333333,
              "#9c179e"
             ],
             [
              0.4444444444444444,
              "#bd3786"
             ],
             [
              0.5555555555555556,
              "#d8576b"
             ],
             [
              0.6666666666666666,
              "#ed7953"
             ],
             [
              0.7777777777777778,
              "#fb9f3a"
             ],
             [
              0.8888888888888888,
              "#fdca26"
             ],
             [
              1,
              "#f0f921"
             ]
            ],
            "type": "histogram2d"
           }
          ],
          "histogram2dcontour": [
           {
            "colorbar": {
             "outlinewidth": 0,
             "ticks": ""
            },
            "colorscale": [
             [
              0,
              "#0d0887"
             ],
             [
              0.1111111111111111,
              "#46039f"
             ],
             [
              0.2222222222222222,
              "#7201a8"
             ],
             [
              0.3333333333333333,
              "#9c179e"
             ],
             [
              0.4444444444444444,
              "#bd3786"
             ],
             [
              0.5555555555555556,
              "#d8576b"
             ],
             [
              0.6666666666666666,
              "#ed7953"
             ],
             [
              0.7777777777777778,
              "#fb9f3a"
             ],
             [
              0.8888888888888888,
              "#fdca26"
             ],
             [
              1,
              "#f0f921"
             ]
            ],
            "type": "histogram2dcontour"
           }
          ],
          "mesh3d": [
           {
            "colorbar": {
             "outlinewidth": 0,
             "ticks": ""
            },
            "type": "mesh3d"
           }
          ],
          "parcoords": [
           {
            "line": {
             "colorbar": {
              "outlinewidth": 0,
              "ticks": ""
             }
            },
            "type": "parcoords"
           }
          ],
          "pie": [
           {
            "automargin": true,
            "type": "pie"
           }
          ],
          "scatter": [
           {
            "marker": {
             "colorbar": {
              "outlinewidth": 0,
              "ticks": ""
             }
            },
            "type": "scatter"
           }
          ],
          "scatter3d": [
           {
            "line": {
             "colorbar": {
              "outlinewidth": 0,
              "ticks": ""
             }
            },
            "marker": {
             "colorbar": {
              "outlinewidth": 0,
              "ticks": ""
             }
            },
            "type": "scatter3d"
           }
          ],
          "scattercarpet": [
           {
            "marker": {
             "colorbar": {
              "outlinewidth": 0,
              "ticks": ""
             }
            },
            "type": "scattercarpet"
           }
          ],
          "scattergeo": [
           {
            "marker": {
             "colorbar": {
              "outlinewidth": 0,
              "ticks": ""
             }
            },
            "type": "scattergeo"
           }
          ],
          "scattergl": [
           {
            "marker": {
             "colorbar": {
              "outlinewidth": 0,
              "ticks": ""
             }
            },
            "type": "scattergl"
           }
          ],
          "scattermapbox": [
           {
            "marker": {
             "colorbar": {
              "outlinewidth": 0,
              "ticks": ""
             }
            },
            "type": "scattermapbox"
           }
          ],
          "scatterpolar": [
           {
            "marker": {
             "colorbar": {
              "outlinewidth": 0,
              "ticks": ""
             }
            },
            "type": "scatterpolar"
           }
          ],
          "scatterpolargl": [
           {
            "marker": {
             "colorbar": {
              "outlinewidth": 0,
              "ticks": ""
             }
            },
            "type": "scatterpolargl"
           }
          ],
          "scatterternary": [
           {
            "marker": {
             "colorbar": {
              "outlinewidth": 0,
              "ticks": ""
             }
            },
            "type": "scatterternary"
           }
          ],
          "surface": [
           {
            "colorbar": {
             "outlinewidth": 0,
             "ticks": ""
            },
            "colorscale": [
             [
              0,
              "#0d0887"
             ],
             [
              0.1111111111111111,
              "#46039f"
             ],
             [
              0.2222222222222222,
              "#7201a8"
             ],
             [
              0.3333333333333333,
              "#9c179e"
             ],
             [
              0.4444444444444444,
              "#bd3786"
             ],
             [
              0.5555555555555556,
              "#d8576b"
             ],
             [
              0.6666666666666666,
              "#ed7953"
             ],
             [
              0.7777777777777778,
              "#fb9f3a"
             ],
             [
              0.8888888888888888,
              "#fdca26"
             ],
             [
              1,
              "#f0f921"
             ]
            ],
            "type": "surface"
           }
          ],
          "table": [
           {
            "cells": {
             "fill": {
              "color": "#EBF0F8"
             },
             "line": {
              "color": "white"
             }
            },
            "header": {
             "fill": {
              "color": "#C8D4E3"
             },
             "line": {
              "color": "white"
             }
            },
            "type": "table"
           }
          ]
         },
         "layout": {
          "annotationdefaults": {
           "arrowcolor": "#2a3f5f",
           "arrowhead": 0,
           "arrowwidth": 1
          },
          "autotypenumbers": "strict",
          "coloraxis": {
           "colorbar": {
            "outlinewidth": 0,
            "ticks": ""
           }
          },
          "colorscale": {
           "diverging": [
            [
             0,
             "#8e0152"
            ],
            [
             0.1,
             "#c51b7d"
            ],
            [
             0.2,
             "#de77ae"
            ],
            [
             0.3,
             "#f1b6da"
            ],
            [
             0.4,
             "#fde0ef"
            ],
            [
             0.5,
             "#f7f7f7"
            ],
            [
             0.6,
             "#e6f5d0"
            ],
            [
             0.7,
             "#b8e186"
            ],
            [
             0.8,
             "#7fbc41"
            ],
            [
             0.9,
             "#4d9221"
            ],
            [
             1,
             "#276419"
            ]
           ],
           "sequential": [
            [
             0,
             "#0d0887"
            ],
            [
             0.1111111111111111,
             "#46039f"
            ],
            [
             0.2222222222222222,
             "#7201a8"
            ],
            [
             0.3333333333333333,
             "#9c179e"
            ],
            [
             0.4444444444444444,
             "#bd3786"
            ],
            [
             0.5555555555555556,
             "#d8576b"
            ],
            [
             0.6666666666666666,
             "#ed7953"
            ],
            [
             0.7777777777777778,
             "#fb9f3a"
            ],
            [
             0.8888888888888888,
             "#fdca26"
            ],
            [
             1,
             "#f0f921"
            ]
           ],
           "sequentialminus": [
            [
             0,
             "#0d0887"
            ],
            [
             0.1111111111111111,
             "#46039f"
            ],
            [
             0.2222222222222222,
             "#7201a8"
            ],
            [
             0.3333333333333333,
             "#9c179e"
            ],
            [
             0.4444444444444444,
             "#bd3786"
            ],
            [
             0.5555555555555556,
             "#d8576b"
            ],
            [
             0.6666666666666666,
             "#ed7953"
            ],
            [
             0.7777777777777778,
             "#fb9f3a"
            ],
            [
             0.8888888888888888,
             "#fdca26"
            ],
            [
             1,
             "#f0f921"
            ]
           ]
          },
          "colorway": [
           "#636efa",
           "#EF553B",
           "#00cc96",
           "#ab63fa",
           "#FFA15A",
           "#19d3f3",
           "#FF6692",
           "#B6E880",
           "#FF97FF",
           "#FECB52"
          ],
          "font": {
           "color": "#2a3f5f"
          },
          "geo": {
           "bgcolor": "white",
           "lakecolor": "white",
           "landcolor": "#E5ECF6",
           "showlakes": true,
           "showland": true,
           "subunitcolor": "white"
          },
          "hoverlabel": {
           "align": "left"
          },
          "hovermode": "closest",
          "mapbox": {
           "style": "light"
          },
          "paper_bgcolor": "white",
          "plot_bgcolor": "#E5ECF6",
          "polar": {
           "angularaxis": {
            "gridcolor": "white",
            "linecolor": "white",
            "ticks": ""
           },
           "bgcolor": "#E5ECF6",
           "radialaxis": {
            "gridcolor": "white",
            "linecolor": "white",
            "ticks": ""
           }
          },
          "scene": {
           "xaxis": {
            "backgroundcolor": "#E5ECF6",
            "gridcolor": "white",
            "gridwidth": 2,
            "linecolor": "white",
            "showbackground": true,
            "ticks": "",
            "zerolinecolor": "white"
           },
           "yaxis": {
            "backgroundcolor": "#E5ECF6",
            "gridcolor": "white",
            "gridwidth": 2,
            "linecolor": "white",
            "showbackground": true,
            "ticks": "",
            "zerolinecolor": "white"
           },
           "zaxis": {
            "backgroundcolor": "#E5ECF6",
            "gridcolor": "white",
            "gridwidth": 2,
            "linecolor": "white",
            "showbackground": true,
            "ticks": "",
            "zerolinecolor": "white"
           }
          },
          "shapedefaults": {
           "line": {
            "color": "#2a3f5f"
           }
          },
          "ternary": {
           "aaxis": {
            "gridcolor": "white",
            "linecolor": "white",
            "ticks": ""
           },
           "baxis": {
            "gridcolor": "white",
            "linecolor": "white",
            "ticks": ""
           },
           "bgcolor": "#E5ECF6",
           "caxis": {
            "gridcolor": "white",
            "linecolor": "white",
            "ticks": ""
           }
          },
          "title": {
           "x": 0.05
          },
          "xaxis": {
           "automargin": true,
           "gridcolor": "white",
           "linecolor": "white",
           "ticks": "",
           "title": {
            "standoff": 15
           },
           "zerolinecolor": "white",
           "zerolinewidth": 2
          },
          "yaxis": {
           "automargin": true,
           "gridcolor": "white",
           "linecolor": "white",
           "ticks": "",
           "title": {
            "standoff": 15
           },
           "zerolinecolor": "white",
           "zerolinewidth": 2
          }
         }
        },
        "title": {
         "font": {
          "color": "#4D5663"
         }
        },
        "xaxis": {
         "gridcolor": "#E1E5ED",
         "showgrid": true,
         "tickfont": {
          "color": "#4D5663"
         },
         "title": {
          "font": {
           "color": "#4D5663"
          },
          "text": ""
         },
         "zerolinecolor": "#E1E5ED"
        },
        "yaxis": {
         "gridcolor": "#E1E5ED",
         "showgrid": true,
         "tickfont": {
          "color": "#4D5663"
         },
         "title": {
          "font": {
           "color": "#4D5663"
          },
          "text": ""
         },
         "zerolinecolor": "#E1E5ED"
        }
       }
      },
      "text/html": [
       "<div>                            <div id=\"bd81ac06-6ad1-412b-86cf-dd23bdbb9d44\" class=\"plotly-graph-div\" style=\"height:525px; width:100%;\"></div>            <script type=\"text/javascript\">                require([\"plotly\"], function(Plotly) {                    window.PLOTLYENV=window.PLOTLYENV || {};\n",
       "                    window.PLOTLYENV.BASE_URL='https://plot.ly';                                    if (document.getElementById(\"bd81ac06-6ad1-412b-86cf-dd23bdbb9d44\")) {                    Plotly.newPlot(                        \"bd81ac06-6ad1-412b-86cf-dd23bdbb9d44\",                        [{\"marker\":{\"color\":\"rgba(255, 153, 51, 0.6)\",\"line\":{\"color\":\"rgba(255, 153, 51, 1.0)\",\"width\":1}},\"name\":\"None\",\"orientation\":\"v\",\"text\":\"\",\"x\":[\"A\",\"B\",\"C\",\"D\"],\"y\":[100,100,100,100],\"type\":\"bar\"}],                        {\"legend\":{\"bgcolor\":\"#F5F6F9\",\"font\":{\"color\":\"#4D5663\"}},\"paper_bgcolor\":\"#F5F6F9\",\"plot_bgcolor\":\"#F5F6F9\",\"template\":{\"data\":{\"barpolar\":[{\"marker\":{\"line\":{\"color\":\"#E5ECF6\",\"width\":0.5},\"pattern\":{\"fillmode\":\"overlay\",\"size\":10,\"solidity\":0.2}},\"type\":\"barpolar\"}],\"bar\":[{\"error_x\":{\"color\":\"#2a3f5f\"},\"error_y\":{\"color\":\"#2a3f5f\"},\"marker\":{\"line\":{\"color\":\"#E5ECF6\",\"width\":0.5},\"pattern\":{\"fillmode\":\"overlay\",\"size\":10,\"solidity\":0.2}},\"type\":\"bar\"}],\"carpet\":[{\"aaxis\":{\"endlinecolor\":\"#2a3f5f\",\"gridcolor\":\"white\",\"linecolor\":\"white\",\"minorgridcolor\":\"white\",\"startlinecolor\":\"#2a3f5f\"},\"baxis\":{\"endlinecolor\":\"#2a3f5f\",\"gridcolor\":\"white\",\"linecolor\":\"white\",\"minorgridcolor\":\"white\",\"startlinecolor\":\"#2a3f5f\"},\"type\":\"carpet\"}],\"choropleth\":[{\"colorbar\":{\"outlinewidth\":0,\"ticks\":\"\"},\"type\":\"choropleth\"}],\"contourcarpet\":[{\"colorbar\":{\"outlinewidth\":0,\"ticks\":\"\"},\"type\":\"contourcarpet\"}],\"contour\":[{\"colorbar\":{\"outlinewidth\":0,\"ticks\":\"\"},\"colorscale\":[[0.0,\"#0d0887\"],[0.1111111111111111,\"#46039f\"],[0.2222222222222222,\"#7201a8\"],[0.3333333333333333,\"#9c179e\"],[0.4444444444444444,\"#bd3786\"],[0.5555555555555556,\"#d8576b\"],[0.6666666666666666,\"#ed7953\"],[0.7777777777777778,\"#fb9f3a\"],[0.8888888888888888,\"#fdca26\"],[1.0,\"#f0f921\"]],\"type\":\"contour\"}],\"heatmapgl\":[{\"colorbar\":{\"outlinewidth\":0,\"ticks\":\"\"},\"colorscale\":[[0.0,\"#0d0887\"],[0.1111111111111111,\"#46039f\"],[0.2222222222222222,\"#7201a8\"],[0.3333333333333333,\"#9c179e\"],[0.4444444444444444,\"#bd3786\"],[0.5555555555555556,\"#d8576b\"],[0.6666666666666666,\"#ed7953\"],[0.7777777777777778,\"#fb9f3a\"],[0.8888888888888888,\"#fdca26\"],[1.0,\"#f0f921\"]],\"type\":\"heatmapgl\"}],\"heatmap\":[{\"colorbar\":{\"outlinewidth\":0,\"ticks\":\"\"},\"colorscale\":[[0.0,\"#0d0887\"],[0.1111111111111111,\"#46039f\"],[0.2222222222222222,\"#7201a8\"],[0.3333333333333333,\"#9c179e\"],[0.4444444444444444,\"#bd3786\"],[0.5555555555555556,\"#d8576b\"],[0.6666666666666666,\"#ed7953\"],[0.7777777777777778,\"#fb9f3a\"],[0.8888888888888888,\"#fdca26\"],[1.0,\"#f0f921\"]],\"type\":\"heatmap\"}],\"histogram2dcontour\":[{\"colorbar\":{\"outlinewidth\":0,\"ticks\":\"\"},\"colorscale\":[[0.0,\"#0d0887\"],[0.1111111111111111,\"#46039f\"],[0.2222222222222222,\"#7201a8\"],[0.3333333333333333,\"#9c179e\"],[0.4444444444444444,\"#bd3786\"],[0.5555555555555556,\"#d8576b\"],[0.6666666666666666,\"#ed7953\"],[0.7777777777777778,\"#fb9f3a\"],[0.8888888888888888,\"#fdca26\"],[1.0,\"#f0f921\"]],\"type\":\"histogram2dcontour\"}],\"histogram2d\":[{\"colorbar\":{\"outlinewidth\":0,\"ticks\":\"\"},\"colorscale\":[[0.0,\"#0d0887\"],[0.1111111111111111,\"#46039f\"],[0.2222222222222222,\"#7201a8\"],[0.3333333333333333,\"#9c179e\"],[0.4444444444444444,\"#bd3786\"],[0.5555555555555556,\"#d8576b\"],[0.6666666666666666,\"#ed7953\"],[0.7777777777777778,\"#fb9f3a\"],[0.8888888888888888,\"#fdca26\"],[1.0,\"#f0f921\"]],\"type\":\"histogram2d\"}],\"histogram\":[{\"marker\":{\"pattern\":{\"fillmode\":\"overlay\",\"size\":10,\"solidity\":0.2}},\"type\":\"histogram\"}],\"mesh3d\":[{\"colorbar\":{\"outlinewidth\":0,\"ticks\":\"\"},\"type\":\"mesh3d\"}],\"parcoords\":[{\"line\":{\"colorbar\":{\"outlinewidth\":0,\"ticks\":\"\"}},\"type\":\"parcoords\"}],\"pie\":[{\"automargin\":true,\"type\":\"pie\"}],\"scatter3d\":[{\"line\":{\"colorbar\":{\"outlinewidth\":0,\"ticks\":\"\"}},\"marker\":{\"colorbar\":{\"outlinewidth\":0,\"ticks\":\"\"}},\"type\":\"scatter3d\"}],\"scattercarpet\":[{\"marker\":{\"colorbar\":{\"outlinewidth\":0,\"ticks\":\"\"}},\"type\":\"scattercarpet\"}],\"scattergeo\":[{\"marker\":{\"colorbar\":{\"outlinewidth\":0,\"ticks\":\"\"}},\"type\":\"scattergeo\"}],\"scattergl\":[{\"marker\":{\"colorbar\":{\"outlinewidth\":0,\"ticks\":\"\"}},\"type\":\"scattergl\"}],\"scattermapbox\":[{\"marker\":{\"colorbar\":{\"outlinewidth\":0,\"ticks\":\"\"}},\"type\":\"scattermapbox\"}],\"scatterpolargl\":[{\"marker\":{\"colorbar\":{\"outlinewidth\":0,\"ticks\":\"\"}},\"type\":\"scatterpolargl\"}],\"scatterpolar\":[{\"marker\":{\"colorbar\":{\"outlinewidth\":0,\"ticks\":\"\"}},\"type\":\"scatterpolar\"}],\"scatter\":[{\"marker\":{\"colorbar\":{\"outlinewidth\":0,\"ticks\":\"\"}},\"type\":\"scatter\"}],\"scatterternary\":[{\"marker\":{\"colorbar\":{\"outlinewidth\":0,\"ticks\":\"\"}},\"type\":\"scatterternary\"}],\"surface\":[{\"colorbar\":{\"outlinewidth\":0,\"ticks\":\"\"},\"colorscale\":[[0.0,\"#0d0887\"],[0.1111111111111111,\"#46039f\"],[0.2222222222222222,\"#7201a8\"],[0.3333333333333333,\"#9c179e\"],[0.4444444444444444,\"#bd3786\"],[0.5555555555555556,\"#d8576b\"],[0.6666666666666666,\"#ed7953\"],[0.7777777777777778,\"#fb9f3a\"],[0.8888888888888888,\"#fdca26\"],[1.0,\"#f0f921\"]],\"type\":\"surface\"}],\"table\":[{\"cells\":{\"fill\":{\"color\":\"#EBF0F8\"},\"line\":{\"color\":\"white\"}},\"header\":{\"fill\":{\"color\":\"#C8D4E3\"},\"line\":{\"color\":\"white\"}},\"type\":\"table\"}]},\"layout\":{\"annotationdefaults\":{\"arrowcolor\":\"#2a3f5f\",\"arrowhead\":0,\"arrowwidth\":1},\"autotypenumbers\":\"strict\",\"coloraxis\":{\"colorbar\":{\"outlinewidth\":0,\"ticks\":\"\"}},\"colorscale\":{\"diverging\":[[0,\"#8e0152\"],[0.1,\"#c51b7d\"],[0.2,\"#de77ae\"],[0.3,\"#f1b6da\"],[0.4,\"#fde0ef\"],[0.5,\"#f7f7f7\"],[0.6,\"#e6f5d0\"],[0.7,\"#b8e186\"],[0.8,\"#7fbc41\"],[0.9,\"#4d9221\"],[1,\"#276419\"]],\"sequential\":[[0.0,\"#0d0887\"],[0.1111111111111111,\"#46039f\"],[0.2222222222222222,\"#7201a8\"],[0.3333333333333333,\"#9c179e\"],[0.4444444444444444,\"#bd3786\"],[0.5555555555555556,\"#d8576b\"],[0.6666666666666666,\"#ed7953\"],[0.7777777777777778,\"#fb9f3a\"],[0.8888888888888888,\"#fdca26\"],[1.0,\"#f0f921\"]],\"sequentialminus\":[[0.0,\"#0d0887\"],[0.1111111111111111,\"#46039f\"],[0.2222222222222222,\"#7201a8\"],[0.3333333333333333,\"#9c179e\"],[0.4444444444444444,\"#bd3786\"],[0.5555555555555556,\"#d8576b\"],[0.6666666666666666,\"#ed7953\"],[0.7777777777777778,\"#fb9f3a\"],[0.8888888888888888,\"#fdca26\"],[1.0,\"#f0f921\"]]},\"colorway\":[\"#636efa\",\"#EF553B\",\"#00cc96\",\"#ab63fa\",\"#FFA15A\",\"#19d3f3\",\"#FF6692\",\"#B6E880\",\"#FF97FF\",\"#FECB52\"],\"font\":{\"color\":\"#2a3f5f\"},\"geo\":{\"bgcolor\":\"white\",\"lakecolor\":\"white\",\"landcolor\":\"#E5ECF6\",\"showlakes\":true,\"showland\":true,\"subunitcolor\":\"white\"},\"hoverlabel\":{\"align\":\"left\"},\"hovermode\":\"closest\",\"mapbox\":{\"style\":\"light\"},\"paper_bgcolor\":\"white\",\"plot_bgcolor\":\"#E5ECF6\",\"polar\":{\"angularaxis\":{\"gridcolor\":\"white\",\"linecolor\":\"white\",\"ticks\":\"\"},\"bgcolor\":\"#E5ECF6\",\"radialaxis\":{\"gridcolor\":\"white\",\"linecolor\":\"white\",\"ticks\":\"\"}},\"scene\":{\"xaxis\":{\"backgroundcolor\":\"#E5ECF6\",\"gridcolor\":\"white\",\"gridwidth\":2,\"linecolor\":\"white\",\"showbackground\":true,\"ticks\":\"\",\"zerolinecolor\":\"white\"},\"yaxis\":{\"backgroundcolor\":\"#E5ECF6\",\"gridcolor\":\"white\",\"gridwidth\":2,\"linecolor\":\"white\",\"showbackground\":true,\"ticks\":\"\",\"zerolinecolor\":\"white\"},\"zaxis\":{\"backgroundcolor\":\"#E5ECF6\",\"gridcolor\":\"white\",\"gridwidth\":2,\"linecolor\":\"white\",\"showbackground\":true,\"ticks\":\"\",\"zerolinecolor\":\"white\"}},\"shapedefaults\":{\"line\":{\"color\":\"#2a3f5f\"}},\"ternary\":{\"aaxis\":{\"gridcolor\":\"white\",\"linecolor\":\"white\",\"ticks\":\"\"},\"baxis\":{\"gridcolor\":\"white\",\"linecolor\":\"white\",\"ticks\":\"\"},\"bgcolor\":\"#E5ECF6\",\"caxis\":{\"gridcolor\":\"white\",\"linecolor\":\"white\",\"ticks\":\"\"}},\"title\":{\"x\":0.05},\"xaxis\":{\"automargin\":true,\"gridcolor\":\"white\",\"linecolor\":\"white\",\"ticks\":\"\",\"title\":{\"standoff\":15},\"zerolinecolor\":\"white\",\"zerolinewidth\":2},\"yaxis\":{\"automargin\":true,\"gridcolor\":\"white\",\"linecolor\":\"white\",\"ticks\":\"\",\"title\":{\"standoff\":15},\"zerolinecolor\":\"white\",\"zerolinewidth\":2}}},\"title\":{\"font\":{\"color\":\"#4D5663\"}},\"xaxis\":{\"gridcolor\":\"#E1E5ED\",\"showgrid\":true,\"tickfont\":{\"color\":\"#4D5663\"},\"title\":{\"font\":{\"color\":\"#4D5663\"},\"text\":\"\"},\"zerolinecolor\":\"#E1E5ED\"},\"yaxis\":{\"gridcolor\":\"#E1E5ED\",\"showgrid\":true,\"tickfont\":{\"color\":\"#4D5663\"},\"title\":{\"font\":{\"color\":\"#4D5663\"},\"text\":\"\"},\"zerolinecolor\":\"#E1E5ED\"}},                        {\"showLink\": true, \"linkText\": \"Export to plot.ly\", \"plotlyServerURL\": \"https://plot.ly\", \"responsive\": true}                    ).then(function(){\n",
       "                            \n",
       "var gd = document.getElementById('bd81ac06-6ad1-412b-86cf-dd23bdbb9d44');\n",
       "var x = new MutationObserver(function (mutations, observer) {{\n",
       "        var display = window.getComputedStyle(gd).display;\n",
       "        if (!display || display === 'none') {{\n",
       "            console.log([gd, 'removed!']);\n",
       "            Plotly.purge(gd);\n",
       "            observer.disconnect();\n",
       "        }}\n",
       "}});\n",
       "\n",
       "// Listen for the removal of the full notebook cells\n",
       "var notebookContainer = gd.closest('#notebook-container');\n",
       "if (notebookContainer) {{\n",
       "    x.observe(notebookContainer, {childList: true});\n",
       "}}\n",
       "\n",
       "// Listen for the clearing of the current output cell\n",
       "var outputEl = gd.closest('.output');\n",
       "if (outputEl) {{\n",
       "    x.observe(outputEl, {childList: true});\n",
       "}}\n",
       "\n",
       "                        })                };                });            </script>        </div>"
      ]
     },
     "metadata": {},
     "output_type": "display_data"
    }
   ],
   "source": [
    "df.count().iplot(kind='bar')"
   ]
  },
  {
   "cell_type": "code",
   "execution_count": 21,
   "metadata": {
    "ExecuteTime": {
     "end_time": "2019-05-06T16:55:38.128109Z",
     "start_time": "2019-05-06T16:55:38.007491Z"
    }
   },
   "outputs": [
    {
     "data": {
      "application/vnd.plotly.v1+json": {
       "config": {
        "linkText": "Export to plot.ly",
        "plotlyServerURL": "https://plot.ly",
        "showLink": true
       },
       "data": [
        {
         "marker": {
          "color": "rgba(255, 153, 51, 0.6)",
          "line": {
           "color": "rgba(255, 153, 51, 1.0)",
           "width": 1
          }
         },
         "name": "None",
         "orientation": "v",
         "text": "",
         "type": "bar",
         "x": [
          "A",
          "B",
          "C",
          "D"
         ],
         "y": [
          -7.5694445307718485,
          0.9371977107343683,
          3.3480976932454856,
          -3.5532059302331347
         ]
        }
       ],
       "layout": {
        "legend": {
         "bgcolor": "#F5F6F9",
         "font": {
          "color": "#4D5663"
         }
        },
        "paper_bgcolor": "#F5F6F9",
        "plot_bgcolor": "#F5F6F9",
        "template": {
         "data": {
          "bar": [
           {
            "error_x": {
             "color": "#2a3f5f"
            },
            "error_y": {
             "color": "#2a3f5f"
            },
            "marker": {
             "line": {
              "color": "#E5ECF6",
              "width": 0.5
             },
             "pattern": {
              "fillmode": "overlay",
              "size": 10,
              "solidity": 0.2
             }
            },
            "type": "bar"
           }
          ],
          "barpolar": [
           {
            "marker": {
             "line": {
              "color": "#E5ECF6",
              "width": 0.5
             },
             "pattern": {
              "fillmode": "overlay",
              "size": 10,
              "solidity": 0.2
             }
            },
            "type": "barpolar"
           }
          ],
          "carpet": [
           {
            "aaxis": {
             "endlinecolor": "#2a3f5f",
             "gridcolor": "white",
             "linecolor": "white",
             "minorgridcolor": "white",
             "startlinecolor": "#2a3f5f"
            },
            "baxis": {
             "endlinecolor": "#2a3f5f",
             "gridcolor": "white",
             "linecolor": "white",
             "minorgridcolor": "white",
             "startlinecolor": "#2a3f5f"
            },
            "type": "carpet"
           }
          ],
          "choropleth": [
           {
            "colorbar": {
             "outlinewidth": 0,
             "ticks": ""
            },
            "type": "choropleth"
           }
          ],
          "contour": [
           {
            "colorbar": {
             "outlinewidth": 0,
             "ticks": ""
            },
            "colorscale": [
             [
              0,
              "#0d0887"
             ],
             [
              0.1111111111111111,
              "#46039f"
             ],
             [
              0.2222222222222222,
              "#7201a8"
             ],
             [
              0.3333333333333333,
              "#9c179e"
             ],
             [
              0.4444444444444444,
              "#bd3786"
             ],
             [
              0.5555555555555556,
              "#d8576b"
             ],
             [
              0.6666666666666666,
              "#ed7953"
             ],
             [
              0.7777777777777778,
              "#fb9f3a"
             ],
             [
              0.8888888888888888,
              "#fdca26"
             ],
             [
              1,
              "#f0f921"
             ]
            ],
            "type": "contour"
           }
          ],
          "contourcarpet": [
           {
            "colorbar": {
             "outlinewidth": 0,
             "ticks": ""
            },
            "type": "contourcarpet"
           }
          ],
          "heatmap": [
           {
            "colorbar": {
             "outlinewidth": 0,
             "ticks": ""
            },
            "colorscale": [
             [
              0,
              "#0d0887"
             ],
             [
              0.1111111111111111,
              "#46039f"
             ],
             [
              0.2222222222222222,
              "#7201a8"
             ],
             [
              0.3333333333333333,
              "#9c179e"
             ],
             [
              0.4444444444444444,
              "#bd3786"
             ],
             [
              0.5555555555555556,
              "#d8576b"
             ],
             [
              0.6666666666666666,
              "#ed7953"
             ],
             [
              0.7777777777777778,
              "#fb9f3a"
             ],
             [
              0.8888888888888888,
              "#fdca26"
             ],
             [
              1,
              "#f0f921"
             ]
            ],
            "type": "heatmap"
           }
          ],
          "heatmapgl": [
           {
            "colorbar": {
             "outlinewidth": 0,
             "ticks": ""
            },
            "colorscale": [
             [
              0,
              "#0d0887"
             ],
             [
              0.1111111111111111,
              "#46039f"
             ],
             [
              0.2222222222222222,
              "#7201a8"
             ],
             [
              0.3333333333333333,
              "#9c179e"
             ],
             [
              0.4444444444444444,
              "#bd3786"
             ],
             [
              0.5555555555555556,
              "#d8576b"
             ],
             [
              0.6666666666666666,
              "#ed7953"
             ],
             [
              0.7777777777777778,
              "#fb9f3a"
             ],
             [
              0.8888888888888888,
              "#fdca26"
             ],
             [
              1,
              "#f0f921"
             ]
            ],
            "type": "heatmapgl"
           }
          ],
          "histogram": [
           {
            "marker": {
             "pattern": {
              "fillmode": "overlay",
              "size": 10,
              "solidity": 0.2
             }
            },
            "type": "histogram"
           }
          ],
          "histogram2d": [
           {
            "colorbar": {
             "outlinewidth": 0,
             "ticks": ""
            },
            "colorscale": [
             [
              0,
              "#0d0887"
             ],
             [
              0.1111111111111111,
              "#46039f"
             ],
             [
              0.2222222222222222,
              "#7201a8"
             ],
             [
              0.3333333333333333,
              "#9c179e"
             ],
             [
              0.4444444444444444,
              "#bd3786"
             ],
             [
              0.5555555555555556,
              "#d8576b"
             ],
             [
              0.6666666666666666,
              "#ed7953"
             ],
             [
              0.7777777777777778,
              "#fb9f3a"
             ],
             [
              0.8888888888888888,
              "#fdca26"
             ],
             [
              1,
              "#f0f921"
             ]
            ],
            "type": "histogram2d"
           }
          ],
          "histogram2dcontour": [
           {
            "colorbar": {
             "outlinewidth": 0,
             "ticks": ""
            },
            "colorscale": [
             [
              0,
              "#0d0887"
             ],
             [
              0.1111111111111111,
              "#46039f"
             ],
             [
              0.2222222222222222,
              "#7201a8"
             ],
             [
              0.3333333333333333,
              "#9c179e"
             ],
             [
              0.4444444444444444,
              "#bd3786"
             ],
             [
              0.5555555555555556,
              "#d8576b"
             ],
             [
              0.6666666666666666,
              "#ed7953"
             ],
             [
              0.7777777777777778,
              "#fb9f3a"
             ],
             [
              0.8888888888888888,
              "#fdca26"
             ],
             [
              1,
              "#f0f921"
             ]
            ],
            "type": "histogram2dcontour"
           }
          ],
          "mesh3d": [
           {
            "colorbar": {
             "outlinewidth": 0,
             "ticks": ""
            },
            "type": "mesh3d"
           }
          ],
          "parcoords": [
           {
            "line": {
             "colorbar": {
              "outlinewidth": 0,
              "ticks": ""
             }
            },
            "type": "parcoords"
           }
          ],
          "pie": [
           {
            "automargin": true,
            "type": "pie"
           }
          ],
          "scatter": [
           {
            "marker": {
             "colorbar": {
              "outlinewidth": 0,
              "ticks": ""
             }
            },
            "type": "scatter"
           }
          ],
          "scatter3d": [
           {
            "line": {
             "colorbar": {
              "outlinewidth": 0,
              "ticks": ""
             }
            },
            "marker": {
             "colorbar": {
              "outlinewidth": 0,
              "ticks": ""
             }
            },
            "type": "scatter3d"
           }
          ],
          "scattercarpet": [
           {
            "marker": {
             "colorbar": {
              "outlinewidth": 0,
              "ticks": ""
             }
            },
            "type": "scattercarpet"
           }
          ],
          "scattergeo": [
           {
            "marker": {
             "colorbar": {
              "outlinewidth": 0,
              "ticks": ""
             }
            },
            "type": "scattergeo"
           }
          ],
          "scattergl": [
           {
            "marker": {
             "colorbar": {
              "outlinewidth": 0,
              "ticks": ""
             }
            },
            "type": "scattergl"
           }
          ],
          "scattermapbox": [
           {
            "marker": {
             "colorbar": {
              "outlinewidth": 0,
              "ticks": ""
             }
            },
            "type": "scattermapbox"
           }
          ],
          "scatterpolar": [
           {
            "marker": {
             "colorbar": {
              "outlinewidth": 0,
              "ticks": ""
             }
            },
            "type": "scatterpolar"
           }
          ],
          "scatterpolargl": [
           {
            "marker": {
             "colorbar": {
              "outlinewidth": 0,
              "ticks": ""
             }
            },
            "type": "scatterpolargl"
           }
          ],
          "scatterternary": [
           {
            "marker": {
             "colorbar": {
              "outlinewidth": 0,
              "ticks": ""
             }
            },
            "type": "scatterternary"
           }
          ],
          "surface": [
           {
            "colorbar": {
             "outlinewidth": 0,
             "ticks": ""
            },
            "colorscale": [
             [
              0,
              "#0d0887"
             ],
             [
              0.1111111111111111,
              "#46039f"
             ],
             [
              0.2222222222222222,
              "#7201a8"
             ],
             [
              0.3333333333333333,
              "#9c179e"
             ],
             [
              0.4444444444444444,
              "#bd3786"
             ],
             [
              0.5555555555555556,
              "#d8576b"
             ],
             [
              0.6666666666666666,
              "#ed7953"
             ],
             [
              0.7777777777777778,
              "#fb9f3a"
             ],
             [
              0.8888888888888888,
              "#fdca26"
             ],
             [
              1,
              "#f0f921"
             ]
            ],
            "type": "surface"
           }
          ],
          "table": [
           {
            "cells": {
             "fill": {
              "color": "#EBF0F8"
             },
             "line": {
              "color": "white"
             }
            },
            "header": {
             "fill": {
              "color": "#C8D4E3"
             },
             "line": {
              "color": "white"
             }
            },
            "type": "table"
           }
          ]
         },
         "layout": {
          "annotationdefaults": {
           "arrowcolor": "#2a3f5f",
           "arrowhead": 0,
           "arrowwidth": 1
          },
          "autotypenumbers": "strict",
          "coloraxis": {
           "colorbar": {
            "outlinewidth": 0,
            "ticks": ""
           }
          },
          "colorscale": {
           "diverging": [
            [
             0,
             "#8e0152"
            ],
            [
             0.1,
             "#c51b7d"
            ],
            [
             0.2,
             "#de77ae"
            ],
            [
             0.3,
             "#f1b6da"
            ],
            [
             0.4,
             "#fde0ef"
            ],
            [
             0.5,
             "#f7f7f7"
            ],
            [
             0.6,
             "#e6f5d0"
            ],
            [
             0.7,
             "#b8e186"
            ],
            [
             0.8,
             "#7fbc41"
            ],
            [
             0.9,
             "#4d9221"
            ],
            [
             1,
             "#276419"
            ]
           ],
           "sequential": [
            [
             0,
             "#0d0887"
            ],
            [
             0.1111111111111111,
             "#46039f"
            ],
            [
             0.2222222222222222,
             "#7201a8"
            ],
            [
             0.3333333333333333,
             "#9c179e"
            ],
            [
             0.4444444444444444,
             "#bd3786"
            ],
            [
             0.5555555555555556,
             "#d8576b"
            ],
            [
             0.6666666666666666,
             "#ed7953"
            ],
            [
             0.7777777777777778,
             "#fb9f3a"
            ],
            [
             0.8888888888888888,
             "#fdca26"
            ],
            [
             1,
             "#f0f921"
            ]
           ],
           "sequentialminus": [
            [
             0,
             "#0d0887"
            ],
            [
             0.1111111111111111,
             "#46039f"
            ],
            [
             0.2222222222222222,
             "#7201a8"
            ],
            [
             0.3333333333333333,
             "#9c179e"
            ],
            [
             0.4444444444444444,
             "#bd3786"
            ],
            [
             0.5555555555555556,
             "#d8576b"
            ],
            [
             0.6666666666666666,
             "#ed7953"
            ],
            [
             0.7777777777777778,
             "#fb9f3a"
            ],
            [
             0.8888888888888888,
             "#fdca26"
            ],
            [
             1,
             "#f0f921"
            ]
           ]
          },
          "colorway": [
           "#636efa",
           "#EF553B",
           "#00cc96",
           "#ab63fa",
           "#FFA15A",
           "#19d3f3",
           "#FF6692",
           "#B6E880",
           "#FF97FF",
           "#FECB52"
          ],
          "font": {
           "color": "#2a3f5f"
          },
          "geo": {
           "bgcolor": "white",
           "lakecolor": "white",
           "landcolor": "#E5ECF6",
           "showlakes": true,
           "showland": true,
           "subunitcolor": "white"
          },
          "hoverlabel": {
           "align": "left"
          },
          "hovermode": "closest",
          "mapbox": {
           "style": "light"
          },
          "paper_bgcolor": "white",
          "plot_bgcolor": "#E5ECF6",
          "polar": {
           "angularaxis": {
            "gridcolor": "white",
            "linecolor": "white",
            "ticks": ""
           },
           "bgcolor": "#E5ECF6",
           "radialaxis": {
            "gridcolor": "white",
            "linecolor": "white",
            "ticks": ""
           }
          },
          "scene": {
           "xaxis": {
            "backgroundcolor": "#E5ECF6",
            "gridcolor": "white",
            "gridwidth": 2,
            "linecolor": "white",
            "showbackground": true,
            "ticks": "",
            "zerolinecolor": "white"
           },
           "yaxis": {
            "backgroundcolor": "#E5ECF6",
            "gridcolor": "white",
            "gridwidth": 2,
            "linecolor": "white",
            "showbackground": true,
            "ticks": "",
            "zerolinecolor": "white"
           },
           "zaxis": {
            "backgroundcolor": "#E5ECF6",
            "gridcolor": "white",
            "gridwidth": 2,
            "linecolor": "white",
            "showbackground": true,
            "ticks": "",
            "zerolinecolor": "white"
           }
          },
          "shapedefaults": {
           "line": {
            "color": "#2a3f5f"
           }
          },
          "ternary": {
           "aaxis": {
            "gridcolor": "white",
            "linecolor": "white",
            "ticks": ""
           },
           "baxis": {
            "gridcolor": "white",
            "linecolor": "white",
            "ticks": ""
           },
           "bgcolor": "#E5ECF6",
           "caxis": {
            "gridcolor": "white",
            "linecolor": "white",
            "ticks": ""
           }
          },
          "title": {
           "x": 0.05
          },
          "xaxis": {
           "automargin": true,
           "gridcolor": "white",
           "linecolor": "white",
           "ticks": "",
           "title": {
            "standoff": 15
           },
           "zerolinecolor": "white",
           "zerolinewidth": 2
          },
          "yaxis": {
           "automargin": true,
           "gridcolor": "white",
           "linecolor": "white",
           "ticks": "",
           "title": {
            "standoff": 15
           },
           "zerolinecolor": "white",
           "zerolinewidth": 2
          }
         }
        },
        "title": {
         "font": {
          "color": "#4D5663"
         }
        },
        "xaxis": {
         "gridcolor": "#E1E5ED",
         "showgrid": true,
         "tickfont": {
          "color": "#4D5663"
         },
         "title": {
          "font": {
           "color": "#4D5663"
          },
          "text": ""
         },
         "zerolinecolor": "#E1E5ED"
        },
        "yaxis": {
         "gridcolor": "#E1E5ED",
         "showgrid": true,
         "tickfont": {
          "color": "#4D5663"
         },
         "title": {
          "font": {
           "color": "#4D5663"
          },
          "text": ""
         },
         "zerolinecolor": "#E1E5ED"
        }
       }
      },
      "text/html": [
       "<div>                            <div id=\"bf8365cd-dff0-4fe6-ad69-8729090f142d\" class=\"plotly-graph-div\" style=\"height:525px; width:100%;\"></div>            <script type=\"text/javascript\">                require([\"plotly\"], function(Plotly) {                    window.PLOTLYENV=window.PLOTLYENV || {};\n",
       "                    window.PLOTLYENV.BASE_URL='https://plot.ly';                                    if (document.getElementById(\"bf8365cd-dff0-4fe6-ad69-8729090f142d\")) {                    Plotly.newPlot(                        \"bf8365cd-dff0-4fe6-ad69-8729090f142d\",                        [{\"marker\":{\"color\":\"rgba(255, 153, 51, 0.6)\",\"line\":{\"color\":\"rgba(255, 153, 51, 1.0)\",\"width\":1}},\"name\":\"None\",\"orientation\":\"v\",\"text\":\"\",\"x\":[\"A\",\"B\",\"C\",\"D\"],\"y\":[-7.5694445307718485,0.9371977107343683,3.3480976932454856,-3.5532059302331347],\"type\":\"bar\"}],                        {\"legend\":{\"bgcolor\":\"#F5F6F9\",\"font\":{\"color\":\"#4D5663\"}},\"paper_bgcolor\":\"#F5F6F9\",\"plot_bgcolor\":\"#F5F6F9\",\"template\":{\"data\":{\"barpolar\":[{\"marker\":{\"line\":{\"color\":\"#E5ECF6\",\"width\":0.5},\"pattern\":{\"fillmode\":\"overlay\",\"size\":10,\"solidity\":0.2}},\"type\":\"barpolar\"}],\"bar\":[{\"error_x\":{\"color\":\"#2a3f5f\"},\"error_y\":{\"color\":\"#2a3f5f\"},\"marker\":{\"line\":{\"color\":\"#E5ECF6\",\"width\":0.5},\"pattern\":{\"fillmode\":\"overlay\",\"size\":10,\"solidity\":0.2}},\"type\":\"bar\"}],\"carpet\":[{\"aaxis\":{\"endlinecolor\":\"#2a3f5f\",\"gridcolor\":\"white\",\"linecolor\":\"white\",\"minorgridcolor\":\"white\",\"startlinecolor\":\"#2a3f5f\"},\"baxis\":{\"endlinecolor\":\"#2a3f5f\",\"gridcolor\":\"white\",\"linecolor\":\"white\",\"minorgridcolor\":\"white\",\"startlinecolor\":\"#2a3f5f\"},\"type\":\"carpet\"}],\"choropleth\":[{\"colorbar\":{\"outlinewidth\":0,\"ticks\":\"\"},\"type\":\"choropleth\"}],\"contourcarpet\":[{\"colorbar\":{\"outlinewidth\":0,\"ticks\":\"\"},\"type\":\"contourcarpet\"}],\"contour\":[{\"colorbar\":{\"outlinewidth\":0,\"ticks\":\"\"},\"colorscale\":[[0.0,\"#0d0887\"],[0.1111111111111111,\"#46039f\"],[0.2222222222222222,\"#7201a8\"],[0.3333333333333333,\"#9c179e\"],[0.4444444444444444,\"#bd3786\"],[0.5555555555555556,\"#d8576b\"],[0.6666666666666666,\"#ed7953\"],[0.7777777777777778,\"#fb9f3a\"],[0.8888888888888888,\"#fdca26\"],[1.0,\"#f0f921\"]],\"type\":\"contour\"}],\"heatmapgl\":[{\"colorbar\":{\"outlinewidth\":0,\"ticks\":\"\"},\"colorscale\":[[0.0,\"#0d0887\"],[0.1111111111111111,\"#46039f\"],[0.2222222222222222,\"#7201a8\"],[0.3333333333333333,\"#9c179e\"],[0.4444444444444444,\"#bd3786\"],[0.5555555555555556,\"#d8576b\"],[0.6666666666666666,\"#ed7953\"],[0.7777777777777778,\"#fb9f3a\"],[0.8888888888888888,\"#fdca26\"],[1.0,\"#f0f921\"]],\"type\":\"heatmapgl\"}],\"heatmap\":[{\"colorbar\":{\"outlinewidth\":0,\"ticks\":\"\"},\"colorscale\":[[0.0,\"#0d0887\"],[0.1111111111111111,\"#46039f\"],[0.2222222222222222,\"#7201a8\"],[0.3333333333333333,\"#9c179e\"],[0.4444444444444444,\"#bd3786\"],[0.5555555555555556,\"#d8576b\"],[0.6666666666666666,\"#ed7953\"],[0.7777777777777778,\"#fb9f3a\"],[0.8888888888888888,\"#fdca26\"],[1.0,\"#f0f921\"]],\"type\":\"heatmap\"}],\"histogram2dcontour\":[{\"colorbar\":{\"outlinewidth\":0,\"ticks\":\"\"},\"colorscale\":[[0.0,\"#0d0887\"],[0.1111111111111111,\"#46039f\"],[0.2222222222222222,\"#7201a8\"],[0.3333333333333333,\"#9c179e\"],[0.4444444444444444,\"#bd3786\"],[0.5555555555555556,\"#d8576b\"],[0.6666666666666666,\"#ed7953\"],[0.7777777777777778,\"#fb9f3a\"],[0.8888888888888888,\"#fdca26\"],[1.0,\"#f0f921\"]],\"type\":\"histogram2dcontour\"}],\"histogram2d\":[{\"colorbar\":{\"outlinewidth\":0,\"ticks\":\"\"},\"colorscale\":[[0.0,\"#0d0887\"],[0.1111111111111111,\"#46039f\"],[0.2222222222222222,\"#7201a8\"],[0.3333333333333333,\"#9c179e\"],[0.4444444444444444,\"#bd3786\"],[0.5555555555555556,\"#d8576b\"],[0.6666666666666666,\"#ed7953\"],[0.7777777777777778,\"#fb9f3a\"],[0.8888888888888888,\"#fdca26\"],[1.0,\"#f0f921\"]],\"type\":\"histogram2d\"}],\"histogram\":[{\"marker\":{\"pattern\":{\"fillmode\":\"overlay\",\"size\":10,\"solidity\":0.2}},\"type\":\"histogram\"}],\"mesh3d\":[{\"colorbar\":{\"outlinewidth\":0,\"ticks\":\"\"},\"type\":\"mesh3d\"}],\"parcoords\":[{\"line\":{\"colorbar\":{\"outlinewidth\":0,\"ticks\":\"\"}},\"type\":\"parcoords\"}],\"pie\":[{\"automargin\":true,\"type\":\"pie\"}],\"scatter3d\":[{\"line\":{\"colorbar\":{\"outlinewidth\":0,\"ticks\":\"\"}},\"marker\":{\"colorbar\":{\"outlinewidth\":0,\"ticks\":\"\"}},\"type\":\"scatter3d\"}],\"scattercarpet\":[{\"marker\":{\"colorbar\":{\"outlinewidth\":0,\"ticks\":\"\"}},\"type\":\"scattercarpet\"}],\"scattergeo\":[{\"marker\":{\"colorbar\":{\"outlinewidth\":0,\"ticks\":\"\"}},\"type\":\"scattergeo\"}],\"scattergl\":[{\"marker\":{\"colorbar\":{\"outlinewidth\":0,\"ticks\":\"\"}},\"type\":\"scattergl\"}],\"scattermapbox\":[{\"marker\":{\"colorbar\":{\"outlinewidth\":0,\"ticks\":\"\"}},\"type\":\"scattermapbox\"}],\"scatterpolargl\":[{\"marker\":{\"colorbar\":{\"outlinewidth\":0,\"ticks\":\"\"}},\"type\":\"scatterpolargl\"}],\"scatterpolar\":[{\"marker\":{\"colorbar\":{\"outlinewidth\":0,\"ticks\":\"\"}},\"type\":\"scatterpolar\"}],\"scatter\":[{\"marker\":{\"colorbar\":{\"outlinewidth\":0,\"ticks\":\"\"}},\"type\":\"scatter\"}],\"scatterternary\":[{\"marker\":{\"colorbar\":{\"outlinewidth\":0,\"ticks\":\"\"}},\"type\":\"scatterternary\"}],\"surface\":[{\"colorbar\":{\"outlinewidth\":0,\"ticks\":\"\"},\"colorscale\":[[0.0,\"#0d0887\"],[0.1111111111111111,\"#46039f\"],[0.2222222222222222,\"#7201a8\"],[0.3333333333333333,\"#9c179e\"],[0.4444444444444444,\"#bd3786\"],[0.5555555555555556,\"#d8576b\"],[0.6666666666666666,\"#ed7953\"],[0.7777777777777778,\"#fb9f3a\"],[0.8888888888888888,\"#fdca26\"],[1.0,\"#f0f921\"]],\"type\":\"surface\"}],\"table\":[{\"cells\":{\"fill\":{\"color\":\"#EBF0F8\"},\"line\":{\"color\":\"white\"}},\"header\":{\"fill\":{\"color\":\"#C8D4E3\"},\"line\":{\"color\":\"white\"}},\"type\":\"table\"}]},\"layout\":{\"annotationdefaults\":{\"arrowcolor\":\"#2a3f5f\",\"arrowhead\":0,\"arrowwidth\":1},\"autotypenumbers\":\"strict\",\"coloraxis\":{\"colorbar\":{\"outlinewidth\":0,\"ticks\":\"\"}},\"colorscale\":{\"diverging\":[[0,\"#8e0152\"],[0.1,\"#c51b7d\"],[0.2,\"#de77ae\"],[0.3,\"#f1b6da\"],[0.4,\"#fde0ef\"],[0.5,\"#f7f7f7\"],[0.6,\"#e6f5d0\"],[0.7,\"#b8e186\"],[0.8,\"#7fbc41\"],[0.9,\"#4d9221\"],[1,\"#276419\"]],\"sequential\":[[0.0,\"#0d0887\"],[0.1111111111111111,\"#46039f\"],[0.2222222222222222,\"#7201a8\"],[0.3333333333333333,\"#9c179e\"],[0.4444444444444444,\"#bd3786\"],[0.5555555555555556,\"#d8576b\"],[0.6666666666666666,\"#ed7953\"],[0.7777777777777778,\"#fb9f3a\"],[0.8888888888888888,\"#fdca26\"],[1.0,\"#f0f921\"]],\"sequentialminus\":[[0.0,\"#0d0887\"],[0.1111111111111111,\"#46039f\"],[0.2222222222222222,\"#7201a8\"],[0.3333333333333333,\"#9c179e\"],[0.4444444444444444,\"#bd3786\"],[0.5555555555555556,\"#d8576b\"],[0.6666666666666666,\"#ed7953\"],[0.7777777777777778,\"#fb9f3a\"],[0.8888888888888888,\"#fdca26\"],[1.0,\"#f0f921\"]]},\"colorway\":[\"#636efa\",\"#EF553B\",\"#00cc96\",\"#ab63fa\",\"#FFA15A\",\"#19d3f3\",\"#FF6692\",\"#B6E880\",\"#FF97FF\",\"#FECB52\"],\"font\":{\"color\":\"#2a3f5f\"},\"geo\":{\"bgcolor\":\"white\",\"lakecolor\":\"white\",\"landcolor\":\"#E5ECF6\",\"showlakes\":true,\"showland\":true,\"subunitcolor\":\"white\"},\"hoverlabel\":{\"align\":\"left\"},\"hovermode\":\"closest\",\"mapbox\":{\"style\":\"light\"},\"paper_bgcolor\":\"white\",\"plot_bgcolor\":\"#E5ECF6\",\"polar\":{\"angularaxis\":{\"gridcolor\":\"white\",\"linecolor\":\"white\",\"ticks\":\"\"},\"bgcolor\":\"#E5ECF6\",\"radialaxis\":{\"gridcolor\":\"white\",\"linecolor\":\"white\",\"ticks\":\"\"}},\"scene\":{\"xaxis\":{\"backgroundcolor\":\"#E5ECF6\",\"gridcolor\":\"white\",\"gridwidth\":2,\"linecolor\":\"white\",\"showbackground\":true,\"ticks\":\"\",\"zerolinecolor\":\"white\"},\"yaxis\":{\"backgroundcolor\":\"#E5ECF6\",\"gridcolor\":\"white\",\"gridwidth\":2,\"linecolor\":\"white\",\"showbackground\":true,\"ticks\":\"\",\"zerolinecolor\":\"white\"},\"zaxis\":{\"backgroundcolor\":\"#E5ECF6\",\"gridcolor\":\"white\",\"gridwidth\":2,\"linecolor\":\"white\",\"showbackground\":true,\"ticks\":\"\",\"zerolinecolor\":\"white\"}},\"shapedefaults\":{\"line\":{\"color\":\"#2a3f5f\"}},\"ternary\":{\"aaxis\":{\"gridcolor\":\"white\",\"linecolor\":\"white\",\"ticks\":\"\"},\"baxis\":{\"gridcolor\":\"white\",\"linecolor\":\"white\",\"ticks\":\"\"},\"bgcolor\":\"#E5ECF6\",\"caxis\":{\"gridcolor\":\"white\",\"linecolor\":\"white\",\"ticks\":\"\"}},\"title\":{\"x\":0.05},\"xaxis\":{\"automargin\":true,\"gridcolor\":\"white\",\"linecolor\":\"white\",\"ticks\":\"\",\"title\":{\"standoff\":15},\"zerolinecolor\":\"white\",\"zerolinewidth\":2},\"yaxis\":{\"automargin\":true,\"gridcolor\":\"white\",\"linecolor\":\"white\",\"ticks\":\"\",\"title\":{\"standoff\":15},\"zerolinecolor\":\"white\",\"zerolinewidth\":2}}},\"title\":{\"font\":{\"color\":\"#4D5663\"}},\"xaxis\":{\"gridcolor\":\"#E1E5ED\",\"showgrid\":true,\"tickfont\":{\"color\":\"#4D5663\"},\"title\":{\"font\":{\"color\":\"#4D5663\"},\"text\":\"\"},\"zerolinecolor\":\"#E1E5ED\"},\"yaxis\":{\"gridcolor\":\"#E1E5ED\",\"showgrid\":true,\"tickfont\":{\"color\":\"#4D5663\"},\"title\":{\"font\":{\"color\":\"#4D5663\"},\"text\":\"\"},\"zerolinecolor\":\"#E1E5ED\"}},                        {\"showLink\": true, \"linkText\": \"Export to plot.ly\", \"plotlyServerURL\": \"https://plot.ly\", \"responsive\": true}                    ).then(function(){\n",
       "                            \n",
       "var gd = document.getElementById('bf8365cd-dff0-4fe6-ad69-8729090f142d');\n",
       "var x = new MutationObserver(function (mutations, observer) {{\n",
       "        var display = window.getComputedStyle(gd).display;\n",
       "        if (!display || display === 'none') {{\n",
       "            console.log([gd, 'removed!']);\n",
       "            Plotly.purge(gd);\n",
       "            observer.disconnect();\n",
       "        }}\n",
       "}});\n",
       "\n",
       "// Listen for the removal of the full notebook cells\n",
       "var notebookContainer = gd.closest('#notebook-container');\n",
       "if (notebookContainer) {{\n",
       "    x.observe(notebookContainer, {childList: true});\n",
       "}}\n",
       "\n",
       "// Listen for the clearing of the current output cell\n",
       "var outputEl = gd.closest('.output');\n",
       "if (outputEl) {{\n",
       "    x.observe(outputEl, {childList: true});\n",
       "}}\n",
       "\n",
       "                        })                };                });            </script>        </div>"
      ]
     },
     "metadata": {},
     "output_type": "display_data"
    }
   ],
   "source": [
    "df.sum().iplot(kind='bar')"
   ]
  },
  {
   "cell_type": "markdown",
   "metadata": {},
   "source": [
    "## Box Plot"
   ]
  },
  {
   "cell_type": "code",
   "execution_count": 22,
   "metadata": {
    "ExecuteTime": {
     "end_time": "2019-05-06T16:55:39.137119Z",
     "start_time": "2019-05-06T16:55:38.984528Z"
    }
   },
   "outputs": [
    {
     "data": {
      "application/vnd.plotly.v1+json": {
       "config": {
        "linkText": "Export to plot.ly",
        "plotlyServerURL": "https://plot.ly",
        "showLink": true
       },
       "data": [
        {
         "boxpoints": false,
         "line": {
          "width": 1.3
         },
         "marker": {
          "color": "rgba(255, 153, 51, 1.0)"
         },
         "name": "A",
         "orientation": "v",
         "type": "box",
         "y": [
          3.3625825147031634,
          -0.6885621495157169,
          0.5149951992086972,
          -0.4976600607971672,
          1.3129178129369143,
          1.259037760305938,
          -0.8205591484786454,
          -0.2888956899883146,
          -0.09602816876888236,
          -0.9613950050487399,
          0.19756992435357082,
          -2.010039225046455,
          -0.7479232977395808,
          1.947999686378811,
          -1.300068284850122,
          0.8562782186572203,
          -0.8554492701360895,
          -0.4206993361270417,
          0.17322463597602866,
          -0.47160211461434376,
          0.565677357194077,
          -0.6594632474857488,
          1.7551221205900165,
          0.7357358194208311,
          -1.1591709602449005,
          -0.05419091582379508,
          -0.36257185525324137,
          1.4349669783777106,
          -0.5661528981377684,
          -0.407032366454418,
          0.22755126025017564,
          0.8257857482311864,
          0.27076051378642957,
          -0.46987215853669007,
          -0.6260892978035598,
          -0.14422154840098403,
          0.06729047029481175,
          -0.7538901577971123,
          -0.16372387540641004,
          -1.5306935620588862,
          1.7378715409320646,
          1.8728785308476077,
          -0.22596064971310095,
          0.19265357626344148,
          1.3095974819986245,
          -0.8467226757105627,
          -0.47588441755457705,
          0.8436192849298026,
          -1.0696497054771597,
          -0.29246972729030885,
          -0.5072696949324063,
          -1.804060391633852,
          0.41463973873286825,
          -0.06065342496772562,
          -1.2132110689335833,
          -0.1869364025887339,
          0.7239663414003534,
          -0.03198459252341648,
          0.9917197143234533,
          0.4124466650325076,
          -0.6198057419680839,
          -0.27086068891135073,
          -1.6085151157707147,
          -0.5886897832373408,
          -2.03889655784642,
          -0.08269100136583725,
          -0.2998182776646363,
          0.7537301596831394,
          -0.5572938977691413,
          0.2816574459013314,
          0.12511549492515286,
          -1.1520414977821023,
          -1.6077418183548926,
          0.12518543876338792,
          -0.17240992239466557,
          -0.29687603356526354,
          -0.538488421711546,
          1.011892155339132,
          0.5242967165890116,
          0.37788940477311916,
          1.3818585203086495,
          1.3322459158616347,
          1.3491805785283302,
          0.260837473417611,
          0.9770174853395498,
          -0.417469144514007,
          0.2532052106744681,
          -1.418974713556114,
          -1.304961959687015,
          -0.7850198786305627,
          -2.637960154783843,
          -0.702041364600879,
          0.2929621979386714,
          -0.31570510433110843,
          -0.2629023198827632,
          0.19022263715975085,
          0.6217882134487541,
          -0.2991271853655061,
          1.0088878670316135,
          -1.6952584120476268
         ]
        },
        {
         "boxpoints": false,
         "line": {
          "width": 1.3
         },
         "marker": {
          "color": "rgba(55, 128, 191, 1.0)"
         },
         "name": "B",
         "orientation": "v",
         "type": "box",
         "y": [
          -0.09869980248667033,
          2.03726652741454,
          1.4394828771486599,
          1.8697131285068431,
          -0.5548997790378658,
          -0.6217206439491961,
          -0.689074198736593,
          -0.06741428706327046,
          1.7098599778074983,
          -0.4176920959973648,
          2.168907375948452,
          -0.4880158437300923,
          0.27498240917764155,
          0.08170163057623107,
          -0.03384861897299663,
          1.647092749347639,
          0.15860105398020632,
          0.059442598251813514,
          -0.5762077458563473,
          1.4150104934559853,
          -0.5749855002518763,
          -0.546415696315059,
          -1.5240091166445844,
          -0.9241042955106828,
          -1.9699502760010996,
          -0.6245600967739037,
          0.46518656287393384,
          -0.5218551564845291,
          0.2791729390951336,
          0.38578951337570555,
          0.39588598472909636,
          -0.7255379856229528,
          -0.56042666640254,
          -0.6027380454238817,
          0.06544925823079883,
          0.0977013071597415,
          0.2884822951944402,
          0.01713950529145413,
          -0.6866144000900855,
          -0.7898794564866739,
          0.10855608206827938,
          -0.22219683727590325,
          0.8283900308964371,
          -0.22510174689080045,
          0.08635559723721953,
          0.5335960581183034,
          0.37052671554643235,
          -0.570615537939435,
          0.2934992940562579,
          0.35328262839809565,
          -0.504249051160435,
          -1.9841088941570533,
          0.16468981598788138,
          -0.457678976262291,
          -0.4458065995793777,
          -0.6009038322071909,
          1.081394434790141,
          -0.32228195363254253,
          -0.2734324040026059,
          -0.11560060379954049,
          -1.145759112427046,
          -0.11539531430117402,
          0.32766295593105765,
          -0.373990881876142,
          -1.8553040836366972,
          0.41643076492351705,
          0.8492089009344047,
          -0.7965102060113378,
          2.036714812577297,
          0.21979935049899096,
          -1.1294971239943814,
          0.15636794398823822,
          0.19528867658492846,
          -0.664078836346772,
          0.29684278242568446,
          -0.8367625226528052,
          0.7616986595793469,
          1.855823984151398,
          -1.133439152106387,
          -0.8195629205557495,
          -0.46718347774595076,
          0.9486061350544259,
          -0.07737115781296872,
          -0.42174556204453584,
          1.6477605761097094,
          0.382673801536673,
          1.0452339650064126,
          -1.2834000440096809,
          0.8211643104999973,
          2.0187466797608917,
          0.03507192302206712,
          -1.290810831468579,
          0.7469538642891566,
          -0.7722379464065471,
          -0.7828371849281098,
          -0.7157909433349646,
          1.0350233315650033,
          0.34197577939435325,
          -0.20965832848228794,
          0.33295144312351205
         ]
        },
        {
         "boxpoints": false,
         "line": {
          "width": 1.3
         },
         "marker": {
          "color": "rgba(50, 171, 96, 1.0)"
         },
         "name": "C",
         "orientation": "v",
         "type": "box",
         "y": [
          -0.03871432534083431,
          0.8115707952131627,
          -0.17665423819459455,
          1.3466930613339523,
          -0.7096242874361512,
          0.5827954368056582,
          0.46518279753224095,
          -1.5660683477890591,
          -0.33199610826936693,
          -0.4744363313695482,
          1.4711440122729522,
          -0.003955344986920965,
          0.0562545380152191,
          0.15362277115179548,
          -0.36353528708391786,
          -0.012124866275137487,
          -0.20009491093416557,
          0.9614757069810966,
          0.7697978672912913,
          -0.23742915591891228,
          0.9725222749061871,
          0.41582536826645344,
          -1.0625242653194664,
          -0.7900579467789591,
          -0.6818934981943373,
          -0.13917048218982198,
          -0.3541996772670713,
          -0.8213352921077302,
          -0.07126063095007504,
          -0.26033422049286276,
          -0.5289646963018059,
          -0.43873497104461107,
          -0.45044738503422543,
          0.7478128184341659,
          0.6641194392583254,
          -0.979094314437018,
          -1.119399923453585,
          -1.5594785503686877,
          0.7599857788414909,
          -1.9097517568392404,
          -1.9468678465506883,
          0.5218375682681676,
          -1.0396394039937231,
          1.1276287199659947,
          -1.184342666394064,
          0.022131779564743076,
          -0.3201532437258341,
          -0.19702044383341424,
          -0.3758894766712151,
          0.05237384319038519,
          1.5172743804134299,
          2.4247879322619643,
          -0.9755230759676465,
          1.012608550719346,
          -1.290639386572514,
          -0.17154180805176894,
          0.7087889536846921,
          0.16864636263787605,
          -0.1312296598447758,
          0.7305408215857765,
          -1.3689031206003062,
          0.22090233284189276,
          1.3597780697136148,
          0.9944818070429114,
          0.6964499854986963,
          0.6745445328562419,
          -0.6662469380254723,
          -1.0174720887610438,
          0.2300492223012016,
          -0.036954874906627216,
          -0.726688304201755,
          -1.0211999418778872,
          1.0250471207567862,
          0.21183444445887054,
          0.37261079372522277,
          0.5822324112944044,
          -0.22929439516700795,
          0.2480386641167231,
          0.5643644796350337,
          0.9750637011146529,
          -0.18448805836167542,
          1.0717767289630435,
          2.0980105239450886,
          0.38372361927407656,
          -0.004206138482686182,
          -0.13370915390265514,
          0.16589187268661165,
          0.47628847080812187,
          0.704925336787344,
          0.12372473894611717,
          0.15210545578859208,
          -0.9406035775255597,
          -0.226907080030317,
          0.2499324277887329,
          -1.5170304489877942,
          1.2639490310851944,
          -0.516687512771716,
          2.305904708755523,
          -1.3952138991015384,
          0.630778993152211
         ]
        },
        {
         "boxpoints": false,
         "line": {
          "width": 1.3
         },
         "marker": {
          "color": "rgba(128, 0, 128, 1.0)"
         },
         "name": "D",
         "orientation": "v",
         "type": "box",
         "y": [
          -0.2610754490700943,
          -0.31274259932016485,
          -0.05195486783740825,
          -0.6363720505501187,
          0.26403720932684455,
          -0.670878971050256,
          0.35306264868315396,
          -1.4766036084490375,
          -1.0570360760952613,
          -0.5716289462859565,
          0.5996025660857952,
          0.6669472548117814,
          -0.20190710037508552,
          0.6591484959562992,
          0.3007018794461643,
          -2.3269309002298684,
          -0.45564726513007425,
          0.31412461514473483,
          1.5775316971860345,
          -0.20816830651970206,
          1.0992586180529906,
          1.2482324665607225,
          0.5963441305128984,
          0.6759383135148479,
          -0.31391325666451225,
          1.20331051531392,
          -1.1189113149477334,
          0.04340009025224424,
          -0.5873078097584103,
          -1.7395764773201399,
          1.7318829844673942,
          -1.8582286156354608,
          0.2102896767181078,
          0.036038219215623425,
          1.7315528329827625,
          -0.23751896821776966,
          -1.2619041772231365,
          -0.4209939529770629,
          0.6444023091948922,
          -0.12611657156977105,
          -0.8679107790133433,
          -1.2941016753923553,
          0.14594471207322482,
          -1.0981622210575677,
          -0.08624722509148783,
          -0.5531726942858656,
          1.3258006005289427,
          -0.5239864957809007,
          0.09995128771691131,
          2.10208730930389,
          -0.6752478145794528,
          -0.3840445714707245,
          -0.1372520446980467,
          0.3886173501207647,
          1.2332964234722699,
          1.4381637163220384,
          -0.25764043429119016,
          -0.9842129074651307,
          -0.13624389171313364,
          -1.2929703628833762,
          -0.21066150761967375,
          -1.0517433412117014,
          0.12062324844287063,
          1.2927129194575222,
          -0.7835829494349476,
          -0.7570704661624947,
          -1.161275272484911,
          -0.6580589800179951,
          0.4574163292136516,
          0.9282633619209005,
          1.2361508560233534,
          1.6358461396414072,
          -0.3275027468944334,
          0.4715100581108882,
          0.1900867796549248,
          0.9503595438312736,
          0.2846599033154163,
          0.7838010808747881,
          -0.6215426494588088,
          -2.5585283098605864,
          2.792906821685706,
          -0.21163724717237037,
          -0.799844955740187,
          -0.12841497548761696,
          1.643525322798787,
          0.6669179707736347,
          -2.071559206824266,
          0.8811338533173473,
          -2.0193879616140107,
          -1.9139249417279494,
          0.9818762536192873,
          -0.14457914752721937,
          -0.1019202571490361,
          -0.10167892581764211,
          1.2887099889784408,
          0.7911773663583078,
          -1.0221485430858486,
          -0.47387097215670204,
          -0.20350765600332388,
          -0.13150023481557147
         ]
        }
       ],
       "layout": {
        "legend": {
         "bgcolor": "#F5F6F9",
         "font": {
          "color": "#4D5663"
         }
        },
        "paper_bgcolor": "#F5F6F9",
        "plot_bgcolor": "#F5F6F9",
        "template": {
         "data": {
          "bar": [
           {
            "error_x": {
             "color": "#2a3f5f"
            },
            "error_y": {
             "color": "#2a3f5f"
            },
            "marker": {
             "line": {
              "color": "#E5ECF6",
              "width": 0.5
             },
             "pattern": {
              "fillmode": "overlay",
              "size": 10,
              "solidity": 0.2
             }
            },
            "type": "bar"
           }
          ],
          "barpolar": [
           {
            "marker": {
             "line": {
              "color": "#E5ECF6",
              "width": 0.5
             },
             "pattern": {
              "fillmode": "overlay",
              "size": 10,
              "solidity": 0.2
             }
            },
            "type": "barpolar"
           }
          ],
          "carpet": [
           {
            "aaxis": {
             "endlinecolor": "#2a3f5f",
             "gridcolor": "white",
             "linecolor": "white",
             "minorgridcolor": "white",
             "startlinecolor": "#2a3f5f"
            },
            "baxis": {
             "endlinecolor": "#2a3f5f",
             "gridcolor": "white",
             "linecolor": "white",
             "minorgridcolor": "white",
             "startlinecolor": "#2a3f5f"
            },
            "type": "carpet"
           }
          ],
          "choropleth": [
           {
            "colorbar": {
             "outlinewidth": 0,
             "ticks": ""
            },
            "type": "choropleth"
           }
          ],
          "contour": [
           {
            "colorbar": {
             "outlinewidth": 0,
             "ticks": ""
            },
            "colorscale": [
             [
              0,
              "#0d0887"
             ],
             [
              0.1111111111111111,
              "#46039f"
             ],
             [
              0.2222222222222222,
              "#7201a8"
             ],
             [
              0.3333333333333333,
              "#9c179e"
             ],
             [
              0.4444444444444444,
              "#bd3786"
             ],
             [
              0.5555555555555556,
              "#d8576b"
             ],
             [
              0.6666666666666666,
              "#ed7953"
             ],
             [
              0.7777777777777778,
              "#fb9f3a"
             ],
             [
              0.8888888888888888,
              "#fdca26"
             ],
             [
              1,
              "#f0f921"
             ]
            ],
            "type": "contour"
           }
          ],
          "contourcarpet": [
           {
            "colorbar": {
             "outlinewidth": 0,
             "ticks": ""
            },
            "type": "contourcarpet"
           }
          ],
          "heatmap": [
           {
            "colorbar": {
             "outlinewidth": 0,
             "ticks": ""
            },
            "colorscale": [
             [
              0,
              "#0d0887"
             ],
             [
              0.1111111111111111,
              "#46039f"
             ],
             [
              0.2222222222222222,
              "#7201a8"
             ],
             [
              0.3333333333333333,
              "#9c179e"
             ],
             [
              0.4444444444444444,
              "#bd3786"
             ],
             [
              0.5555555555555556,
              "#d8576b"
             ],
             [
              0.6666666666666666,
              "#ed7953"
             ],
             [
              0.7777777777777778,
              "#fb9f3a"
             ],
             [
              0.8888888888888888,
              "#fdca26"
             ],
             [
              1,
              "#f0f921"
             ]
            ],
            "type": "heatmap"
           }
          ],
          "heatmapgl": [
           {
            "colorbar": {
             "outlinewidth": 0,
             "ticks": ""
            },
            "colorscale": [
             [
              0,
              "#0d0887"
             ],
             [
              0.1111111111111111,
              "#46039f"
             ],
             [
              0.2222222222222222,
              "#7201a8"
             ],
             [
              0.3333333333333333,
              "#9c179e"
             ],
             [
              0.4444444444444444,
              "#bd3786"
             ],
             [
              0.5555555555555556,
              "#d8576b"
             ],
             [
              0.6666666666666666,
              "#ed7953"
             ],
             [
              0.7777777777777778,
              "#fb9f3a"
             ],
             [
              0.8888888888888888,
              "#fdca26"
             ],
             [
              1,
              "#f0f921"
             ]
            ],
            "type": "heatmapgl"
           }
          ],
          "histogram": [
           {
            "marker": {
             "pattern": {
              "fillmode": "overlay",
              "size": 10,
              "solidity": 0.2
             }
            },
            "type": "histogram"
           }
          ],
          "histogram2d": [
           {
            "colorbar": {
             "outlinewidth": 0,
             "ticks": ""
            },
            "colorscale": [
             [
              0,
              "#0d0887"
             ],
             [
              0.1111111111111111,
              "#46039f"
             ],
             [
              0.2222222222222222,
              "#7201a8"
             ],
             [
              0.3333333333333333,
              "#9c179e"
             ],
             [
              0.4444444444444444,
              "#bd3786"
             ],
             [
              0.5555555555555556,
              "#d8576b"
             ],
             [
              0.6666666666666666,
              "#ed7953"
             ],
             [
              0.7777777777777778,
              "#fb9f3a"
             ],
             [
              0.8888888888888888,
              "#fdca26"
             ],
             [
              1,
              "#f0f921"
             ]
            ],
            "type": "histogram2d"
           }
          ],
          "histogram2dcontour": [
           {
            "colorbar": {
             "outlinewidth": 0,
             "ticks": ""
            },
            "colorscale": [
             [
              0,
              "#0d0887"
             ],
             [
              0.1111111111111111,
              "#46039f"
             ],
             [
              0.2222222222222222,
              "#7201a8"
             ],
             [
              0.3333333333333333,
              "#9c179e"
             ],
             [
              0.4444444444444444,
              "#bd3786"
             ],
             [
              0.5555555555555556,
              "#d8576b"
             ],
             [
              0.6666666666666666,
              "#ed7953"
             ],
             [
              0.7777777777777778,
              "#fb9f3a"
             ],
             [
              0.8888888888888888,
              "#fdca26"
             ],
             [
              1,
              "#f0f921"
             ]
            ],
            "type": "histogram2dcontour"
           }
          ],
          "mesh3d": [
           {
            "colorbar": {
             "outlinewidth": 0,
             "ticks": ""
            },
            "type": "mesh3d"
           }
          ],
          "parcoords": [
           {
            "line": {
             "colorbar": {
              "outlinewidth": 0,
              "ticks": ""
             }
            },
            "type": "parcoords"
           }
          ],
          "pie": [
           {
            "automargin": true,
            "type": "pie"
           }
          ],
          "scatter": [
           {
            "marker": {
             "colorbar": {
              "outlinewidth": 0,
              "ticks": ""
             }
            },
            "type": "scatter"
           }
          ],
          "scatter3d": [
           {
            "line": {
             "colorbar": {
              "outlinewidth": 0,
              "ticks": ""
             }
            },
            "marker": {
             "colorbar": {
              "outlinewidth": 0,
              "ticks": ""
             }
            },
            "type": "scatter3d"
           }
          ],
          "scattercarpet": [
           {
            "marker": {
             "colorbar": {
              "outlinewidth": 0,
              "ticks": ""
             }
            },
            "type": "scattercarpet"
           }
          ],
          "scattergeo": [
           {
            "marker": {
             "colorbar": {
              "outlinewidth": 0,
              "ticks": ""
             }
            },
            "type": "scattergeo"
           }
          ],
          "scattergl": [
           {
            "marker": {
             "colorbar": {
              "outlinewidth": 0,
              "ticks": ""
             }
            },
            "type": "scattergl"
           }
          ],
          "scattermapbox": [
           {
            "marker": {
             "colorbar": {
              "outlinewidth": 0,
              "ticks": ""
             }
            },
            "type": "scattermapbox"
           }
          ],
          "scatterpolar": [
           {
            "marker": {
             "colorbar": {
              "outlinewidth": 0,
              "ticks": ""
             }
            },
            "type": "scatterpolar"
           }
          ],
          "scatterpolargl": [
           {
            "marker": {
             "colorbar": {
              "outlinewidth": 0,
              "ticks": ""
             }
            },
            "type": "scatterpolargl"
           }
          ],
          "scatterternary": [
           {
            "marker": {
             "colorbar": {
              "outlinewidth": 0,
              "ticks": ""
             }
            },
            "type": "scatterternary"
           }
          ],
          "surface": [
           {
            "colorbar": {
             "outlinewidth": 0,
             "ticks": ""
            },
            "colorscale": [
             [
              0,
              "#0d0887"
             ],
             [
              0.1111111111111111,
              "#46039f"
             ],
             [
              0.2222222222222222,
              "#7201a8"
             ],
             [
              0.3333333333333333,
              "#9c179e"
             ],
             [
              0.4444444444444444,
              "#bd3786"
             ],
             [
              0.5555555555555556,
              "#d8576b"
             ],
             [
              0.6666666666666666,
              "#ed7953"
             ],
             [
              0.7777777777777778,
              "#fb9f3a"
             ],
             [
              0.8888888888888888,
              "#fdca26"
             ],
             [
              1,
              "#f0f921"
             ]
            ],
            "type": "surface"
           }
          ],
          "table": [
           {
            "cells": {
             "fill": {
              "color": "#EBF0F8"
             },
             "line": {
              "color": "white"
             }
            },
            "header": {
             "fill": {
              "color": "#C8D4E3"
             },
             "line": {
              "color": "white"
             }
            },
            "type": "table"
           }
          ]
         },
         "layout": {
          "annotationdefaults": {
           "arrowcolor": "#2a3f5f",
           "arrowhead": 0,
           "arrowwidth": 1
          },
          "autotypenumbers": "strict",
          "coloraxis": {
           "colorbar": {
            "outlinewidth": 0,
            "ticks": ""
           }
          },
          "colorscale": {
           "diverging": [
            [
             0,
             "#8e0152"
            ],
            [
             0.1,
             "#c51b7d"
            ],
            [
             0.2,
             "#de77ae"
            ],
            [
             0.3,
             "#f1b6da"
            ],
            [
             0.4,
             "#fde0ef"
            ],
            [
             0.5,
             "#f7f7f7"
            ],
            [
             0.6,
             "#e6f5d0"
            ],
            [
             0.7,
             "#b8e186"
            ],
            [
             0.8,
             "#7fbc41"
            ],
            [
             0.9,
             "#4d9221"
            ],
            [
             1,
             "#276419"
            ]
           ],
           "sequential": [
            [
             0,
             "#0d0887"
            ],
            [
             0.1111111111111111,
             "#46039f"
            ],
            [
             0.2222222222222222,
             "#7201a8"
            ],
            [
             0.3333333333333333,
             "#9c179e"
            ],
            [
             0.4444444444444444,
             "#bd3786"
            ],
            [
             0.5555555555555556,
             "#d8576b"
            ],
            [
             0.6666666666666666,
             "#ed7953"
            ],
            [
             0.7777777777777778,
             "#fb9f3a"
            ],
            [
             0.8888888888888888,
             "#fdca26"
            ],
            [
             1,
             "#f0f921"
            ]
           ],
           "sequentialminus": [
            [
             0,
             "#0d0887"
            ],
            [
             0.1111111111111111,
             "#46039f"
            ],
            [
             0.2222222222222222,
             "#7201a8"
            ],
            [
             0.3333333333333333,
             "#9c179e"
            ],
            [
             0.4444444444444444,
             "#bd3786"
            ],
            [
             0.5555555555555556,
             "#d8576b"
            ],
            [
             0.6666666666666666,
             "#ed7953"
            ],
            [
             0.7777777777777778,
             "#fb9f3a"
            ],
            [
             0.8888888888888888,
             "#fdca26"
            ],
            [
             1,
             "#f0f921"
            ]
           ]
          },
          "colorway": [
           "#636efa",
           "#EF553B",
           "#00cc96",
           "#ab63fa",
           "#FFA15A",
           "#19d3f3",
           "#FF6692",
           "#B6E880",
           "#FF97FF",
           "#FECB52"
          ],
          "font": {
           "color": "#2a3f5f"
          },
          "geo": {
           "bgcolor": "white",
           "lakecolor": "white",
           "landcolor": "#E5ECF6",
           "showlakes": true,
           "showland": true,
           "subunitcolor": "white"
          },
          "hoverlabel": {
           "align": "left"
          },
          "hovermode": "closest",
          "mapbox": {
           "style": "light"
          },
          "paper_bgcolor": "white",
          "plot_bgcolor": "#E5ECF6",
          "polar": {
           "angularaxis": {
            "gridcolor": "white",
            "linecolor": "white",
            "ticks": ""
           },
           "bgcolor": "#E5ECF6",
           "radialaxis": {
            "gridcolor": "white",
            "linecolor": "white",
            "ticks": ""
           }
          },
          "scene": {
           "xaxis": {
            "backgroundcolor": "#E5ECF6",
            "gridcolor": "white",
            "gridwidth": 2,
            "linecolor": "white",
            "showbackground": true,
            "ticks": "",
            "zerolinecolor": "white"
           },
           "yaxis": {
            "backgroundcolor": "#E5ECF6",
            "gridcolor": "white",
            "gridwidth": 2,
            "linecolor": "white",
            "showbackground": true,
            "ticks": "",
            "zerolinecolor": "white"
           },
           "zaxis": {
            "backgroundcolor": "#E5ECF6",
            "gridcolor": "white",
            "gridwidth": 2,
            "linecolor": "white",
            "showbackground": true,
            "ticks": "",
            "zerolinecolor": "white"
           }
          },
          "shapedefaults": {
           "line": {
            "color": "#2a3f5f"
           }
          },
          "ternary": {
           "aaxis": {
            "gridcolor": "white",
            "linecolor": "white",
            "ticks": ""
           },
           "baxis": {
            "gridcolor": "white",
            "linecolor": "white",
            "ticks": ""
           },
           "bgcolor": "#E5ECF6",
           "caxis": {
            "gridcolor": "white",
            "linecolor": "white",
            "ticks": ""
           }
          },
          "title": {
           "x": 0.05
          },
          "xaxis": {
           "automargin": true,
           "gridcolor": "white",
           "linecolor": "white",
           "ticks": "",
           "title": {
            "standoff": 15
           },
           "zerolinecolor": "white",
           "zerolinewidth": 2
          },
          "yaxis": {
           "automargin": true,
           "gridcolor": "white",
           "linecolor": "white",
           "ticks": "",
           "title": {
            "standoff": 15
           },
           "zerolinecolor": "white",
           "zerolinewidth": 2
          }
         }
        },
        "title": {
         "font": {
          "color": "#4D5663"
         }
        },
        "xaxis": {
         "gridcolor": "#E1E5ED",
         "showgrid": true,
         "tickfont": {
          "color": "#4D5663"
         },
         "title": {
          "font": {
           "color": "#4D5663"
          },
          "text": ""
         },
         "zerolinecolor": "#E1E5ED"
        },
        "yaxis": {
         "gridcolor": "#E1E5ED",
         "showgrid": true,
         "tickfont": {
          "color": "#4D5663"
         },
         "title": {
          "font": {
           "color": "#4D5663"
          },
          "text": ""
         },
         "zerolinecolor": "#E1E5ED"
        }
       }
      },
      "text/html": [
       "<div>                            <div id=\"3cffad18-94ab-452e-bd24-a0219ab4b329\" class=\"plotly-graph-div\" style=\"height:525px; width:100%;\"></div>            <script type=\"text/javascript\">                require([\"plotly\"], function(Plotly) {                    window.PLOTLYENV=window.PLOTLYENV || {};\n",
       "                    window.PLOTLYENV.BASE_URL='https://plot.ly';                                    if (document.getElementById(\"3cffad18-94ab-452e-bd24-a0219ab4b329\")) {                    Plotly.newPlot(                        \"3cffad18-94ab-452e-bd24-a0219ab4b329\",                        [{\"boxpoints\":false,\"line\":{\"width\":1.3},\"marker\":{\"color\":\"rgba(255, 153, 51, 1.0)\"},\"name\":\"A\",\"orientation\":\"v\",\"y\":[3.3625825147031634,-0.6885621495157169,0.5149951992086972,-0.4976600607971672,1.3129178129369143,1.259037760305938,-0.8205591484786454,-0.2888956899883146,-0.09602816876888236,-0.9613950050487399,0.19756992435357082,-2.010039225046455,-0.7479232977395808,1.947999686378811,-1.300068284850122,0.8562782186572203,-0.8554492701360895,-0.4206993361270417,0.17322463597602866,-0.47160211461434376,0.565677357194077,-0.6594632474857488,1.7551221205900165,0.7357358194208311,-1.1591709602449005,-0.05419091582379508,-0.36257185525324137,1.4349669783777106,-0.5661528981377684,-0.407032366454418,0.22755126025017564,0.8257857482311864,0.27076051378642957,-0.46987215853669007,-0.6260892978035598,-0.14422154840098403,0.06729047029481175,-0.7538901577971123,-0.16372387540641004,-1.5306935620588862,1.7378715409320646,1.8728785308476077,-0.22596064971310095,0.19265357626344148,1.3095974819986245,-0.8467226757105627,-0.47588441755457705,0.8436192849298026,-1.0696497054771597,-0.29246972729030885,-0.5072696949324063,-1.804060391633852,0.41463973873286825,-0.06065342496772562,-1.2132110689335833,-0.1869364025887339,0.7239663414003534,-0.03198459252341648,0.9917197143234533,0.4124466650325076,-0.6198057419680839,-0.27086068891135073,-1.6085151157707147,-0.5886897832373408,-2.03889655784642,-0.08269100136583725,-0.2998182776646363,0.7537301596831394,-0.5572938977691413,0.2816574459013314,0.12511549492515286,-1.1520414977821023,-1.6077418183548926,0.12518543876338792,-0.17240992239466557,-0.29687603356526354,-0.538488421711546,1.011892155339132,0.5242967165890116,0.37788940477311916,1.3818585203086495,1.3322459158616347,1.3491805785283302,0.260837473417611,0.9770174853395498,-0.417469144514007,0.2532052106744681,-1.418974713556114,-1.304961959687015,-0.7850198786305627,-2.637960154783843,-0.702041364600879,0.2929621979386714,-0.31570510433110843,-0.2629023198827632,0.19022263715975085,0.6217882134487541,-0.2991271853655061,1.0088878670316135,-1.6952584120476268],\"type\":\"box\"},{\"boxpoints\":false,\"line\":{\"width\":1.3},\"marker\":{\"color\":\"rgba(55, 128, 191, 1.0)\"},\"name\":\"B\",\"orientation\":\"v\",\"y\":[-0.09869980248667033,2.03726652741454,1.4394828771486599,1.8697131285068431,-0.5548997790378658,-0.6217206439491961,-0.689074198736593,-0.06741428706327046,1.7098599778074983,-0.4176920959973648,2.168907375948452,-0.4880158437300923,0.27498240917764155,0.08170163057623107,-0.03384861897299663,1.647092749347639,0.15860105398020632,0.059442598251813514,-0.5762077458563473,1.4150104934559853,-0.5749855002518763,-0.546415696315059,-1.5240091166445844,-0.9241042955106828,-1.9699502760010996,-0.6245600967739037,0.46518656287393384,-0.5218551564845291,0.2791729390951336,0.38578951337570555,0.39588598472909636,-0.7255379856229528,-0.56042666640254,-0.6027380454238817,0.06544925823079883,0.0977013071597415,0.2884822951944402,0.01713950529145413,-0.6866144000900855,-0.7898794564866739,0.10855608206827938,-0.22219683727590325,0.8283900308964371,-0.22510174689080045,0.08635559723721953,0.5335960581183034,0.37052671554643235,-0.570615537939435,0.2934992940562579,0.35328262839809565,-0.504249051160435,-1.9841088941570533,0.16468981598788138,-0.457678976262291,-0.4458065995793777,-0.6009038322071909,1.081394434790141,-0.32228195363254253,-0.2734324040026059,-0.11560060379954049,-1.145759112427046,-0.11539531430117402,0.32766295593105765,-0.373990881876142,-1.8553040836366972,0.41643076492351705,0.8492089009344047,-0.7965102060113378,2.036714812577297,0.21979935049899096,-1.1294971239943814,0.15636794398823822,0.19528867658492846,-0.664078836346772,0.29684278242568446,-0.8367625226528052,0.7616986595793469,1.855823984151398,-1.133439152106387,-0.8195629205557495,-0.46718347774595076,0.9486061350544259,-0.07737115781296872,-0.42174556204453584,1.6477605761097094,0.382673801536673,1.0452339650064126,-1.2834000440096809,0.8211643104999973,2.0187466797608917,0.03507192302206712,-1.290810831468579,0.7469538642891566,-0.7722379464065471,-0.7828371849281098,-0.7157909433349646,1.0350233315650033,0.34197577939435325,-0.20965832848228794,0.33295144312351205],\"type\":\"box\"},{\"boxpoints\":false,\"line\":{\"width\":1.3},\"marker\":{\"color\":\"rgba(50, 171, 96, 1.0)\"},\"name\":\"C\",\"orientation\":\"v\",\"y\":[-0.03871432534083431,0.8115707952131627,-0.17665423819459455,1.3466930613339523,-0.7096242874361512,0.5827954368056582,0.46518279753224095,-1.5660683477890591,-0.33199610826936693,-0.4744363313695482,1.4711440122729522,-0.003955344986920965,0.0562545380152191,0.15362277115179548,-0.36353528708391786,-0.012124866275137487,-0.20009491093416557,0.9614757069810966,0.7697978672912913,-0.23742915591891228,0.9725222749061871,0.41582536826645344,-1.0625242653194664,-0.7900579467789591,-0.6818934981943373,-0.13917048218982198,-0.3541996772670713,-0.8213352921077302,-0.07126063095007504,-0.26033422049286276,-0.5289646963018059,-0.43873497104461107,-0.45044738503422543,0.7478128184341659,0.6641194392583254,-0.979094314437018,-1.119399923453585,-1.5594785503686877,0.7599857788414909,-1.9097517568392404,-1.9468678465506883,0.5218375682681676,-1.0396394039937231,1.1276287199659947,-1.184342666394064,0.022131779564743076,-0.3201532437258341,-0.19702044383341424,-0.3758894766712151,0.05237384319038519,1.5172743804134299,2.4247879322619643,-0.9755230759676465,1.012608550719346,-1.290639386572514,-0.17154180805176894,0.7087889536846921,0.16864636263787605,-0.1312296598447758,0.7305408215857765,-1.3689031206003062,0.22090233284189276,1.3597780697136148,0.9944818070429114,0.6964499854986963,0.6745445328562419,-0.6662469380254723,-1.0174720887610438,0.2300492223012016,-0.036954874906627216,-0.726688304201755,-1.0211999418778872,1.0250471207567862,0.21183444445887054,0.37261079372522277,0.5822324112944044,-0.22929439516700795,0.2480386641167231,0.5643644796350337,0.9750637011146529,-0.18448805836167542,1.0717767289630435,2.0980105239450886,0.38372361927407656,-0.004206138482686182,-0.13370915390265514,0.16589187268661165,0.47628847080812187,0.704925336787344,0.12372473894611717,0.15210545578859208,-0.9406035775255597,-0.226907080030317,0.2499324277887329,-1.5170304489877942,1.2639490310851944,-0.516687512771716,2.305904708755523,-1.3952138991015384,0.630778993152211],\"type\":\"box\"},{\"boxpoints\":false,\"line\":{\"width\":1.3},\"marker\":{\"color\":\"rgba(128, 0, 128, 1.0)\"},\"name\":\"D\",\"orientation\":\"v\",\"y\":[-0.2610754490700943,-0.31274259932016485,-0.05195486783740825,-0.6363720505501187,0.26403720932684455,-0.670878971050256,0.35306264868315396,-1.4766036084490375,-1.0570360760952613,-0.5716289462859565,0.5996025660857952,0.6669472548117814,-0.20190710037508552,0.6591484959562992,0.3007018794461643,-2.3269309002298684,-0.45564726513007425,0.31412461514473483,1.5775316971860345,-0.20816830651970206,1.0992586180529906,1.2482324665607225,0.5963441305128984,0.6759383135148479,-0.31391325666451225,1.20331051531392,-1.1189113149477334,0.04340009025224424,-0.5873078097584103,-1.7395764773201399,1.7318829844673942,-1.8582286156354608,0.2102896767181078,0.036038219215623425,1.7315528329827625,-0.23751896821776966,-1.2619041772231365,-0.4209939529770629,0.6444023091948922,-0.12611657156977105,-0.8679107790133433,-1.2941016753923553,0.14594471207322482,-1.0981622210575677,-0.08624722509148783,-0.5531726942858656,1.3258006005289427,-0.5239864957809007,0.09995128771691131,2.10208730930389,-0.6752478145794528,-0.3840445714707245,-0.1372520446980467,0.3886173501207647,1.2332964234722699,1.4381637163220384,-0.25764043429119016,-0.9842129074651307,-0.13624389171313364,-1.2929703628833762,-0.21066150761967375,-1.0517433412117014,0.12062324844287063,1.2927129194575222,-0.7835829494349476,-0.7570704661624947,-1.161275272484911,-0.6580589800179951,0.4574163292136516,0.9282633619209005,1.2361508560233534,1.6358461396414072,-0.3275027468944334,0.4715100581108882,0.1900867796549248,0.9503595438312736,0.2846599033154163,0.7838010808747881,-0.6215426494588088,-2.5585283098605864,2.792906821685706,-0.21163724717237037,-0.799844955740187,-0.12841497548761696,1.643525322798787,0.6669179707736347,-2.071559206824266,0.8811338533173473,-2.0193879616140107,-1.9139249417279494,0.9818762536192873,-0.14457914752721937,-0.1019202571490361,-0.10167892581764211,1.2887099889784408,0.7911773663583078,-1.0221485430858486,-0.47387097215670204,-0.20350765600332388,-0.13150023481557147],\"type\":\"box\"}],                        {\"legend\":{\"bgcolor\":\"#F5F6F9\",\"font\":{\"color\":\"#4D5663\"}},\"paper_bgcolor\":\"#F5F6F9\",\"plot_bgcolor\":\"#F5F6F9\",\"template\":{\"data\":{\"barpolar\":[{\"marker\":{\"line\":{\"color\":\"#E5ECF6\",\"width\":0.5},\"pattern\":{\"fillmode\":\"overlay\",\"size\":10,\"solidity\":0.2}},\"type\":\"barpolar\"}],\"bar\":[{\"error_x\":{\"color\":\"#2a3f5f\"},\"error_y\":{\"color\":\"#2a3f5f\"},\"marker\":{\"line\":{\"color\":\"#E5ECF6\",\"width\":0.5},\"pattern\":{\"fillmode\":\"overlay\",\"size\":10,\"solidity\":0.2}},\"type\":\"bar\"}],\"carpet\":[{\"aaxis\":{\"endlinecolor\":\"#2a3f5f\",\"gridcolor\":\"white\",\"linecolor\":\"white\",\"minorgridcolor\":\"white\",\"startlinecolor\":\"#2a3f5f\"},\"baxis\":{\"endlinecolor\":\"#2a3f5f\",\"gridcolor\":\"white\",\"linecolor\":\"white\",\"minorgridcolor\":\"white\",\"startlinecolor\":\"#2a3f5f\"},\"type\":\"carpet\"}],\"choropleth\":[{\"colorbar\":{\"outlinewidth\":0,\"ticks\":\"\"},\"type\":\"choropleth\"}],\"contourcarpet\":[{\"colorbar\":{\"outlinewidth\":0,\"ticks\":\"\"},\"type\":\"contourcarpet\"}],\"contour\":[{\"colorbar\":{\"outlinewidth\":0,\"ticks\":\"\"},\"colorscale\":[[0.0,\"#0d0887\"],[0.1111111111111111,\"#46039f\"],[0.2222222222222222,\"#7201a8\"],[0.3333333333333333,\"#9c179e\"],[0.4444444444444444,\"#bd3786\"],[0.5555555555555556,\"#d8576b\"],[0.6666666666666666,\"#ed7953\"],[0.7777777777777778,\"#fb9f3a\"],[0.8888888888888888,\"#fdca26\"],[1.0,\"#f0f921\"]],\"type\":\"contour\"}],\"heatmapgl\":[{\"colorbar\":{\"outlinewidth\":0,\"ticks\":\"\"},\"colorscale\":[[0.0,\"#0d0887\"],[0.1111111111111111,\"#46039f\"],[0.2222222222222222,\"#7201a8\"],[0.3333333333333333,\"#9c179e\"],[0.4444444444444444,\"#bd3786\"],[0.5555555555555556,\"#d8576b\"],[0.6666666666666666,\"#ed7953\"],[0.7777777777777778,\"#fb9f3a\"],[0.8888888888888888,\"#fdca26\"],[1.0,\"#f0f921\"]],\"type\":\"heatmapgl\"}],\"heatmap\":[{\"colorbar\":{\"outlinewidth\":0,\"ticks\":\"\"},\"colorscale\":[[0.0,\"#0d0887\"],[0.1111111111111111,\"#46039f\"],[0.2222222222222222,\"#7201a8\"],[0.3333333333333333,\"#9c179e\"],[0.4444444444444444,\"#bd3786\"],[0.5555555555555556,\"#d8576b\"],[0.6666666666666666,\"#ed7953\"],[0.7777777777777778,\"#fb9f3a\"],[0.8888888888888888,\"#fdca26\"],[1.0,\"#f0f921\"]],\"type\":\"heatmap\"}],\"histogram2dcontour\":[{\"colorbar\":{\"outlinewidth\":0,\"ticks\":\"\"},\"colorscale\":[[0.0,\"#0d0887\"],[0.1111111111111111,\"#46039f\"],[0.2222222222222222,\"#7201a8\"],[0.3333333333333333,\"#9c179e\"],[0.4444444444444444,\"#bd3786\"],[0.5555555555555556,\"#d8576b\"],[0.6666666666666666,\"#ed7953\"],[0.7777777777777778,\"#fb9f3a\"],[0.8888888888888888,\"#fdca26\"],[1.0,\"#f0f921\"]],\"type\":\"histogram2dcontour\"}],\"histogram2d\":[{\"colorbar\":{\"outlinewidth\":0,\"ticks\":\"\"},\"colorscale\":[[0.0,\"#0d0887\"],[0.1111111111111111,\"#46039f\"],[0.2222222222222222,\"#7201a8\"],[0.3333333333333333,\"#9c179e\"],[0.4444444444444444,\"#bd3786\"],[0.5555555555555556,\"#d8576b\"],[0.6666666666666666,\"#ed7953\"],[0.7777777777777778,\"#fb9f3a\"],[0.8888888888888888,\"#fdca26\"],[1.0,\"#f0f921\"]],\"type\":\"histogram2d\"}],\"histogram\":[{\"marker\":{\"pattern\":{\"fillmode\":\"overlay\",\"size\":10,\"solidity\":0.2}},\"type\":\"histogram\"}],\"mesh3d\":[{\"colorbar\":{\"outlinewidth\":0,\"ticks\":\"\"},\"type\":\"mesh3d\"}],\"parcoords\":[{\"line\":{\"colorbar\":{\"outlinewidth\":0,\"ticks\":\"\"}},\"type\":\"parcoords\"}],\"pie\":[{\"automargin\":true,\"type\":\"pie\"}],\"scatter3d\":[{\"line\":{\"colorbar\":{\"outlinewidth\":0,\"ticks\":\"\"}},\"marker\":{\"colorbar\":{\"outlinewidth\":0,\"ticks\":\"\"}},\"type\":\"scatter3d\"}],\"scattercarpet\":[{\"marker\":{\"colorbar\":{\"outlinewidth\":0,\"ticks\":\"\"}},\"type\":\"scattercarpet\"}],\"scattergeo\":[{\"marker\":{\"colorbar\":{\"outlinewidth\":0,\"ticks\":\"\"}},\"type\":\"scattergeo\"}],\"scattergl\":[{\"marker\":{\"colorbar\":{\"outlinewidth\":0,\"ticks\":\"\"}},\"type\":\"scattergl\"}],\"scattermapbox\":[{\"marker\":{\"colorbar\":{\"outlinewidth\":0,\"ticks\":\"\"}},\"type\":\"scattermapbox\"}],\"scatterpolargl\":[{\"marker\":{\"colorbar\":{\"outlinewidth\":0,\"ticks\":\"\"}},\"type\":\"scatterpolargl\"}],\"scatterpolar\":[{\"marker\":{\"colorbar\":{\"outlinewidth\":0,\"ticks\":\"\"}},\"type\":\"scatterpolar\"}],\"scatter\":[{\"marker\":{\"colorbar\":{\"outlinewidth\":0,\"ticks\":\"\"}},\"type\":\"scatter\"}],\"scatterternary\":[{\"marker\":{\"colorbar\":{\"outlinewidth\":0,\"ticks\":\"\"}},\"type\":\"scatterternary\"}],\"surface\":[{\"colorbar\":{\"outlinewidth\":0,\"ticks\":\"\"},\"colorscale\":[[0.0,\"#0d0887\"],[0.1111111111111111,\"#46039f\"],[0.2222222222222222,\"#7201a8\"],[0.3333333333333333,\"#9c179e\"],[0.4444444444444444,\"#bd3786\"],[0.5555555555555556,\"#d8576b\"],[0.6666666666666666,\"#ed7953\"],[0.7777777777777778,\"#fb9f3a\"],[0.8888888888888888,\"#fdca26\"],[1.0,\"#f0f921\"]],\"type\":\"surface\"}],\"table\":[{\"cells\":{\"fill\":{\"color\":\"#EBF0F8\"},\"line\":{\"color\":\"white\"}},\"header\":{\"fill\":{\"color\":\"#C8D4E3\"},\"line\":{\"color\":\"white\"}},\"type\":\"table\"}]},\"layout\":{\"annotationdefaults\":{\"arrowcolor\":\"#2a3f5f\",\"arrowhead\":0,\"arrowwidth\":1},\"autotypenumbers\":\"strict\",\"coloraxis\":{\"colorbar\":{\"outlinewidth\":0,\"ticks\":\"\"}},\"colorscale\":{\"diverging\":[[0,\"#8e0152\"],[0.1,\"#c51b7d\"],[0.2,\"#de77ae\"],[0.3,\"#f1b6da\"],[0.4,\"#fde0ef\"],[0.5,\"#f7f7f7\"],[0.6,\"#e6f5d0\"],[0.7,\"#b8e186\"],[0.8,\"#7fbc41\"],[0.9,\"#4d9221\"],[1,\"#276419\"]],\"sequential\":[[0.0,\"#0d0887\"],[0.1111111111111111,\"#46039f\"],[0.2222222222222222,\"#7201a8\"],[0.3333333333333333,\"#9c179e\"],[0.4444444444444444,\"#bd3786\"],[0.5555555555555556,\"#d8576b\"],[0.6666666666666666,\"#ed7953\"],[0.7777777777777778,\"#fb9f3a\"],[0.8888888888888888,\"#fdca26\"],[1.0,\"#f0f921\"]],\"sequentialminus\":[[0.0,\"#0d0887\"],[0.1111111111111111,\"#46039f\"],[0.2222222222222222,\"#7201a8\"],[0.3333333333333333,\"#9c179e\"],[0.4444444444444444,\"#bd3786\"],[0.5555555555555556,\"#d8576b\"],[0.6666666666666666,\"#ed7953\"],[0.7777777777777778,\"#fb9f3a\"],[0.8888888888888888,\"#fdca26\"],[1.0,\"#f0f921\"]]},\"colorway\":[\"#636efa\",\"#EF553B\",\"#00cc96\",\"#ab63fa\",\"#FFA15A\",\"#19d3f3\",\"#FF6692\",\"#B6E880\",\"#FF97FF\",\"#FECB52\"],\"font\":{\"color\":\"#2a3f5f\"},\"geo\":{\"bgcolor\":\"white\",\"lakecolor\":\"white\",\"landcolor\":\"#E5ECF6\",\"showlakes\":true,\"showland\":true,\"subunitcolor\":\"white\"},\"hoverlabel\":{\"align\":\"left\"},\"hovermode\":\"closest\",\"mapbox\":{\"style\":\"light\"},\"paper_bgcolor\":\"white\",\"plot_bgcolor\":\"#E5ECF6\",\"polar\":{\"angularaxis\":{\"gridcolor\":\"white\",\"linecolor\":\"white\",\"ticks\":\"\"},\"bgcolor\":\"#E5ECF6\",\"radialaxis\":{\"gridcolor\":\"white\",\"linecolor\":\"white\",\"ticks\":\"\"}},\"scene\":{\"xaxis\":{\"backgroundcolor\":\"#E5ECF6\",\"gridcolor\":\"white\",\"gridwidth\":2,\"linecolor\":\"white\",\"showbackground\":true,\"ticks\":\"\",\"zerolinecolor\":\"white\"},\"yaxis\":{\"backgroundcolor\":\"#E5ECF6\",\"gridcolor\":\"white\",\"gridwidth\":2,\"linecolor\":\"white\",\"showbackground\":true,\"ticks\":\"\",\"zerolinecolor\":\"white\"},\"zaxis\":{\"backgroundcolor\":\"#E5ECF6\",\"gridcolor\":\"white\",\"gridwidth\":2,\"linecolor\":\"white\",\"showbackground\":true,\"ticks\":\"\",\"zerolinecolor\":\"white\"}},\"shapedefaults\":{\"line\":{\"color\":\"#2a3f5f\"}},\"ternary\":{\"aaxis\":{\"gridcolor\":\"white\",\"linecolor\":\"white\",\"ticks\":\"\"},\"baxis\":{\"gridcolor\":\"white\",\"linecolor\":\"white\",\"ticks\":\"\"},\"bgcolor\":\"#E5ECF6\",\"caxis\":{\"gridcolor\":\"white\",\"linecolor\":\"white\",\"ticks\":\"\"}},\"title\":{\"x\":0.05},\"xaxis\":{\"automargin\":true,\"gridcolor\":\"white\",\"linecolor\":\"white\",\"ticks\":\"\",\"title\":{\"standoff\":15},\"zerolinecolor\":\"white\",\"zerolinewidth\":2},\"yaxis\":{\"automargin\":true,\"gridcolor\":\"white\",\"linecolor\":\"white\",\"ticks\":\"\",\"title\":{\"standoff\":15},\"zerolinecolor\":\"white\",\"zerolinewidth\":2}}},\"title\":{\"font\":{\"color\":\"#4D5663\"}},\"xaxis\":{\"gridcolor\":\"#E1E5ED\",\"showgrid\":true,\"tickfont\":{\"color\":\"#4D5663\"},\"title\":{\"font\":{\"color\":\"#4D5663\"},\"text\":\"\"},\"zerolinecolor\":\"#E1E5ED\"},\"yaxis\":{\"gridcolor\":\"#E1E5ED\",\"showgrid\":true,\"tickfont\":{\"color\":\"#4D5663\"},\"title\":{\"font\":{\"color\":\"#4D5663\"},\"text\":\"\"},\"zerolinecolor\":\"#E1E5ED\"}},                        {\"showLink\": true, \"linkText\": \"Export to plot.ly\", \"plotlyServerURL\": \"https://plot.ly\", \"responsive\": true}                    ).then(function(){\n",
       "                            \n",
       "var gd = document.getElementById('3cffad18-94ab-452e-bd24-a0219ab4b329');\n",
       "var x = new MutationObserver(function (mutations, observer) {{\n",
       "        var display = window.getComputedStyle(gd).display;\n",
       "        if (!display || display === 'none') {{\n",
       "            console.log([gd, 'removed!']);\n",
       "            Plotly.purge(gd);\n",
       "            observer.disconnect();\n",
       "        }}\n",
       "}});\n",
       "\n",
       "// Listen for the removal of the full notebook cells\n",
       "var notebookContainer = gd.closest('#notebook-container');\n",
       "if (notebookContainer) {{\n",
       "    x.observe(notebookContainer, {childList: true});\n",
       "}}\n",
       "\n",
       "// Listen for the clearing of the current output cell\n",
       "var outputEl = gd.closest('.output');\n",
       "if (outputEl) {{\n",
       "    x.observe(outputEl, {childList: true});\n",
       "}}\n",
       "\n",
       "                        })                };                });            </script>        </div>"
      ]
     },
     "metadata": {},
     "output_type": "display_data"
    }
   ],
   "source": [
    "df.iplot(kind='box')"
   ]
  },
  {
   "cell_type": "markdown",
   "metadata": {},
   "source": [
    "## 3d Surface"
   ]
  },
  {
   "cell_type": "code",
   "execution_count": 23,
   "metadata": {
    "ExecuteTime": {
     "end_time": "2019-05-06T16:55:39.143108Z",
     "start_time": "2019-05-06T16:55:39.138116Z"
    }
   },
   "outputs": [],
   "source": [
    "df3 = pd.DataFrame({'x':[1,2,3,4,5],'y':[10,20,30,20,10],'z':[500,400,300,200,100]})"
   ]
  },
  {
   "cell_type": "code",
   "execution_count": 24,
   "metadata": {
    "ExecuteTime": {
     "end_time": "2019-05-06T16:55:39.199005Z",
     "start_time": "2019-05-06T16:55:39.191973Z"
    }
   },
   "outputs": [
    {
     "data": {
      "text/html": [
       "<div>\n",
       "<style scoped>\n",
       "    .dataframe tbody tr th:only-of-type {\n",
       "        vertical-align: middle;\n",
       "    }\n",
       "\n",
       "    .dataframe tbody tr th {\n",
       "        vertical-align: top;\n",
       "    }\n",
       "\n",
       "    .dataframe thead th {\n",
       "        text-align: right;\n",
       "    }\n",
       "</style>\n",
       "<table border=\"1\" class=\"dataframe\">\n",
       "  <thead>\n",
       "    <tr style=\"text-align: right;\">\n",
       "      <th></th>\n",
       "      <th>x</th>\n",
       "      <th>y</th>\n",
       "      <th>z</th>\n",
       "    </tr>\n",
       "  </thead>\n",
       "  <tbody>\n",
       "    <tr>\n",
       "      <th>0</th>\n",
       "      <td>1</td>\n",
       "      <td>10</td>\n",
       "      <td>500</td>\n",
       "    </tr>\n",
       "    <tr>\n",
       "      <th>1</th>\n",
       "      <td>2</td>\n",
       "      <td>20</td>\n",
       "      <td>400</td>\n",
       "    </tr>\n",
       "    <tr>\n",
       "      <th>2</th>\n",
       "      <td>3</td>\n",
       "      <td>30</td>\n",
       "      <td>300</td>\n",
       "    </tr>\n",
       "    <tr>\n",
       "      <th>3</th>\n",
       "      <td>4</td>\n",
       "      <td>20</td>\n",
       "      <td>200</td>\n",
       "    </tr>\n",
       "    <tr>\n",
       "      <th>4</th>\n",
       "      <td>5</td>\n",
       "      <td>10</td>\n",
       "      <td>100</td>\n",
       "    </tr>\n",
       "  </tbody>\n",
       "</table>\n",
       "</div>"
      ],
      "text/plain": [
       "   x   y    z\n",
       "0  1  10  500\n",
       "1  2  20  400\n",
       "2  3  30  300\n",
       "3  4  20  200\n",
       "4  5  10  100"
      ]
     },
     "execution_count": 24,
     "metadata": {},
     "output_type": "execute_result"
    }
   ],
   "source": [
    "df3"
   ]
  },
  {
   "cell_type": "code",
   "execution_count": 27,
   "metadata": {
    "ExecuteTime": {
     "end_time": "2019-05-06T16:55:39.406436Z",
     "start_time": "2019-05-06T16:55:39.199950Z"
    }
   },
   "outputs": [
    {
     "data": {
      "application/vnd.plotly.v1+json": {
       "config": {
        "linkText": "Export to plot.ly",
        "plotlyServerURL": "https://plot.ly",
        "showLink": true
       },
       "data": [
        {
         "colorscale": [
          [
           0,
           "rgb(165,0,38)"
          ],
          [
           0.1,
           "rgb(215,48,39)"
          ],
          [
           0.2,
           "rgb(244,109,67)"
          ],
          [
           0.3,
           "rgb(253,174,97)"
          ],
          [
           0.4,
           "rgb(254,224,144)"
          ],
          [
           0.5,
           "rgb(255,255,191)"
          ],
          [
           0.6,
           "rgb(224,243,248)"
          ],
          [
           0.7,
           "rgb(171,217,233)"
          ],
          [
           0.8,
           "rgb(116,173,209)"
          ],
          [
           0.9,
           "rgb(69,117,180)"
          ],
          [
           1,
           "rgb(49,54,149)"
          ]
         ],
         "type": "surface",
         "x": [
          0,
          1,
          2,
          3,
          4
         ],
         "y": [
          "x",
          "y",
          "z"
         ],
         "z": [
          [
           1,
           2,
           3,
           4,
           5
          ],
          [
           10,
           20,
           30,
           20,
           10
          ],
          [
           500,
           400,
           300,
           200,
           100
          ]
         ]
        }
       ],
       "layout": {
        "legend": {
         "bgcolor": "#F5F6F9",
         "font": {
          "color": "#4D5663"
         }
        },
        "paper_bgcolor": "#F5F6F9",
        "plot_bgcolor": "#F5F6F9",
        "template": {
         "data": {
          "bar": [
           {
            "error_x": {
             "color": "#2a3f5f"
            },
            "error_y": {
             "color": "#2a3f5f"
            },
            "marker": {
             "line": {
              "color": "#E5ECF6",
              "width": 0.5
             },
             "pattern": {
              "fillmode": "overlay",
              "size": 10,
              "solidity": 0.2
             }
            },
            "type": "bar"
           }
          ],
          "barpolar": [
           {
            "marker": {
             "line": {
              "color": "#E5ECF6",
              "width": 0.5
             },
             "pattern": {
              "fillmode": "overlay",
              "size": 10,
              "solidity": 0.2
             }
            },
            "type": "barpolar"
           }
          ],
          "carpet": [
           {
            "aaxis": {
             "endlinecolor": "#2a3f5f",
             "gridcolor": "white",
             "linecolor": "white",
             "minorgridcolor": "white",
             "startlinecolor": "#2a3f5f"
            },
            "baxis": {
             "endlinecolor": "#2a3f5f",
             "gridcolor": "white",
             "linecolor": "white",
             "minorgridcolor": "white",
             "startlinecolor": "#2a3f5f"
            },
            "type": "carpet"
           }
          ],
          "choropleth": [
           {
            "colorbar": {
             "outlinewidth": 0,
             "ticks": ""
            },
            "type": "choropleth"
           }
          ],
          "contour": [
           {
            "colorbar": {
             "outlinewidth": 0,
             "ticks": ""
            },
            "colorscale": [
             [
              0,
              "#0d0887"
             ],
             [
              0.1111111111111111,
              "#46039f"
             ],
             [
              0.2222222222222222,
              "#7201a8"
             ],
             [
              0.3333333333333333,
              "#9c179e"
             ],
             [
              0.4444444444444444,
              "#bd3786"
             ],
             [
              0.5555555555555556,
              "#d8576b"
             ],
             [
              0.6666666666666666,
              "#ed7953"
             ],
             [
              0.7777777777777778,
              "#fb9f3a"
             ],
             [
              0.8888888888888888,
              "#fdca26"
             ],
             [
              1,
              "#f0f921"
             ]
            ],
            "type": "contour"
           }
          ],
          "contourcarpet": [
           {
            "colorbar": {
             "outlinewidth": 0,
             "ticks": ""
            },
            "type": "contourcarpet"
           }
          ],
          "heatmap": [
           {
            "colorbar": {
             "outlinewidth": 0,
             "ticks": ""
            },
            "colorscale": [
             [
              0,
              "#0d0887"
             ],
             [
              0.1111111111111111,
              "#46039f"
             ],
             [
              0.2222222222222222,
              "#7201a8"
             ],
             [
              0.3333333333333333,
              "#9c179e"
             ],
             [
              0.4444444444444444,
              "#bd3786"
             ],
             [
              0.5555555555555556,
              "#d8576b"
             ],
             [
              0.6666666666666666,
              "#ed7953"
             ],
             [
              0.7777777777777778,
              "#fb9f3a"
             ],
             [
              0.8888888888888888,
              "#fdca26"
             ],
             [
              1,
              "#f0f921"
             ]
            ],
            "type": "heatmap"
           }
          ],
          "heatmapgl": [
           {
            "colorbar": {
             "outlinewidth": 0,
             "ticks": ""
            },
            "colorscale": [
             [
              0,
              "#0d0887"
             ],
             [
              0.1111111111111111,
              "#46039f"
             ],
             [
              0.2222222222222222,
              "#7201a8"
             ],
             [
              0.3333333333333333,
              "#9c179e"
             ],
             [
              0.4444444444444444,
              "#bd3786"
             ],
             [
              0.5555555555555556,
              "#d8576b"
             ],
             [
              0.6666666666666666,
              "#ed7953"
             ],
             [
              0.7777777777777778,
              "#fb9f3a"
             ],
             [
              0.8888888888888888,
              "#fdca26"
             ],
             [
              1,
              "#f0f921"
             ]
            ],
            "type": "heatmapgl"
           }
          ],
          "histogram": [
           {
            "marker": {
             "pattern": {
              "fillmode": "overlay",
              "size": 10,
              "solidity": 0.2
             }
            },
            "type": "histogram"
           }
          ],
          "histogram2d": [
           {
            "colorbar": {
             "outlinewidth": 0,
             "ticks": ""
            },
            "colorscale": [
             [
              0,
              "#0d0887"
             ],
             [
              0.1111111111111111,
              "#46039f"
             ],
             [
              0.2222222222222222,
              "#7201a8"
             ],
             [
              0.3333333333333333,
              "#9c179e"
             ],
             [
              0.4444444444444444,
              "#bd3786"
             ],
             [
              0.5555555555555556,
              "#d8576b"
             ],
             [
              0.6666666666666666,
              "#ed7953"
             ],
             [
              0.7777777777777778,
              "#fb9f3a"
             ],
             [
              0.8888888888888888,
              "#fdca26"
             ],
             [
              1,
              "#f0f921"
             ]
            ],
            "type": "histogram2d"
           }
          ],
          "histogram2dcontour": [
           {
            "colorbar": {
             "outlinewidth": 0,
             "ticks": ""
            },
            "colorscale": [
             [
              0,
              "#0d0887"
             ],
             [
              0.1111111111111111,
              "#46039f"
             ],
             [
              0.2222222222222222,
              "#7201a8"
             ],
             [
              0.3333333333333333,
              "#9c179e"
             ],
             [
              0.4444444444444444,
              "#bd3786"
             ],
             [
              0.5555555555555556,
              "#d8576b"
             ],
             [
              0.6666666666666666,
              "#ed7953"
             ],
             [
              0.7777777777777778,
              "#fb9f3a"
             ],
             [
              0.8888888888888888,
              "#fdca26"
             ],
             [
              1,
              "#f0f921"
             ]
            ],
            "type": "histogram2dcontour"
           }
          ],
          "mesh3d": [
           {
            "colorbar": {
             "outlinewidth": 0,
             "ticks": ""
            },
            "type": "mesh3d"
           }
          ],
          "parcoords": [
           {
            "line": {
             "colorbar": {
              "outlinewidth": 0,
              "ticks": ""
             }
            },
            "type": "parcoords"
           }
          ],
          "pie": [
           {
            "automargin": true,
            "type": "pie"
           }
          ],
          "scatter": [
           {
            "marker": {
             "colorbar": {
              "outlinewidth": 0,
              "ticks": ""
             }
            },
            "type": "scatter"
           }
          ],
          "scatter3d": [
           {
            "line": {
             "colorbar": {
              "outlinewidth": 0,
              "ticks": ""
             }
            },
            "marker": {
             "colorbar": {
              "outlinewidth": 0,
              "ticks": ""
             }
            },
            "type": "scatter3d"
           }
          ],
          "scattercarpet": [
           {
            "marker": {
             "colorbar": {
              "outlinewidth": 0,
              "ticks": ""
             }
            },
            "type": "scattercarpet"
           }
          ],
          "scattergeo": [
           {
            "marker": {
             "colorbar": {
              "outlinewidth": 0,
              "ticks": ""
             }
            },
            "type": "scattergeo"
           }
          ],
          "scattergl": [
           {
            "marker": {
             "colorbar": {
              "outlinewidth": 0,
              "ticks": ""
             }
            },
            "type": "scattergl"
           }
          ],
          "scattermapbox": [
           {
            "marker": {
             "colorbar": {
              "outlinewidth": 0,
              "ticks": ""
             }
            },
            "type": "scattermapbox"
           }
          ],
          "scatterpolar": [
           {
            "marker": {
             "colorbar": {
              "outlinewidth": 0,
              "ticks": ""
             }
            },
            "type": "scatterpolar"
           }
          ],
          "scatterpolargl": [
           {
            "marker": {
             "colorbar": {
              "outlinewidth": 0,
              "ticks": ""
             }
            },
            "type": "scatterpolargl"
           }
          ],
          "scatterternary": [
           {
            "marker": {
             "colorbar": {
              "outlinewidth": 0,
              "ticks": ""
             }
            },
            "type": "scatterternary"
           }
          ],
          "surface": [
           {
            "colorbar": {
             "outlinewidth": 0,
             "ticks": ""
            },
            "colorscale": [
             [
              0,
              "#0d0887"
             ],
             [
              0.1111111111111111,
              "#46039f"
             ],
             [
              0.2222222222222222,
              "#7201a8"
             ],
             [
              0.3333333333333333,
              "#9c179e"
             ],
             [
              0.4444444444444444,
              "#bd3786"
             ],
             [
              0.5555555555555556,
              "#d8576b"
             ],
             [
              0.6666666666666666,
              "#ed7953"
             ],
             [
              0.7777777777777778,
              "#fb9f3a"
             ],
             [
              0.8888888888888888,
              "#fdca26"
             ],
             [
              1,
              "#f0f921"
             ]
            ],
            "type": "surface"
           }
          ],
          "table": [
           {
            "cells": {
             "fill": {
              "color": "#EBF0F8"
             },
             "line": {
              "color": "white"
             }
            },
            "header": {
             "fill": {
              "color": "#C8D4E3"
             },
             "line": {
              "color": "white"
             }
            },
            "type": "table"
           }
          ]
         },
         "layout": {
          "annotationdefaults": {
           "arrowcolor": "#2a3f5f",
           "arrowhead": 0,
           "arrowwidth": 1
          },
          "autotypenumbers": "strict",
          "coloraxis": {
           "colorbar": {
            "outlinewidth": 0,
            "ticks": ""
           }
          },
          "colorscale": {
           "diverging": [
            [
             0,
             "#8e0152"
            ],
            [
             0.1,
             "#c51b7d"
            ],
            [
             0.2,
             "#de77ae"
            ],
            [
             0.3,
             "#f1b6da"
            ],
            [
             0.4,
             "#fde0ef"
            ],
            [
             0.5,
             "#f7f7f7"
            ],
            [
             0.6,
             "#e6f5d0"
            ],
            [
             0.7,
             "#b8e186"
            ],
            [
             0.8,
             "#7fbc41"
            ],
            [
             0.9,
             "#4d9221"
            ],
            [
             1,
             "#276419"
            ]
           ],
           "sequential": [
            [
             0,
             "#0d0887"
            ],
            [
             0.1111111111111111,
             "#46039f"
            ],
            [
             0.2222222222222222,
             "#7201a8"
            ],
            [
             0.3333333333333333,
             "#9c179e"
            ],
            [
             0.4444444444444444,
             "#bd3786"
            ],
            [
             0.5555555555555556,
             "#d8576b"
            ],
            [
             0.6666666666666666,
             "#ed7953"
            ],
            [
             0.7777777777777778,
             "#fb9f3a"
            ],
            [
             0.8888888888888888,
             "#fdca26"
            ],
            [
             1,
             "#f0f921"
            ]
           ],
           "sequentialminus": [
            [
             0,
             "#0d0887"
            ],
            [
             0.1111111111111111,
             "#46039f"
            ],
            [
             0.2222222222222222,
             "#7201a8"
            ],
            [
             0.3333333333333333,
             "#9c179e"
            ],
            [
             0.4444444444444444,
             "#bd3786"
            ],
            [
             0.5555555555555556,
             "#d8576b"
            ],
            [
             0.6666666666666666,
             "#ed7953"
            ],
            [
             0.7777777777777778,
             "#fb9f3a"
            ],
            [
             0.8888888888888888,
             "#fdca26"
            ],
            [
             1,
             "#f0f921"
            ]
           ]
          },
          "colorway": [
           "#636efa",
           "#EF553B",
           "#00cc96",
           "#ab63fa",
           "#FFA15A",
           "#19d3f3",
           "#FF6692",
           "#B6E880",
           "#FF97FF",
           "#FECB52"
          ],
          "font": {
           "color": "#2a3f5f"
          },
          "geo": {
           "bgcolor": "white",
           "lakecolor": "white",
           "landcolor": "#E5ECF6",
           "showlakes": true,
           "showland": true,
           "subunitcolor": "white"
          },
          "hoverlabel": {
           "align": "left"
          },
          "hovermode": "closest",
          "mapbox": {
           "style": "light"
          },
          "paper_bgcolor": "white",
          "plot_bgcolor": "#E5ECF6",
          "polar": {
           "angularaxis": {
            "gridcolor": "white",
            "linecolor": "white",
            "ticks": ""
           },
           "bgcolor": "#E5ECF6",
           "radialaxis": {
            "gridcolor": "white",
            "linecolor": "white",
            "ticks": ""
           }
          },
          "scene": {
           "xaxis": {
            "backgroundcolor": "#E5ECF6",
            "gridcolor": "white",
            "gridwidth": 2,
            "linecolor": "white",
            "showbackground": true,
            "ticks": "",
            "zerolinecolor": "white"
           },
           "yaxis": {
            "backgroundcolor": "#E5ECF6",
            "gridcolor": "white",
            "gridwidth": 2,
            "linecolor": "white",
            "showbackground": true,
            "ticks": "",
            "zerolinecolor": "white"
           },
           "zaxis": {
            "backgroundcolor": "#E5ECF6",
            "gridcolor": "white",
            "gridwidth": 2,
            "linecolor": "white",
            "showbackground": true,
            "ticks": "",
            "zerolinecolor": "white"
           }
          },
          "shapedefaults": {
           "line": {
            "color": "#2a3f5f"
           }
          },
          "ternary": {
           "aaxis": {
            "gridcolor": "white",
            "linecolor": "white",
            "ticks": ""
           },
           "baxis": {
            "gridcolor": "white",
            "linecolor": "white",
            "ticks": ""
           },
           "bgcolor": "#E5ECF6",
           "caxis": {
            "gridcolor": "white",
            "linecolor": "white",
            "ticks": ""
           }
          },
          "title": {
           "x": 0.05
          },
          "xaxis": {
           "automargin": true,
           "gridcolor": "white",
           "linecolor": "white",
           "ticks": "",
           "title": {
            "standoff": 15
           },
           "zerolinecolor": "white",
           "zerolinewidth": 2
          },
          "yaxis": {
           "automargin": true,
           "gridcolor": "white",
           "linecolor": "white",
           "ticks": "",
           "title": {
            "standoff": 15
           },
           "zerolinecolor": "white",
           "zerolinewidth": 2
          }
         }
        },
        "title": {
         "font": {
          "color": "#4D5663"
         }
        },
        "xaxis": {
         "gridcolor": "#E1E5ED",
         "showgrid": true,
         "tickfont": {
          "color": "#4D5663"
         },
         "title": {
          "font": {
           "color": "#4D5663"
          },
          "text": ""
         },
         "zerolinecolor": "#E1E5ED"
        },
        "yaxis": {
         "gridcolor": "#E1E5ED",
         "showgrid": true,
         "tickfont": {
          "color": "#4D5663"
         },
         "title": {
          "font": {
           "color": "#4D5663"
          },
          "text": ""
         },
         "zerolinecolor": "#E1E5ED"
        }
       }
      },
      "text/html": [
       "<div>                            <div id=\"54eb855c-52af-48f4-aa7b-03fdc626c997\" class=\"plotly-graph-div\" style=\"height:525px; width:100%;\"></div>            <script type=\"text/javascript\">                require([\"plotly\"], function(Plotly) {                    window.PLOTLYENV=window.PLOTLYENV || {};\n",
       "                    window.PLOTLYENV.BASE_URL='https://plot.ly';                                    if (document.getElementById(\"54eb855c-52af-48f4-aa7b-03fdc626c997\")) {                    Plotly.newPlot(                        \"54eb855c-52af-48f4-aa7b-03fdc626c997\",                        [{\"colorscale\":[[0.0,\"rgb(165,0,38)\"],[0.1,\"rgb(215,48,39)\"],[0.2,\"rgb(244,109,67)\"],[0.3,\"rgb(253,174,97)\"],[0.4,\"rgb(254,224,144)\"],[0.5,\"rgb(255,255,191)\"],[0.6,\"rgb(224,243,248)\"],[0.7,\"rgb(171,217,233)\"],[0.8,\"rgb(116,173,209)\"],[0.9,\"rgb(69,117,180)\"],[1.0,\"rgb(49,54,149)\"]],\"x\":[0,1,2,3,4],\"y\":[\"x\",\"y\",\"z\"],\"z\":[[1,2,3,4,5],[10,20,30,20,10],[500,400,300,200,100]],\"type\":\"surface\"}],                        {\"legend\":{\"bgcolor\":\"#F5F6F9\",\"font\":{\"color\":\"#4D5663\"}},\"paper_bgcolor\":\"#F5F6F9\",\"plot_bgcolor\":\"#F5F6F9\",\"template\":{\"data\":{\"barpolar\":[{\"marker\":{\"line\":{\"color\":\"#E5ECF6\",\"width\":0.5},\"pattern\":{\"fillmode\":\"overlay\",\"size\":10,\"solidity\":0.2}},\"type\":\"barpolar\"}],\"bar\":[{\"error_x\":{\"color\":\"#2a3f5f\"},\"error_y\":{\"color\":\"#2a3f5f\"},\"marker\":{\"line\":{\"color\":\"#E5ECF6\",\"width\":0.5},\"pattern\":{\"fillmode\":\"overlay\",\"size\":10,\"solidity\":0.2}},\"type\":\"bar\"}],\"carpet\":[{\"aaxis\":{\"endlinecolor\":\"#2a3f5f\",\"gridcolor\":\"white\",\"linecolor\":\"white\",\"minorgridcolor\":\"white\",\"startlinecolor\":\"#2a3f5f\"},\"baxis\":{\"endlinecolor\":\"#2a3f5f\",\"gridcolor\":\"white\",\"linecolor\":\"white\",\"minorgridcolor\":\"white\",\"startlinecolor\":\"#2a3f5f\"},\"type\":\"carpet\"}],\"choropleth\":[{\"colorbar\":{\"outlinewidth\":0,\"ticks\":\"\"},\"type\":\"choropleth\"}],\"contourcarpet\":[{\"colorbar\":{\"outlinewidth\":0,\"ticks\":\"\"},\"type\":\"contourcarpet\"}],\"contour\":[{\"colorbar\":{\"outlinewidth\":0,\"ticks\":\"\"},\"colorscale\":[[0.0,\"#0d0887\"],[0.1111111111111111,\"#46039f\"],[0.2222222222222222,\"#7201a8\"],[0.3333333333333333,\"#9c179e\"],[0.4444444444444444,\"#bd3786\"],[0.5555555555555556,\"#d8576b\"],[0.6666666666666666,\"#ed7953\"],[0.7777777777777778,\"#fb9f3a\"],[0.8888888888888888,\"#fdca26\"],[1.0,\"#f0f921\"]],\"type\":\"contour\"}],\"heatmapgl\":[{\"colorbar\":{\"outlinewidth\":0,\"ticks\":\"\"},\"colorscale\":[[0.0,\"#0d0887\"],[0.1111111111111111,\"#46039f\"],[0.2222222222222222,\"#7201a8\"],[0.3333333333333333,\"#9c179e\"],[0.4444444444444444,\"#bd3786\"],[0.5555555555555556,\"#d8576b\"],[0.6666666666666666,\"#ed7953\"],[0.7777777777777778,\"#fb9f3a\"],[0.8888888888888888,\"#fdca26\"],[1.0,\"#f0f921\"]],\"type\":\"heatmapgl\"}],\"heatmap\":[{\"colorbar\":{\"outlinewidth\":0,\"ticks\":\"\"},\"colorscale\":[[0.0,\"#0d0887\"],[0.1111111111111111,\"#46039f\"],[0.2222222222222222,\"#7201a8\"],[0.3333333333333333,\"#9c179e\"],[0.4444444444444444,\"#bd3786\"],[0.5555555555555556,\"#d8576b\"],[0.6666666666666666,\"#ed7953\"],[0.7777777777777778,\"#fb9f3a\"],[0.8888888888888888,\"#fdca26\"],[1.0,\"#f0f921\"]],\"type\":\"heatmap\"}],\"histogram2dcontour\":[{\"colorbar\":{\"outlinewidth\":0,\"ticks\":\"\"},\"colorscale\":[[0.0,\"#0d0887\"],[0.1111111111111111,\"#46039f\"],[0.2222222222222222,\"#7201a8\"],[0.3333333333333333,\"#9c179e\"],[0.4444444444444444,\"#bd3786\"],[0.5555555555555556,\"#d8576b\"],[0.6666666666666666,\"#ed7953\"],[0.7777777777777778,\"#fb9f3a\"],[0.8888888888888888,\"#fdca26\"],[1.0,\"#f0f921\"]],\"type\":\"histogram2dcontour\"}],\"histogram2d\":[{\"colorbar\":{\"outlinewidth\":0,\"ticks\":\"\"},\"colorscale\":[[0.0,\"#0d0887\"],[0.1111111111111111,\"#46039f\"],[0.2222222222222222,\"#7201a8\"],[0.3333333333333333,\"#9c179e\"],[0.4444444444444444,\"#bd3786\"],[0.5555555555555556,\"#d8576b\"],[0.6666666666666666,\"#ed7953\"],[0.7777777777777778,\"#fb9f3a\"],[0.8888888888888888,\"#fdca26\"],[1.0,\"#f0f921\"]],\"type\":\"histogram2d\"}],\"histogram\":[{\"marker\":{\"pattern\":{\"fillmode\":\"overlay\",\"size\":10,\"solidity\":0.2}},\"type\":\"histogram\"}],\"mesh3d\":[{\"colorbar\":{\"outlinewidth\":0,\"ticks\":\"\"},\"type\":\"mesh3d\"}],\"parcoords\":[{\"line\":{\"colorbar\":{\"outlinewidth\":0,\"ticks\":\"\"}},\"type\":\"parcoords\"}],\"pie\":[{\"automargin\":true,\"type\":\"pie\"}],\"scatter3d\":[{\"line\":{\"colorbar\":{\"outlinewidth\":0,\"ticks\":\"\"}},\"marker\":{\"colorbar\":{\"outlinewidth\":0,\"ticks\":\"\"}},\"type\":\"scatter3d\"}],\"scattercarpet\":[{\"marker\":{\"colorbar\":{\"outlinewidth\":0,\"ticks\":\"\"}},\"type\":\"scattercarpet\"}],\"scattergeo\":[{\"marker\":{\"colorbar\":{\"outlinewidth\":0,\"ticks\":\"\"}},\"type\":\"scattergeo\"}],\"scattergl\":[{\"marker\":{\"colorbar\":{\"outlinewidth\":0,\"ticks\":\"\"}},\"type\":\"scattergl\"}],\"scattermapbox\":[{\"marker\":{\"colorbar\":{\"outlinewidth\":0,\"ticks\":\"\"}},\"type\":\"scattermapbox\"}],\"scatterpolargl\":[{\"marker\":{\"colorbar\":{\"outlinewidth\":0,\"ticks\":\"\"}},\"type\":\"scatterpolargl\"}],\"scatterpolar\":[{\"marker\":{\"colorbar\":{\"outlinewidth\":0,\"ticks\":\"\"}},\"type\":\"scatterpolar\"}],\"scatter\":[{\"marker\":{\"colorbar\":{\"outlinewidth\":0,\"ticks\":\"\"}},\"type\":\"scatter\"}],\"scatterternary\":[{\"marker\":{\"colorbar\":{\"outlinewidth\":0,\"ticks\":\"\"}},\"type\":\"scatterternary\"}],\"surface\":[{\"colorbar\":{\"outlinewidth\":0,\"ticks\":\"\"},\"colorscale\":[[0.0,\"#0d0887\"],[0.1111111111111111,\"#46039f\"],[0.2222222222222222,\"#7201a8\"],[0.3333333333333333,\"#9c179e\"],[0.4444444444444444,\"#bd3786\"],[0.5555555555555556,\"#d8576b\"],[0.6666666666666666,\"#ed7953\"],[0.7777777777777778,\"#fb9f3a\"],[0.8888888888888888,\"#fdca26\"],[1.0,\"#f0f921\"]],\"type\":\"surface\"}],\"table\":[{\"cells\":{\"fill\":{\"color\":\"#EBF0F8\"},\"line\":{\"color\":\"white\"}},\"header\":{\"fill\":{\"color\":\"#C8D4E3\"},\"line\":{\"color\":\"white\"}},\"type\":\"table\"}]},\"layout\":{\"annotationdefaults\":{\"arrowcolor\":\"#2a3f5f\",\"arrowhead\":0,\"arrowwidth\":1},\"autotypenumbers\":\"strict\",\"coloraxis\":{\"colorbar\":{\"outlinewidth\":0,\"ticks\":\"\"}},\"colorscale\":{\"diverging\":[[0,\"#8e0152\"],[0.1,\"#c51b7d\"],[0.2,\"#de77ae\"],[0.3,\"#f1b6da\"],[0.4,\"#fde0ef\"],[0.5,\"#f7f7f7\"],[0.6,\"#e6f5d0\"],[0.7,\"#b8e186\"],[0.8,\"#7fbc41\"],[0.9,\"#4d9221\"],[1,\"#276419\"]],\"sequential\":[[0.0,\"#0d0887\"],[0.1111111111111111,\"#46039f\"],[0.2222222222222222,\"#7201a8\"],[0.3333333333333333,\"#9c179e\"],[0.4444444444444444,\"#bd3786\"],[0.5555555555555556,\"#d8576b\"],[0.6666666666666666,\"#ed7953\"],[0.7777777777777778,\"#fb9f3a\"],[0.8888888888888888,\"#fdca26\"],[1.0,\"#f0f921\"]],\"sequentialminus\":[[0.0,\"#0d0887\"],[0.1111111111111111,\"#46039f\"],[0.2222222222222222,\"#7201a8\"],[0.3333333333333333,\"#9c179e\"],[0.4444444444444444,\"#bd3786\"],[0.5555555555555556,\"#d8576b\"],[0.6666666666666666,\"#ed7953\"],[0.7777777777777778,\"#fb9f3a\"],[0.8888888888888888,\"#fdca26\"],[1.0,\"#f0f921\"]]},\"colorway\":[\"#636efa\",\"#EF553B\",\"#00cc96\",\"#ab63fa\",\"#FFA15A\",\"#19d3f3\",\"#FF6692\",\"#B6E880\",\"#FF97FF\",\"#FECB52\"],\"font\":{\"color\":\"#2a3f5f\"},\"geo\":{\"bgcolor\":\"white\",\"lakecolor\":\"white\",\"landcolor\":\"#E5ECF6\",\"showlakes\":true,\"showland\":true,\"subunitcolor\":\"white\"},\"hoverlabel\":{\"align\":\"left\"},\"hovermode\":\"closest\",\"mapbox\":{\"style\":\"light\"},\"paper_bgcolor\":\"white\",\"plot_bgcolor\":\"#E5ECF6\",\"polar\":{\"angularaxis\":{\"gridcolor\":\"white\",\"linecolor\":\"white\",\"ticks\":\"\"},\"bgcolor\":\"#E5ECF6\",\"radialaxis\":{\"gridcolor\":\"white\",\"linecolor\":\"white\",\"ticks\":\"\"}},\"scene\":{\"xaxis\":{\"backgroundcolor\":\"#E5ECF6\",\"gridcolor\":\"white\",\"gridwidth\":2,\"linecolor\":\"white\",\"showbackground\":true,\"ticks\":\"\",\"zerolinecolor\":\"white\"},\"yaxis\":{\"backgroundcolor\":\"#E5ECF6\",\"gridcolor\":\"white\",\"gridwidth\":2,\"linecolor\":\"white\",\"showbackground\":true,\"ticks\":\"\",\"zerolinecolor\":\"white\"},\"zaxis\":{\"backgroundcolor\":\"#E5ECF6\",\"gridcolor\":\"white\",\"gridwidth\":2,\"linecolor\":\"white\",\"showbackground\":true,\"ticks\":\"\",\"zerolinecolor\":\"white\"}},\"shapedefaults\":{\"line\":{\"color\":\"#2a3f5f\"}},\"ternary\":{\"aaxis\":{\"gridcolor\":\"white\",\"linecolor\":\"white\",\"ticks\":\"\"},\"baxis\":{\"gridcolor\":\"white\",\"linecolor\":\"white\",\"ticks\":\"\"},\"bgcolor\":\"#E5ECF6\",\"caxis\":{\"gridcolor\":\"white\",\"linecolor\":\"white\",\"ticks\":\"\"}},\"title\":{\"x\":0.05},\"xaxis\":{\"automargin\":true,\"gridcolor\":\"white\",\"linecolor\":\"white\",\"ticks\":\"\",\"title\":{\"standoff\":15},\"zerolinecolor\":\"white\",\"zerolinewidth\":2},\"yaxis\":{\"automargin\":true,\"gridcolor\":\"white\",\"linecolor\":\"white\",\"ticks\":\"\",\"title\":{\"standoff\":15},\"zerolinecolor\":\"white\",\"zerolinewidth\":2}}},\"title\":{\"font\":{\"color\":\"#4D5663\"}},\"xaxis\":{\"gridcolor\":\"#E1E5ED\",\"showgrid\":true,\"tickfont\":{\"color\":\"#4D5663\"},\"title\":{\"font\":{\"color\":\"#4D5663\"},\"text\":\"\"},\"zerolinecolor\":\"#E1E5ED\"},\"yaxis\":{\"gridcolor\":\"#E1E5ED\",\"showgrid\":true,\"tickfont\":{\"color\":\"#4D5663\"},\"title\":{\"font\":{\"color\":\"#4D5663\"},\"text\":\"\"},\"zerolinecolor\":\"#E1E5ED\"}},                        {\"showLink\": true, \"linkText\": \"Export to plot.ly\", \"plotlyServerURL\": \"https://plot.ly\", \"responsive\": true}                    ).then(function(){\n",
       "                            \n",
       "var gd = document.getElementById('54eb855c-52af-48f4-aa7b-03fdc626c997');\n",
       "var x = new MutationObserver(function (mutations, observer) {{\n",
       "        var display = window.getComputedStyle(gd).display;\n",
       "        if (!display || display === 'none') {{\n",
       "            console.log([gd, 'removed!']);\n",
       "            Plotly.purge(gd);\n",
       "            observer.disconnect();\n",
       "        }}\n",
       "}});\n",
       "\n",
       "// Listen for the removal of the full notebook cells\n",
       "var notebookContainer = gd.closest('#notebook-container');\n",
       "if (notebookContainer) {{\n",
       "    x.observe(notebookContainer, {childList: true});\n",
       "}}\n",
       "\n",
       "// Listen for the clearing of the current output cell\n",
       "var outputEl = gd.closest('.output');\n",
       "if (outputEl) {{\n",
       "    x.observe(outputEl, {childList: true});\n",
       "}}\n",
       "\n",
       "                        })                };                });            </script>        </div>"
      ]
     },
     "metadata": {},
     "output_type": "display_data"
    }
   ],
   "source": [
    "df3.iplot(kind='surface',colorscale='rdylbu')"
   ]
  },
  {
   "cell_type": "markdown",
   "metadata": {},
   "source": [
    "## Histogram"
   ]
  },
  {
   "cell_type": "code",
   "execution_count": 35,
   "metadata": {
    "ExecuteTime": {
     "end_time": "2019-05-06T16:55:41.417007Z",
     "start_time": "2019-05-06T16:55:41.199540Z"
    }
   },
   "outputs": [
    {
     "data": {
      "application/vnd.plotly.v1+json": {
       "config": {
        "linkText": "Export to plot.ly",
        "plotlyServerURL": "https://plot.ly",
        "showLink": true
       },
       "data": [
        {
         "histfunc": "count",
         "histnorm": "",
         "marker": {
          "color": "rgba(0, 128, 240, 1.0)",
          "line": {
           "color": "#505050",
           "width": 1.3
          }
         },
         "name": "A",
         "nbinsx": 50,
         "opacity": 0.8,
         "orientation": "v",
         "type": "histogram",
         "x": [
          3.3625825147031634,
          -0.6885621495157169,
          0.5149951992086972,
          -0.4976600607971672,
          1.3129178129369143,
          1.259037760305938,
          -0.8205591484786454,
          -0.2888956899883146,
          -0.09602816876888236,
          -0.9613950050487399,
          0.19756992435357082,
          -2.010039225046455,
          -0.7479232977395808,
          1.947999686378811,
          -1.300068284850122,
          0.8562782186572203,
          -0.8554492701360895,
          -0.4206993361270417,
          0.17322463597602866,
          -0.47160211461434376,
          0.565677357194077,
          -0.6594632474857488,
          1.7551221205900165,
          0.7357358194208311,
          -1.1591709602449005,
          -0.05419091582379508,
          -0.36257185525324137,
          1.4349669783777106,
          -0.5661528981377684,
          -0.407032366454418,
          0.22755126025017564,
          0.8257857482311864,
          0.27076051378642957,
          -0.46987215853669007,
          -0.6260892978035598,
          -0.14422154840098403,
          0.06729047029481175,
          -0.7538901577971123,
          -0.16372387540641004,
          -1.5306935620588862,
          1.7378715409320646,
          1.8728785308476077,
          -0.22596064971310095,
          0.19265357626344148,
          1.3095974819986245,
          -0.8467226757105627,
          -0.47588441755457705,
          0.8436192849298026,
          -1.0696497054771597,
          -0.29246972729030885,
          -0.5072696949324063,
          -1.804060391633852,
          0.41463973873286825,
          -0.06065342496772562,
          -1.2132110689335833,
          -0.1869364025887339,
          0.7239663414003534,
          -0.03198459252341648,
          0.9917197143234533,
          0.4124466650325076,
          -0.6198057419680839,
          -0.27086068891135073,
          -1.6085151157707147,
          -0.5886897832373408,
          -2.03889655784642,
          -0.08269100136583725,
          -0.2998182776646363,
          0.7537301596831394,
          -0.5572938977691413,
          0.2816574459013314,
          0.12511549492515286,
          -1.1520414977821023,
          -1.6077418183548926,
          0.12518543876338792,
          -0.17240992239466557,
          -0.29687603356526354,
          -0.538488421711546,
          1.011892155339132,
          0.5242967165890116,
          0.37788940477311916,
          1.3818585203086495,
          1.3322459158616347,
          1.3491805785283302,
          0.260837473417611,
          0.9770174853395498,
          -0.417469144514007,
          0.2532052106744681,
          -1.418974713556114,
          -1.304961959687015,
          -0.7850198786305627,
          -2.637960154783843,
          -0.702041364600879,
          0.2929621979386714,
          -0.31570510433110843,
          -0.2629023198827632,
          0.19022263715975085,
          0.6217882134487541,
          -0.2991271853655061,
          1.0088878670316135,
          -1.6952584120476268
         ]
        }
       ],
       "layout": {
        "barmode": "overlay",
        "legend": {
         "bgcolor": "#F2F3F7",
         "font": {
          "color": "#505050"
         }
        },
        "paper_bgcolor": "#F2F3F7",
        "plot_bgcolor": "#F2F3F7",
        "template": {
         "data": {
          "bar": [
           {
            "error_x": {
             "color": "#2a3f5f"
            },
            "error_y": {
             "color": "#2a3f5f"
            },
            "marker": {
             "line": {
              "color": "#E5ECF6",
              "width": 0.5
             },
             "pattern": {
              "fillmode": "overlay",
              "size": 10,
              "solidity": 0.2
             }
            },
            "type": "bar"
           }
          ],
          "barpolar": [
           {
            "marker": {
             "line": {
              "color": "#E5ECF6",
              "width": 0.5
             },
             "pattern": {
              "fillmode": "overlay",
              "size": 10,
              "solidity": 0.2
             }
            },
            "type": "barpolar"
           }
          ],
          "carpet": [
           {
            "aaxis": {
             "endlinecolor": "#2a3f5f",
             "gridcolor": "white",
             "linecolor": "white",
             "minorgridcolor": "white",
             "startlinecolor": "#2a3f5f"
            },
            "baxis": {
             "endlinecolor": "#2a3f5f",
             "gridcolor": "white",
             "linecolor": "white",
             "minorgridcolor": "white",
             "startlinecolor": "#2a3f5f"
            },
            "type": "carpet"
           }
          ],
          "choropleth": [
           {
            "colorbar": {
             "outlinewidth": 0,
             "ticks": ""
            },
            "type": "choropleth"
           }
          ],
          "contour": [
           {
            "colorbar": {
             "outlinewidth": 0,
             "ticks": ""
            },
            "colorscale": [
             [
              0,
              "#0d0887"
             ],
             [
              0.1111111111111111,
              "#46039f"
             ],
             [
              0.2222222222222222,
              "#7201a8"
             ],
             [
              0.3333333333333333,
              "#9c179e"
             ],
             [
              0.4444444444444444,
              "#bd3786"
             ],
             [
              0.5555555555555556,
              "#d8576b"
             ],
             [
              0.6666666666666666,
              "#ed7953"
             ],
             [
              0.7777777777777778,
              "#fb9f3a"
             ],
             [
              0.8888888888888888,
              "#fdca26"
             ],
             [
              1,
              "#f0f921"
             ]
            ],
            "type": "contour"
           }
          ],
          "contourcarpet": [
           {
            "colorbar": {
             "outlinewidth": 0,
             "ticks": ""
            },
            "type": "contourcarpet"
           }
          ],
          "heatmap": [
           {
            "colorbar": {
             "outlinewidth": 0,
             "ticks": ""
            },
            "colorscale": [
             [
              0,
              "#0d0887"
             ],
             [
              0.1111111111111111,
              "#46039f"
             ],
             [
              0.2222222222222222,
              "#7201a8"
             ],
             [
              0.3333333333333333,
              "#9c179e"
             ],
             [
              0.4444444444444444,
              "#bd3786"
             ],
             [
              0.5555555555555556,
              "#d8576b"
             ],
             [
              0.6666666666666666,
              "#ed7953"
             ],
             [
              0.7777777777777778,
              "#fb9f3a"
             ],
             [
              0.8888888888888888,
              "#fdca26"
             ],
             [
              1,
              "#f0f921"
             ]
            ],
            "type": "heatmap"
           }
          ],
          "heatmapgl": [
           {
            "colorbar": {
             "outlinewidth": 0,
             "ticks": ""
            },
            "colorscale": [
             [
              0,
              "#0d0887"
             ],
             [
              0.1111111111111111,
              "#46039f"
             ],
             [
              0.2222222222222222,
              "#7201a8"
             ],
             [
              0.3333333333333333,
              "#9c179e"
             ],
             [
              0.4444444444444444,
              "#bd3786"
             ],
             [
              0.5555555555555556,
              "#d8576b"
             ],
             [
              0.6666666666666666,
              "#ed7953"
             ],
             [
              0.7777777777777778,
              "#fb9f3a"
             ],
             [
              0.8888888888888888,
              "#fdca26"
             ],
             [
              1,
              "#f0f921"
             ]
            ],
            "type": "heatmapgl"
           }
          ],
          "histogram": [
           {
            "marker": {
             "pattern": {
              "fillmode": "overlay",
              "size": 10,
              "solidity": 0.2
             }
            },
            "type": "histogram"
           }
          ],
          "histogram2d": [
           {
            "colorbar": {
             "outlinewidth": 0,
             "ticks": ""
            },
            "colorscale": [
             [
              0,
              "#0d0887"
             ],
             [
              0.1111111111111111,
              "#46039f"
             ],
             [
              0.2222222222222222,
              "#7201a8"
             ],
             [
              0.3333333333333333,
              "#9c179e"
             ],
             [
              0.4444444444444444,
              "#bd3786"
             ],
             [
              0.5555555555555556,
              "#d8576b"
             ],
             [
              0.6666666666666666,
              "#ed7953"
             ],
             [
              0.7777777777777778,
              "#fb9f3a"
             ],
             [
              0.8888888888888888,
              "#fdca26"
             ],
             [
              1,
              "#f0f921"
             ]
            ],
            "type": "histogram2d"
           }
          ],
          "histogram2dcontour": [
           {
            "colorbar": {
             "outlinewidth": 0,
             "ticks": ""
            },
            "colorscale": [
             [
              0,
              "#0d0887"
             ],
             [
              0.1111111111111111,
              "#46039f"
             ],
             [
              0.2222222222222222,
              "#7201a8"
             ],
             [
              0.3333333333333333,
              "#9c179e"
             ],
             [
              0.4444444444444444,
              "#bd3786"
             ],
             [
              0.5555555555555556,
              "#d8576b"
             ],
             [
              0.6666666666666666,
              "#ed7953"
             ],
             [
              0.7777777777777778,
              "#fb9f3a"
             ],
             [
              0.8888888888888888,
              "#fdca26"
             ],
             [
              1,
              "#f0f921"
             ]
            ],
            "type": "histogram2dcontour"
           }
          ],
          "mesh3d": [
           {
            "colorbar": {
             "outlinewidth": 0,
             "ticks": ""
            },
            "type": "mesh3d"
           }
          ],
          "parcoords": [
           {
            "line": {
             "colorbar": {
              "outlinewidth": 0,
              "ticks": ""
             }
            },
            "type": "parcoords"
           }
          ],
          "pie": [
           {
            "automargin": true,
            "type": "pie"
           }
          ],
          "scatter": [
           {
            "marker": {
             "colorbar": {
              "outlinewidth": 0,
              "ticks": ""
             }
            },
            "type": "scatter"
           }
          ],
          "scatter3d": [
           {
            "line": {
             "colorbar": {
              "outlinewidth": 0,
              "ticks": ""
             }
            },
            "marker": {
             "colorbar": {
              "outlinewidth": 0,
              "ticks": ""
             }
            },
            "type": "scatter3d"
           }
          ],
          "scattercarpet": [
           {
            "marker": {
             "colorbar": {
              "outlinewidth": 0,
              "ticks": ""
             }
            },
            "type": "scattercarpet"
           }
          ],
          "scattergeo": [
           {
            "marker": {
             "colorbar": {
              "outlinewidth": 0,
              "ticks": ""
             }
            },
            "type": "scattergeo"
           }
          ],
          "scattergl": [
           {
            "marker": {
             "colorbar": {
              "outlinewidth": 0,
              "ticks": ""
             }
            },
            "type": "scattergl"
           }
          ],
          "scattermapbox": [
           {
            "marker": {
             "colorbar": {
              "outlinewidth": 0,
              "ticks": ""
             }
            },
            "type": "scattermapbox"
           }
          ],
          "scatterpolar": [
           {
            "marker": {
             "colorbar": {
              "outlinewidth": 0,
              "ticks": ""
             }
            },
            "type": "scatterpolar"
           }
          ],
          "scatterpolargl": [
           {
            "marker": {
             "colorbar": {
              "outlinewidth": 0,
              "ticks": ""
             }
            },
            "type": "scatterpolargl"
           }
          ],
          "scatterternary": [
           {
            "marker": {
             "colorbar": {
              "outlinewidth": 0,
              "ticks": ""
             }
            },
            "type": "scatterternary"
           }
          ],
          "surface": [
           {
            "colorbar": {
             "outlinewidth": 0,
             "ticks": ""
            },
            "colorscale": [
             [
              0,
              "#0d0887"
             ],
             [
              0.1111111111111111,
              "#46039f"
             ],
             [
              0.2222222222222222,
              "#7201a8"
             ],
             [
              0.3333333333333333,
              "#9c179e"
             ],
             [
              0.4444444444444444,
              "#bd3786"
             ],
             [
              0.5555555555555556,
              "#d8576b"
             ],
             [
              0.6666666666666666,
              "#ed7953"
             ],
             [
              0.7777777777777778,
              "#fb9f3a"
             ],
             [
              0.8888888888888888,
              "#fdca26"
             ],
             [
              1,
              "#f0f921"
             ]
            ],
            "type": "surface"
           }
          ],
          "table": [
           {
            "cells": {
             "fill": {
              "color": "#EBF0F8"
             },
             "line": {
              "color": "white"
             }
            },
            "header": {
             "fill": {
              "color": "#C8D4E3"
             },
             "line": {
              "color": "white"
             }
            },
            "type": "table"
           }
          ]
         },
         "layout": {
          "annotationdefaults": {
           "arrowcolor": "#2a3f5f",
           "arrowhead": 0,
           "arrowwidth": 1
          },
          "autotypenumbers": "strict",
          "coloraxis": {
           "colorbar": {
            "outlinewidth": 0,
            "ticks": ""
           }
          },
          "colorscale": {
           "diverging": [
            [
             0,
             "#8e0152"
            ],
            [
             0.1,
             "#c51b7d"
            ],
            [
             0.2,
             "#de77ae"
            ],
            [
             0.3,
             "#f1b6da"
            ],
            [
             0.4,
             "#fde0ef"
            ],
            [
             0.5,
             "#f7f7f7"
            ],
            [
             0.6,
             "#e6f5d0"
            ],
            [
             0.7,
             "#b8e186"
            ],
            [
             0.8,
             "#7fbc41"
            ],
            [
             0.9,
             "#4d9221"
            ],
            [
             1,
             "#276419"
            ]
           ],
           "sequential": [
            [
             0,
             "#0d0887"
            ],
            [
             0.1111111111111111,
             "#46039f"
            ],
            [
             0.2222222222222222,
             "#7201a8"
            ],
            [
             0.3333333333333333,
             "#9c179e"
            ],
            [
             0.4444444444444444,
             "#bd3786"
            ],
            [
             0.5555555555555556,
             "#d8576b"
            ],
            [
             0.6666666666666666,
             "#ed7953"
            ],
            [
             0.7777777777777778,
             "#fb9f3a"
            ],
            [
             0.8888888888888888,
             "#fdca26"
            ],
            [
             1,
             "#f0f921"
            ]
           ],
           "sequentialminus": [
            [
             0,
             "#0d0887"
            ],
            [
             0.1111111111111111,
             "#46039f"
            ],
            [
             0.2222222222222222,
             "#7201a8"
            ],
            [
             0.3333333333333333,
             "#9c179e"
            ],
            [
             0.4444444444444444,
             "#bd3786"
            ],
            [
             0.5555555555555556,
             "#d8576b"
            ],
            [
             0.6666666666666666,
             "#ed7953"
            ],
            [
             0.7777777777777778,
             "#fb9f3a"
            ],
            [
             0.8888888888888888,
             "#fdca26"
            ],
            [
             1,
             "#f0f921"
            ]
           ]
          },
          "colorway": [
           "#636efa",
           "#EF553B",
           "#00cc96",
           "#ab63fa",
           "#FFA15A",
           "#19d3f3",
           "#FF6692",
           "#B6E880",
           "#FF97FF",
           "#FECB52"
          ],
          "font": {
           "color": "#2a3f5f"
          },
          "geo": {
           "bgcolor": "white",
           "lakecolor": "white",
           "landcolor": "#E5ECF6",
           "showlakes": true,
           "showland": true,
           "subunitcolor": "white"
          },
          "hoverlabel": {
           "align": "left"
          },
          "hovermode": "closest",
          "mapbox": {
           "style": "light"
          },
          "paper_bgcolor": "white",
          "plot_bgcolor": "#E5ECF6",
          "polar": {
           "angularaxis": {
            "gridcolor": "white",
            "linecolor": "white",
            "ticks": ""
           },
           "bgcolor": "#E5ECF6",
           "radialaxis": {
            "gridcolor": "white",
            "linecolor": "white",
            "ticks": ""
           }
          },
          "scene": {
           "xaxis": {
            "backgroundcolor": "#E5ECF6",
            "gridcolor": "white",
            "gridwidth": 2,
            "linecolor": "white",
            "showbackground": true,
            "ticks": "",
            "zerolinecolor": "white"
           },
           "yaxis": {
            "backgroundcolor": "#E5ECF6",
            "gridcolor": "white",
            "gridwidth": 2,
            "linecolor": "white",
            "showbackground": true,
            "ticks": "",
            "zerolinecolor": "white"
           },
           "zaxis": {
            "backgroundcolor": "#E5ECF6",
            "gridcolor": "white",
            "gridwidth": 2,
            "linecolor": "white",
            "showbackground": true,
            "ticks": "",
            "zerolinecolor": "white"
           }
          },
          "shapedefaults": {
           "line": {
            "color": "#2a3f5f"
           }
          },
          "ternary": {
           "aaxis": {
            "gridcolor": "white",
            "linecolor": "white",
            "ticks": ""
           },
           "baxis": {
            "gridcolor": "white",
            "linecolor": "white",
            "ticks": ""
           },
           "bgcolor": "#E5ECF6",
           "caxis": {
            "gridcolor": "white",
            "linecolor": "white",
            "ticks": ""
           }
          },
          "title": {
           "x": 0.05
          },
          "xaxis": {
           "automargin": true,
           "gridcolor": "white",
           "linecolor": "white",
           "ticks": "",
           "title": {
            "standoff": 15
           },
           "zerolinecolor": "white",
           "zerolinewidth": 2
          },
          "yaxis": {
           "automargin": true,
           "gridcolor": "white",
           "linecolor": "white",
           "ticks": "",
           "title": {
            "standoff": 15
           },
           "zerolinecolor": "white",
           "zerolinewidth": 2
          }
         }
        },
        "title": {
         "font": {
          "color": "#484848"
         },
         "text": "Histogram"
        },
        "xaxis": {
         "gridcolor": "#E1E5ED",
         "showgrid": true,
         "tickfont": {
          "color": "#505050"
         },
         "title": {
          "font": {
           "color": "#505050"
          },
          "text": "X axis"
         },
         "zerolinecolor": "#E1E5ED"
        },
        "yaxis": {
         "gridcolor": "#E1E5ED",
         "showgrid": true,
         "tickfont": {
          "color": "#505050"
         },
         "title": {
          "font": {
           "color": "#505050"
          },
          "text": "Y axis"
         },
         "zerolinecolor": "#E1E5ED"
        }
       }
      },
      "text/html": [
       "<div>                            <div id=\"184a716b-29db-40db-83af-e713f8cadeb8\" class=\"plotly-graph-div\" style=\"height:525px; width:100%;\"></div>            <script type=\"text/javascript\">                require([\"plotly\"], function(Plotly) {                    window.PLOTLYENV=window.PLOTLYENV || {};\n",
       "                    window.PLOTLYENV.BASE_URL='https://plot.ly';                                    if (document.getElementById(\"184a716b-29db-40db-83af-e713f8cadeb8\")) {                    Plotly.newPlot(                        \"184a716b-29db-40db-83af-e713f8cadeb8\",                        [{\"histfunc\":\"count\",\"histnorm\":\"\",\"marker\":{\"color\":\"rgba(0, 128, 240, 1.0)\",\"line\":{\"color\":\"#505050\",\"width\":1.3}},\"name\":\"A\",\"nbinsx\":50,\"opacity\":0.8,\"orientation\":\"v\",\"x\":[3.3625825147031634,-0.6885621495157169,0.5149951992086972,-0.4976600607971672,1.3129178129369143,1.259037760305938,-0.8205591484786454,-0.2888956899883146,-0.09602816876888236,-0.9613950050487399,0.19756992435357082,-2.010039225046455,-0.7479232977395808,1.947999686378811,-1.300068284850122,0.8562782186572203,-0.8554492701360895,-0.4206993361270417,0.17322463597602866,-0.47160211461434376,0.565677357194077,-0.6594632474857488,1.7551221205900165,0.7357358194208311,-1.1591709602449005,-0.05419091582379508,-0.36257185525324137,1.4349669783777106,-0.5661528981377684,-0.407032366454418,0.22755126025017564,0.8257857482311864,0.27076051378642957,-0.46987215853669007,-0.6260892978035598,-0.14422154840098403,0.06729047029481175,-0.7538901577971123,-0.16372387540641004,-1.5306935620588862,1.7378715409320646,1.8728785308476077,-0.22596064971310095,0.19265357626344148,1.3095974819986245,-0.8467226757105627,-0.47588441755457705,0.8436192849298026,-1.0696497054771597,-0.29246972729030885,-0.5072696949324063,-1.804060391633852,0.41463973873286825,-0.06065342496772562,-1.2132110689335833,-0.1869364025887339,0.7239663414003534,-0.03198459252341648,0.9917197143234533,0.4124466650325076,-0.6198057419680839,-0.27086068891135073,-1.6085151157707147,-0.5886897832373408,-2.03889655784642,-0.08269100136583725,-0.2998182776646363,0.7537301596831394,-0.5572938977691413,0.2816574459013314,0.12511549492515286,-1.1520414977821023,-1.6077418183548926,0.12518543876338792,-0.17240992239466557,-0.29687603356526354,-0.538488421711546,1.011892155339132,0.5242967165890116,0.37788940477311916,1.3818585203086495,1.3322459158616347,1.3491805785283302,0.260837473417611,0.9770174853395498,-0.417469144514007,0.2532052106744681,-1.418974713556114,-1.304961959687015,-0.7850198786305627,-2.637960154783843,-0.702041364600879,0.2929621979386714,-0.31570510433110843,-0.2629023198827632,0.19022263715975085,0.6217882134487541,-0.2991271853655061,1.0088878670316135,-1.6952584120476268],\"type\":\"histogram\"}],                        {\"barmode\":\"overlay\",\"legend\":{\"bgcolor\":\"#F2F3F7\",\"font\":{\"color\":\"#505050\"}},\"paper_bgcolor\":\"#F2F3F7\",\"plot_bgcolor\":\"#F2F3F7\",\"template\":{\"data\":{\"barpolar\":[{\"marker\":{\"line\":{\"color\":\"#E5ECF6\",\"width\":0.5},\"pattern\":{\"fillmode\":\"overlay\",\"size\":10,\"solidity\":0.2}},\"type\":\"barpolar\"}],\"bar\":[{\"error_x\":{\"color\":\"#2a3f5f\"},\"error_y\":{\"color\":\"#2a3f5f\"},\"marker\":{\"line\":{\"color\":\"#E5ECF6\",\"width\":0.5},\"pattern\":{\"fillmode\":\"overlay\",\"size\":10,\"solidity\":0.2}},\"type\":\"bar\"}],\"carpet\":[{\"aaxis\":{\"endlinecolor\":\"#2a3f5f\",\"gridcolor\":\"white\",\"linecolor\":\"white\",\"minorgridcolor\":\"white\",\"startlinecolor\":\"#2a3f5f\"},\"baxis\":{\"endlinecolor\":\"#2a3f5f\",\"gridcolor\":\"white\",\"linecolor\":\"white\",\"minorgridcolor\":\"white\",\"startlinecolor\":\"#2a3f5f\"},\"type\":\"carpet\"}],\"choropleth\":[{\"colorbar\":{\"outlinewidth\":0,\"ticks\":\"\"},\"type\":\"choropleth\"}],\"contourcarpet\":[{\"colorbar\":{\"outlinewidth\":0,\"ticks\":\"\"},\"type\":\"contourcarpet\"}],\"contour\":[{\"colorbar\":{\"outlinewidth\":0,\"ticks\":\"\"},\"colorscale\":[[0.0,\"#0d0887\"],[0.1111111111111111,\"#46039f\"],[0.2222222222222222,\"#7201a8\"],[0.3333333333333333,\"#9c179e\"],[0.4444444444444444,\"#bd3786\"],[0.5555555555555556,\"#d8576b\"],[0.6666666666666666,\"#ed7953\"],[0.7777777777777778,\"#fb9f3a\"],[0.8888888888888888,\"#fdca26\"],[1.0,\"#f0f921\"]],\"type\":\"contour\"}],\"heatmapgl\":[{\"colorbar\":{\"outlinewidth\":0,\"ticks\":\"\"},\"colorscale\":[[0.0,\"#0d0887\"],[0.1111111111111111,\"#46039f\"],[0.2222222222222222,\"#7201a8\"],[0.3333333333333333,\"#9c179e\"],[0.4444444444444444,\"#bd3786\"],[0.5555555555555556,\"#d8576b\"],[0.6666666666666666,\"#ed7953\"],[0.7777777777777778,\"#fb9f3a\"],[0.8888888888888888,\"#fdca26\"],[1.0,\"#f0f921\"]],\"type\":\"heatmapgl\"}],\"heatmap\":[{\"colorbar\":{\"outlinewidth\":0,\"ticks\":\"\"},\"colorscale\":[[0.0,\"#0d0887\"],[0.1111111111111111,\"#46039f\"],[0.2222222222222222,\"#7201a8\"],[0.3333333333333333,\"#9c179e\"],[0.4444444444444444,\"#bd3786\"],[0.5555555555555556,\"#d8576b\"],[0.6666666666666666,\"#ed7953\"],[0.7777777777777778,\"#fb9f3a\"],[0.8888888888888888,\"#fdca26\"],[1.0,\"#f0f921\"]],\"type\":\"heatmap\"}],\"histogram2dcontour\":[{\"colorbar\":{\"outlinewidth\":0,\"ticks\":\"\"},\"colorscale\":[[0.0,\"#0d0887\"],[0.1111111111111111,\"#46039f\"],[0.2222222222222222,\"#7201a8\"],[0.3333333333333333,\"#9c179e\"],[0.4444444444444444,\"#bd3786\"],[0.5555555555555556,\"#d8576b\"],[0.6666666666666666,\"#ed7953\"],[0.7777777777777778,\"#fb9f3a\"],[0.8888888888888888,\"#fdca26\"],[1.0,\"#f0f921\"]],\"type\":\"histogram2dcontour\"}],\"histogram2d\":[{\"colorbar\":{\"outlinewidth\":0,\"ticks\":\"\"},\"colorscale\":[[0.0,\"#0d0887\"],[0.1111111111111111,\"#46039f\"],[0.2222222222222222,\"#7201a8\"],[0.3333333333333333,\"#9c179e\"],[0.4444444444444444,\"#bd3786\"],[0.5555555555555556,\"#d8576b\"],[0.6666666666666666,\"#ed7953\"],[0.7777777777777778,\"#fb9f3a\"],[0.8888888888888888,\"#fdca26\"],[1.0,\"#f0f921\"]],\"type\":\"histogram2d\"}],\"histogram\":[{\"marker\":{\"pattern\":{\"fillmode\":\"overlay\",\"size\":10,\"solidity\":0.2}},\"type\":\"histogram\"}],\"mesh3d\":[{\"colorbar\":{\"outlinewidth\":0,\"ticks\":\"\"},\"type\":\"mesh3d\"}],\"parcoords\":[{\"line\":{\"colorbar\":{\"outlinewidth\":0,\"ticks\":\"\"}},\"type\":\"parcoords\"}],\"pie\":[{\"automargin\":true,\"type\":\"pie\"}],\"scatter3d\":[{\"line\":{\"colorbar\":{\"outlinewidth\":0,\"ticks\":\"\"}},\"marker\":{\"colorbar\":{\"outlinewidth\":0,\"ticks\":\"\"}},\"type\":\"scatter3d\"}],\"scattercarpet\":[{\"marker\":{\"colorbar\":{\"outlinewidth\":0,\"ticks\":\"\"}},\"type\":\"scattercarpet\"}],\"scattergeo\":[{\"marker\":{\"colorbar\":{\"outlinewidth\":0,\"ticks\":\"\"}},\"type\":\"scattergeo\"}],\"scattergl\":[{\"marker\":{\"colorbar\":{\"outlinewidth\":0,\"ticks\":\"\"}},\"type\":\"scattergl\"}],\"scattermapbox\":[{\"marker\":{\"colorbar\":{\"outlinewidth\":0,\"ticks\":\"\"}},\"type\":\"scattermapbox\"}],\"scatterpolargl\":[{\"marker\":{\"colorbar\":{\"outlinewidth\":0,\"ticks\":\"\"}},\"type\":\"scatterpolargl\"}],\"scatterpolar\":[{\"marker\":{\"colorbar\":{\"outlinewidth\":0,\"ticks\":\"\"}},\"type\":\"scatterpolar\"}],\"scatter\":[{\"marker\":{\"colorbar\":{\"outlinewidth\":0,\"ticks\":\"\"}},\"type\":\"scatter\"}],\"scatterternary\":[{\"marker\":{\"colorbar\":{\"outlinewidth\":0,\"ticks\":\"\"}},\"type\":\"scatterternary\"}],\"surface\":[{\"colorbar\":{\"outlinewidth\":0,\"ticks\":\"\"},\"colorscale\":[[0.0,\"#0d0887\"],[0.1111111111111111,\"#46039f\"],[0.2222222222222222,\"#7201a8\"],[0.3333333333333333,\"#9c179e\"],[0.4444444444444444,\"#bd3786\"],[0.5555555555555556,\"#d8576b\"],[0.6666666666666666,\"#ed7953\"],[0.7777777777777778,\"#fb9f3a\"],[0.8888888888888888,\"#fdca26\"],[1.0,\"#f0f921\"]],\"type\":\"surface\"}],\"table\":[{\"cells\":{\"fill\":{\"color\":\"#EBF0F8\"},\"line\":{\"color\":\"white\"}},\"header\":{\"fill\":{\"color\":\"#C8D4E3\"},\"line\":{\"color\":\"white\"}},\"type\":\"table\"}]},\"layout\":{\"annotationdefaults\":{\"arrowcolor\":\"#2a3f5f\",\"arrowhead\":0,\"arrowwidth\":1},\"autotypenumbers\":\"strict\",\"coloraxis\":{\"colorbar\":{\"outlinewidth\":0,\"ticks\":\"\"}},\"colorscale\":{\"diverging\":[[0,\"#8e0152\"],[0.1,\"#c51b7d\"],[0.2,\"#de77ae\"],[0.3,\"#f1b6da\"],[0.4,\"#fde0ef\"],[0.5,\"#f7f7f7\"],[0.6,\"#e6f5d0\"],[0.7,\"#b8e186\"],[0.8,\"#7fbc41\"],[0.9,\"#4d9221\"],[1,\"#276419\"]],\"sequential\":[[0.0,\"#0d0887\"],[0.1111111111111111,\"#46039f\"],[0.2222222222222222,\"#7201a8\"],[0.3333333333333333,\"#9c179e\"],[0.4444444444444444,\"#bd3786\"],[0.5555555555555556,\"#d8576b\"],[0.6666666666666666,\"#ed7953\"],[0.7777777777777778,\"#fb9f3a\"],[0.8888888888888888,\"#fdca26\"],[1.0,\"#f0f921\"]],\"sequentialminus\":[[0.0,\"#0d0887\"],[0.1111111111111111,\"#46039f\"],[0.2222222222222222,\"#7201a8\"],[0.3333333333333333,\"#9c179e\"],[0.4444444444444444,\"#bd3786\"],[0.5555555555555556,\"#d8576b\"],[0.6666666666666666,\"#ed7953\"],[0.7777777777777778,\"#fb9f3a\"],[0.8888888888888888,\"#fdca26\"],[1.0,\"#f0f921\"]]},\"colorway\":[\"#636efa\",\"#EF553B\",\"#00cc96\",\"#ab63fa\",\"#FFA15A\",\"#19d3f3\",\"#FF6692\",\"#B6E880\",\"#FF97FF\",\"#FECB52\"],\"font\":{\"color\":\"#2a3f5f\"},\"geo\":{\"bgcolor\":\"white\",\"lakecolor\":\"white\",\"landcolor\":\"#E5ECF6\",\"showlakes\":true,\"showland\":true,\"subunitcolor\":\"white\"},\"hoverlabel\":{\"align\":\"left\"},\"hovermode\":\"closest\",\"mapbox\":{\"style\":\"light\"},\"paper_bgcolor\":\"white\",\"plot_bgcolor\":\"#E5ECF6\",\"polar\":{\"angularaxis\":{\"gridcolor\":\"white\",\"linecolor\":\"white\",\"ticks\":\"\"},\"bgcolor\":\"#E5ECF6\",\"radialaxis\":{\"gridcolor\":\"white\",\"linecolor\":\"white\",\"ticks\":\"\"}},\"scene\":{\"xaxis\":{\"backgroundcolor\":\"#E5ECF6\",\"gridcolor\":\"white\",\"gridwidth\":2,\"linecolor\":\"white\",\"showbackground\":true,\"ticks\":\"\",\"zerolinecolor\":\"white\"},\"yaxis\":{\"backgroundcolor\":\"#E5ECF6\",\"gridcolor\":\"white\",\"gridwidth\":2,\"linecolor\":\"white\",\"showbackground\":true,\"ticks\":\"\",\"zerolinecolor\":\"white\"},\"zaxis\":{\"backgroundcolor\":\"#E5ECF6\",\"gridcolor\":\"white\",\"gridwidth\":2,\"linecolor\":\"white\",\"showbackground\":true,\"ticks\":\"\",\"zerolinecolor\":\"white\"}},\"shapedefaults\":{\"line\":{\"color\":\"#2a3f5f\"}},\"ternary\":{\"aaxis\":{\"gridcolor\":\"white\",\"linecolor\":\"white\",\"ticks\":\"\"},\"baxis\":{\"gridcolor\":\"white\",\"linecolor\":\"white\",\"ticks\":\"\"},\"bgcolor\":\"#E5ECF6\",\"caxis\":{\"gridcolor\":\"white\",\"linecolor\":\"white\",\"ticks\":\"\"}},\"title\":{\"x\":0.05},\"xaxis\":{\"automargin\":true,\"gridcolor\":\"white\",\"linecolor\":\"white\",\"ticks\":\"\",\"title\":{\"standoff\":15},\"zerolinecolor\":\"white\",\"zerolinewidth\":2},\"yaxis\":{\"automargin\":true,\"gridcolor\":\"white\",\"linecolor\":\"white\",\"ticks\":\"\",\"title\":{\"standoff\":15},\"zerolinecolor\":\"white\",\"zerolinewidth\":2}}},\"title\":{\"font\":{\"color\":\"#484848\"},\"text\":\"Histogram\"},\"xaxis\":{\"gridcolor\":\"#E1E5ED\",\"showgrid\":true,\"tickfont\":{\"color\":\"#505050\"},\"title\":{\"font\":{\"color\":\"#505050\"},\"text\":\"X axis\"},\"zerolinecolor\":\"#E1E5ED\"},\"yaxis\":{\"gridcolor\":\"#E1E5ED\",\"showgrid\":true,\"tickfont\":{\"color\":\"#505050\"},\"title\":{\"font\":{\"color\":\"#505050\"},\"text\":\"Y axis\"},\"zerolinecolor\":\"#E1E5ED\"}},                        {\"showLink\": true, \"linkText\": \"Export to plot.ly\", \"plotlyServerURL\": \"https://plot.ly\", \"responsive\": true}                    ).then(function(){\n",
       "                            \n",
       "var gd = document.getElementById('184a716b-29db-40db-83af-e713f8cadeb8');\n",
       "var x = new MutationObserver(function (mutations, observer) {{\n",
       "        var display = window.getComputedStyle(gd).display;\n",
       "        if (!display || display === 'none') {{\n",
       "            console.log([gd, 'removed!']);\n",
       "            Plotly.purge(gd);\n",
       "            observer.disconnect();\n",
       "        }}\n",
       "}});\n",
       "\n",
       "// Listen for the removal of the full notebook cells\n",
       "var notebookContainer = gd.closest('#notebook-container');\n",
       "if (notebookContainer) {{\n",
       "    x.observe(notebookContainer, {childList: true});\n",
       "}}\n",
       "\n",
       "// Listen for the clearing of the current output cell\n",
       "var outputEl = gd.closest('.output');\n",
       "if (outputEl) {{\n",
       "    x.observe(outputEl, {childList: true});\n",
       "}}\n",
       "\n",
       "                        })                };                });            </script>        </div>"
      ]
     },
     "metadata": {},
     "output_type": "display_data"
    }
   ],
   "source": [
    "df['A'].iplot(kind='hist',xTitle='X axis',yTitle = 'Y axis',title='Histogram',bins=50,theme='polar')"
   ]
  },
  {
   "cell_type": "code",
   "execution_count": 36,
   "metadata": {
    "ExecuteTime": {
     "end_time": "2019-05-06T16:55:41.709611Z",
     "start_time": "2019-05-06T16:55:41.705583Z"
    }
   },
   "outputs": [
    {
     "data": {
      "text/plain": [
       "['ggplot', 'pearl', 'solar', 'space', 'white', 'polar', 'henanigans']"
      ]
     },
     "execution_count": 36,
     "metadata": {},
     "output_type": "execute_result"
    }
   ],
   "source": [
    "cf.getThemes()"
   ]
  },
  {
   "cell_type": "code",
   "execution_count": 37,
   "metadata": {
    "ExecuteTime": {
     "end_time": "2019-05-06T16:55:41.882147Z",
     "start_time": "2019-05-06T16:55:41.734506Z"
    }
   },
   "outputs": [
    {
     "data": {
      "application/vnd.plotly.v1+json": {
       "config": {
        "linkText": "Export to plot.ly",
        "plotlyServerURL": "https://plot.ly",
        "showLink": true
       },
       "data": [
        {
         "histfunc": "count",
         "histnorm": "",
         "marker": {
          "color": "rgba(0, 128, 240, 1.0)",
          "line": {
           "color": "#505050",
           "width": 1.3
          }
         },
         "name": "A",
         "nbinsx": 50,
         "opacity": 0.8,
         "orientation": "v",
         "type": "histogram",
         "x": [
          3.3625825147031634,
          -0.6885621495157169,
          0.5149951992086972,
          -0.4976600607971672,
          1.3129178129369143,
          1.259037760305938,
          -0.8205591484786454,
          -0.2888956899883146,
          -0.09602816876888236,
          -0.9613950050487399,
          0.19756992435357082,
          -2.010039225046455,
          -0.7479232977395808,
          1.947999686378811,
          -1.300068284850122,
          0.8562782186572203,
          -0.8554492701360895,
          -0.4206993361270417,
          0.17322463597602866,
          -0.47160211461434376,
          0.565677357194077,
          -0.6594632474857488,
          1.7551221205900165,
          0.7357358194208311,
          -1.1591709602449005,
          -0.05419091582379508,
          -0.36257185525324137,
          1.4349669783777106,
          -0.5661528981377684,
          -0.407032366454418,
          0.22755126025017564,
          0.8257857482311864,
          0.27076051378642957,
          -0.46987215853669007,
          -0.6260892978035598,
          -0.14422154840098403,
          0.06729047029481175,
          -0.7538901577971123,
          -0.16372387540641004,
          -1.5306935620588862,
          1.7378715409320646,
          1.8728785308476077,
          -0.22596064971310095,
          0.19265357626344148,
          1.3095974819986245,
          -0.8467226757105627,
          -0.47588441755457705,
          0.8436192849298026,
          -1.0696497054771597,
          -0.29246972729030885,
          -0.5072696949324063,
          -1.804060391633852,
          0.41463973873286825,
          -0.06065342496772562,
          -1.2132110689335833,
          -0.1869364025887339,
          0.7239663414003534,
          -0.03198459252341648,
          0.9917197143234533,
          0.4124466650325076,
          -0.6198057419680839,
          -0.27086068891135073,
          -1.6085151157707147,
          -0.5886897832373408,
          -2.03889655784642,
          -0.08269100136583725,
          -0.2998182776646363,
          0.7537301596831394,
          -0.5572938977691413,
          0.2816574459013314,
          0.12511549492515286,
          -1.1520414977821023,
          -1.6077418183548926,
          0.12518543876338792,
          -0.17240992239466557,
          -0.29687603356526354,
          -0.538488421711546,
          1.011892155339132,
          0.5242967165890116,
          0.37788940477311916,
          1.3818585203086495,
          1.3322459158616347,
          1.3491805785283302,
          0.260837473417611,
          0.9770174853395498,
          -0.417469144514007,
          0.2532052106744681,
          -1.418974713556114,
          -1.304961959687015,
          -0.7850198786305627,
          -2.637960154783843,
          -0.702041364600879,
          0.2929621979386714,
          -0.31570510433110843,
          -0.2629023198827632,
          0.19022263715975085,
          0.6217882134487541,
          -0.2991271853655061,
          1.0088878670316135,
          -1.6952584120476268
         ]
        },
        {
         "histfunc": "count",
         "histnorm": "",
         "marker": {
          "color": "rgba(238, 118, 0, 1.0)",
          "line": {
           "color": "#505050",
           "width": 1.3
          }
         },
         "name": "B",
         "nbinsx": 50,
         "opacity": 0.8,
         "orientation": "v",
         "type": "histogram",
         "x": [
          -0.09869980248667033,
          2.03726652741454,
          1.4394828771486599,
          1.8697131285068431,
          -0.5548997790378658,
          -0.6217206439491961,
          -0.689074198736593,
          -0.06741428706327046,
          1.7098599778074983,
          -0.4176920959973648,
          2.168907375948452,
          -0.4880158437300923,
          0.27498240917764155,
          0.08170163057623107,
          -0.03384861897299663,
          1.647092749347639,
          0.15860105398020632,
          0.059442598251813514,
          -0.5762077458563473,
          1.4150104934559853,
          -0.5749855002518763,
          -0.546415696315059,
          -1.5240091166445844,
          -0.9241042955106828,
          -1.9699502760010996,
          -0.6245600967739037,
          0.46518656287393384,
          -0.5218551564845291,
          0.2791729390951336,
          0.38578951337570555,
          0.39588598472909636,
          -0.7255379856229528,
          -0.56042666640254,
          -0.6027380454238817,
          0.06544925823079883,
          0.0977013071597415,
          0.2884822951944402,
          0.01713950529145413,
          -0.6866144000900855,
          -0.7898794564866739,
          0.10855608206827938,
          -0.22219683727590325,
          0.8283900308964371,
          -0.22510174689080045,
          0.08635559723721953,
          0.5335960581183034,
          0.37052671554643235,
          -0.570615537939435,
          0.2934992940562579,
          0.35328262839809565,
          -0.504249051160435,
          -1.9841088941570533,
          0.16468981598788138,
          -0.457678976262291,
          -0.4458065995793777,
          -0.6009038322071909,
          1.081394434790141,
          -0.32228195363254253,
          -0.2734324040026059,
          -0.11560060379954049,
          -1.145759112427046,
          -0.11539531430117402,
          0.32766295593105765,
          -0.373990881876142,
          -1.8553040836366972,
          0.41643076492351705,
          0.8492089009344047,
          -0.7965102060113378,
          2.036714812577297,
          0.21979935049899096,
          -1.1294971239943814,
          0.15636794398823822,
          0.19528867658492846,
          -0.664078836346772,
          0.29684278242568446,
          -0.8367625226528052,
          0.7616986595793469,
          1.855823984151398,
          -1.133439152106387,
          -0.8195629205557495,
          -0.46718347774595076,
          0.9486061350544259,
          -0.07737115781296872,
          -0.42174556204453584,
          1.6477605761097094,
          0.382673801536673,
          1.0452339650064126,
          -1.2834000440096809,
          0.8211643104999973,
          2.0187466797608917,
          0.03507192302206712,
          -1.290810831468579,
          0.7469538642891566,
          -0.7722379464065471,
          -0.7828371849281098,
          -0.7157909433349646,
          1.0350233315650033,
          0.34197577939435325,
          -0.20965832848228794,
          0.33295144312351205
         ]
        },
        {
         "histfunc": "count",
         "histnorm": "",
         "marker": {
          "color": "rgba(48, 144, 84, 1.0)",
          "line": {
           "color": "#505050",
           "width": 1.3
          }
         },
         "name": "C",
         "nbinsx": 50,
         "opacity": 0.8,
         "orientation": "v",
         "type": "histogram",
         "x": [
          -0.03871432534083431,
          0.8115707952131627,
          -0.17665423819459455,
          1.3466930613339523,
          -0.7096242874361512,
          0.5827954368056582,
          0.46518279753224095,
          -1.5660683477890591,
          -0.33199610826936693,
          -0.4744363313695482,
          1.4711440122729522,
          -0.003955344986920965,
          0.0562545380152191,
          0.15362277115179548,
          -0.36353528708391786,
          -0.012124866275137487,
          -0.20009491093416557,
          0.9614757069810966,
          0.7697978672912913,
          -0.23742915591891228,
          0.9725222749061871,
          0.41582536826645344,
          -1.0625242653194664,
          -0.7900579467789591,
          -0.6818934981943373,
          -0.13917048218982198,
          -0.3541996772670713,
          -0.8213352921077302,
          -0.07126063095007504,
          -0.26033422049286276,
          -0.5289646963018059,
          -0.43873497104461107,
          -0.45044738503422543,
          0.7478128184341659,
          0.6641194392583254,
          -0.979094314437018,
          -1.119399923453585,
          -1.5594785503686877,
          0.7599857788414909,
          -1.9097517568392404,
          -1.9468678465506883,
          0.5218375682681676,
          -1.0396394039937231,
          1.1276287199659947,
          -1.184342666394064,
          0.022131779564743076,
          -0.3201532437258341,
          -0.19702044383341424,
          -0.3758894766712151,
          0.05237384319038519,
          1.5172743804134299,
          2.4247879322619643,
          -0.9755230759676465,
          1.012608550719346,
          -1.290639386572514,
          -0.17154180805176894,
          0.7087889536846921,
          0.16864636263787605,
          -0.1312296598447758,
          0.7305408215857765,
          -1.3689031206003062,
          0.22090233284189276,
          1.3597780697136148,
          0.9944818070429114,
          0.6964499854986963,
          0.6745445328562419,
          -0.6662469380254723,
          -1.0174720887610438,
          0.2300492223012016,
          -0.036954874906627216,
          -0.726688304201755,
          -1.0211999418778872,
          1.0250471207567862,
          0.21183444445887054,
          0.37261079372522277,
          0.5822324112944044,
          -0.22929439516700795,
          0.2480386641167231,
          0.5643644796350337,
          0.9750637011146529,
          -0.18448805836167542,
          1.0717767289630435,
          2.0980105239450886,
          0.38372361927407656,
          -0.004206138482686182,
          -0.13370915390265514,
          0.16589187268661165,
          0.47628847080812187,
          0.704925336787344,
          0.12372473894611717,
          0.15210545578859208,
          -0.9406035775255597,
          -0.226907080030317,
          0.2499324277887329,
          -1.5170304489877942,
          1.2639490310851944,
          -0.516687512771716,
          2.305904708755523,
          -1.3952138991015384,
          0.630778993152211
         ]
        },
        {
         "histfunc": "count",
         "histnorm": "",
         "marker": {
          "color": "rgba(98, 98, 222, 1.0)",
          "line": {
           "color": "#505050",
           "width": 1.3
          }
         },
         "name": "D",
         "nbinsx": 50,
         "opacity": 0.8,
         "orientation": "v",
         "type": "histogram",
         "x": [
          -0.2610754490700943,
          -0.31274259932016485,
          -0.05195486783740825,
          -0.6363720505501187,
          0.26403720932684455,
          -0.670878971050256,
          0.35306264868315396,
          -1.4766036084490375,
          -1.0570360760952613,
          -0.5716289462859565,
          0.5996025660857952,
          0.6669472548117814,
          -0.20190710037508552,
          0.6591484959562992,
          0.3007018794461643,
          -2.3269309002298684,
          -0.45564726513007425,
          0.31412461514473483,
          1.5775316971860345,
          -0.20816830651970206,
          1.0992586180529906,
          1.2482324665607225,
          0.5963441305128984,
          0.6759383135148479,
          -0.31391325666451225,
          1.20331051531392,
          -1.1189113149477334,
          0.04340009025224424,
          -0.5873078097584103,
          -1.7395764773201399,
          1.7318829844673942,
          -1.8582286156354608,
          0.2102896767181078,
          0.036038219215623425,
          1.7315528329827625,
          -0.23751896821776966,
          -1.2619041772231365,
          -0.4209939529770629,
          0.6444023091948922,
          -0.12611657156977105,
          -0.8679107790133433,
          -1.2941016753923553,
          0.14594471207322482,
          -1.0981622210575677,
          -0.08624722509148783,
          -0.5531726942858656,
          1.3258006005289427,
          -0.5239864957809007,
          0.09995128771691131,
          2.10208730930389,
          -0.6752478145794528,
          -0.3840445714707245,
          -0.1372520446980467,
          0.3886173501207647,
          1.2332964234722699,
          1.4381637163220384,
          -0.25764043429119016,
          -0.9842129074651307,
          -0.13624389171313364,
          -1.2929703628833762,
          -0.21066150761967375,
          -1.0517433412117014,
          0.12062324844287063,
          1.2927129194575222,
          -0.7835829494349476,
          -0.7570704661624947,
          -1.161275272484911,
          -0.6580589800179951,
          0.4574163292136516,
          0.9282633619209005,
          1.2361508560233534,
          1.6358461396414072,
          -0.3275027468944334,
          0.4715100581108882,
          0.1900867796549248,
          0.9503595438312736,
          0.2846599033154163,
          0.7838010808747881,
          -0.6215426494588088,
          -2.5585283098605864,
          2.792906821685706,
          -0.21163724717237037,
          -0.799844955740187,
          -0.12841497548761696,
          1.643525322798787,
          0.6669179707736347,
          -2.071559206824266,
          0.8811338533173473,
          -2.0193879616140107,
          -1.9139249417279494,
          0.9818762536192873,
          -0.14457914752721937,
          -0.1019202571490361,
          -0.10167892581764211,
          1.2887099889784408,
          0.7911773663583078,
          -1.0221485430858486,
          -0.47387097215670204,
          -0.20350765600332388,
          -0.13150023481557147
         ]
        }
       ],
       "layout": {
        "barmode": "overlay",
        "legend": {
         "bgcolor": "#F2F3F7",
         "font": {
          "color": "#505050"
         }
        },
        "paper_bgcolor": "#F2F3F7",
        "plot_bgcolor": "#F2F3F7",
        "template": {
         "data": {
          "bar": [
           {
            "error_x": {
             "color": "#2a3f5f"
            },
            "error_y": {
             "color": "#2a3f5f"
            },
            "marker": {
             "line": {
              "color": "#E5ECF6",
              "width": 0.5
             },
             "pattern": {
              "fillmode": "overlay",
              "size": 10,
              "solidity": 0.2
             }
            },
            "type": "bar"
           }
          ],
          "barpolar": [
           {
            "marker": {
             "line": {
              "color": "#E5ECF6",
              "width": 0.5
             },
             "pattern": {
              "fillmode": "overlay",
              "size": 10,
              "solidity": 0.2
             }
            },
            "type": "barpolar"
           }
          ],
          "carpet": [
           {
            "aaxis": {
             "endlinecolor": "#2a3f5f",
             "gridcolor": "white",
             "linecolor": "white",
             "minorgridcolor": "white",
             "startlinecolor": "#2a3f5f"
            },
            "baxis": {
             "endlinecolor": "#2a3f5f",
             "gridcolor": "white",
             "linecolor": "white",
             "minorgridcolor": "white",
             "startlinecolor": "#2a3f5f"
            },
            "type": "carpet"
           }
          ],
          "choropleth": [
           {
            "colorbar": {
             "outlinewidth": 0,
             "ticks": ""
            },
            "type": "choropleth"
           }
          ],
          "contour": [
           {
            "colorbar": {
             "outlinewidth": 0,
             "ticks": ""
            },
            "colorscale": [
             [
              0,
              "#0d0887"
             ],
             [
              0.1111111111111111,
              "#46039f"
             ],
             [
              0.2222222222222222,
              "#7201a8"
             ],
             [
              0.3333333333333333,
              "#9c179e"
             ],
             [
              0.4444444444444444,
              "#bd3786"
             ],
             [
              0.5555555555555556,
              "#d8576b"
             ],
             [
              0.6666666666666666,
              "#ed7953"
             ],
             [
              0.7777777777777778,
              "#fb9f3a"
             ],
             [
              0.8888888888888888,
              "#fdca26"
             ],
             [
              1,
              "#f0f921"
             ]
            ],
            "type": "contour"
           }
          ],
          "contourcarpet": [
           {
            "colorbar": {
             "outlinewidth": 0,
             "ticks": ""
            },
            "type": "contourcarpet"
           }
          ],
          "heatmap": [
           {
            "colorbar": {
             "outlinewidth": 0,
             "ticks": ""
            },
            "colorscale": [
             [
              0,
              "#0d0887"
             ],
             [
              0.1111111111111111,
              "#46039f"
             ],
             [
              0.2222222222222222,
              "#7201a8"
             ],
             [
              0.3333333333333333,
              "#9c179e"
             ],
             [
              0.4444444444444444,
              "#bd3786"
             ],
             [
              0.5555555555555556,
              "#d8576b"
             ],
             [
              0.6666666666666666,
              "#ed7953"
             ],
             [
              0.7777777777777778,
              "#fb9f3a"
             ],
             [
              0.8888888888888888,
              "#fdca26"
             ],
             [
              1,
              "#f0f921"
             ]
            ],
            "type": "heatmap"
           }
          ],
          "heatmapgl": [
           {
            "colorbar": {
             "outlinewidth": 0,
             "ticks": ""
            },
            "colorscale": [
             [
              0,
              "#0d0887"
             ],
             [
              0.1111111111111111,
              "#46039f"
             ],
             [
              0.2222222222222222,
              "#7201a8"
             ],
             [
              0.3333333333333333,
              "#9c179e"
             ],
             [
              0.4444444444444444,
              "#bd3786"
             ],
             [
              0.5555555555555556,
              "#d8576b"
             ],
             [
              0.6666666666666666,
              "#ed7953"
             ],
             [
              0.7777777777777778,
              "#fb9f3a"
             ],
             [
              0.8888888888888888,
              "#fdca26"
             ],
             [
              1,
              "#f0f921"
             ]
            ],
            "type": "heatmapgl"
           }
          ],
          "histogram": [
           {
            "marker": {
             "pattern": {
              "fillmode": "overlay",
              "size": 10,
              "solidity": 0.2
             }
            },
            "type": "histogram"
           }
          ],
          "histogram2d": [
           {
            "colorbar": {
             "outlinewidth": 0,
             "ticks": ""
            },
            "colorscale": [
             [
              0,
              "#0d0887"
             ],
             [
              0.1111111111111111,
              "#46039f"
             ],
             [
              0.2222222222222222,
              "#7201a8"
             ],
             [
              0.3333333333333333,
              "#9c179e"
             ],
             [
              0.4444444444444444,
              "#bd3786"
             ],
             [
              0.5555555555555556,
              "#d8576b"
             ],
             [
              0.6666666666666666,
              "#ed7953"
             ],
             [
              0.7777777777777778,
              "#fb9f3a"
             ],
             [
              0.8888888888888888,
              "#fdca26"
             ],
             [
              1,
              "#f0f921"
             ]
            ],
            "type": "histogram2d"
           }
          ],
          "histogram2dcontour": [
           {
            "colorbar": {
             "outlinewidth": 0,
             "ticks": ""
            },
            "colorscale": [
             [
              0,
              "#0d0887"
             ],
             [
              0.1111111111111111,
              "#46039f"
             ],
             [
              0.2222222222222222,
              "#7201a8"
             ],
             [
              0.3333333333333333,
              "#9c179e"
             ],
             [
              0.4444444444444444,
              "#bd3786"
             ],
             [
              0.5555555555555556,
              "#d8576b"
             ],
             [
              0.6666666666666666,
              "#ed7953"
             ],
             [
              0.7777777777777778,
              "#fb9f3a"
             ],
             [
              0.8888888888888888,
              "#fdca26"
             ],
             [
              1,
              "#f0f921"
             ]
            ],
            "type": "histogram2dcontour"
           }
          ],
          "mesh3d": [
           {
            "colorbar": {
             "outlinewidth": 0,
             "ticks": ""
            },
            "type": "mesh3d"
           }
          ],
          "parcoords": [
           {
            "line": {
             "colorbar": {
              "outlinewidth": 0,
              "ticks": ""
             }
            },
            "type": "parcoords"
           }
          ],
          "pie": [
           {
            "automargin": true,
            "type": "pie"
           }
          ],
          "scatter": [
           {
            "marker": {
             "colorbar": {
              "outlinewidth": 0,
              "ticks": ""
             }
            },
            "type": "scatter"
           }
          ],
          "scatter3d": [
           {
            "line": {
             "colorbar": {
              "outlinewidth": 0,
              "ticks": ""
             }
            },
            "marker": {
             "colorbar": {
              "outlinewidth": 0,
              "ticks": ""
             }
            },
            "type": "scatter3d"
           }
          ],
          "scattercarpet": [
           {
            "marker": {
             "colorbar": {
              "outlinewidth": 0,
              "ticks": ""
             }
            },
            "type": "scattercarpet"
           }
          ],
          "scattergeo": [
           {
            "marker": {
             "colorbar": {
              "outlinewidth": 0,
              "ticks": ""
             }
            },
            "type": "scattergeo"
           }
          ],
          "scattergl": [
           {
            "marker": {
             "colorbar": {
              "outlinewidth": 0,
              "ticks": ""
             }
            },
            "type": "scattergl"
           }
          ],
          "scattermapbox": [
           {
            "marker": {
             "colorbar": {
              "outlinewidth": 0,
              "ticks": ""
             }
            },
            "type": "scattermapbox"
           }
          ],
          "scatterpolar": [
           {
            "marker": {
             "colorbar": {
              "outlinewidth": 0,
              "ticks": ""
             }
            },
            "type": "scatterpolar"
           }
          ],
          "scatterpolargl": [
           {
            "marker": {
             "colorbar": {
              "outlinewidth": 0,
              "ticks": ""
             }
            },
            "type": "scatterpolargl"
           }
          ],
          "scatterternary": [
           {
            "marker": {
             "colorbar": {
              "outlinewidth": 0,
              "ticks": ""
             }
            },
            "type": "scatterternary"
           }
          ],
          "surface": [
           {
            "colorbar": {
             "outlinewidth": 0,
             "ticks": ""
            },
            "colorscale": [
             [
              0,
              "#0d0887"
             ],
             [
              0.1111111111111111,
              "#46039f"
             ],
             [
              0.2222222222222222,
              "#7201a8"
             ],
             [
              0.3333333333333333,
              "#9c179e"
             ],
             [
              0.4444444444444444,
              "#bd3786"
             ],
             [
              0.5555555555555556,
              "#d8576b"
             ],
             [
              0.6666666666666666,
              "#ed7953"
             ],
             [
              0.7777777777777778,
              "#fb9f3a"
             ],
             [
              0.8888888888888888,
              "#fdca26"
             ],
             [
              1,
              "#f0f921"
             ]
            ],
            "type": "surface"
           }
          ],
          "table": [
           {
            "cells": {
             "fill": {
              "color": "#EBF0F8"
             },
             "line": {
              "color": "white"
             }
            },
            "header": {
             "fill": {
              "color": "#C8D4E3"
             },
             "line": {
              "color": "white"
             }
            },
            "type": "table"
           }
          ]
         },
         "layout": {
          "annotationdefaults": {
           "arrowcolor": "#2a3f5f",
           "arrowhead": 0,
           "arrowwidth": 1
          },
          "autotypenumbers": "strict",
          "coloraxis": {
           "colorbar": {
            "outlinewidth": 0,
            "ticks": ""
           }
          },
          "colorscale": {
           "diverging": [
            [
             0,
             "#8e0152"
            ],
            [
             0.1,
             "#c51b7d"
            ],
            [
             0.2,
             "#de77ae"
            ],
            [
             0.3,
             "#f1b6da"
            ],
            [
             0.4,
             "#fde0ef"
            ],
            [
             0.5,
             "#f7f7f7"
            ],
            [
             0.6,
             "#e6f5d0"
            ],
            [
             0.7,
             "#b8e186"
            ],
            [
             0.8,
             "#7fbc41"
            ],
            [
             0.9,
             "#4d9221"
            ],
            [
             1,
             "#276419"
            ]
           ],
           "sequential": [
            [
             0,
             "#0d0887"
            ],
            [
             0.1111111111111111,
             "#46039f"
            ],
            [
             0.2222222222222222,
             "#7201a8"
            ],
            [
             0.3333333333333333,
             "#9c179e"
            ],
            [
             0.4444444444444444,
             "#bd3786"
            ],
            [
             0.5555555555555556,
             "#d8576b"
            ],
            [
             0.6666666666666666,
             "#ed7953"
            ],
            [
             0.7777777777777778,
             "#fb9f3a"
            ],
            [
             0.8888888888888888,
             "#fdca26"
            ],
            [
             1,
             "#f0f921"
            ]
           ],
           "sequentialminus": [
            [
             0,
             "#0d0887"
            ],
            [
             0.1111111111111111,
             "#46039f"
            ],
            [
             0.2222222222222222,
             "#7201a8"
            ],
            [
             0.3333333333333333,
             "#9c179e"
            ],
            [
             0.4444444444444444,
             "#bd3786"
            ],
            [
             0.5555555555555556,
             "#d8576b"
            ],
            [
             0.6666666666666666,
             "#ed7953"
            ],
            [
             0.7777777777777778,
             "#fb9f3a"
            ],
            [
             0.8888888888888888,
             "#fdca26"
            ],
            [
             1,
             "#f0f921"
            ]
           ]
          },
          "colorway": [
           "#636efa",
           "#EF553B",
           "#00cc96",
           "#ab63fa",
           "#FFA15A",
           "#19d3f3",
           "#FF6692",
           "#B6E880",
           "#FF97FF",
           "#FECB52"
          ],
          "font": {
           "color": "#2a3f5f"
          },
          "geo": {
           "bgcolor": "white",
           "lakecolor": "white",
           "landcolor": "#E5ECF6",
           "showlakes": true,
           "showland": true,
           "subunitcolor": "white"
          },
          "hoverlabel": {
           "align": "left"
          },
          "hovermode": "closest",
          "mapbox": {
           "style": "light"
          },
          "paper_bgcolor": "white",
          "plot_bgcolor": "#E5ECF6",
          "polar": {
           "angularaxis": {
            "gridcolor": "white",
            "linecolor": "white",
            "ticks": ""
           },
           "bgcolor": "#E5ECF6",
           "radialaxis": {
            "gridcolor": "white",
            "linecolor": "white",
            "ticks": ""
           }
          },
          "scene": {
           "xaxis": {
            "backgroundcolor": "#E5ECF6",
            "gridcolor": "white",
            "gridwidth": 2,
            "linecolor": "white",
            "showbackground": true,
            "ticks": "",
            "zerolinecolor": "white"
           },
           "yaxis": {
            "backgroundcolor": "#E5ECF6",
            "gridcolor": "white",
            "gridwidth": 2,
            "linecolor": "white",
            "showbackground": true,
            "ticks": "",
            "zerolinecolor": "white"
           },
           "zaxis": {
            "backgroundcolor": "#E5ECF6",
            "gridcolor": "white",
            "gridwidth": 2,
            "linecolor": "white",
            "showbackground": true,
            "ticks": "",
            "zerolinecolor": "white"
           }
          },
          "shapedefaults": {
           "line": {
            "color": "#2a3f5f"
           }
          },
          "ternary": {
           "aaxis": {
            "gridcolor": "white",
            "linecolor": "white",
            "ticks": ""
           },
           "baxis": {
            "gridcolor": "white",
            "linecolor": "white",
            "ticks": ""
           },
           "bgcolor": "#E5ECF6",
           "caxis": {
            "gridcolor": "white",
            "linecolor": "white",
            "ticks": ""
           }
          },
          "title": {
           "x": 0.05
          },
          "xaxis": {
           "automargin": true,
           "gridcolor": "white",
           "linecolor": "white",
           "ticks": "",
           "title": {
            "standoff": 15
           },
           "zerolinecolor": "white",
           "zerolinewidth": 2
          },
          "yaxis": {
           "automargin": true,
           "gridcolor": "white",
           "linecolor": "white",
           "ticks": "",
           "title": {
            "standoff": 15
           },
           "zerolinecolor": "white",
           "zerolinewidth": 2
          }
         }
        },
        "title": {
         "font": {
          "color": "#484848"
         },
         "text": "Histogram"
        },
        "xaxis": {
         "gridcolor": "#E1E5ED",
         "showgrid": true,
         "tickfont": {
          "color": "#505050"
         },
         "title": {
          "font": {
           "color": "#505050"
          },
          "text": "X axis"
         },
         "zerolinecolor": "#E1E5ED"
        },
        "yaxis": {
         "gridcolor": "#E1E5ED",
         "showgrid": true,
         "tickfont": {
          "color": "#505050"
         },
         "title": {
          "font": {
           "color": "#505050"
          },
          "text": "Y axis"
         },
         "zerolinecolor": "#E1E5ED"
        }
       }
      },
      "text/html": [
       "<div>                            <div id=\"b83c243d-19c7-49ac-8216-c0a8794f14fc\" class=\"plotly-graph-div\" style=\"height:525px; width:100%;\"></div>            <script type=\"text/javascript\">                require([\"plotly\"], function(Plotly) {                    window.PLOTLYENV=window.PLOTLYENV || {};\n",
       "                    window.PLOTLYENV.BASE_URL='https://plot.ly';                                    if (document.getElementById(\"b83c243d-19c7-49ac-8216-c0a8794f14fc\")) {                    Plotly.newPlot(                        \"b83c243d-19c7-49ac-8216-c0a8794f14fc\",                        [{\"histfunc\":\"count\",\"histnorm\":\"\",\"marker\":{\"color\":\"rgba(0, 128, 240, 1.0)\",\"line\":{\"color\":\"#505050\",\"width\":1.3}},\"name\":\"A\",\"nbinsx\":50,\"opacity\":0.8,\"orientation\":\"v\",\"x\":[3.3625825147031634,-0.6885621495157169,0.5149951992086972,-0.4976600607971672,1.3129178129369143,1.259037760305938,-0.8205591484786454,-0.2888956899883146,-0.09602816876888236,-0.9613950050487399,0.19756992435357082,-2.010039225046455,-0.7479232977395808,1.947999686378811,-1.300068284850122,0.8562782186572203,-0.8554492701360895,-0.4206993361270417,0.17322463597602866,-0.47160211461434376,0.565677357194077,-0.6594632474857488,1.7551221205900165,0.7357358194208311,-1.1591709602449005,-0.05419091582379508,-0.36257185525324137,1.4349669783777106,-0.5661528981377684,-0.407032366454418,0.22755126025017564,0.8257857482311864,0.27076051378642957,-0.46987215853669007,-0.6260892978035598,-0.14422154840098403,0.06729047029481175,-0.7538901577971123,-0.16372387540641004,-1.5306935620588862,1.7378715409320646,1.8728785308476077,-0.22596064971310095,0.19265357626344148,1.3095974819986245,-0.8467226757105627,-0.47588441755457705,0.8436192849298026,-1.0696497054771597,-0.29246972729030885,-0.5072696949324063,-1.804060391633852,0.41463973873286825,-0.06065342496772562,-1.2132110689335833,-0.1869364025887339,0.7239663414003534,-0.03198459252341648,0.9917197143234533,0.4124466650325076,-0.6198057419680839,-0.27086068891135073,-1.6085151157707147,-0.5886897832373408,-2.03889655784642,-0.08269100136583725,-0.2998182776646363,0.7537301596831394,-0.5572938977691413,0.2816574459013314,0.12511549492515286,-1.1520414977821023,-1.6077418183548926,0.12518543876338792,-0.17240992239466557,-0.29687603356526354,-0.538488421711546,1.011892155339132,0.5242967165890116,0.37788940477311916,1.3818585203086495,1.3322459158616347,1.3491805785283302,0.260837473417611,0.9770174853395498,-0.417469144514007,0.2532052106744681,-1.418974713556114,-1.304961959687015,-0.7850198786305627,-2.637960154783843,-0.702041364600879,0.2929621979386714,-0.31570510433110843,-0.2629023198827632,0.19022263715975085,0.6217882134487541,-0.2991271853655061,1.0088878670316135,-1.6952584120476268],\"type\":\"histogram\"},{\"histfunc\":\"count\",\"histnorm\":\"\",\"marker\":{\"color\":\"rgba(238, 118, 0, 1.0)\",\"line\":{\"color\":\"#505050\",\"width\":1.3}},\"name\":\"B\",\"nbinsx\":50,\"opacity\":0.8,\"orientation\":\"v\",\"x\":[-0.09869980248667033,2.03726652741454,1.4394828771486599,1.8697131285068431,-0.5548997790378658,-0.6217206439491961,-0.689074198736593,-0.06741428706327046,1.7098599778074983,-0.4176920959973648,2.168907375948452,-0.4880158437300923,0.27498240917764155,0.08170163057623107,-0.03384861897299663,1.647092749347639,0.15860105398020632,0.059442598251813514,-0.5762077458563473,1.4150104934559853,-0.5749855002518763,-0.546415696315059,-1.5240091166445844,-0.9241042955106828,-1.9699502760010996,-0.6245600967739037,0.46518656287393384,-0.5218551564845291,0.2791729390951336,0.38578951337570555,0.39588598472909636,-0.7255379856229528,-0.56042666640254,-0.6027380454238817,0.06544925823079883,0.0977013071597415,0.2884822951944402,0.01713950529145413,-0.6866144000900855,-0.7898794564866739,0.10855608206827938,-0.22219683727590325,0.8283900308964371,-0.22510174689080045,0.08635559723721953,0.5335960581183034,0.37052671554643235,-0.570615537939435,0.2934992940562579,0.35328262839809565,-0.504249051160435,-1.9841088941570533,0.16468981598788138,-0.457678976262291,-0.4458065995793777,-0.6009038322071909,1.081394434790141,-0.32228195363254253,-0.2734324040026059,-0.11560060379954049,-1.145759112427046,-0.11539531430117402,0.32766295593105765,-0.373990881876142,-1.8553040836366972,0.41643076492351705,0.8492089009344047,-0.7965102060113378,2.036714812577297,0.21979935049899096,-1.1294971239943814,0.15636794398823822,0.19528867658492846,-0.664078836346772,0.29684278242568446,-0.8367625226528052,0.7616986595793469,1.855823984151398,-1.133439152106387,-0.8195629205557495,-0.46718347774595076,0.9486061350544259,-0.07737115781296872,-0.42174556204453584,1.6477605761097094,0.382673801536673,1.0452339650064126,-1.2834000440096809,0.8211643104999973,2.0187466797608917,0.03507192302206712,-1.290810831468579,0.7469538642891566,-0.7722379464065471,-0.7828371849281098,-0.7157909433349646,1.0350233315650033,0.34197577939435325,-0.20965832848228794,0.33295144312351205],\"type\":\"histogram\"},{\"histfunc\":\"count\",\"histnorm\":\"\",\"marker\":{\"color\":\"rgba(48, 144, 84, 1.0)\",\"line\":{\"color\":\"#505050\",\"width\":1.3}},\"name\":\"C\",\"nbinsx\":50,\"opacity\":0.8,\"orientation\":\"v\",\"x\":[-0.03871432534083431,0.8115707952131627,-0.17665423819459455,1.3466930613339523,-0.7096242874361512,0.5827954368056582,0.46518279753224095,-1.5660683477890591,-0.33199610826936693,-0.4744363313695482,1.4711440122729522,-0.003955344986920965,0.0562545380152191,0.15362277115179548,-0.36353528708391786,-0.012124866275137487,-0.20009491093416557,0.9614757069810966,0.7697978672912913,-0.23742915591891228,0.9725222749061871,0.41582536826645344,-1.0625242653194664,-0.7900579467789591,-0.6818934981943373,-0.13917048218982198,-0.3541996772670713,-0.8213352921077302,-0.07126063095007504,-0.26033422049286276,-0.5289646963018059,-0.43873497104461107,-0.45044738503422543,0.7478128184341659,0.6641194392583254,-0.979094314437018,-1.119399923453585,-1.5594785503686877,0.7599857788414909,-1.9097517568392404,-1.9468678465506883,0.5218375682681676,-1.0396394039937231,1.1276287199659947,-1.184342666394064,0.022131779564743076,-0.3201532437258341,-0.19702044383341424,-0.3758894766712151,0.05237384319038519,1.5172743804134299,2.4247879322619643,-0.9755230759676465,1.012608550719346,-1.290639386572514,-0.17154180805176894,0.7087889536846921,0.16864636263787605,-0.1312296598447758,0.7305408215857765,-1.3689031206003062,0.22090233284189276,1.3597780697136148,0.9944818070429114,0.6964499854986963,0.6745445328562419,-0.6662469380254723,-1.0174720887610438,0.2300492223012016,-0.036954874906627216,-0.726688304201755,-1.0211999418778872,1.0250471207567862,0.21183444445887054,0.37261079372522277,0.5822324112944044,-0.22929439516700795,0.2480386641167231,0.5643644796350337,0.9750637011146529,-0.18448805836167542,1.0717767289630435,2.0980105239450886,0.38372361927407656,-0.004206138482686182,-0.13370915390265514,0.16589187268661165,0.47628847080812187,0.704925336787344,0.12372473894611717,0.15210545578859208,-0.9406035775255597,-0.226907080030317,0.2499324277887329,-1.5170304489877942,1.2639490310851944,-0.516687512771716,2.305904708755523,-1.3952138991015384,0.630778993152211],\"type\":\"histogram\"},{\"histfunc\":\"count\",\"histnorm\":\"\",\"marker\":{\"color\":\"rgba(98, 98, 222, 1.0)\",\"line\":{\"color\":\"#505050\",\"width\":1.3}},\"name\":\"D\",\"nbinsx\":50,\"opacity\":0.8,\"orientation\":\"v\",\"x\":[-0.2610754490700943,-0.31274259932016485,-0.05195486783740825,-0.6363720505501187,0.26403720932684455,-0.670878971050256,0.35306264868315396,-1.4766036084490375,-1.0570360760952613,-0.5716289462859565,0.5996025660857952,0.6669472548117814,-0.20190710037508552,0.6591484959562992,0.3007018794461643,-2.3269309002298684,-0.45564726513007425,0.31412461514473483,1.5775316971860345,-0.20816830651970206,1.0992586180529906,1.2482324665607225,0.5963441305128984,0.6759383135148479,-0.31391325666451225,1.20331051531392,-1.1189113149477334,0.04340009025224424,-0.5873078097584103,-1.7395764773201399,1.7318829844673942,-1.8582286156354608,0.2102896767181078,0.036038219215623425,1.7315528329827625,-0.23751896821776966,-1.2619041772231365,-0.4209939529770629,0.6444023091948922,-0.12611657156977105,-0.8679107790133433,-1.2941016753923553,0.14594471207322482,-1.0981622210575677,-0.08624722509148783,-0.5531726942858656,1.3258006005289427,-0.5239864957809007,0.09995128771691131,2.10208730930389,-0.6752478145794528,-0.3840445714707245,-0.1372520446980467,0.3886173501207647,1.2332964234722699,1.4381637163220384,-0.25764043429119016,-0.9842129074651307,-0.13624389171313364,-1.2929703628833762,-0.21066150761967375,-1.0517433412117014,0.12062324844287063,1.2927129194575222,-0.7835829494349476,-0.7570704661624947,-1.161275272484911,-0.6580589800179951,0.4574163292136516,0.9282633619209005,1.2361508560233534,1.6358461396414072,-0.3275027468944334,0.4715100581108882,0.1900867796549248,0.9503595438312736,0.2846599033154163,0.7838010808747881,-0.6215426494588088,-2.5585283098605864,2.792906821685706,-0.21163724717237037,-0.799844955740187,-0.12841497548761696,1.643525322798787,0.6669179707736347,-2.071559206824266,0.8811338533173473,-2.0193879616140107,-1.9139249417279494,0.9818762536192873,-0.14457914752721937,-0.1019202571490361,-0.10167892581764211,1.2887099889784408,0.7911773663583078,-1.0221485430858486,-0.47387097215670204,-0.20350765600332388,-0.13150023481557147],\"type\":\"histogram\"}],                        {\"barmode\":\"overlay\",\"legend\":{\"bgcolor\":\"#F2F3F7\",\"font\":{\"color\":\"#505050\"}},\"paper_bgcolor\":\"#F2F3F7\",\"plot_bgcolor\":\"#F2F3F7\",\"template\":{\"data\":{\"barpolar\":[{\"marker\":{\"line\":{\"color\":\"#E5ECF6\",\"width\":0.5},\"pattern\":{\"fillmode\":\"overlay\",\"size\":10,\"solidity\":0.2}},\"type\":\"barpolar\"}],\"bar\":[{\"error_x\":{\"color\":\"#2a3f5f\"},\"error_y\":{\"color\":\"#2a3f5f\"},\"marker\":{\"line\":{\"color\":\"#E5ECF6\",\"width\":0.5},\"pattern\":{\"fillmode\":\"overlay\",\"size\":10,\"solidity\":0.2}},\"type\":\"bar\"}],\"carpet\":[{\"aaxis\":{\"endlinecolor\":\"#2a3f5f\",\"gridcolor\":\"white\",\"linecolor\":\"white\",\"minorgridcolor\":\"white\",\"startlinecolor\":\"#2a3f5f\"},\"baxis\":{\"endlinecolor\":\"#2a3f5f\",\"gridcolor\":\"white\",\"linecolor\":\"white\",\"minorgridcolor\":\"white\",\"startlinecolor\":\"#2a3f5f\"},\"type\":\"carpet\"}],\"choropleth\":[{\"colorbar\":{\"outlinewidth\":0,\"ticks\":\"\"},\"type\":\"choropleth\"}],\"contourcarpet\":[{\"colorbar\":{\"outlinewidth\":0,\"ticks\":\"\"},\"type\":\"contourcarpet\"}],\"contour\":[{\"colorbar\":{\"outlinewidth\":0,\"ticks\":\"\"},\"colorscale\":[[0.0,\"#0d0887\"],[0.1111111111111111,\"#46039f\"],[0.2222222222222222,\"#7201a8\"],[0.3333333333333333,\"#9c179e\"],[0.4444444444444444,\"#bd3786\"],[0.5555555555555556,\"#d8576b\"],[0.6666666666666666,\"#ed7953\"],[0.7777777777777778,\"#fb9f3a\"],[0.8888888888888888,\"#fdca26\"],[1.0,\"#f0f921\"]],\"type\":\"contour\"}],\"heatmapgl\":[{\"colorbar\":{\"outlinewidth\":0,\"ticks\":\"\"},\"colorscale\":[[0.0,\"#0d0887\"],[0.1111111111111111,\"#46039f\"],[0.2222222222222222,\"#7201a8\"],[0.3333333333333333,\"#9c179e\"],[0.4444444444444444,\"#bd3786\"],[0.5555555555555556,\"#d8576b\"],[0.6666666666666666,\"#ed7953\"],[0.7777777777777778,\"#fb9f3a\"],[0.8888888888888888,\"#fdca26\"],[1.0,\"#f0f921\"]],\"type\":\"heatmapgl\"}],\"heatmap\":[{\"colorbar\":{\"outlinewidth\":0,\"ticks\":\"\"},\"colorscale\":[[0.0,\"#0d0887\"],[0.1111111111111111,\"#46039f\"],[0.2222222222222222,\"#7201a8\"],[0.3333333333333333,\"#9c179e\"],[0.4444444444444444,\"#bd3786\"],[0.5555555555555556,\"#d8576b\"],[0.6666666666666666,\"#ed7953\"],[0.7777777777777778,\"#fb9f3a\"],[0.8888888888888888,\"#fdca26\"],[1.0,\"#f0f921\"]],\"type\":\"heatmap\"}],\"histogram2dcontour\":[{\"colorbar\":{\"outlinewidth\":0,\"ticks\":\"\"},\"colorscale\":[[0.0,\"#0d0887\"],[0.1111111111111111,\"#46039f\"],[0.2222222222222222,\"#7201a8\"],[0.3333333333333333,\"#9c179e\"],[0.4444444444444444,\"#bd3786\"],[0.5555555555555556,\"#d8576b\"],[0.6666666666666666,\"#ed7953\"],[0.7777777777777778,\"#fb9f3a\"],[0.8888888888888888,\"#fdca26\"],[1.0,\"#f0f921\"]],\"type\":\"histogram2dcontour\"}],\"histogram2d\":[{\"colorbar\":{\"outlinewidth\":0,\"ticks\":\"\"},\"colorscale\":[[0.0,\"#0d0887\"],[0.1111111111111111,\"#46039f\"],[0.2222222222222222,\"#7201a8\"],[0.3333333333333333,\"#9c179e\"],[0.4444444444444444,\"#bd3786\"],[0.5555555555555556,\"#d8576b\"],[0.6666666666666666,\"#ed7953\"],[0.7777777777777778,\"#fb9f3a\"],[0.8888888888888888,\"#fdca26\"],[1.0,\"#f0f921\"]],\"type\":\"histogram2d\"}],\"histogram\":[{\"marker\":{\"pattern\":{\"fillmode\":\"overlay\",\"size\":10,\"solidity\":0.2}},\"type\":\"histogram\"}],\"mesh3d\":[{\"colorbar\":{\"outlinewidth\":0,\"ticks\":\"\"},\"type\":\"mesh3d\"}],\"parcoords\":[{\"line\":{\"colorbar\":{\"outlinewidth\":0,\"ticks\":\"\"}},\"type\":\"parcoords\"}],\"pie\":[{\"automargin\":true,\"type\":\"pie\"}],\"scatter3d\":[{\"line\":{\"colorbar\":{\"outlinewidth\":0,\"ticks\":\"\"}},\"marker\":{\"colorbar\":{\"outlinewidth\":0,\"ticks\":\"\"}},\"type\":\"scatter3d\"}],\"scattercarpet\":[{\"marker\":{\"colorbar\":{\"outlinewidth\":0,\"ticks\":\"\"}},\"type\":\"scattercarpet\"}],\"scattergeo\":[{\"marker\":{\"colorbar\":{\"outlinewidth\":0,\"ticks\":\"\"}},\"type\":\"scattergeo\"}],\"scattergl\":[{\"marker\":{\"colorbar\":{\"outlinewidth\":0,\"ticks\":\"\"}},\"type\":\"scattergl\"}],\"scattermapbox\":[{\"marker\":{\"colorbar\":{\"outlinewidth\":0,\"ticks\":\"\"}},\"type\":\"scattermapbox\"}],\"scatterpolargl\":[{\"marker\":{\"colorbar\":{\"outlinewidth\":0,\"ticks\":\"\"}},\"type\":\"scatterpolargl\"}],\"scatterpolar\":[{\"marker\":{\"colorbar\":{\"outlinewidth\":0,\"ticks\":\"\"}},\"type\":\"scatterpolar\"}],\"scatter\":[{\"marker\":{\"colorbar\":{\"outlinewidth\":0,\"ticks\":\"\"}},\"type\":\"scatter\"}],\"scatterternary\":[{\"marker\":{\"colorbar\":{\"outlinewidth\":0,\"ticks\":\"\"}},\"type\":\"scatterternary\"}],\"surface\":[{\"colorbar\":{\"outlinewidth\":0,\"ticks\":\"\"},\"colorscale\":[[0.0,\"#0d0887\"],[0.1111111111111111,\"#46039f\"],[0.2222222222222222,\"#7201a8\"],[0.3333333333333333,\"#9c179e\"],[0.4444444444444444,\"#bd3786\"],[0.5555555555555556,\"#d8576b\"],[0.6666666666666666,\"#ed7953\"],[0.7777777777777778,\"#fb9f3a\"],[0.8888888888888888,\"#fdca26\"],[1.0,\"#f0f921\"]],\"type\":\"surface\"}],\"table\":[{\"cells\":{\"fill\":{\"color\":\"#EBF0F8\"},\"line\":{\"color\":\"white\"}},\"header\":{\"fill\":{\"color\":\"#C8D4E3\"},\"line\":{\"color\":\"white\"}},\"type\":\"table\"}]},\"layout\":{\"annotationdefaults\":{\"arrowcolor\":\"#2a3f5f\",\"arrowhead\":0,\"arrowwidth\":1},\"autotypenumbers\":\"strict\",\"coloraxis\":{\"colorbar\":{\"outlinewidth\":0,\"ticks\":\"\"}},\"colorscale\":{\"diverging\":[[0,\"#8e0152\"],[0.1,\"#c51b7d\"],[0.2,\"#de77ae\"],[0.3,\"#f1b6da\"],[0.4,\"#fde0ef\"],[0.5,\"#f7f7f7\"],[0.6,\"#e6f5d0\"],[0.7,\"#b8e186\"],[0.8,\"#7fbc41\"],[0.9,\"#4d9221\"],[1,\"#276419\"]],\"sequential\":[[0.0,\"#0d0887\"],[0.1111111111111111,\"#46039f\"],[0.2222222222222222,\"#7201a8\"],[0.3333333333333333,\"#9c179e\"],[0.4444444444444444,\"#bd3786\"],[0.5555555555555556,\"#d8576b\"],[0.6666666666666666,\"#ed7953\"],[0.7777777777777778,\"#fb9f3a\"],[0.8888888888888888,\"#fdca26\"],[1.0,\"#f0f921\"]],\"sequentialminus\":[[0.0,\"#0d0887\"],[0.1111111111111111,\"#46039f\"],[0.2222222222222222,\"#7201a8\"],[0.3333333333333333,\"#9c179e\"],[0.4444444444444444,\"#bd3786\"],[0.5555555555555556,\"#d8576b\"],[0.6666666666666666,\"#ed7953\"],[0.7777777777777778,\"#fb9f3a\"],[0.8888888888888888,\"#fdca26\"],[1.0,\"#f0f921\"]]},\"colorway\":[\"#636efa\",\"#EF553B\",\"#00cc96\",\"#ab63fa\",\"#FFA15A\",\"#19d3f3\",\"#FF6692\",\"#B6E880\",\"#FF97FF\",\"#FECB52\"],\"font\":{\"color\":\"#2a3f5f\"},\"geo\":{\"bgcolor\":\"white\",\"lakecolor\":\"white\",\"landcolor\":\"#E5ECF6\",\"showlakes\":true,\"showland\":true,\"subunitcolor\":\"white\"},\"hoverlabel\":{\"align\":\"left\"},\"hovermode\":\"closest\",\"mapbox\":{\"style\":\"light\"},\"paper_bgcolor\":\"white\",\"plot_bgcolor\":\"#E5ECF6\",\"polar\":{\"angularaxis\":{\"gridcolor\":\"white\",\"linecolor\":\"white\",\"ticks\":\"\"},\"bgcolor\":\"#E5ECF6\",\"radialaxis\":{\"gridcolor\":\"white\",\"linecolor\":\"white\",\"ticks\":\"\"}},\"scene\":{\"xaxis\":{\"backgroundcolor\":\"#E5ECF6\",\"gridcolor\":\"white\",\"gridwidth\":2,\"linecolor\":\"white\",\"showbackground\":true,\"ticks\":\"\",\"zerolinecolor\":\"white\"},\"yaxis\":{\"backgroundcolor\":\"#E5ECF6\",\"gridcolor\":\"white\",\"gridwidth\":2,\"linecolor\":\"white\",\"showbackground\":true,\"ticks\":\"\",\"zerolinecolor\":\"white\"},\"zaxis\":{\"backgroundcolor\":\"#E5ECF6\",\"gridcolor\":\"white\",\"gridwidth\":2,\"linecolor\":\"white\",\"showbackground\":true,\"ticks\":\"\",\"zerolinecolor\":\"white\"}},\"shapedefaults\":{\"line\":{\"color\":\"#2a3f5f\"}},\"ternary\":{\"aaxis\":{\"gridcolor\":\"white\",\"linecolor\":\"white\",\"ticks\":\"\"},\"baxis\":{\"gridcolor\":\"white\",\"linecolor\":\"white\",\"ticks\":\"\"},\"bgcolor\":\"#E5ECF6\",\"caxis\":{\"gridcolor\":\"white\",\"linecolor\":\"white\",\"ticks\":\"\"}},\"title\":{\"x\":0.05},\"xaxis\":{\"automargin\":true,\"gridcolor\":\"white\",\"linecolor\":\"white\",\"ticks\":\"\",\"title\":{\"standoff\":15},\"zerolinecolor\":\"white\",\"zerolinewidth\":2},\"yaxis\":{\"automargin\":true,\"gridcolor\":\"white\",\"linecolor\":\"white\",\"ticks\":\"\",\"title\":{\"standoff\":15},\"zerolinecolor\":\"white\",\"zerolinewidth\":2}}},\"title\":{\"font\":{\"color\":\"#484848\"},\"text\":\"Histogram\"},\"xaxis\":{\"gridcolor\":\"#E1E5ED\",\"showgrid\":true,\"tickfont\":{\"color\":\"#505050\"},\"title\":{\"font\":{\"color\":\"#505050\"},\"text\":\"X axis\"},\"zerolinecolor\":\"#E1E5ED\"},\"yaxis\":{\"gridcolor\":\"#E1E5ED\",\"showgrid\":true,\"tickfont\":{\"color\":\"#505050\"},\"title\":{\"font\":{\"color\":\"#505050\"},\"text\":\"Y axis\"},\"zerolinecolor\":\"#E1E5ED\"}},                        {\"showLink\": true, \"linkText\": \"Export to plot.ly\", \"plotlyServerURL\": \"https://plot.ly\", \"responsive\": true}                    ).then(function(){\n",
       "                            \n",
       "var gd = document.getElementById('b83c243d-19c7-49ac-8216-c0a8794f14fc');\n",
       "var x = new MutationObserver(function (mutations, observer) {{\n",
       "        var display = window.getComputedStyle(gd).display;\n",
       "        if (!display || display === 'none') {{\n",
       "            console.log([gd, 'removed!']);\n",
       "            Plotly.purge(gd);\n",
       "            observer.disconnect();\n",
       "        }}\n",
       "}});\n",
       "\n",
       "// Listen for the removal of the full notebook cells\n",
       "var notebookContainer = gd.closest('#notebook-container');\n",
       "if (notebookContainer) {{\n",
       "    x.observe(notebookContainer, {childList: true});\n",
       "}}\n",
       "\n",
       "// Listen for the clearing of the current output cell\n",
       "var outputEl = gd.closest('.output');\n",
       "if (outputEl) {{\n",
       "    x.observe(outputEl, {childList: true});\n",
       "}}\n",
       "\n",
       "                        })                };                });            </script>        </div>"
      ]
     },
     "metadata": {},
     "output_type": "display_data"
    }
   ],
   "source": [
    "df.iplot(kind='hist',xTitle='X axis',yTitle = 'Y axis',title='Histogram',bins=50,theme='polar')"
   ]
  },
  {
   "cell_type": "markdown",
   "metadata": {},
   "source": [
    "## Spread"
   ]
  },
  {
   "cell_type": "code",
   "execution_count": 38,
   "metadata": {
    "ExecuteTime": {
     "end_time": "2019-05-06T16:55:41.892085Z",
     "start_time": "2019-05-06T16:55:41.884107Z"
    }
   },
   "outputs": [
    {
     "data": {
      "text/html": [
       "<div>\n",
       "<style scoped>\n",
       "    .dataframe tbody tr th:only-of-type {\n",
       "        vertical-align: middle;\n",
       "    }\n",
       "\n",
       "    .dataframe tbody tr th {\n",
       "        vertical-align: top;\n",
       "    }\n",
       "\n",
       "    .dataframe thead th {\n",
       "        text-align: right;\n",
       "    }\n",
       "</style>\n",
       "<table border=\"1\" class=\"dataframe\">\n",
       "  <thead>\n",
       "    <tr style=\"text-align: right;\">\n",
       "      <th></th>\n",
       "      <th>A</th>\n",
       "      <th>B</th>\n",
       "    </tr>\n",
       "  </thead>\n",
       "  <tbody>\n",
       "    <tr>\n",
       "      <th>0</th>\n",
       "      <td>3.362583</td>\n",
       "      <td>-0.098700</td>\n",
       "    </tr>\n",
       "    <tr>\n",
       "      <th>1</th>\n",
       "      <td>-0.688562</td>\n",
       "      <td>2.037267</td>\n",
       "    </tr>\n",
       "    <tr>\n",
       "      <th>2</th>\n",
       "      <td>0.514995</td>\n",
       "      <td>1.439483</td>\n",
       "    </tr>\n",
       "    <tr>\n",
       "      <th>3</th>\n",
       "      <td>-0.497660</td>\n",
       "      <td>1.869713</td>\n",
       "    </tr>\n",
       "    <tr>\n",
       "      <th>4</th>\n",
       "      <td>1.312918</td>\n",
       "      <td>-0.554900</td>\n",
       "    </tr>\n",
       "  </tbody>\n",
       "</table>\n",
       "</div>"
      ],
      "text/plain": [
       "          A         B\n",
       "0  3.362583 -0.098700\n",
       "1 -0.688562  2.037267\n",
       "2  0.514995  1.439483\n",
       "3 -0.497660  1.869713\n",
       "4  1.312918 -0.554900"
      ]
     },
     "execution_count": 38,
     "metadata": {},
     "output_type": "execute_result"
    }
   ],
   "source": [
    "df[['A','B']].head()"
   ]
  },
  {
   "cell_type": "code",
   "execution_count": 39,
   "metadata": {
    "ExecuteTime": {
     "end_time": "2019-05-06T16:55:42.053692Z",
     "start_time": "2019-05-06T16:55:41.941951Z"
    }
   },
   "outputs": [
    {
     "name": "stderr",
     "output_type": "stream",
     "text": [
      "c:\\users\\rishabh\\appdata\\local\\programs\\python\\python38-32\\lib\\site-packages\\cufflinks\\plotlytools.py:849: FutureWarning:\n",
      "\n",
      "The pandas.np module is deprecated and will be removed from pandas in a future version. Import numpy directly instead\n",
      "\n",
      "c:\\users\\rishabh\\appdata\\local\\programs\\python\\python38-32\\lib\\site-packages\\cufflinks\\plotlytools.py:850: FutureWarning:\n",
      "\n",
      "The pandas.np module is deprecated and will be removed from pandas in a future version. Import numpy directly instead\n",
      "\n"
     ]
    },
    {
     "data": {
      "application/vnd.plotly.v1+json": {
       "config": {
        "linkText": "Export to plot.ly",
        "plotlyServerURL": "https://plot.ly",
        "showLink": true
       },
       "data": [
        {
         "line": {
          "color": "rgba(255, 153, 51, 1.0)",
          "dash": "solid",
          "shape": "linear",
          "width": 1.3
         },
         "mode": "lines",
         "name": "A",
         "text": "",
         "type": "scatter",
         "x": [
          0,
          1,
          2,
          3,
          4,
          5,
          6,
          7,
          8,
          9,
          10,
          11,
          12,
          13,
          14,
          15,
          16,
          17,
          18,
          19,
          20,
          21,
          22,
          23,
          24,
          25,
          26,
          27,
          28,
          29,
          30,
          31,
          32,
          33,
          34,
          35,
          36,
          37,
          38,
          39,
          40,
          41,
          42,
          43,
          44,
          45,
          46,
          47,
          48,
          49,
          50,
          51,
          52,
          53,
          54,
          55,
          56,
          57,
          58,
          59,
          60,
          61,
          62,
          63,
          64,
          65,
          66,
          67,
          68,
          69,
          70,
          71,
          72,
          73,
          74,
          75,
          76,
          77,
          78,
          79,
          80,
          81,
          82,
          83,
          84,
          85,
          86,
          87,
          88,
          89,
          90,
          91,
          92,
          93,
          94,
          95,
          96,
          97,
          98,
          99
         ],
         "y": [
          3.3625825147031634,
          -0.6885621495157169,
          0.5149951992086972,
          -0.4976600607971672,
          1.3129178129369143,
          1.259037760305938,
          -0.8205591484786454,
          -0.2888956899883146,
          -0.09602816876888236,
          -0.9613950050487399,
          0.19756992435357082,
          -2.010039225046455,
          -0.7479232977395808,
          1.947999686378811,
          -1.300068284850122,
          0.8562782186572203,
          -0.8554492701360895,
          -0.4206993361270417,
          0.17322463597602866,
          -0.47160211461434376,
          0.565677357194077,
          -0.6594632474857488,
          1.7551221205900165,
          0.7357358194208311,
          -1.1591709602449005,
          -0.05419091582379508,
          -0.36257185525324137,
          1.4349669783777106,
          -0.5661528981377684,
          -0.407032366454418,
          0.22755126025017564,
          0.8257857482311864,
          0.27076051378642957,
          -0.46987215853669007,
          -0.6260892978035598,
          -0.14422154840098403,
          0.06729047029481175,
          -0.7538901577971123,
          -0.16372387540641004,
          -1.5306935620588862,
          1.7378715409320646,
          1.8728785308476077,
          -0.22596064971310095,
          0.19265357626344148,
          1.3095974819986245,
          -0.8467226757105627,
          -0.47588441755457705,
          0.8436192849298026,
          -1.0696497054771597,
          -0.29246972729030885,
          -0.5072696949324063,
          -1.804060391633852,
          0.41463973873286825,
          -0.06065342496772562,
          -1.2132110689335833,
          -0.1869364025887339,
          0.7239663414003534,
          -0.03198459252341648,
          0.9917197143234533,
          0.4124466650325076,
          -0.6198057419680839,
          -0.27086068891135073,
          -1.6085151157707147,
          -0.5886897832373408,
          -2.03889655784642,
          -0.08269100136583725,
          -0.2998182776646363,
          0.7537301596831394,
          -0.5572938977691413,
          0.2816574459013314,
          0.12511549492515286,
          -1.1520414977821023,
          -1.6077418183548926,
          0.12518543876338792,
          -0.17240992239466557,
          -0.29687603356526354,
          -0.538488421711546,
          1.011892155339132,
          0.5242967165890116,
          0.37788940477311916,
          1.3818585203086495,
          1.3322459158616347,
          1.3491805785283302,
          0.260837473417611,
          0.9770174853395498,
          -0.417469144514007,
          0.2532052106744681,
          -1.418974713556114,
          -1.304961959687015,
          -0.7850198786305627,
          -2.637960154783843,
          -0.702041364600879,
          0.2929621979386714,
          -0.31570510433110843,
          -0.2629023198827632,
          0.19022263715975085,
          0.6217882134487541,
          -0.2991271853655061,
          1.0088878670316135,
          -1.6952584120476268
         ]
        },
        {
         "line": {
          "color": "rgba(55, 128, 191, 1.0)",
          "dash": "solid",
          "shape": "linear",
          "width": 1.3
         },
         "mode": "lines",
         "name": "B",
         "text": "",
         "type": "scatter",
         "x": [
          0,
          1,
          2,
          3,
          4,
          5,
          6,
          7,
          8,
          9,
          10,
          11,
          12,
          13,
          14,
          15,
          16,
          17,
          18,
          19,
          20,
          21,
          22,
          23,
          24,
          25,
          26,
          27,
          28,
          29,
          30,
          31,
          32,
          33,
          34,
          35,
          36,
          37,
          38,
          39,
          40,
          41,
          42,
          43,
          44,
          45,
          46,
          47,
          48,
          49,
          50,
          51,
          52,
          53,
          54,
          55,
          56,
          57,
          58,
          59,
          60,
          61,
          62,
          63,
          64,
          65,
          66,
          67,
          68,
          69,
          70,
          71,
          72,
          73,
          74,
          75,
          76,
          77,
          78,
          79,
          80,
          81,
          82,
          83,
          84,
          85,
          86,
          87,
          88,
          89,
          90,
          91,
          92,
          93,
          94,
          95,
          96,
          97,
          98,
          99
         ],
         "y": [
          -0.09869980248667033,
          2.03726652741454,
          1.4394828771486599,
          1.8697131285068431,
          -0.5548997790378658,
          -0.6217206439491961,
          -0.689074198736593,
          -0.06741428706327046,
          1.7098599778074983,
          -0.4176920959973648,
          2.168907375948452,
          -0.4880158437300923,
          0.27498240917764155,
          0.08170163057623107,
          -0.03384861897299663,
          1.647092749347639,
          0.15860105398020632,
          0.059442598251813514,
          -0.5762077458563473,
          1.4150104934559853,
          -0.5749855002518763,
          -0.546415696315059,
          -1.5240091166445844,
          -0.9241042955106828,
          -1.9699502760010996,
          -0.6245600967739037,
          0.46518656287393384,
          -0.5218551564845291,
          0.2791729390951336,
          0.38578951337570555,
          0.39588598472909636,
          -0.7255379856229528,
          -0.56042666640254,
          -0.6027380454238817,
          0.06544925823079883,
          0.0977013071597415,
          0.2884822951944402,
          0.01713950529145413,
          -0.6866144000900855,
          -0.7898794564866739,
          0.10855608206827938,
          -0.22219683727590325,
          0.8283900308964371,
          -0.22510174689080045,
          0.08635559723721953,
          0.5335960581183034,
          0.37052671554643235,
          -0.570615537939435,
          0.2934992940562579,
          0.35328262839809565,
          -0.504249051160435,
          -1.9841088941570533,
          0.16468981598788138,
          -0.457678976262291,
          -0.4458065995793777,
          -0.6009038322071909,
          1.081394434790141,
          -0.32228195363254253,
          -0.2734324040026059,
          -0.11560060379954049,
          -1.145759112427046,
          -0.11539531430117402,
          0.32766295593105765,
          -0.373990881876142,
          -1.8553040836366972,
          0.41643076492351705,
          0.8492089009344047,
          -0.7965102060113378,
          2.036714812577297,
          0.21979935049899096,
          -1.1294971239943814,
          0.15636794398823822,
          0.19528867658492846,
          -0.664078836346772,
          0.29684278242568446,
          -0.8367625226528052,
          0.7616986595793469,
          1.855823984151398,
          -1.133439152106387,
          -0.8195629205557495,
          -0.46718347774595076,
          0.9486061350544259,
          -0.07737115781296872,
          -0.42174556204453584,
          1.6477605761097094,
          0.382673801536673,
          1.0452339650064126,
          -1.2834000440096809,
          0.8211643104999973,
          2.0187466797608917,
          0.03507192302206712,
          -1.290810831468579,
          0.7469538642891566,
          -0.7722379464065471,
          -0.7828371849281098,
          -0.7157909433349646,
          1.0350233315650033,
          0.34197577939435325,
          -0.20965832848228794,
          0.33295144312351205
         ]
        },
        {
         "connectgaps": false,
         "fill": "tozeroy",
         "line": {
          "color": "green",
          "dash": "solid",
          "shape": "linear",
          "width": 0.5
         },
         "mode": "lines",
         "name": "Spread",
         "showlegend": false,
         "type": "scatter",
         "x": [
          0,
          1,
          2,
          3,
          4,
          5,
          6,
          7,
          8,
          9,
          10,
          11,
          12,
          13,
          14,
          15,
          16,
          17,
          18,
          19,
          20,
          21,
          22,
          23,
          24,
          25,
          26,
          27,
          28,
          29,
          30,
          31,
          32,
          33,
          34,
          35,
          36,
          37,
          38,
          39,
          40,
          41,
          42,
          43,
          44,
          45,
          46,
          47,
          48,
          49,
          50,
          51,
          52,
          53,
          54,
          55,
          56,
          57,
          58,
          59,
          60,
          61,
          62,
          63,
          64,
          65,
          66,
          67,
          68,
          69,
          70,
          71,
          72,
          73,
          74,
          75,
          76,
          77,
          78,
          79,
          80,
          81,
          82,
          83,
          84,
          85,
          86,
          87,
          88,
          89,
          90,
          91,
          92,
          93,
          94,
          95,
          96,
          97,
          98,
          99
         ],
         "xaxis": "x2",
         "y": [
          3.4612823171898337,
          "",
          "",
          "",
          1.8678175919747801,
          1.880758404255134,
          "",
          "",
          "",
          "",
          "",
          "",
          "",
          1.86629805580258,
          "",
          "",
          "",
          "",
          0.7494323818323759,
          "",
          1.1406628574459532,
          "",
          3.279131237234601,
          1.659840114931514,
          0.8107793157561991,
          0.5703691809501086,
          "",
          1.9568221348622397,
          "",
          "",
          "",
          1.5513237338541392,
          0.8311871801889696,
          0.1328658868871916,
          "",
          "",
          "",
          "",
          0.5228905246836755,
          "",
          1.6293154588637853,
          2.095075368123511,
          "",
          0.4177553231542419,
          1.2232418847614048,
          "",
          "",
          1.4142348228692376,
          "",
          "",
          "",
          0.18004850252320126,
          0.24994992274498687,
          0.39702555129456535,
          "",
          0.413967429618457,
          "",
          0.2902973611091261,
          1.2651521183260592,
          0.5280472688320481,
          0.5259533704589622,
          "",
          "",
          "",
          "",
          "",
          "",
          1.5502403656944772,
          "",
          0.06185809540234044,
          1.2546126189195344,
          "",
          "",
          0.78926427511016,
          "",
          0.5398864890875417,
          "",
          "",
          1.6577358686953985,
          1.1974523253288687,
          1.8490419980546002,
          0.38363978080720873,
          1.426551736341299,
          0.6825830354621468,
          "",
          "",
          "",
          "",
          "",
          "",
          "",
          0.5887694668676999,
          "",
          0.45653284207543865,
          0.5199348650453466,
          0.9060135804947155,
          "",
          "",
          1.2185461955139014,
          ""
         ],
         "yaxis": "y2"
        },
        {
         "connectgaps": false,
         "fill": "tozeroy",
         "line": {
          "color": "red",
          "dash": "solid",
          "shape": "linear",
          "width": 0.5
         },
         "mode": "lines",
         "name": "Spread",
         "showlegend": false,
         "type": "scatter",
         "x": [
          0,
          1,
          2,
          3,
          4,
          5,
          6,
          7,
          8,
          9,
          10,
          11,
          12,
          13,
          14,
          15,
          16,
          17,
          18,
          19,
          20,
          21,
          22,
          23,
          24,
          25,
          26,
          27,
          28,
          29,
          30,
          31,
          32,
          33,
          34,
          35,
          36,
          37,
          38,
          39,
          40,
          41,
          42,
          43,
          44,
          45,
          46,
          47,
          48,
          49,
          50,
          51,
          52,
          53,
          54,
          55,
          56,
          57,
          58,
          59,
          60,
          61,
          62,
          63,
          64,
          65,
          66,
          67,
          68,
          69,
          70,
          71,
          72,
          73,
          74,
          75,
          76,
          77,
          78,
          79,
          80,
          81,
          82,
          83,
          84,
          85,
          86,
          87,
          88,
          89,
          90,
          91,
          92,
          93,
          94,
          95,
          96,
          97,
          98,
          99
         ],
         "xaxis": "x2",
         "y": [
          "",
          -2.7258286769302567,
          -0.9244876779399627,
          -2.3673731893040104,
          "",
          "",
          -0.13148494974205238,
          -0.22148140292504415,
          -1.8058881465763807,
          -0.5437029090513751,
          -1.971337451594881,
          -1.5220233813163628,
          -1.0229057069172223,
          "",
          -1.2662196658771252,
          -0.7908145306904187,
          -1.014050324116296,
          -0.4801419343788552,
          "",
          -1.8866126080703292,
          "",
          -0.11304755117068976,
          "",
          "",
          "",
          "",
          -0.8277584181271752,
          "",
          -0.845325837232902,
          -0.7928218798301235,
          -0.16833472447892073,
          "",
          "",
          "",
          -0.6915385560343587,
          -0.2419228555607255,
          -0.22119182489962844,
          -0.7710296630885665,
          "",
          -0.7408141055722123,
          "",
          "",
          -1.0543506806095382,
          "",
          "",
          -1.380318733828866,
          -0.8464111331010093,
          "",
          -1.3631489995334176,
          -0.6457523556884045,
          -0.0030206437719713097,
          "",
          "",
          "",
          -0.7674044693542057,
          "",
          -0.35742809338978754,
          "",
          "",
          "",
          "",
          -0.15546537461017673,
          -1.9361780717017725,
          -0.2146989013611988,
          -0.1835924742097228,
          -0.4991217662893543,
          -1.1490271785990411,
          "",
          -2.594008710346438,
          "",
          "",
          -1.3084094417703405,
          -1.803030494939821,
          "",
          -0.46925270482035003,
          "",
          -1.3001870812908929,
          -0.8439318288122659,
          "",
          "",
          "",
          "",
          "",
          "",
          -0.6707430907701596,
          -0.80014294605068,
          -0.7920287543319445,
          -0.13557466954643305,
          -2.1261262701870125,
          -2.8037665583914544,
          -2.6730320778059102,
          "",
          -0.45399166635048516,
          "",
          "",
          "",
          -0.41323511811624913,
          -0.6411029647598594,
          "",
          -2.0282098551711387
         ],
         "yaxis": "y2"
        }
       ],
       "layout": {
        "hovermode": "x",
        "legend": {
         "bgcolor": "#F5F6F9",
         "font": {
          "color": "#4D5663"
         }
        },
        "paper_bgcolor": "#F5F6F9",
        "plot_bgcolor": "#F5F6F9",
        "template": {
         "data": {
          "bar": [
           {
            "error_x": {
             "color": "#2a3f5f"
            },
            "error_y": {
             "color": "#2a3f5f"
            },
            "marker": {
             "line": {
              "color": "#E5ECF6",
              "width": 0.5
             },
             "pattern": {
              "fillmode": "overlay",
              "size": 10,
              "solidity": 0.2
             }
            },
            "type": "bar"
           }
          ],
          "barpolar": [
           {
            "marker": {
             "line": {
              "color": "#E5ECF6",
              "width": 0.5
             },
             "pattern": {
              "fillmode": "overlay",
              "size": 10,
              "solidity": 0.2
             }
            },
            "type": "barpolar"
           }
          ],
          "carpet": [
           {
            "aaxis": {
             "endlinecolor": "#2a3f5f",
             "gridcolor": "white",
             "linecolor": "white",
             "minorgridcolor": "white",
             "startlinecolor": "#2a3f5f"
            },
            "baxis": {
             "endlinecolor": "#2a3f5f",
             "gridcolor": "white",
             "linecolor": "white",
             "minorgridcolor": "white",
             "startlinecolor": "#2a3f5f"
            },
            "type": "carpet"
           }
          ],
          "choropleth": [
           {
            "colorbar": {
             "outlinewidth": 0,
             "ticks": ""
            },
            "type": "choropleth"
           }
          ],
          "contour": [
           {
            "colorbar": {
             "outlinewidth": 0,
             "ticks": ""
            },
            "colorscale": [
             [
              0,
              "#0d0887"
             ],
             [
              0.1111111111111111,
              "#46039f"
             ],
             [
              0.2222222222222222,
              "#7201a8"
             ],
             [
              0.3333333333333333,
              "#9c179e"
             ],
             [
              0.4444444444444444,
              "#bd3786"
             ],
             [
              0.5555555555555556,
              "#d8576b"
             ],
             [
              0.6666666666666666,
              "#ed7953"
             ],
             [
              0.7777777777777778,
              "#fb9f3a"
             ],
             [
              0.8888888888888888,
              "#fdca26"
             ],
             [
              1,
              "#f0f921"
             ]
            ],
            "type": "contour"
           }
          ],
          "contourcarpet": [
           {
            "colorbar": {
             "outlinewidth": 0,
             "ticks": ""
            },
            "type": "contourcarpet"
           }
          ],
          "heatmap": [
           {
            "colorbar": {
             "outlinewidth": 0,
             "ticks": ""
            },
            "colorscale": [
             [
              0,
              "#0d0887"
             ],
             [
              0.1111111111111111,
              "#46039f"
             ],
             [
              0.2222222222222222,
              "#7201a8"
             ],
             [
              0.3333333333333333,
              "#9c179e"
             ],
             [
              0.4444444444444444,
              "#bd3786"
             ],
             [
              0.5555555555555556,
              "#d8576b"
             ],
             [
              0.6666666666666666,
              "#ed7953"
             ],
             [
              0.7777777777777778,
              "#fb9f3a"
             ],
             [
              0.8888888888888888,
              "#fdca26"
             ],
             [
              1,
              "#f0f921"
             ]
            ],
            "type": "heatmap"
           }
          ],
          "heatmapgl": [
           {
            "colorbar": {
             "outlinewidth": 0,
             "ticks": ""
            },
            "colorscale": [
             [
              0,
              "#0d0887"
             ],
             [
              0.1111111111111111,
              "#46039f"
             ],
             [
              0.2222222222222222,
              "#7201a8"
             ],
             [
              0.3333333333333333,
              "#9c179e"
             ],
             [
              0.4444444444444444,
              "#bd3786"
             ],
             [
              0.5555555555555556,
              "#d8576b"
             ],
             [
              0.6666666666666666,
              "#ed7953"
             ],
             [
              0.7777777777777778,
              "#fb9f3a"
             ],
             [
              0.8888888888888888,
              "#fdca26"
             ],
             [
              1,
              "#f0f921"
             ]
            ],
            "type": "heatmapgl"
           }
          ],
          "histogram": [
           {
            "marker": {
             "pattern": {
              "fillmode": "overlay",
              "size": 10,
              "solidity": 0.2
             }
            },
            "type": "histogram"
           }
          ],
          "histogram2d": [
           {
            "colorbar": {
             "outlinewidth": 0,
             "ticks": ""
            },
            "colorscale": [
             [
              0,
              "#0d0887"
             ],
             [
              0.1111111111111111,
              "#46039f"
             ],
             [
              0.2222222222222222,
              "#7201a8"
             ],
             [
              0.3333333333333333,
              "#9c179e"
             ],
             [
              0.4444444444444444,
              "#bd3786"
             ],
             [
              0.5555555555555556,
              "#d8576b"
             ],
             [
              0.6666666666666666,
              "#ed7953"
             ],
             [
              0.7777777777777778,
              "#fb9f3a"
             ],
             [
              0.8888888888888888,
              "#fdca26"
             ],
             [
              1,
              "#f0f921"
             ]
            ],
            "type": "histogram2d"
           }
          ],
          "histogram2dcontour": [
           {
            "colorbar": {
             "outlinewidth": 0,
             "ticks": ""
            },
            "colorscale": [
             [
              0,
              "#0d0887"
             ],
             [
              0.1111111111111111,
              "#46039f"
             ],
             [
              0.2222222222222222,
              "#7201a8"
             ],
             [
              0.3333333333333333,
              "#9c179e"
             ],
             [
              0.4444444444444444,
              "#bd3786"
             ],
             [
              0.5555555555555556,
              "#d8576b"
             ],
             [
              0.6666666666666666,
              "#ed7953"
             ],
             [
              0.7777777777777778,
              "#fb9f3a"
             ],
             [
              0.8888888888888888,
              "#fdca26"
             ],
             [
              1,
              "#f0f921"
             ]
            ],
            "type": "histogram2dcontour"
           }
          ],
          "mesh3d": [
           {
            "colorbar": {
             "outlinewidth": 0,
             "ticks": ""
            },
            "type": "mesh3d"
           }
          ],
          "parcoords": [
           {
            "line": {
             "colorbar": {
              "outlinewidth": 0,
              "ticks": ""
             }
            },
            "type": "parcoords"
           }
          ],
          "pie": [
           {
            "automargin": true,
            "type": "pie"
           }
          ],
          "scatter": [
           {
            "marker": {
             "colorbar": {
              "outlinewidth": 0,
              "ticks": ""
             }
            },
            "type": "scatter"
           }
          ],
          "scatter3d": [
           {
            "line": {
             "colorbar": {
              "outlinewidth": 0,
              "ticks": ""
             }
            },
            "marker": {
             "colorbar": {
              "outlinewidth": 0,
              "ticks": ""
             }
            },
            "type": "scatter3d"
           }
          ],
          "scattercarpet": [
           {
            "marker": {
             "colorbar": {
              "outlinewidth": 0,
              "ticks": ""
             }
            },
            "type": "scattercarpet"
           }
          ],
          "scattergeo": [
           {
            "marker": {
             "colorbar": {
              "outlinewidth": 0,
              "ticks": ""
             }
            },
            "type": "scattergeo"
           }
          ],
          "scattergl": [
           {
            "marker": {
             "colorbar": {
              "outlinewidth": 0,
              "ticks": ""
             }
            },
            "type": "scattergl"
           }
          ],
          "scattermapbox": [
           {
            "marker": {
             "colorbar": {
              "outlinewidth": 0,
              "ticks": ""
             }
            },
            "type": "scattermapbox"
           }
          ],
          "scatterpolar": [
           {
            "marker": {
             "colorbar": {
              "outlinewidth": 0,
              "ticks": ""
             }
            },
            "type": "scatterpolar"
           }
          ],
          "scatterpolargl": [
           {
            "marker": {
             "colorbar": {
              "outlinewidth": 0,
              "ticks": ""
             }
            },
            "type": "scatterpolargl"
           }
          ],
          "scatterternary": [
           {
            "marker": {
             "colorbar": {
              "outlinewidth": 0,
              "ticks": ""
             }
            },
            "type": "scatterternary"
           }
          ],
          "surface": [
           {
            "colorbar": {
             "outlinewidth": 0,
             "ticks": ""
            },
            "colorscale": [
             [
              0,
              "#0d0887"
             ],
             [
              0.1111111111111111,
              "#46039f"
             ],
             [
              0.2222222222222222,
              "#7201a8"
             ],
             [
              0.3333333333333333,
              "#9c179e"
             ],
             [
              0.4444444444444444,
              "#bd3786"
             ],
             [
              0.5555555555555556,
              "#d8576b"
             ],
             [
              0.6666666666666666,
              "#ed7953"
             ],
             [
              0.7777777777777778,
              "#fb9f3a"
             ],
             [
              0.8888888888888888,
              "#fdca26"
             ],
             [
              1,
              "#f0f921"
             ]
            ],
            "type": "surface"
           }
          ],
          "table": [
           {
            "cells": {
             "fill": {
              "color": "#EBF0F8"
             },
             "line": {
              "color": "white"
             }
            },
            "header": {
             "fill": {
              "color": "#C8D4E3"
             },
             "line": {
              "color": "white"
             }
            },
            "type": "table"
           }
          ]
         },
         "layout": {
          "annotationdefaults": {
           "arrowcolor": "#2a3f5f",
           "arrowhead": 0,
           "arrowwidth": 1
          },
          "autotypenumbers": "strict",
          "coloraxis": {
           "colorbar": {
            "outlinewidth": 0,
            "ticks": ""
           }
          },
          "colorscale": {
           "diverging": [
            [
             0,
             "#8e0152"
            ],
            [
             0.1,
             "#c51b7d"
            ],
            [
             0.2,
             "#de77ae"
            ],
            [
             0.3,
             "#f1b6da"
            ],
            [
             0.4,
             "#fde0ef"
            ],
            [
             0.5,
             "#f7f7f7"
            ],
            [
             0.6,
             "#e6f5d0"
            ],
            [
             0.7,
             "#b8e186"
            ],
            [
             0.8,
             "#7fbc41"
            ],
            [
             0.9,
             "#4d9221"
            ],
            [
             1,
             "#276419"
            ]
           ],
           "sequential": [
            [
             0,
             "#0d0887"
            ],
            [
             0.1111111111111111,
             "#46039f"
            ],
            [
             0.2222222222222222,
             "#7201a8"
            ],
            [
             0.3333333333333333,
             "#9c179e"
            ],
            [
             0.4444444444444444,
             "#bd3786"
            ],
            [
             0.5555555555555556,
             "#d8576b"
            ],
            [
             0.6666666666666666,
             "#ed7953"
            ],
            [
             0.7777777777777778,
             "#fb9f3a"
            ],
            [
             0.8888888888888888,
             "#fdca26"
            ],
            [
             1,
             "#f0f921"
            ]
           ],
           "sequentialminus": [
            [
             0,
             "#0d0887"
            ],
            [
             0.1111111111111111,
             "#46039f"
            ],
            [
             0.2222222222222222,
             "#7201a8"
            ],
            [
             0.3333333333333333,
             "#9c179e"
            ],
            [
             0.4444444444444444,
             "#bd3786"
            ],
            [
             0.5555555555555556,
             "#d8576b"
            ],
            [
             0.6666666666666666,
             "#ed7953"
            ],
            [
             0.7777777777777778,
             "#fb9f3a"
            ],
            [
             0.8888888888888888,
             "#fdca26"
            ],
            [
             1,
             "#f0f921"
            ]
           ]
          },
          "colorway": [
           "#636efa",
           "#EF553B",
           "#00cc96",
           "#ab63fa",
           "#FFA15A",
           "#19d3f3",
           "#FF6692",
           "#B6E880",
           "#FF97FF",
           "#FECB52"
          ],
          "font": {
           "color": "#2a3f5f"
          },
          "geo": {
           "bgcolor": "white",
           "lakecolor": "white",
           "landcolor": "#E5ECF6",
           "showlakes": true,
           "showland": true,
           "subunitcolor": "white"
          },
          "hoverlabel": {
           "align": "left"
          },
          "hovermode": "closest",
          "mapbox": {
           "style": "light"
          },
          "paper_bgcolor": "white",
          "plot_bgcolor": "#E5ECF6",
          "polar": {
           "angularaxis": {
            "gridcolor": "white",
            "linecolor": "white",
            "ticks": ""
           },
           "bgcolor": "#E5ECF6",
           "radialaxis": {
            "gridcolor": "white",
            "linecolor": "white",
            "ticks": ""
           }
          },
          "scene": {
           "xaxis": {
            "backgroundcolor": "#E5ECF6",
            "gridcolor": "white",
            "gridwidth": 2,
            "linecolor": "white",
            "showbackground": true,
            "ticks": "",
            "zerolinecolor": "white"
           },
           "yaxis": {
            "backgroundcolor": "#E5ECF6",
            "gridcolor": "white",
            "gridwidth": 2,
            "linecolor": "white",
            "showbackground": true,
            "ticks": "",
            "zerolinecolor": "white"
           },
           "zaxis": {
            "backgroundcolor": "#E5ECF6",
            "gridcolor": "white",
            "gridwidth": 2,
            "linecolor": "white",
            "showbackground": true,
            "ticks": "",
            "zerolinecolor": "white"
           }
          },
          "shapedefaults": {
           "line": {
            "color": "#2a3f5f"
           }
          },
          "ternary": {
           "aaxis": {
            "gridcolor": "white",
            "linecolor": "white",
            "ticks": ""
           },
           "baxis": {
            "gridcolor": "white",
            "linecolor": "white",
            "ticks": ""
           },
           "bgcolor": "#E5ECF6",
           "caxis": {
            "gridcolor": "white",
            "linecolor": "white",
            "ticks": ""
           }
          },
          "title": {
           "x": 0.05
          },
          "xaxis": {
           "automargin": true,
           "gridcolor": "white",
           "linecolor": "white",
           "ticks": "",
           "title": {
            "standoff": 15
           },
           "zerolinecolor": "white",
           "zerolinewidth": 2
          },
          "yaxis": {
           "automargin": true,
           "gridcolor": "white",
           "linecolor": "white",
           "ticks": "",
           "title": {
            "standoff": 15
           },
           "zerolinecolor": "white",
           "zerolinewidth": 2
          }
         }
        },
        "title": {
         "font": {
          "color": "#4D5663"
         }
        },
        "xaxis": {
         "gridcolor": "#E1E5ED",
         "showgrid": true,
         "tickfont": {
          "color": "#4D5663"
         },
         "title": {
          "font": {
           "color": "#4D5663"
          },
          "text": ""
         },
         "zerolinecolor": "#E1E5ED"
        },
        "xaxis2": {
         "anchor": "y2",
         "gridcolor": "#E1E5ED",
         "showgrid": true,
         "showticklabels": false,
         "tickfont": {
          "color": "#4D5663"
         },
         "title": {
          "font": {
           "color": "#4D5663"
          },
          "text": ""
         },
         "zerolinecolor": "#E1E5ED"
        },
        "yaxis": {
         "domain": [
          0.3,
          1
         ],
         "gridcolor": "#E1E5ED",
         "showgrid": true,
         "tickfont": {
          "color": "#4D5663"
         },
         "title": {
          "font": {
           "color": "#4D5663"
          },
          "text": ""
         },
         "zerolinecolor": "#E1E5ED"
        },
        "yaxis2": {
         "domain": [
          0,
          0.25
         ],
         "gridcolor": "#E1E5ED",
         "showgrid": true,
         "tickfont": {
          "color": "#4D5663"
         },
         "title": {
          "font": {
           "color": "#4D5663"
          },
          "text": "Spread"
         },
         "zerolinecolor": "#E1E5ED"
        }
       }
      },
      "text/html": [
       "<div>                            <div id=\"3a3c748b-9311-4482-95f3-002cf7366ae6\" class=\"plotly-graph-div\" style=\"height:525px; width:100%;\"></div>            <script type=\"text/javascript\">                require([\"plotly\"], function(Plotly) {                    window.PLOTLYENV=window.PLOTLYENV || {};\n",
       "                    window.PLOTLYENV.BASE_URL='https://plot.ly';                                    if (document.getElementById(\"3a3c748b-9311-4482-95f3-002cf7366ae6\")) {                    Plotly.newPlot(                        \"3a3c748b-9311-4482-95f3-002cf7366ae6\",                        [{\"line\":{\"color\":\"rgba(255, 153, 51, 1.0)\",\"dash\":\"solid\",\"shape\":\"linear\",\"width\":1.3},\"mode\":\"lines\",\"name\":\"A\",\"text\":\"\",\"x\":[0,1,2,3,4,5,6,7,8,9,10,11,12,13,14,15,16,17,18,19,20,21,22,23,24,25,26,27,28,29,30,31,32,33,34,35,36,37,38,39,40,41,42,43,44,45,46,47,48,49,50,51,52,53,54,55,56,57,58,59,60,61,62,63,64,65,66,67,68,69,70,71,72,73,74,75,76,77,78,79,80,81,82,83,84,85,86,87,88,89,90,91,92,93,94,95,96,97,98,99],\"y\":[3.3625825147031634,-0.6885621495157169,0.5149951992086972,-0.4976600607971672,1.3129178129369143,1.259037760305938,-0.8205591484786454,-0.2888956899883146,-0.09602816876888236,-0.9613950050487399,0.19756992435357082,-2.010039225046455,-0.7479232977395808,1.947999686378811,-1.300068284850122,0.8562782186572203,-0.8554492701360895,-0.4206993361270417,0.17322463597602866,-0.47160211461434376,0.565677357194077,-0.6594632474857488,1.7551221205900165,0.7357358194208311,-1.1591709602449005,-0.05419091582379508,-0.36257185525324137,1.4349669783777106,-0.5661528981377684,-0.407032366454418,0.22755126025017564,0.8257857482311864,0.27076051378642957,-0.46987215853669007,-0.6260892978035598,-0.14422154840098403,0.06729047029481175,-0.7538901577971123,-0.16372387540641004,-1.5306935620588862,1.7378715409320646,1.8728785308476077,-0.22596064971310095,0.19265357626344148,1.3095974819986245,-0.8467226757105627,-0.47588441755457705,0.8436192849298026,-1.0696497054771597,-0.29246972729030885,-0.5072696949324063,-1.804060391633852,0.41463973873286825,-0.06065342496772562,-1.2132110689335833,-0.1869364025887339,0.7239663414003534,-0.03198459252341648,0.9917197143234533,0.4124466650325076,-0.6198057419680839,-0.27086068891135073,-1.6085151157707147,-0.5886897832373408,-2.03889655784642,-0.08269100136583725,-0.2998182776646363,0.7537301596831394,-0.5572938977691413,0.2816574459013314,0.12511549492515286,-1.1520414977821023,-1.6077418183548926,0.12518543876338792,-0.17240992239466557,-0.29687603356526354,-0.538488421711546,1.011892155339132,0.5242967165890116,0.37788940477311916,1.3818585203086495,1.3322459158616347,1.3491805785283302,0.260837473417611,0.9770174853395498,-0.417469144514007,0.2532052106744681,-1.418974713556114,-1.304961959687015,-0.7850198786305627,-2.637960154783843,-0.702041364600879,0.2929621979386714,-0.31570510433110843,-0.2629023198827632,0.19022263715975085,0.6217882134487541,-0.2991271853655061,1.0088878670316135,-1.6952584120476268],\"type\":\"scatter\"},{\"line\":{\"color\":\"rgba(55, 128, 191, 1.0)\",\"dash\":\"solid\",\"shape\":\"linear\",\"width\":1.3},\"mode\":\"lines\",\"name\":\"B\",\"text\":\"\",\"x\":[0,1,2,3,4,5,6,7,8,9,10,11,12,13,14,15,16,17,18,19,20,21,22,23,24,25,26,27,28,29,30,31,32,33,34,35,36,37,38,39,40,41,42,43,44,45,46,47,48,49,50,51,52,53,54,55,56,57,58,59,60,61,62,63,64,65,66,67,68,69,70,71,72,73,74,75,76,77,78,79,80,81,82,83,84,85,86,87,88,89,90,91,92,93,94,95,96,97,98,99],\"y\":[-0.09869980248667033,2.03726652741454,1.4394828771486599,1.8697131285068431,-0.5548997790378658,-0.6217206439491961,-0.689074198736593,-0.06741428706327046,1.7098599778074983,-0.4176920959973648,2.168907375948452,-0.4880158437300923,0.27498240917764155,0.08170163057623107,-0.03384861897299663,1.647092749347639,0.15860105398020632,0.059442598251813514,-0.5762077458563473,1.4150104934559853,-0.5749855002518763,-0.546415696315059,-1.5240091166445844,-0.9241042955106828,-1.9699502760010996,-0.6245600967739037,0.46518656287393384,-0.5218551564845291,0.2791729390951336,0.38578951337570555,0.39588598472909636,-0.7255379856229528,-0.56042666640254,-0.6027380454238817,0.06544925823079883,0.0977013071597415,0.2884822951944402,0.01713950529145413,-0.6866144000900855,-0.7898794564866739,0.10855608206827938,-0.22219683727590325,0.8283900308964371,-0.22510174689080045,0.08635559723721953,0.5335960581183034,0.37052671554643235,-0.570615537939435,0.2934992940562579,0.35328262839809565,-0.504249051160435,-1.9841088941570533,0.16468981598788138,-0.457678976262291,-0.4458065995793777,-0.6009038322071909,1.081394434790141,-0.32228195363254253,-0.2734324040026059,-0.11560060379954049,-1.145759112427046,-0.11539531430117402,0.32766295593105765,-0.373990881876142,-1.8553040836366972,0.41643076492351705,0.8492089009344047,-0.7965102060113378,2.036714812577297,0.21979935049899096,-1.1294971239943814,0.15636794398823822,0.19528867658492846,-0.664078836346772,0.29684278242568446,-0.8367625226528052,0.7616986595793469,1.855823984151398,-1.133439152106387,-0.8195629205557495,-0.46718347774595076,0.9486061350544259,-0.07737115781296872,-0.42174556204453584,1.6477605761097094,0.382673801536673,1.0452339650064126,-1.2834000440096809,0.8211643104999973,2.0187466797608917,0.03507192302206712,-1.290810831468579,0.7469538642891566,-0.7722379464065471,-0.7828371849281098,-0.7157909433349646,1.0350233315650033,0.34197577939435325,-0.20965832848228794,0.33295144312351205],\"type\":\"scatter\"},{\"connectgaps\":false,\"fill\":\"tozeroy\",\"line\":{\"color\":\"green\",\"dash\":\"solid\",\"shape\":\"linear\",\"width\":0.5},\"mode\":\"lines\",\"name\":\"Spread\",\"showlegend\":false,\"x\":[0,1,2,3,4,5,6,7,8,9,10,11,12,13,14,15,16,17,18,19,20,21,22,23,24,25,26,27,28,29,30,31,32,33,34,35,36,37,38,39,40,41,42,43,44,45,46,47,48,49,50,51,52,53,54,55,56,57,58,59,60,61,62,63,64,65,66,67,68,69,70,71,72,73,74,75,76,77,78,79,80,81,82,83,84,85,86,87,88,89,90,91,92,93,94,95,96,97,98,99],\"xaxis\":\"x2\",\"y\":[3.4612823171898337,\"\",\"\",\"\",1.8678175919747801,1.880758404255134,\"\",\"\",\"\",\"\",\"\",\"\",\"\",1.86629805580258,\"\",\"\",\"\",\"\",0.7494323818323759,\"\",1.1406628574459532,\"\",3.279131237234601,1.659840114931514,0.8107793157561991,0.5703691809501086,\"\",1.9568221348622397,\"\",\"\",\"\",1.5513237338541392,0.8311871801889696,0.1328658868871916,\"\",\"\",\"\",\"\",0.5228905246836755,\"\",1.6293154588637853,2.095075368123511,\"\",0.4177553231542419,1.2232418847614048,\"\",\"\",1.4142348228692376,\"\",\"\",\"\",0.18004850252320126,0.24994992274498687,0.39702555129456535,\"\",0.413967429618457,\"\",0.2902973611091261,1.2651521183260592,0.5280472688320481,0.5259533704589622,\"\",\"\",\"\",\"\",\"\",\"\",1.5502403656944772,\"\",0.06185809540234044,1.2546126189195344,\"\",\"\",0.78926427511016,\"\",0.5398864890875417,\"\",\"\",1.6577358686953985,1.1974523253288687,1.8490419980546002,0.38363978080720873,1.426551736341299,0.6825830354621468,\"\",\"\",\"\",\"\",\"\",\"\",\"\",0.5887694668676999,\"\",0.45653284207543865,0.5199348650453466,0.9060135804947155,\"\",\"\",1.2185461955139014,\"\"],\"yaxis\":\"y2\",\"type\":\"scatter\"},{\"connectgaps\":false,\"fill\":\"tozeroy\",\"line\":{\"color\":\"red\",\"dash\":\"solid\",\"shape\":\"linear\",\"width\":0.5},\"mode\":\"lines\",\"name\":\"Spread\",\"showlegend\":false,\"x\":[0,1,2,3,4,5,6,7,8,9,10,11,12,13,14,15,16,17,18,19,20,21,22,23,24,25,26,27,28,29,30,31,32,33,34,35,36,37,38,39,40,41,42,43,44,45,46,47,48,49,50,51,52,53,54,55,56,57,58,59,60,61,62,63,64,65,66,67,68,69,70,71,72,73,74,75,76,77,78,79,80,81,82,83,84,85,86,87,88,89,90,91,92,93,94,95,96,97,98,99],\"xaxis\":\"x2\",\"y\":[\"\",-2.7258286769302567,-0.9244876779399627,-2.3673731893040104,\"\",\"\",-0.13148494974205238,-0.22148140292504415,-1.8058881465763807,-0.5437029090513751,-1.971337451594881,-1.5220233813163628,-1.0229057069172223,\"\",-1.2662196658771252,-0.7908145306904187,-1.014050324116296,-0.4801419343788552,\"\",-1.8866126080703292,\"\",-0.11304755117068976,\"\",\"\",\"\",\"\",-0.8277584181271752,\"\",-0.845325837232902,-0.7928218798301235,-0.16833472447892073,\"\",\"\",\"\",-0.6915385560343587,-0.2419228555607255,-0.22119182489962844,-0.7710296630885665,\"\",-0.7408141055722123,\"\",\"\",-1.0543506806095382,\"\",\"\",-1.380318733828866,-0.8464111331010093,\"\",-1.3631489995334176,-0.6457523556884045,-0.0030206437719713097,\"\",\"\",\"\",-0.7674044693542057,\"\",-0.35742809338978754,\"\",\"\",\"\",\"\",-0.15546537461017673,-1.9361780717017725,-0.2146989013611988,-0.1835924742097228,-0.4991217662893543,-1.1490271785990411,\"\",-2.594008710346438,\"\",\"\",-1.3084094417703405,-1.803030494939821,\"\",-0.46925270482035003,\"\",-1.3001870812908929,-0.8439318288122659,\"\",\"\",\"\",\"\",\"\",\"\",-0.6707430907701596,-0.80014294605068,-0.7920287543319445,-0.13557466954643305,-2.1261262701870125,-2.8037665583914544,-2.6730320778059102,\"\",-0.45399166635048516,\"\",\"\",\"\",-0.41323511811624913,-0.6411029647598594,\"\",-2.0282098551711387],\"yaxis\":\"y2\",\"type\":\"scatter\"}],                        {\"hovermode\":\"x\",\"legend\":{\"bgcolor\":\"#F5F6F9\",\"font\":{\"color\":\"#4D5663\"}},\"paper_bgcolor\":\"#F5F6F9\",\"plot_bgcolor\":\"#F5F6F9\",\"template\":{\"data\":{\"barpolar\":[{\"marker\":{\"line\":{\"color\":\"#E5ECF6\",\"width\":0.5},\"pattern\":{\"fillmode\":\"overlay\",\"size\":10,\"solidity\":0.2}},\"type\":\"barpolar\"}],\"bar\":[{\"error_x\":{\"color\":\"#2a3f5f\"},\"error_y\":{\"color\":\"#2a3f5f\"},\"marker\":{\"line\":{\"color\":\"#E5ECF6\",\"width\":0.5},\"pattern\":{\"fillmode\":\"overlay\",\"size\":10,\"solidity\":0.2}},\"type\":\"bar\"}],\"carpet\":[{\"aaxis\":{\"endlinecolor\":\"#2a3f5f\",\"gridcolor\":\"white\",\"linecolor\":\"white\",\"minorgridcolor\":\"white\",\"startlinecolor\":\"#2a3f5f\"},\"baxis\":{\"endlinecolor\":\"#2a3f5f\",\"gridcolor\":\"white\",\"linecolor\":\"white\",\"minorgridcolor\":\"white\",\"startlinecolor\":\"#2a3f5f\"},\"type\":\"carpet\"}],\"choropleth\":[{\"colorbar\":{\"outlinewidth\":0,\"ticks\":\"\"},\"type\":\"choropleth\"}],\"contourcarpet\":[{\"colorbar\":{\"outlinewidth\":0,\"ticks\":\"\"},\"type\":\"contourcarpet\"}],\"contour\":[{\"colorbar\":{\"outlinewidth\":0,\"ticks\":\"\"},\"colorscale\":[[0.0,\"#0d0887\"],[0.1111111111111111,\"#46039f\"],[0.2222222222222222,\"#7201a8\"],[0.3333333333333333,\"#9c179e\"],[0.4444444444444444,\"#bd3786\"],[0.5555555555555556,\"#d8576b\"],[0.6666666666666666,\"#ed7953\"],[0.7777777777777778,\"#fb9f3a\"],[0.8888888888888888,\"#fdca26\"],[1.0,\"#f0f921\"]],\"type\":\"contour\"}],\"heatmapgl\":[{\"colorbar\":{\"outlinewidth\":0,\"ticks\":\"\"},\"colorscale\":[[0.0,\"#0d0887\"],[0.1111111111111111,\"#46039f\"],[0.2222222222222222,\"#7201a8\"],[0.3333333333333333,\"#9c179e\"],[0.4444444444444444,\"#bd3786\"],[0.5555555555555556,\"#d8576b\"],[0.6666666666666666,\"#ed7953\"],[0.7777777777777778,\"#fb9f3a\"],[0.8888888888888888,\"#fdca26\"],[1.0,\"#f0f921\"]],\"type\":\"heatmapgl\"}],\"heatmap\":[{\"colorbar\":{\"outlinewidth\":0,\"ticks\":\"\"},\"colorscale\":[[0.0,\"#0d0887\"],[0.1111111111111111,\"#46039f\"],[0.2222222222222222,\"#7201a8\"],[0.3333333333333333,\"#9c179e\"],[0.4444444444444444,\"#bd3786\"],[0.5555555555555556,\"#d8576b\"],[0.6666666666666666,\"#ed7953\"],[0.7777777777777778,\"#fb9f3a\"],[0.8888888888888888,\"#fdca26\"],[1.0,\"#f0f921\"]],\"type\":\"heatmap\"}],\"histogram2dcontour\":[{\"colorbar\":{\"outlinewidth\":0,\"ticks\":\"\"},\"colorscale\":[[0.0,\"#0d0887\"],[0.1111111111111111,\"#46039f\"],[0.2222222222222222,\"#7201a8\"],[0.3333333333333333,\"#9c179e\"],[0.4444444444444444,\"#bd3786\"],[0.5555555555555556,\"#d8576b\"],[0.6666666666666666,\"#ed7953\"],[0.7777777777777778,\"#fb9f3a\"],[0.8888888888888888,\"#fdca26\"],[1.0,\"#f0f921\"]],\"type\":\"histogram2dcontour\"}],\"histogram2d\":[{\"colorbar\":{\"outlinewidth\":0,\"ticks\":\"\"},\"colorscale\":[[0.0,\"#0d0887\"],[0.1111111111111111,\"#46039f\"],[0.2222222222222222,\"#7201a8\"],[0.3333333333333333,\"#9c179e\"],[0.4444444444444444,\"#bd3786\"],[0.5555555555555556,\"#d8576b\"],[0.6666666666666666,\"#ed7953\"],[0.7777777777777778,\"#fb9f3a\"],[0.8888888888888888,\"#fdca26\"],[1.0,\"#f0f921\"]],\"type\":\"histogram2d\"}],\"histogram\":[{\"marker\":{\"pattern\":{\"fillmode\":\"overlay\",\"size\":10,\"solidity\":0.2}},\"type\":\"histogram\"}],\"mesh3d\":[{\"colorbar\":{\"outlinewidth\":0,\"ticks\":\"\"},\"type\":\"mesh3d\"}],\"parcoords\":[{\"line\":{\"colorbar\":{\"outlinewidth\":0,\"ticks\":\"\"}},\"type\":\"parcoords\"}],\"pie\":[{\"automargin\":true,\"type\":\"pie\"}],\"scatter3d\":[{\"line\":{\"colorbar\":{\"outlinewidth\":0,\"ticks\":\"\"}},\"marker\":{\"colorbar\":{\"outlinewidth\":0,\"ticks\":\"\"}},\"type\":\"scatter3d\"}],\"scattercarpet\":[{\"marker\":{\"colorbar\":{\"outlinewidth\":0,\"ticks\":\"\"}},\"type\":\"scattercarpet\"}],\"scattergeo\":[{\"marker\":{\"colorbar\":{\"outlinewidth\":0,\"ticks\":\"\"}},\"type\":\"scattergeo\"}],\"scattergl\":[{\"marker\":{\"colorbar\":{\"outlinewidth\":0,\"ticks\":\"\"}},\"type\":\"scattergl\"}],\"scattermapbox\":[{\"marker\":{\"colorbar\":{\"outlinewidth\":0,\"ticks\":\"\"}},\"type\":\"scattermapbox\"}],\"scatterpolargl\":[{\"marker\":{\"colorbar\":{\"outlinewidth\":0,\"ticks\":\"\"}},\"type\":\"scatterpolargl\"}],\"scatterpolar\":[{\"marker\":{\"colorbar\":{\"outlinewidth\":0,\"ticks\":\"\"}},\"type\":\"scatterpolar\"}],\"scatter\":[{\"marker\":{\"colorbar\":{\"outlinewidth\":0,\"ticks\":\"\"}},\"type\":\"scatter\"}],\"scatterternary\":[{\"marker\":{\"colorbar\":{\"outlinewidth\":0,\"ticks\":\"\"}},\"type\":\"scatterternary\"}],\"surface\":[{\"colorbar\":{\"outlinewidth\":0,\"ticks\":\"\"},\"colorscale\":[[0.0,\"#0d0887\"],[0.1111111111111111,\"#46039f\"],[0.2222222222222222,\"#7201a8\"],[0.3333333333333333,\"#9c179e\"],[0.4444444444444444,\"#bd3786\"],[0.5555555555555556,\"#d8576b\"],[0.6666666666666666,\"#ed7953\"],[0.7777777777777778,\"#fb9f3a\"],[0.8888888888888888,\"#fdca26\"],[1.0,\"#f0f921\"]],\"type\":\"surface\"}],\"table\":[{\"cells\":{\"fill\":{\"color\":\"#EBF0F8\"},\"line\":{\"color\":\"white\"}},\"header\":{\"fill\":{\"color\":\"#C8D4E3\"},\"line\":{\"color\":\"white\"}},\"type\":\"table\"}]},\"layout\":{\"annotationdefaults\":{\"arrowcolor\":\"#2a3f5f\",\"arrowhead\":0,\"arrowwidth\":1},\"autotypenumbers\":\"strict\",\"coloraxis\":{\"colorbar\":{\"outlinewidth\":0,\"ticks\":\"\"}},\"colorscale\":{\"diverging\":[[0,\"#8e0152\"],[0.1,\"#c51b7d\"],[0.2,\"#de77ae\"],[0.3,\"#f1b6da\"],[0.4,\"#fde0ef\"],[0.5,\"#f7f7f7\"],[0.6,\"#e6f5d0\"],[0.7,\"#b8e186\"],[0.8,\"#7fbc41\"],[0.9,\"#4d9221\"],[1,\"#276419\"]],\"sequential\":[[0.0,\"#0d0887\"],[0.1111111111111111,\"#46039f\"],[0.2222222222222222,\"#7201a8\"],[0.3333333333333333,\"#9c179e\"],[0.4444444444444444,\"#bd3786\"],[0.5555555555555556,\"#d8576b\"],[0.6666666666666666,\"#ed7953\"],[0.7777777777777778,\"#fb9f3a\"],[0.8888888888888888,\"#fdca26\"],[1.0,\"#f0f921\"]],\"sequentialminus\":[[0.0,\"#0d0887\"],[0.1111111111111111,\"#46039f\"],[0.2222222222222222,\"#7201a8\"],[0.3333333333333333,\"#9c179e\"],[0.4444444444444444,\"#bd3786\"],[0.5555555555555556,\"#d8576b\"],[0.6666666666666666,\"#ed7953\"],[0.7777777777777778,\"#fb9f3a\"],[0.8888888888888888,\"#fdca26\"],[1.0,\"#f0f921\"]]},\"colorway\":[\"#636efa\",\"#EF553B\",\"#00cc96\",\"#ab63fa\",\"#FFA15A\",\"#19d3f3\",\"#FF6692\",\"#B6E880\",\"#FF97FF\",\"#FECB52\"],\"font\":{\"color\":\"#2a3f5f\"},\"geo\":{\"bgcolor\":\"white\",\"lakecolor\":\"white\",\"landcolor\":\"#E5ECF6\",\"showlakes\":true,\"showland\":true,\"subunitcolor\":\"white\"},\"hoverlabel\":{\"align\":\"left\"},\"hovermode\":\"closest\",\"mapbox\":{\"style\":\"light\"},\"paper_bgcolor\":\"white\",\"plot_bgcolor\":\"#E5ECF6\",\"polar\":{\"angularaxis\":{\"gridcolor\":\"white\",\"linecolor\":\"white\",\"ticks\":\"\"},\"bgcolor\":\"#E5ECF6\",\"radialaxis\":{\"gridcolor\":\"white\",\"linecolor\":\"white\",\"ticks\":\"\"}},\"scene\":{\"xaxis\":{\"backgroundcolor\":\"#E5ECF6\",\"gridcolor\":\"white\",\"gridwidth\":2,\"linecolor\":\"white\",\"showbackground\":true,\"ticks\":\"\",\"zerolinecolor\":\"white\"},\"yaxis\":{\"backgroundcolor\":\"#E5ECF6\",\"gridcolor\":\"white\",\"gridwidth\":2,\"linecolor\":\"white\",\"showbackground\":true,\"ticks\":\"\",\"zerolinecolor\":\"white\"},\"zaxis\":{\"backgroundcolor\":\"#E5ECF6\",\"gridcolor\":\"white\",\"gridwidth\":2,\"linecolor\":\"white\",\"showbackground\":true,\"ticks\":\"\",\"zerolinecolor\":\"white\"}},\"shapedefaults\":{\"line\":{\"color\":\"#2a3f5f\"}},\"ternary\":{\"aaxis\":{\"gridcolor\":\"white\",\"linecolor\":\"white\",\"ticks\":\"\"},\"baxis\":{\"gridcolor\":\"white\",\"linecolor\":\"white\",\"ticks\":\"\"},\"bgcolor\":\"#E5ECF6\",\"caxis\":{\"gridcolor\":\"white\",\"linecolor\":\"white\",\"ticks\":\"\"}},\"title\":{\"x\":0.05},\"xaxis\":{\"automargin\":true,\"gridcolor\":\"white\",\"linecolor\":\"white\",\"ticks\":\"\",\"title\":{\"standoff\":15},\"zerolinecolor\":\"white\",\"zerolinewidth\":2},\"yaxis\":{\"automargin\":true,\"gridcolor\":\"white\",\"linecolor\":\"white\",\"ticks\":\"\",\"title\":{\"standoff\":15},\"zerolinecolor\":\"white\",\"zerolinewidth\":2}}},\"title\":{\"font\":{\"color\":\"#4D5663\"}},\"xaxis\":{\"gridcolor\":\"#E1E5ED\",\"showgrid\":true,\"tickfont\":{\"color\":\"#4D5663\"},\"title\":{\"font\":{\"color\":\"#4D5663\"},\"text\":\"\"},\"zerolinecolor\":\"#E1E5ED\"},\"yaxis\":{\"domain\":[0.3,1],\"gridcolor\":\"#E1E5ED\",\"showgrid\":true,\"tickfont\":{\"color\":\"#4D5663\"},\"title\":{\"font\":{\"color\":\"#4D5663\"},\"text\":\"\"},\"zerolinecolor\":\"#E1E5ED\"},\"yaxis2\":{\"domain\":[0,0.25],\"gridcolor\":\"#E1E5ED\",\"showgrid\":true,\"tickfont\":{\"color\":\"#4D5663\"},\"title\":{\"font\":{\"color\":\"#4D5663\"},\"text\":\"Spread\"},\"zerolinecolor\":\"#E1E5ED\"},\"xaxis2\":{\"anchor\":\"y2\",\"gridcolor\":\"#E1E5ED\",\"showgrid\":true,\"showticklabels\":false,\"tickfont\":{\"color\":\"#4D5663\"},\"title\":{\"font\":{\"color\":\"#4D5663\"},\"text\":\"\"},\"zerolinecolor\":\"#E1E5ED\"}},                        {\"showLink\": true, \"linkText\": \"Export to plot.ly\", \"plotlyServerURL\": \"https://plot.ly\", \"responsive\": true}                    ).then(function(){\n",
       "                            \n",
       "var gd = document.getElementById('3a3c748b-9311-4482-95f3-002cf7366ae6');\n",
       "var x = new MutationObserver(function (mutations, observer) {{\n",
       "        var display = window.getComputedStyle(gd).display;\n",
       "        if (!display || display === 'none') {{\n",
       "            console.log([gd, 'removed!']);\n",
       "            Plotly.purge(gd);\n",
       "            observer.disconnect();\n",
       "        }}\n",
       "}});\n",
       "\n",
       "// Listen for the removal of the full notebook cells\n",
       "var notebookContainer = gd.closest('#notebook-container');\n",
       "if (notebookContainer) {{\n",
       "    x.observe(notebookContainer, {childList: true});\n",
       "}}\n",
       "\n",
       "// Listen for the clearing of the current output cell\n",
       "var outputEl = gd.closest('.output');\n",
       "if (outputEl) {{\n",
       "    x.observe(outputEl, {childList: true});\n",
       "}}\n",
       "\n",
       "                        })                };                });            </script>        </div>"
      ]
     },
     "metadata": {},
     "output_type": "display_data"
    }
   ],
   "source": [
    "df[['A','B']].iplot(kind='spread')"
   ]
  },
  {
   "cell_type": "markdown",
   "metadata": {},
   "source": [
    "## Bubble Plot"
   ]
  },
  {
   "cell_type": "code",
   "execution_count": 40,
   "metadata": {
    "ExecuteTime": {
     "end_time": "2019-05-06T16:55:43.218714Z",
     "start_time": "2019-05-06T16:55:43.142879Z"
    }
   },
   "outputs": [
    {
     "data": {
      "application/vnd.plotly.v1+json": {
       "config": {
        "linkText": "Export to plot.ly",
        "plotlyServerURL": "https://plot.ly",
        "showLink": true
       },
       "data": [
        {
         "marker": {
          "color": [
           "rgb(255, 153, 51)",
           "rgb(55, 128, 191)",
           "rgb(50, 171, 96)",
           "rgb(128, 0, 128)",
           "rgb(219, 64, 82)",
           "rgb(0, 128, 128)",
           "rgb(255, 255, 51)",
           "rgb(128, 128, 0)",
           "rgb(251, 128, 114)",
           "rgb(128, 177, 211)"
          ],
          "line": {
           "width": 1.3
          },
          "size": [
           55,
           75,
           52,
           87,
           40,
           69,
           67,
           20,
           48,
           45,
           90,
           56,
           57,
           60,
           48,
           56,
           51,
           78,
           74,
           51,
           78,
           66,
           32,
           38,
           40,
           53,
           48,
           37,
           54,
           50,
           44,
           46,
           46,
           73,
           71,
           34,
           30,
           20,
           73,
           12,
           12,
           68,
           32,
           82,
           29,
           57,
           49,
           52,
           47,
           57,
           91,
           112,
           34,
           79,
           27,
           52,
           72,
           60,
           53,
           73,
           25,
           61,
           87,
           79,
           72,
           71,
           41,
           33,
           61,
           55,
           39,
           33,
           79,
           61,
           65,
           69,
           51,
           62,
           69,
           78,
           52,
           81,
           104,
           65,
           56,
           53,
           60,
           67,
           72,
           59,
           60,
           35,
           51,
           62,
           21,
           85,
           44,
           109,
           24,
           70
          ],
          "symbol": "circle"
         },
         "mode": "markers",
         "text": "",
         "type": "scatter",
         "x": [
          3.3625825147031634,
          -0.6885621495157169,
          0.5149951992086972,
          -0.4976600607971672,
          1.3129178129369143,
          1.259037760305938,
          -0.8205591484786454,
          -0.2888956899883146,
          -0.09602816876888236,
          -0.9613950050487399,
          0.19756992435357082,
          -2.010039225046455,
          -0.7479232977395808,
          1.947999686378811,
          -1.300068284850122,
          0.8562782186572203,
          -0.8554492701360895,
          -0.4206993361270417,
          0.17322463597602866,
          -0.47160211461434376,
          0.565677357194077,
          -0.6594632474857488,
          1.7551221205900165,
          0.7357358194208311,
          -1.1591709602449005,
          -0.05419091582379508,
          -0.36257185525324137,
          1.4349669783777106,
          -0.5661528981377684,
          -0.407032366454418,
          0.22755126025017564,
          0.8257857482311864,
          0.27076051378642957,
          -0.46987215853669007,
          -0.6260892978035598,
          -0.14422154840098403,
          0.06729047029481175,
          -0.7538901577971123,
          -0.16372387540641004,
          -1.5306935620588862,
          1.7378715409320646,
          1.8728785308476077,
          -0.22596064971310095,
          0.19265357626344148,
          1.3095974819986245,
          -0.8467226757105627,
          -0.47588441755457705,
          0.8436192849298026,
          -1.0696497054771597,
          -0.29246972729030885,
          -0.5072696949324063,
          -1.804060391633852,
          0.41463973873286825,
          -0.06065342496772562,
          -1.2132110689335833,
          -0.1869364025887339,
          0.7239663414003534,
          -0.03198459252341648,
          0.9917197143234533,
          0.4124466650325076,
          -0.6198057419680839,
          -0.27086068891135073,
          -1.6085151157707147,
          -0.5886897832373408,
          -2.03889655784642,
          -0.08269100136583725,
          -0.2998182776646363,
          0.7537301596831394,
          -0.5572938977691413,
          0.2816574459013314,
          0.12511549492515286,
          -1.1520414977821023,
          -1.6077418183548926,
          0.12518543876338792,
          -0.17240992239466557,
          -0.29687603356526354,
          -0.538488421711546,
          1.011892155339132,
          0.5242967165890116,
          0.37788940477311916,
          1.3818585203086495,
          1.3322459158616347,
          1.3491805785283302,
          0.260837473417611,
          0.9770174853395498,
          -0.417469144514007,
          0.2532052106744681,
          -1.418974713556114,
          -1.304961959687015,
          -0.7850198786305627,
          -2.637960154783843,
          -0.702041364600879,
          0.2929621979386714,
          -0.31570510433110843,
          -0.2629023198827632,
          0.19022263715975085,
          0.6217882134487541,
          -0.2991271853655061,
          1.0088878670316135,
          -1.6952584120476268
         ],
         "y": [
          -0.09869980248667033,
          2.03726652741454,
          1.4394828771486599,
          1.8697131285068431,
          -0.5548997790378658,
          -0.6217206439491961,
          -0.689074198736593,
          -0.06741428706327046,
          1.7098599778074983,
          -0.4176920959973648,
          2.168907375948452,
          -0.4880158437300923,
          0.27498240917764155,
          0.08170163057623107,
          -0.03384861897299663,
          1.647092749347639,
          0.15860105398020632,
          0.059442598251813514,
          -0.5762077458563473,
          1.4150104934559853,
          -0.5749855002518763,
          -0.546415696315059,
          -1.5240091166445844,
          -0.9241042955106828,
          -1.9699502760010996,
          -0.6245600967739037,
          0.46518656287393384,
          -0.5218551564845291,
          0.2791729390951336,
          0.38578951337570555,
          0.39588598472909636,
          -0.7255379856229528,
          -0.56042666640254,
          -0.6027380454238817,
          0.06544925823079883,
          0.0977013071597415,
          0.2884822951944402,
          0.01713950529145413,
          -0.6866144000900855,
          -0.7898794564866739,
          0.10855608206827938,
          -0.22219683727590325,
          0.8283900308964371,
          -0.22510174689080045,
          0.08635559723721953,
          0.5335960581183034,
          0.37052671554643235,
          -0.570615537939435,
          0.2934992940562579,
          0.35328262839809565,
          -0.504249051160435,
          -1.9841088941570533,
          0.16468981598788138,
          -0.457678976262291,
          -0.4458065995793777,
          -0.6009038322071909,
          1.081394434790141,
          -0.32228195363254253,
          -0.2734324040026059,
          -0.11560060379954049,
          -1.145759112427046,
          -0.11539531430117402,
          0.32766295593105765,
          -0.373990881876142,
          -1.8553040836366972,
          0.41643076492351705,
          0.8492089009344047,
          -0.7965102060113378,
          2.036714812577297,
          0.21979935049899096,
          -1.1294971239943814,
          0.15636794398823822,
          0.19528867658492846,
          -0.664078836346772,
          0.29684278242568446,
          -0.8367625226528052,
          0.7616986595793469,
          1.855823984151398,
          -1.133439152106387,
          -0.8195629205557495,
          -0.46718347774595076,
          0.9486061350544259,
          -0.07737115781296872,
          -0.42174556204453584,
          1.6477605761097094,
          0.382673801536673,
          1.0452339650064126,
          -1.2834000440096809,
          0.8211643104999973,
          2.0187466797608917,
          0.03507192302206712,
          -1.290810831468579,
          0.7469538642891566,
          -0.7722379464065471,
          -0.7828371849281098,
          -0.7157909433349646,
          1.0350233315650033,
          0.34197577939435325,
          -0.20965832848228794,
          0.33295144312351205
         ]
        }
       ],
       "layout": {
        "legend": {
         "bgcolor": "#F5F6F9",
         "font": {
          "color": "#4D5663"
         }
        },
        "paper_bgcolor": "#F5F6F9",
        "plot_bgcolor": "#F5F6F9",
        "template": {
         "data": {
          "bar": [
           {
            "error_x": {
             "color": "#2a3f5f"
            },
            "error_y": {
             "color": "#2a3f5f"
            },
            "marker": {
             "line": {
              "color": "#E5ECF6",
              "width": 0.5
             },
             "pattern": {
              "fillmode": "overlay",
              "size": 10,
              "solidity": 0.2
             }
            },
            "type": "bar"
           }
          ],
          "barpolar": [
           {
            "marker": {
             "line": {
              "color": "#E5ECF6",
              "width": 0.5
             },
             "pattern": {
              "fillmode": "overlay",
              "size": 10,
              "solidity": 0.2
             }
            },
            "type": "barpolar"
           }
          ],
          "carpet": [
           {
            "aaxis": {
             "endlinecolor": "#2a3f5f",
             "gridcolor": "white",
             "linecolor": "white",
             "minorgridcolor": "white",
             "startlinecolor": "#2a3f5f"
            },
            "baxis": {
             "endlinecolor": "#2a3f5f",
             "gridcolor": "white",
             "linecolor": "white",
             "minorgridcolor": "white",
             "startlinecolor": "#2a3f5f"
            },
            "type": "carpet"
           }
          ],
          "choropleth": [
           {
            "colorbar": {
             "outlinewidth": 0,
             "ticks": ""
            },
            "type": "choropleth"
           }
          ],
          "contour": [
           {
            "colorbar": {
             "outlinewidth": 0,
             "ticks": ""
            },
            "colorscale": [
             [
              0,
              "#0d0887"
             ],
             [
              0.1111111111111111,
              "#46039f"
             ],
             [
              0.2222222222222222,
              "#7201a8"
             ],
             [
              0.3333333333333333,
              "#9c179e"
             ],
             [
              0.4444444444444444,
              "#bd3786"
             ],
             [
              0.5555555555555556,
              "#d8576b"
             ],
             [
              0.6666666666666666,
              "#ed7953"
             ],
             [
              0.7777777777777778,
              "#fb9f3a"
             ],
             [
              0.8888888888888888,
              "#fdca26"
             ],
             [
              1,
              "#f0f921"
             ]
            ],
            "type": "contour"
           }
          ],
          "contourcarpet": [
           {
            "colorbar": {
             "outlinewidth": 0,
             "ticks": ""
            },
            "type": "contourcarpet"
           }
          ],
          "heatmap": [
           {
            "colorbar": {
             "outlinewidth": 0,
             "ticks": ""
            },
            "colorscale": [
             [
              0,
              "#0d0887"
             ],
             [
              0.1111111111111111,
              "#46039f"
             ],
             [
              0.2222222222222222,
              "#7201a8"
             ],
             [
              0.3333333333333333,
              "#9c179e"
             ],
             [
              0.4444444444444444,
              "#bd3786"
             ],
             [
              0.5555555555555556,
              "#d8576b"
             ],
             [
              0.6666666666666666,
              "#ed7953"
             ],
             [
              0.7777777777777778,
              "#fb9f3a"
             ],
             [
              0.8888888888888888,
              "#fdca26"
             ],
             [
              1,
              "#f0f921"
             ]
            ],
            "type": "heatmap"
           }
          ],
          "heatmapgl": [
           {
            "colorbar": {
             "outlinewidth": 0,
             "ticks": ""
            },
            "colorscale": [
             [
              0,
              "#0d0887"
             ],
             [
              0.1111111111111111,
              "#46039f"
             ],
             [
              0.2222222222222222,
              "#7201a8"
             ],
             [
              0.3333333333333333,
              "#9c179e"
             ],
             [
              0.4444444444444444,
              "#bd3786"
             ],
             [
              0.5555555555555556,
              "#d8576b"
             ],
             [
              0.6666666666666666,
              "#ed7953"
             ],
             [
              0.7777777777777778,
              "#fb9f3a"
             ],
             [
              0.8888888888888888,
              "#fdca26"
             ],
             [
              1,
              "#f0f921"
             ]
            ],
            "type": "heatmapgl"
           }
          ],
          "histogram": [
           {
            "marker": {
             "pattern": {
              "fillmode": "overlay",
              "size": 10,
              "solidity": 0.2
             }
            },
            "type": "histogram"
           }
          ],
          "histogram2d": [
           {
            "colorbar": {
             "outlinewidth": 0,
             "ticks": ""
            },
            "colorscale": [
             [
              0,
              "#0d0887"
             ],
             [
              0.1111111111111111,
              "#46039f"
             ],
             [
              0.2222222222222222,
              "#7201a8"
             ],
             [
              0.3333333333333333,
              "#9c179e"
             ],
             [
              0.4444444444444444,
              "#bd3786"
             ],
             [
              0.5555555555555556,
              "#d8576b"
             ],
             [
              0.6666666666666666,
              "#ed7953"
             ],
             [
              0.7777777777777778,
              "#fb9f3a"
             ],
             [
              0.8888888888888888,
              "#fdca26"
             ],
             [
              1,
              "#f0f921"
             ]
            ],
            "type": "histogram2d"
           }
          ],
          "histogram2dcontour": [
           {
            "colorbar": {
             "outlinewidth": 0,
             "ticks": ""
            },
            "colorscale": [
             [
              0,
              "#0d0887"
             ],
             [
              0.1111111111111111,
              "#46039f"
             ],
             [
              0.2222222222222222,
              "#7201a8"
             ],
             [
              0.3333333333333333,
              "#9c179e"
             ],
             [
              0.4444444444444444,
              "#bd3786"
             ],
             [
              0.5555555555555556,
              "#d8576b"
             ],
             [
              0.6666666666666666,
              "#ed7953"
             ],
             [
              0.7777777777777778,
              "#fb9f3a"
             ],
             [
              0.8888888888888888,
              "#fdca26"
             ],
             [
              1,
              "#f0f921"
             ]
            ],
            "type": "histogram2dcontour"
           }
          ],
          "mesh3d": [
           {
            "colorbar": {
             "outlinewidth": 0,
             "ticks": ""
            },
            "type": "mesh3d"
           }
          ],
          "parcoords": [
           {
            "line": {
             "colorbar": {
              "outlinewidth": 0,
              "ticks": ""
             }
            },
            "type": "parcoords"
           }
          ],
          "pie": [
           {
            "automargin": true,
            "type": "pie"
           }
          ],
          "scatter": [
           {
            "marker": {
             "colorbar": {
              "outlinewidth": 0,
              "ticks": ""
             }
            },
            "type": "scatter"
           }
          ],
          "scatter3d": [
           {
            "line": {
             "colorbar": {
              "outlinewidth": 0,
              "ticks": ""
             }
            },
            "marker": {
             "colorbar": {
              "outlinewidth": 0,
              "ticks": ""
             }
            },
            "type": "scatter3d"
           }
          ],
          "scattercarpet": [
           {
            "marker": {
             "colorbar": {
              "outlinewidth": 0,
              "ticks": ""
             }
            },
            "type": "scattercarpet"
           }
          ],
          "scattergeo": [
           {
            "marker": {
             "colorbar": {
              "outlinewidth": 0,
              "ticks": ""
             }
            },
            "type": "scattergeo"
           }
          ],
          "scattergl": [
           {
            "marker": {
             "colorbar": {
              "outlinewidth": 0,
              "ticks": ""
             }
            },
            "type": "scattergl"
           }
          ],
          "scattermapbox": [
           {
            "marker": {
             "colorbar": {
              "outlinewidth": 0,
              "ticks": ""
             }
            },
            "type": "scattermapbox"
           }
          ],
          "scatterpolar": [
           {
            "marker": {
             "colorbar": {
              "outlinewidth": 0,
              "ticks": ""
             }
            },
            "type": "scatterpolar"
           }
          ],
          "scatterpolargl": [
           {
            "marker": {
             "colorbar": {
              "outlinewidth": 0,
              "ticks": ""
             }
            },
            "type": "scatterpolargl"
           }
          ],
          "scatterternary": [
           {
            "marker": {
             "colorbar": {
              "outlinewidth": 0,
              "ticks": ""
             }
            },
            "type": "scatterternary"
           }
          ],
          "surface": [
           {
            "colorbar": {
             "outlinewidth": 0,
             "ticks": ""
            },
            "colorscale": [
             [
              0,
              "#0d0887"
             ],
             [
              0.1111111111111111,
              "#46039f"
             ],
             [
              0.2222222222222222,
              "#7201a8"
             ],
             [
              0.3333333333333333,
              "#9c179e"
             ],
             [
              0.4444444444444444,
              "#bd3786"
             ],
             [
              0.5555555555555556,
              "#d8576b"
             ],
             [
              0.6666666666666666,
              "#ed7953"
             ],
             [
              0.7777777777777778,
              "#fb9f3a"
             ],
             [
              0.8888888888888888,
              "#fdca26"
             ],
             [
              1,
              "#f0f921"
             ]
            ],
            "type": "surface"
           }
          ],
          "table": [
           {
            "cells": {
             "fill": {
              "color": "#EBF0F8"
             },
             "line": {
              "color": "white"
             }
            },
            "header": {
             "fill": {
              "color": "#C8D4E3"
             },
             "line": {
              "color": "white"
             }
            },
            "type": "table"
           }
          ]
         },
         "layout": {
          "annotationdefaults": {
           "arrowcolor": "#2a3f5f",
           "arrowhead": 0,
           "arrowwidth": 1
          },
          "autotypenumbers": "strict",
          "coloraxis": {
           "colorbar": {
            "outlinewidth": 0,
            "ticks": ""
           }
          },
          "colorscale": {
           "diverging": [
            [
             0,
             "#8e0152"
            ],
            [
             0.1,
             "#c51b7d"
            ],
            [
             0.2,
             "#de77ae"
            ],
            [
             0.3,
             "#f1b6da"
            ],
            [
             0.4,
             "#fde0ef"
            ],
            [
             0.5,
             "#f7f7f7"
            ],
            [
             0.6,
             "#e6f5d0"
            ],
            [
             0.7,
             "#b8e186"
            ],
            [
             0.8,
             "#7fbc41"
            ],
            [
             0.9,
             "#4d9221"
            ],
            [
             1,
             "#276419"
            ]
           ],
           "sequential": [
            [
             0,
             "#0d0887"
            ],
            [
             0.1111111111111111,
             "#46039f"
            ],
            [
             0.2222222222222222,
             "#7201a8"
            ],
            [
             0.3333333333333333,
             "#9c179e"
            ],
            [
             0.4444444444444444,
             "#bd3786"
            ],
            [
             0.5555555555555556,
             "#d8576b"
            ],
            [
             0.6666666666666666,
             "#ed7953"
            ],
            [
             0.7777777777777778,
             "#fb9f3a"
            ],
            [
             0.8888888888888888,
             "#fdca26"
            ],
            [
             1,
             "#f0f921"
            ]
           ],
           "sequentialminus": [
            [
             0,
             "#0d0887"
            ],
            [
             0.1111111111111111,
             "#46039f"
            ],
            [
             0.2222222222222222,
             "#7201a8"
            ],
            [
             0.3333333333333333,
             "#9c179e"
            ],
            [
             0.4444444444444444,
             "#bd3786"
            ],
            [
             0.5555555555555556,
             "#d8576b"
            ],
            [
             0.6666666666666666,
             "#ed7953"
            ],
            [
             0.7777777777777778,
             "#fb9f3a"
            ],
            [
             0.8888888888888888,
             "#fdca26"
            ],
            [
             1,
             "#f0f921"
            ]
           ]
          },
          "colorway": [
           "#636efa",
           "#EF553B",
           "#00cc96",
           "#ab63fa",
           "#FFA15A",
           "#19d3f3",
           "#FF6692",
           "#B6E880",
           "#FF97FF",
           "#FECB52"
          ],
          "font": {
           "color": "#2a3f5f"
          },
          "geo": {
           "bgcolor": "white",
           "lakecolor": "white",
           "landcolor": "#E5ECF6",
           "showlakes": true,
           "showland": true,
           "subunitcolor": "white"
          },
          "hoverlabel": {
           "align": "left"
          },
          "hovermode": "closest",
          "mapbox": {
           "style": "light"
          },
          "paper_bgcolor": "white",
          "plot_bgcolor": "#E5ECF6",
          "polar": {
           "angularaxis": {
            "gridcolor": "white",
            "linecolor": "white",
            "ticks": ""
           },
           "bgcolor": "#E5ECF6",
           "radialaxis": {
            "gridcolor": "white",
            "linecolor": "white",
            "ticks": ""
           }
          },
          "scene": {
           "xaxis": {
            "backgroundcolor": "#E5ECF6",
            "gridcolor": "white",
            "gridwidth": 2,
            "linecolor": "white",
            "showbackground": true,
            "ticks": "",
            "zerolinecolor": "white"
           },
           "yaxis": {
            "backgroundcolor": "#E5ECF6",
            "gridcolor": "white",
            "gridwidth": 2,
            "linecolor": "white",
            "showbackground": true,
            "ticks": "",
            "zerolinecolor": "white"
           },
           "zaxis": {
            "backgroundcolor": "#E5ECF6",
            "gridcolor": "white",
            "gridwidth": 2,
            "linecolor": "white",
            "showbackground": true,
            "ticks": "",
            "zerolinecolor": "white"
           }
          },
          "shapedefaults": {
           "line": {
            "color": "#2a3f5f"
           }
          },
          "ternary": {
           "aaxis": {
            "gridcolor": "white",
            "linecolor": "white",
            "ticks": ""
           },
           "baxis": {
            "gridcolor": "white",
            "linecolor": "white",
            "ticks": ""
           },
           "bgcolor": "#E5ECF6",
           "caxis": {
            "gridcolor": "white",
            "linecolor": "white",
            "ticks": ""
           }
          },
          "title": {
           "x": 0.05
          },
          "xaxis": {
           "automargin": true,
           "gridcolor": "white",
           "linecolor": "white",
           "ticks": "",
           "title": {
            "standoff": 15
           },
           "zerolinecolor": "white",
           "zerolinewidth": 2
          },
          "yaxis": {
           "automargin": true,
           "gridcolor": "white",
           "linecolor": "white",
           "ticks": "",
           "title": {
            "standoff": 15
           },
           "zerolinecolor": "white",
           "zerolinewidth": 2
          }
         }
        },
        "title": {
         "font": {
          "color": "#4D5663"
         }
        },
        "xaxis": {
         "gridcolor": "#E1E5ED",
         "showgrid": true,
         "tickfont": {
          "color": "#4D5663"
         },
         "title": {
          "font": {
           "color": "#4D5663"
          },
          "text": ""
         },
         "zerolinecolor": "#E1E5ED"
        },
        "yaxis": {
         "gridcolor": "#E1E5ED",
         "showgrid": true,
         "tickfont": {
          "color": "#4D5663"
         },
         "title": {
          "font": {
           "color": "#4D5663"
          },
          "text": ""
         },
         "zerolinecolor": "#E1E5ED"
        }
       }
      },
      "text/html": [
       "<div>                            <div id=\"ca7693f5-dd6e-41cc-87f8-d8fc96d92a2f\" class=\"plotly-graph-div\" style=\"height:525px; width:100%;\"></div>            <script type=\"text/javascript\">                require([\"plotly\"], function(Plotly) {                    window.PLOTLYENV=window.PLOTLYENV || {};\n",
       "                    window.PLOTLYENV.BASE_URL='https://plot.ly';                                    if (document.getElementById(\"ca7693f5-dd6e-41cc-87f8-d8fc96d92a2f\")) {                    Plotly.newPlot(                        \"ca7693f5-dd6e-41cc-87f8-d8fc96d92a2f\",                        [{\"marker\":{\"color\":[\"rgb(255, 153, 51)\",\"rgb(55, 128, 191)\",\"rgb(50, 171, 96)\",\"rgb(128, 0, 128)\",\"rgb(219, 64, 82)\",\"rgb(0, 128, 128)\",\"rgb(255, 255, 51)\",\"rgb(128, 128, 0)\",\"rgb(251, 128, 114)\",\"rgb(128, 177, 211)\"],\"line\":{\"width\":1.3},\"size\":[55,75,52,87,40,69,67,20,48,45,90,56,57,60,48,56,51,78,74,51,78,66,32,38,40,53,48,37,54,50,44,46,46,73,71,34,30,20,73,12,12,68,32,82,29,57,49,52,47,57,91,112,34,79,27,52,72,60,53,73,25,61,87,79,72,71,41,33,61,55,39,33,79,61,65,69,51,62,69,78,52,81,104,65,56,53,60,67,72,59,60,35,51,62,21,85,44,109,24,70],\"symbol\":\"circle\"},\"mode\":\"markers\",\"text\":\"\",\"x\":[3.3625825147031634,-0.6885621495157169,0.5149951992086972,-0.4976600607971672,1.3129178129369143,1.259037760305938,-0.8205591484786454,-0.2888956899883146,-0.09602816876888236,-0.9613950050487399,0.19756992435357082,-2.010039225046455,-0.7479232977395808,1.947999686378811,-1.300068284850122,0.8562782186572203,-0.8554492701360895,-0.4206993361270417,0.17322463597602866,-0.47160211461434376,0.565677357194077,-0.6594632474857488,1.7551221205900165,0.7357358194208311,-1.1591709602449005,-0.05419091582379508,-0.36257185525324137,1.4349669783777106,-0.5661528981377684,-0.407032366454418,0.22755126025017564,0.8257857482311864,0.27076051378642957,-0.46987215853669007,-0.6260892978035598,-0.14422154840098403,0.06729047029481175,-0.7538901577971123,-0.16372387540641004,-1.5306935620588862,1.7378715409320646,1.8728785308476077,-0.22596064971310095,0.19265357626344148,1.3095974819986245,-0.8467226757105627,-0.47588441755457705,0.8436192849298026,-1.0696497054771597,-0.29246972729030885,-0.5072696949324063,-1.804060391633852,0.41463973873286825,-0.06065342496772562,-1.2132110689335833,-0.1869364025887339,0.7239663414003534,-0.03198459252341648,0.9917197143234533,0.4124466650325076,-0.6198057419680839,-0.27086068891135073,-1.6085151157707147,-0.5886897832373408,-2.03889655784642,-0.08269100136583725,-0.2998182776646363,0.7537301596831394,-0.5572938977691413,0.2816574459013314,0.12511549492515286,-1.1520414977821023,-1.6077418183548926,0.12518543876338792,-0.17240992239466557,-0.29687603356526354,-0.538488421711546,1.011892155339132,0.5242967165890116,0.37788940477311916,1.3818585203086495,1.3322459158616347,1.3491805785283302,0.260837473417611,0.9770174853395498,-0.417469144514007,0.2532052106744681,-1.418974713556114,-1.304961959687015,-0.7850198786305627,-2.637960154783843,-0.702041364600879,0.2929621979386714,-0.31570510433110843,-0.2629023198827632,0.19022263715975085,0.6217882134487541,-0.2991271853655061,1.0088878670316135,-1.6952584120476268],\"y\":[-0.09869980248667033,2.03726652741454,1.4394828771486599,1.8697131285068431,-0.5548997790378658,-0.6217206439491961,-0.689074198736593,-0.06741428706327046,1.7098599778074983,-0.4176920959973648,2.168907375948452,-0.4880158437300923,0.27498240917764155,0.08170163057623107,-0.03384861897299663,1.647092749347639,0.15860105398020632,0.059442598251813514,-0.5762077458563473,1.4150104934559853,-0.5749855002518763,-0.546415696315059,-1.5240091166445844,-0.9241042955106828,-1.9699502760010996,-0.6245600967739037,0.46518656287393384,-0.5218551564845291,0.2791729390951336,0.38578951337570555,0.39588598472909636,-0.7255379856229528,-0.56042666640254,-0.6027380454238817,0.06544925823079883,0.0977013071597415,0.2884822951944402,0.01713950529145413,-0.6866144000900855,-0.7898794564866739,0.10855608206827938,-0.22219683727590325,0.8283900308964371,-0.22510174689080045,0.08635559723721953,0.5335960581183034,0.37052671554643235,-0.570615537939435,0.2934992940562579,0.35328262839809565,-0.504249051160435,-1.9841088941570533,0.16468981598788138,-0.457678976262291,-0.4458065995793777,-0.6009038322071909,1.081394434790141,-0.32228195363254253,-0.2734324040026059,-0.11560060379954049,-1.145759112427046,-0.11539531430117402,0.32766295593105765,-0.373990881876142,-1.8553040836366972,0.41643076492351705,0.8492089009344047,-0.7965102060113378,2.036714812577297,0.21979935049899096,-1.1294971239943814,0.15636794398823822,0.19528867658492846,-0.664078836346772,0.29684278242568446,-0.8367625226528052,0.7616986595793469,1.855823984151398,-1.133439152106387,-0.8195629205557495,-0.46718347774595076,0.9486061350544259,-0.07737115781296872,-0.42174556204453584,1.6477605761097094,0.382673801536673,1.0452339650064126,-1.2834000440096809,0.8211643104999973,2.0187466797608917,0.03507192302206712,-1.290810831468579,0.7469538642891566,-0.7722379464065471,-0.7828371849281098,-0.7157909433349646,1.0350233315650033,0.34197577939435325,-0.20965832848228794,0.33295144312351205],\"type\":\"scatter\"}],                        {\"legend\":{\"bgcolor\":\"#F5F6F9\",\"font\":{\"color\":\"#4D5663\"}},\"paper_bgcolor\":\"#F5F6F9\",\"plot_bgcolor\":\"#F5F6F9\",\"template\":{\"data\":{\"barpolar\":[{\"marker\":{\"line\":{\"color\":\"#E5ECF6\",\"width\":0.5},\"pattern\":{\"fillmode\":\"overlay\",\"size\":10,\"solidity\":0.2}},\"type\":\"barpolar\"}],\"bar\":[{\"error_x\":{\"color\":\"#2a3f5f\"},\"error_y\":{\"color\":\"#2a3f5f\"},\"marker\":{\"line\":{\"color\":\"#E5ECF6\",\"width\":0.5},\"pattern\":{\"fillmode\":\"overlay\",\"size\":10,\"solidity\":0.2}},\"type\":\"bar\"}],\"carpet\":[{\"aaxis\":{\"endlinecolor\":\"#2a3f5f\",\"gridcolor\":\"white\",\"linecolor\":\"white\",\"minorgridcolor\":\"white\",\"startlinecolor\":\"#2a3f5f\"},\"baxis\":{\"endlinecolor\":\"#2a3f5f\",\"gridcolor\":\"white\",\"linecolor\":\"white\",\"minorgridcolor\":\"white\",\"startlinecolor\":\"#2a3f5f\"},\"type\":\"carpet\"}],\"choropleth\":[{\"colorbar\":{\"outlinewidth\":0,\"ticks\":\"\"},\"type\":\"choropleth\"}],\"contourcarpet\":[{\"colorbar\":{\"outlinewidth\":0,\"ticks\":\"\"},\"type\":\"contourcarpet\"}],\"contour\":[{\"colorbar\":{\"outlinewidth\":0,\"ticks\":\"\"},\"colorscale\":[[0.0,\"#0d0887\"],[0.1111111111111111,\"#46039f\"],[0.2222222222222222,\"#7201a8\"],[0.3333333333333333,\"#9c179e\"],[0.4444444444444444,\"#bd3786\"],[0.5555555555555556,\"#d8576b\"],[0.6666666666666666,\"#ed7953\"],[0.7777777777777778,\"#fb9f3a\"],[0.8888888888888888,\"#fdca26\"],[1.0,\"#f0f921\"]],\"type\":\"contour\"}],\"heatmapgl\":[{\"colorbar\":{\"outlinewidth\":0,\"ticks\":\"\"},\"colorscale\":[[0.0,\"#0d0887\"],[0.1111111111111111,\"#46039f\"],[0.2222222222222222,\"#7201a8\"],[0.3333333333333333,\"#9c179e\"],[0.4444444444444444,\"#bd3786\"],[0.5555555555555556,\"#d8576b\"],[0.6666666666666666,\"#ed7953\"],[0.7777777777777778,\"#fb9f3a\"],[0.8888888888888888,\"#fdca26\"],[1.0,\"#f0f921\"]],\"type\":\"heatmapgl\"}],\"heatmap\":[{\"colorbar\":{\"outlinewidth\":0,\"ticks\":\"\"},\"colorscale\":[[0.0,\"#0d0887\"],[0.1111111111111111,\"#46039f\"],[0.2222222222222222,\"#7201a8\"],[0.3333333333333333,\"#9c179e\"],[0.4444444444444444,\"#bd3786\"],[0.5555555555555556,\"#d8576b\"],[0.6666666666666666,\"#ed7953\"],[0.7777777777777778,\"#fb9f3a\"],[0.8888888888888888,\"#fdca26\"],[1.0,\"#f0f921\"]],\"type\":\"heatmap\"}],\"histogram2dcontour\":[{\"colorbar\":{\"outlinewidth\":0,\"ticks\":\"\"},\"colorscale\":[[0.0,\"#0d0887\"],[0.1111111111111111,\"#46039f\"],[0.2222222222222222,\"#7201a8\"],[0.3333333333333333,\"#9c179e\"],[0.4444444444444444,\"#bd3786\"],[0.5555555555555556,\"#d8576b\"],[0.6666666666666666,\"#ed7953\"],[0.7777777777777778,\"#fb9f3a\"],[0.8888888888888888,\"#fdca26\"],[1.0,\"#f0f921\"]],\"type\":\"histogram2dcontour\"}],\"histogram2d\":[{\"colorbar\":{\"outlinewidth\":0,\"ticks\":\"\"},\"colorscale\":[[0.0,\"#0d0887\"],[0.1111111111111111,\"#46039f\"],[0.2222222222222222,\"#7201a8\"],[0.3333333333333333,\"#9c179e\"],[0.4444444444444444,\"#bd3786\"],[0.5555555555555556,\"#d8576b\"],[0.6666666666666666,\"#ed7953\"],[0.7777777777777778,\"#fb9f3a\"],[0.8888888888888888,\"#fdca26\"],[1.0,\"#f0f921\"]],\"type\":\"histogram2d\"}],\"histogram\":[{\"marker\":{\"pattern\":{\"fillmode\":\"overlay\",\"size\":10,\"solidity\":0.2}},\"type\":\"histogram\"}],\"mesh3d\":[{\"colorbar\":{\"outlinewidth\":0,\"ticks\":\"\"},\"type\":\"mesh3d\"}],\"parcoords\":[{\"line\":{\"colorbar\":{\"outlinewidth\":0,\"ticks\":\"\"}},\"type\":\"parcoords\"}],\"pie\":[{\"automargin\":true,\"type\":\"pie\"}],\"scatter3d\":[{\"line\":{\"colorbar\":{\"outlinewidth\":0,\"ticks\":\"\"}},\"marker\":{\"colorbar\":{\"outlinewidth\":0,\"ticks\":\"\"}},\"type\":\"scatter3d\"}],\"scattercarpet\":[{\"marker\":{\"colorbar\":{\"outlinewidth\":0,\"ticks\":\"\"}},\"type\":\"scattercarpet\"}],\"scattergeo\":[{\"marker\":{\"colorbar\":{\"outlinewidth\":0,\"ticks\":\"\"}},\"type\":\"scattergeo\"}],\"scattergl\":[{\"marker\":{\"colorbar\":{\"outlinewidth\":0,\"ticks\":\"\"}},\"type\":\"scattergl\"}],\"scattermapbox\":[{\"marker\":{\"colorbar\":{\"outlinewidth\":0,\"ticks\":\"\"}},\"type\":\"scattermapbox\"}],\"scatterpolargl\":[{\"marker\":{\"colorbar\":{\"outlinewidth\":0,\"ticks\":\"\"}},\"type\":\"scatterpolargl\"}],\"scatterpolar\":[{\"marker\":{\"colorbar\":{\"outlinewidth\":0,\"ticks\":\"\"}},\"type\":\"scatterpolar\"}],\"scatter\":[{\"marker\":{\"colorbar\":{\"outlinewidth\":0,\"ticks\":\"\"}},\"type\":\"scatter\"}],\"scatterternary\":[{\"marker\":{\"colorbar\":{\"outlinewidth\":0,\"ticks\":\"\"}},\"type\":\"scatterternary\"}],\"surface\":[{\"colorbar\":{\"outlinewidth\":0,\"ticks\":\"\"},\"colorscale\":[[0.0,\"#0d0887\"],[0.1111111111111111,\"#46039f\"],[0.2222222222222222,\"#7201a8\"],[0.3333333333333333,\"#9c179e\"],[0.4444444444444444,\"#bd3786\"],[0.5555555555555556,\"#d8576b\"],[0.6666666666666666,\"#ed7953\"],[0.7777777777777778,\"#fb9f3a\"],[0.8888888888888888,\"#fdca26\"],[1.0,\"#f0f921\"]],\"type\":\"surface\"}],\"table\":[{\"cells\":{\"fill\":{\"color\":\"#EBF0F8\"},\"line\":{\"color\":\"white\"}},\"header\":{\"fill\":{\"color\":\"#C8D4E3\"},\"line\":{\"color\":\"white\"}},\"type\":\"table\"}]},\"layout\":{\"annotationdefaults\":{\"arrowcolor\":\"#2a3f5f\",\"arrowhead\":0,\"arrowwidth\":1},\"autotypenumbers\":\"strict\",\"coloraxis\":{\"colorbar\":{\"outlinewidth\":0,\"ticks\":\"\"}},\"colorscale\":{\"diverging\":[[0,\"#8e0152\"],[0.1,\"#c51b7d\"],[0.2,\"#de77ae\"],[0.3,\"#f1b6da\"],[0.4,\"#fde0ef\"],[0.5,\"#f7f7f7\"],[0.6,\"#e6f5d0\"],[0.7,\"#b8e186\"],[0.8,\"#7fbc41\"],[0.9,\"#4d9221\"],[1,\"#276419\"]],\"sequential\":[[0.0,\"#0d0887\"],[0.1111111111111111,\"#46039f\"],[0.2222222222222222,\"#7201a8\"],[0.3333333333333333,\"#9c179e\"],[0.4444444444444444,\"#bd3786\"],[0.5555555555555556,\"#d8576b\"],[0.6666666666666666,\"#ed7953\"],[0.7777777777777778,\"#fb9f3a\"],[0.8888888888888888,\"#fdca26\"],[1.0,\"#f0f921\"]],\"sequentialminus\":[[0.0,\"#0d0887\"],[0.1111111111111111,\"#46039f\"],[0.2222222222222222,\"#7201a8\"],[0.3333333333333333,\"#9c179e\"],[0.4444444444444444,\"#bd3786\"],[0.5555555555555556,\"#d8576b\"],[0.6666666666666666,\"#ed7953\"],[0.7777777777777778,\"#fb9f3a\"],[0.8888888888888888,\"#fdca26\"],[1.0,\"#f0f921\"]]},\"colorway\":[\"#636efa\",\"#EF553B\",\"#00cc96\",\"#ab63fa\",\"#FFA15A\",\"#19d3f3\",\"#FF6692\",\"#B6E880\",\"#FF97FF\",\"#FECB52\"],\"font\":{\"color\":\"#2a3f5f\"},\"geo\":{\"bgcolor\":\"white\",\"lakecolor\":\"white\",\"landcolor\":\"#E5ECF6\",\"showlakes\":true,\"showland\":true,\"subunitcolor\":\"white\"},\"hoverlabel\":{\"align\":\"left\"},\"hovermode\":\"closest\",\"mapbox\":{\"style\":\"light\"},\"paper_bgcolor\":\"white\",\"plot_bgcolor\":\"#E5ECF6\",\"polar\":{\"angularaxis\":{\"gridcolor\":\"white\",\"linecolor\":\"white\",\"ticks\":\"\"},\"bgcolor\":\"#E5ECF6\",\"radialaxis\":{\"gridcolor\":\"white\",\"linecolor\":\"white\",\"ticks\":\"\"}},\"scene\":{\"xaxis\":{\"backgroundcolor\":\"#E5ECF6\",\"gridcolor\":\"white\",\"gridwidth\":2,\"linecolor\":\"white\",\"showbackground\":true,\"ticks\":\"\",\"zerolinecolor\":\"white\"},\"yaxis\":{\"backgroundcolor\":\"#E5ECF6\",\"gridcolor\":\"white\",\"gridwidth\":2,\"linecolor\":\"white\",\"showbackground\":true,\"ticks\":\"\",\"zerolinecolor\":\"white\"},\"zaxis\":{\"backgroundcolor\":\"#E5ECF6\",\"gridcolor\":\"white\",\"gridwidth\":2,\"linecolor\":\"white\",\"showbackground\":true,\"ticks\":\"\",\"zerolinecolor\":\"white\"}},\"shapedefaults\":{\"line\":{\"color\":\"#2a3f5f\"}},\"ternary\":{\"aaxis\":{\"gridcolor\":\"white\",\"linecolor\":\"white\",\"ticks\":\"\"},\"baxis\":{\"gridcolor\":\"white\",\"linecolor\":\"white\",\"ticks\":\"\"},\"bgcolor\":\"#E5ECF6\",\"caxis\":{\"gridcolor\":\"white\",\"linecolor\":\"white\",\"ticks\":\"\"}},\"title\":{\"x\":0.05},\"xaxis\":{\"automargin\":true,\"gridcolor\":\"white\",\"linecolor\":\"white\",\"ticks\":\"\",\"title\":{\"standoff\":15},\"zerolinecolor\":\"white\",\"zerolinewidth\":2},\"yaxis\":{\"automargin\":true,\"gridcolor\":\"white\",\"linecolor\":\"white\",\"ticks\":\"\",\"title\":{\"standoff\":15},\"zerolinecolor\":\"white\",\"zerolinewidth\":2}}},\"title\":{\"font\":{\"color\":\"#4D5663\"}},\"xaxis\":{\"gridcolor\":\"#E1E5ED\",\"showgrid\":true,\"tickfont\":{\"color\":\"#4D5663\"},\"title\":{\"font\":{\"color\":\"#4D5663\"},\"text\":\"\"},\"zerolinecolor\":\"#E1E5ED\"},\"yaxis\":{\"gridcolor\":\"#E1E5ED\",\"showgrid\":true,\"tickfont\":{\"color\":\"#4D5663\"},\"title\":{\"font\":{\"color\":\"#4D5663\"},\"text\":\"\"},\"zerolinecolor\":\"#E1E5ED\"}},                        {\"showLink\": true, \"linkText\": \"Export to plot.ly\", \"plotlyServerURL\": \"https://plot.ly\", \"responsive\": true}                    ).then(function(){\n",
       "                            \n",
       "var gd = document.getElementById('ca7693f5-dd6e-41cc-87f8-d8fc96d92a2f');\n",
       "var x = new MutationObserver(function (mutations, observer) {{\n",
       "        var display = window.getComputedStyle(gd).display;\n",
       "        if (!display || display === 'none') {{\n",
       "            console.log([gd, 'removed!']);\n",
       "            Plotly.purge(gd);\n",
       "            observer.disconnect();\n",
       "        }}\n",
       "}});\n",
       "\n",
       "// Listen for the removal of the full notebook cells\n",
       "var notebookContainer = gd.closest('#notebook-container');\n",
       "if (notebookContainer) {{\n",
       "    x.observe(notebookContainer, {childList: true});\n",
       "}}\n",
       "\n",
       "// Listen for the clearing of the current output cell\n",
       "var outputEl = gd.closest('.output');\n",
       "if (outputEl) {{\n",
       "    x.observe(outputEl, {childList: true});\n",
       "}}\n",
       "\n",
       "                        })                };                });            </script>        </div>"
      ]
     },
     "metadata": {},
     "output_type": "display_data"
    }
   ],
   "source": [
    "df.iplot(kind='bubble',x='A',y='B',size='C')"
   ]
  },
  {
   "cell_type": "markdown",
   "metadata": {},
   "source": [
    "## Scatter Matrix Plot"
   ]
  },
  {
   "cell_type": "code",
   "execution_count": 41,
   "metadata": {
    "ExecuteTime": {
     "end_time": "2019-05-06T16:55:46.122556Z",
     "start_time": "2019-05-06T16:55:45.030454Z"
    }
   },
   "outputs": [
    {
     "data": {
      "application/vnd.plotly.v1+json": {
       "config": {
        "linkText": "Export to plot.ly",
        "plotlyServerURL": "https://plot.ly",
        "showLink": true
       },
       "data": [
        {
         "histfunc": "count",
         "histnorm": "",
         "marker": {
          "color": "rgba(255, 153, 51, 1.0)",
          "line": {
           "color": "#4D5663",
           "width": 1.3
          }
         },
         "name": "A",
         "nbinsx": 10,
         "opacity": 0.8,
         "orientation": "v",
         "type": "histogram",
         "x": [
          3.3625825147031634,
          -0.6885621495157169,
          0.5149951992086972,
          -0.4976600607971672,
          1.3129178129369143,
          1.259037760305938,
          -0.8205591484786454,
          -0.2888956899883146,
          -0.09602816876888236,
          -0.9613950050487399,
          0.19756992435357082,
          -2.010039225046455,
          -0.7479232977395808,
          1.947999686378811,
          -1.300068284850122,
          0.8562782186572203,
          -0.8554492701360895,
          -0.4206993361270417,
          0.17322463597602866,
          -0.47160211461434376,
          0.565677357194077,
          -0.6594632474857488,
          1.7551221205900165,
          0.7357358194208311,
          -1.1591709602449005,
          -0.05419091582379508,
          -0.36257185525324137,
          1.4349669783777106,
          -0.5661528981377684,
          -0.407032366454418,
          0.22755126025017564,
          0.8257857482311864,
          0.27076051378642957,
          -0.46987215853669007,
          -0.6260892978035598,
          -0.14422154840098403,
          0.06729047029481175,
          -0.7538901577971123,
          -0.16372387540641004,
          -1.5306935620588862,
          1.7378715409320646,
          1.8728785308476077,
          -0.22596064971310095,
          0.19265357626344148,
          1.3095974819986245,
          -0.8467226757105627,
          -0.47588441755457705,
          0.8436192849298026,
          -1.0696497054771597,
          -0.29246972729030885,
          -0.5072696949324063,
          -1.804060391633852,
          0.41463973873286825,
          -0.06065342496772562,
          -1.2132110689335833,
          -0.1869364025887339,
          0.7239663414003534,
          -0.03198459252341648,
          0.9917197143234533,
          0.4124466650325076,
          -0.6198057419680839,
          -0.27086068891135073,
          -1.6085151157707147,
          -0.5886897832373408,
          -2.03889655784642,
          -0.08269100136583725,
          -0.2998182776646363,
          0.7537301596831394,
          -0.5572938977691413,
          0.2816574459013314,
          0.12511549492515286,
          -1.1520414977821023,
          -1.6077418183548926,
          0.12518543876338792,
          -0.17240992239466557,
          -0.29687603356526354,
          -0.538488421711546,
          1.011892155339132,
          0.5242967165890116,
          0.37788940477311916,
          1.3818585203086495,
          1.3322459158616347,
          1.3491805785283302,
          0.260837473417611,
          0.9770174853395498,
          -0.417469144514007,
          0.2532052106744681,
          -1.418974713556114,
          -1.304961959687015,
          -0.7850198786305627,
          -2.637960154783843,
          -0.702041364600879,
          0.2929621979386714,
          -0.31570510433110843,
          -0.2629023198827632,
          0.19022263715975085,
          0.6217882134487541,
          -0.2991271853655061,
          1.0088878670316135,
          -1.6952584120476268
         ],
         "xaxis": "x",
         "yaxis": "y"
        },
        {
         "line": {
          "color": "rgba(128, 128, 128, 1.0)",
          "dash": "solid",
          "shape": "linear",
          "width": 1.3
         },
         "marker": {
          "size": 2,
          "symbol": "circle"
         },
         "mode": "markers",
         "name": "A",
         "text": "",
         "type": "scatter",
         "x": [
          -0.09869980248667033,
          2.03726652741454,
          1.4394828771486599,
          1.8697131285068431,
          -0.5548997790378658,
          -0.6217206439491961,
          -0.689074198736593,
          -0.06741428706327046,
          1.7098599778074983,
          -0.4176920959973648,
          2.168907375948452,
          -0.4880158437300923,
          0.27498240917764155,
          0.08170163057623107,
          -0.03384861897299663,
          1.647092749347639,
          0.15860105398020632,
          0.059442598251813514,
          -0.5762077458563473,
          1.4150104934559853,
          -0.5749855002518763,
          -0.546415696315059,
          -1.5240091166445844,
          -0.9241042955106828,
          -1.9699502760010996,
          -0.6245600967739037,
          0.46518656287393384,
          -0.5218551564845291,
          0.2791729390951336,
          0.38578951337570555,
          0.39588598472909636,
          -0.7255379856229528,
          -0.56042666640254,
          -0.6027380454238817,
          0.06544925823079883,
          0.0977013071597415,
          0.2884822951944402,
          0.01713950529145413,
          -0.6866144000900855,
          -0.7898794564866739,
          0.10855608206827938,
          -0.22219683727590325,
          0.8283900308964371,
          -0.22510174689080045,
          0.08635559723721953,
          0.5335960581183034,
          0.37052671554643235,
          -0.570615537939435,
          0.2934992940562579,
          0.35328262839809565,
          -0.504249051160435,
          -1.9841088941570533,
          0.16468981598788138,
          -0.457678976262291,
          -0.4458065995793777,
          -0.6009038322071909,
          1.081394434790141,
          -0.32228195363254253,
          -0.2734324040026059,
          -0.11560060379954049,
          -1.145759112427046,
          -0.11539531430117402,
          0.32766295593105765,
          -0.373990881876142,
          -1.8553040836366972,
          0.41643076492351705,
          0.8492089009344047,
          -0.7965102060113378,
          2.036714812577297,
          0.21979935049899096,
          -1.1294971239943814,
          0.15636794398823822,
          0.19528867658492846,
          -0.664078836346772,
          0.29684278242568446,
          -0.8367625226528052,
          0.7616986595793469,
          1.855823984151398,
          -1.133439152106387,
          -0.8195629205557495,
          -0.46718347774595076,
          0.9486061350544259,
          -0.07737115781296872,
          -0.42174556204453584,
          1.6477605761097094,
          0.382673801536673,
          1.0452339650064126,
          -1.2834000440096809,
          0.8211643104999973,
          2.0187466797608917,
          0.03507192302206712,
          -1.290810831468579,
          0.7469538642891566,
          -0.7722379464065471,
          -0.7828371849281098,
          -0.7157909433349646,
          1.0350233315650033,
          0.34197577939435325,
          -0.20965832848228794,
          0.33295144312351205
         ],
         "xaxis": "x2",
         "y": [
          3.3625825147031634,
          -0.6885621495157169,
          0.5149951992086972,
          -0.4976600607971672,
          1.3129178129369143,
          1.259037760305938,
          -0.8205591484786454,
          -0.2888956899883146,
          -0.09602816876888236,
          -0.9613950050487399,
          0.19756992435357082,
          -2.010039225046455,
          -0.7479232977395808,
          1.947999686378811,
          -1.300068284850122,
          0.8562782186572203,
          -0.8554492701360895,
          -0.4206993361270417,
          0.17322463597602866,
          -0.47160211461434376,
          0.565677357194077,
          -0.6594632474857488,
          1.7551221205900165,
          0.7357358194208311,
          -1.1591709602449005,
          -0.05419091582379508,
          -0.36257185525324137,
          1.4349669783777106,
          -0.5661528981377684,
          -0.407032366454418,
          0.22755126025017564,
          0.8257857482311864,
          0.27076051378642957,
          -0.46987215853669007,
          -0.6260892978035598,
          -0.14422154840098403,
          0.06729047029481175,
          -0.7538901577971123,
          -0.16372387540641004,
          -1.5306935620588862,
          1.7378715409320646,
          1.8728785308476077,
          -0.22596064971310095,
          0.19265357626344148,
          1.3095974819986245,
          -0.8467226757105627,
          -0.47588441755457705,
          0.8436192849298026,
          -1.0696497054771597,
          -0.29246972729030885,
          -0.5072696949324063,
          -1.804060391633852,
          0.41463973873286825,
          -0.06065342496772562,
          -1.2132110689335833,
          -0.1869364025887339,
          0.7239663414003534,
          -0.03198459252341648,
          0.9917197143234533,
          0.4124466650325076,
          -0.6198057419680839,
          -0.27086068891135073,
          -1.6085151157707147,
          -0.5886897832373408,
          -2.03889655784642,
          -0.08269100136583725,
          -0.2998182776646363,
          0.7537301596831394,
          -0.5572938977691413,
          0.2816574459013314,
          0.12511549492515286,
          -1.1520414977821023,
          -1.6077418183548926,
          0.12518543876338792,
          -0.17240992239466557,
          -0.29687603356526354,
          -0.538488421711546,
          1.011892155339132,
          0.5242967165890116,
          0.37788940477311916,
          1.3818585203086495,
          1.3322459158616347,
          1.3491805785283302,
          0.260837473417611,
          0.9770174853395498,
          -0.417469144514007,
          0.2532052106744681,
          -1.418974713556114,
          -1.304961959687015,
          -0.7850198786305627,
          -2.637960154783843,
          -0.702041364600879,
          0.2929621979386714,
          -0.31570510433110843,
          -0.2629023198827632,
          0.19022263715975085,
          0.6217882134487541,
          -0.2991271853655061,
          1.0088878670316135,
          -1.6952584120476268
         ],
         "yaxis": "y2"
        },
        {
         "line": {
          "color": "rgba(128, 128, 128, 1.0)",
          "dash": "solid",
          "shape": "linear",
          "width": 1.3
         },
         "marker": {
          "size": 2,
          "symbol": "circle"
         },
         "mode": "markers",
         "name": "A",
         "text": "",
         "type": "scatter",
         "x": [
          -0.03871432534083431,
          0.8115707952131627,
          -0.17665423819459455,
          1.3466930613339523,
          -0.7096242874361512,
          0.5827954368056582,
          0.46518279753224095,
          -1.5660683477890591,
          -0.33199610826936693,
          -0.4744363313695482,
          1.4711440122729522,
          -0.003955344986920965,
          0.0562545380152191,
          0.15362277115179548,
          -0.36353528708391786,
          -0.012124866275137487,
          -0.20009491093416557,
          0.9614757069810966,
          0.7697978672912913,
          -0.23742915591891228,
          0.9725222749061871,
          0.41582536826645344,
          -1.0625242653194664,
          -0.7900579467789591,
          -0.6818934981943373,
          -0.13917048218982198,
          -0.3541996772670713,
          -0.8213352921077302,
          -0.07126063095007504,
          -0.26033422049286276,
          -0.5289646963018059,
          -0.43873497104461107,
          -0.45044738503422543,
          0.7478128184341659,
          0.6641194392583254,
          -0.979094314437018,
          -1.119399923453585,
          -1.5594785503686877,
          0.7599857788414909,
          -1.9097517568392404,
          -1.9468678465506883,
          0.5218375682681676,
          -1.0396394039937231,
          1.1276287199659947,
          -1.184342666394064,
          0.022131779564743076,
          -0.3201532437258341,
          -0.19702044383341424,
          -0.3758894766712151,
          0.05237384319038519,
          1.5172743804134299,
          2.4247879322619643,
          -0.9755230759676465,
          1.012608550719346,
          -1.290639386572514,
          -0.17154180805176894,
          0.7087889536846921,
          0.16864636263787605,
          -0.1312296598447758,
          0.7305408215857765,
          -1.3689031206003062,
          0.22090233284189276,
          1.3597780697136148,
          0.9944818070429114,
          0.6964499854986963,
          0.6745445328562419,
          -0.6662469380254723,
          -1.0174720887610438,
          0.2300492223012016,
          -0.036954874906627216,
          -0.726688304201755,
          -1.0211999418778872,
          1.0250471207567862,
          0.21183444445887054,
          0.37261079372522277,
          0.5822324112944044,
          -0.22929439516700795,
          0.2480386641167231,
          0.5643644796350337,
          0.9750637011146529,
          -0.18448805836167542,
          1.0717767289630435,
          2.0980105239450886,
          0.38372361927407656,
          -0.004206138482686182,
          -0.13370915390265514,
          0.16589187268661165,
          0.47628847080812187,
          0.704925336787344,
          0.12372473894611717,
          0.15210545578859208,
          -0.9406035775255597,
          -0.226907080030317,
          0.2499324277887329,
          -1.5170304489877942,
          1.2639490310851944,
          -0.516687512771716,
          2.305904708755523,
          -1.3952138991015384,
          0.630778993152211
         ],
         "xaxis": "x3",
         "y": [
          3.3625825147031634,
          -0.6885621495157169,
          0.5149951992086972,
          -0.4976600607971672,
          1.3129178129369143,
          1.259037760305938,
          -0.8205591484786454,
          -0.2888956899883146,
          -0.09602816876888236,
          -0.9613950050487399,
          0.19756992435357082,
          -2.010039225046455,
          -0.7479232977395808,
          1.947999686378811,
          -1.300068284850122,
          0.8562782186572203,
          -0.8554492701360895,
          -0.4206993361270417,
          0.17322463597602866,
          -0.47160211461434376,
          0.565677357194077,
          -0.6594632474857488,
          1.7551221205900165,
          0.7357358194208311,
          -1.1591709602449005,
          -0.05419091582379508,
          -0.36257185525324137,
          1.4349669783777106,
          -0.5661528981377684,
          -0.407032366454418,
          0.22755126025017564,
          0.8257857482311864,
          0.27076051378642957,
          -0.46987215853669007,
          -0.6260892978035598,
          -0.14422154840098403,
          0.06729047029481175,
          -0.7538901577971123,
          -0.16372387540641004,
          -1.5306935620588862,
          1.7378715409320646,
          1.8728785308476077,
          -0.22596064971310095,
          0.19265357626344148,
          1.3095974819986245,
          -0.8467226757105627,
          -0.47588441755457705,
          0.8436192849298026,
          -1.0696497054771597,
          -0.29246972729030885,
          -0.5072696949324063,
          -1.804060391633852,
          0.41463973873286825,
          -0.06065342496772562,
          -1.2132110689335833,
          -0.1869364025887339,
          0.7239663414003534,
          -0.03198459252341648,
          0.9917197143234533,
          0.4124466650325076,
          -0.6198057419680839,
          -0.27086068891135073,
          -1.6085151157707147,
          -0.5886897832373408,
          -2.03889655784642,
          -0.08269100136583725,
          -0.2998182776646363,
          0.7537301596831394,
          -0.5572938977691413,
          0.2816574459013314,
          0.12511549492515286,
          -1.1520414977821023,
          -1.6077418183548926,
          0.12518543876338792,
          -0.17240992239466557,
          -0.29687603356526354,
          -0.538488421711546,
          1.011892155339132,
          0.5242967165890116,
          0.37788940477311916,
          1.3818585203086495,
          1.3322459158616347,
          1.3491805785283302,
          0.260837473417611,
          0.9770174853395498,
          -0.417469144514007,
          0.2532052106744681,
          -1.418974713556114,
          -1.304961959687015,
          -0.7850198786305627,
          -2.637960154783843,
          -0.702041364600879,
          0.2929621979386714,
          -0.31570510433110843,
          -0.2629023198827632,
          0.19022263715975085,
          0.6217882134487541,
          -0.2991271853655061,
          1.0088878670316135,
          -1.6952584120476268
         ],
         "yaxis": "y3"
        },
        {
         "line": {
          "color": "rgba(128, 128, 128, 1.0)",
          "dash": "solid",
          "shape": "linear",
          "width": 1.3
         },
         "marker": {
          "size": 2,
          "symbol": "circle"
         },
         "mode": "markers",
         "name": "A",
         "text": "",
         "type": "scatter",
         "x": [
          -0.2610754490700943,
          -0.31274259932016485,
          -0.05195486783740825,
          -0.6363720505501187,
          0.26403720932684455,
          -0.670878971050256,
          0.35306264868315396,
          -1.4766036084490375,
          -1.0570360760952613,
          -0.5716289462859565,
          0.5996025660857952,
          0.6669472548117814,
          -0.20190710037508552,
          0.6591484959562992,
          0.3007018794461643,
          -2.3269309002298684,
          -0.45564726513007425,
          0.31412461514473483,
          1.5775316971860345,
          -0.20816830651970206,
          1.0992586180529906,
          1.2482324665607225,
          0.5963441305128984,
          0.6759383135148479,
          -0.31391325666451225,
          1.20331051531392,
          -1.1189113149477334,
          0.04340009025224424,
          -0.5873078097584103,
          -1.7395764773201399,
          1.7318829844673942,
          -1.8582286156354608,
          0.2102896767181078,
          0.036038219215623425,
          1.7315528329827625,
          -0.23751896821776966,
          -1.2619041772231365,
          -0.4209939529770629,
          0.6444023091948922,
          -0.12611657156977105,
          -0.8679107790133433,
          -1.2941016753923553,
          0.14594471207322482,
          -1.0981622210575677,
          -0.08624722509148783,
          -0.5531726942858656,
          1.3258006005289427,
          -0.5239864957809007,
          0.09995128771691131,
          2.10208730930389,
          -0.6752478145794528,
          -0.3840445714707245,
          -0.1372520446980467,
          0.3886173501207647,
          1.2332964234722699,
          1.4381637163220384,
          -0.25764043429119016,
          -0.9842129074651307,
          -0.13624389171313364,
          -1.2929703628833762,
          -0.21066150761967375,
          -1.0517433412117014,
          0.12062324844287063,
          1.2927129194575222,
          -0.7835829494349476,
          -0.7570704661624947,
          -1.161275272484911,
          -0.6580589800179951,
          0.4574163292136516,
          0.9282633619209005,
          1.2361508560233534,
          1.6358461396414072,
          -0.3275027468944334,
          0.4715100581108882,
          0.1900867796549248,
          0.9503595438312736,
          0.2846599033154163,
          0.7838010808747881,
          -0.6215426494588088,
          -2.5585283098605864,
          2.792906821685706,
          -0.21163724717237037,
          -0.799844955740187,
          -0.12841497548761696,
          1.643525322798787,
          0.6669179707736347,
          -2.071559206824266,
          0.8811338533173473,
          -2.0193879616140107,
          -1.9139249417279494,
          0.9818762536192873,
          -0.14457914752721937,
          -0.1019202571490361,
          -0.10167892581764211,
          1.2887099889784408,
          0.7911773663583078,
          -1.0221485430858486,
          -0.47387097215670204,
          -0.20350765600332388,
          -0.13150023481557147
         ],
         "xaxis": "x4",
         "y": [
          3.3625825147031634,
          -0.6885621495157169,
          0.5149951992086972,
          -0.4976600607971672,
          1.3129178129369143,
          1.259037760305938,
          -0.8205591484786454,
          -0.2888956899883146,
          -0.09602816876888236,
          -0.9613950050487399,
          0.19756992435357082,
          -2.010039225046455,
          -0.7479232977395808,
          1.947999686378811,
          -1.300068284850122,
          0.8562782186572203,
          -0.8554492701360895,
          -0.4206993361270417,
          0.17322463597602866,
          -0.47160211461434376,
          0.565677357194077,
          -0.6594632474857488,
          1.7551221205900165,
          0.7357358194208311,
          -1.1591709602449005,
          -0.05419091582379508,
          -0.36257185525324137,
          1.4349669783777106,
          -0.5661528981377684,
          -0.407032366454418,
          0.22755126025017564,
          0.8257857482311864,
          0.27076051378642957,
          -0.46987215853669007,
          -0.6260892978035598,
          -0.14422154840098403,
          0.06729047029481175,
          -0.7538901577971123,
          -0.16372387540641004,
          -1.5306935620588862,
          1.7378715409320646,
          1.8728785308476077,
          -0.22596064971310095,
          0.19265357626344148,
          1.3095974819986245,
          -0.8467226757105627,
          -0.47588441755457705,
          0.8436192849298026,
          -1.0696497054771597,
          -0.29246972729030885,
          -0.5072696949324063,
          -1.804060391633852,
          0.41463973873286825,
          -0.06065342496772562,
          -1.2132110689335833,
          -0.1869364025887339,
          0.7239663414003534,
          -0.03198459252341648,
          0.9917197143234533,
          0.4124466650325076,
          -0.6198057419680839,
          -0.27086068891135073,
          -1.6085151157707147,
          -0.5886897832373408,
          -2.03889655784642,
          -0.08269100136583725,
          -0.2998182776646363,
          0.7537301596831394,
          -0.5572938977691413,
          0.2816574459013314,
          0.12511549492515286,
          -1.1520414977821023,
          -1.6077418183548926,
          0.12518543876338792,
          -0.17240992239466557,
          -0.29687603356526354,
          -0.538488421711546,
          1.011892155339132,
          0.5242967165890116,
          0.37788940477311916,
          1.3818585203086495,
          1.3322459158616347,
          1.3491805785283302,
          0.260837473417611,
          0.9770174853395498,
          -0.417469144514007,
          0.2532052106744681,
          -1.418974713556114,
          -1.304961959687015,
          -0.7850198786305627,
          -2.637960154783843,
          -0.702041364600879,
          0.2929621979386714,
          -0.31570510433110843,
          -0.2629023198827632,
          0.19022263715975085,
          0.6217882134487541,
          -0.2991271853655061,
          1.0088878670316135,
          -1.6952584120476268
         ],
         "yaxis": "y4"
        },
        {
         "line": {
          "color": "rgba(128, 128, 128, 1.0)",
          "dash": "solid",
          "shape": "linear",
          "width": 1.3
         },
         "marker": {
          "size": 2,
          "symbol": "circle"
         },
         "mode": "markers",
         "name": "B",
         "text": "",
         "type": "scatter",
         "x": [
          3.3625825147031634,
          -0.6885621495157169,
          0.5149951992086972,
          -0.4976600607971672,
          1.3129178129369143,
          1.259037760305938,
          -0.8205591484786454,
          -0.2888956899883146,
          -0.09602816876888236,
          -0.9613950050487399,
          0.19756992435357082,
          -2.010039225046455,
          -0.7479232977395808,
          1.947999686378811,
          -1.300068284850122,
          0.8562782186572203,
          -0.8554492701360895,
          -0.4206993361270417,
          0.17322463597602866,
          -0.47160211461434376,
          0.565677357194077,
          -0.6594632474857488,
          1.7551221205900165,
          0.7357358194208311,
          -1.1591709602449005,
          -0.05419091582379508,
          -0.36257185525324137,
          1.4349669783777106,
          -0.5661528981377684,
          -0.407032366454418,
          0.22755126025017564,
          0.8257857482311864,
          0.27076051378642957,
          -0.46987215853669007,
          -0.6260892978035598,
          -0.14422154840098403,
          0.06729047029481175,
          -0.7538901577971123,
          -0.16372387540641004,
          -1.5306935620588862,
          1.7378715409320646,
          1.8728785308476077,
          -0.22596064971310095,
          0.19265357626344148,
          1.3095974819986245,
          -0.8467226757105627,
          -0.47588441755457705,
          0.8436192849298026,
          -1.0696497054771597,
          -0.29246972729030885,
          -0.5072696949324063,
          -1.804060391633852,
          0.41463973873286825,
          -0.06065342496772562,
          -1.2132110689335833,
          -0.1869364025887339,
          0.7239663414003534,
          -0.03198459252341648,
          0.9917197143234533,
          0.4124466650325076,
          -0.6198057419680839,
          -0.27086068891135073,
          -1.6085151157707147,
          -0.5886897832373408,
          -2.03889655784642,
          -0.08269100136583725,
          -0.2998182776646363,
          0.7537301596831394,
          -0.5572938977691413,
          0.2816574459013314,
          0.12511549492515286,
          -1.1520414977821023,
          -1.6077418183548926,
          0.12518543876338792,
          -0.17240992239466557,
          -0.29687603356526354,
          -0.538488421711546,
          1.011892155339132,
          0.5242967165890116,
          0.37788940477311916,
          1.3818585203086495,
          1.3322459158616347,
          1.3491805785283302,
          0.260837473417611,
          0.9770174853395498,
          -0.417469144514007,
          0.2532052106744681,
          -1.418974713556114,
          -1.304961959687015,
          -0.7850198786305627,
          -2.637960154783843,
          -0.702041364600879,
          0.2929621979386714,
          -0.31570510433110843,
          -0.2629023198827632,
          0.19022263715975085,
          0.6217882134487541,
          -0.2991271853655061,
          1.0088878670316135,
          -1.6952584120476268
         ],
         "xaxis": "x5",
         "y": [
          -0.09869980248667033,
          2.03726652741454,
          1.4394828771486599,
          1.8697131285068431,
          -0.5548997790378658,
          -0.6217206439491961,
          -0.689074198736593,
          -0.06741428706327046,
          1.7098599778074983,
          -0.4176920959973648,
          2.168907375948452,
          -0.4880158437300923,
          0.27498240917764155,
          0.08170163057623107,
          -0.03384861897299663,
          1.647092749347639,
          0.15860105398020632,
          0.059442598251813514,
          -0.5762077458563473,
          1.4150104934559853,
          -0.5749855002518763,
          -0.546415696315059,
          -1.5240091166445844,
          -0.9241042955106828,
          -1.9699502760010996,
          -0.6245600967739037,
          0.46518656287393384,
          -0.5218551564845291,
          0.2791729390951336,
          0.38578951337570555,
          0.39588598472909636,
          -0.7255379856229528,
          -0.56042666640254,
          -0.6027380454238817,
          0.06544925823079883,
          0.0977013071597415,
          0.2884822951944402,
          0.01713950529145413,
          -0.6866144000900855,
          -0.7898794564866739,
          0.10855608206827938,
          -0.22219683727590325,
          0.8283900308964371,
          -0.22510174689080045,
          0.08635559723721953,
          0.5335960581183034,
          0.37052671554643235,
          -0.570615537939435,
          0.2934992940562579,
          0.35328262839809565,
          -0.504249051160435,
          -1.9841088941570533,
          0.16468981598788138,
          -0.457678976262291,
          -0.4458065995793777,
          -0.6009038322071909,
          1.081394434790141,
          -0.32228195363254253,
          -0.2734324040026059,
          -0.11560060379954049,
          -1.145759112427046,
          -0.11539531430117402,
          0.32766295593105765,
          -0.373990881876142,
          -1.8553040836366972,
          0.41643076492351705,
          0.8492089009344047,
          -0.7965102060113378,
          2.036714812577297,
          0.21979935049899096,
          -1.1294971239943814,
          0.15636794398823822,
          0.19528867658492846,
          -0.664078836346772,
          0.29684278242568446,
          -0.8367625226528052,
          0.7616986595793469,
          1.855823984151398,
          -1.133439152106387,
          -0.8195629205557495,
          -0.46718347774595076,
          0.9486061350544259,
          -0.07737115781296872,
          -0.42174556204453584,
          1.6477605761097094,
          0.382673801536673,
          1.0452339650064126,
          -1.2834000440096809,
          0.8211643104999973,
          2.0187466797608917,
          0.03507192302206712,
          -1.290810831468579,
          0.7469538642891566,
          -0.7722379464065471,
          -0.7828371849281098,
          -0.7157909433349646,
          1.0350233315650033,
          0.34197577939435325,
          -0.20965832848228794,
          0.33295144312351205
         ],
         "yaxis": "y5"
        },
        {
         "histfunc": "count",
         "histnorm": "",
         "marker": {
          "color": "rgba(55, 128, 191, 1.0)",
          "line": {
           "color": "#4D5663",
           "width": 1.3
          }
         },
         "name": "B",
         "nbinsx": 10,
         "opacity": 0.8,
         "orientation": "v",
         "type": "histogram",
         "x": [
          -0.09869980248667033,
          2.03726652741454,
          1.4394828771486599,
          1.8697131285068431,
          -0.5548997790378658,
          -0.6217206439491961,
          -0.689074198736593,
          -0.06741428706327046,
          1.7098599778074983,
          -0.4176920959973648,
          2.168907375948452,
          -0.4880158437300923,
          0.27498240917764155,
          0.08170163057623107,
          -0.03384861897299663,
          1.647092749347639,
          0.15860105398020632,
          0.059442598251813514,
          -0.5762077458563473,
          1.4150104934559853,
          -0.5749855002518763,
          -0.546415696315059,
          -1.5240091166445844,
          -0.9241042955106828,
          -1.9699502760010996,
          -0.6245600967739037,
          0.46518656287393384,
          -0.5218551564845291,
          0.2791729390951336,
          0.38578951337570555,
          0.39588598472909636,
          -0.7255379856229528,
          -0.56042666640254,
          -0.6027380454238817,
          0.06544925823079883,
          0.0977013071597415,
          0.2884822951944402,
          0.01713950529145413,
          -0.6866144000900855,
          -0.7898794564866739,
          0.10855608206827938,
          -0.22219683727590325,
          0.8283900308964371,
          -0.22510174689080045,
          0.08635559723721953,
          0.5335960581183034,
          0.37052671554643235,
          -0.570615537939435,
          0.2934992940562579,
          0.35328262839809565,
          -0.504249051160435,
          -1.9841088941570533,
          0.16468981598788138,
          -0.457678976262291,
          -0.4458065995793777,
          -0.6009038322071909,
          1.081394434790141,
          -0.32228195363254253,
          -0.2734324040026059,
          -0.11560060379954049,
          -1.145759112427046,
          -0.11539531430117402,
          0.32766295593105765,
          -0.373990881876142,
          -1.8553040836366972,
          0.41643076492351705,
          0.8492089009344047,
          -0.7965102060113378,
          2.036714812577297,
          0.21979935049899096,
          -1.1294971239943814,
          0.15636794398823822,
          0.19528867658492846,
          -0.664078836346772,
          0.29684278242568446,
          -0.8367625226528052,
          0.7616986595793469,
          1.855823984151398,
          -1.133439152106387,
          -0.8195629205557495,
          -0.46718347774595076,
          0.9486061350544259,
          -0.07737115781296872,
          -0.42174556204453584,
          1.6477605761097094,
          0.382673801536673,
          1.0452339650064126,
          -1.2834000440096809,
          0.8211643104999973,
          2.0187466797608917,
          0.03507192302206712,
          -1.290810831468579,
          0.7469538642891566,
          -0.7722379464065471,
          -0.7828371849281098,
          -0.7157909433349646,
          1.0350233315650033,
          0.34197577939435325,
          -0.20965832848228794,
          0.33295144312351205
         ],
         "xaxis": "x6",
         "yaxis": "y6"
        },
        {
         "line": {
          "color": "rgba(128, 128, 128, 1.0)",
          "dash": "solid",
          "shape": "linear",
          "width": 1.3
         },
         "marker": {
          "size": 2,
          "symbol": "circle"
         },
         "mode": "markers",
         "name": "B",
         "text": "",
         "type": "scatter",
         "x": [
          -0.03871432534083431,
          0.8115707952131627,
          -0.17665423819459455,
          1.3466930613339523,
          -0.7096242874361512,
          0.5827954368056582,
          0.46518279753224095,
          -1.5660683477890591,
          -0.33199610826936693,
          -0.4744363313695482,
          1.4711440122729522,
          -0.003955344986920965,
          0.0562545380152191,
          0.15362277115179548,
          -0.36353528708391786,
          -0.012124866275137487,
          -0.20009491093416557,
          0.9614757069810966,
          0.7697978672912913,
          -0.23742915591891228,
          0.9725222749061871,
          0.41582536826645344,
          -1.0625242653194664,
          -0.7900579467789591,
          -0.6818934981943373,
          -0.13917048218982198,
          -0.3541996772670713,
          -0.8213352921077302,
          -0.07126063095007504,
          -0.26033422049286276,
          -0.5289646963018059,
          -0.43873497104461107,
          -0.45044738503422543,
          0.7478128184341659,
          0.6641194392583254,
          -0.979094314437018,
          -1.119399923453585,
          -1.5594785503686877,
          0.7599857788414909,
          -1.9097517568392404,
          -1.9468678465506883,
          0.5218375682681676,
          -1.0396394039937231,
          1.1276287199659947,
          -1.184342666394064,
          0.022131779564743076,
          -0.3201532437258341,
          -0.19702044383341424,
          -0.3758894766712151,
          0.05237384319038519,
          1.5172743804134299,
          2.4247879322619643,
          -0.9755230759676465,
          1.012608550719346,
          -1.290639386572514,
          -0.17154180805176894,
          0.7087889536846921,
          0.16864636263787605,
          -0.1312296598447758,
          0.7305408215857765,
          -1.3689031206003062,
          0.22090233284189276,
          1.3597780697136148,
          0.9944818070429114,
          0.6964499854986963,
          0.6745445328562419,
          -0.6662469380254723,
          -1.0174720887610438,
          0.2300492223012016,
          -0.036954874906627216,
          -0.726688304201755,
          -1.0211999418778872,
          1.0250471207567862,
          0.21183444445887054,
          0.37261079372522277,
          0.5822324112944044,
          -0.22929439516700795,
          0.2480386641167231,
          0.5643644796350337,
          0.9750637011146529,
          -0.18448805836167542,
          1.0717767289630435,
          2.0980105239450886,
          0.38372361927407656,
          -0.004206138482686182,
          -0.13370915390265514,
          0.16589187268661165,
          0.47628847080812187,
          0.704925336787344,
          0.12372473894611717,
          0.15210545578859208,
          -0.9406035775255597,
          -0.226907080030317,
          0.2499324277887329,
          -1.5170304489877942,
          1.2639490310851944,
          -0.516687512771716,
          2.305904708755523,
          -1.3952138991015384,
          0.630778993152211
         ],
         "xaxis": "x7",
         "y": [
          -0.09869980248667033,
          2.03726652741454,
          1.4394828771486599,
          1.8697131285068431,
          -0.5548997790378658,
          -0.6217206439491961,
          -0.689074198736593,
          -0.06741428706327046,
          1.7098599778074983,
          -0.4176920959973648,
          2.168907375948452,
          -0.4880158437300923,
          0.27498240917764155,
          0.08170163057623107,
          -0.03384861897299663,
          1.647092749347639,
          0.15860105398020632,
          0.059442598251813514,
          -0.5762077458563473,
          1.4150104934559853,
          -0.5749855002518763,
          -0.546415696315059,
          -1.5240091166445844,
          -0.9241042955106828,
          -1.9699502760010996,
          -0.6245600967739037,
          0.46518656287393384,
          -0.5218551564845291,
          0.2791729390951336,
          0.38578951337570555,
          0.39588598472909636,
          -0.7255379856229528,
          -0.56042666640254,
          -0.6027380454238817,
          0.06544925823079883,
          0.0977013071597415,
          0.2884822951944402,
          0.01713950529145413,
          -0.6866144000900855,
          -0.7898794564866739,
          0.10855608206827938,
          -0.22219683727590325,
          0.8283900308964371,
          -0.22510174689080045,
          0.08635559723721953,
          0.5335960581183034,
          0.37052671554643235,
          -0.570615537939435,
          0.2934992940562579,
          0.35328262839809565,
          -0.504249051160435,
          -1.9841088941570533,
          0.16468981598788138,
          -0.457678976262291,
          -0.4458065995793777,
          -0.6009038322071909,
          1.081394434790141,
          -0.32228195363254253,
          -0.2734324040026059,
          -0.11560060379954049,
          -1.145759112427046,
          -0.11539531430117402,
          0.32766295593105765,
          -0.373990881876142,
          -1.8553040836366972,
          0.41643076492351705,
          0.8492089009344047,
          -0.7965102060113378,
          2.036714812577297,
          0.21979935049899096,
          -1.1294971239943814,
          0.15636794398823822,
          0.19528867658492846,
          -0.664078836346772,
          0.29684278242568446,
          -0.8367625226528052,
          0.7616986595793469,
          1.855823984151398,
          -1.133439152106387,
          -0.8195629205557495,
          -0.46718347774595076,
          0.9486061350544259,
          -0.07737115781296872,
          -0.42174556204453584,
          1.6477605761097094,
          0.382673801536673,
          1.0452339650064126,
          -1.2834000440096809,
          0.8211643104999973,
          2.0187466797608917,
          0.03507192302206712,
          -1.290810831468579,
          0.7469538642891566,
          -0.7722379464065471,
          -0.7828371849281098,
          -0.7157909433349646,
          1.0350233315650033,
          0.34197577939435325,
          -0.20965832848228794,
          0.33295144312351205
         ],
         "yaxis": "y7"
        },
        {
         "line": {
          "color": "rgba(128, 128, 128, 1.0)",
          "dash": "solid",
          "shape": "linear",
          "width": 1.3
         },
         "marker": {
          "size": 2,
          "symbol": "circle"
         },
         "mode": "markers",
         "name": "B",
         "text": "",
         "type": "scatter",
         "x": [
          -0.2610754490700943,
          -0.31274259932016485,
          -0.05195486783740825,
          -0.6363720505501187,
          0.26403720932684455,
          -0.670878971050256,
          0.35306264868315396,
          -1.4766036084490375,
          -1.0570360760952613,
          -0.5716289462859565,
          0.5996025660857952,
          0.6669472548117814,
          -0.20190710037508552,
          0.6591484959562992,
          0.3007018794461643,
          -2.3269309002298684,
          -0.45564726513007425,
          0.31412461514473483,
          1.5775316971860345,
          -0.20816830651970206,
          1.0992586180529906,
          1.2482324665607225,
          0.5963441305128984,
          0.6759383135148479,
          -0.31391325666451225,
          1.20331051531392,
          -1.1189113149477334,
          0.04340009025224424,
          -0.5873078097584103,
          -1.7395764773201399,
          1.7318829844673942,
          -1.8582286156354608,
          0.2102896767181078,
          0.036038219215623425,
          1.7315528329827625,
          -0.23751896821776966,
          -1.2619041772231365,
          -0.4209939529770629,
          0.6444023091948922,
          -0.12611657156977105,
          -0.8679107790133433,
          -1.2941016753923553,
          0.14594471207322482,
          -1.0981622210575677,
          -0.08624722509148783,
          -0.5531726942858656,
          1.3258006005289427,
          -0.5239864957809007,
          0.09995128771691131,
          2.10208730930389,
          -0.6752478145794528,
          -0.3840445714707245,
          -0.1372520446980467,
          0.3886173501207647,
          1.2332964234722699,
          1.4381637163220384,
          -0.25764043429119016,
          -0.9842129074651307,
          -0.13624389171313364,
          -1.2929703628833762,
          -0.21066150761967375,
          -1.0517433412117014,
          0.12062324844287063,
          1.2927129194575222,
          -0.7835829494349476,
          -0.7570704661624947,
          -1.161275272484911,
          -0.6580589800179951,
          0.4574163292136516,
          0.9282633619209005,
          1.2361508560233534,
          1.6358461396414072,
          -0.3275027468944334,
          0.4715100581108882,
          0.1900867796549248,
          0.9503595438312736,
          0.2846599033154163,
          0.7838010808747881,
          -0.6215426494588088,
          -2.5585283098605864,
          2.792906821685706,
          -0.21163724717237037,
          -0.799844955740187,
          -0.12841497548761696,
          1.643525322798787,
          0.6669179707736347,
          -2.071559206824266,
          0.8811338533173473,
          -2.0193879616140107,
          -1.9139249417279494,
          0.9818762536192873,
          -0.14457914752721937,
          -0.1019202571490361,
          -0.10167892581764211,
          1.2887099889784408,
          0.7911773663583078,
          -1.0221485430858486,
          -0.47387097215670204,
          -0.20350765600332388,
          -0.13150023481557147
         ],
         "xaxis": "x8",
         "y": [
          -0.09869980248667033,
          2.03726652741454,
          1.4394828771486599,
          1.8697131285068431,
          -0.5548997790378658,
          -0.6217206439491961,
          -0.689074198736593,
          -0.06741428706327046,
          1.7098599778074983,
          -0.4176920959973648,
          2.168907375948452,
          -0.4880158437300923,
          0.27498240917764155,
          0.08170163057623107,
          -0.03384861897299663,
          1.647092749347639,
          0.15860105398020632,
          0.059442598251813514,
          -0.5762077458563473,
          1.4150104934559853,
          -0.5749855002518763,
          -0.546415696315059,
          -1.5240091166445844,
          -0.9241042955106828,
          -1.9699502760010996,
          -0.6245600967739037,
          0.46518656287393384,
          -0.5218551564845291,
          0.2791729390951336,
          0.38578951337570555,
          0.39588598472909636,
          -0.7255379856229528,
          -0.56042666640254,
          -0.6027380454238817,
          0.06544925823079883,
          0.0977013071597415,
          0.2884822951944402,
          0.01713950529145413,
          -0.6866144000900855,
          -0.7898794564866739,
          0.10855608206827938,
          -0.22219683727590325,
          0.8283900308964371,
          -0.22510174689080045,
          0.08635559723721953,
          0.5335960581183034,
          0.37052671554643235,
          -0.570615537939435,
          0.2934992940562579,
          0.35328262839809565,
          -0.504249051160435,
          -1.9841088941570533,
          0.16468981598788138,
          -0.457678976262291,
          -0.4458065995793777,
          -0.6009038322071909,
          1.081394434790141,
          -0.32228195363254253,
          -0.2734324040026059,
          -0.11560060379954049,
          -1.145759112427046,
          -0.11539531430117402,
          0.32766295593105765,
          -0.373990881876142,
          -1.8553040836366972,
          0.41643076492351705,
          0.8492089009344047,
          -0.7965102060113378,
          2.036714812577297,
          0.21979935049899096,
          -1.1294971239943814,
          0.15636794398823822,
          0.19528867658492846,
          -0.664078836346772,
          0.29684278242568446,
          -0.8367625226528052,
          0.7616986595793469,
          1.855823984151398,
          -1.133439152106387,
          -0.8195629205557495,
          -0.46718347774595076,
          0.9486061350544259,
          -0.07737115781296872,
          -0.42174556204453584,
          1.6477605761097094,
          0.382673801536673,
          1.0452339650064126,
          -1.2834000440096809,
          0.8211643104999973,
          2.0187466797608917,
          0.03507192302206712,
          -1.290810831468579,
          0.7469538642891566,
          -0.7722379464065471,
          -0.7828371849281098,
          -0.7157909433349646,
          1.0350233315650033,
          0.34197577939435325,
          -0.20965832848228794,
          0.33295144312351205
         ],
         "yaxis": "y8"
        },
        {
         "line": {
          "color": "rgba(128, 128, 128, 1.0)",
          "dash": "solid",
          "shape": "linear",
          "width": 1.3
         },
         "marker": {
          "size": 2,
          "symbol": "circle"
         },
         "mode": "markers",
         "name": "C",
         "text": "",
         "type": "scatter",
         "x": [
          3.3625825147031634,
          -0.6885621495157169,
          0.5149951992086972,
          -0.4976600607971672,
          1.3129178129369143,
          1.259037760305938,
          -0.8205591484786454,
          -0.2888956899883146,
          -0.09602816876888236,
          -0.9613950050487399,
          0.19756992435357082,
          -2.010039225046455,
          -0.7479232977395808,
          1.947999686378811,
          -1.300068284850122,
          0.8562782186572203,
          -0.8554492701360895,
          -0.4206993361270417,
          0.17322463597602866,
          -0.47160211461434376,
          0.565677357194077,
          -0.6594632474857488,
          1.7551221205900165,
          0.7357358194208311,
          -1.1591709602449005,
          -0.05419091582379508,
          -0.36257185525324137,
          1.4349669783777106,
          -0.5661528981377684,
          -0.407032366454418,
          0.22755126025017564,
          0.8257857482311864,
          0.27076051378642957,
          -0.46987215853669007,
          -0.6260892978035598,
          -0.14422154840098403,
          0.06729047029481175,
          -0.7538901577971123,
          -0.16372387540641004,
          -1.5306935620588862,
          1.7378715409320646,
          1.8728785308476077,
          -0.22596064971310095,
          0.19265357626344148,
          1.3095974819986245,
          -0.8467226757105627,
          -0.47588441755457705,
          0.8436192849298026,
          -1.0696497054771597,
          -0.29246972729030885,
          -0.5072696949324063,
          -1.804060391633852,
          0.41463973873286825,
          -0.06065342496772562,
          -1.2132110689335833,
          -0.1869364025887339,
          0.7239663414003534,
          -0.03198459252341648,
          0.9917197143234533,
          0.4124466650325076,
          -0.6198057419680839,
          -0.27086068891135073,
          -1.6085151157707147,
          -0.5886897832373408,
          -2.03889655784642,
          -0.08269100136583725,
          -0.2998182776646363,
          0.7537301596831394,
          -0.5572938977691413,
          0.2816574459013314,
          0.12511549492515286,
          -1.1520414977821023,
          -1.6077418183548926,
          0.12518543876338792,
          -0.17240992239466557,
          -0.29687603356526354,
          -0.538488421711546,
          1.011892155339132,
          0.5242967165890116,
          0.37788940477311916,
          1.3818585203086495,
          1.3322459158616347,
          1.3491805785283302,
          0.260837473417611,
          0.9770174853395498,
          -0.417469144514007,
          0.2532052106744681,
          -1.418974713556114,
          -1.304961959687015,
          -0.7850198786305627,
          -2.637960154783843,
          -0.702041364600879,
          0.2929621979386714,
          -0.31570510433110843,
          -0.2629023198827632,
          0.19022263715975085,
          0.6217882134487541,
          -0.2991271853655061,
          1.0088878670316135,
          -1.6952584120476268
         ],
         "xaxis": "x9",
         "y": [
          -0.03871432534083431,
          0.8115707952131627,
          -0.17665423819459455,
          1.3466930613339523,
          -0.7096242874361512,
          0.5827954368056582,
          0.46518279753224095,
          -1.5660683477890591,
          -0.33199610826936693,
          -0.4744363313695482,
          1.4711440122729522,
          -0.003955344986920965,
          0.0562545380152191,
          0.15362277115179548,
          -0.36353528708391786,
          -0.012124866275137487,
          -0.20009491093416557,
          0.9614757069810966,
          0.7697978672912913,
          -0.23742915591891228,
          0.9725222749061871,
          0.41582536826645344,
          -1.0625242653194664,
          -0.7900579467789591,
          -0.6818934981943373,
          -0.13917048218982198,
          -0.3541996772670713,
          -0.8213352921077302,
          -0.07126063095007504,
          -0.26033422049286276,
          -0.5289646963018059,
          -0.43873497104461107,
          -0.45044738503422543,
          0.7478128184341659,
          0.6641194392583254,
          -0.979094314437018,
          -1.119399923453585,
          -1.5594785503686877,
          0.7599857788414909,
          -1.9097517568392404,
          -1.9468678465506883,
          0.5218375682681676,
          -1.0396394039937231,
          1.1276287199659947,
          -1.184342666394064,
          0.022131779564743076,
          -0.3201532437258341,
          -0.19702044383341424,
          -0.3758894766712151,
          0.05237384319038519,
          1.5172743804134299,
          2.4247879322619643,
          -0.9755230759676465,
          1.012608550719346,
          -1.290639386572514,
          -0.17154180805176894,
          0.7087889536846921,
          0.16864636263787605,
          -0.1312296598447758,
          0.7305408215857765,
          -1.3689031206003062,
          0.22090233284189276,
          1.3597780697136148,
          0.9944818070429114,
          0.6964499854986963,
          0.6745445328562419,
          -0.6662469380254723,
          -1.0174720887610438,
          0.2300492223012016,
          -0.036954874906627216,
          -0.726688304201755,
          -1.0211999418778872,
          1.0250471207567862,
          0.21183444445887054,
          0.37261079372522277,
          0.5822324112944044,
          -0.22929439516700795,
          0.2480386641167231,
          0.5643644796350337,
          0.9750637011146529,
          -0.18448805836167542,
          1.0717767289630435,
          2.0980105239450886,
          0.38372361927407656,
          -0.004206138482686182,
          -0.13370915390265514,
          0.16589187268661165,
          0.47628847080812187,
          0.704925336787344,
          0.12372473894611717,
          0.15210545578859208,
          -0.9406035775255597,
          -0.226907080030317,
          0.2499324277887329,
          -1.5170304489877942,
          1.2639490310851944,
          -0.516687512771716,
          2.305904708755523,
          -1.3952138991015384,
          0.630778993152211
         ],
         "yaxis": "y9"
        },
        {
         "line": {
          "color": "rgba(128, 128, 128, 1.0)",
          "dash": "solid",
          "shape": "linear",
          "width": 1.3
         },
         "marker": {
          "size": 2,
          "symbol": "circle"
         },
         "mode": "markers",
         "name": "C",
         "text": "",
         "type": "scatter",
         "x": [
          -0.09869980248667033,
          2.03726652741454,
          1.4394828771486599,
          1.8697131285068431,
          -0.5548997790378658,
          -0.6217206439491961,
          -0.689074198736593,
          -0.06741428706327046,
          1.7098599778074983,
          -0.4176920959973648,
          2.168907375948452,
          -0.4880158437300923,
          0.27498240917764155,
          0.08170163057623107,
          -0.03384861897299663,
          1.647092749347639,
          0.15860105398020632,
          0.059442598251813514,
          -0.5762077458563473,
          1.4150104934559853,
          -0.5749855002518763,
          -0.546415696315059,
          -1.5240091166445844,
          -0.9241042955106828,
          -1.9699502760010996,
          -0.6245600967739037,
          0.46518656287393384,
          -0.5218551564845291,
          0.2791729390951336,
          0.38578951337570555,
          0.39588598472909636,
          -0.7255379856229528,
          -0.56042666640254,
          -0.6027380454238817,
          0.06544925823079883,
          0.0977013071597415,
          0.2884822951944402,
          0.01713950529145413,
          -0.6866144000900855,
          -0.7898794564866739,
          0.10855608206827938,
          -0.22219683727590325,
          0.8283900308964371,
          -0.22510174689080045,
          0.08635559723721953,
          0.5335960581183034,
          0.37052671554643235,
          -0.570615537939435,
          0.2934992940562579,
          0.35328262839809565,
          -0.504249051160435,
          -1.9841088941570533,
          0.16468981598788138,
          -0.457678976262291,
          -0.4458065995793777,
          -0.6009038322071909,
          1.081394434790141,
          -0.32228195363254253,
          -0.2734324040026059,
          -0.11560060379954049,
          -1.145759112427046,
          -0.11539531430117402,
          0.32766295593105765,
          -0.373990881876142,
          -1.8553040836366972,
          0.41643076492351705,
          0.8492089009344047,
          -0.7965102060113378,
          2.036714812577297,
          0.21979935049899096,
          -1.1294971239943814,
          0.15636794398823822,
          0.19528867658492846,
          -0.664078836346772,
          0.29684278242568446,
          -0.8367625226528052,
          0.7616986595793469,
          1.855823984151398,
          -1.133439152106387,
          -0.8195629205557495,
          -0.46718347774595076,
          0.9486061350544259,
          -0.07737115781296872,
          -0.42174556204453584,
          1.6477605761097094,
          0.382673801536673,
          1.0452339650064126,
          -1.2834000440096809,
          0.8211643104999973,
          2.0187466797608917,
          0.03507192302206712,
          -1.290810831468579,
          0.7469538642891566,
          -0.7722379464065471,
          -0.7828371849281098,
          -0.7157909433349646,
          1.0350233315650033,
          0.34197577939435325,
          -0.20965832848228794,
          0.33295144312351205
         ],
         "xaxis": "x10",
         "y": [
          -0.03871432534083431,
          0.8115707952131627,
          -0.17665423819459455,
          1.3466930613339523,
          -0.7096242874361512,
          0.5827954368056582,
          0.46518279753224095,
          -1.5660683477890591,
          -0.33199610826936693,
          -0.4744363313695482,
          1.4711440122729522,
          -0.003955344986920965,
          0.0562545380152191,
          0.15362277115179548,
          -0.36353528708391786,
          -0.012124866275137487,
          -0.20009491093416557,
          0.9614757069810966,
          0.7697978672912913,
          -0.23742915591891228,
          0.9725222749061871,
          0.41582536826645344,
          -1.0625242653194664,
          -0.7900579467789591,
          -0.6818934981943373,
          -0.13917048218982198,
          -0.3541996772670713,
          -0.8213352921077302,
          -0.07126063095007504,
          -0.26033422049286276,
          -0.5289646963018059,
          -0.43873497104461107,
          -0.45044738503422543,
          0.7478128184341659,
          0.6641194392583254,
          -0.979094314437018,
          -1.119399923453585,
          -1.5594785503686877,
          0.7599857788414909,
          -1.9097517568392404,
          -1.9468678465506883,
          0.5218375682681676,
          -1.0396394039937231,
          1.1276287199659947,
          -1.184342666394064,
          0.022131779564743076,
          -0.3201532437258341,
          -0.19702044383341424,
          -0.3758894766712151,
          0.05237384319038519,
          1.5172743804134299,
          2.4247879322619643,
          -0.9755230759676465,
          1.012608550719346,
          -1.290639386572514,
          -0.17154180805176894,
          0.7087889536846921,
          0.16864636263787605,
          -0.1312296598447758,
          0.7305408215857765,
          -1.3689031206003062,
          0.22090233284189276,
          1.3597780697136148,
          0.9944818070429114,
          0.6964499854986963,
          0.6745445328562419,
          -0.6662469380254723,
          -1.0174720887610438,
          0.2300492223012016,
          -0.036954874906627216,
          -0.726688304201755,
          -1.0211999418778872,
          1.0250471207567862,
          0.21183444445887054,
          0.37261079372522277,
          0.5822324112944044,
          -0.22929439516700795,
          0.2480386641167231,
          0.5643644796350337,
          0.9750637011146529,
          -0.18448805836167542,
          1.0717767289630435,
          2.0980105239450886,
          0.38372361927407656,
          -0.004206138482686182,
          -0.13370915390265514,
          0.16589187268661165,
          0.47628847080812187,
          0.704925336787344,
          0.12372473894611717,
          0.15210545578859208,
          -0.9406035775255597,
          -0.226907080030317,
          0.2499324277887329,
          -1.5170304489877942,
          1.2639490310851944,
          -0.516687512771716,
          2.305904708755523,
          -1.3952138991015384,
          0.630778993152211
         ],
         "yaxis": "y10"
        },
        {
         "histfunc": "count",
         "histnorm": "",
         "marker": {
          "color": "rgba(50, 171, 96, 1.0)",
          "line": {
           "color": "#4D5663",
           "width": 1.3
          }
         },
         "name": "C",
         "nbinsx": 10,
         "opacity": 0.8,
         "orientation": "v",
         "type": "histogram",
         "x": [
          -0.03871432534083431,
          0.8115707952131627,
          -0.17665423819459455,
          1.3466930613339523,
          -0.7096242874361512,
          0.5827954368056582,
          0.46518279753224095,
          -1.5660683477890591,
          -0.33199610826936693,
          -0.4744363313695482,
          1.4711440122729522,
          -0.003955344986920965,
          0.0562545380152191,
          0.15362277115179548,
          -0.36353528708391786,
          -0.012124866275137487,
          -0.20009491093416557,
          0.9614757069810966,
          0.7697978672912913,
          -0.23742915591891228,
          0.9725222749061871,
          0.41582536826645344,
          -1.0625242653194664,
          -0.7900579467789591,
          -0.6818934981943373,
          -0.13917048218982198,
          -0.3541996772670713,
          -0.8213352921077302,
          -0.07126063095007504,
          -0.26033422049286276,
          -0.5289646963018059,
          -0.43873497104461107,
          -0.45044738503422543,
          0.7478128184341659,
          0.6641194392583254,
          -0.979094314437018,
          -1.119399923453585,
          -1.5594785503686877,
          0.7599857788414909,
          -1.9097517568392404,
          -1.9468678465506883,
          0.5218375682681676,
          -1.0396394039937231,
          1.1276287199659947,
          -1.184342666394064,
          0.022131779564743076,
          -0.3201532437258341,
          -0.19702044383341424,
          -0.3758894766712151,
          0.05237384319038519,
          1.5172743804134299,
          2.4247879322619643,
          -0.9755230759676465,
          1.012608550719346,
          -1.290639386572514,
          -0.17154180805176894,
          0.7087889536846921,
          0.16864636263787605,
          -0.1312296598447758,
          0.7305408215857765,
          -1.3689031206003062,
          0.22090233284189276,
          1.3597780697136148,
          0.9944818070429114,
          0.6964499854986963,
          0.6745445328562419,
          -0.6662469380254723,
          -1.0174720887610438,
          0.2300492223012016,
          -0.036954874906627216,
          -0.726688304201755,
          -1.0211999418778872,
          1.0250471207567862,
          0.21183444445887054,
          0.37261079372522277,
          0.5822324112944044,
          -0.22929439516700795,
          0.2480386641167231,
          0.5643644796350337,
          0.9750637011146529,
          -0.18448805836167542,
          1.0717767289630435,
          2.0980105239450886,
          0.38372361927407656,
          -0.004206138482686182,
          -0.13370915390265514,
          0.16589187268661165,
          0.47628847080812187,
          0.704925336787344,
          0.12372473894611717,
          0.15210545578859208,
          -0.9406035775255597,
          -0.226907080030317,
          0.2499324277887329,
          -1.5170304489877942,
          1.2639490310851944,
          -0.516687512771716,
          2.305904708755523,
          -1.3952138991015384,
          0.630778993152211
         ],
         "xaxis": "x11",
         "yaxis": "y11"
        },
        {
         "line": {
          "color": "rgba(128, 128, 128, 1.0)",
          "dash": "solid",
          "shape": "linear",
          "width": 1.3
         },
         "marker": {
          "size": 2,
          "symbol": "circle"
         },
         "mode": "markers",
         "name": "C",
         "text": "",
         "type": "scatter",
         "x": [
          -0.2610754490700943,
          -0.31274259932016485,
          -0.05195486783740825,
          -0.6363720505501187,
          0.26403720932684455,
          -0.670878971050256,
          0.35306264868315396,
          -1.4766036084490375,
          -1.0570360760952613,
          -0.5716289462859565,
          0.5996025660857952,
          0.6669472548117814,
          -0.20190710037508552,
          0.6591484959562992,
          0.3007018794461643,
          -2.3269309002298684,
          -0.45564726513007425,
          0.31412461514473483,
          1.5775316971860345,
          -0.20816830651970206,
          1.0992586180529906,
          1.2482324665607225,
          0.5963441305128984,
          0.6759383135148479,
          -0.31391325666451225,
          1.20331051531392,
          -1.1189113149477334,
          0.04340009025224424,
          -0.5873078097584103,
          -1.7395764773201399,
          1.7318829844673942,
          -1.8582286156354608,
          0.2102896767181078,
          0.036038219215623425,
          1.7315528329827625,
          -0.23751896821776966,
          -1.2619041772231365,
          -0.4209939529770629,
          0.6444023091948922,
          -0.12611657156977105,
          -0.8679107790133433,
          -1.2941016753923553,
          0.14594471207322482,
          -1.0981622210575677,
          -0.08624722509148783,
          -0.5531726942858656,
          1.3258006005289427,
          -0.5239864957809007,
          0.09995128771691131,
          2.10208730930389,
          -0.6752478145794528,
          -0.3840445714707245,
          -0.1372520446980467,
          0.3886173501207647,
          1.2332964234722699,
          1.4381637163220384,
          -0.25764043429119016,
          -0.9842129074651307,
          -0.13624389171313364,
          -1.2929703628833762,
          -0.21066150761967375,
          -1.0517433412117014,
          0.12062324844287063,
          1.2927129194575222,
          -0.7835829494349476,
          -0.7570704661624947,
          -1.161275272484911,
          -0.6580589800179951,
          0.4574163292136516,
          0.9282633619209005,
          1.2361508560233534,
          1.6358461396414072,
          -0.3275027468944334,
          0.4715100581108882,
          0.1900867796549248,
          0.9503595438312736,
          0.2846599033154163,
          0.7838010808747881,
          -0.6215426494588088,
          -2.5585283098605864,
          2.792906821685706,
          -0.21163724717237037,
          -0.799844955740187,
          -0.12841497548761696,
          1.643525322798787,
          0.6669179707736347,
          -2.071559206824266,
          0.8811338533173473,
          -2.0193879616140107,
          -1.9139249417279494,
          0.9818762536192873,
          -0.14457914752721937,
          -0.1019202571490361,
          -0.10167892581764211,
          1.2887099889784408,
          0.7911773663583078,
          -1.0221485430858486,
          -0.47387097215670204,
          -0.20350765600332388,
          -0.13150023481557147
         ],
         "xaxis": "x12",
         "y": [
          -0.03871432534083431,
          0.8115707952131627,
          -0.17665423819459455,
          1.3466930613339523,
          -0.7096242874361512,
          0.5827954368056582,
          0.46518279753224095,
          -1.5660683477890591,
          -0.33199610826936693,
          -0.4744363313695482,
          1.4711440122729522,
          -0.003955344986920965,
          0.0562545380152191,
          0.15362277115179548,
          -0.36353528708391786,
          -0.012124866275137487,
          -0.20009491093416557,
          0.9614757069810966,
          0.7697978672912913,
          -0.23742915591891228,
          0.9725222749061871,
          0.41582536826645344,
          -1.0625242653194664,
          -0.7900579467789591,
          -0.6818934981943373,
          -0.13917048218982198,
          -0.3541996772670713,
          -0.8213352921077302,
          -0.07126063095007504,
          -0.26033422049286276,
          -0.5289646963018059,
          -0.43873497104461107,
          -0.45044738503422543,
          0.7478128184341659,
          0.6641194392583254,
          -0.979094314437018,
          -1.119399923453585,
          -1.5594785503686877,
          0.7599857788414909,
          -1.9097517568392404,
          -1.9468678465506883,
          0.5218375682681676,
          -1.0396394039937231,
          1.1276287199659947,
          -1.184342666394064,
          0.022131779564743076,
          -0.3201532437258341,
          -0.19702044383341424,
          -0.3758894766712151,
          0.05237384319038519,
          1.5172743804134299,
          2.4247879322619643,
          -0.9755230759676465,
          1.012608550719346,
          -1.290639386572514,
          -0.17154180805176894,
          0.7087889536846921,
          0.16864636263787605,
          -0.1312296598447758,
          0.7305408215857765,
          -1.3689031206003062,
          0.22090233284189276,
          1.3597780697136148,
          0.9944818070429114,
          0.6964499854986963,
          0.6745445328562419,
          -0.6662469380254723,
          -1.0174720887610438,
          0.2300492223012016,
          -0.036954874906627216,
          -0.726688304201755,
          -1.0211999418778872,
          1.0250471207567862,
          0.21183444445887054,
          0.37261079372522277,
          0.5822324112944044,
          -0.22929439516700795,
          0.2480386641167231,
          0.5643644796350337,
          0.9750637011146529,
          -0.18448805836167542,
          1.0717767289630435,
          2.0980105239450886,
          0.38372361927407656,
          -0.004206138482686182,
          -0.13370915390265514,
          0.16589187268661165,
          0.47628847080812187,
          0.704925336787344,
          0.12372473894611717,
          0.15210545578859208,
          -0.9406035775255597,
          -0.226907080030317,
          0.2499324277887329,
          -1.5170304489877942,
          1.2639490310851944,
          -0.516687512771716,
          2.305904708755523,
          -1.3952138991015384,
          0.630778993152211
         ],
         "yaxis": "y12"
        },
        {
         "line": {
          "color": "rgba(128, 128, 128, 1.0)",
          "dash": "solid",
          "shape": "linear",
          "width": 1.3
         },
         "marker": {
          "size": 2,
          "symbol": "circle"
         },
         "mode": "markers",
         "name": "D",
         "text": "",
         "type": "scatter",
         "x": [
          3.3625825147031634,
          -0.6885621495157169,
          0.5149951992086972,
          -0.4976600607971672,
          1.3129178129369143,
          1.259037760305938,
          -0.8205591484786454,
          -0.2888956899883146,
          -0.09602816876888236,
          -0.9613950050487399,
          0.19756992435357082,
          -2.010039225046455,
          -0.7479232977395808,
          1.947999686378811,
          -1.300068284850122,
          0.8562782186572203,
          -0.8554492701360895,
          -0.4206993361270417,
          0.17322463597602866,
          -0.47160211461434376,
          0.565677357194077,
          -0.6594632474857488,
          1.7551221205900165,
          0.7357358194208311,
          -1.1591709602449005,
          -0.05419091582379508,
          -0.36257185525324137,
          1.4349669783777106,
          -0.5661528981377684,
          -0.407032366454418,
          0.22755126025017564,
          0.8257857482311864,
          0.27076051378642957,
          -0.46987215853669007,
          -0.6260892978035598,
          -0.14422154840098403,
          0.06729047029481175,
          -0.7538901577971123,
          -0.16372387540641004,
          -1.5306935620588862,
          1.7378715409320646,
          1.8728785308476077,
          -0.22596064971310095,
          0.19265357626344148,
          1.3095974819986245,
          -0.8467226757105627,
          -0.47588441755457705,
          0.8436192849298026,
          -1.0696497054771597,
          -0.29246972729030885,
          -0.5072696949324063,
          -1.804060391633852,
          0.41463973873286825,
          -0.06065342496772562,
          -1.2132110689335833,
          -0.1869364025887339,
          0.7239663414003534,
          -0.03198459252341648,
          0.9917197143234533,
          0.4124466650325076,
          -0.6198057419680839,
          -0.27086068891135073,
          -1.6085151157707147,
          -0.5886897832373408,
          -2.03889655784642,
          -0.08269100136583725,
          -0.2998182776646363,
          0.7537301596831394,
          -0.5572938977691413,
          0.2816574459013314,
          0.12511549492515286,
          -1.1520414977821023,
          -1.6077418183548926,
          0.12518543876338792,
          -0.17240992239466557,
          -0.29687603356526354,
          -0.538488421711546,
          1.011892155339132,
          0.5242967165890116,
          0.37788940477311916,
          1.3818585203086495,
          1.3322459158616347,
          1.3491805785283302,
          0.260837473417611,
          0.9770174853395498,
          -0.417469144514007,
          0.2532052106744681,
          -1.418974713556114,
          -1.304961959687015,
          -0.7850198786305627,
          -2.637960154783843,
          -0.702041364600879,
          0.2929621979386714,
          -0.31570510433110843,
          -0.2629023198827632,
          0.19022263715975085,
          0.6217882134487541,
          -0.2991271853655061,
          1.0088878670316135,
          -1.6952584120476268
         ],
         "xaxis": "x13",
         "y": [
          -0.2610754490700943,
          -0.31274259932016485,
          -0.05195486783740825,
          -0.6363720505501187,
          0.26403720932684455,
          -0.670878971050256,
          0.35306264868315396,
          -1.4766036084490375,
          -1.0570360760952613,
          -0.5716289462859565,
          0.5996025660857952,
          0.6669472548117814,
          -0.20190710037508552,
          0.6591484959562992,
          0.3007018794461643,
          -2.3269309002298684,
          -0.45564726513007425,
          0.31412461514473483,
          1.5775316971860345,
          -0.20816830651970206,
          1.0992586180529906,
          1.2482324665607225,
          0.5963441305128984,
          0.6759383135148479,
          -0.31391325666451225,
          1.20331051531392,
          -1.1189113149477334,
          0.04340009025224424,
          -0.5873078097584103,
          -1.7395764773201399,
          1.7318829844673942,
          -1.8582286156354608,
          0.2102896767181078,
          0.036038219215623425,
          1.7315528329827625,
          -0.23751896821776966,
          -1.2619041772231365,
          -0.4209939529770629,
          0.6444023091948922,
          -0.12611657156977105,
          -0.8679107790133433,
          -1.2941016753923553,
          0.14594471207322482,
          -1.0981622210575677,
          -0.08624722509148783,
          -0.5531726942858656,
          1.3258006005289427,
          -0.5239864957809007,
          0.09995128771691131,
          2.10208730930389,
          -0.6752478145794528,
          -0.3840445714707245,
          -0.1372520446980467,
          0.3886173501207647,
          1.2332964234722699,
          1.4381637163220384,
          -0.25764043429119016,
          -0.9842129074651307,
          -0.13624389171313364,
          -1.2929703628833762,
          -0.21066150761967375,
          -1.0517433412117014,
          0.12062324844287063,
          1.2927129194575222,
          -0.7835829494349476,
          -0.7570704661624947,
          -1.161275272484911,
          -0.6580589800179951,
          0.4574163292136516,
          0.9282633619209005,
          1.2361508560233534,
          1.6358461396414072,
          -0.3275027468944334,
          0.4715100581108882,
          0.1900867796549248,
          0.9503595438312736,
          0.2846599033154163,
          0.7838010808747881,
          -0.6215426494588088,
          -2.5585283098605864,
          2.792906821685706,
          -0.21163724717237037,
          -0.799844955740187,
          -0.12841497548761696,
          1.643525322798787,
          0.6669179707736347,
          -2.071559206824266,
          0.8811338533173473,
          -2.0193879616140107,
          -1.9139249417279494,
          0.9818762536192873,
          -0.14457914752721937,
          -0.1019202571490361,
          -0.10167892581764211,
          1.2887099889784408,
          0.7911773663583078,
          -1.0221485430858486,
          -0.47387097215670204,
          -0.20350765600332388,
          -0.13150023481557147
         ],
         "yaxis": "y13"
        },
        {
         "line": {
          "color": "rgba(128, 128, 128, 1.0)",
          "dash": "solid",
          "shape": "linear",
          "width": 1.3
         },
         "marker": {
          "size": 2,
          "symbol": "circle"
         },
         "mode": "markers",
         "name": "D",
         "text": "",
         "type": "scatter",
         "x": [
          -0.09869980248667033,
          2.03726652741454,
          1.4394828771486599,
          1.8697131285068431,
          -0.5548997790378658,
          -0.6217206439491961,
          -0.689074198736593,
          -0.06741428706327046,
          1.7098599778074983,
          -0.4176920959973648,
          2.168907375948452,
          -0.4880158437300923,
          0.27498240917764155,
          0.08170163057623107,
          -0.03384861897299663,
          1.647092749347639,
          0.15860105398020632,
          0.059442598251813514,
          -0.5762077458563473,
          1.4150104934559853,
          -0.5749855002518763,
          -0.546415696315059,
          -1.5240091166445844,
          -0.9241042955106828,
          -1.9699502760010996,
          -0.6245600967739037,
          0.46518656287393384,
          -0.5218551564845291,
          0.2791729390951336,
          0.38578951337570555,
          0.39588598472909636,
          -0.7255379856229528,
          -0.56042666640254,
          -0.6027380454238817,
          0.06544925823079883,
          0.0977013071597415,
          0.2884822951944402,
          0.01713950529145413,
          -0.6866144000900855,
          -0.7898794564866739,
          0.10855608206827938,
          -0.22219683727590325,
          0.8283900308964371,
          -0.22510174689080045,
          0.08635559723721953,
          0.5335960581183034,
          0.37052671554643235,
          -0.570615537939435,
          0.2934992940562579,
          0.35328262839809565,
          -0.504249051160435,
          -1.9841088941570533,
          0.16468981598788138,
          -0.457678976262291,
          -0.4458065995793777,
          -0.6009038322071909,
          1.081394434790141,
          -0.32228195363254253,
          -0.2734324040026059,
          -0.11560060379954049,
          -1.145759112427046,
          -0.11539531430117402,
          0.32766295593105765,
          -0.373990881876142,
          -1.8553040836366972,
          0.41643076492351705,
          0.8492089009344047,
          -0.7965102060113378,
          2.036714812577297,
          0.21979935049899096,
          -1.1294971239943814,
          0.15636794398823822,
          0.19528867658492846,
          -0.664078836346772,
          0.29684278242568446,
          -0.8367625226528052,
          0.7616986595793469,
          1.855823984151398,
          -1.133439152106387,
          -0.8195629205557495,
          -0.46718347774595076,
          0.9486061350544259,
          -0.07737115781296872,
          -0.42174556204453584,
          1.6477605761097094,
          0.382673801536673,
          1.0452339650064126,
          -1.2834000440096809,
          0.8211643104999973,
          2.0187466797608917,
          0.03507192302206712,
          -1.290810831468579,
          0.7469538642891566,
          -0.7722379464065471,
          -0.7828371849281098,
          -0.7157909433349646,
          1.0350233315650033,
          0.34197577939435325,
          -0.20965832848228794,
          0.33295144312351205
         ],
         "xaxis": "x14",
         "y": [
          -0.2610754490700943,
          -0.31274259932016485,
          -0.05195486783740825,
          -0.6363720505501187,
          0.26403720932684455,
          -0.670878971050256,
          0.35306264868315396,
          -1.4766036084490375,
          -1.0570360760952613,
          -0.5716289462859565,
          0.5996025660857952,
          0.6669472548117814,
          -0.20190710037508552,
          0.6591484959562992,
          0.3007018794461643,
          -2.3269309002298684,
          -0.45564726513007425,
          0.31412461514473483,
          1.5775316971860345,
          -0.20816830651970206,
          1.0992586180529906,
          1.2482324665607225,
          0.5963441305128984,
          0.6759383135148479,
          -0.31391325666451225,
          1.20331051531392,
          -1.1189113149477334,
          0.04340009025224424,
          -0.5873078097584103,
          -1.7395764773201399,
          1.7318829844673942,
          -1.8582286156354608,
          0.2102896767181078,
          0.036038219215623425,
          1.7315528329827625,
          -0.23751896821776966,
          -1.2619041772231365,
          -0.4209939529770629,
          0.6444023091948922,
          -0.12611657156977105,
          -0.8679107790133433,
          -1.2941016753923553,
          0.14594471207322482,
          -1.0981622210575677,
          -0.08624722509148783,
          -0.5531726942858656,
          1.3258006005289427,
          -0.5239864957809007,
          0.09995128771691131,
          2.10208730930389,
          -0.6752478145794528,
          -0.3840445714707245,
          -0.1372520446980467,
          0.3886173501207647,
          1.2332964234722699,
          1.4381637163220384,
          -0.25764043429119016,
          -0.9842129074651307,
          -0.13624389171313364,
          -1.2929703628833762,
          -0.21066150761967375,
          -1.0517433412117014,
          0.12062324844287063,
          1.2927129194575222,
          -0.7835829494349476,
          -0.7570704661624947,
          -1.161275272484911,
          -0.6580589800179951,
          0.4574163292136516,
          0.9282633619209005,
          1.2361508560233534,
          1.6358461396414072,
          -0.3275027468944334,
          0.4715100581108882,
          0.1900867796549248,
          0.9503595438312736,
          0.2846599033154163,
          0.7838010808747881,
          -0.6215426494588088,
          -2.5585283098605864,
          2.792906821685706,
          -0.21163724717237037,
          -0.799844955740187,
          -0.12841497548761696,
          1.643525322798787,
          0.6669179707736347,
          -2.071559206824266,
          0.8811338533173473,
          -2.0193879616140107,
          -1.9139249417279494,
          0.9818762536192873,
          -0.14457914752721937,
          -0.1019202571490361,
          -0.10167892581764211,
          1.2887099889784408,
          0.7911773663583078,
          -1.0221485430858486,
          -0.47387097215670204,
          -0.20350765600332388,
          -0.13150023481557147
         ],
         "yaxis": "y14"
        },
        {
         "line": {
          "color": "rgba(128, 128, 128, 1.0)",
          "dash": "solid",
          "shape": "linear",
          "width": 1.3
         },
         "marker": {
          "size": 2,
          "symbol": "circle"
         },
         "mode": "markers",
         "name": "D",
         "text": "",
         "type": "scatter",
         "x": [
          -0.03871432534083431,
          0.8115707952131627,
          -0.17665423819459455,
          1.3466930613339523,
          -0.7096242874361512,
          0.5827954368056582,
          0.46518279753224095,
          -1.5660683477890591,
          -0.33199610826936693,
          -0.4744363313695482,
          1.4711440122729522,
          -0.003955344986920965,
          0.0562545380152191,
          0.15362277115179548,
          -0.36353528708391786,
          -0.012124866275137487,
          -0.20009491093416557,
          0.9614757069810966,
          0.7697978672912913,
          -0.23742915591891228,
          0.9725222749061871,
          0.41582536826645344,
          -1.0625242653194664,
          -0.7900579467789591,
          -0.6818934981943373,
          -0.13917048218982198,
          -0.3541996772670713,
          -0.8213352921077302,
          -0.07126063095007504,
          -0.26033422049286276,
          -0.5289646963018059,
          -0.43873497104461107,
          -0.45044738503422543,
          0.7478128184341659,
          0.6641194392583254,
          -0.979094314437018,
          -1.119399923453585,
          -1.5594785503686877,
          0.7599857788414909,
          -1.9097517568392404,
          -1.9468678465506883,
          0.5218375682681676,
          -1.0396394039937231,
          1.1276287199659947,
          -1.184342666394064,
          0.022131779564743076,
          -0.3201532437258341,
          -0.19702044383341424,
          -0.3758894766712151,
          0.05237384319038519,
          1.5172743804134299,
          2.4247879322619643,
          -0.9755230759676465,
          1.012608550719346,
          -1.290639386572514,
          -0.17154180805176894,
          0.7087889536846921,
          0.16864636263787605,
          -0.1312296598447758,
          0.7305408215857765,
          -1.3689031206003062,
          0.22090233284189276,
          1.3597780697136148,
          0.9944818070429114,
          0.6964499854986963,
          0.6745445328562419,
          -0.6662469380254723,
          -1.0174720887610438,
          0.2300492223012016,
          -0.036954874906627216,
          -0.726688304201755,
          -1.0211999418778872,
          1.0250471207567862,
          0.21183444445887054,
          0.37261079372522277,
          0.5822324112944044,
          -0.22929439516700795,
          0.2480386641167231,
          0.5643644796350337,
          0.9750637011146529,
          -0.18448805836167542,
          1.0717767289630435,
          2.0980105239450886,
          0.38372361927407656,
          -0.004206138482686182,
          -0.13370915390265514,
          0.16589187268661165,
          0.47628847080812187,
          0.704925336787344,
          0.12372473894611717,
          0.15210545578859208,
          -0.9406035775255597,
          -0.226907080030317,
          0.2499324277887329,
          -1.5170304489877942,
          1.2639490310851944,
          -0.516687512771716,
          2.305904708755523,
          -1.3952138991015384,
          0.630778993152211
         ],
         "xaxis": "x15",
         "y": [
          -0.2610754490700943,
          -0.31274259932016485,
          -0.05195486783740825,
          -0.6363720505501187,
          0.26403720932684455,
          -0.670878971050256,
          0.35306264868315396,
          -1.4766036084490375,
          -1.0570360760952613,
          -0.5716289462859565,
          0.5996025660857952,
          0.6669472548117814,
          -0.20190710037508552,
          0.6591484959562992,
          0.3007018794461643,
          -2.3269309002298684,
          -0.45564726513007425,
          0.31412461514473483,
          1.5775316971860345,
          -0.20816830651970206,
          1.0992586180529906,
          1.2482324665607225,
          0.5963441305128984,
          0.6759383135148479,
          -0.31391325666451225,
          1.20331051531392,
          -1.1189113149477334,
          0.04340009025224424,
          -0.5873078097584103,
          -1.7395764773201399,
          1.7318829844673942,
          -1.8582286156354608,
          0.2102896767181078,
          0.036038219215623425,
          1.7315528329827625,
          -0.23751896821776966,
          -1.2619041772231365,
          -0.4209939529770629,
          0.6444023091948922,
          -0.12611657156977105,
          -0.8679107790133433,
          -1.2941016753923553,
          0.14594471207322482,
          -1.0981622210575677,
          -0.08624722509148783,
          -0.5531726942858656,
          1.3258006005289427,
          -0.5239864957809007,
          0.09995128771691131,
          2.10208730930389,
          -0.6752478145794528,
          -0.3840445714707245,
          -0.1372520446980467,
          0.3886173501207647,
          1.2332964234722699,
          1.4381637163220384,
          -0.25764043429119016,
          -0.9842129074651307,
          -0.13624389171313364,
          -1.2929703628833762,
          -0.21066150761967375,
          -1.0517433412117014,
          0.12062324844287063,
          1.2927129194575222,
          -0.7835829494349476,
          -0.7570704661624947,
          -1.161275272484911,
          -0.6580589800179951,
          0.4574163292136516,
          0.9282633619209005,
          1.2361508560233534,
          1.6358461396414072,
          -0.3275027468944334,
          0.4715100581108882,
          0.1900867796549248,
          0.9503595438312736,
          0.2846599033154163,
          0.7838010808747881,
          -0.6215426494588088,
          -2.5585283098605864,
          2.792906821685706,
          -0.21163724717237037,
          -0.799844955740187,
          -0.12841497548761696,
          1.643525322798787,
          0.6669179707736347,
          -2.071559206824266,
          0.8811338533173473,
          -2.0193879616140107,
          -1.9139249417279494,
          0.9818762536192873,
          -0.14457914752721937,
          -0.1019202571490361,
          -0.10167892581764211,
          1.2887099889784408,
          0.7911773663583078,
          -1.0221485430858486,
          -0.47387097215670204,
          -0.20350765600332388,
          -0.13150023481557147
         ],
         "yaxis": "y15"
        },
        {
         "histfunc": "count",
         "histnorm": "",
         "marker": {
          "color": "rgba(128, 0, 128, 1.0)",
          "line": {
           "color": "#4D5663",
           "width": 1.3
          }
         },
         "name": "D",
         "nbinsx": 10,
         "opacity": 0.8,
         "orientation": "v",
         "type": "histogram",
         "x": [
          -0.2610754490700943,
          -0.31274259932016485,
          -0.05195486783740825,
          -0.6363720505501187,
          0.26403720932684455,
          -0.670878971050256,
          0.35306264868315396,
          -1.4766036084490375,
          -1.0570360760952613,
          -0.5716289462859565,
          0.5996025660857952,
          0.6669472548117814,
          -0.20190710037508552,
          0.6591484959562992,
          0.3007018794461643,
          -2.3269309002298684,
          -0.45564726513007425,
          0.31412461514473483,
          1.5775316971860345,
          -0.20816830651970206,
          1.0992586180529906,
          1.2482324665607225,
          0.5963441305128984,
          0.6759383135148479,
          -0.31391325666451225,
          1.20331051531392,
          -1.1189113149477334,
          0.04340009025224424,
          -0.5873078097584103,
          -1.7395764773201399,
          1.7318829844673942,
          -1.8582286156354608,
          0.2102896767181078,
          0.036038219215623425,
          1.7315528329827625,
          -0.23751896821776966,
          -1.2619041772231365,
          -0.4209939529770629,
          0.6444023091948922,
          -0.12611657156977105,
          -0.8679107790133433,
          -1.2941016753923553,
          0.14594471207322482,
          -1.0981622210575677,
          -0.08624722509148783,
          -0.5531726942858656,
          1.3258006005289427,
          -0.5239864957809007,
          0.09995128771691131,
          2.10208730930389,
          -0.6752478145794528,
          -0.3840445714707245,
          -0.1372520446980467,
          0.3886173501207647,
          1.2332964234722699,
          1.4381637163220384,
          -0.25764043429119016,
          -0.9842129074651307,
          -0.13624389171313364,
          -1.2929703628833762,
          -0.21066150761967375,
          -1.0517433412117014,
          0.12062324844287063,
          1.2927129194575222,
          -0.7835829494349476,
          -0.7570704661624947,
          -1.161275272484911,
          -0.6580589800179951,
          0.4574163292136516,
          0.9282633619209005,
          1.2361508560233534,
          1.6358461396414072,
          -0.3275027468944334,
          0.4715100581108882,
          0.1900867796549248,
          0.9503595438312736,
          0.2846599033154163,
          0.7838010808747881,
          -0.6215426494588088,
          -2.5585283098605864,
          2.792906821685706,
          -0.21163724717237037,
          -0.799844955740187,
          -0.12841497548761696,
          1.643525322798787,
          0.6669179707736347,
          -2.071559206824266,
          0.8811338533173473,
          -2.0193879616140107,
          -1.9139249417279494,
          0.9818762536192873,
          -0.14457914752721937,
          -0.1019202571490361,
          -0.10167892581764211,
          1.2887099889784408,
          0.7911773663583078,
          -1.0221485430858486,
          -0.47387097215670204,
          -0.20350765600332388,
          -0.13150023481557147
         ],
         "xaxis": "x16",
         "yaxis": "y16"
        }
       ],
       "layout": {
        "bargap": 0.02,
        "legend": {
         "bgcolor": "#F5F6F9",
         "font": {
          "color": "#4D5663"
         }
        },
        "paper_bgcolor": "#F5F6F9",
        "plot_bgcolor": "#F5F6F9",
        "showlegend": false,
        "template": {
         "data": {
          "bar": [
           {
            "error_x": {
             "color": "#2a3f5f"
            },
            "error_y": {
             "color": "#2a3f5f"
            },
            "marker": {
             "line": {
              "color": "#E5ECF6",
              "width": 0.5
             },
             "pattern": {
              "fillmode": "overlay",
              "size": 10,
              "solidity": 0.2
             }
            },
            "type": "bar"
           }
          ],
          "barpolar": [
           {
            "marker": {
             "line": {
              "color": "#E5ECF6",
              "width": 0.5
             },
             "pattern": {
              "fillmode": "overlay",
              "size": 10,
              "solidity": 0.2
             }
            },
            "type": "barpolar"
           }
          ],
          "carpet": [
           {
            "aaxis": {
             "endlinecolor": "#2a3f5f",
             "gridcolor": "white",
             "linecolor": "white",
             "minorgridcolor": "white",
             "startlinecolor": "#2a3f5f"
            },
            "baxis": {
             "endlinecolor": "#2a3f5f",
             "gridcolor": "white",
             "linecolor": "white",
             "minorgridcolor": "white",
             "startlinecolor": "#2a3f5f"
            },
            "type": "carpet"
           }
          ],
          "choropleth": [
           {
            "colorbar": {
             "outlinewidth": 0,
             "ticks": ""
            },
            "type": "choropleth"
           }
          ],
          "contour": [
           {
            "colorbar": {
             "outlinewidth": 0,
             "ticks": ""
            },
            "colorscale": [
             [
              0,
              "#0d0887"
             ],
             [
              0.1111111111111111,
              "#46039f"
             ],
             [
              0.2222222222222222,
              "#7201a8"
             ],
             [
              0.3333333333333333,
              "#9c179e"
             ],
             [
              0.4444444444444444,
              "#bd3786"
             ],
             [
              0.5555555555555556,
              "#d8576b"
             ],
             [
              0.6666666666666666,
              "#ed7953"
             ],
             [
              0.7777777777777778,
              "#fb9f3a"
             ],
             [
              0.8888888888888888,
              "#fdca26"
             ],
             [
              1,
              "#f0f921"
             ]
            ],
            "type": "contour"
           }
          ],
          "contourcarpet": [
           {
            "colorbar": {
             "outlinewidth": 0,
             "ticks": ""
            },
            "type": "contourcarpet"
           }
          ],
          "heatmap": [
           {
            "colorbar": {
             "outlinewidth": 0,
             "ticks": ""
            },
            "colorscale": [
             [
              0,
              "#0d0887"
             ],
             [
              0.1111111111111111,
              "#46039f"
             ],
             [
              0.2222222222222222,
              "#7201a8"
             ],
             [
              0.3333333333333333,
              "#9c179e"
             ],
             [
              0.4444444444444444,
              "#bd3786"
             ],
             [
              0.5555555555555556,
              "#d8576b"
             ],
             [
              0.6666666666666666,
              "#ed7953"
             ],
             [
              0.7777777777777778,
              "#fb9f3a"
             ],
             [
              0.8888888888888888,
              "#fdca26"
             ],
             [
              1,
              "#f0f921"
             ]
            ],
            "type": "heatmap"
           }
          ],
          "heatmapgl": [
           {
            "colorbar": {
             "outlinewidth": 0,
             "ticks": ""
            },
            "colorscale": [
             [
              0,
              "#0d0887"
             ],
             [
              0.1111111111111111,
              "#46039f"
             ],
             [
              0.2222222222222222,
              "#7201a8"
             ],
             [
              0.3333333333333333,
              "#9c179e"
             ],
             [
              0.4444444444444444,
              "#bd3786"
             ],
             [
              0.5555555555555556,
              "#d8576b"
             ],
             [
              0.6666666666666666,
              "#ed7953"
             ],
             [
              0.7777777777777778,
              "#fb9f3a"
             ],
             [
              0.8888888888888888,
              "#fdca26"
             ],
             [
              1,
              "#f0f921"
             ]
            ],
            "type": "heatmapgl"
           }
          ],
          "histogram": [
           {
            "marker": {
             "pattern": {
              "fillmode": "overlay",
              "size": 10,
              "solidity": 0.2
             }
            },
            "type": "histogram"
           }
          ],
          "histogram2d": [
           {
            "colorbar": {
             "outlinewidth": 0,
             "ticks": ""
            },
            "colorscale": [
             [
              0,
              "#0d0887"
             ],
             [
              0.1111111111111111,
              "#46039f"
             ],
             [
              0.2222222222222222,
              "#7201a8"
             ],
             [
              0.3333333333333333,
              "#9c179e"
             ],
             [
              0.4444444444444444,
              "#bd3786"
             ],
             [
              0.5555555555555556,
              "#d8576b"
             ],
             [
              0.6666666666666666,
              "#ed7953"
             ],
             [
              0.7777777777777778,
              "#fb9f3a"
             ],
             [
              0.8888888888888888,
              "#fdca26"
             ],
             [
              1,
              "#f0f921"
             ]
            ],
            "type": "histogram2d"
           }
          ],
          "histogram2dcontour": [
           {
            "colorbar": {
             "outlinewidth": 0,
             "ticks": ""
            },
            "colorscale": [
             [
              0,
              "#0d0887"
             ],
             [
              0.1111111111111111,
              "#46039f"
             ],
             [
              0.2222222222222222,
              "#7201a8"
             ],
             [
              0.3333333333333333,
              "#9c179e"
             ],
             [
              0.4444444444444444,
              "#bd3786"
             ],
             [
              0.5555555555555556,
              "#d8576b"
             ],
             [
              0.6666666666666666,
              "#ed7953"
             ],
             [
              0.7777777777777778,
              "#fb9f3a"
             ],
             [
              0.8888888888888888,
              "#fdca26"
             ],
             [
              1,
              "#f0f921"
             ]
            ],
            "type": "histogram2dcontour"
           }
          ],
          "mesh3d": [
           {
            "colorbar": {
             "outlinewidth": 0,
             "ticks": ""
            },
            "type": "mesh3d"
           }
          ],
          "parcoords": [
           {
            "line": {
             "colorbar": {
              "outlinewidth": 0,
              "ticks": ""
             }
            },
            "type": "parcoords"
           }
          ],
          "pie": [
           {
            "automargin": true,
            "type": "pie"
           }
          ],
          "scatter": [
           {
            "marker": {
             "colorbar": {
              "outlinewidth": 0,
              "ticks": ""
             }
            },
            "type": "scatter"
           }
          ],
          "scatter3d": [
           {
            "line": {
             "colorbar": {
              "outlinewidth": 0,
              "ticks": ""
             }
            },
            "marker": {
             "colorbar": {
              "outlinewidth": 0,
              "ticks": ""
             }
            },
            "type": "scatter3d"
           }
          ],
          "scattercarpet": [
           {
            "marker": {
             "colorbar": {
              "outlinewidth": 0,
              "ticks": ""
             }
            },
            "type": "scattercarpet"
           }
          ],
          "scattergeo": [
           {
            "marker": {
             "colorbar": {
              "outlinewidth": 0,
              "ticks": ""
             }
            },
            "type": "scattergeo"
           }
          ],
          "scattergl": [
           {
            "marker": {
             "colorbar": {
              "outlinewidth": 0,
              "ticks": ""
             }
            },
            "type": "scattergl"
           }
          ],
          "scattermapbox": [
           {
            "marker": {
             "colorbar": {
              "outlinewidth": 0,
              "ticks": ""
             }
            },
            "type": "scattermapbox"
           }
          ],
          "scatterpolar": [
           {
            "marker": {
             "colorbar": {
              "outlinewidth": 0,
              "ticks": ""
             }
            },
            "type": "scatterpolar"
           }
          ],
          "scatterpolargl": [
           {
            "marker": {
             "colorbar": {
              "outlinewidth": 0,
              "ticks": ""
             }
            },
            "type": "scatterpolargl"
           }
          ],
          "scatterternary": [
           {
            "marker": {
             "colorbar": {
              "outlinewidth": 0,
              "ticks": ""
             }
            },
            "type": "scatterternary"
           }
          ],
          "surface": [
           {
            "colorbar": {
             "outlinewidth": 0,
             "ticks": ""
            },
            "colorscale": [
             [
              0,
              "#0d0887"
             ],
             [
              0.1111111111111111,
              "#46039f"
             ],
             [
              0.2222222222222222,
              "#7201a8"
             ],
             [
              0.3333333333333333,
              "#9c179e"
             ],
             [
              0.4444444444444444,
              "#bd3786"
             ],
             [
              0.5555555555555556,
              "#d8576b"
             ],
             [
              0.6666666666666666,
              "#ed7953"
             ],
             [
              0.7777777777777778,
              "#fb9f3a"
             ],
             [
              0.8888888888888888,
              "#fdca26"
             ],
             [
              1,
              "#f0f921"
             ]
            ],
            "type": "surface"
           }
          ],
          "table": [
           {
            "cells": {
             "fill": {
              "color": "#EBF0F8"
             },
             "line": {
              "color": "white"
             }
            },
            "header": {
             "fill": {
              "color": "#C8D4E3"
             },
             "line": {
              "color": "white"
             }
            },
            "type": "table"
           }
          ]
         },
         "layout": {
          "annotationdefaults": {
           "arrowcolor": "#2a3f5f",
           "arrowhead": 0,
           "arrowwidth": 1
          },
          "autotypenumbers": "strict",
          "coloraxis": {
           "colorbar": {
            "outlinewidth": 0,
            "ticks": ""
           }
          },
          "colorscale": {
           "diverging": [
            [
             0,
             "#8e0152"
            ],
            [
             0.1,
             "#c51b7d"
            ],
            [
             0.2,
             "#de77ae"
            ],
            [
             0.3,
             "#f1b6da"
            ],
            [
             0.4,
             "#fde0ef"
            ],
            [
             0.5,
             "#f7f7f7"
            ],
            [
             0.6,
             "#e6f5d0"
            ],
            [
             0.7,
             "#b8e186"
            ],
            [
             0.8,
             "#7fbc41"
            ],
            [
             0.9,
             "#4d9221"
            ],
            [
             1,
             "#276419"
            ]
           ],
           "sequential": [
            [
             0,
             "#0d0887"
            ],
            [
             0.1111111111111111,
             "#46039f"
            ],
            [
             0.2222222222222222,
             "#7201a8"
            ],
            [
             0.3333333333333333,
             "#9c179e"
            ],
            [
             0.4444444444444444,
             "#bd3786"
            ],
            [
             0.5555555555555556,
             "#d8576b"
            ],
            [
             0.6666666666666666,
             "#ed7953"
            ],
            [
             0.7777777777777778,
             "#fb9f3a"
            ],
            [
             0.8888888888888888,
             "#fdca26"
            ],
            [
             1,
             "#f0f921"
            ]
           ],
           "sequentialminus": [
            [
             0,
             "#0d0887"
            ],
            [
             0.1111111111111111,
             "#46039f"
            ],
            [
             0.2222222222222222,
             "#7201a8"
            ],
            [
             0.3333333333333333,
             "#9c179e"
            ],
            [
             0.4444444444444444,
             "#bd3786"
            ],
            [
             0.5555555555555556,
             "#d8576b"
            ],
            [
             0.6666666666666666,
             "#ed7953"
            ],
            [
             0.7777777777777778,
             "#fb9f3a"
            ],
            [
             0.8888888888888888,
             "#fdca26"
            ],
            [
             1,
             "#f0f921"
            ]
           ]
          },
          "colorway": [
           "#636efa",
           "#EF553B",
           "#00cc96",
           "#ab63fa",
           "#FFA15A",
           "#19d3f3",
           "#FF6692",
           "#B6E880",
           "#FF97FF",
           "#FECB52"
          ],
          "font": {
           "color": "#2a3f5f"
          },
          "geo": {
           "bgcolor": "white",
           "lakecolor": "white",
           "landcolor": "#E5ECF6",
           "showlakes": true,
           "showland": true,
           "subunitcolor": "white"
          },
          "hoverlabel": {
           "align": "left"
          },
          "hovermode": "closest",
          "mapbox": {
           "style": "light"
          },
          "paper_bgcolor": "white",
          "plot_bgcolor": "#E5ECF6",
          "polar": {
           "angularaxis": {
            "gridcolor": "white",
            "linecolor": "white",
            "ticks": ""
           },
           "bgcolor": "#E5ECF6",
           "radialaxis": {
            "gridcolor": "white",
            "linecolor": "white",
            "ticks": ""
           }
          },
          "scene": {
           "xaxis": {
            "backgroundcolor": "#E5ECF6",
            "gridcolor": "white",
            "gridwidth": 2,
            "linecolor": "white",
            "showbackground": true,
            "ticks": "",
            "zerolinecolor": "white"
           },
           "yaxis": {
            "backgroundcolor": "#E5ECF6",
            "gridcolor": "white",
            "gridwidth": 2,
            "linecolor": "white",
            "showbackground": true,
            "ticks": "",
            "zerolinecolor": "white"
           },
           "zaxis": {
            "backgroundcolor": "#E5ECF6",
            "gridcolor": "white",
            "gridwidth": 2,
            "linecolor": "white",
            "showbackground": true,
            "ticks": "",
            "zerolinecolor": "white"
           }
          },
          "shapedefaults": {
           "line": {
            "color": "#2a3f5f"
           }
          },
          "ternary": {
           "aaxis": {
            "gridcolor": "white",
            "linecolor": "white",
            "ticks": ""
           },
           "baxis": {
            "gridcolor": "white",
            "linecolor": "white",
            "ticks": ""
           },
           "bgcolor": "#E5ECF6",
           "caxis": {
            "gridcolor": "white",
            "linecolor": "white",
            "ticks": ""
           }
          },
          "title": {
           "x": 0.05
          },
          "xaxis": {
           "automargin": true,
           "gridcolor": "white",
           "linecolor": "white",
           "ticks": "",
           "title": {
            "standoff": 15
           },
           "zerolinecolor": "white",
           "zerolinewidth": 2
          },
          "yaxis": {
           "automargin": true,
           "gridcolor": "white",
           "linecolor": "white",
           "ticks": "",
           "title": {
            "standoff": 15
           },
           "zerolinecolor": "white",
           "zerolinewidth": 2
          }
         }
        },
        "title": {
         "font": {
          "color": "#4D5663"
         }
        },
        "xaxis": {
         "anchor": "y",
         "domain": [
          0,
          0.2125
         ],
         "gridcolor": "#E1E5ED",
         "showgrid": false,
         "tickfont": {
          "color": "#4D5663"
         },
         "title": {
          "font": {
           "color": "#4D5663"
          },
          "text": ""
         },
         "zerolinecolor": "#E1E5ED"
        },
        "xaxis10": {
         "anchor": "y10",
         "domain": [
          0.2625,
          0.475
         ],
         "gridcolor": "#E1E5ED",
         "showgrid": false,
         "tickfont": {
          "color": "#4D5663"
         },
         "title": {
          "font": {
           "color": "#4D5663"
          },
          "text": ""
         },
         "zerolinecolor": "#E1E5ED"
        },
        "xaxis11": {
         "anchor": "y11",
         "domain": [
          0.525,
          0.7375
         ],
         "gridcolor": "#E1E5ED",
         "showgrid": false,
         "tickfont": {
          "color": "#4D5663"
         },
         "title": {
          "font": {
           "color": "#4D5663"
          },
          "text": ""
         },
         "zerolinecolor": "#E1E5ED"
        },
        "xaxis12": {
         "anchor": "y12",
         "domain": [
          0.7875,
          1
         ],
         "gridcolor": "#E1E5ED",
         "showgrid": false,
         "tickfont": {
          "color": "#4D5663"
         },
         "title": {
          "font": {
           "color": "#4D5663"
          },
          "text": ""
         },
         "zerolinecolor": "#E1E5ED"
        },
        "xaxis13": {
         "anchor": "y13",
         "domain": [
          0,
          0.2125
         ],
         "gridcolor": "#E1E5ED",
         "showgrid": false,
         "tickfont": {
          "color": "#4D5663"
         },
         "title": {
          "font": {
           "color": "#4D5663"
          },
          "text": ""
         },
         "zerolinecolor": "#E1E5ED"
        },
        "xaxis14": {
         "anchor": "y14",
         "domain": [
          0.2625,
          0.475
         ],
         "gridcolor": "#E1E5ED",
         "showgrid": false,
         "tickfont": {
          "color": "#4D5663"
         },
         "title": {
          "font": {
           "color": "#4D5663"
          },
          "text": ""
         },
         "zerolinecolor": "#E1E5ED"
        },
        "xaxis15": {
         "anchor": "y15",
         "domain": [
          0.525,
          0.7375
         ],
         "gridcolor": "#E1E5ED",
         "showgrid": false,
         "tickfont": {
          "color": "#4D5663"
         },
         "title": {
          "font": {
           "color": "#4D5663"
          },
          "text": ""
         },
         "zerolinecolor": "#E1E5ED"
        },
        "xaxis16": {
         "anchor": "y16",
         "domain": [
          0.7875,
          1
         ],
         "gridcolor": "#E1E5ED",
         "showgrid": false,
         "tickfont": {
          "color": "#4D5663"
         },
         "title": {
          "font": {
           "color": "#4D5663"
          },
          "text": ""
         },
         "zerolinecolor": "#E1E5ED"
        },
        "xaxis2": {
         "anchor": "y2",
         "domain": [
          0.2625,
          0.475
         ],
         "gridcolor": "#E1E5ED",
         "showgrid": false,
         "tickfont": {
          "color": "#4D5663"
         },
         "title": {
          "font": {
           "color": "#4D5663"
          },
          "text": ""
         },
         "zerolinecolor": "#E1E5ED"
        },
        "xaxis3": {
         "anchor": "y3",
         "domain": [
          0.525,
          0.7375
         ],
         "gridcolor": "#E1E5ED",
         "showgrid": false,
         "tickfont": {
          "color": "#4D5663"
         },
         "title": {
          "font": {
           "color": "#4D5663"
          },
          "text": ""
         },
         "zerolinecolor": "#E1E5ED"
        },
        "xaxis4": {
         "anchor": "y4",
         "domain": [
          0.7875,
          1
         ],
         "gridcolor": "#E1E5ED",
         "showgrid": false,
         "tickfont": {
          "color": "#4D5663"
         },
         "title": {
          "font": {
           "color": "#4D5663"
          },
          "text": ""
         },
         "zerolinecolor": "#E1E5ED"
        },
        "xaxis5": {
         "anchor": "y5",
         "domain": [
          0,
          0.2125
         ],
         "gridcolor": "#E1E5ED",
         "showgrid": false,
         "tickfont": {
          "color": "#4D5663"
         },
         "title": {
          "font": {
           "color": "#4D5663"
          },
          "text": ""
         },
         "zerolinecolor": "#E1E5ED"
        },
        "xaxis6": {
         "anchor": "y6",
         "domain": [
          0.2625,
          0.475
         ],
         "gridcolor": "#E1E5ED",
         "showgrid": false,
         "tickfont": {
          "color": "#4D5663"
         },
         "title": {
          "font": {
           "color": "#4D5663"
          },
          "text": ""
         },
         "zerolinecolor": "#E1E5ED"
        },
        "xaxis7": {
         "anchor": "y7",
         "domain": [
          0.525,
          0.7375
         ],
         "gridcolor": "#E1E5ED",
         "showgrid": false,
         "tickfont": {
          "color": "#4D5663"
         },
         "title": {
          "font": {
           "color": "#4D5663"
          },
          "text": ""
         },
         "zerolinecolor": "#E1E5ED"
        },
        "xaxis8": {
         "anchor": "y8",
         "domain": [
          0.7875,
          1
         ],
         "gridcolor": "#E1E5ED",
         "showgrid": false,
         "tickfont": {
          "color": "#4D5663"
         },
         "title": {
          "font": {
           "color": "#4D5663"
          },
          "text": ""
         },
         "zerolinecolor": "#E1E5ED"
        },
        "xaxis9": {
         "anchor": "y9",
         "domain": [
          0,
          0.2125
         ],
         "gridcolor": "#E1E5ED",
         "showgrid": false,
         "tickfont": {
          "color": "#4D5663"
         },
         "title": {
          "font": {
           "color": "#4D5663"
          },
          "text": ""
         },
         "zerolinecolor": "#E1E5ED"
        },
        "yaxis": {
         "anchor": "x",
         "domain": [
          0.8025,
          1
         ],
         "gridcolor": "#E1E5ED",
         "showgrid": false,
         "tickfont": {
          "color": "#4D5663"
         },
         "title": {
          "font": {
           "color": "#4D5663"
          },
          "text": ""
         },
         "zerolinecolor": "#E1E5ED"
        },
        "yaxis10": {
         "anchor": "x10",
         "domain": [
          0.2675,
          0.465
         ],
         "gridcolor": "#E1E5ED",
         "showgrid": false,
         "tickfont": {
          "color": "#4D5663"
         },
         "title": {
          "font": {
           "color": "#4D5663"
          },
          "text": ""
         },
         "zerolinecolor": "#E1E5ED"
        },
        "yaxis11": {
         "anchor": "x11",
         "domain": [
          0.2675,
          0.465
         ],
         "gridcolor": "#E1E5ED",
         "showgrid": false,
         "tickfont": {
          "color": "#4D5663"
         },
         "title": {
          "font": {
           "color": "#4D5663"
          },
          "text": ""
         },
         "zerolinecolor": "#E1E5ED"
        },
        "yaxis12": {
         "anchor": "x12",
         "domain": [
          0.2675,
          0.465
         ],
         "gridcolor": "#E1E5ED",
         "showgrid": false,
         "tickfont": {
          "color": "#4D5663"
         },
         "title": {
          "font": {
           "color": "#4D5663"
          },
          "text": ""
         },
         "zerolinecolor": "#E1E5ED"
        },
        "yaxis13": {
         "anchor": "x13",
         "domain": [
          0,
          0.1975
         ],
         "gridcolor": "#E1E5ED",
         "showgrid": false,
         "tickfont": {
          "color": "#4D5663"
         },
         "title": {
          "font": {
           "color": "#4D5663"
          },
          "text": ""
         },
         "zerolinecolor": "#E1E5ED"
        },
        "yaxis14": {
         "anchor": "x14",
         "domain": [
          0,
          0.1975
         ],
         "gridcolor": "#E1E5ED",
         "showgrid": false,
         "tickfont": {
          "color": "#4D5663"
         },
         "title": {
          "font": {
           "color": "#4D5663"
          },
          "text": ""
         },
         "zerolinecolor": "#E1E5ED"
        },
        "yaxis15": {
         "anchor": "x15",
         "domain": [
          0,
          0.1975
         ],
         "gridcolor": "#E1E5ED",
         "showgrid": false,
         "tickfont": {
          "color": "#4D5663"
         },
         "title": {
          "font": {
           "color": "#4D5663"
          },
          "text": ""
         },
         "zerolinecolor": "#E1E5ED"
        },
        "yaxis16": {
         "anchor": "x16",
         "domain": [
          0,
          0.1975
         ],
         "gridcolor": "#E1E5ED",
         "showgrid": false,
         "tickfont": {
          "color": "#4D5663"
         },
         "title": {
          "font": {
           "color": "#4D5663"
          },
          "text": ""
         },
         "zerolinecolor": "#E1E5ED"
        },
        "yaxis2": {
         "anchor": "x2",
         "domain": [
          0.8025,
          1
         ],
         "gridcolor": "#E1E5ED",
         "showgrid": false,
         "tickfont": {
          "color": "#4D5663"
         },
         "title": {
          "font": {
           "color": "#4D5663"
          },
          "text": ""
         },
         "zerolinecolor": "#E1E5ED"
        },
        "yaxis3": {
         "anchor": "x3",
         "domain": [
          0.8025,
          1
         ],
         "gridcolor": "#E1E5ED",
         "showgrid": false,
         "tickfont": {
          "color": "#4D5663"
         },
         "title": {
          "font": {
           "color": "#4D5663"
          },
          "text": ""
         },
         "zerolinecolor": "#E1E5ED"
        },
        "yaxis4": {
         "anchor": "x4",
         "domain": [
          0.8025,
          1
         ],
         "gridcolor": "#E1E5ED",
         "showgrid": false,
         "tickfont": {
          "color": "#4D5663"
         },
         "title": {
          "font": {
           "color": "#4D5663"
          },
          "text": ""
         },
         "zerolinecolor": "#E1E5ED"
        },
        "yaxis5": {
         "anchor": "x5",
         "domain": [
          0.535,
          0.7325
         ],
         "gridcolor": "#E1E5ED",
         "showgrid": false,
         "tickfont": {
          "color": "#4D5663"
         },
         "title": {
          "font": {
           "color": "#4D5663"
          },
          "text": ""
         },
         "zerolinecolor": "#E1E5ED"
        },
        "yaxis6": {
         "anchor": "x6",
         "domain": [
          0.535,
          0.7325
         ],
         "gridcolor": "#E1E5ED",
         "showgrid": false,
         "tickfont": {
          "color": "#4D5663"
         },
         "title": {
          "font": {
           "color": "#4D5663"
          },
          "text": ""
         },
         "zerolinecolor": "#E1E5ED"
        },
        "yaxis7": {
         "anchor": "x7",
         "domain": [
          0.535,
          0.7325
         ],
         "gridcolor": "#E1E5ED",
         "showgrid": false,
         "tickfont": {
          "color": "#4D5663"
         },
         "title": {
          "font": {
           "color": "#4D5663"
          },
          "text": ""
         },
         "zerolinecolor": "#E1E5ED"
        },
        "yaxis8": {
         "anchor": "x8",
         "domain": [
          0.535,
          0.7325
         ],
         "gridcolor": "#E1E5ED",
         "showgrid": false,
         "tickfont": {
          "color": "#4D5663"
         },
         "title": {
          "font": {
           "color": "#4D5663"
          },
          "text": ""
         },
         "zerolinecolor": "#E1E5ED"
        },
        "yaxis9": {
         "anchor": "x9",
         "domain": [
          0.2675,
          0.465
         ],
         "gridcolor": "#E1E5ED",
         "showgrid": false,
         "tickfont": {
          "color": "#4D5663"
         },
         "title": {
          "font": {
           "color": "#4D5663"
          },
          "text": ""
         },
         "zerolinecolor": "#E1E5ED"
        }
       }
      },
      "text/html": [
       "<div>                            <div id=\"3f617e0c-0578-471e-850c-7a3403732c55\" class=\"plotly-graph-div\" style=\"height:525px; width:100%;\"></div>            <script type=\"text/javascript\">                require([\"plotly\"], function(Plotly) {                    window.PLOTLYENV=window.PLOTLYENV || {};\n",
       "                    window.PLOTLYENV.BASE_URL='https://plot.ly';                                    if (document.getElementById(\"3f617e0c-0578-471e-850c-7a3403732c55\")) {                    Plotly.newPlot(                        \"3f617e0c-0578-471e-850c-7a3403732c55\",                        [{\"histfunc\":\"count\",\"histnorm\":\"\",\"marker\":{\"color\":\"rgba(255, 153, 51, 1.0)\",\"line\":{\"color\":\"#4D5663\",\"width\":1.3}},\"name\":\"A\",\"nbinsx\":10,\"opacity\":0.8,\"orientation\":\"v\",\"x\":[3.3625825147031634,-0.6885621495157169,0.5149951992086972,-0.4976600607971672,1.3129178129369143,1.259037760305938,-0.8205591484786454,-0.2888956899883146,-0.09602816876888236,-0.9613950050487399,0.19756992435357082,-2.010039225046455,-0.7479232977395808,1.947999686378811,-1.300068284850122,0.8562782186572203,-0.8554492701360895,-0.4206993361270417,0.17322463597602866,-0.47160211461434376,0.565677357194077,-0.6594632474857488,1.7551221205900165,0.7357358194208311,-1.1591709602449005,-0.05419091582379508,-0.36257185525324137,1.4349669783777106,-0.5661528981377684,-0.407032366454418,0.22755126025017564,0.8257857482311864,0.27076051378642957,-0.46987215853669007,-0.6260892978035598,-0.14422154840098403,0.06729047029481175,-0.7538901577971123,-0.16372387540641004,-1.5306935620588862,1.7378715409320646,1.8728785308476077,-0.22596064971310095,0.19265357626344148,1.3095974819986245,-0.8467226757105627,-0.47588441755457705,0.8436192849298026,-1.0696497054771597,-0.29246972729030885,-0.5072696949324063,-1.804060391633852,0.41463973873286825,-0.06065342496772562,-1.2132110689335833,-0.1869364025887339,0.7239663414003534,-0.03198459252341648,0.9917197143234533,0.4124466650325076,-0.6198057419680839,-0.27086068891135073,-1.6085151157707147,-0.5886897832373408,-2.03889655784642,-0.08269100136583725,-0.2998182776646363,0.7537301596831394,-0.5572938977691413,0.2816574459013314,0.12511549492515286,-1.1520414977821023,-1.6077418183548926,0.12518543876338792,-0.17240992239466557,-0.29687603356526354,-0.538488421711546,1.011892155339132,0.5242967165890116,0.37788940477311916,1.3818585203086495,1.3322459158616347,1.3491805785283302,0.260837473417611,0.9770174853395498,-0.417469144514007,0.2532052106744681,-1.418974713556114,-1.304961959687015,-0.7850198786305627,-2.637960154783843,-0.702041364600879,0.2929621979386714,-0.31570510433110843,-0.2629023198827632,0.19022263715975085,0.6217882134487541,-0.2991271853655061,1.0088878670316135,-1.6952584120476268],\"xaxis\":\"x\",\"yaxis\":\"y\",\"type\":\"histogram\"},{\"line\":{\"color\":\"rgba(128, 128, 128, 1.0)\",\"dash\":\"solid\",\"shape\":\"linear\",\"width\":1.3},\"marker\":{\"size\":2,\"symbol\":\"circle\"},\"mode\":\"markers\",\"name\":\"A\",\"text\":\"\",\"x\":[-0.09869980248667033,2.03726652741454,1.4394828771486599,1.8697131285068431,-0.5548997790378658,-0.6217206439491961,-0.689074198736593,-0.06741428706327046,1.7098599778074983,-0.4176920959973648,2.168907375948452,-0.4880158437300923,0.27498240917764155,0.08170163057623107,-0.03384861897299663,1.647092749347639,0.15860105398020632,0.059442598251813514,-0.5762077458563473,1.4150104934559853,-0.5749855002518763,-0.546415696315059,-1.5240091166445844,-0.9241042955106828,-1.9699502760010996,-0.6245600967739037,0.46518656287393384,-0.5218551564845291,0.2791729390951336,0.38578951337570555,0.39588598472909636,-0.7255379856229528,-0.56042666640254,-0.6027380454238817,0.06544925823079883,0.0977013071597415,0.2884822951944402,0.01713950529145413,-0.6866144000900855,-0.7898794564866739,0.10855608206827938,-0.22219683727590325,0.8283900308964371,-0.22510174689080045,0.08635559723721953,0.5335960581183034,0.37052671554643235,-0.570615537939435,0.2934992940562579,0.35328262839809565,-0.504249051160435,-1.9841088941570533,0.16468981598788138,-0.457678976262291,-0.4458065995793777,-0.6009038322071909,1.081394434790141,-0.32228195363254253,-0.2734324040026059,-0.11560060379954049,-1.145759112427046,-0.11539531430117402,0.32766295593105765,-0.373990881876142,-1.8553040836366972,0.41643076492351705,0.8492089009344047,-0.7965102060113378,2.036714812577297,0.21979935049899096,-1.1294971239943814,0.15636794398823822,0.19528867658492846,-0.664078836346772,0.29684278242568446,-0.8367625226528052,0.7616986595793469,1.855823984151398,-1.133439152106387,-0.8195629205557495,-0.46718347774595076,0.9486061350544259,-0.07737115781296872,-0.42174556204453584,1.6477605761097094,0.382673801536673,1.0452339650064126,-1.2834000440096809,0.8211643104999973,2.0187466797608917,0.03507192302206712,-1.290810831468579,0.7469538642891566,-0.7722379464065471,-0.7828371849281098,-0.7157909433349646,1.0350233315650033,0.34197577939435325,-0.20965832848228794,0.33295144312351205],\"xaxis\":\"x2\",\"y\":[3.3625825147031634,-0.6885621495157169,0.5149951992086972,-0.4976600607971672,1.3129178129369143,1.259037760305938,-0.8205591484786454,-0.2888956899883146,-0.09602816876888236,-0.9613950050487399,0.19756992435357082,-2.010039225046455,-0.7479232977395808,1.947999686378811,-1.300068284850122,0.8562782186572203,-0.8554492701360895,-0.4206993361270417,0.17322463597602866,-0.47160211461434376,0.565677357194077,-0.6594632474857488,1.7551221205900165,0.7357358194208311,-1.1591709602449005,-0.05419091582379508,-0.36257185525324137,1.4349669783777106,-0.5661528981377684,-0.407032366454418,0.22755126025017564,0.8257857482311864,0.27076051378642957,-0.46987215853669007,-0.6260892978035598,-0.14422154840098403,0.06729047029481175,-0.7538901577971123,-0.16372387540641004,-1.5306935620588862,1.7378715409320646,1.8728785308476077,-0.22596064971310095,0.19265357626344148,1.3095974819986245,-0.8467226757105627,-0.47588441755457705,0.8436192849298026,-1.0696497054771597,-0.29246972729030885,-0.5072696949324063,-1.804060391633852,0.41463973873286825,-0.06065342496772562,-1.2132110689335833,-0.1869364025887339,0.7239663414003534,-0.03198459252341648,0.9917197143234533,0.4124466650325076,-0.6198057419680839,-0.27086068891135073,-1.6085151157707147,-0.5886897832373408,-2.03889655784642,-0.08269100136583725,-0.2998182776646363,0.7537301596831394,-0.5572938977691413,0.2816574459013314,0.12511549492515286,-1.1520414977821023,-1.6077418183548926,0.12518543876338792,-0.17240992239466557,-0.29687603356526354,-0.538488421711546,1.011892155339132,0.5242967165890116,0.37788940477311916,1.3818585203086495,1.3322459158616347,1.3491805785283302,0.260837473417611,0.9770174853395498,-0.417469144514007,0.2532052106744681,-1.418974713556114,-1.304961959687015,-0.7850198786305627,-2.637960154783843,-0.702041364600879,0.2929621979386714,-0.31570510433110843,-0.2629023198827632,0.19022263715975085,0.6217882134487541,-0.2991271853655061,1.0088878670316135,-1.6952584120476268],\"yaxis\":\"y2\",\"type\":\"scatter\"},{\"line\":{\"color\":\"rgba(128, 128, 128, 1.0)\",\"dash\":\"solid\",\"shape\":\"linear\",\"width\":1.3},\"marker\":{\"size\":2,\"symbol\":\"circle\"},\"mode\":\"markers\",\"name\":\"A\",\"text\":\"\",\"x\":[-0.03871432534083431,0.8115707952131627,-0.17665423819459455,1.3466930613339523,-0.7096242874361512,0.5827954368056582,0.46518279753224095,-1.5660683477890591,-0.33199610826936693,-0.4744363313695482,1.4711440122729522,-0.003955344986920965,0.0562545380152191,0.15362277115179548,-0.36353528708391786,-0.012124866275137487,-0.20009491093416557,0.9614757069810966,0.7697978672912913,-0.23742915591891228,0.9725222749061871,0.41582536826645344,-1.0625242653194664,-0.7900579467789591,-0.6818934981943373,-0.13917048218982198,-0.3541996772670713,-0.8213352921077302,-0.07126063095007504,-0.26033422049286276,-0.5289646963018059,-0.43873497104461107,-0.45044738503422543,0.7478128184341659,0.6641194392583254,-0.979094314437018,-1.119399923453585,-1.5594785503686877,0.7599857788414909,-1.9097517568392404,-1.9468678465506883,0.5218375682681676,-1.0396394039937231,1.1276287199659947,-1.184342666394064,0.022131779564743076,-0.3201532437258341,-0.19702044383341424,-0.3758894766712151,0.05237384319038519,1.5172743804134299,2.4247879322619643,-0.9755230759676465,1.012608550719346,-1.290639386572514,-0.17154180805176894,0.7087889536846921,0.16864636263787605,-0.1312296598447758,0.7305408215857765,-1.3689031206003062,0.22090233284189276,1.3597780697136148,0.9944818070429114,0.6964499854986963,0.6745445328562419,-0.6662469380254723,-1.0174720887610438,0.2300492223012016,-0.036954874906627216,-0.726688304201755,-1.0211999418778872,1.0250471207567862,0.21183444445887054,0.37261079372522277,0.5822324112944044,-0.22929439516700795,0.2480386641167231,0.5643644796350337,0.9750637011146529,-0.18448805836167542,1.0717767289630435,2.0980105239450886,0.38372361927407656,-0.004206138482686182,-0.13370915390265514,0.16589187268661165,0.47628847080812187,0.704925336787344,0.12372473894611717,0.15210545578859208,-0.9406035775255597,-0.226907080030317,0.2499324277887329,-1.5170304489877942,1.2639490310851944,-0.516687512771716,2.305904708755523,-1.3952138991015384,0.630778993152211],\"xaxis\":\"x3\",\"y\":[3.3625825147031634,-0.6885621495157169,0.5149951992086972,-0.4976600607971672,1.3129178129369143,1.259037760305938,-0.8205591484786454,-0.2888956899883146,-0.09602816876888236,-0.9613950050487399,0.19756992435357082,-2.010039225046455,-0.7479232977395808,1.947999686378811,-1.300068284850122,0.8562782186572203,-0.8554492701360895,-0.4206993361270417,0.17322463597602866,-0.47160211461434376,0.565677357194077,-0.6594632474857488,1.7551221205900165,0.7357358194208311,-1.1591709602449005,-0.05419091582379508,-0.36257185525324137,1.4349669783777106,-0.5661528981377684,-0.407032366454418,0.22755126025017564,0.8257857482311864,0.27076051378642957,-0.46987215853669007,-0.6260892978035598,-0.14422154840098403,0.06729047029481175,-0.7538901577971123,-0.16372387540641004,-1.5306935620588862,1.7378715409320646,1.8728785308476077,-0.22596064971310095,0.19265357626344148,1.3095974819986245,-0.8467226757105627,-0.47588441755457705,0.8436192849298026,-1.0696497054771597,-0.29246972729030885,-0.5072696949324063,-1.804060391633852,0.41463973873286825,-0.06065342496772562,-1.2132110689335833,-0.1869364025887339,0.7239663414003534,-0.03198459252341648,0.9917197143234533,0.4124466650325076,-0.6198057419680839,-0.27086068891135073,-1.6085151157707147,-0.5886897832373408,-2.03889655784642,-0.08269100136583725,-0.2998182776646363,0.7537301596831394,-0.5572938977691413,0.2816574459013314,0.12511549492515286,-1.1520414977821023,-1.6077418183548926,0.12518543876338792,-0.17240992239466557,-0.29687603356526354,-0.538488421711546,1.011892155339132,0.5242967165890116,0.37788940477311916,1.3818585203086495,1.3322459158616347,1.3491805785283302,0.260837473417611,0.9770174853395498,-0.417469144514007,0.2532052106744681,-1.418974713556114,-1.304961959687015,-0.7850198786305627,-2.637960154783843,-0.702041364600879,0.2929621979386714,-0.31570510433110843,-0.2629023198827632,0.19022263715975085,0.6217882134487541,-0.2991271853655061,1.0088878670316135,-1.6952584120476268],\"yaxis\":\"y3\",\"type\":\"scatter\"},{\"line\":{\"color\":\"rgba(128, 128, 128, 1.0)\",\"dash\":\"solid\",\"shape\":\"linear\",\"width\":1.3},\"marker\":{\"size\":2,\"symbol\":\"circle\"},\"mode\":\"markers\",\"name\":\"A\",\"text\":\"\",\"x\":[-0.2610754490700943,-0.31274259932016485,-0.05195486783740825,-0.6363720505501187,0.26403720932684455,-0.670878971050256,0.35306264868315396,-1.4766036084490375,-1.0570360760952613,-0.5716289462859565,0.5996025660857952,0.6669472548117814,-0.20190710037508552,0.6591484959562992,0.3007018794461643,-2.3269309002298684,-0.45564726513007425,0.31412461514473483,1.5775316971860345,-0.20816830651970206,1.0992586180529906,1.2482324665607225,0.5963441305128984,0.6759383135148479,-0.31391325666451225,1.20331051531392,-1.1189113149477334,0.04340009025224424,-0.5873078097584103,-1.7395764773201399,1.7318829844673942,-1.8582286156354608,0.2102896767181078,0.036038219215623425,1.7315528329827625,-0.23751896821776966,-1.2619041772231365,-0.4209939529770629,0.6444023091948922,-0.12611657156977105,-0.8679107790133433,-1.2941016753923553,0.14594471207322482,-1.0981622210575677,-0.08624722509148783,-0.5531726942858656,1.3258006005289427,-0.5239864957809007,0.09995128771691131,2.10208730930389,-0.6752478145794528,-0.3840445714707245,-0.1372520446980467,0.3886173501207647,1.2332964234722699,1.4381637163220384,-0.25764043429119016,-0.9842129074651307,-0.13624389171313364,-1.2929703628833762,-0.21066150761967375,-1.0517433412117014,0.12062324844287063,1.2927129194575222,-0.7835829494349476,-0.7570704661624947,-1.161275272484911,-0.6580589800179951,0.4574163292136516,0.9282633619209005,1.2361508560233534,1.6358461396414072,-0.3275027468944334,0.4715100581108882,0.1900867796549248,0.9503595438312736,0.2846599033154163,0.7838010808747881,-0.6215426494588088,-2.5585283098605864,2.792906821685706,-0.21163724717237037,-0.799844955740187,-0.12841497548761696,1.643525322798787,0.6669179707736347,-2.071559206824266,0.8811338533173473,-2.0193879616140107,-1.9139249417279494,0.9818762536192873,-0.14457914752721937,-0.1019202571490361,-0.10167892581764211,1.2887099889784408,0.7911773663583078,-1.0221485430858486,-0.47387097215670204,-0.20350765600332388,-0.13150023481557147],\"xaxis\":\"x4\",\"y\":[3.3625825147031634,-0.6885621495157169,0.5149951992086972,-0.4976600607971672,1.3129178129369143,1.259037760305938,-0.8205591484786454,-0.2888956899883146,-0.09602816876888236,-0.9613950050487399,0.19756992435357082,-2.010039225046455,-0.7479232977395808,1.947999686378811,-1.300068284850122,0.8562782186572203,-0.8554492701360895,-0.4206993361270417,0.17322463597602866,-0.47160211461434376,0.565677357194077,-0.6594632474857488,1.7551221205900165,0.7357358194208311,-1.1591709602449005,-0.05419091582379508,-0.36257185525324137,1.4349669783777106,-0.5661528981377684,-0.407032366454418,0.22755126025017564,0.8257857482311864,0.27076051378642957,-0.46987215853669007,-0.6260892978035598,-0.14422154840098403,0.06729047029481175,-0.7538901577971123,-0.16372387540641004,-1.5306935620588862,1.7378715409320646,1.8728785308476077,-0.22596064971310095,0.19265357626344148,1.3095974819986245,-0.8467226757105627,-0.47588441755457705,0.8436192849298026,-1.0696497054771597,-0.29246972729030885,-0.5072696949324063,-1.804060391633852,0.41463973873286825,-0.06065342496772562,-1.2132110689335833,-0.1869364025887339,0.7239663414003534,-0.03198459252341648,0.9917197143234533,0.4124466650325076,-0.6198057419680839,-0.27086068891135073,-1.6085151157707147,-0.5886897832373408,-2.03889655784642,-0.08269100136583725,-0.2998182776646363,0.7537301596831394,-0.5572938977691413,0.2816574459013314,0.12511549492515286,-1.1520414977821023,-1.6077418183548926,0.12518543876338792,-0.17240992239466557,-0.29687603356526354,-0.538488421711546,1.011892155339132,0.5242967165890116,0.37788940477311916,1.3818585203086495,1.3322459158616347,1.3491805785283302,0.260837473417611,0.9770174853395498,-0.417469144514007,0.2532052106744681,-1.418974713556114,-1.304961959687015,-0.7850198786305627,-2.637960154783843,-0.702041364600879,0.2929621979386714,-0.31570510433110843,-0.2629023198827632,0.19022263715975085,0.6217882134487541,-0.2991271853655061,1.0088878670316135,-1.6952584120476268],\"yaxis\":\"y4\",\"type\":\"scatter\"},{\"line\":{\"color\":\"rgba(128, 128, 128, 1.0)\",\"dash\":\"solid\",\"shape\":\"linear\",\"width\":1.3},\"marker\":{\"size\":2,\"symbol\":\"circle\"},\"mode\":\"markers\",\"name\":\"B\",\"text\":\"\",\"x\":[3.3625825147031634,-0.6885621495157169,0.5149951992086972,-0.4976600607971672,1.3129178129369143,1.259037760305938,-0.8205591484786454,-0.2888956899883146,-0.09602816876888236,-0.9613950050487399,0.19756992435357082,-2.010039225046455,-0.7479232977395808,1.947999686378811,-1.300068284850122,0.8562782186572203,-0.8554492701360895,-0.4206993361270417,0.17322463597602866,-0.47160211461434376,0.565677357194077,-0.6594632474857488,1.7551221205900165,0.7357358194208311,-1.1591709602449005,-0.05419091582379508,-0.36257185525324137,1.4349669783777106,-0.5661528981377684,-0.407032366454418,0.22755126025017564,0.8257857482311864,0.27076051378642957,-0.46987215853669007,-0.6260892978035598,-0.14422154840098403,0.06729047029481175,-0.7538901577971123,-0.16372387540641004,-1.5306935620588862,1.7378715409320646,1.8728785308476077,-0.22596064971310095,0.19265357626344148,1.3095974819986245,-0.8467226757105627,-0.47588441755457705,0.8436192849298026,-1.0696497054771597,-0.29246972729030885,-0.5072696949324063,-1.804060391633852,0.41463973873286825,-0.06065342496772562,-1.2132110689335833,-0.1869364025887339,0.7239663414003534,-0.03198459252341648,0.9917197143234533,0.4124466650325076,-0.6198057419680839,-0.27086068891135073,-1.6085151157707147,-0.5886897832373408,-2.03889655784642,-0.08269100136583725,-0.2998182776646363,0.7537301596831394,-0.5572938977691413,0.2816574459013314,0.12511549492515286,-1.1520414977821023,-1.6077418183548926,0.12518543876338792,-0.17240992239466557,-0.29687603356526354,-0.538488421711546,1.011892155339132,0.5242967165890116,0.37788940477311916,1.3818585203086495,1.3322459158616347,1.3491805785283302,0.260837473417611,0.9770174853395498,-0.417469144514007,0.2532052106744681,-1.418974713556114,-1.304961959687015,-0.7850198786305627,-2.637960154783843,-0.702041364600879,0.2929621979386714,-0.31570510433110843,-0.2629023198827632,0.19022263715975085,0.6217882134487541,-0.2991271853655061,1.0088878670316135,-1.6952584120476268],\"xaxis\":\"x5\",\"y\":[-0.09869980248667033,2.03726652741454,1.4394828771486599,1.8697131285068431,-0.5548997790378658,-0.6217206439491961,-0.689074198736593,-0.06741428706327046,1.7098599778074983,-0.4176920959973648,2.168907375948452,-0.4880158437300923,0.27498240917764155,0.08170163057623107,-0.03384861897299663,1.647092749347639,0.15860105398020632,0.059442598251813514,-0.5762077458563473,1.4150104934559853,-0.5749855002518763,-0.546415696315059,-1.5240091166445844,-0.9241042955106828,-1.9699502760010996,-0.6245600967739037,0.46518656287393384,-0.5218551564845291,0.2791729390951336,0.38578951337570555,0.39588598472909636,-0.7255379856229528,-0.56042666640254,-0.6027380454238817,0.06544925823079883,0.0977013071597415,0.2884822951944402,0.01713950529145413,-0.6866144000900855,-0.7898794564866739,0.10855608206827938,-0.22219683727590325,0.8283900308964371,-0.22510174689080045,0.08635559723721953,0.5335960581183034,0.37052671554643235,-0.570615537939435,0.2934992940562579,0.35328262839809565,-0.504249051160435,-1.9841088941570533,0.16468981598788138,-0.457678976262291,-0.4458065995793777,-0.6009038322071909,1.081394434790141,-0.32228195363254253,-0.2734324040026059,-0.11560060379954049,-1.145759112427046,-0.11539531430117402,0.32766295593105765,-0.373990881876142,-1.8553040836366972,0.41643076492351705,0.8492089009344047,-0.7965102060113378,2.036714812577297,0.21979935049899096,-1.1294971239943814,0.15636794398823822,0.19528867658492846,-0.664078836346772,0.29684278242568446,-0.8367625226528052,0.7616986595793469,1.855823984151398,-1.133439152106387,-0.8195629205557495,-0.46718347774595076,0.9486061350544259,-0.07737115781296872,-0.42174556204453584,1.6477605761097094,0.382673801536673,1.0452339650064126,-1.2834000440096809,0.8211643104999973,2.0187466797608917,0.03507192302206712,-1.290810831468579,0.7469538642891566,-0.7722379464065471,-0.7828371849281098,-0.7157909433349646,1.0350233315650033,0.34197577939435325,-0.20965832848228794,0.33295144312351205],\"yaxis\":\"y5\",\"type\":\"scatter\"},{\"histfunc\":\"count\",\"histnorm\":\"\",\"marker\":{\"color\":\"rgba(55, 128, 191, 1.0)\",\"line\":{\"color\":\"#4D5663\",\"width\":1.3}},\"name\":\"B\",\"nbinsx\":10,\"opacity\":0.8,\"orientation\":\"v\",\"x\":[-0.09869980248667033,2.03726652741454,1.4394828771486599,1.8697131285068431,-0.5548997790378658,-0.6217206439491961,-0.689074198736593,-0.06741428706327046,1.7098599778074983,-0.4176920959973648,2.168907375948452,-0.4880158437300923,0.27498240917764155,0.08170163057623107,-0.03384861897299663,1.647092749347639,0.15860105398020632,0.059442598251813514,-0.5762077458563473,1.4150104934559853,-0.5749855002518763,-0.546415696315059,-1.5240091166445844,-0.9241042955106828,-1.9699502760010996,-0.6245600967739037,0.46518656287393384,-0.5218551564845291,0.2791729390951336,0.38578951337570555,0.39588598472909636,-0.7255379856229528,-0.56042666640254,-0.6027380454238817,0.06544925823079883,0.0977013071597415,0.2884822951944402,0.01713950529145413,-0.6866144000900855,-0.7898794564866739,0.10855608206827938,-0.22219683727590325,0.8283900308964371,-0.22510174689080045,0.08635559723721953,0.5335960581183034,0.37052671554643235,-0.570615537939435,0.2934992940562579,0.35328262839809565,-0.504249051160435,-1.9841088941570533,0.16468981598788138,-0.457678976262291,-0.4458065995793777,-0.6009038322071909,1.081394434790141,-0.32228195363254253,-0.2734324040026059,-0.11560060379954049,-1.145759112427046,-0.11539531430117402,0.32766295593105765,-0.373990881876142,-1.8553040836366972,0.41643076492351705,0.8492089009344047,-0.7965102060113378,2.036714812577297,0.21979935049899096,-1.1294971239943814,0.15636794398823822,0.19528867658492846,-0.664078836346772,0.29684278242568446,-0.8367625226528052,0.7616986595793469,1.855823984151398,-1.133439152106387,-0.8195629205557495,-0.46718347774595076,0.9486061350544259,-0.07737115781296872,-0.42174556204453584,1.6477605761097094,0.382673801536673,1.0452339650064126,-1.2834000440096809,0.8211643104999973,2.0187466797608917,0.03507192302206712,-1.290810831468579,0.7469538642891566,-0.7722379464065471,-0.7828371849281098,-0.7157909433349646,1.0350233315650033,0.34197577939435325,-0.20965832848228794,0.33295144312351205],\"xaxis\":\"x6\",\"yaxis\":\"y6\",\"type\":\"histogram\"},{\"line\":{\"color\":\"rgba(128, 128, 128, 1.0)\",\"dash\":\"solid\",\"shape\":\"linear\",\"width\":1.3},\"marker\":{\"size\":2,\"symbol\":\"circle\"},\"mode\":\"markers\",\"name\":\"B\",\"text\":\"\",\"x\":[-0.03871432534083431,0.8115707952131627,-0.17665423819459455,1.3466930613339523,-0.7096242874361512,0.5827954368056582,0.46518279753224095,-1.5660683477890591,-0.33199610826936693,-0.4744363313695482,1.4711440122729522,-0.003955344986920965,0.0562545380152191,0.15362277115179548,-0.36353528708391786,-0.012124866275137487,-0.20009491093416557,0.9614757069810966,0.7697978672912913,-0.23742915591891228,0.9725222749061871,0.41582536826645344,-1.0625242653194664,-0.7900579467789591,-0.6818934981943373,-0.13917048218982198,-0.3541996772670713,-0.8213352921077302,-0.07126063095007504,-0.26033422049286276,-0.5289646963018059,-0.43873497104461107,-0.45044738503422543,0.7478128184341659,0.6641194392583254,-0.979094314437018,-1.119399923453585,-1.5594785503686877,0.7599857788414909,-1.9097517568392404,-1.9468678465506883,0.5218375682681676,-1.0396394039937231,1.1276287199659947,-1.184342666394064,0.022131779564743076,-0.3201532437258341,-0.19702044383341424,-0.3758894766712151,0.05237384319038519,1.5172743804134299,2.4247879322619643,-0.9755230759676465,1.012608550719346,-1.290639386572514,-0.17154180805176894,0.7087889536846921,0.16864636263787605,-0.1312296598447758,0.7305408215857765,-1.3689031206003062,0.22090233284189276,1.3597780697136148,0.9944818070429114,0.6964499854986963,0.6745445328562419,-0.6662469380254723,-1.0174720887610438,0.2300492223012016,-0.036954874906627216,-0.726688304201755,-1.0211999418778872,1.0250471207567862,0.21183444445887054,0.37261079372522277,0.5822324112944044,-0.22929439516700795,0.2480386641167231,0.5643644796350337,0.9750637011146529,-0.18448805836167542,1.0717767289630435,2.0980105239450886,0.38372361927407656,-0.004206138482686182,-0.13370915390265514,0.16589187268661165,0.47628847080812187,0.704925336787344,0.12372473894611717,0.15210545578859208,-0.9406035775255597,-0.226907080030317,0.2499324277887329,-1.5170304489877942,1.2639490310851944,-0.516687512771716,2.305904708755523,-1.3952138991015384,0.630778993152211],\"xaxis\":\"x7\",\"y\":[-0.09869980248667033,2.03726652741454,1.4394828771486599,1.8697131285068431,-0.5548997790378658,-0.6217206439491961,-0.689074198736593,-0.06741428706327046,1.7098599778074983,-0.4176920959973648,2.168907375948452,-0.4880158437300923,0.27498240917764155,0.08170163057623107,-0.03384861897299663,1.647092749347639,0.15860105398020632,0.059442598251813514,-0.5762077458563473,1.4150104934559853,-0.5749855002518763,-0.546415696315059,-1.5240091166445844,-0.9241042955106828,-1.9699502760010996,-0.6245600967739037,0.46518656287393384,-0.5218551564845291,0.2791729390951336,0.38578951337570555,0.39588598472909636,-0.7255379856229528,-0.56042666640254,-0.6027380454238817,0.06544925823079883,0.0977013071597415,0.2884822951944402,0.01713950529145413,-0.6866144000900855,-0.7898794564866739,0.10855608206827938,-0.22219683727590325,0.8283900308964371,-0.22510174689080045,0.08635559723721953,0.5335960581183034,0.37052671554643235,-0.570615537939435,0.2934992940562579,0.35328262839809565,-0.504249051160435,-1.9841088941570533,0.16468981598788138,-0.457678976262291,-0.4458065995793777,-0.6009038322071909,1.081394434790141,-0.32228195363254253,-0.2734324040026059,-0.11560060379954049,-1.145759112427046,-0.11539531430117402,0.32766295593105765,-0.373990881876142,-1.8553040836366972,0.41643076492351705,0.8492089009344047,-0.7965102060113378,2.036714812577297,0.21979935049899096,-1.1294971239943814,0.15636794398823822,0.19528867658492846,-0.664078836346772,0.29684278242568446,-0.8367625226528052,0.7616986595793469,1.855823984151398,-1.133439152106387,-0.8195629205557495,-0.46718347774595076,0.9486061350544259,-0.07737115781296872,-0.42174556204453584,1.6477605761097094,0.382673801536673,1.0452339650064126,-1.2834000440096809,0.8211643104999973,2.0187466797608917,0.03507192302206712,-1.290810831468579,0.7469538642891566,-0.7722379464065471,-0.7828371849281098,-0.7157909433349646,1.0350233315650033,0.34197577939435325,-0.20965832848228794,0.33295144312351205],\"yaxis\":\"y7\",\"type\":\"scatter\"},{\"line\":{\"color\":\"rgba(128, 128, 128, 1.0)\",\"dash\":\"solid\",\"shape\":\"linear\",\"width\":1.3},\"marker\":{\"size\":2,\"symbol\":\"circle\"},\"mode\":\"markers\",\"name\":\"B\",\"text\":\"\",\"x\":[-0.2610754490700943,-0.31274259932016485,-0.05195486783740825,-0.6363720505501187,0.26403720932684455,-0.670878971050256,0.35306264868315396,-1.4766036084490375,-1.0570360760952613,-0.5716289462859565,0.5996025660857952,0.6669472548117814,-0.20190710037508552,0.6591484959562992,0.3007018794461643,-2.3269309002298684,-0.45564726513007425,0.31412461514473483,1.5775316971860345,-0.20816830651970206,1.0992586180529906,1.2482324665607225,0.5963441305128984,0.6759383135148479,-0.31391325666451225,1.20331051531392,-1.1189113149477334,0.04340009025224424,-0.5873078097584103,-1.7395764773201399,1.7318829844673942,-1.8582286156354608,0.2102896767181078,0.036038219215623425,1.7315528329827625,-0.23751896821776966,-1.2619041772231365,-0.4209939529770629,0.6444023091948922,-0.12611657156977105,-0.8679107790133433,-1.2941016753923553,0.14594471207322482,-1.0981622210575677,-0.08624722509148783,-0.5531726942858656,1.3258006005289427,-0.5239864957809007,0.09995128771691131,2.10208730930389,-0.6752478145794528,-0.3840445714707245,-0.1372520446980467,0.3886173501207647,1.2332964234722699,1.4381637163220384,-0.25764043429119016,-0.9842129074651307,-0.13624389171313364,-1.2929703628833762,-0.21066150761967375,-1.0517433412117014,0.12062324844287063,1.2927129194575222,-0.7835829494349476,-0.7570704661624947,-1.161275272484911,-0.6580589800179951,0.4574163292136516,0.9282633619209005,1.2361508560233534,1.6358461396414072,-0.3275027468944334,0.4715100581108882,0.1900867796549248,0.9503595438312736,0.2846599033154163,0.7838010808747881,-0.6215426494588088,-2.5585283098605864,2.792906821685706,-0.21163724717237037,-0.799844955740187,-0.12841497548761696,1.643525322798787,0.6669179707736347,-2.071559206824266,0.8811338533173473,-2.0193879616140107,-1.9139249417279494,0.9818762536192873,-0.14457914752721937,-0.1019202571490361,-0.10167892581764211,1.2887099889784408,0.7911773663583078,-1.0221485430858486,-0.47387097215670204,-0.20350765600332388,-0.13150023481557147],\"xaxis\":\"x8\",\"y\":[-0.09869980248667033,2.03726652741454,1.4394828771486599,1.8697131285068431,-0.5548997790378658,-0.6217206439491961,-0.689074198736593,-0.06741428706327046,1.7098599778074983,-0.4176920959973648,2.168907375948452,-0.4880158437300923,0.27498240917764155,0.08170163057623107,-0.03384861897299663,1.647092749347639,0.15860105398020632,0.059442598251813514,-0.5762077458563473,1.4150104934559853,-0.5749855002518763,-0.546415696315059,-1.5240091166445844,-0.9241042955106828,-1.9699502760010996,-0.6245600967739037,0.46518656287393384,-0.5218551564845291,0.2791729390951336,0.38578951337570555,0.39588598472909636,-0.7255379856229528,-0.56042666640254,-0.6027380454238817,0.06544925823079883,0.0977013071597415,0.2884822951944402,0.01713950529145413,-0.6866144000900855,-0.7898794564866739,0.10855608206827938,-0.22219683727590325,0.8283900308964371,-0.22510174689080045,0.08635559723721953,0.5335960581183034,0.37052671554643235,-0.570615537939435,0.2934992940562579,0.35328262839809565,-0.504249051160435,-1.9841088941570533,0.16468981598788138,-0.457678976262291,-0.4458065995793777,-0.6009038322071909,1.081394434790141,-0.32228195363254253,-0.2734324040026059,-0.11560060379954049,-1.145759112427046,-0.11539531430117402,0.32766295593105765,-0.373990881876142,-1.8553040836366972,0.41643076492351705,0.8492089009344047,-0.7965102060113378,2.036714812577297,0.21979935049899096,-1.1294971239943814,0.15636794398823822,0.19528867658492846,-0.664078836346772,0.29684278242568446,-0.8367625226528052,0.7616986595793469,1.855823984151398,-1.133439152106387,-0.8195629205557495,-0.46718347774595076,0.9486061350544259,-0.07737115781296872,-0.42174556204453584,1.6477605761097094,0.382673801536673,1.0452339650064126,-1.2834000440096809,0.8211643104999973,2.0187466797608917,0.03507192302206712,-1.290810831468579,0.7469538642891566,-0.7722379464065471,-0.7828371849281098,-0.7157909433349646,1.0350233315650033,0.34197577939435325,-0.20965832848228794,0.33295144312351205],\"yaxis\":\"y8\",\"type\":\"scatter\"},{\"line\":{\"color\":\"rgba(128, 128, 128, 1.0)\",\"dash\":\"solid\",\"shape\":\"linear\",\"width\":1.3},\"marker\":{\"size\":2,\"symbol\":\"circle\"},\"mode\":\"markers\",\"name\":\"C\",\"text\":\"\",\"x\":[3.3625825147031634,-0.6885621495157169,0.5149951992086972,-0.4976600607971672,1.3129178129369143,1.259037760305938,-0.8205591484786454,-0.2888956899883146,-0.09602816876888236,-0.9613950050487399,0.19756992435357082,-2.010039225046455,-0.7479232977395808,1.947999686378811,-1.300068284850122,0.8562782186572203,-0.8554492701360895,-0.4206993361270417,0.17322463597602866,-0.47160211461434376,0.565677357194077,-0.6594632474857488,1.7551221205900165,0.7357358194208311,-1.1591709602449005,-0.05419091582379508,-0.36257185525324137,1.4349669783777106,-0.5661528981377684,-0.407032366454418,0.22755126025017564,0.8257857482311864,0.27076051378642957,-0.46987215853669007,-0.6260892978035598,-0.14422154840098403,0.06729047029481175,-0.7538901577971123,-0.16372387540641004,-1.5306935620588862,1.7378715409320646,1.8728785308476077,-0.22596064971310095,0.19265357626344148,1.3095974819986245,-0.8467226757105627,-0.47588441755457705,0.8436192849298026,-1.0696497054771597,-0.29246972729030885,-0.5072696949324063,-1.804060391633852,0.41463973873286825,-0.06065342496772562,-1.2132110689335833,-0.1869364025887339,0.7239663414003534,-0.03198459252341648,0.9917197143234533,0.4124466650325076,-0.6198057419680839,-0.27086068891135073,-1.6085151157707147,-0.5886897832373408,-2.03889655784642,-0.08269100136583725,-0.2998182776646363,0.7537301596831394,-0.5572938977691413,0.2816574459013314,0.12511549492515286,-1.1520414977821023,-1.6077418183548926,0.12518543876338792,-0.17240992239466557,-0.29687603356526354,-0.538488421711546,1.011892155339132,0.5242967165890116,0.37788940477311916,1.3818585203086495,1.3322459158616347,1.3491805785283302,0.260837473417611,0.9770174853395498,-0.417469144514007,0.2532052106744681,-1.418974713556114,-1.304961959687015,-0.7850198786305627,-2.637960154783843,-0.702041364600879,0.2929621979386714,-0.31570510433110843,-0.2629023198827632,0.19022263715975085,0.6217882134487541,-0.2991271853655061,1.0088878670316135,-1.6952584120476268],\"xaxis\":\"x9\",\"y\":[-0.03871432534083431,0.8115707952131627,-0.17665423819459455,1.3466930613339523,-0.7096242874361512,0.5827954368056582,0.46518279753224095,-1.5660683477890591,-0.33199610826936693,-0.4744363313695482,1.4711440122729522,-0.003955344986920965,0.0562545380152191,0.15362277115179548,-0.36353528708391786,-0.012124866275137487,-0.20009491093416557,0.9614757069810966,0.7697978672912913,-0.23742915591891228,0.9725222749061871,0.41582536826645344,-1.0625242653194664,-0.7900579467789591,-0.6818934981943373,-0.13917048218982198,-0.3541996772670713,-0.8213352921077302,-0.07126063095007504,-0.26033422049286276,-0.5289646963018059,-0.43873497104461107,-0.45044738503422543,0.7478128184341659,0.6641194392583254,-0.979094314437018,-1.119399923453585,-1.5594785503686877,0.7599857788414909,-1.9097517568392404,-1.9468678465506883,0.5218375682681676,-1.0396394039937231,1.1276287199659947,-1.184342666394064,0.022131779564743076,-0.3201532437258341,-0.19702044383341424,-0.3758894766712151,0.05237384319038519,1.5172743804134299,2.4247879322619643,-0.9755230759676465,1.012608550719346,-1.290639386572514,-0.17154180805176894,0.7087889536846921,0.16864636263787605,-0.1312296598447758,0.7305408215857765,-1.3689031206003062,0.22090233284189276,1.3597780697136148,0.9944818070429114,0.6964499854986963,0.6745445328562419,-0.6662469380254723,-1.0174720887610438,0.2300492223012016,-0.036954874906627216,-0.726688304201755,-1.0211999418778872,1.0250471207567862,0.21183444445887054,0.37261079372522277,0.5822324112944044,-0.22929439516700795,0.2480386641167231,0.5643644796350337,0.9750637011146529,-0.18448805836167542,1.0717767289630435,2.0980105239450886,0.38372361927407656,-0.004206138482686182,-0.13370915390265514,0.16589187268661165,0.47628847080812187,0.704925336787344,0.12372473894611717,0.15210545578859208,-0.9406035775255597,-0.226907080030317,0.2499324277887329,-1.5170304489877942,1.2639490310851944,-0.516687512771716,2.305904708755523,-1.3952138991015384,0.630778993152211],\"yaxis\":\"y9\",\"type\":\"scatter\"},{\"line\":{\"color\":\"rgba(128, 128, 128, 1.0)\",\"dash\":\"solid\",\"shape\":\"linear\",\"width\":1.3},\"marker\":{\"size\":2,\"symbol\":\"circle\"},\"mode\":\"markers\",\"name\":\"C\",\"text\":\"\",\"x\":[-0.09869980248667033,2.03726652741454,1.4394828771486599,1.8697131285068431,-0.5548997790378658,-0.6217206439491961,-0.689074198736593,-0.06741428706327046,1.7098599778074983,-0.4176920959973648,2.168907375948452,-0.4880158437300923,0.27498240917764155,0.08170163057623107,-0.03384861897299663,1.647092749347639,0.15860105398020632,0.059442598251813514,-0.5762077458563473,1.4150104934559853,-0.5749855002518763,-0.546415696315059,-1.5240091166445844,-0.9241042955106828,-1.9699502760010996,-0.6245600967739037,0.46518656287393384,-0.5218551564845291,0.2791729390951336,0.38578951337570555,0.39588598472909636,-0.7255379856229528,-0.56042666640254,-0.6027380454238817,0.06544925823079883,0.0977013071597415,0.2884822951944402,0.01713950529145413,-0.6866144000900855,-0.7898794564866739,0.10855608206827938,-0.22219683727590325,0.8283900308964371,-0.22510174689080045,0.08635559723721953,0.5335960581183034,0.37052671554643235,-0.570615537939435,0.2934992940562579,0.35328262839809565,-0.504249051160435,-1.9841088941570533,0.16468981598788138,-0.457678976262291,-0.4458065995793777,-0.6009038322071909,1.081394434790141,-0.32228195363254253,-0.2734324040026059,-0.11560060379954049,-1.145759112427046,-0.11539531430117402,0.32766295593105765,-0.373990881876142,-1.8553040836366972,0.41643076492351705,0.8492089009344047,-0.7965102060113378,2.036714812577297,0.21979935049899096,-1.1294971239943814,0.15636794398823822,0.19528867658492846,-0.664078836346772,0.29684278242568446,-0.8367625226528052,0.7616986595793469,1.855823984151398,-1.133439152106387,-0.8195629205557495,-0.46718347774595076,0.9486061350544259,-0.07737115781296872,-0.42174556204453584,1.6477605761097094,0.382673801536673,1.0452339650064126,-1.2834000440096809,0.8211643104999973,2.0187466797608917,0.03507192302206712,-1.290810831468579,0.7469538642891566,-0.7722379464065471,-0.7828371849281098,-0.7157909433349646,1.0350233315650033,0.34197577939435325,-0.20965832848228794,0.33295144312351205],\"xaxis\":\"x10\",\"y\":[-0.03871432534083431,0.8115707952131627,-0.17665423819459455,1.3466930613339523,-0.7096242874361512,0.5827954368056582,0.46518279753224095,-1.5660683477890591,-0.33199610826936693,-0.4744363313695482,1.4711440122729522,-0.003955344986920965,0.0562545380152191,0.15362277115179548,-0.36353528708391786,-0.012124866275137487,-0.20009491093416557,0.9614757069810966,0.7697978672912913,-0.23742915591891228,0.9725222749061871,0.41582536826645344,-1.0625242653194664,-0.7900579467789591,-0.6818934981943373,-0.13917048218982198,-0.3541996772670713,-0.8213352921077302,-0.07126063095007504,-0.26033422049286276,-0.5289646963018059,-0.43873497104461107,-0.45044738503422543,0.7478128184341659,0.6641194392583254,-0.979094314437018,-1.119399923453585,-1.5594785503686877,0.7599857788414909,-1.9097517568392404,-1.9468678465506883,0.5218375682681676,-1.0396394039937231,1.1276287199659947,-1.184342666394064,0.022131779564743076,-0.3201532437258341,-0.19702044383341424,-0.3758894766712151,0.05237384319038519,1.5172743804134299,2.4247879322619643,-0.9755230759676465,1.012608550719346,-1.290639386572514,-0.17154180805176894,0.7087889536846921,0.16864636263787605,-0.1312296598447758,0.7305408215857765,-1.3689031206003062,0.22090233284189276,1.3597780697136148,0.9944818070429114,0.6964499854986963,0.6745445328562419,-0.6662469380254723,-1.0174720887610438,0.2300492223012016,-0.036954874906627216,-0.726688304201755,-1.0211999418778872,1.0250471207567862,0.21183444445887054,0.37261079372522277,0.5822324112944044,-0.22929439516700795,0.2480386641167231,0.5643644796350337,0.9750637011146529,-0.18448805836167542,1.0717767289630435,2.0980105239450886,0.38372361927407656,-0.004206138482686182,-0.13370915390265514,0.16589187268661165,0.47628847080812187,0.704925336787344,0.12372473894611717,0.15210545578859208,-0.9406035775255597,-0.226907080030317,0.2499324277887329,-1.5170304489877942,1.2639490310851944,-0.516687512771716,2.305904708755523,-1.3952138991015384,0.630778993152211],\"yaxis\":\"y10\",\"type\":\"scatter\"},{\"histfunc\":\"count\",\"histnorm\":\"\",\"marker\":{\"color\":\"rgba(50, 171, 96, 1.0)\",\"line\":{\"color\":\"#4D5663\",\"width\":1.3}},\"name\":\"C\",\"nbinsx\":10,\"opacity\":0.8,\"orientation\":\"v\",\"x\":[-0.03871432534083431,0.8115707952131627,-0.17665423819459455,1.3466930613339523,-0.7096242874361512,0.5827954368056582,0.46518279753224095,-1.5660683477890591,-0.33199610826936693,-0.4744363313695482,1.4711440122729522,-0.003955344986920965,0.0562545380152191,0.15362277115179548,-0.36353528708391786,-0.012124866275137487,-0.20009491093416557,0.9614757069810966,0.7697978672912913,-0.23742915591891228,0.9725222749061871,0.41582536826645344,-1.0625242653194664,-0.7900579467789591,-0.6818934981943373,-0.13917048218982198,-0.3541996772670713,-0.8213352921077302,-0.07126063095007504,-0.26033422049286276,-0.5289646963018059,-0.43873497104461107,-0.45044738503422543,0.7478128184341659,0.6641194392583254,-0.979094314437018,-1.119399923453585,-1.5594785503686877,0.7599857788414909,-1.9097517568392404,-1.9468678465506883,0.5218375682681676,-1.0396394039937231,1.1276287199659947,-1.184342666394064,0.022131779564743076,-0.3201532437258341,-0.19702044383341424,-0.3758894766712151,0.05237384319038519,1.5172743804134299,2.4247879322619643,-0.9755230759676465,1.012608550719346,-1.290639386572514,-0.17154180805176894,0.7087889536846921,0.16864636263787605,-0.1312296598447758,0.7305408215857765,-1.3689031206003062,0.22090233284189276,1.3597780697136148,0.9944818070429114,0.6964499854986963,0.6745445328562419,-0.6662469380254723,-1.0174720887610438,0.2300492223012016,-0.036954874906627216,-0.726688304201755,-1.0211999418778872,1.0250471207567862,0.21183444445887054,0.37261079372522277,0.5822324112944044,-0.22929439516700795,0.2480386641167231,0.5643644796350337,0.9750637011146529,-0.18448805836167542,1.0717767289630435,2.0980105239450886,0.38372361927407656,-0.004206138482686182,-0.13370915390265514,0.16589187268661165,0.47628847080812187,0.704925336787344,0.12372473894611717,0.15210545578859208,-0.9406035775255597,-0.226907080030317,0.2499324277887329,-1.5170304489877942,1.2639490310851944,-0.516687512771716,2.305904708755523,-1.3952138991015384,0.630778993152211],\"xaxis\":\"x11\",\"yaxis\":\"y11\",\"type\":\"histogram\"},{\"line\":{\"color\":\"rgba(128, 128, 128, 1.0)\",\"dash\":\"solid\",\"shape\":\"linear\",\"width\":1.3},\"marker\":{\"size\":2,\"symbol\":\"circle\"},\"mode\":\"markers\",\"name\":\"C\",\"text\":\"\",\"x\":[-0.2610754490700943,-0.31274259932016485,-0.05195486783740825,-0.6363720505501187,0.26403720932684455,-0.670878971050256,0.35306264868315396,-1.4766036084490375,-1.0570360760952613,-0.5716289462859565,0.5996025660857952,0.6669472548117814,-0.20190710037508552,0.6591484959562992,0.3007018794461643,-2.3269309002298684,-0.45564726513007425,0.31412461514473483,1.5775316971860345,-0.20816830651970206,1.0992586180529906,1.2482324665607225,0.5963441305128984,0.6759383135148479,-0.31391325666451225,1.20331051531392,-1.1189113149477334,0.04340009025224424,-0.5873078097584103,-1.7395764773201399,1.7318829844673942,-1.8582286156354608,0.2102896767181078,0.036038219215623425,1.7315528329827625,-0.23751896821776966,-1.2619041772231365,-0.4209939529770629,0.6444023091948922,-0.12611657156977105,-0.8679107790133433,-1.2941016753923553,0.14594471207322482,-1.0981622210575677,-0.08624722509148783,-0.5531726942858656,1.3258006005289427,-0.5239864957809007,0.09995128771691131,2.10208730930389,-0.6752478145794528,-0.3840445714707245,-0.1372520446980467,0.3886173501207647,1.2332964234722699,1.4381637163220384,-0.25764043429119016,-0.9842129074651307,-0.13624389171313364,-1.2929703628833762,-0.21066150761967375,-1.0517433412117014,0.12062324844287063,1.2927129194575222,-0.7835829494349476,-0.7570704661624947,-1.161275272484911,-0.6580589800179951,0.4574163292136516,0.9282633619209005,1.2361508560233534,1.6358461396414072,-0.3275027468944334,0.4715100581108882,0.1900867796549248,0.9503595438312736,0.2846599033154163,0.7838010808747881,-0.6215426494588088,-2.5585283098605864,2.792906821685706,-0.21163724717237037,-0.799844955740187,-0.12841497548761696,1.643525322798787,0.6669179707736347,-2.071559206824266,0.8811338533173473,-2.0193879616140107,-1.9139249417279494,0.9818762536192873,-0.14457914752721937,-0.1019202571490361,-0.10167892581764211,1.2887099889784408,0.7911773663583078,-1.0221485430858486,-0.47387097215670204,-0.20350765600332388,-0.13150023481557147],\"xaxis\":\"x12\",\"y\":[-0.03871432534083431,0.8115707952131627,-0.17665423819459455,1.3466930613339523,-0.7096242874361512,0.5827954368056582,0.46518279753224095,-1.5660683477890591,-0.33199610826936693,-0.4744363313695482,1.4711440122729522,-0.003955344986920965,0.0562545380152191,0.15362277115179548,-0.36353528708391786,-0.012124866275137487,-0.20009491093416557,0.9614757069810966,0.7697978672912913,-0.23742915591891228,0.9725222749061871,0.41582536826645344,-1.0625242653194664,-0.7900579467789591,-0.6818934981943373,-0.13917048218982198,-0.3541996772670713,-0.8213352921077302,-0.07126063095007504,-0.26033422049286276,-0.5289646963018059,-0.43873497104461107,-0.45044738503422543,0.7478128184341659,0.6641194392583254,-0.979094314437018,-1.119399923453585,-1.5594785503686877,0.7599857788414909,-1.9097517568392404,-1.9468678465506883,0.5218375682681676,-1.0396394039937231,1.1276287199659947,-1.184342666394064,0.022131779564743076,-0.3201532437258341,-0.19702044383341424,-0.3758894766712151,0.05237384319038519,1.5172743804134299,2.4247879322619643,-0.9755230759676465,1.012608550719346,-1.290639386572514,-0.17154180805176894,0.7087889536846921,0.16864636263787605,-0.1312296598447758,0.7305408215857765,-1.3689031206003062,0.22090233284189276,1.3597780697136148,0.9944818070429114,0.6964499854986963,0.6745445328562419,-0.6662469380254723,-1.0174720887610438,0.2300492223012016,-0.036954874906627216,-0.726688304201755,-1.0211999418778872,1.0250471207567862,0.21183444445887054,0.37261079372522277,0.5822324112944044,-0.22929439516700795,0.2480386641167231,0.5643644796350337,0.9750637011146529,-0.18448805836167542,1.0717767289630435,2.0980105239450886,0.38372361927407656,-0.004206138482686182,-0.13370915390265514,0.16589187268661165,0.47628847080812187,0.704925336787344,0.12372473894611717,0.15210545578859208,-0.9406035775255597,-0.226907080030317,0.2499324277887329,-1.5170304489877942,1.2639490310851944,-0.516687512771716,2.305904708755523,-1.3952138991015384,0.630778993152211],\"yaxis\":\"y12\",\"type\":\"scatter\"},{\"line\":{\"color\":\"rgba(128, 128, 128, 1.0)\",\"dash\":\"solid\",\"shape\":\"linear\",\"width\":1.3},\"marker\":{\"size\":2,\"symbol\":\"circle\"},\"mode\":\"markers\",\"name\":\"D\",\"text\":\"\",\"x\":[3.3625825147031634,-0.6885621495157169,0.5149951992086972,-0.4976600607971672,1.3129178129369143,1.259037760305938,-0.8205591484786454,-0.2888956899883146,-0.09602816876888236,-0.9613950050487399,0.19756992435357082,-2.010039225046455,-0.7479232977395808,1.947999686378811,-1.300068284850122,0.8562782186572203,-0.8554492701360895,-0.4206993361270417,0.17322463597602866,-0.47160211461434376,0.565677357194077,-0.6594632474857488,1.7551221205900165,0.7357358194208311,-1.1591709602449005,-0.05419091582379508,-0.36257185525324137,1.4349669783777106,-0.5661528981377684,-0.407032366454418,0.22755126025017564,0.8257857482311864,0.27076051378642957,-0.46987215853669007,-0.6260892978035598,-0.14422154840098403,0.06729047029481175,-0.7538901577971123,-0.16372387540641004,-1.5306935620588862,1.7378715409320646,1.8728785308476077,-0.22596064971310095,0.19265357626344148,1.3095974819986245,-0.8467226757105627,-0.47588441755457705,0.8436192849298026,-1.0696497054771597,-0.29246972729030885,-0.5072696949324063,-1.804060391633852,0.41463973873286825,-0.06065342496772562,-1.2132110689335833,-0.1869364025887339,0.7239663414003534,-0.03198459252341648,0.9917197143234533,0.4124466650325076,-0.6198057419680839,-0.27086068891135073,-1.6085151157707147,-0.5886897832373408,-2.03889655784642,-0.08269100136583725,-0.2998182776646363,0.7537301596831394,-0.5572938977691413,0.2816574459013314,0.12511549492515286,-1.1520414977821023,-1.6077418183548926,0.12518543876338792,-0.17240992239466557,-0.29687603356526354,-0.538488421711546,1.011892155339132,0.5242967165890116,0.37788940477311916,1.3818585203086495,1.3322459158616347,1.3491805785283302,0.260837473417611,0.9770174853395498,-0.417469144514007,0.2532052106744681,-1.418974713556114,-1.304961959687015,-0.7850198786305627,-2.637960154783843,-0.702041364600879,0.2929621979386714,-0.31570510433110843,-0.2629023198827632,0.19022263715975085,0.6217882134487541,-0.2991271853655061,1.0088878670316135,-1.6952584120476268],\"xaxis\":\"x13\",\"y\":[-0.2610754490700943,-0.31274259932016485,-0.05195486783740825,-0.6363720505501187,0.26403720932684455,-0.670878971050256,0.35306264868315396,-1.4766036084490375,-1.0570360760952613,-0.5716289462859565,0.5996025660857952,0.6669472548117814,-0.20190710037508552,0.6591484959562992,0.3007018794461643,-2.3269309002298684,-0.45564726513007425,0.31412461514473483,1.5775316971860345,-0.20816830651970206,1.0992586180529906,1.2482324665607225,0.5963441305128984,0.6759383135148479,-0.31391325666451225,1.20331051531392,-1.1189113149477334,0.04340009025224424,-0.5873078097584103,-1.7395764773201399,1.7318829844673942,-1.8582286156354608,0.2102896767181078,0.036038219215623425,1.7315528329827625,-0.23751896821776966,-1.2619041772231365,-0.4209939529770629,0.6444023091948922,-0.12611657156977105,-0.8679107790133433,-1.2941016753923553,0.14594471207322482,-1.0981622210575677,-0.08624722509148783,-0.5531726942858656,1.3258006005289427,-0.5239864957809007,0.09995128771691131,2.10208730930389,-0.6752478145794528,-0.3840445714707245,-0.1372520446980467,0.3886173501207647,1.2332964234722699,1.4381637163220384,-0.25764043429119016,-0.9842129074651307,-0.13624389171313364,-1.2929703628833762,-0.21066150761967375,-1.0517433412117014,0.12062324844287063,1.2927129194575222,-0.7835829494349476,-0.7570704661624947,-1.161275272484911,-0.6580589800179951,0.4574163292136516,0.9282633619209005,1.2361508560233534,1.6358461396414072,-0.3275027468944334,0.4715100581108882,0.1900867796549248,0.9503595438312736,0.2846599033154163,0.7838010808747881,-0.6215426494588088,-2.5585283098605864,2.792906821685706,-0.21163724717237037,-0.799844955740187,-0.12841497548761696,1.643525322798787,0.6669179707736347,-2.071559206824266,0.8811338533173473,-2.0193879616140107,-1.9139249417279494,0.9818762536192873,-0.14457914752721937,-0.1019202571490361,-0.10167892581764211,1.2887099889784408,0.7911773663583078,-1.0221485430858486,-0.47387097215670204,-0.20350765600332388,-0.13150023481557147],\"yaxis\":\"y13\",\"type\":\"scatter\"},{\"line\":{\"color\":\"rgba(128, 128, 128, 1.0)\",\"dash\":\"solid\",\"shape\":\"linear\",\"width\":1.3},\"marker\":{\"size\":2,\"symbol\":\"circle\"},\"mode\":\"markers\",\"name\":\"D\",\"text\":\"\",\"x\":[-0.09869980248667033,2.03726652741454,1.4394828771486599,1.8697131285068431,-0.5548997790378658,-0.6217206439491961,-0.689074198736593,-0.06741428706327046,1.7098599778074983,-0.4176920959973648,2.168907375948452,-0.4880158437300923,0.27498240917764155,0.08170163057623107,-0.03384861897299663,1.647092749347639,0.15860105398020632,0.059442598251813514,-0.5762077458563473,1.4150104934559853,-0.5749855002518763,-0.546415696315059,-1.5240091166445844,-0.9241042955106828,-1.9699502760010996,-0.6245600967739037,0.46518656287393384,-0.5218551564845291,0.2791729390951336,0.38578951337570555,0.39588598472909636,-0.7255379856229528,-0.56042666640254,-0.6027380454238817,0.06544925823079883,0.0977013071597415,0.2884822951944402,0.01713950529145413,-0.6866144000900855,-0.7898794564866739,0.10855608206827938,-0.22219683727590325,0.8283900308964371,-0.22510174689080045,0.08635559723721953,0.5335960581183034,0.37052671554643235,-0.570615537939435,0.2934992940562579,0.35328262839809565,-0.504249051160435,-1.9841088941570533,0.16468981598788138,-0.457678976262291,-0.4458065995793777,-0.6009038322071909,1.081394434790141,-0.32228195363254253,-0.2734324040026059,-0.11560060379954049,-1.145759112427046,-0.11539531430117402,0.32766295593105765,-0.373990881876142,-1.8553040836366972,0.41643076492351705,0.8492089009344047,-0.7965102060113378,2.036714812577297,0.21979935049899096,-1.1294971239943814,0.15636794398823822,0.19528867658492846,-0.664078836346772,0.29684278242568446,-0.8367625226528052,0.7616986595793469,1.855823984151398,-1.133439152106387,-0.8195629205557495,-0.46718347774595076,0.9486061350544259,-0.07737115781296872,-0.42174556204453584,1.6477605761097094,0.382673801536673,1.0452339650064126,-1.2834000440096809,0.8211643104999973,2.0187466797608917,0.03507192302206712,-1.290810831468579,0.7469538642891566,-0.7722379464065471,-0.7828371849281098,-0.7157909433349646,1.0350233315650033,0.34197577939435325,-0.20965832848228794,0.33295144312351205],\"xaxis\":\"x14\",\"y\":[-0.2610754490700943,-0.31274259932016485,-0.05195486783740825,-0.6363720505501187,0.26403720932684455,-0.670878971050256,0.35306264868315396,-1.4766036084490375,-1.0570360760952613,-0.5716289462859565,0.5996025660857952,0.6669472548117814,-0.20190710037508552,0.6591484959562992,0.3007018794461643,-2.3269309002298684,-0.45564726513007425,0.31412461514473483,1.5775316971860345,-0.20816830651970206,1.0992586180529906,1.2482324665607225,0.5963441305128984,0.6759383135148479,-0.31391325666451225,1.20331051531392,-1.1189113149477334,0.04340009025224424,-0.5873078097584103,-1.7395764773201399,1.7318829844673942,-1.8582286156354608,0.2102896767181078,0.036038219215623425,1.7315528329827625,-0.23751896821776966,-1.2619041772231365,-0.4209939529770629,0.6444023091948922,-0.12611657156977105,-0.8679107790133433,-1.2941016753923553,0.14594471207322482,-1.0981622210575677,-0.08624722509148783,-0.5531726942858656,1.3258006005289427,-0.5239864957809007,0.09995128771691131,2.10208730930389,-0.6752478145794528,-0.3840445714707245,-0.1372520446980467,0.3886173501207647,1.2332964234722699,1.4381637163220384,-0.25764043429119016,-0.9842129074651307,-0.13624389171313364,-1.2929703628833762,-0.21066150761967375,-1.0517433412117014,0.12062324844287063,1.2927129194575222,-0.7835829494349476,-0.7570704661624947,-1.161275272484911,-0.6580589800179951,0.4574163292136516,0.9282633619209005,1.2361508560233534,1.6358461396414072,-0.3275027468944334,0.4715100581108882,0.1900867796549248,0.9503595438312736,0.2846599033154163,0.7838010808747881,-0.6215426494588088,-2.5585283098605864,2.792906821685706,-0.21163724717237037,-0.799844955740187,-0.12841497548761696,1.643525322798787,0.6669179707736347,-2.071559206824266,0.8811338533173473,-2.0193879616140107,-1.9139249417279494,0.9818762536192873,-0.14457914752721937,-0.1019202571490361,-0.10167892581764211,1.2887099889784408,0.7911773663583078,-1.0221485430858486,-0.47387097215670204,-0.20350765600332388,-0.13150023481557147],\"yaxis\":\"y14\",\"type\":\"scatter\"},{\"line\":{\"color\":\"rgba(128, 128, 128, 1.0)\",\"dash\":\"solid\",\"shape\":\"linear\",\"width\":1.3},\"marker\":{\"size\":2,\"symbol\":\"circle\"},\"mode\":\"markers\",\"name\":\"D\",\"text\":\"\",\"x\":[-0.03871432534083431,0.8115707952131627,-0.17665423819459455,1.3466930613339523,-0.7096242874361512,0.5827954368056582,0.46518279753224095,-1.5660683477890591,-0.33199610826936693,-0.4744363313695482,1.4711440122729522,-0.003955344986920965,0.0562545380152191,0.15362277115179548,-0.36353528708391786,-0.012124866275137487,-0.20009491093416557,0.9614757069810966,0.7697978672912913,-0.23742915591891228,0.9725222749061871,0.41582536826645344,-1.0625242653194664,-0.7900579467789591,-0.6818934981943373,-0.13917048218982198,-0.3541996772670713,-0.8213352921077302,-0.07126063095007504,-0.26033422049286276,-0.5289646963018059,-0.43873497104461107,-0.45044738503422543,0.7478128184341659,0.6641194392583254,-0.979094314437018,-1.119399923453585,-1.5594785503686877,0.7599857788414909,-1.9097517568392404,-1.9468678465506883,0.5218375682681676,-1.0396394039937231,1.1276287199659947,-1.184342666394064,0.022131779564743076,-0.3201532437258341,-0.19702044383341424,-0.3758894766712151,0.05237384319038519,1.5172743804134299,2.4247879322619643,-0.9755230759676465,1.012608550719346,-1.290639386572514,-0.17154180805176894,0.7087889536846921,0.16864636263787605,-0.1312296598447758,0.7305408215857765,-1.3689031206003062,0.22090233284189276,1.3597780697136148,0.9944818070429114,0.6964499854986963,0.6745445328562419,-0.6662469380254723,-1.0174720887610438,0.2300492223012016,-0.036954874906627216,-0.726688304201755,-1.0211999418778872,1.0250471207567862,0.21183444445887054,0.37261079372522277,0.5822324112944044,-0.22929439516700795,0.2480386641167231,0.5643644796350337,0.9750637011146529,-0.18448805836167542,1.0717767289630435,2.0980105239450886,0.38372361927407656,-0.004206138482686182,-0.13370915390265514,0.16589187268661165,0.47628847080812187,0.704925336787344,0.12372473894611717,0.15210545578859208,-0.9406035775255597,-0.226907080030317,0.2499324277887329,-1.5170304489877942,1.2639490310851944,-0.516687512771716,2.305904708755523,-1.3952138991015384,0.630778993152211],\"xaxis\":\"x15\",\"y\":[-0.2610754490700943,-0.31274259932016485,-0.05195486783740825,-0.6363720505501187,0.26403720932684455,-0.670878971050256,0.35306264868315396,-1.4766036084490375,-1.0570360760952613,-0.5716289462859565,0.5996025660857952,0.6669472548117814,-0.20190710037508552,0.6591484959562992,0.3007018794461643,-2.3269309002298684,-0.45564726513007425,0.31412461514473483,1.5775316971860345,-0.20816830651970206,1.0992586180529906,1.2482324665607225,0.5963441305128984,0.6759383135148479,-0.31391325666451225,1.20331051531392,-1.1189113149477334,0.04340009025224424,-0.5873078097584103,-1.7395764773201399,1.7318829844673942,-1.8582286156354608,0.2102896767181078,0.036038219215623425,1.7315528329827625,-0.23751896821776966,-1.2619041772231365,-0.4209939529770629,0.6444023091948922,-0.12611657156977105,-0.8679107790133433,-1.2941016753923553,0.14594471207322482,-1.0981622210575677,-0.08624722509148783,-0.5531726942858656,1.3258006005289427,-0.5239864957809007,0.09995128771691131,2.10208730930389,-0.6752478145794528,-0.3840445714707245,-0.1372520446980467,0.3886173501207647,1.2332964234722699,1.4381637163220384,-0.25764043429119016,-0.9842129074651307,-0.13624389171313364,-1.2929703628833762,-0.21066150761967375,-1.0517433412117014,0.12062324844287063,1.2927129194575222,-0.7835829494349476,-0.7570704661624947,-1.161275272484911,-0.6580589800179951,0.4574163292136516,0.9282633619209005,1.2361508560233534,1.6358461396414072,-0.3275027468944334,0.4715100581108882,0.1900867796549248,0.9503595438312736,0.2846599033154163,0.7838010808747881,-0.6215426494588088,-2.5585283098605864,2.792906821685706,-0.21163724717237037,-0.799844955740187,-0.12841497548761696,1.643525322798787,0.6669179707736347,-2.071559206824266,0.8811338533173473,-2.0193879616140107,-1.9139249417279494,0.9818762536192873,-0.14457914752721937,-0.1019202571490361,-0.10167892581764211,1.2887099889784408,0.7911773663583078,-1.0221485430858486,-0.47387097215670204,-0.20350765600332388,-0.13150023481557147],\"yaxis\":\"y15\",\"type\":\"scatter\"},{\"histfunc\":\"count\",\"histnorm\":\"\",\"marker\":{\"color\":\"rgba(128, 0, 128, 1.0)\",\"line\":{\"color\":\"#4D5663\",\"width\":1.3}},\"name\":\"D\",\"nbinsx\":10,\"opacity\":0.8,\"orientation\":\"v\",\"x\":[-0.2610754490700943,-0.31274259932016485,-0.05195486783740825,-0.6363720505501187,0.26403720932684455,-0.670878971050256,0.35306264868315396,-1.4766036084490375,-1.0570360760952613,-0.5716289462859565,0.5996025660857952,0.6669472548117814,-0.20190710037508552,0.6591484959562992,0.3007018794461643,-2.3269309002298684,-0.45564726513007425,0.31412461514473483,1.5775316971860345,-0.20816830651970206,1.0992586180529906,1.2482324665607225,0.5963441305128984,0.6759383135148479,-0.31391325666451225,1.20331051531392,-1.1189113149477334,0.04340009025224424,-0.5873078097584103,-1.7395764773201399,1.7318829844673942,-1.8582286156354608,0.2102896767181078,0.036038219215623425,1.7315528329827625,-0.23751896821776966,-1.2619041772231365,-0.4209939529770629,0.6444023091948922,-0.12611657156977105,-0.8679107790133433,-1.2941016753923553,0.14594471207322482,-1.0981622210575677,-0.08624722509148783,-0.5531726942858656,1.3258006005289427,-0.5239864957809007,0.09995128771691131,2.10208730930389,-0.6752478145794528,-0.3840445714707245,-0.1372520446980467,0.3886173501207647,1.2332964234722699,1.4381637163220384,-0.25764043429119016,-0.9842129074651307,-0.13624389171313364,-1.2929703628833762,-0.21066150761967375,-1.0517433412117014,0.12062324844287063,1.2927129194575222,-0.7835829494349476,-0.7570704661624947,-1.161275272484911,-0.6580589800179951,0.4574163292136516,0.9282633619209005,1.2361508560233534,1.6358461396414072,-0.3275027468944334,0.4715100581108882,0.1900867796549248,0.9503595438312736,0.2846599033154163,0.7838010808747881,-0.6215426494588088,-2.5585283098605864,2.792906821685706,-0.21163724717237037,-0.799844955740187,-0.12841497548761696,1.643525322798787,0.6669179707736347,-2.071559206824266,0.8811338533173473,-2.0193879616140107,-1.9139249417279494,0.9818762536192873,-0.14457914752721937,-0.1019202571490361,-0.10167892581764211,1.2887099889784408,0.7911773663583078,-1.0221485430858486,-0.47387097215670204,-0.20350765600332388,-0.13150023481557147],\"xaxis\":\"x16\",\"yaxis\":\"y16\",\"type\":\"histogram\"}],                        {\"bargap\":0.02,\"legend\":{\"bgcolor\":\"#F5F6F9\",\"font\":{\"color\":\"#4D5663\"}},\"paper_bgcolor\":\"#F5F6F9\",\"plot_bgcolor\":\"#F5F6F9\",\"showlegend\":false,\"template\":{\"data\":{\"barpolar\":[{\"marker\":{\"line\":{\"color\":\"#E5ECF6\",\"width\":0.5},\"pattern\":{\"fillmode\":\"overlay\",\"size\":10,\"solidity\":0.2}},\"type\":\"barpolar\"}],\"bar\":[{\"error_x\":{\"color\":\"#2a3f5f\"},\"error_y\":{\"color\":\"#2a3f5f\"},\"marker\":{\"line\":{\"color\":\"#E5ECF6\",\"width\":0.5},\"pattern\":{\"fillmode\":\"overlay\",\"size\":10,\"solidity\":0.2}},\"type\":\"bar\"}],\"carpet\":[{\"aaxis\":{\"endlinecolor\":\"#2a3f5f\",\"gridcolor\":\"white\",\"linecolor\":\"white\",\"minorgridcolor\":\"white\",\"startlinecolor\":\"#2a3f5f\"},\"baxis\":{\"endlinecolor\":\"#2a3f5f\",\"gridcolor\":\"white\",\"linecolor\":\"white\",\"minorgridcolor\":\"white\",\"startlinecolor\":\"#2a3f5f\"},\"type\":\"carpet\"}],\"choropleth\":[{\"colorbar\":{\"outlinewidth\":0,\"ticks\":\"\"},\"type\":\"choropleth\"}],\"contourcarpet\":[{\"colorbar\":{\"outlinewidth\":0,\"ticks\":\"\"},\"type\":\"contourcarpet\"}],\"contour\":[{\"colorbar\":{\"outlinewidth\":0,\"ticks\":\"\"},\"colorscale\":[[0.0,\"#0d0887\"],[0.1111111111111111,\"#46039f\"],[0.2222222222222222,\"#7201a8\"],[0.3333333333333333,\"#9c179e\"],[0.4444444444444444,\"#bd3786\"],[0.5555555555555556,\"#d8576b\"],[0.6666666666666666,\"#ed7953\"],[0.7777777777777778,\"#fb9f3a\"],[0.8888888888888888,\"#fdca26\"],[1.0,\"#f0f921\"]],\"type\":\"contour\"}],\"heatmapgl\":[{\"colorbar\":{\"outlinewidth\":0,\"ticks\":\"\"},\"colorscale\":[[0.0,\"#0d0887\"],[0.1111111111111111,\"#46039f\"],[0.2222222222222222,\"#7201a8\"],[0.3333333333333333,\"#9c179e\"],[0.4444444444444444,\"#bd3786\"],[0.5555555555555556,\"#d8576b\"],[0.6666666666666666,\"#ed7953\"],[0.7777777777777778,\"#fb9f3a\"],[0.8888888888888888,\"#fdca26\"],[1.0,\"#f0f921\"]],\"type\":\"heatmapgl\"}],\"heatmap\":[{\"colorbar\":{\"outlinewidth\":0,\"ticks\":\"\"},\"colorscale\":[[0.0,\"#0d0887\"],[0.1111111111111111,\"#46039f\"],[0.2222222222222222,\"#7201a8\"],[0.3333333333333333,\"#9c179e\"],[0.4444444444444444,\"#bd3786\"],[0.5555555555555556,\"#d8576b\"],[0.6666666666666666,\"#ed7953\"],[0.7777777777777778,\"#fb9f3a\"],[0.8888888888888888,\"#fdca26\"],[1.0,\"#f0f921\"]],\"type\":\"heatmap\"}],\"histogram2dcontour\":[{\"colorbar\":{\"outlinewidth\":0,\"ticks\":\"\"},\"colorscale\":[[0.0,\"#0d0887\"],[0.1111111111111111,\"#46039f\"],[0.2222222222222222,\"#7201a8\"],[0.3333333333333333,\"#9c179e\"],[0.4444444444444444,\"#bd3786\"],[0.5555555555555556,\"#d8576b\"],[0.6666666666666666,\"#ed7953\"],[0.7777777777777778,\"#fb9f3a\"],[0.8888888888888888,\"#fdca26\"],[1.0,\"#f0f921\"]],\"type\":\"histogram2dcontour\"}],\"histogram2d\":[{\"colorbar\":{\"outlinewidth\":0,\"ticks\":\"\"},\"colorscale\":[[0.0,\"#0d0887\"],[0.1111111111111111,\"#46039f\"],[0.2222222222222222,\"#7201a8\"],[0.3333333333333333,\"#9c179e\"],[0.4444444444444444,\"#bd3786\"],[0.5555555555555556,\"#d8576b\"],[0.6666666666666666,\"#ed7953\"],[0.7777777777777778,\"#fb9f3a\"],[0.8888888888888888,\"#fdca26\"],[1.0,\"#f0f921\"]],\"type\":\"histogram2d\"}],\"histogram\":[{\"marker\":{\"pattern\":{\"fillmode\":\"overlay\",\"size\":10,\"solidity\":0.2}},\"type\":\"histogram\"}],\"mesh3d\":[{\"colorbar\":{\"outlinewidth\":0,\"ticks\":\"\"},\"type\":\"mesh3d\"}],\"parcoords\":[{\"line\":{\"colorbar\":{\"outlinewidth\":0,\"ticks\":\"\"}},\"type\":\"parcoords\"}],\"pie\":[{\"automargin\":true,\"type\":\"pie\"}],\"scatter3d\":[{\"line\":{\"colorbar\":{\"outlinewidth\":0,\"ticks\":\"\"}},\"marker\":{\"colorbar\":{\"outlinewidth\":0,\"ticks\":\"\"}},\"type\":\"scatter3d\"}],\"scattercarpet\":[{\"marker\":{\"colorbar\":{\"outlinewidth\":0,\"ticks\":\"\"}},\"type\":\"scattercarpet\"}],\"scattergeo\":[{\"marker\":{\"colorbar\":{\"outlinewidth\":0,\"ticks\":\"\"}},\"type\":\"scattergeo\"}],\"scattergl\":[{\"marker\":{\"colorbar\":{\"outlinewidth\":0,\"ticks\":\"\"}},\"type\":\"scattergl\"}],\"scattermapbox\":[{\"marker\":{\"colorbar\":{\"outlinewidth\":0,\"ticks\":\"\"}},\"type\":\"scattermapbox\"}],\"scatterpolargl\":[{\"marker\":{\"colorbar\":{\"outlinewidth\":0,\"ticks\":\"\"}},\"type\":\"scatterpolargl\"}],\"scatterpolar\":[{\"marker\":{\"colorbar\":{\"outlinewidth\":0,\"ticks\":\"\"}},\"type\":\"scatterpolar\"}],\"scatter\":[{\"marker\":{\"colorbar\":{\"outlinewidth\":0,\"ticks\":\"\"}},\"type\":\"scatter\"}],\"scatterternary\":[{\"marker\":{\"colorbar\":{\"outlinewidth\":0,\"ticks\":\"\"}},\"type\":\"scatterternary\"}],\"surface\":[{\"colorbar\":{\"outlinewidth\":0,\"ticks\":\"\"},\"colorscale\":[[0.0,\"#0d0887\"],[0.1111111111111111,\"#46039f\"],[0.2222222222222222,\"#7201a8\"],[0.3333333333333333,\"#9c179e\"],[0.4444444444444444,\"#bd3786\"],[0.5555555555555556,\"#d8576b\"],[0.6666666666666666,\"#ed7953\"],[0.7777777777777778,\"#fb9f3a\"],[0.8888888888888888,\"#fdca26\"],[1.0,\"#f0f921\"]],\"type\":\"surface\"}],\"table\":[{\"cells\":{\"fill\":{\"color\":\"#EBF0F8\"},\"line\":{\"color\":\"white\"}},\"header\":{\"fill\":{\"color\":\"#C8D4E3\"},\"line\":{\"color\":\"white\"}},\"type\":\"table\"}]},\"layout\":{\"annotationdefaults\":{\"arrowcolor\":\"#2a3f5f\",\"arrowhead\":0,\"arrowwidth\":1},\"autotypenumbers\":\"strict\",\"coloraxis\":{\"colorbar\":{\"outlinewidth\":0,\"ticks\":\"\"}},\"colorscale\":{\"diverging\":[[0,\"#8e0152\"],[0.1,\"#c51b7d\"],[0.2,\"#de77ae\"],[0.3,\"#f1b6da\"],[0.4,\"#fde0ef\"],[0.5,\"#f7f7f7\"],[0.6,\"#e6f5d0\"],[0.7,\"#b8e186\"],[0.8,\"#7fbc41\"],[0.9,\"#4d9221\"],[1,\"#276419\"]],\"sequential\":[[0.0,\"#0d0887\"],[0.1111111111111111,\"#46039f\"],[0.2222222222222222,\"#7201a8\"],[0.3333333333333333,\"#9c179e\"],[0.4444444444444444,\"#bd3786\"],[0.5555555555555556,\"#d8576b\"],[0.6666666666666666,\"#ed7953\"],[0.7777777777777778,\"#fb9f3a\"],[0.8888888888888888,\"#fdca26\"],[1.0,\"#f0f921\"]],\"sequentialminus\":[[0.0,\"#0d0887\"],[0.1111111111111111,\"#46039f\"],[0.2222222222222222,\"#7201a8\"],[0.3333333333333333,\"#9c179e\"],[0.4444444444444444,\"#bd3786\"],[0.5555555555555556,\"#d8576b\"],[0.6666666666666666,\"#ed7953\"],[0.7777777777777778,\"#fb9f3a\"],[0.8888888888888888,\"#fdca26\"],[1.0,\"#f0f921\"]]},\"colorway\":[\"#636efa\",\"#EF553B\",\"#00cc96\",\"#ab63fa\",\"#FFA15A\",\"#19d3f3\",\"#FF6692\",\"#B6E880\",\"#FF97FF\",\"#FECB52\"],\"font\":{\"color\":\"#2a3f5f\"},\"geo\":{\"bgcolor\":\"white\",\"lakecolor\":\"white\",\"landcolor\":\"#E5ECF6\",\"showlakes\":true,\"showland\":true,\"subunitcolor\":\"white\"},\"hoverlabel\":{\"align\":\"left\"},\"hovermode\":\"closest\",\"mapbox\":{\"style\":\"light\"},\"paper_bgcolor\":\"white\",\"plot_bgcolor\":\"#E5ECF6\",\"polar\":{\"angularaxis\":{\"gridcolor\":\"white\",\"linecolor\":\"white\",\"ticks\":\"\"},\"bgcolor\":\"#E5ECF6\",\"radialaxis\":{\"gridcolor\":\"white\",\"linecolor\":\"white\",\"ticks\":\"\"}},\"scene\":{\"xaxis\":{\"backgroundcolor\":\"#E5ECF6\",\"gridcolor\":\"white\",\"gridwidth\":2,\"linecolor\":\"white\",\"showbackground\":true,\"ticks\":\"\",\"zerolinecolor\":\"white\"},\"yaxis\":{\"backgroundcolor\":\"#E5ECF6\",\"gridcolor\":\"white\",\"gridwidth\":2,\"linecolor\":\"white\",\"showbackground\":true,\"ticks\":\"\",\"zerolinecolor\":\"white\"},\"zaxis\":{\"backgroundcolor\":\"#E5ECF6\",\"gridcolor\":\"white\",\"gridwidth\":2,\"linecolor\":\"white\",\"showbackground\":true,\"ticks\":\"\",\"zerolinecolor\":\"white\"}},\"shapedefaults\":{\"line\":{\"color\":\"#2a3f5f\"}},\"ternary\":{\"aaxis\":{\"gridcolor\":\"white\",\"linecolor\":\"white\",\"ticks\":\"\"},\"baxis\":{\"gridcolor\":\"white\",\"linecolor\":\"white\",\"ticks\":\"\"},\"bgcolor\":\"#E5ECF6\",\"caxis\":{\"gridcolor\":\"white\",\"linecolor\":\"white\",\"ticks\":\"\"}},\"title\":{\"x\":0.05},\"xaxis\":{\"automargin\":true,\"gridcolor\":\"white\",\"linecolor\":\"white\",\"ticks\":\"\",\"title\":{\"standoff\":15},\"zerolinecolor\":\"white\",\"zerolinewidth\":2},\"yaxis\":{\"automargin\":true,\"gridcolor\":\"white\",\"linecolor\":\"white\",\"ticks\":\"\",\"title\":{\"standoff\":15},\"zerolinecolor\":\"white\",\"zerolinewidth\":2}}},\"title\":{\"font\":{\"color\":\"#4D5663\"}},\"xaxis\":{\"anchor\":\"y\",\"domain\":[0.0,0.2125],\"gridcolor\":\"#E1E5ED\",\"showgrid\":false,\"tickfont\":{\"color\":\"#4D5663\"},\"title\":{\"font\":{\"color\":\"#4D5663\"},\"text\":\"\"},\"zerolinecolor\":\"#E1E5ED\"},\"yaxis\":{\"anchor\":\"x\",\"domain\":[0.8025,1.0],\"gridcolor\":\"#E1E5ED\",\"showgrid\":false,\"tickfont\":{\"color\":\"#4D5663\"},\"title\":{\"font\":{\"color\":\"#4D5663\"},\"text\":\"\"},\"zerolinecolor\":\"#E1E5ED\"},\"xaxis2\":{\"anchor\":\"y2\",\"domain\":[0.2625,0.475],\"gridcolor\":\"#E1E5ED\",\"showgrid\":false,\"tickfont\":{\"color\":\"#4D5663\"},\"title\":{\"font\":{\"color\":\"#4D5663\"},\"text\":\"\"},\"zerolinecolor\":\"#E1E5ED\"},\"yaxis2\":{\"anchor\":\"x2\",\"domain\":[0.8025,1.0],\"gridcolor\":\"#E1E5ED\",\"showgrid\":false,\"tickfont\":{\"color\":\"#4D5663\"},\"title\":{\"font\":{\"color\":\"#4D5663\"},\"text\":\"\"},\"zerolinecolor\":\"#E1E5ED\"},\"xaxis3\":{\"anchor\":\"y3\",\"domain\":[0.525,0.7375],\"gridcolor\":\"#E1E5ED\",\"showgrid\":false,\"tickfont\":{\"color\":\"#4D5663\"},\"title\":{\"font\":{\"color\":\"#4D5663\"},\"text\":\"\"},\"zerolinecolor\":\"#E1E5ED\"},\"yaxis3\":{\"anchor\":\"x3\",\"domain\":[0.8025,1.0],\"gridcolor\":\"#E1E5ED\",\"showgrid\":false,\"tickfont\":{\"color\":\"#4D5663\"},\"title\":{\"font\":{\"color\":\"#4D5663\"},\"text\":\"\"},\"zerolinecolor\":\"#E1E5ED\"},\"xaxis4\":{\"anchor\":\"y4\",\"domain\":[0.7875,1.0],\"gridcolor\":\"#E1E5ED\",\"showgrid\":false,\"tickfont\":{\"color\":\"#4D5663\"},\"title\":{\"font\":{\"color\":\"#4D5663\"},\"text\":\"\"},\"zerolinecolor\":\"#E1E5ED\"},\"yaxis4\":{\"anchor\":\"x4\",\"domain\":[0.8025,1.0],\"gridcolor\":\"#E1E5ED\",\"showgrid\":false,\"tickfont\":{\"color\":\"#4D5663\"},\"title\":{\"font\":{\"color\":\"#4D5663\"},\"text\":\"\"},\"zerolinecolor\":\"#E1E5ED\"},\"xaxis5\":{\"anchor\":\"y5\",\"domain\":[0.0,0.2125],\"gridcolor\":\"#E1E5ED\",\"showgrid\":false,\"tickfont\":{\"color\":\"#4D5663\"},\"title\":{\"font\":{\"color\":\"#4D5663\"},\"text\":\"\"},\"zerolinecolor\":\"#E1E5ED\"},\"yaxis5\":{\"anchor\":\"x5\",\"domain\":[0.535,0.7325],\"gridcolor\":\"#E1E5ED\",\"showgrid\":false,\"tickfont\":{\"color\":\"#4D5663\"},\"title\":{\"font\":{\"color\":\"#4D5663\"},\"text\":\"\"},\"zerolinecolor\":\"#E1E5ED\"},\"xaxis6\":{\"anchor\":\"y6\",\"domain\":[0.2625,0.475],\"gridcolor\":\"#E1E5ED\",\"showgrid\":false,\"tickfont\":{\"color\":\"#4D5663\"},\"title\":{\"font\":{\"color\":\"#4D5663\"},\"text\":\"\"},\"zerolinecolor\":\"#E1E5ED\"},\"yaxis6\":{\"anchor\":\"x6\",\"domain\":[0.535,0.7325],\"gridcolor\":\"#E1E5ED\",\"showgrid\":false,\"tickfont\":{\"color\":\"#4D5663\"},\"title\":{\"font\":{\"color\":\"#4D5663\"},\"text\":\"\"},\"zerolinecolor\":\"#E1E5ED\"},\"xaxis7\":{\"anchor\":\"y7\",\"domain\":[0.525,0.7375],\"gridcolor\":\"#E1E5ED\",\"showgrid\":false,\"tickfont\":{\"color\":\"#4D5663\"},\"title\":{\"font\":{\"color\":\"#4D5663\"},\"text\":\"\"},\"zerolinecolor\":\"#E1E5ED\"},\"yaxis7\":{\"anchor\":\"x7\",\"domain\":[0.535,0.7325],\"gridcolor\":\"#E1E5ED\",\"showgrid\":false,\"tickfont\":{\"color\":\"#4D5663\"},\"title\":{\"font\":{\"color\":\"#4D5663\"},\"text\":\"\"},\"zerolinecolor\":\"#E1E5ED\"},\"xaxis8\":{\"anchor\":\"y8\",\"domain\":[0.7875,1.0],\"gridcolor\":\"#E1E5ED\",\"showgrid\":false,\"tickfont\":{\"color\":\"#4D5663\"},\"title\":{\"font\":{\"color\":\"#4D5663\"},\"text\":\"\"},\"zerolinecolor\":\"#E1E5ED\"},\"yaxis8\":{\"anchor\":\"x8\",\"domain\":[0.535,0.7325],\"gridcolor\":\"#E1E5ED\",\"showgrid\":false,\"tickfont\":{\"color\":\"#4D5663\"},\"title\":{\"font\":{\"color\":\"#4D5663\"},\"text\":\"\"},\"zerolinecolor\":\"#E1E5ED\"},\"xaxis9\":{\"anchor\":\"y9\",\"domain\":[0.0,0.2125],\"gridcolor\":\"#E1E5ED\",\"showgrid\":false,\"tickfont\":{\"color\":\"#4D5663\"},\"title\":{\"font\":{\"color\":\"#4D5663\"},\"text\":\"\"},\"zerolinecolor\":\"#E1E5ED\"},\"yaxis9\":{\"anchor\":\"x9\",\"domain\":[0.2675,0.465],\"gridcolor\":\"#E1E5ED\",\"showgrid\":false,\"tickfont\":{\"color\":\"#4D5663\"},\"title\":{\"font\":{\"color\":\"#4D5663\"},\"text\":\"\"},\"zerolinecolor\":\"#E1E5ED\"},\"xaxis10\":{\"anchor\":\"y10\",\"domain\":[0.2625,0.475],\"gridcolor\":\"#E1E5ED\",\"showgrid\":false,\"tickfont\":{\"color\":\"#4D5663\"},\"title\":{\"font\":{\"color\":\"#4D5663\"},\"text\":\"\"},\"zerolinecolor\":\"#E1E5ED\"},\"yaxis10\":{\"anchor\":\"x10\",\"domain\":[0.2675,0.465],\"gridcolor\":\"#E1E5ED\",\"showgrid\":false,\"tickfont\":{\"color\":\"#4D5663\"},\"title\":{\"font\":{\"color\":\"#4D5663\"},\"text\":\"\"},\"zerolinecolor\":\"#E1E5ED\"},\"xaxis11\":{\"anchor\":\"y11\",\"domain\":[0.525,0.7375],\"gridcolor\":\"#E1E5ED\",\"showgrid\":false,\"tickfont\":{\"color\":\"#4D5663\"},\"title\":{\"font\":{\"color\":\"#4D5663\"},\"text\":\"\"},\"zerolinecolor\":\"#E1E5ED\"},\"yaxis11\":{\"anchor\":\"x11\",\"domain\":[0.2675,0.465],\"gridcolor\":\"#E1E5ED\",\"showgrid\":false,\"tickfont\":{\"color\":\"#4D5663\"},\"title\":{\"font\":{\"color\":\"#4D5663\"},\"text\":\"\"},\"zerolinecolor\":\"#E1E5ED\"},\"xaxis12\":{\"anchor\":\"y12\",\"domain\":[0.7875,1.0],\"gridcolor\":\"#E1E5ED\",\"showgrid\":false,\"tickfont\":{\"color\":\"#4D5663\"},\"title\":{\"font\":{\"color\":\"#4D5663\"},\"text\":\"\"},\"zerolinecolor\":\"#E1E5ED\"},\"yaxis12\":{\"anchor\":\"x12\",\"domain\":[0.2675,0.465],\"gridcolor\":\"#E1E5ED\",\"showgrid\":false,\"tickfont\":{\"color\":\"#4D5663\"},\"title\":{\"font\":{\"color\":\"#4D5663\"},\"text\":\"\"},\"zerolinecolor\":\"#E1E5ED\"},\"xaxis13\":{\"anchor\":\"y13\",\"domain\":[0.0,0.2125],\"gridcolor\":\"#E1E5ED\",\"showgrid\":false,\"tickfont\":{\"color\":\"#4D5663\"},\"title\":{\"font\":{\"color\":\"#4D5663\"},\"text\":\"\"},\"zerolinecolor\":\"#E1E5ED\"},\"yaxis13\":{\"anchor\":\"x13\",\"domain\":[0.0,0.1975],\"gridcolor\":\"#E1E5ED\",\"showgrid\":false,\"tickfont\":{\"color\":\"#4D5663\"},\"title\":{\"font\":{\"color\":\"#4D5663\"},\"text\":\"\"},\"zerolinecolor\":\"#E1E5ED\"},\"xaxis14\":{\"anchor\":\"y14\",\"domain\":[0.2625,0.475],\"gridcolor\":\"#E1E5ED\",\"showgrid\":false,\"tickfont\":{\"color\":\"#4D5663\"},\"title\":{\"font\":{\"color\":\"#4D5663\"},\"text\":\"\"},\"zerolinecolor\":\"#E1E5ED\"},\"yaxis14\":{\"anchor\":\"x14\",\"domain\":[0.0,0.1975],\"gridcolor\":\"#E1E5ED\",\"showgrid\":false,\"tickfont\":{\"color\":\"#4D5663\"},\"title\":{\"font\":{\"color\":\"#4D5663\"},\"text\":\"\"},\"zerolinecolor\":\"#E1E5ED\"},\"xaxis15\":{\"anchor\":\"y15\",\"domain\":[0.525,0.7375],\"gridcolor\":\"#E1E5ED\",\"showgrid\":false,\"tickfont\":{\"color\":\"#4D5663\"},\"title\":{\"font\":{\"color\":\"#4D5663\"},\"text\":\"\"},\"zerolinecolor\":\"#E1E5ED\"},\"yaxis15\":{\"anchor\":\"x15\",\"domain\":[0.0,0.1975],\"gridcolor\":\"#E1E5ED\",\"showgrid\":false,\"tickfont\":{\"color\":\"#4D5663\"},\"title\":{\"font\":{\"color\":\"#4D5663\"},\"text\":\"\"},\"zerolinecolor\":\"#E1E5ED\"},\"xaxis16\":{\"anchor\":\"y16\",\"domain\":[0.7875,1.0],\"gridcolor\":\"#E1E5ED\",\"showgrid\":false,\"tickfont\":{\"color\":\"#4D5663\"},\"title\":{\"font\":{\"color\":\"#4D5663\"},\"text\":\"\"},\"zerolinecolor\":\"#E1E5ED\"},\"yaxis16\":{\"anchor\":\"x16\",\"domain\":[0.0,0.1975],\"gridcolor\":\"#E1E5ED\",\"showgrid\":false,\"tickfont\":{\"color\":\"#4D5663\"},\"title\":{\"font\":{\"color\":\"#4D5663\"},\"text\":\"\"},\"zerolinecolor\":\"#E1E5ED\"}},                        {\"showLink\": true, \"linkText\": \"Export to plot.ly\", \"plotlyServerURL\": \"https://plot.ly\", \"responsive\": true}                    ).then(function(){\n",
       "                            \n",
       "var gd = document.getElementById('3f617e0c-0578-471e-850c-7a3403732c55');\n",
       "var x = new MutationObserver(function (mutations, observer) {{\n",
       "        var display = window.getComputedStyle(gd).display;\n",
       "        if (!display || display === 'none') {{\n",
       "            console.log([gd, 'removed!']);\n",
       "            Plotly.purge(gd);\n",
       "            observer.disconnect();\n",
       "        }}\n",
       "}});\n",
       "\n",
       "// Listen for the removal of the full notebook cells\n",
       "var notebookContainer = gd.closest('#notebook-container');\n",
       "if (notebookContainer) {{\n",
       "    x.observe(notebookContainer, {childList: true});\n",
       "}}\n",
       "\n",
       "// Listen for the clearing of the current output cell\n",
       "var outputEl = gd.closest('.output');\n",
       "if (outputEl) {{\n",
       "    x.observe(outputEl, {childList: true});\n",
       "}}\n",
       "\n",
       "                        })                };                });            </script>        </div>"
      ]
     },
     "metadata": {},
     "output_type": "display_data"
    }
   ],
   "source": [
    "df.scatter_matrix(theme='polar')"
   ]
  },
  {
   "cell_type": "markdown",
   "metadata": {},
   "source": [
    "# For more info and details about documentation :\n",
    "\n",
    "* [Cufflinks Github Page]([https://github.com/santosjorge/cufflinks](https://github.com/santosjorge/cufflinks))\n",
    "    * Check out Chart Gallery, Tutorials, Offline, Pandas Like and Plotly notebooks to find info on Area Plots, Scatter Plots and more.\n",
    "* There is ability to do technical analysis in CuffLinks which is still under beta. Check repo for more info. Don't get too intimidated by technical analysis if you don't want to get into financial analysis. Gives info about averages, correlation between plots and more."
   ]
  },
  {
   "cell_type": "markdown",
   "metadata": {},
   "source": [
    "**GREAT JOB :)**"
   ]
  }
 ],
 "metadata": {
  "kernelspec": {
   "display_name": "Python 3",
   "language": "python",
   "name": "python3"
  },
  "language_info": {
   "codemirror_mode": {
    "name": "ipython",
    "version": 3
   },
   "file_extension": ".py",
   "mimetype": "text/x-python",
   "name": "python",
   "nbconvert_exporter": "python",
   "pygments_lexer": "ipython3",
   "version": "3.8.1"
  },
  "toc": {
   "base_numbering": 1,
   "nav_menu": {},
   "number_sections": true,
   "sideBar": true,
   "skip_h1_title": false,
   "title_cell": "Table of Contents",
   "title_sidebar": "Contents",
   "toc_cell": false,
   "toc_position": {},
   "toc_section_display": true,
   "toc_window_display": false
  },
  "varInspector": {
   "cols": {
    "lenName": 16,
    "lenType": 16,
    "lenVar": 40
   },
   "kernels_config": {
    "python": {
     "delete_cmd_postfix": "",
     "delete_cmd_prefix": "del ",
     "library": "var_list.py",
     "varRefreshCmd": "print(var_dic_list())"
    },
    "r": {
     "delete_cmd_postfix": ") ",
     "delete_cmd_prefix": "rm(",
     "library": "var_list.r",
     "varRefreshCmd": "cat(var_dic_list()) "
    }
   },
   "types_to_exclude": [
    "module",
    "function",
    "builtin_function_or_method",
    "instance",
    "_Feature"
   ],
   "window_display": false
  }
 },
 "nbformat": 4,
 "nbformat_minor": 2
}

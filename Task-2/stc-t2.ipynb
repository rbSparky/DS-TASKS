{
 "cells": [
  {
   "cell_type": "code",
   "execution_count": 1,
   "id": "26410775",
   "metadata": {
    "_cell_guid": "b1076dfc-b9ad-4769-8c92-a6c4dae69d19",
    "_uuid": "8f2839f25d086af736a60e9eeb907d3b93b6e0e5",
    "execution": {
     "iopub.execute_input": "2022-02-16T15:35:11.876348Z",
     "iopub.status.busy": "2022-02-16T15:35:11.875135Z",
     "iopub.status.idle": "2022-02-16T15:35:11.891414Z",
     "shell.execute_reply": "2022-02-16T15:35:11.891973Z",
     "shell.execute_reply.started": "2022-02-16T15:34:42.376859Z"
    },
    "papermill": {
     "duration": 0.104467,
     "end_time": "2022-02-16T15:35:11.892315",
     "exception": false,
     "start_time": "2022-02-16T15:35:11.787848",
     "status": "completed"
    },
    "tags": []
   },
   "outputs": [
    {
     "name": "stdout",
     "output_type": "stream",
     "text": [
      "/kaggle/input/students-performance-in-exams/StudentsPerformance.csv\n"
     ]
    }
   ],
   "source": [
    "# This Python 3 environment comes with many helpful analytics libraries installed\n",
    "# It is defined by the kaggle/python Docker image: https://github.com/kaggle/docker-python\n",
    "# For example, here's several helpful packages to load\n",
    "\n",
    "import numpy as np # linear algebra\n",
    "import pandas as pd # data processing, CSV file I/O (e.g. pd.read_csv)\n",
    "\n",
    "# Input data files are available in the read-only \"../input/\" directory\n",
    "# For example, running this (by clicking run or pressing Shift+Enter) will list all files under the input directory\n",
    "\n",
    "import os\n",
    "for dirname, _, filenames in os.walk('/kaggle/input'):\n",
    "    for filename in filenames:\n",
    "        print(os.path.join(dirname, filename))\n",
    "\n",
    "# You can write up to 20GB to the current directory (/kaggle/working/) that gets preserved as output when you create a version using \"Save & Run All\" \n",
    "# You can also write temporary files to /kaggle/temp/, but they won't be saved outside of the current session"
   ]
  },
  {
   "cell_type": "code",
   "execution_count": 2,
   "id": "62f0c92f",
   "metadata": {
    "execution": {
     "iopub.execute_input": "2022-02-16T15:35:12.059089Z",
     "iopub.status.busy": "2022-02-16T15:35:12.058136Z",
     "iopub.status.idle": "2022-02-16T15:35:13.217868Z",
     "shell.execute_reply": "2022-02-16T15:35:13.217249Z",
     "shell.execute_reply.started": "2022-02-16T15:34:42.419891Z"
    },
    "papermill": {
     "duration": 1.245564,
     "end_time": "2022-02-16T15:35:13.218037",
     "exception": false,
     "start_time": "2022-02-16T15:35:11.972473",
     "status": "completed"
    },
    "tags": []
   },
   "outputs": [],
   "source": [
    "import pandas as pd\n",
    "import numpy as np\n",
    "import seaborn as sns\n",
    "import matplotlib.pyplot as plt\n",
    "%matplotlib inline"
   ]
  },
  {
   "cell_type": "code",
   "execution_count": 3,
   "id": "4ca562e5",
   "metadata": {
    "execution": {
     "iopub.execute_input": "2022-02-16T15:35:13.400258Z",
     "iopub.status.busy": "2022-02-16T15:35:13.399351Z",
     "iopub.status.idle": "2022-02-16T15:35:13.416736Z",
     "shell.execute_reply": "2022-02-16T15:35:13.417358Z",
     "shell.execute_reply.started": "2022-02-16T15:34:43.714038Z"
    },
    "papermill": {
     "duration": 0.113094,
     "end_time": "2022-02-16T15:35:13.417616",
     "exception": false,
     "start_time": "2022-02-16T15:35:13.304522",
     "status": "completed"
    },
    "tags": []
   },
   "outputs": [],
   "source": [
    "df = pd.read_csv('/kaggle/input/students-performance-in-exams/StudentsPerformance.csv')"
   ]
  },
  {
   "cell_type": "code",
   "execution_count": 4,
   "id": "4148f06f",
   "metadata": {
    "execution": {
     "iopub.execute_input": "2022-02-16T15:35:13.607546Z",
     "iopub.status.busy": "2022-02-16T15:35:13.606560Z",
     "iopub.status.idle": "2022-02-16T15:35:13.622080Z",
     "shell.execute_reply": "2022-02-16T15:35:13.622794Z",
     "shell.execute_reply.started": "2022-02-16T15:34:43.736890Z"
    },
    "papermill": {
     "duration": 0.106099,
     "end_time": "2022-02-16T15:35:13.623035",
     "exception": false,
     "start_time": "2022-02-16T15:35:13.516936",
     "status": "completed"
    },
    "tags": []
   },
   "outputs": [
    {
     "data": {
      "text/html": [
       "<div>\n",
       "<style scoped>\n",
       "    .dataframe tbody tr th:only-of-type {\n",
       "        vertical-align: middle;\n",
       "    }\n",
       "\n",
       "    .dataframe tbody tr th {\n",
       "        vertical-align: top;\n",
       "    }\n",
       "\n",
       "    .dataframe thead th {\n",
       "        text-align: right;\n",
       "    }\n",
       "</style>\n",
       "<table border=\"1\" class=\"dataframe\">\n",
       "  <thead>\n",
       "    <tr style=\"text-align: right;\">\n",
       "      <th></th>\n",
       "      <th>gender</th>\n",
       "      <th>race/ethnicity</th>\n",
       "      <th>parental level of education</th>\n",
       "      <th>lunch</th>\n",
       "      <th>test preparation course</th>\n",
       "      <th>math score</th>\n",
       "      <th>reading score</th>\n",
       "      <th>writing score</th>\n",
       "    </tr>\n",
       "  </thead>\n",
       "  <tbody>\n",
       "    <tr>\n",
       "      <th>0</th>\n",
       "      <td>female</td>\n",
       "      <td>group B</td>\n",
       "      <td>bachelor's degree</td>\n",
       "      <td>standard</td>\n",
       "      <td>none</td>\n",
       "      <td>72</td>\n",
       "      <td>72</td>\n",
       "      <td>74</td>\n",
       "    </tr>\n",
       "    <tr>\n",
       "      <th>1</th>\n",
       "      <td>female</td>\n",
       "      <td>group C</td>\n",
       "      <td>some college</td>\n",
       "      <td>standard</td>\n",
       "      <td>completed</td>\n",
       "      <td>69</td>\n",
       "      <td>90</td>\n",
       "      <td>88</td>\n",
       "    </tr>\n",
       "    <tr>\n",
       "      <th>2</th>\n",
       "      <td>female</td>\n",
       "      <td>group B</td>\n",
       "      <td>master's degree</td>\n",
       "      <td>standard</td>\n",
       "      <td>none</td>\n",
       "      <td>90</td>\n",
       "      <td>95</td>\n",
       "      <td>93</td>\n",
       "    </tr>\n",
       "    <tr>\n",
       "      <th>3</th>\n",
       "      <td>male</td>\n",
       "      <td>group A</td>\n",
       "      <td>associate's degree</td>\n",
       "      <td>free/reduced</td>\n",
       "      <td>none</td>\n",
       "      <td>47</td>\n",
       "      <td>57</td>\n",
       "      <td>44</td>\n",
       "    </tr>\n",
       "    <tr>\n",
       "      <th>4</th>\n",
       "      <td>male</td>\n",
       "      <td>group C</td>\n",
       "      <td>some college</td>\n",
       "      <td>standard</td>\n",
       "      <td>none</td>\n",
       "      <td>76</td>\n",
       "      <td>78</td>\n",
       "      <td>75</td>\n",
       "    </tr>\n",
       "  </tbody>\n",
       "</table>\n",
       "</div>"
      ],
      "text/plain": [
       "   gender race/ethnicity parental level of education         lunch  \\\n",
       "0  female        group B           bachelor's degree      standard   \n",
       "1  female        group C                some college      standard   \n",
       "2  female        group B             master's degree      standard   \n",
       "3    male        group A          associate's degree  free/reduced   \n",
       "4    male        group C                some college      standard   \n",
       "\n",
       "  test preparation course  math score  reading score  writing score  \n",
       "0                    none          72             72             74  \n",
       "1               completed          69             90             88  \n",
       "2                    none          90             95             93  \n",
       "3                    none          47             57             44  \n",
       "4                    none          76             78             75  "
      ]
     },
     "execution_count": 4,
     "metadata": {},
     "output_type": "execute_result"
    }
   ],
   "source": [
    "df.head()"
   ]
  },
  {
   "cell_type": "markdown",
   "id": "b79f7d9b",
   "metadata": {
    "papermill": {
     "duration": 0.085072,
     "end_time": "2022-02-16T15:35:13.794811",
     "exception": false,
     "start_time": "2022-02-16T15:35:13.709739",
     "status": "completed"
    },
    "tags": []
   },
   "source": [
    "## Part 1\n",
    "### Q 1 Find the average score group wise for males and females separately."
   ]
  },
  {
   "cell_type": "code",
   "execution_count": 5,
   "id": "8c193f4d",
   "metadata": {
    "execution": {
     "iopub.execute_input": "2022-02-16T15:35:13.969894Z",
     "iopub.status.busy": "2022-02-16T15:35:13.969165Z",
     "iopub.status.idle": "2022-02-16T15:35:14.005796Z",
     "shell.execute_reply": "2022-02-16T15:35:14.005208Z",
     "shell.execute_reply.started": "2022-02-16T15:34:43.764061Z"
    },
    "papermill": {
     "duration": 0.127153,
     "end_time": "2022-02-16T15:35:14.005979",
     "exception": false,
     "start_time": "2022-02-16T15:35:13.878826",
     "status": "completed"
    },
    "tags": []
   },
   "outputs": [
    {
     "name": "stdout",
     "output_type": "stream",
     "text": [
      "group A :\n",
      "math : 58.52777777777778\n",
      "reading : 69.0\n",
      "writing : 67.86111111111111\n",
      "\n",
      "group B :\n",
      "math : 61.40384615384615\n",
      "reading : 71.07692307692308\n",
      "writing : 70.04807692307692\n",
      "\n",
      "group C :\n",
      "math : 62.03333333333333\n",
      "reading : 71.94444444444444\n",
      "writing : 71.77777777777777\n",
      "\n",
      "group D :\n",
      "math : 65.24806201550388\n",
      "reading : 74.04651162790698\n",
      "writing : 75.02325581395348\n",
      "\n",
      "group E :\n",
      "math : 70.81159420289855\n",
      "reading : 75.84057971014492\n",
      "writing : 75.53623188405797\n",
      "\n"
     ]
    }
   ],
   "source": [
    "subs = ['math', 'reading', 'writing']\n",
    "for group in sorted(list(df['race/ethnicity'].unique())):\n",
    "    print(group, ':')\n",
    "    for sub in subs: print(sub,':',np.average(df[(df['race/ethnicity'] == group) & (df['gender'] == 'female')][sub + ' score']))\n",
    "    print()"
   ]
  },
  {
   "cell_type": "code",
   "execution_count": 6,
   "id": "e97c66d9",
   "metadata": {
    "execution": {
     "iopub.execute_input": "2022-02-16T15:35:14.192528Z",
     "iopub.status.busy": "2022-02-16T15:35:14.191779Z",
     "iopub.status.idle": "2022-02-16T15:35:14.202224Z",
     "shell.execute_reply": "2022-02-16T15:35:14.201630Z",
     "shell.execute_reply.started": "2022-02-16T15:34:43.812351Z"
    },
    "papermill": {
     "duration": 0.114168,
     "end_time": "2022-02-16T15:35:14.202394",
     "exception": false,
     "start_time": "2022-02-16T15:35:14.088226",
     "status": "completed"
    },
    "tags": []
   },
   "outputs": [
    {
     "name": "stdout",
     "output_type": "stream",
     "text": [
      "group A :\n",
      "math : 63.735849056603776\n",
      "reading : 61.735849056603776\n",
      "writing : 59.15094339622642\n",
      "\n",
      "group B :\n",
      "math : 65.93023255813954\n",
      "reading : 62.848837209302324\n",
      "writing : 60.22093023255814\n",
      "\n",
      "group C :\n",
      "math : 67.61151079136691\n",
      "reading : 65.42446043165468\n",
      "writing : 62.71223021582734\n",
      "\n",
      "group D :\n",
      "math : 69.41353383458646\n",
      "reading : 66.13533834586467\n",
      "writing : 65.41353383458646\n",
      "\n",
      "group E :\n",
      "math : 76.74647887323944\n",
      "reading : 70.29577464788733\n",
      "writing : 67.3943661971831\n",
      "\n"
     ]
    }
   ],
   "source": [
    "for group in sorted(list(df['race/ethnicity'].unique())):\n",
    "    print(group, ':')\n",
    "    for sub in subs: print(sub,':',np.average(df[(df['race/ethnicity'] == group) & (df['gender'] != 'female')][sub + ' score']))\n",
    "    print()"
   ]
  },
  {
   "cell_type": "markdown",
   "id": "0a7a4ba1",
   "metadata": {
    "papermill": {
     "duration": 0.080618,
     "end_time": "2022-02-16T15:35:14.364881",
     "exception": false,
     "start_time": "2022-02-16T15:35:14.284263",
     "status": "completed"
    },
    "tags": []
   },
   "source": [
    "### 2. Find the % of males scoring above 80 in math and 85 in reading group wise under [parental level of education as bachelor degree"
   ]
  },
  {
   "cell_type": "code",
   "execution_count": 7,
   "id": "8d2b6559",
   "metadata": {
    "execution": {
     "iopub.execute_input": "2022-02-16T15:35:14.531803Z",
     "iopub.status.busy": "2022-02-16T15:35:14.531126Z",
     "iopub.status.idle": "2022-02-16T15:35:14.539100Z",
     "shell.execute_reply": "2022-02-16T15:35:14.539870Z",
     "shell.execute_reply.started": "2022-02-16T15:34:43.856559Z"
    },
    "papermill": {
     "duration": 0.092857,
     "end_time": "2022-02-16T15:35:14.540129",
     "exception": false,
     "start_time": "2022-02-16T15:35:14.447272",
     "status": "completed"
    },
    "tags": []
   },
   "outputs": [
    {
     "name": "stdout",
     "output_type": "stream",
     "text": [
      "1.6 %\n"
     ]
    }
   ],
   "source": [
    "print((len(df[(df['math score'] > 80) & (df['reading score'] > 85) & (df['parental level of education'] == 'bachelor\\'s degree')])/len(df)) * 100, '%')"
   ]
  },
  {
   "cell_type": "markdown",
   "id": "97956e15",
   "metadata": {
    "papermill": {
     "duration": 0.082317,
     "end_time": "2022-02-16T15:35:14.704875",
     "exception": false,
     "start_time": "2022-02-16T15:35:14.622558",
     "status": "completed"
    },
    "tags": []
   },
   "source": [
    "## 3. Find the count of males under group E that are either having parental level of education as high school or under bachelor degree program"
   ]
  },
  {
   "cell_type": "code",
   "execution_count": 8,
   "id": "588224f8",
   "metadata": {
    "execution": {
     "iopub.execute_input": "2022-02-16T15:35:14.879322Z",
     "iopub.status.busy": "2022-02-16T15:35:14.878436Z",
     "iopub.status.idle": "2022-02-16T15:35:14.881566Z",
     "shell.execute_reply": "2022-02-16T15:35:14.882071Z",
     "shell.execute_reply.started": "2022-02-16T15:34:43.868509Z"
    },
    "papermill": {
     "duration": 0.094697,
     "end_time": "2022-02-16T15:35:14.882267",
     "exception": false,
     "start_time": "2022-02-16T15:35:14.787570",
     "status": "completed"
    },
    "tags": []
   },
   "outputs": [
    {
     "data": {
      "text/plain": [
       "40"
      ]
     },
     "execution_count": 8,
     "metadata": {},
     "output_type": "execute_result"
    }
   ],
   "source": [
    "len(df[(df['race/ethnicity'] == 'group E') & ((df['parental level of education'] == 'bachelor\\'s degree') | (df['parental level of education'] == 'high school'))])"
   ]
  },
  {
   "cell_type": "markdown",
   "id": "1759a369",
   "metadata": {
    "papermill": {
     "duration": 0.082904,
     "end_time": "2022-02-16T15:35:15.047139",
     "exception": false,
     "start_time": "2022-02-16T15:35:14.964235",
     "status": "completed"
    },
    "tags": []
   },
   "source": [
    "## 4. Find the maximum marks for math, reading and writing for each group and plot them"
   ]
  },
  {
   "cell_type": "code",
   "execution_count": 9,
   "id": "ad5496c2",
   "metadata": {
    "execution": {
     "iopub.execute_input": "2022-02-16T15:35:15.220945Z",
     "iopub.status.busy": "2022-02-16T15:35:15.219280Z",
     "iopub.status.idle": "2022-02-16T15:35:15.243792Z",
     "shell.execute_reply": "2022-02-16T15:35:15.243173Z",
     "shell.execute_reply.started": "2022-02-16T15:34:43.884591Z"
    },
    "papermill": {
     "duration": 0.114633,
     "end_time": "2022-02-16T15:35:15.243957",
     "exception": false,
     "start_time": "2022-02-16T15:35:15.129324",
     "status": "completed"
    },
    "tags": []
   },
   "outputs": [
    {
     "name": "stdout",
     "output_type": "stream",
     "text": [
      "group A :\n",
      "math : 100\n",
      "reading : 100\n",
      "writing : 97\n",
      "\n",
      "group B :\n",
      "math : 97\n",
      "reading : 97\n",
      "writing : 96\n",
      "\n",
      "group C :\n",
      "math : 98\n",
      "reading : 100\n",
      "writing : 100\n",
      "\n",
      "group D :\n",
      "math : 100\n",
      "reading : 100\n",
      "writing : 100\n",
      "\n",
      "group E :\n",
      "math : 100\n",
      "reading : 100\n",
      "writing : 100\n",
      "\n"
     ]
    }
   ],
   "source": [
    "for group in sorted(list(df['race/ethnicity'].unique())):\n",
    "    print(group, ':')\n",
    "    for sub in subs: print(sub,':',np.max(df[(df['race/ethnicity'] == group)][sub + ' score']))\n",
    "    print()"
   ]
  },
  {
   "cell_type": "code",
   "execution_count": 10,
   "id": "b49d02a8",
   "metadata": {
    "execution": {
     "iopub.execute_input": "2022-02-16T15:35:15.420150Z",
     "iopub.status.busy": "2022-02-16T15:35:15.418366Z",
     "iopub.status.idle": "2022-02-16T15:35:15.915499Z",
     "shell.execute_reply": "2022-02-16T15:35:15.914985Z",
     "shell.execute_reply.started": "2022-02-16T15:34:43.926599Z"
    },
    "papermill": {
     "duration": 0.588875,
     "end_time": "2022-02-16T15:35:15.915670",
     "exception": false,
     "start_time": "2022-02-16T15:35:15.326795",
     "status": "completed"
    },
    "tags": []
   },
   "outputs": [
    {
     "data": {
      "text/plain": [
       "(90.0, 100.0)"
      ]
     },
     "execution_count": 10,
     "metadata": {},
     "output_type": "execute_result"
    },
    {
     "data": {
      "image/png": "[encoded data removed]",
      "text/plain": [
       "<Figure size 432x288 with 1 Axes>"
      ]
     },
     "metadata": {
      "needs_background": "light"
     },
     "output_type": "display_data"
    }
   ],
   "source": [
    "g = sns.barplot(data=df,x='race/ethnicity',y='math score', estimator=max)\n",
    "g.set_ylim(90,100)"
   ]
  },
  {
   "cell_type": "code",
   "execution_count": 11,
   "id": "afbdda8d",
   "metadata": {
    "execution": {
     "iopub.execute_input": "2022-02-16T15:35:16.091161Z",
     "iopub.status.busy": "2022-02-16T15:35:16.090518Z",
     "iopub.status.idle": "2022-02-16T15:35:16.551907Z",
     "shell.execute_reply": "2022-02-16T15:35:16.551288Z",
     "shell.execute_reply.started": "2022-02-16T15:34:44.479628Z"
    },
    "papermill": {
     "duration": 0.552384,
     "end_time": "2022-02-16T15:35:16.552108",
     "exception": false,
     "start_time": "2022-02-16T15:35:15.999724",
     "status": "completed"
    },
    "tags": []
   },
   "outputs": [
    {
     "data": {
      "text/plain": [
       "(90.0, 100.0)"
      ]
     },
     "execution_count": 11,
     "metadata": {},
     "output_type": "execute_result"
    },
    {
     "data": {
      "image/png": "[encoded data removed]",
      "text/plain": [
       "<Figure size 432x288 with 1 Axes>"
      ]
     },
     "metadata": {
      "needs_background": "light"
     },
     "output_type": "display_data"
    }
   ],
   "source": [
    "g = sns.barplot(data=df,x='race/ethnicity',y='reading score', estimator=max)\n",
    "g.set_ylim(90,100)"
   ]
  },
  {
   "cell_type": "code",
   "execution_count": 12,
   "id": "cb981c05",
   "metadata": {
    "execution": {
     "iopub.execute_input": "2022-02-16T15:35:16.735504Z",
     "iopub.status.busy": "2022-02-16T15:35:16.734821Z",
     "iopub.status.idle": "2022-02-16T15:35:17.187771Z",
     "shell.execute_reply": "2022-02-16T15:35:17.187167Z",
     "shell.execute_reply.started": "2022-02-16T15:34:44.976224Z"
    },
    "papermill": {
     "duration": 0.545934,
     "end_time": "2022-02-16T15:35:17.187920",
     "exception": false,
     "start_time": "2022-02-16T15:35:16.641986",
     "status": "completed"
    },
    "tags": []
   },
   "outputs": [
    {
     "data": {
      "text/plain": [
       "(90.0, 100.0)"
      ]
     },
     "execution_count": 12,
     "metadata": {},
     "output_type": "execute_result"
    },
    {
     "data": {
      "image/png": "[encoded data removed]",
      "text/plain": [
       "<Figure size 432x288 with 1 Axes>"
      ]
     },
     "metadata": {
      "needs_background": "light"
     },
     "output_type": "display_data"
    }
   ],
   "source": [
    "g = sns.barplot(data=df,x='race/ethnicity',y='writing score', estimator=max)\n",
    "g.set_ylim(90,100)"
   ]
  },
  {
   "cell_type": "markdown",
   "id": "775580c7",
   "metadata": {
    "papermill": {
     "duration": 0.086344,
     "end_time": "2022-02-16T15:35:17.362137",
     "exception": false,
     "start_time": "2022-02-16T15:35:17.275793",
     "status": "completed"
    },
    "tags": []
   },
   "source": [
    "## Q 5 Plot the count of students based on their gender and whether they have prepared for the test or not"
   ]
  },
  {
   "cell_type": "code",
   "execution_count": 13,
   "id": "e2d75079",
   "metadata": {
    "execution": {
     "iopub.execute_input": "2022-02-16T15:35:17.536904Z",
     "iopub.status.busy": "2022-02-16T15:35:17.536183Z",
     "iopub.status.idle": "2022-02-16T15:35:17.757598Z",
     "shell.execute_reply": "2022-02-16T15:35:17.758110Z",
     "shell.execute_reply.started": "2022-02-16T15:34:45.461738Z"
    },
    "papermill": {
     "duration": 0.310706,
     "end_time": "2022-02-16T15:35:17.758295",
     "exception": false,
     "start_time": "2022-02-16T15:35:17.447589",
     "status": "completed"
    },
    "tags": []
   },
   "outputs": [
    {
     "data": {
      "text/plain": [
       "<AxesSubplot:xlabel='gender', ylabel='count'>"
      ]
     },
     "execution_count": 13,
     "metadata": {},
     "output_type": "execute_result"
    },
    {
     "data": {
      "image/png": "[encoded data removed]",
      "text/plain": [
       "<Figure size 432x288 with 1 Axes>"
      ]
     },
     "metadata": {
      "needs_background": "light"
     },
     "output_type": "display_data"
    }
   ],
   "source": [
    "sns.countplot(x='gender', hue='test preparation course', data = df)"
   ]
  },
  {
   "cell_type": "markdown",
   "id": "1e526ac0",
   "metadata": {
    "papermill": {
     "duration": 0.086767,
     "end_time": "2022-02-16T15:35:17.931986",
     "exception": false,
     "start_time": "2022-02-16T15:35:17.845219",
     "status": "completed"
    },
    "tags": []
   },
   "source": [
    "## Q 6 Plot the scores in all three subjects based on their gender"
   ]
  },
  {
   "cell_type": "code",
   "execution_count": 14,
   "id": "85c6f1a7",
   "metadata": {
    "execution": {
     "iopub.execute_input": "2022-02-16T15:35:18.112080Z",
     "iopub.status.busy": "2022-02-16T15:35:18.111342Z",
     "iopub.status.idle": "2022-02-16T15:35:18.520748Z",
     "shell.execute_reply": "2022-02-16T15:35:18.520125Z",
     "shell.execute_reply.started": "2022-02-16T15:34:45.710559Z"
    },
    "papermill": {
     "duration": 0.500611,
     "end_time": "2022-02-16T15:35:18.520905",
     "exception": false,
     "start_time": "2022-02-16T15:35:18.020294",
     "status": "completed"
    },
    "tags": []
   },
   "outputs": [
    {
     "data": {
      "text/plain": [
       "<AxesSubplot:xlabel='math score', ylabel='Count'>"
      ]
     },
     "execution_count": 14,
     "metadata": {},
     "output_type": "execute_result"
    },
    {
     "data": {
      "image/png": "[encoded data removed]",
      "text/plain": [
       "<Figure size 432x288 with 1 Axes>"
      ]
     },
     "metadata": {
      "needs_background": "light"
     },
     "output_type": "display_data"
    }
   ],
   "source": [
    "sns.histplot(data = df, x = 'math score', hue = 'gender')"
   ]
  },
  {
   "cell_type": "code",
   "execution_count": 15,
   "id": "3188b360",
   "metadata": {
    "execution": {
     "iopub.execute_input": "2022-02-16T15:35:18.712093Z",
     "iopub.status.busy": "2022-02-16T15:35:18.701187Z",
     "iopub.status.idle": "2022-02-16T15:35:19.058405Z",
     "shell.execute_reply": "2022-02-16T15:35:19.057864Z",
     "shell.execute_reply.started": "2022-02-16T15:34:46.152202Z"
    },
    "papermill": {
     "duration": 0.449166,
     "end_time": "2022-02-16T15:35:19.058564",
     "exception": false,
     "start_time": "2022-02-16T15:35:18.609398",
     "status": "completed"
    },
    "tags": []
   },
   "outputs": [
    {
     "data": {
      "text/plain": [
       "<AxesSubplot:xlabel='reading score', ylabel='Count'>"
      ]
     },
     "execution_count": 15,
     "metadata": {},
     "output_type": "execute_result"
    },
    {
     "data": {
      "image/png": "[encoded data removed]",
      "text/plain": [
       "<Figure size 432x288 with 1 Axes>"
      ]
     },
     "metadata": {
      "needs_background": "light"
     },
     "output_type": "display_data"
    }
   ],
   "source": [
    "sns.histplot(data = df, x = 'reading score', hue = 'gender')"
   ]
  },
  {
   "cell_type": "code",
   "execution_count": 16,
   "id": "71b86444",
   "metadata": {
    "execution": {
     "iopub.execute_input": "2022-02-16T15:35:19.252347Z",
     "iopub.status.busy": "2022-02-16T15:35:19.247766Z",
     "iopub.status.idle": "2022-02-16T15:35:19.601020Z",
     "shell.execute_reply": "2022-02-16T15:35:19.601524Z",
     "shell.execute_reply.started": "2022-02-16T15:34:46.561311Z"
    },
    "papermill": {
     "duration": 0.451618,
     "end_time": "2022-02-16T15:35:19.601742",
     "exception": false,
     "start_time": "2022-02-16T15:35:19.150124",
     "status": "completed"
    },
    "tags": []
   },
   "outputs": [
    {
     "data": {
      "text/plain": [
       "<AxesSubplot:xlabel='writing score', ylabel='Count'>"
      ]
     },
     "execution_count": 16,
     "metadata": {},
     "output_type": "execute_result"
    },
    {
     "data": {
      "image/png": "[encoded data removed]",
      "text/plain": [
       "<Figure size 432x288 with 1 Axes>"
      ]
     },
     "metadata": {
      "needs_background": "light"
     },
     "output_type": "display_data"
    }
   ],
   "source": [
    "sns.histplot(data = df, x = 'writing score', hue = 'gender')"
   ]
  },
  {
   "cell_type": "markdown",
   "id": "e1fb839b",
   "metadata": {
    "papermill": {
     "duration": 0.090417,
     "end_time": "2022-02-16T15:35:19.782693",
     "exception": false,
     "start_time": "2022-02-16T15:35:19.692276",
     "status": "completed"
    },
    "tags": []
   },
   "source": [
    "## Q 7 Plot the relations between various columns based on the correlation coefficient "
   ]
  },
  {
   "cell_type": "code",
   "execution_count": 17,
   "id": "cc16cde4",
   "metadata": {
    "execution": {
     "iopub.execute_input": "2022-02-16T15:35:19.973908Z",
     "iopub.status.busy": "2022-02-16T15:35:19.973189Z",
     "iopub.status.idle": "2022-02-16T15:35:21.468524Z",
     "shell.execute_reply": "2022-02-16T15:35:21.467986Z",
     "shell.execute_reply.started": "2022-02-16T15:34:46.975430Z"
    },
    "papermill": {
     "duration": 1.595161,
     "end_time": "2022-02-16T15:35:21.468740",
     "exception": false,
     "start_time": "2022-02-16T15:35:19.873579",
     "status": "completed"
    },
    "tags": []
   },
   "outputs": [
    {
     "data": {
      "text/plain": [
       "<seaborn.axisgrid.PairGrid at 0x7f82c08dc150>"
      ]
     },
     "execution_count": 17,
     "metadata": {},
     "output_type": "execute_result"
    },
    {
     "data": {
      "image/png": "[encoded data removed]",
      "text/plain": [
       "<Figure size 540x540 with 9 Axes>"
      ]
     },
     "metadata": {
      "needs_background": "light"
     },
     "output_type": "display_data"
    }
   ],
   "source": [
    "g = sns.PairGrid(df)\n",
    "g.map(plt.scatter)"
   ]
  },
  {
   "cell_type": "markdown",
   "id": "a69c57d7",
   "metadata": {
    "papermill": {
     "duration": 0.092371,
     "end_time": "2022-02-16T15:35:21.659242",
     "exception": false,
     "start_time": "2022-02-16T15:35:21.566871",
     "status": "completed"
    },
    "tags": []
   },
   "source": [
    "## Q 8 Plot the scores of each student group wise and parental level of education"
   ]
  },
  {
   "cell_type": "code",
   "execution_count": 18,
   "id": "74d5a677",
   "metadata": {
    "execution": {
     "iopub.execute_input": "2022-02-16T15:35:21.853519Z",
     "iopub.status.busy": "2022-02-16T15:35:21.852755Z",
     "iopub.status.idle": "2022-02-16T15:35:26.923287Z",
     "shell.execute_reply": "2022-02-16T15:35:26.922724Z"
    },
    "papermill": {
     "duration": 5.171678,
     "end_time": "2022-02-16T15:35:26.923432",
     "exception": false,
     "start_time": "2022-02-16T15:35:21.751754",
     "status": "completed"
    },
    "tags": []
   },
   "outputs": [
    {
     "name": "stderr",
     "output_type": "stream",
     "text": [
      "/opt/conda/lib/python3.7/site-packages/seaborn/axisgrid.py:337: UserWarning: The `size` parameter has been renamed to `height`; please update your code.\n",
      "  warnings.warn(msg, UserWarning)\n",
      "/opt/conda/lib/python3.7/site-packages/seaborn/axisgrid.py:670: UserWarning: Using the boxplot function without specifying `order` is likely to produce an incorrect plot.\n",
      "  warnings.warn(warning)\n",
      "/opt/conda/lib/python3.7/site-packages/seaborn/axisgrid.py:337: UserWarning: The `size` parameter has been renamed to `height`; please update your code.\n",
      "  warnings.warn(msg, UserWarning)\n",
      "/opt/conda/lib/python3.7/site-packages/seaborn/axisgrid.py:670: UserWarning: Using the boxplot function without specifying `order` is likely to produce an incorrect plot.\n",
      "  warnings.warn(warning)\n",
      "/opt/conda/lib/python3.7/site-packages/seaborn/axisgrid.py:337: UserWarning: The `size` parameter has been renamed to `height`; please update your code.\n",
      "  warnings.warn(msg, UserWarning)\n",
      "/opt/conda/lib/python3.7/site-packages/seaborn/axisgrid.py:670: UserWarning: Using the boxplot function without specifying `order` is likely to produce an incorrect plot.\n",
      "  warnings.warn(warning)\n"
     ]
    },
    {
     "data": {
      "text/plain": [
       "<seaborn.axisgrid.FacetGrid at 0x7f82beaf00d0>"
      ]
     },
     "execution_count": 18,
     "metadata": {},
     "output_type": "execute_result"
    },
    {
     "data": {
      "image/png": "[encoded data removed]",
      "text/plain": [
       "<Figure size 584x2880 with 5 Axes>"
      ]
     },
     "metadata": {
      "needs_background": "light"
     },
     "output_type": "display_data"
    },
    {
     "data": {
      "image/png": "[encoded data removed]",
      "text/plain": [
       "<Figure size 584x2880 with 5 Axes>"
      ]
     },
     "metadata": {
      "needs_background": "light"
     },
     "output_type": "display_data"
    },
    {
     "data": {
      "image/png": "[encoded data removed]",
      "text/plain": [
       "<Figure size 584x2880 with 5 Axes>"
      ]
     },
     "metadata": {
      "needs_background": "light"
     },
     "output_type": "display_data"
    }
   ],
   "source": [
    "grid = sns.FacetGrid(df, row='race/ethnicity', size=8, aspect=1)\n",
    "grid.map(sns.boxplot,'parental level of education','math score', palette='deep')\n",
    "grid.set_xticklabels(df['parental level of education'].unique())\n",
    "grid.add_legend()\n",
    "grid = sns.FacetGrid(df, row='race/ethnicity', size=8, aspect=1)\n",
    "grid.map(sns.boxplot,'parental level of education','reading score', palette='deep')\n",
    "grid.set_xticklabels(df['parental level of education'].unique())\n",
    "grid.add_legend()\n",
    "grid = sns.FacetGrid(df, row='race/ethnicity', size=8, aspect=1)\n",
    "grid.map(sns.boxplot,'parental level of education','writing score', palette='deep')\n",
    "grid.set_xticklabels(df['parental level of education'].unique())\n",
    "grid.add_legend()"
   ]
  },
  {
   "cell_type": "markdown",
   "id": "6ee373d1",
   "metadata": {
    "papermill": {
     "duration": 0.10202,
     "end_time": "2022-02-16T15:35:27.128313",
     "exception": false,
     "start_time": "2022-02-16T15:35:27.026293",
     "status": "completed"
    },
    "tags": []
   },
   "source": [
    "## Q 9 Plot the relation between marks and preparation that will help understand them properly"
   ]
  },
  {
   "cell_type": "markdown",
   "id": "8bbf571a",
   "metadata": {
    "papermill": {
     "duration": 0.101631,
     "end_time": "2022-02-16T15:35:27.330385",
     "exception": false,
     "start_time": "2022-02-16T15:35:27.228754",
     "status": "completed"
    },
    "tags": []
   },
   "source": [
    "We see the median range is higher when course is completed, thus proving preparation increases marks"
   ]
  },
  {
   "cell_type": "code",
   "execution_count": 19,
   "id": "8903cc2a",
   "metadata": {
    "execution": {
     "iopub.execute_input": "2022-02-16T15:35:27.549537Z",
     "iopub.status.busy": "2022-02-16T15:35:27.548505Z",
     "iopub.status.idle": "2022-02-16T15:35:27.728548Z",
     "shell.execute_reply": "2022-02-16T15:35:27.729009Z"
    },
    "papermill": {
     "duration": 0.298203,
     "end_time": "2022-02-16T15:35:27.729183",
     "exception": false,
     "start_time": "2022-02-16T15:35:27.430980",
     "status": "completed"
    },
    "tags": []
   },
   "outputs": [
    {
     "data": {
      "text/plain": [
       "<AxesSubplot:xlabel='test preparation course', ylabel='math score'>"
      ]
     },
     "execution_count": 19,
     "metadata": {},
     "output_type": "execute_result"
    },
    {
     "data": {
      "image/png": "[encoded data removed]",
      "text/plain": [
       "<Figure size 432x288 with 1 Axes>"
      ]
     },
     "metadata": {
      "needs_background": "light"
     },
     "output_type": "display_data"
    }
   ],
   "source": [
    "sns.boxplot(data=df,x='test preparation course',y='math score')"
   ]
  },
  {
   "cell_type": "code",
   "execution_count": 20,
   "id": "cf614065",
   "metadata": {
    "execution": {
     "iopub.execute_input": "2022-02-16T15:35:27.938509Z",
     "iopub.status.busy": "2022-02-16T15:35:27.937531Z",
     "iopub.status.idle": "2022-02-16T15:35:28.123598Z",
     "shell.execute_reply": "2022-02-16T15:35:28.124048Z"
    },
    "papermill": {
     "duration": 0.292821,
     "end_time": "2022-02-16T15:35:28.124216",
     "exception": false,
     "start_time": "2022-02-16T15:35:27.831395",
     "status": "completed"
    },
    "tags": []
   },
   "outputs": [
    {
     "data": {
      "text/plain": [
       "<AxesSubplot:xlabel='test preparation course', ylabel='reading score'>"
      ]
     },
     "execution_count": 20,
     "metadata": {},
     "output_type": "execute_result"
    },
    {
     "data": {
      "image/png": "[encoded data removed]",
      "text/plain": [
       "<Figure size 432x288 with 1 Axes>"
      ]
     },
     "metadata": {
      "needs_background": "light"
     },
     "output_type": "display_data"
    }
   ],
   "source": [
    "sns.boxplot(data=df,x='test preparation course',y='reading score')"
   ]
  },
  {
   "cell_type": "code",
   "execution_count": 21,
   "id": "d004b1e4",
   "metadata": {
    "execution": {
     "iopub.execute_input": "2022-02-16T15:35:28.335323Z",
     "iopub.status.busy": "2022-02-16T15:35:28.334395Z",
     "iopub.status.idle": "2022-02-16T15:35:28.479788Z",
     "shell.execute_reply": "2022-02-16T15:35:28.480330Z"
    },
    "papermill": {
     "duration": 0.25309,
     "end_time": "2022-02-16T15:35:28.480525",
     "exception": false,
     "start_time": "2022-02-16T15:35:28.227435",
     "status": "completed"
    },
    "tags": []
   },
   "outputs": [
    {
     "data": {
      "text/plain": [
       "<AxesSubplot:xlabel='test preparation course', ylabel='writing score'>"
      ]
     },
     "execution_count": 21,
     "metadata": {},
     "output_type": "execute_result"
    },
    {
     "data": {
      "image/png": "[encoded data removed]",
      "text/plain": [
       "<Figure size 432x288 with 1 Axes>"
      ]
     },
     "metadata": {
      "needs_background": "light"
     },
     "output_type": "display_data"
    }
   ],
   "source": [
    "sns.boxplot(data=df,x='test preparation course',y='writing score')"
   ]
  },
  {
   "cell_type": "markdown",
   "id": "8a27a9a4",
   "metadata": {
    "papermill": {
     "duration": 0.10704,
     "end_time": "2022-02-16T15:35:28.694548",
     "exception": false,
     "start_time": "2022-02-16T15:35:28.587508",
     "status": "completed"
    },
    "tags": []
   },
   "source": [
    "## Q 10 Using any kind of plot, find whether the data is left skewed or right skewed based on scores of each subject."
   ]
  },
  {
   "cell_type": "markdown",
   "id": "87e5c6c0",
   "metadata": {
    "papermill": {
     "duration": 0.106287,
     "end_time": "2022-02-16T15:35:28.906815",
     "exception": false,
     "start_time": "2022-02-16T15:35:28.800528",
     "status": "completed"
    },
    "tags": []
   },
   "source": [
    "From the above boxplots we can see that the data is right skewed, right being nearer to 100 marks."
   ]
  },
  {
   "cell_type": "markdown",
   "id": "5d8e80e6",
   "metadata": {
    "papermill": {
     "duration": 0.107101,
     "end_time": "2022-02-16T15:35:29.119986",
     "exception": false,
     "start_time": "2022-02-16T15:35:29.012885",
     "status": "completed"
    },
    "tags": []
   },
   "source": [
    "## BONUS\n",
    "## Perform one hot encoding to prepare the dataset for ML models"
   ]
  },
  {
   "cell_type": "code",
   "execution_count": 22,
   "id": "3050b328",
   "metadata": {
    "execution": {
     "iopub.execute_input": "2022-02-16T15:35:29.337783Z",
     "iopub.status.busy": "2022-02-16T15:35:29.336729Z",
     "iopub.status.idle": "2022-02-16T15:35:29.471498Z",
     "shell.execute_reply": "2022-02-16T15:35:29.470832Z"
    },
    "papermill": {
     "duration": 0.245707,
     "end_time": "2022-02-16T15:35:29.471644",
     "exception": false,
     "start_time": "2022-02-16T15:35:29.225937",
     "status": "completed"
    },
    "tags": []
   },
   "outputs": [
    {
     "data": {
      "text/plain": [
       "<1000x247 sparse matrix of type '<class 'numpy.float64'>'\n",
       "\twith 8000 stored elements in Compressed Sparse Row format>"
      ]
     },
     "execution_count": 22,
     "metadata": {},
     "output_type": "execute_result"
    }
   ],
   "source": [
    "from sklearn.preprocessing import OneHotEncoder\n",
    "cat_encoder = OneHotEncoder()\n",
    "df2 = cat_encoder.fit_transform(df)\n",
    "df2"
   ]
  },
  {
   "cell_type": "markdown",
   "id": "8eb96521",
   "metadata": {
    "papermill": {
     "duration": 0.107512,
     "end_time": "2022-02-16T15:35:29.685013",
     "exception": false,
     "start_time": "2022-02-16T15:35:29.577501",
     "status": "completed"
    },
    "tags": []
   },
   "source": [
    "# PART 2"
   ]
  },
  {
   "cell_type": "code",
   "execution_count": 23,
   "id": "a1231a3a",
   "metadata": {
    "execution": {
     "iopub.execute_input": "2022-02-16T15:35:29.900115Z",
     "iopub.status.busy": "2022-02-16T15:35:29.899157Z",
     "iopub.status.idle": "2022-02-16T15:35:29.963279Z",
     "shell.execute_reply": "2022-02-16T15:35:29.962686Z"
    },
    "papermill": {
     "duration": 0.1728,
     "end_time": "2022-02-16T15:35:29.963420",
     "exception": false,
     "start_time": "2022-02-16T15:35:29.790620",
     "status": "completed"
    },
    "tags": []
   },
   "outputs": [],
   "source": [
    "from sklearn.model_selection import train_test_split\n",
    "train_set, test_set = train_test_split(df, test_size=0.4,\n",
    "random_state=42)"
   ]
  },
  {
   "cell_type": "code",
   "execution_count": 24,
   "id": "d5bbdc72",
   "metadata": {
    "execution": {
     "iopub.execute_input": "2022-02-16T15:35:30.181421Z",
     "iopub.status.busy": "2022-02-16T15:35:30.180580Z",
     "iopub.status.idle": "2022-02-16T15:35:30.183310Z",
     "shell.execute_reply": "2022-02-16T15:35:30.183847Z"
    },
    "papermill": {
     "duration": 0.114148,
     "end_time": "2022-02-16T15:35:30.184016",
     "exception": false,
     "start_time": "2022-02-16T15:35:30.069868",
     "status": "completed"
    },
    "tags": []
   },
   "outputs": [],
   "source": [
    "attr = train_set.drop(['math score'], axis=1)\n",
    "attr_labels = train_set['math score'].copy()"
   ]
  },
  {
   "cell_type": "code",
   "execution_count": 25,
   "id": "1f6324ed",
   "metadata": {
    "execution": {
     "iopub.execute_input": "2022-02-16T15:35:30.404276Z",
     "iopub.status.busy": "2022-02-16T15:35:30.403257Z",
     "iopub.status.idle": "2022-02-16T15:35:30.411370Z",
     "shell.execute_reply": "2022-02-16T15:35:30.411870Z"
    },
    "papermill": {
     "duration": 0.121047,
     "end_time": "2022-02-16T15:35:30.412040",
     "exception": false,
     "start_time": "2022-02-16T15:35:30.290993",
     "status": "completed"
    },
    "tags": []
   },
   "outputs": [
    {
     "data": {
      "text/plain": [
       "<600x152 sparse matrix of type '<class 'numpy.float64'>'\n",
       "\twith 4200 stored elements in Compressed Sparse Row format>"
      ]
     },
     "execution_count": 25,
     "metadata": {},
     "output_type": "execute_result"
    }
   ],
   "source": [
    "from sklearn.preprocessing import OneHotEncoder\n",
    "cat_encoder = OneHotEncoder()\n",
    "attr_1hot = cat_encoder.fit_transform(attr)\n",
    "attr_1hot"
   ]
  },
  {
   "cell_type": "code",
   "execution_count": 26,
   "id": "6086276f",
   "metadata": {
    "execution": {
     "iopub.execute_input": "2022-02-16T15:35:30.635067Z",
     "iopub.status.busy": "2022-02-16T15:35:30.634036Z",
     "iopub.status.idle": "2022-02-16T15:35:30.653952Z",
     "shell.execute_reply": "2022-02-16T15:35:30.653356Z"
    },
    "papermill": {
     "duration": 0.1318,
     "end_time": "2022-02-16T15:35:30.654129",
     "exception": false,
     "start_time": "2022-02-16T15:35:30.522329",
     "status": "completed"
    },
    "tags": []
   },
   "outputs": [],
   "source": [
    "from sklearn.compose import ColumnTransformer\n",
    "cat_attribs = ['gender','race/ethnicity','parental level of education','lunch','test preparation course']\n",
    "full_pipeline = ColumnTransformer([\n",
    "(\"cat\", OneHotEncoder(), cat_attribs),\n",
    "])\n",
    "attr_prepared = full_pipeline.fit_transform(attr)"
   ]
  },
  {
   "cell_type": "code",
   "execution_count": 27,
   "id": "8089206a",
   "metadata": {
    "execution": {
     "iopub.execute_input": "2022-02-16T15:35:30.876573Z",
     "iopub.status.busy": "2022-02-16T15:35:30.875895Z",
     "iopub.status.idle": "2022-02-16T15:35:30.961968Z",
     "shell.execute_reply": "2022-02-16T15:35:30.962561Z"
    },
    "papermill": {
     "duration": 0.201432,
     "end_time": "2022-02-16T15:35:30.962775",
     "exception": false,
     "start_time": "2022-02-16T15:35:30.761343",
     "status": "completed"
    },
    "tags": []
   },
   "outputs": [
    {
     "data": {
      "text/plain": [
       "LinearRegression()"
      ]
     },
     "execution_count": 27,
     "metadata": {},
     "output_type": "execute_result"
    }
   ],
   "source": [
    "from sklearn.linear_model import LinearRegression\n",
    "lin_reg = LinearRegression()\n",
    "lin_reg.fit(attr_prepared, attr_labels)"
   ]
  },
  {
   "cell_type": "code",
   "execution_count": 28,
   "id": "52704416",
   "metadata": {
    "execution": {
     "iopub.execute_input": "2022-02-16T15:35:31.182298Z",
     "iopub.status.busy": "2022-02-16T15:35:31.181551Z",
     "iopub.status.idle": "2022-02-16T15:35:31.192993Z",
     "shell.execute_reply": "2022-02-16T15:35:31.193724Z"
    },
    "papermill": {
     "duration": 0.123284,
     "end_time": "2022-02-16T15:35:31.194125",
     "exception": false,
     "start_time": "2022-02-16T15:35:31.070841",
     "status": "completed"
    },
    "tags": []
   },
   "outputs": [
    {
     "name": "stdout",
     "output_type": "stream",
     "text": [
      "Predictions: [69.26745097 58.88017182 74.78378186 63.28822394 73.95874962]\n",
      "Labels: [74, 72, 97, 47, 95]\n"
     ]
    }
   ],
   "source": [
    "some_data = attr.iloc[:5]\n",
    "some_labels = attr_labels.iloc[:5]\n",
    "some_data_prepared = full_pipeline.transform(some_data)\n",
    "print(\"Predictions:\", lin_reg.predict(some_data_prepared))\n",
    "print(\"Labels:\", list(some_labels))"
   ]
  },
  {
   "cell_type": "code",
   "execution_count": 29,
   "id": "aeae0243",
   "metadata": {
    "execution": {
     "iopub.execute_input": "2022-02-16T15:35:31.429555Z",
     "iopub.status.busy": "2022-02-16T15:35:31.428691Z",
     "iopub.status.idle": "2022-02-16T15:35:31.432115Z",
     "shell.execute_reply": "2022-02-16T15:35:31.432594Z"
    },
    "papermill": {
     "duration": 0.12751,
     "end_time": "2022-02-16T15:35:31.432803",
     "exception": false,
     "start_time": "2022-02-16T15:35:31.305293",
     "status": "completed"
    },
    "tags": []
   },
   "outputs": [
    {
     "data": {
      "text/plain": [
       "12.79411194692681"
      ]
     },
     "execution_count": 29,
     "metadata": {},
     "output_type": "execute_result"
    }
   ],
   "source": [
    "from sklearn.metrics import mean_squared_error\n",
    "attr_predictions = lin_reg.predict(attr_prepared)\n",
    "lin_mse = mean_squared_error(attr_labels, attr_predictions)\n",
    "lin_rmse = np.sqrt(lin_mse)\n",
    "lin_rmse"
   ]
  },
  {
   "cell_type": "code",
   "execution_count": 30,
   "id": "fc9d1401",
   "metadata": {
    "execution": {
     "iopub.execute_input": "2022-02-16T15:35:31.656408Z",
     "iopub.status.busy": "2022-02-16T15:35:31.655746Z",
     "iopub.status.idle": "2022-02-16T15:35:31.756769Z",
     "shell.execute_reply": "2022-02-16T15:35:31.756152Z"
    },
    "papermill": {
     "duration": 0.214998,
     "end_time": "2022-02-16T15:35:31.756934",
     "exception": false,
     "start_time": "2022-02-16T15:35:31.541936",
     "status": "completed"
    },
    "tags": []
   },
   "outputs": [
    {
     "data": {
      "text/plain": [
       "DecisionTreeRegressor()"
      ]
     },
     "execution_count": 30,
     "metadata": {},
     "output_type": "execute_result"
    }
   ],
   "source": [
    "from sklearn.tree import DecisionTreeRegressor\n",
    "tree_reg = DecisionTreeRegressor()\n",
    "tree_reg.fit(attr_prepared, attr_labels)"
   ]
  },
  {
   "cell_type": "code",
   "execution_count": 31,
   "id": "7241f881",
   "metadata": {
    "execution": {
     "iopub.execute_input": "2022-02-16T15:35:31.982828Z",
     "iopub.status.busy": "2022-02-16T15:35:31.982101Z",
     "iopub.status.idle": "2022-02-16T15:35:31.987695Z",
     "shell.execute_reply": "2022-02-16T15:35:31.988188Z"
    },
    "papermill": {
     "duration": 0.121241,
     "end_time": "2022-02-16T15:35:31.988393",
     "exception": false,
     "start_time": "2022-02-16T15:35:31.867152",
     "status": "completed"
    },
    "tags": []
   },
   "outputs": [
    {
     "data": {
      "text/plain": [
       "10.87436683012988"
      ]
     },
     "execution_count": 31,
     "metadata": {},
     "output_type": "execute_result"
    }
   ],
   "source": [
    "attr_predictions = tree_reg.predict(attr_prepared)\n",
    "tree_mse = mean_squared_error(attr_labels, attr_predictions)\n",
    "tree_rmse = np.sqrt(tree_mse)\n",
    "tree_rmse"
   ]
  },
  {
   "cell_type": "code",
   "execution_count": 32,
   "id": "213bc34b",
   "metadata": {
    "execution": {
     "iopub.execute_input": "2022-02-16T15:35:32.222182Z",
     "iopub.status.busy": "2022-02-16T15:35:32.221460Z",
     "iopub.status.idle": "2022-02-16T15:35:32.264793Z",
     "shell.execute_reply": "2022-02-16T15:35:32.265312Z"
    },
    "papermill": {
     "duration": 0.163183,
     "end_time": "2022-02-16T15:35:32.265503",
     "exception": false,
     "start_time": "2022-02-16T15:35:32.102320",
     "status": "completed"
    },
    "tags": []
   },
   "outputs": [],
   "source": [
    "from sklearn.model_selection import cross_val_score\n",
    "scores = cross_val_score(tree_reg, attr_prepared, attr_labels,\n",
    "scoring=\"neg_mean_squared_error\", cv=10)\n",
    "tree_rmse_scores = np.sqrt(-scores)"
   ]
  },
  {
   "cell_type": "code",
   "execution_count": 33,
   "id": "40ae8608",
   "metadata": {
    "execution": {
     "iopub.execute_input": "2022-02-16T15:35:32.521604Z",
     "iopub.status.busy": "2022-02-16T15:35:32.520861Z",
     "iopub.status.idle": "2022-02-16T15:35:32.525522Z",
     "shell.execute_reply": "2022-02-16T15:35:32.526608Z"
    },
    "papermill": {
     "duration": 0.142105,
     "end_time": "2022-02-16T15:35:32.526995",
     "exception": false,
     "start_time": "2022-02-16T15:35:32.384890",
     "status": "completed"
    },
    "tags": []
   },
   "outputs": [
    {
     "name": "stdout",
     "output_type": "stream",
     "text": [
      "Scores: [16.25694121 15.14376247 16.03607882 15.29211899 12.82204536 15.46085504\n",
      " 17.05363799 13.85868407 17.34177713 16.98892929]\n",
      "Mean: 15.625483037687786\n",
      "Standard deviation: 1.3697713694886964\n"
     ]
    }
   ],
   "source": [
    "def display_scores(scores):\n",
    "    print(\"Scores:\", scores)\n",
    "    print(\"Mean:\", scores.mean())\n",
    "    print(\"Standard deviation:\", scores.std())\n",
    "\n",
    "display_scores(tree_rmse_scores)"
   ]
  },
  {
   "cell_type": "code",
   "execution_count": 34,
   "id": "5f0d7826",
   "metadata": {
    "execution": {
     "iopub.execute_input": "2022-02-16T15:35:32.765907Z",
     "iopub.status.busy": "2022-02-16T15:35:32.765232Z",
     "iopub.status.idle": "2022-02-16T15:35:32.821216Z",
     "shell.execute_reply": "2022-02-16T15:35:32.821740Z"
    },
    "papermill": {
     "duration": 0.179558,
     "end_time": "2022-02-16T15:35:32.821950",
     "exception": false,
     "start_time": "2022-02-16T15:35:32.642392",
     "status": "completed"
    },
    "tags": []
   },
   "outputs": [
    {
     "name": "stdout",
     "output_type": "stream",
     "text": [
      "Scores: [12.30466409 12.4481971  14.17072954 14.22088042 11.19158963 12.4242949\n",
      " 14.24155358 11.96889056 13.64973123 13.93500261]\n",
      "Mean: 13.055553366929985\n",
      "Standard deviation: 1.054565326435831\n"
     ]
    }
   ],
   "source": [
    "lin_scores = cross_val_score(lin_reg, attr_prepared, attr_labels,\n",
    "scoring=\"neg_mean_squared_error\", cv=10)\n",
    "\n",
    "lin_rmse_scores = np.sqrt(-lin_scores)\n",
    "display_scores(lin_rmse_scores)"
   ]
  },
  {
   "cell_type": "code",
   "execution_count": 35,
   "id": "56b8bca0",
   "metadata": {
    "execution": {
     "iopub.execute_input": "2022-02-16T15:35:33.053422Z",
     "iopub.status.busy": "2022-02-16T15:35:33.052731Z",
     "iopub.status.idle": "2022-02-16T15:35:33.379871Z",
     "shell.execute_reply": "2022-02-16T15:35:33.379183Z"
    },
    "papermill": {
     "duration": 0.44474,
     "end_time": "2022-02-16T15:35:33.380040",
     "exception": false,
     "start_time": "2022-02-16T15:35:32.935300",
     "status": "completed"
    },
    "tags": []
   },
   "outputs": [
    {
     "data": {
      "text/plain": [
       "RandomForestRegressor()"
      ]
     },
     "execution_count": 35,
     "metadata": {},
     "output_type": "execute_result"
    }
   ],
   "source": [
    "from sklearn.ensemble import RandomForestRegressor\n",
    "forest_reg = RandomForestRegressor()\n",
    "forest_reg.fit(attr_prepared, attr_labels)"
   ]
  },
  {
   "cell_type": "code",
   "execution_count": 36,
   "id": "9da42cf4",
   "metadata": {
    "execution": {
     "iopub.execute_input": "2022-02-16T15:35:33.609394Z",
     "iopub.status.busy": "2022-02-16T15:35:33.608378Z",
     "iopub.status.idle": "2022-02-16T15:35:33.630406Z",
     "shell.execute_reply": "2022-02-16T15:35:33.630869Z"
    },
    "papermill": {
     "duration": 0.138744,
     "end_time": "2022-02-16T15:35:33.631077",
     "exception": false,
     "start_time": "2022-02-16T15:35:33.492333",
     "status": "completed"
    },
    "tags": []
   },
   "outputs": [
    {
     "data": {
      "text/plain": [
       "10.995952531168903"
      ]
     },
     "execution_count": 36,
     "metadata": {},
     "output_type": "execute_result"
    }
   ],
   "source": [
    "attr_predictions = forest_reg.predict(attr_prepared)\n",
    "forest_mse = mean_squared_error(attr_labels, attr_predictions)\n",
    "forest_rmse = np.sqrt(forest_mse)\n",
    "forest_rmse"
   ]
  },
  {
   "cell_type": "code",
   "execution_count": 37,
   "id": "768e221a",
   "metadata": {
    "execution": {
     "iopub.execute_input": "2022-02-16T15:35:33.907227Z",
     "iopub.status.busy": "2022-02-16T15:35:33.869849Z",
     "iopub.status.idle": "2022-02-16T15:35:36.732806Z",
     "shell.execute_reply": "2022-02-16T15:35:36.731962Z"
    },
    "papermill": {
     "duration": 2.98432,
     "end_time": "2022-02-16T15:35:36.733006",
     "exception": false,
     "start_time": "2022-02-16T15:35:33.748686",
     "status": "completed"
    },
    "tags": []
   },
   "outputs": [
    {
     "name": "stdout",
     "output_type": "stream",
     "text": [
      "Scores: [14.46357558 14.25904933 15.51427077 15.0748146  12.15420524 14.19491806\n",
      " 15.80460027 13.46198557 15.84418554 15.99132096]\n",
      "Mean: 14.676292591898953\n",
      "Standard deviation: 1.162493315057764\n"
     ]
    }
   ],
   "source": [
    "scores = cross_val_score(forest_reg, attr_prepared, attr_labels,\n",
    "scoring=\"neg_mean_squared_error\", cv=10)\n",
    "forest_rmse_scores = np.sqrt(-scores)\n",
    "display_scores(forest_rmse_scores)"
   ]
  },
  {
   "cell_type": "code",
   "execution_count": 38,
   "id": "658fdf6c",
   "metadata": {
    "execution": {
     "iopub.execute_input": "2022-02-16T15:35:36.968165Z",
     "iopub.status.busy": "2022-02-16T15:35:36.967450Z",
     "iopub.status.idle": "2022-02-16T15:35:36.975110Z",
     "shell.execute_reply": "2022-02-16T15:35:36.975711Z"
    },
    "papermill": {
     "duration": 0.12818,
     "end_time": "2022-02-16T15:35:36.975880",
     "exception": false,
     "start_time": "2022-02-16T15:35:36.847700",
     "status": "completed"
    },
    "tags": []
   },
   "outputs": [
    {
     "data": {
      "text/plain": [
       "\"\\nforest_reg = RandomForestRegressor()\\ngrid_search = GridSearchCV(forest_reg, param_grid, cv=5,\\nscoring='neg_mean_squared_error',\\nreturn_train_score=True)\\ngrid_search.fit(attr_prepared, attr_labels)\\ngrid_search.best_params_\\n\""
      ]
     },
     "execution_count": 38,
     "metadata": {},
     "output_type": "execute_result"
    }
   ],
   "source": [
    "from sklearn.model_selection import GridSearchCV\n",
    "param_grid = [\n",
    "{'n_estimators': [3, 10, 20, 50], 'max_features': [2, 4, 6, 8, 10, 12]},\n",
    "{'bootstrap': [False], 'n_estimators': [3, 10,20,50,60,70], 'max_features': [2, 3,6,8,9,10,15]},\n",
    "]\n",
    "'''\n",
    "forest_reg = RandomForestRegressor()\n",
    "grid_search = GridSearchCV(forest_reg, param_grid, cv=5,\n",
    "scoring='neg_mean_squared_error',\n",
    "return_train_score=True)\n",
    "grid_search.fit(attr_prepared, attr_labels)\n",
    "grid_search.best_params_\n",
    "'''"
   ]
  },
  {
   "cell_type": "code",
   "execution_count": 39,
   "id": "6370e3f8",
   "metadata": {
    "execution": {
     "iopub.execute_input": "2022-02-16T15:35:37.209041Z",
     "iopub.status.busy": "2022-02-16T15:35:37.208156Z",
     "iopub.status.idle": "2022-02-16T15:35:37.211916Z",
     "shell.execute_reply": "2022-02-16T15:35:37.211366Z"
    },
    "papermill": {
     "duration": 0.122636,
     "end_time": "2022-02-16T15:35:37.212072",
     "exception": false,
     "start_time": "2022-02-16T15:35:37.089436",
     "status": "completed"
    },
    "tags": []
   },
   "outputs": [],
   "source": [
    "#grid_search.best_estimator_"
   ]
  },
  {
   "cell_type": "code",
   "execution_count": 40,
   "id": "26348cae",
   "metadata": {
    "execution": {
     "iopub.execute_input": "2022-02-16T15:35:37.447479Z",
     "iopub.status.busy": "2022-02-16T15:35:37.446802Z",
     "iopub.status.idle": "2022-02-16T15:35:37.457821Z",
     "shell.execute_reply": "2022-02-16T15:35:37.458280Z"
    },
    "papermill": {
     "duration": 0.129648,
     "end_time": "2022-02-16T15:35:37.458457",
     "exception": false,
     "start_time": "2022-02-16T15:35:37.328809",
     "status": "completed"
    },
    "tags": []
   },
   "outputs": [],
   "source": [
    "final_model = lin_reg\n",
    "X_test = test_set.drop(['math score'], axis=1)\n",
    "y_test = test_set['math score'].copy()\n",
    "X_test_prepared = full_pipeline.transform(X_test)\n",
    "final_predictions = final_model.predict(X_test_prepared)\n",
    "final_mse = mean_squared_error(y_test, final_predictions)\n",
    "final_rmse = np.sqrt(final_mse) "
   ]
  },
  {
   "cell_type": "code",
   "execution_count": 41,
   "id": "3fcc5e98",
   "metadata": {
    "execution": {
     "iopub.execute_input": "2022-02-16T15:35:37.690277Z",
     "iopub.status.busy": "2022-02-16T15:35:37.689562Z",
     "iopub.status.idle": "2022-02-16T15:35:37.693787Z",
     "shell.execute_reply": "2022-02-16T15:35:37.694342Z"
    },
    "papermill": {
     "duration": 0.122459,
     "end_time": "2022-02-16T15:35:37.694524",
     "exception": false,
     "start_time": "2022-02-16T15:35:37.572065",
     "status": "completed"
    },
    "tags": []
   },
   "outputs": [
    {
     "data": {
      "text/plain": [
       "13.647286744334986"
      ]
     },
     "execution_count": 41,
     "metadata": {},
     "output_type": "execute_result"
    }
   ],
   "source": [
    "final_rmse"
   ]
  },
  {
   "cell_type": "code",
   "execution_count": 42,
   "id": "b4b38b75",
   "metadata": {
    "execution": {
     "iopub.execute_input": "2022-02-16T15:35:37.934873Z",
     "iopub.status.busy": "2022-02-16T15:35:37.934191Z",
     "iopub.status.idle": "2022-02-16T15:35:37.943184Z",
     "shell.execute_reply": "2022-02-16T15:35:37.943743Z"
    },
    "papermill": {
     "duration": 0.130272,
     "end_time": "2022-02-16T15:35:37.943972",
     "exception": false,
     "start_time": "2022-02-16T15:35:37.813700",
     "status": "completed"
    },
    "tags": []
   },
   "outputs": [
    {
     "data": {
      "text/plain": [
       "array([66., 59., 76., 60., 84., 62., 63., 66., 60., 71., 54., 76., 53.,\n",
       "       57., 78., 70., 68., 64., 65., 57., 72., 63., 61., 50., 63., 73.,\n",
       "       81., 66., 54., 57., 70., 78., 61., 79., 79., 54., 62., 69., 67.,\n",
       "       52., 76., 71., 81., 66., 62., 74., 57., 62., 75., 65., 75., 68.,\n",
       "       77., 59., 63., 69., 76., 71., 69., 67., 72., 57., 66., 54., 68.,\n",
       "       63., 57., 55., 62., 68., 84., 69., 60., 54., 73., 81., 74., 58.,\n",
       "       62., 68., 62., 59., 74., 67., 72., 50., 74., 66., 68., 59., 61.,\n",
       "       74., 76., 53., 65., 73., 74., 66., 66., 60., 76., 79., 70., 55.,\n",
       "       65., 65., 79., 67., 65., 62., 60., 49., 65., 68., 56., 67., 62.,\n",
       "       73., 70., 62., 55., 56., 74., 57., 70., 70., 73., 68., 69., 73.,\n",
       "       65., 73., 59., 80., 66., 50., 74., 71., 60., 54., 63., 65., 63.,\n",
       "       68., 75., 53., 67., 70., 73., 69., 74., 69., 71., 57., 69., 74.,\n",
       "       52., 68., 75., 74., 74., 70., 74., 62., 78., 72., 60., 68., 74.,\n",
       "       64., 71., 79., 62., 62., 62., 54., 68., 61., 74., 68., 60., 50.,\n",
       "       63., 62., 80., 74., 67., 66., 67., 75., 60., 66., 60., 56., 65.,\n",
       "       57., 84., 54., 66., 70., 69., 63., 57., 61., 74., 53., 74., 71.,\n",
       "       73., 52., 66., 56., 81., 63., 65., 71., 73., 67., 74., 68., 70.,\n",
       "       63., 72., 71., 53., 66., 69., 67., 54., 76., 74., 65., 57., 63.,\n",
       "       74., 65., 71., 57., 61., 69., 59., 72., 59., 66., 84., 61., 60.,\n",
       "       78., 57., 84., 64., 66., 56., 74., 66., 52., 53., 86., 68., 64.,\n",
       "       56., 67., 79., 69., 61., 72., 79., 64., 65., 76., 54., 65., 74.,\n",
       "       72., 61., 49., 62., 57., 53., 71., 58., 63., 71., 71., 60., 71.,\n",
       "       69., 69., 68., 74., 65., 68., 69., 78., 67., 54., 62., 56., 59.,\n",
       "       72., 66., 72., 60., 63., 71., 63., 69., 75., 76., 63., 74., 71.,\n",
       "       71., 72., 65., 60., 56., 72., 52., 50., 75., 76., 71., 62., 56.,\n",
       "       65., 65., 67., 76., 72., 69., 72., 55., 68., 67., 74., 68., 71.,\n",
       "       74., 84., 73., 62., 69., 60., 68., 60., 64., 64., 69., 75., 56.,\n",
       "       75., 60., 66., 70., 62., 64., 59., 72., 74., 67., 65., 74., 61.,\n",
       "       75., 67., 58., 78., 63., 74., 61., 61., 65., 66., 70., 73., 69.,\n",
       "       57., 64., 81., 70., 56., 57., 79., 68., 53., 69., 73., 68., 70.,\n",
       "       65., 66., 71., 53., 67., 79., 63., 51., 75., 55.])"
      ]
     },
     "execution_count": 42,
     "metadata": {},
     "output_type": "execute_result"
    }
   ],
   "source": [
    "final_predictions.round()"
   ]
  },
  {
   "cell_type": "code",
   "execution_count": 43,
   "id": "a1af3102",
   "metadata": {
    "execution": {
     "iopub.execute_input": "2022-02-16T15:35:38.180589Z",
     "iopub.status.busy": "2022-02-16T15:35:38.179969Z",
     "iopub.status.idle": "2022-02-16T15:35:38.185766Z",
     "shell.execute_reply": "2022-02-16T15:35:38.186439Z"
    },
    "papermill": {
     "duration": 0.125084,
     "end_time": "2022-02-16T15:35:38.186683",
     "exception": false,
     "start_time": "2022-02-16T15:35:38.061599",
     "status": "completed"
    },
    "tags": []
   },
   "outputs": [
    {
     "data": {
      "text/plain": [
       "array([ 91,  53,  80,  74,  84,  81,  69,  54,  87,  51,  45,  30,  67,\n",
       "        49,  85,  65,  53,  55,  48,  56,  79,  43,  45,  36,  80,  80,\n",
       "        68,  40,  34,  49,  62,  71,  62,  76,  84,  45,  77,  69,  73,\n",
       "         0,  82,  65,  67,  54,  90,  59,  74,  29,  89,  75,  71,  64,\n",
       "        79,  48,  69,  69,  88,  58,  87,  85,  46,  71,  81,  58,  84,\n",
       "        66,  55,  59,  58,  82,  66,  81,  58,  37,  63,  77,  85,  57,\n",
       "        48,  51,  63,  45,  83,  60,  63,  62,  68,  60,  77,  28,  79,\n",
       "       100,  69,  66,  19,  75,  60,  58,  69,  56,  73,  66,  67,  64,\n",
       "        71,  70,  53,  75,  68,  44,  29,  71,  57,  45,  76,  61,  45,\n",
       "        55,  73,  78,  50,  62,  81,  64,  64,  73,  73,  67,  61,  67,\n",
       "        65,  80,  59,  88,  62,  33,  79,  84,  73,  41,  50,  58,  55,\n",
       "        45,  88,  46,  51,  75,  49,  75,  74,  61,  62,  68,  78,  71,\n",
       "        49,  59,  79,  51,  56,  76,  69,  51,  82,  73,  40,  93,  59,\n",
       "        73,  85,  76,  77,  67,  61,  27,  54,  65,  87,  70,  54,  66,\n",
       "        85,  56,  90,  70,  61,  49,  81,  87,  49,  68,  77,  78,  60,\n",
       "        52,  62,  74,  65,  61,  62,  66,  79,  61,  73,  30,  96,  57,\n",
       "        68,  48,  67,  59,  74,  65,  62,  47,  80,  68,  79,  89,  69,\n",
       "        53,  64,  82,  36,  90,  64,  52,  67,  51,  79,  63,  52,  40,\n",
       "        40,  63,  46,  65,  62,  90,  47,  59,  77,  52,  99,  70,  64,\n",
       "        80,  42,  97,  50,  65,  52,  59,  74,  43,  67, 100,  72,  71,\n",
       "        55,  84,  63,  63,  42,  78,  69,  80,  79,  87,  65,  51,  85,\n",
       "        47,  54,  38,  59,  60,  49,  52,  44,  70,  84,  76,  35,  96,\n",
       "        80,  81,  57,  94,  82,  70,  94,  75,  52,  77,  70,  65,  40,\n",
       "        70,  79,  67,  68,  47,  72,  57,  83,  61,  98,  61,  92,  68,\n",
       "        77,  66,  47,  65,  68,  63,  73,  42,  62,  68,  67,  49,  35,\n",
       "        68,  69,  70,  80,  75,  63,  66,  74,  44,  72,  77,  46,  72,\n",
       "        82,  62,  80,  54,  79,  87,  65,  82,  40,  93,  65,  77,  46,\n",
       "        88,  32,  39,  86,  53,  81,  41,  61,  88,  59,  81,  58,  64,\n",
       "        81,  70,  62,  77,  62,  87,  67,  62,  76,  63,  88,  72,  55,\n",
       "        61,  50,  87,  54,  22,  66,  83,  56,  54,  74,  87,  86,  66,\n",
       "        65,  58,  75,  52,  54,  82,  63,  59,  70,  59])"
      ]
     },
     "execution_count": 43,
     "metadata": {},
     "output_type": "execute_result"
    }
   ],
   "source": [
    "np.array(y_test)"
   ]
  },
  {
   "cell_type": "code",
   "execution_count": 44,
   "id": "e00ac8a4",
   "metadata": {
    "execution": {
     "iopub.execute_input": "2022-02-16T15:35:38.428491Z",
     "iopub.status.busy": "2022-02-16T15:35:38.427801Z",
     "iopub.status.idle": "2022-02-16T15:35:38.436370Z",
     "shell.execute_reply": "2022-02-16T15:35:38.435729Z"
    },
    "papermill": {
     "duration": 0.132903,
     "end_time": "2022-02-16T15:35:38.436538",
     "exception": false,
     "start_time": "2022-02-16T15:35:38.303635",
     "status": "completed"
    },
    "tags": []
   },
   "outputs": [],
   "source": [
    "def predictSubScore(sub):\n",
    "    attr = train_set.drop([sub], axis=1)\n",
    "    attr_labels = train_set[sub].copy()\n",
    "    cat_attribs = ['gender','race/ethnicity','parental level of education','lunch','test preparation course']\n",
    "    full_pipeline = ColumnTransformer([\n",
    "    (\"cat\", OneHotEncoder(), cat_attribs),\n",
    "    ])\n",
    "    attr_prepared = full_pipeline.fit_transform(attr)\n",
    "    lin_reg = LinearRegression()\n",
    "    lin_reg.fit(attr_prepared, attr_labels)\n",
    "    final_model = lin_reg\n",
    "    X_test = test_set.drop([sub], axis=1)\n",
    "    y_test = test_set[sub].copy()\n",
    "    X_test_prepared = full_pipeline.transform(X_test)\n",
    "    final_predictions = final_model.predict(X_test_prepared)\n",
    "    final_mse = mean_squared_error(y_test, final_predictions)\n",
    "    final_rmse = np.sqrt(final_mse) \n",
    "    return final_rmse,final_predictions.round(),np.array(y_test)"
   ]
  },
  {
   "cell_type": "code",
   "execution_count": 45,
   "id": "1552fc49",
   "metadata": {
    "execution": {
     "iopub.execute_input": "2022-02-16T15:35:38.684011Z",
     "iopub.status.busy": "2022-02-16T15:35:38.683301Z",
     "iopub.status.idle": "2022-02-16T15:35:38.703135Z",
     "shell.execute_reply": "2022-02-16T15:35:38.703643Z"
    },
    "papermill": {
     "duration": 0.148827,
     "end_time": "2022-02-16T15:35:38.703870",
     "exception": false,
     "start_time": "2022-02-16T15:35:38.555043",
     "status": "completed"
    },
    "tags": []
   },
   "outputs": [
    {
     "data": {
      "text/plain": [
       "(13.647286744334986,\n",
       " array([66., 59., 76., 60., 84., 62., 63., 66., 60., 71., 54., 76., 53.,\n",
       "        57., 78., 70., 68., 64., 65., 57., 72., 63., 61., 50., 63., 73.,\n",
       "        81., 66., 54., 57., 70., 78., 61., 79., 79., 54., 62., 69., 67.,\n",
       "        52., 76., 71., 81., 66., 62., 74., 57., 62., 75., 65., 75., 68.,\n",
       "        77., 59., 63., 69., 76., 71., 69., 67., 72., 57., 66., 54., 68.,\n",
       "        63., 57., 55., 62., 68., 84., 69., 60., 54., 73., 81., 74., 58.,\n",
       "        62., 68., 62., 59., 74., 67., 72., 50., 74., 66., 68., 59., 61.,\n",
       "        74., 76., 53., 65., 73., 74., 66., 66., 60., 76., 79., 70., 55.,\n",
       "        65., 65., 79., 67., 65., 62., 60., 49., 65., 68., 56., 67., 62.,\n",
       "        73., 70., 62., 55., 56., 74., 57., 70., 70., 73., 68., 69., 73.,\n",
       "        65., 73., 59., 80., 66., 50., 74., 71., 60., 54., 63., 65., 63.,\n",
       "        68., 75., 53., 67., 70., 73., 69., 74., 69., 71., 57., 69., 74.,\n",
       "        52., 68., 75., 74., 74., 70., 74., 62., 78., 72., 60., 68., 74.,\n",
       "        64., 71., 79., 62., 62., 62., 54., 68., 61., 74., 68., 60., 50.,\n",
       "        63., 62., 80., 74., 67., 66., 67., 75., 60., 66., 60., 56., 65.,\n",
       "        57., 84., 54., 66., 70., 69., 63., 57., 61., 74., 53., 74., 71.,\n",
       "        73., 52., 66., 56., 81., 63., 65., 71., 73., 67., 74., 68., 70.,\n",
       "        63., 72., 71., 53., 66., 69., 67., 54., 76., 74., 65., 57., 63.,\n",
       "        74., 65., 71., 57., 61., 69., 59., 72., 59., 66., 84., 61., 60.,\n",
       "        78., 57., 84., 64., 66., 56., 74., 66., 52., 53., 86., 68., 64.,\n",
       "        56., 67., 79., 69., 61., 72., 79., 64., 65., 76., 54., 65., 74.,\n",
       "        72., 61., 49., 62., 57., 53., 71., 58., 63., 71., 71., 60., 71.,\n",
       "        69., 69., 68., 74., 65., 68., 69., 78., 67., 54., 62., 56., 59.,\n",
       "        72., 66., 72., 60., 63., 71., 63., 69., 75., 76., 63., 74., 71.,\n",
       "        71., 72., 65., 60., 56., 72., 52., 50., 75., 76., 71., 62., 56.,\n",
       "        65., 65., 67., 76., 72., 69., 72., 55., 68., 67., 74., 68., 71.,\n",
       "        74., 84., 73., 62., 69., 60., 68., 60., 64., 64., 69., 75., 56.,\n",
       "        75., 60., 66., 70., 62., 64., 59., 72., 74., 67., 65., 74., 61.,\n",
       "        75., 67., 58., 78., 63., 74., 61., 61., 65., 66., 70., 73., 69.,\n",
       "        57., 64., 81., 70., 56., 57., 79., 68., 53., 69., 73., 68., 70.,\n",
       "        65., 66., 71., 53., 67., 79., 63., 51., 75., 55.]),\n",
       " array([ 91,  53,  80,  74,  84,  81,  69,  54,  87,  51,  45,  30,  67,\n",
       "         49,  85,  65,  53,  55,  48,  56,  79,  43,  45,  36,  80,  80,\n",
       "         68,  40,  34,  49,  62,  71,  62,  76,  84,  45,  77,  69,  73,\n",
       "          0,  82,  65,  67,  54,  90,  59,  74,  29,  89,  75,  71,  64,\n",
       "         79,  48,  69,  69,  88,  58,  87,  85,  46,  71,  81,  58,  84,\n",
       "         66,  55,  59,  58,  82,  66,  81,  58,  37,  63,  77,  85,  57,\n",
       "         48,  51,  63,  45,  83,  60,  63,  62,  68,  60,  77,  28,  79,\n",
       "        100,  69,  66,  19,  75,  60,  58,  69,  56,  73,  66,  67,  64,\n",
       "         71,  70,  53,  75,  68,  44,  29,  71,  57,  45,  76,  61,  45,\n",
       "         55,  73,  78,  50,  62,  81,  64,  64,  73,  73,  67,  61,  67,\n",
       "         65,  80,  59,  88,  62,  33,  79,  84,  73,  41,  50,  58,  55,\n",
       "         45,  88,  46,  51,  75,  49,  75,  74,  61,  62,  68,  78,  71,\n",
       "         49,  59,  79,  51,  56,  76,  69,  51,  82,  73,  40,  93,  59,\n",
       "         73,  85,  76,  77,  67,  61,  27,  54,  65,  87,  70,  54,  66,\n",
       "         85,  56,  90,  70,  61,  49,  81,  87,  49,  68,  77,  78,  60,\n",
       "         52,  62,  74,  65,  61,  62,  66,  79,  61,  73,  30,  96,  57,\n",
       "         68,  48,  67,  59,  74,  65,  62,  47,  80,  68,  79,  89,  69,\n",
       "         53,  64,  82,  36,  90,  64,  52,  67,  51,  79,  63,  52,  40,\n",
       "         40,  63,  46,  65,  62,  90,  47,  59,  77,  52,  99,  70,  64,\n",
       "         80,  42,  97,  50,  65,  52,  59,  74,  43,  67, 100,  72,  71,\n",
       "         55,  84,  63,  63,  42,  78,  69,  80,  79,  87,  65,  51,  85,\n",
       "         47,  54,  38,  59,  60,  49,  52,  44,  70,  84,  76,  35,  96,\n",
       "         80,  81,  57,  94,  82,  70,  94,  75,  52,  77,  70,  65,  40,\n",
       "         70,  79,  67,  68,  47,  72,  57,  83,  61,  98,  61,  92,  68,\n",
       "         77,  66,  47,  65,  68,  63,  73,  42,  62,  68,  67,  49,  35,\n",
       "         68,  69,  70,  80,  75,  63,  66,  74,  44,  72,  77,  46,  72,\n",
       "         82,  62,  80,  54,  79,  87,  65,  82,  40,  93,  65,  77,  46,\n",
       "         88,  32,  39,  86,  53,  81,  41,  61,  88,  59,  81,  58,  64,\n",
       "         81,  70,  62,  77,  62,  87,  67,  62,  76,  63,  88,  72,  55,\n",
       "         61,  50,  87,  54,  22,  66,  83,  56,  54,  74,  87,  86,  66,\n",
       "         65,  58,  75,  52,  54,  82,  63,  59,  70,  59]))"
      ]
     },
     "execution_count": 45,
     "metadata": {},
     "output_type": "execute_result"
    }
   ],
   "source": [
    "predictSubScore('math score')"
   ]
  },
  {
   "cell_type": "code",
   "execution_count": 46,
   "id": "a15f090f",
   "metadata": {
    "execution": {
     "iopub.execute_input": "2022-02-16T15:35:38.944539Z",
     "iopub.status.busy": "2022-02-16T15:35:38.943923Z",
     "iopub.status.idle": "2022-02-16T15:35:38.968872Z",
     "shell.execute_reply": "2022-02-16T15:35:38.969364Z"
    },
    "papermill": {
     "duration": 0.145957,
     "end_time": "2022-02-16T15:35:38.969556",
     "exception": false,
     "start_time": "2022-02-16T15:35:38.823599",
     "status": "completed"
    },
    "tags": []
   },
   "outputs": [
    {
     "data": {
      "text/plain": [
       "(13.529331662228405,\n",
       " array([74., 70., 72., 59., 77., 61., 64., 76., 59., 69., 53., 68., 66.,\n",
       "        67., 75., 80., 64., 64., 73., 68., 69., 76., 72., 61., 65., 69.,\n",
       "        78., 74., 66., 67., 65., 75., 60., 70., 70., 64., 61., 75., 76.,\n",
       "        64., 74., 69., 78., 72., 61., 79., 56., 69., 73., 74., 71., 75.,\n",
       "        73., 70., 72., 75., 72., 67., 65., 76., 70., 70., 74., 64., 70.,\n",
       "        76., 67., 55., 74., 75., 77., 77., 59., 64., 71., 75., 82., 57.,\n",
       "        70., 65., 61., 59., 70., 74., 68., 61., 82., 76., 78., 57., 62.,\n",
       "        77., 72., 52., 71., 69., 68., 72., 74., 73., 74., 70., 65., 66.,\n",
       "        60., 60., 70., 62., 73., 69., 71., 59., 60., 75., 66., 62., 64.,\n",
       "        70., 67., 63., 66., 66., 71., 70., 80., 66., 82., 78., 65., 71.,\n",
       "        73., 69., 59., 86., 74., 61., 83., 69., 60., 64., 69., 73., 65.,\n",
       "        64., 73., 64., 63., 66., 69., 72., 79., 78., 67., 57., 77., 77.,\n",
       "        63., 75., 72., 77., 83., 67., 82., 64., 75., 67., 61., 62., 83.,\n",
       "        72., 69., 70., 74., 74., 61., 65., 64., 75., 77., 78., 67., 61.,\n",
       "        76., 64., 72., 66., 75., 67., 62., 71., 62., 63., 59., 67., 66.,\n",
       "        69., 77., 64., 74., 80., 77., 76., 67., 62., 66., 52., 83., 80.,\n",
       "        70., 64., 63., 66., 75., 72., 71., 67., 69., 62., 82., 64., 65.,\n",
       "        69., 80., 69., 52., 74., 77., 75., 65., 74., 68., 60., 68., 64.,\n",
       "        68., 71., 67., 70., 69., 65., 58., 67., 73., 74., 77., 69., 59.,\n",
       "        75., 56., 77., 64., 76., 68., 77., 63., 64., 66., 80., 64., 72.,\n",
       "        55., 74., 83., 77., 72., 69., 70., 72., 60., 74., 64., 73., 71.,\n",
       "        70., 62., 59., 64., 56., 52., 80., 69., 69., 67., 67., 59., 80.,\n",
       "        75., 65., 64., 66., 60., 64., 78., 75., 74., 66., 61., 55., 57.,\n",
       "        80., 67., 80., 59., 76., 78., 71., 77., 72., 74., 76., 83., 80.,\n",
       "        75., 67., 60., 59., 55., 80., 63., 61., 79., 85., 80., 61., 66.,\n",
       "        60., 73., 62., 81., 80., 75., 68., 68., 78., 75., 84., 64., 69.,\n",
       "        71., 77., 69., 69., 75., 67., 78., 73., 72., 77., 77., 73., 66.,\n",
       "        71., 67., 74., 66., 64., 64., 57., 67., 68., 76., 73., 70., 72.,\n",
       "        79., 62., 69., 75., 70., 77., 72., 61., 73., 74., 78., 69., 77.,\n",
       "        57., 64., 75., 65., 66., 56., 77., 77., 64., 77., 69., 65., 65.,\n",
       "        66., 74., 80., 64., 74., 84., 72., 62., 72., 68.]),\n",
       " array([ 86,  66,  73,  77,  83,  75,  70,  61,  73,  54,  47,  26,  80,\n",
       "         65,  81,  78,  52,  46,  58,  65,  72,  51,  73,  53,  79,  75,\n",
       "         74,  59,  48,  58,  61,  61,  63,  71,  77,  53,  78,  77,  78,\n",
       "         17,  75,  66,  61,  63,  87,  63,  70,  29,  88,  82,  75,  76,\n",
       "         79,  56,  73,  74,  78,  54,  85,  90,  41,  84,  77,  61,  89,\n",
       "         74,  71,  53,  63,  95,  63,  88,  57,  57,  60,  76,  86,  56,\n",
       "         66,  52,  61,  37,  78,  72,  71,  67,  78,  70,  90,  23,  81,\n",
       "         92,  58,  77,  38,  68,  63,  70,  80,  68,  78,  57,  57,  73,\n",
       "         74,  65,  45,  81,  83,  61,  41,  87,  51,  59,  83,  56,  52,\n",
       "         41,  69,  77,  67,  67,  81,  79,  60,  66,  75,  74,  42,  73,\n",
       "         82,  75,  42,  99,  74,  41,  92,  83,  74,  51,  56,  70,  59,\n",
       "         48,  74,  61,  31,  74,  52,  86,  79,  86,  65,  63,  91,  70,\n",
       "         57,  72,  74,  51,  79,  62,  79,  56,  82,  74,  46,  90,  64,\n",
       "         76,  84,  71,  89,  86,  47,  34,  52,  81,  94,  82,  64,  76,\n",
       "         95,  61,  85,  55,  72,  58,  66,  84,  50,  54,  67,  79,  51,\n",
       "         57,  56,  81,  77,  74,  70,  83,  89,  67,  64,  24, 100,  77,\n",
       "         64,  58,  64,  62,  64,  69,  67,  37,  63,  60,  84,  87,  67,\n",
       "         58,  82,  84,  29,  95,  63,  65,  84,  60,  73,  63,  59,  55,\n",
       "         42,  65,  43,  76,  64,  78,  57,  41,  97,  55,  87,  64,  66,\n",
       "         78,  39,  82,  47,  82,  65,  62,  63,  53,  78, 100,  66,  83,\n",
       "         46,  87,  72,  75,  66,  74,  60,  86,  60, 100,  85,  63,  84,\n",
       "         49,  59,  60,  69,  57,  45,  59,  63,  84,  80,  70,  28,  96,\n",
       "         90,  73,  50,  73,  82,  70,  87,  58,  58,  88,  63,  59,  43,\n",
       "         89,  82,  81,  68,  58,  79,  75,  93,  51,  87,  71, 100,  67,\n",
       "         79,  59,  46,  58,  72,  78,  92,  62,  68,  75,  84,  57,  44,\n",
       "         70,  76,  74,  85,  81,  64,  60,  90,  51,  72,  82,  34,  67,\n",
       "         84,  61,  68,  59,  86,  95,  74,  93,  48, 100,  72,  68,  64,\n",
       "         85,  34,  64,  73,  37,  78,  39,  61,  73,  85,  97,  55,  85,\n",
       "         92,  70,  78,  62,  64,  85,  75,  72,  72,  67,  95,  79,  64,\n",
       "         57,  42,  84,  52,  39,  74,  82,  68,  65,  79,  74,  81,  65,\n",
       "         67,  73,  82,  76,  64,  85,  73,  73,  68,  71]))"
      ]
     },
     "execution_count": 46,
     "metadata": {},
     "output_type": "execute_result"
    }
   ],
   "source": [
    "predictSubScore('reading score')"
   ]
  },
  {
   "cell_type": "code",
   "execution_count": 47,
   "id": "80af99f5",
   "metadata": {
    "execution": {
     "iopub.execute_input": "2022-02-16T15:35:39.209596Z",
     "iopub.status.busy": "2022-02-16T15:35:39.208913Z",
     "iopub.status.idle": "2022-02-16T15:35:39.234117Z",
     "shell.execute_reply": "2022-02-16T15:35:39.234619Z"
    },
    "papermill": {
     "duration": 0.146265,
     "end_time": "2022-02-16T15:35:39.234838",
     "exception": false,
     "start_time": "2022-02-16T15:35:39.088573",
     "status": "completed"
    },
    "tags": []
   },
   "outputs": [
    {
     "data": {
      "text/plain": [
       "(12.943216760213023,\n",
       " array([73., 72., 71., 56., 76., 59., 63., 76., 56., 68., 47., 63., 66.,\n",
       "        67., 77., 81., 61., 63., 72., 67., 67., 78., 74., 59., 64., 67.,\n",
       "        81., 73., 65., 67., 62., 77., 58., 67., 67., 62., 59., 76., 76.,\n",
       "        61., 74., 68., 81., 70., 59., 79., 53., 67., 73., 74., 72., 76.,\n",
       "        74., 72., 69., 76., 71., 65., 62., 76., 67., 70., 73., 62., 71.,\n",
       "        78., 67., 50., 77., 76., 76., 77., 56., 62., 70., 72., 85., 54.,\n",
       "        66., 61., 59., 55., 69., 73., 66., 59., 85., 76., 79., 53., 59.,\n",
       "        75., 71., 48., 71., 67., 67., 70., 73., 74., 74., 67., 62., 65.,\n",
       "        56., 56., 67., 59., 74., 67., 71., 56., 56., 74., 65., 59., 62.,\n",
       "        71., 66., 62., 64., 65., 70., 70., 81., 63., 85., 79., 62., 70.,\n",
       "        72., 67., 55., 87., 73., 59., 87., 68., 56., 62., 67., 74., 64.,\n",
       "        61., 73., 62., 58., 63., 68., 69., 79., 80., 65., 52., 78., 75.,\n",
       "        61., 74., 72., 75., 87., 66., 85., 62., 77., 65., 60., 58., 87.,\n",
       "        71., 68., 67., 77., 77., 59., 63., 61., 77., 75., 79., 65., 59.,\n",
       "        79., 62., 69., 61., 75., 67., 59., 72., 59., 58., 56., 66., 66.,\n",
       "        71., 76., 62., 73., 81., 78., 78., 67., 59., 61., 48., 87., 83.,\n",
       "        71., 61., 58., 65., 72., 69., 71., 65., 67., 59., 85., 61., 62.,\n",
       "        67., 83., 68., 48., 73., 78., 75., 63., 74., 67., 56., 67., 63.,\n",
       "        67., 71., 65., 70., 67., 62., 53., 65., 74., 73., 76., 67., 56.,\n",
       "        75., 53., 76., 63., 76., 67., 75., 58., 61., 66., 80., 61., 71.,\n",
       "        49., 73., 85., 77., 74., 68., 67., 71., 56., 74., 62., 72., 70.,\n",
       "        67., 59., 56., 62., 53., 48., 83., 69., 67., 65., 65., 56., 83.,\n",
       "        76., 62., 61., 61., 56., 61., 80., 75., 73., 65., 59., 49., 54.,\n",
       "        83., 68., 83., 56., 79., 80., 70., 77., 71., 74., 79., 87., 83.,\n",
       "        71., 65., 56., 56., 49., 83., 61., 59., 78., 89., 83., 59., 65.,\n",
       "        56., 74., 59., 81., 83., 76., 66., 68., 79., 75., 88., 61., 68.,\n",
       "        72., 76., 67., 67., 76., 65., 79., 74., 71., 81., 77., 73., 65.,\n",
       "        72., 63., 73., 63., 62., 63., 54., 65., 67., 76., 72., 69., 74.,\n",
       "        78., 59., 69., 77., 70., 75., 74., 57., 72., 73., 80., 67., 78.,\n",
       "        52., 63., 72., 62., 65., 53., 78., 79., 62., 78., 68., 62., 62.,\n",
       "        66., 73., 83., 62., 73., 85., 69., 58., 72., 68.]),\n",
       " array([ 84,  73,  72,  73,  78,  78,  63,  62,  72,  41,  49,  22,  81,\n",
       "         61,  85,  82,  42,  44,  54,  63,  69,  54,  70,  43,  79,  77,\n",
       "         74,  51,  41,  60,  57,  69,  56,  72,  71,  55,  73,  77,  74,\n",
       "         10,  77,  62,  68,  67,  75,  75,  69,  30,  82,  79,  70,  74,\n",
       "         78,  58,  73,  74,  83,  52,  73,  92,  43,  87,  79,  66,  90,\n",
       "         81,  69,  52,  73,  89,  64,  90,  54,  56,  57,  77,  98,  57,\n",
       "         65,  44,  60,  37,  73,  74,  69,  64,  77,  74,  85,  19,  71,\n",
       "         97,  57,  70,  32,  64,  59,  67,  71,  70,  72,  52,  53,  68,\n",
       "         64,  60,  40,  71,  78,  52,  47,  82,  54,  64,  88,  55,  49,\n",
       "         48,  68,  80,  73,  62,  84,  77,  74,  62,  80,  77,  41,  68,\n",
       "         81,  69,  41,  95,  70,  43,  89,  75,  72,  48,  54,  68,  59,\n",
       "         46,  75,  55,  36,  69,  51,  79,  80,  87,  58,  54,  96,  76,\n",
       "         52,  70,  72,  54,  72,  60,  81,  53,  88,  61,  50,  83,  75,\n",
       "         80,  78,  67,  98,  83,  56,  32,  52,  81,  95,  76,  68,  68,\n",
       "        100,  60,  84,  56,  70,  60,  64,  86,  52,  53,  64,  76,  56,\n",
       "         56,  53,  76,  74,  72,  75,  83,  86,  66,  57,  15, 100,  80,\n",
       "         66,  52,  61,  64,  60,  76,  67,  35,  63,  53,  91,  79,  69,\n",
       "         57,  77,  82,  27,  93,  66,  69,  84,  58,  67,  62,  56,  53,\n",
       "         38,  61,  42,  75,  66,  81,  44,  42,  94,  57,  81,  72,  59,\n",
       "         81,  34,  88,  54,  78,  61,  69,  57,  53,  79, 100,  66,  78,\n",
       "         43,  91,  70,  81,  69,  72,  54,  83,  65,  95,  76,  61,  89,\n",
       "         49,  50,  50,  65,  51,  45,  62,  62,  81,  80,  68,  27,  99,\n",
       "         89,  72,  54,  71,  80,  70,  92,  62,  58,  85,  58,  53,  39,\n",
       "         88,  80,  79,  61,  67,  82,  73,  95,  52,  90,  78,  99,  73,\n",
       "         80,  52,  42,  49,  64,  80,  84,  60,  68,  81,  81,  46,  43,\n",
       "         66,  74,  71,  85,  84,  67,  57,  88,  55,  74,  91,  36,  64,\n",
       "         78,  58,  72,  62,  81,  86,  77,  93,  50, 100,  74,  69,  66,\n",
       "         76,  38,  57,  70,  40,  81,  34,  62,  78,  80,  96,  48,  85,\n",
       "         91,  65,  79,  62,  64,  93,  70,  65,  71,  70,  92,  74,  70,\n",
       "         56,  48,  76,  51,  33,  69,  84,  74,  65,  82,  70,  75,  60,\n",
       "         65,  68,  90,  70,  65,  86,  68,  69,  72,  65]))"
      ]
     },
     "execution_count": 47,
     "metadata": {},
     "output_type": "execute_result"
    }
   ],
   "source": [
    "predictSubScore('writing score')"
   ]
  },
  {
   "cell_type": "code",
   "execution_count": 48,
   "id": "33a707d6",
   "metadata": {
    "execution": {
     "iopub.execute_input": "2022-02-16T15:35:39.478995Z",
     "iopub.status.busy": "2022-02-16T15:35:39.478371Z",
     "iopub.status.idle": "2022-02-16T15:35:39.820919Z",
     "shell.execute_reply": "2022-02-16T15:35:39.820355Z"
    },
    "papermill": {
     "duration": 0.466113,
     "end_time": "2022-02-16T15:35:39.821083",
     "exception": false,
     "start_time": "2022-02-16T15:35:39.354970",
     "status": "completed"
    },
    "tags": []
   },
   "outputs": [
    {
     "name": "stderr",
     "output_type": "stream",
     "text": [
      "/opt/conda/lib/python3.7/site-packages/seaborn/_decorators.py:43: FutureWarning: Pass the following variables as keyword args: x, y. From version 0.12, the only valid positional argument will be `data`, and passing other arguments without an explicit keyword will result in an error or misinterpretation.\n",
      "  FutureWarning\n",
      "/opt/conda/lib/python3.7/site-packages/seaborn/_decorators.py:43: FutureWarning: Pass the following variables as keyword args: x, y. From version 0.12, the only valid positional argument will be `data`, and passing other arguments without an explicit keyword will result in an error or misinterpretation.\n",
      "  FutureWarning\n"
     ]
    },
    {
     "data": {
      "text/plain": [
       "[(0.0, 100.0)]"
      ]
     },
     "execution_count": 48,
     "metadata": {},
     "output_type": "execute_result"
    },
    {
     "data": {
      "image/png": "[encoded data removed]",
      "text/plain": [
       "<Figure size 432x288 with 1 Axes>"
      ]
     },
     "metadata": {
      "needs_background": "light"
     },
     "output_type": "display_data"
    }
   ],
   "source": [
    "sns.scatterplot([i for i in range(len(predictSubScore('writing score')[1][:20]))], predictSubScore('writing score')[1][:20]).set_xticks([i for i in range(len(predictSubScore('writing score')[1][:20]))])\n",
    "sns.scatterplot([i for i in range(len(predictSubScore('writing score')[2][:20]))], predictSubScore('writing score')[2][:20]).set(ylim=(0,100))"
   ]
  },
  {
   "cell_type": "markdown",
   "id": "095e827c",
   "metadata": {
    "papermill": {
     "duration": 0.120024,
     "end_time": "2022-02-16T15:35:40.062142",
     "exception": false,
     "start_time": "2022-02-16T15:35:39.942118",
     "status": "completed"
    },
    "tags": []
   },
   "source": [
    "some values are almost exact, but some are a bit far away"
   ]
  },
  {
   "cell_type": "code",
   "execution_count": 49,
   "id": "6451e909",
   "metadata": {
    "execution": {
     "iopub.execute_input": "2022-02-16T15:35:40.309197Z",
     "iopub.status.busy": "2022-02-16T15:35:40.308156Z",
     "iopub.status.idle": "2022-02-16T15:35:40.323286Z",
     "shell.execute_reply": "2022-02-16T15:35:40.322739Z"
    },
    "papermill": {
     "duration": 0.14125,
     "end_time": "2022-02-16T15:35:40.323431",
     "exception": false,
     "start_time": "2022-02-16T15:35:40.182181",
     "status": "completed"
    },
    "tags": []
   },
   "outputs": [
    {
     "data": {
      "text/html": [
       "<div>\n",
       "<style scoped>\n",
       "    .dataframe tbody tr th:only-of-type {\n",
       "        vertical-align: middle;\n",
       "    }\n",
       "\n",
       "    .dataframe tbody tr th {\n",
       "        vertical-align: top;\n",
       "    }\n",
       "\n",
       "    .dataframe thead th {\n",
       "        text-align: right;\n",
       "    }\n",
       "</style>\n",
       "<table border=\"1\" class=\"dataframe\">\n",
       "  <thead>\n",
       "    <tr style=\"text-align: right;\">\n",
       "      <th></th>\n",
       "      <th>gender</th>\n",
       "      <th>race/ethnicity</th>\n",
       "      <th>parental level of education</th>\n",
       "      <th>lunch</th>\n",
       "      <th>test preparation course</th>\n",
       "      <th>math score</th>\n",
       "      <th>reading score</th>\n",
       "      <th>writing score</th>\n",
       "    </tr>\n",
       "  </thead>\n",
       "  <tbody>\n",
       "    <tr>\n",
       "      <th>0</th>\n",
       "      <td>female</td>\n",
       "      <td>group B</td>\n",
       "      <td>bachelor's degree</td>\n",
       "      <td>standard</td>\n",
       "      <td>none</td>\n",
       "      <td>72</td>\n",
       "      <td>72</td>\n",
       "      <td>74</td>\n",
       "    </tr>\n",
       "    <tr>\n",
       "      <th>1</th>\n",
       "      <td>female</td>\n",
       "      <td>group C</td>\n",
       "      <td>some college</td>\n",
       "      <td>standard</td>\n",
       "      <td>completed</td>\n",
       "      <td>69</td>\n",
       "      <td>90</td>\n",
       "      <td>88</td>\n",
       "    </tr>\n",
       "    <tr>\n",
       "      <th>2</th>\n",
       "      <td>female</td>\n",
       "      <td>group B</td>\n",
       "      <td>master's degree</td>\n",
       "      <td>standard</td>\n",
       "      <td>none</td>\n",
       "      <td>90</td>\n",
       "      <td>95</td>\n",
       "      <td>93</td>\n",
       "    </tr>\n",
       "    <tr>\n",
       "      <th>3</th>\n",
       "      <td>male</td>\n",
       "      <td>group A</td>\n",
       "      <td>associate's degree</td>\n",
       "      <td>free/reduced</td>\n",
       "      <td>none</td>\n",
       "      <td>47</td>\n",
       "      <td>57</td>\n",
       "      <td>44</td>\n",
       "    </tr>\n",
       "    <tr>\n",
       "      <th>4</th>\n",
       "      <td>male</td>\n",
       "      <td>group C</td>\n",
       "      <td>some college</td>\n",
       "      <td>standard</td>\n",
       "      <td>none</td>\n",
       "      <td>76</td>\n",
       "      <td>78</td>\n",
       "      <td>75</td>\n",
       "    </tr>\n",
       "    <tr>\n",
       "      <th>...</th>\n",
       "      <td>...</td>\n",
       "      <td>...</td>\n",
       "      <td>...</td>\n",
       "      <td>...</td>\n",
       "      <td>...</td>\n",
       "      <td>...</td>\n",
       "      <td>...</td>\n",
       "      <td>...</td>\n",
       "    </tr>\n",
       "    <tr>\n",
       "      <th>995</th>\n",
       "      <td>female</td>\n",
       "      <td>group E</td>\n",
       "      <td>master's degree</td>\n",
       "      <td>standard</td>\n",
       "      <td>completed</td>\n",
       "      <td>88</td>\n",
       "      <td>99</td>\n",
       "      <td>95</td>\n",
       "    </tr>\n",
       "    <tr>\n",
       "      <th>996</th>\n",
       "      <td>male</td>\n",
       "      <td>group C</td>\n",
       "      <td>high school</td>\n",
       "      <td>free/reduced</td>\n",
       "      <td>none</td>\n",
       "      <td>62</td>\n",
       "      <td>55</td>\n",
       "      <td>55</td>\n",
       "    </tr>\n",
       "    <tr>\n",
       "      <th>997</th>\n",
       "      <td>female</td>\n",
       "      <td>group C</td>\n",
       "      <td>high school</td>\n",
       "      <td>free/reduced</td>\n",
       "      <td>completed</td>\n",
       "      <td>59</td>\n",
       "      <td>71</td>\n",
       "      <td>65</td>\n",
       "    </tr>\n",
       "    <tr>\n",
       "      <th>998</th>\n",
       "      <td>female</td>\n",
       "      <td>group D</td>\n",
       "      <td>some college</td>\n",
       "      <td>standard</td>\n",
       "      <td>completed</td>\n",
       "      <td>68</td>\n",
       "      <td>78</td>\n",
       "      <td>77</td>\n",
       "    </tr>\n",
       "    <tr>\n",
       "      <th>999</th>\n",
       "      <td>female</td>\n",
       "      <td>group D</td>\n",
       "      <td>some college</td>\n",
       "      <td>free/reduced</td>\n",
       "      <td>none</td>\n",
       "      <td>77</td>\n",
       "      <td>86</td>\n",
       "      <td>86</td>\n",
       "    </tr>\n",
       "  </tbody>\n",
       "</table>\n",
       "<p>1000 rows × 8 columns</p>\n",
       "</div>"
      ],
      "text/plain": [
       "     gender race/ethnicity parental level of education         lunch  \\\n",
       "0    female        group B           bachelor's degree      standard   \n",
       "1    female        group C                some college      standard   \n",
       "2    female        group B             master's degree      standard   \n",
       "3      male        group A          associate's degree  free/reduced   \n",
       "4      male        group C                some college      standard   \n",
       "..      ...            ...                         ...           ...   \n",
       "995  female        group E             master's degree      standard   \n",
       "996    male        group C                 high school  free/reduced   \n",
       "997  female        group C                 high school  free/reduced   \n",
       "998  female        group D                some college      standard   \n",
       "999  female        group D                some college  free/reduced   \n",
       "\n",
       "    test preparation course  math score  reading score  writing score  \n",
       "0                      none          72             72             74  \n",
       "1                 completed          69             90             88  \n",
       "2                      none          90             95             93  \n",
       "3                      none          47             57             44  \n",
       "4                      none          76             78             75  \n",
       "..                      ...         ...            ...            ...  \n",
       "995               completed          88             99             95  \n",
       "996                    none          62             55             55  \n",
       "997               completed          59             71             65  \n",
       "998               completed          68             78             77  \n",
       "999                    none          77             86             86  \n",
       "\n",
       "[1000 rows x 8 columns]"
      ]
     },
     "execution_count": 49,
     "metadata": {},
     "output_type": "execute_result"
    }
   ],
   "source": [
    "df"
   ]
  },
  {
   "cell_type": "code",
   "execution_count": 50,
   "id": "ddbf7bc0",
   "metadata": {
    "execution": {
     "iopub.execute_input": "2022-02-16T15:35:40.574518Z",
     "iopub.status.busy": "2022-02-16T15:35:40.573806Z",
     "iopub.status.idle": "2022-02-16T15:35:40.593367Z",
     "shell.execute_reply": "2022-02-16T15:35:40.593837Z"
    },
    "papermill": {
     "duration": 0.145476,
     "end_time": "2022-02-16T15:35:40.594012",
     "exception": false,
     "start_time": "2022-02-16T15:35:40.448536",
     "status": "completed"
    },
    "tags": []
   },
   "outputs": [
    {
     "data": {
      "text/html": [
       "<div>\n",
       "<style scoped>\n",
       "    .dataframe tbody tr th:only-of-type {\n",
       "        vertical-align: middle;\n",
       "    }\n",
       "\n",
       "    .dataframe tbody tr th {\n",
       "        vertical-align: top;\n",
       "    }\n",
       "\n",
       "    .dataframe thead th {\n",
       "        text-align: right;\n",
       "    }\n",
       "</style>\n",
       "<table border=\"1\" class=\"dataframe\">\n",
       "  <thead>\n",
       "    <tr style=\"text-align: right;\">\n",
       "      <th></th>\n",
       "      <th>gender</th>\n",
       "      <th>race/ethnicity</th>\n",
       "      <th>parental level of education</th>\n",
       "      <th>lunch</th>\n",
       "      <th>test preparation course</th>\n",
       "      <th>math score</th>\n",
       "      <th>reading score</th>\n",
       "      <th>writing score</th>\n",
       "    </tr>\n",
       "  </thead>\n",
       "  <tbody>\n",
       "    <tr>\n",
       "      <th>0</th>\n",
       "      <td>0</td>\n",
       "      <td>1</td>\n",
       "      <td>1</td>\n",
       "      <td>1</td>\n",
       "      <td>1</td>\n",
       "      <td>72</td>\n",
       "      <td>72</td>\n",
       "      <td>74</td>\n",
       "    </tr>\n",
       "    <tr>\n",
       "      <th>1</th>\n",
       "      <td>0</td>\n",
       "      <td>2</td>\n",
       "      <td>4</td>\n",
       "      <td>1</td>\n",
       "      <td>0</td>\n",
       "      <td>69</td>\n",
       "      <td>90</td>\n",
       "      <td>88</td>\n",
       "    </tr>\n",
       "    <tr>\n",
       "      <th>2</th>\n",
       "      <td>0</td>\n",
       "      <td>1</td>\n",
       "      <td>3</td>\n",
       "      <td>1</td>\n",
       "      <td>1</td>\n",
       "      <td>90</td>\n",
       "      <td>95</td>\n",
       "      <td>93</td>\n",
       "    </tr>\n",
       "    <tr>\n",
       "      <th>3</th>\n",
       "      <td>1</td>\n",
       "      <td>0</td>\n",
       "      <td>0</td>\n",
       "      <td>0</td>\n",
       "      <td>1</td>\n",
       "      <td>47</td>\n",
       "      <td>57</td>\n",
       "      <td>44</td>\n",
       "    </tr>\n",
       "    <tr>\n",
       "      <th>4</th>\n",
       "      <td>1</td>\n",
       "      <td>2</td>\n",
       "      <td>4</td>\n",
       "      <td>1</td>\n",
       "      <td>1</td>\n",
       "      <td>76</td>\n",
       "      <td>78</td>\n",
       "      <td>75</td>\n",
       "    </tr>\n",
       "    <tr>\n",
       "      <th>...</th>\n",
       "      <td>...</td>\n",
       "      <td>...</td>\n",
       "      <td>...</td>\n",
       "      <td>...</td>\n",
       "      <td>...</td>\n",
       "      <td>...</td>\n",
       "      <td>...</td>\n",
       "      <td>...</td>\n",
       "    </tr>\n",
       "    <tr>\n",
       "      <th>995</th>\n",
       "      <td>0</td>\n",
       "      <td>4</td>\n",
       "      <td>3</td>\n",
       "      <td>1</td>\n",
       "      <td>0</td>\n",
       "      <td>88</td>\n",
       "      <td>99</td>\n",
       "      <td>95</td>\n",
       "    </tr>\n",
       "    <tr>\n",
       "      <th>996</th>\n",
       "      <td>1</td>\n",
       "      <td>2</td>\n",
       "      <td>2</td>\n",
       "      <td>0</td>\n",
       "      <td>1</td>\n",
       "      <td>62</td>\n",
       "      <td>55</td>\n",
       "      <td>55</td>\n",
       "    </tr>\n",
       "    <tr>\n",
       "      <th>997</th>\n",
       "      <td>0</td>\n",
       "      <td>2</td>\n",
       "      <td>2</td>\n",
       "      <td>0</td>\n",
       "      <td>0</td>\n",
       "      <td>59</td>\n",
       "      <td>71</td>\n",
       "      <td>65</td>\n",
       "    </tr>\n",
       "    <tr>\n",
       "      <th>998</th>\n",
       "      <td>0</td>\n",
       "      <td>3</td>\n",
       "      <td>4</td>\n",
       "      <td>1</td>\n",
       "      <td>0</td>\n",
       "      <td>68</td>\n",
       "      <td>78</td>\n",
       "      <td>77</td>\n",
       "    </tr>\n",
       "    <tr>\n",
       "      <th>999</th>\n",
       "      <td>0</td>\n",
       "      <td>3</td>\n",
       "      <td>4</td>\n",
       "      <td>0</td>\n",
       "      <td>1</td>\n",
       "      <td>77</td>\n",
       "      <td>86</td>\n",
       "      <td>86</td>\n",
       "    </tr>\n",
       "  </tbody>\n",
       "</table>\n",
       "<p>1000 rows × 8 columns</p>\n",
       "</div>"
      ],
      "text/plain": [
       "     gender  race/ethnicity  parental level of education  lunch  \\\n",
       "0         0               1                            1      1   \n",
       "1         0               2                            4      1   \n",
       "2         0               1                            3      1   \n",
       "3         1               0                            0      0   \n",
       "4         1               2                            4      1   \n",
       "..      ...             ...                          ...    ...   \n",
       "995       0               4                            3      1   \n",
       "996       1               2                            2      0   \n",
       "997       0               2                            2      0   \n",
       "998       0               3                            4      1   \n",
       "999       0               3                            4      0   \n",
       "\n",
       "     test preparation course  math score  reading score  writing score  \n",
       "0                          1          72             72             74  \n",
       "1                          0          69             90             88  \n",
       "2                          1          90             95             93  \n",
       "3                          1          47             57             44  \n",
       "4                          1          76             78             75  \n",
       "..                       ...         ...            ...            ...  \n",
       "995                        0          88             99             95  \n",
       "996                        1          62             55             55  \n",
       "997                        0          59             71             65  \n",
       "998                        0          68             78             77  \n",
       "999                        1          77             86             86  \n",
       "\n",
       "[1000 rows x 8 columns]"
      ]
     },
     "execution_count": 50,
     "metadata": {},
     "output_type": "execute_result"
    }
   ],
   "source": [
    "from sklearn import preprocessing\n",
    "df3 = df\n",
    "lis = ['gender','race/ethnicity','parental level of education','test preparation course','lunch']\n",
    "for v in lis:\n",
    "    le = preprocessing.LabelEncoder()\n",
    "    le.fit(df3[v])\n",
    "    df3[v] = le.transform(df3[v])\n",
    "df3"
   ]
  },
  {
   "cell_type": "code",
   "execution_count": 51,
   "id": "e0cb5830",
   "metadata": {
    "execution": {
     "iopub.execute_input": "2022-02-16T15:35:40.844868Z",
     "iopub.status.busy": "2022-02-16T15:35:40.844200Z",
     "iopub.status.idle": "2022-02-16T15:35:40.849161Z",
     "shell.execute_reply": "2022-02-16T15:35:40.849645Z"
    },
    "papermill": {
     "duration": 0.133124,
     "end_time": "2022-02-16T15:35:40.849876",
     "exception": false,
     "start_time": "2022-02-16T15:35:40.716752",
     "status": "completed"
    },
    "tags": []
   },
   "outputs": [],
   "source": [
    "train_set, test_set = train_test_split(df3, test_size=0.3,\n",
    "random_state=42)"
   ]
  },
  {
   "cell_type": "markdown",
   "id": "6217bc0c",
   "metadata": {
    "papermill": {
     "duration": 0.124236,
     "end_time": "2022-02-16T15:35:41.096941",
     "exception": false,
     "start_time": "2022-02-16T15:35:40.972705",
     "status": "completed"
    },
    "tags": []
   },
   "source": [
    "### First a  binary classifier"
   ]
  },
  {
   "cell_type": "code",
   "execution_count": 52,
   "id": "90cb0d0f",
   "metadata": {
    "execution": {
     "iopub.execute_input": "2022-02-16T15:35:41.345305Z",
     "iopub.status.busy": "2022-02-16T15:35:41.344591Z",
     "iopub.status.idle": "2022-02-16T15:35:41.356252Z",
     "shell.execute_reply": "2022-02-16T15:35:41.356713Z"
    },
    "papermill": {
     "duration": 0.13773,
     "end_time": "2022-02-16T15:35:41.356907",
     "exception": false,
     "start_time": "2022-02-16T15:35:41.219177",
     "status": "completed"
    },
    "tags": []
   },
   "outputs": [
    {
     "data": {
      "text/plain": [
       "541     True\n",
       "440    False\n",
       "482    False\n",
       "422     True\n",
       "778    False\n",
       "       ...  \n",
       "106     True\n",
       "270    False\n",
       "860    False\n",
       "435    False\n",
       "102     True\n",
       "Name: race/ethnicity, Length: 700, dtype: bool"
      ]
     },
     "execution_count": 52,
     "metadata": {},
     "output_type": "execute_result"
    }
   ],
   "source": [
    "#attr1 = train_set[train_set['race/ethnicity'] == 1]\n",
    "#attr2 = test_set[test_set['race/ethnicity'] == 1]\n",
    "\n",
    "attr1 = train_set.drop(['race/ethnicity'], axis=1)\n",
    "attr2 = test_set.drop(['race/ethnicity'], axis=1)\n",
    "\n",
    "attr_labels_f1 = (train_set['race/ethnicity'].copy())\n",
    "attr_labels_f2 = (test_set['race/ethnicity'].copy())\n",
    "\n",
    "attr_labels1 = (train_set['race/ethnicity'].copy()  == 3)\n",
    "attr_labels2 = (test_set['race/ethnicity'].copy()  == 3)\n",
    "\n",
    "attr_labels1"
   ]
  },
  {
   "cell_type": "code",
   "execution_count": 53,
   "id": "ad59369a",
   "metadata": {
    "execution": {
     "iopub.execute_input": "2022-02-16T15:35:41.607212Z",
     "iopub.status.busy": "2022-02-16T15:35:41.606492Z",
     "iopub.status.idle": "2022-02-16T15:35:41.619481Z",
     "shell.execute_reply": "2022-02-16T15:35:41.620102Z"
    },
    "papermill": {
     "duration": 0.139903,
     "end_time": "2022-02-16T15:35:41.620301",
     "exception": false,
     "start_time": "2022-02-16T15:35:41.480398",
     "status": "completed"
    },
    "tags": []
   },
   "outputs": [
    {
     "data": {
      "text/plain": [
       "SGDClassifier(max_iter=10000, random_state=42, tol=0.0001)"
      ]
     },
     "execution_count": 53,
     "metadata": {},
     "output_type": "execute_result"
    }
   ],
   "source": [
    "from sklearn.linear_model import SGDClassifier\n",
    "sgd_clf = SGDClassifier(max_iter=10000, tol=1e-4,random_state=42)\n",
    "sgd_clf.fit(attr1, attr_labels1)"
   ]
  },
  {
   "cell_type": "code",
   "execution_count": 54,
   "id": "cce94570",
   "metadata": {
    "execution": {
     "iopub.execute_input": "2022-02-16T15:35:41.872777Z",
     "iopub.status.busy": "2022-02-16T15:35:41.872097Z",
     "iopub.status.idle": "2022-02-16T15:35:41.877353Z",
     "shell.execute_reply": "2022-02-16T15:35:41.877873Z"
    },
    "papermill": {
     "duration": 0.134331,
     "end_time": "2022-02-16T15:35:41.878100",
     "exception": false,
     "start_time": "2022-02-16T15:35:41.743769",
     "status": "completed"
    },
    "tags": []
   },
   "outputs": [
    {
     "data": {
      "text/plain": [
       "array([ True])"
      ]
     },
     "execution_count": 54,
     "metadata": {},
     "output_type": "execute_result"
    }
   ],
   "source": [
    "#gender\trace/ethnicity\tparental level of education\tlunch\t\n",
    "#test preparation course\tmath score\treading score\twriting score\n",
    "sgd_clf.predict([[1,1,1,1,80,90,100]])"
   ]
  },
  {
   "cell_type": "code",
   "execution_count": 55,
   "id": "6b2b0927",
   "metadata": {
    "execution": {
     "iopub.execute_input": "2022-02-16T15:35:42.131535Z",
     "iopub.status.busy": "2022-02-16T15:35:42.130826Z",
     "iopub.status.idle": "2022-02-16T15:35:42.154536Z",
     "shell.execute_reply": "2022-02-16T15:35:42.155122Z"
    },
    "papermill": {
     "duration": 0.151782,
     "end_time": "2022-02-16T15:35:42.155328",
     "exception": false,
     "start_time": "2022-02-16T15:35:42.003546",
     "status": "completed"
    },
    "tags": []
   },
   "outputs": [],
   "source": [
    "from sklearn.model_selection import cross_val_predict\n",
    "y_train_pred = cross_val_predict(sgd_clf, attr1, attr_labels1, cv=3)"
   ]
  },
  {
   "cell_type": "code",
   "execution_count": 56,
   "id": "6fd445ed",
   "metadata": {
    "execution": {
     "iopub.execute_input": "2022-02-16T15:35:42.421027Z",
     "iopub.status.busy": "2022-02-16T15:35:42.418921Z",
     "iopub.status.idle": "2022-02-16T15:35:42.427618Z",
     "shell.execute_reply": "2022-02-16T15:35:42.426979Z"
    },
    "papermill": {
     "duration": 0.144469,
     "end_time": "2022-02-16T15:35:42.427799",
     "exception": false,
     "start_time": "2022-02-16T15:35:42.283330",
     "status": "completed"
    },
    "tags": []
   },
   "outputs": [
    {
     "data": {
      "text/plain": [
       "array([[445,  73],\n",
       "       [148,  34]])"
      ]
     },
     "execution_count": 56,
     "metadata": {},
     "output_type": "execute_result"
    }
   ],
   "source": [
    "from sklearn.metrics import confusion_matrix\n",
    "cm = confusion_matrix(attr_labels1, y_train_pred)\n",
    "cm"
   ]
  },
  {
   "cell_type": "code",
   "execution_count": 57,
   "id": "e44cd918",
   "metadata": {
    "execution": {
     "iopub.execute_input": "2022-02-16T15:35:42.682808Z",
     "iopub.status.busy": "2022-02-16T15:35:42.682117Z",
     "iopub.status.idle": "2022-02-16T15:35:42.688332Z",
     "shell.execute_reply": "2022-02-16T15:35:42.688829Z"
    },
    "papermill": {
     "duration": 0.136201,
     "end_time": "2022-02-16T15:35:42.689038",
     "exception": false,
     "start_time": "2022-02-16T15:35:42.552837",
     "status": "completed"
    },
    "tags": []
   },
   "outputs": [
    {
     "data": {
      "text/plain": [
       "array([[518,   0],\n",
       "       [  0, 182]])"
      ]
     },
     "execution_count": 57,
     "metadata": {},
     "output_type": "execute_result"
    }
   ],
   "source": [
    "perfect = attr_labels1\n",
    "confusion_matrix(attr_labels1, perfect)"
   ]
  },
  {
   "cell_type": "code",
   "execution_count": 58,
   "id": "752d709b",
   "metadata": {
    "execution": {
     "iopub.execute_input": "2022-02-16T15:35:42.949121Z",
     "iopub.status.busy": "2022-02-16T15:35:42.948440Z",
     "iopub.status.idle": "2022-02-16T15:35:42.955764Z",
     "shell.execute_reply": "2022-02-16T15:35:42.954993Z"
    },
    "papermill": {
     "duration": 0.140857,
     "end_time": "2022-02-16T15:35:42.955972",
     "exception": false,
     "start_time": "2022-02-16T15:35:42.815115",
     "status": "completed"
    },
    "tags": []
   },
   "outputs": [
    {
     "name": "stdout",
     "output_type": "stream",
     "text": [
      "0.6842857142857143\n",
      "0.6842857142857143\n"
     ]
    }
   ],
   "source": [
    "from sklearn.metrics import precision_score, recall_score\n",
    "print(precision_score(attr_labels1, y_train_pred, average='micro'))\n",
    "print(recall_score(attr_labels1, y_train_pred, average='micro'))"
   ]
  },
  {
   "cell_type": "code",
   "execution_count": 59,
   "id": "a5d4a9f6",
   "metadata": {
    "execution": {
     "iopub.execute_input": "2022-02-16T15:35:43.214837Z",
     "iopub.status.busy": "2022-02-16T15:35:43.214192Z",
     "iopub.status.idle": "2022-02-16T15:35:43.220522Z",
     "shell.execute_reply": "2022-02-16T15:35:43.221028Z"
    },
    "papermill": {
     "duration": 0.136375,
     "end_time": "2022-02-16T15:35:43.221227",
     "exception": false,
     "start_time": "2022-02-16T15:35:43.084852",
     "status": "completed"
    },
    "tags": []
   },
   "outputs": [
    {
     "data": {
      "text/plain": [
       "0.2352941176470588"
      ]
     },
     "execution_count": 59,
     "metadata": {},
     "output_type": "execute_result"
    }
   ],
   "source": [
    "from sklearn.metrics import f1_score\n",
    "\n",
    "f1_score(attr_labels1, y_train_pred)"
   ]
  },
  {
   "cell_type": "code",
   "execution_count": 60,
   "id": "df275507",
   "metadata": {
    "execution": {
     "iopub.execute_input": "2022-02-16T15:35:43.501286Z",
     "iopub.status.busy": "2022-02-16T15:35:43.500557Z",
     "iopub.status.idle": "2022-02-16T15:35:43.503592Z",
     "shell.execute_reply": "2022-02-16T15:35:43.504173Z"
    },
    "papermill": {
     "duration": 0.157367,
     "end_time": "2022-02-16T15:35:43.504376",
     "exception": false,
     "start_time": "2022-02-16T15:35:43.347009",
     "status": "completed"
    },
    "tags": []
   },
   "outputs": [
    {
     "data": {
      "text/plain": [
       "0.3177570093457944"
      ]
     },
     "execution_count": 60,
     "metadata": {},
     "output_type": "execute_result"
    }
   ],
   "source": [
    "cm[1, 1] / (cm[0, 1] + cm[1, 1])"
   ]
  },
  {
   "cell_type": "code",
   "execution_count": 61,
   "id": "98062e3d",
   "metadata": {
    "execution": {
     "iopub.execute_input": "2022-02-16T15:35:43.772732Z",
     "iopub.status.busy": "2022-02-16T15:35:43.772041Z",
     "iopub.status.idle": "2022-02-16T15:35:43.777177Z",
     "shell.execute_reply": "2022-02-16T15:35:43.777761Z"
    },
    "papermill": {
     "duration": 0.143087,
     "end_time": "2022-02-16T15:35:43.777963",
     "exception": false,
     "start_time": "2022-02-16T15:35:43.634876",
     "status": "completed"
    },
    "tags": []
   },
   "outputs": [
    {
     "data": {
      "text/plain": [
       "0.23529411764705882"
      ]
     },
     "execution_count": 61,
     "metadata": {},
     "output_type": "execute_result"
    }
   ],
   "source": [
    "cm[1, 1] / (cm[1, 1] + (cm[1, 0] + cm[0, 1]) / 2)"
   ]
  },
  {
   "cell_type": "code",
   "execution_count": 62,
   "id": "fbb7708d",
   "metadata": {
    "execution": {
     "iopub.execute_input": "2022-02-16T15:35:44.039951Z",
     "iopub.status.busy": "2022-02-16T15:35:44.039280Z",
     "iopub.status.idle": "2022-02-16T15:35:44.045099Z",
     "shell.execute_reply": "2022-02-16T15:35:44.045697Z"
    },
    "papermill": {
     "duration": 0.139243,
     "end_time": "2022-02-16T15:35:44.045886",
     "exception": false,
     "start_time": "2022-02-16T15:35:43.906643",
     "status": "completed"
    },
    "tags": []
   },
   "outputs": [
    {
     "data": {
      "text/plain": [
       "0.3177570093457944"
      ]
     },
     "execution_count": 62,
     "metadata": {},
     "output_type": "execute_result"
    }
   ],
   "source": [
    "from sklearn.metrics import precision_score, recall_score\n",
    "\n",
    "precision_score(attr_labels1, y_train_pred)"
   ]
  },
  {
   "cell_type": "code",
   "execution_count": 63,
   "id": "2d075c12",
   "metadata": {
    "execution": {
     "iopub.execute_input": "2022-02-16T15:35:44.305437Z",
     "iopub.status.busy": "2022-02-16T15:35:44.304763Z",
     "iopub.status.idle": "2022-02-16T15:35:44.310292Z",
     "shell.execute_reply": "2022-02-16T15:35:44.310820Z"
    },
    "papermill": {
     "duration": 0.136785,
     "end_time": "2022-02-16T15:35:44.311029",
     "exception": false,
     "start_time": "2022-02-16T15:35:44.174244",
     "status": "completed"
    },
    "tags": []
   },
   "outputs": [
    {
     "data": {
      "text/plain": [
       "0.3177570093457944"
      ]
     },
     "execution_count": 63,
     "metadata": {},
     "output_type": "execute_result"
    }
   ],
   "source": [
    "cm[1, 1] / (cm[0, 1] + cm[1, 1])"
   ]
  },
  {
   "cell_type": "code",
   "execution_count": 64,
   "id": "42aa1434",
   "metadata": {
    "execution": {
     "iopub.execute_input": "2022-02-16T15:35:44.579119Z",
     "iopub.status.busy": "2022-02-16T15:35:44.578375Z",
     "iopub.status.idle": "2022-02-16T15:35:44.584198Z",
     "shell.execute_reply": "2022-02-16T15:35:44.584696Z"
    },
    "papermill": {
     "duration": 0.142056,
     "end_time": "2022-02-16T15:35:44.584891",
     "exception": false,
     "start_time": "2022-02-16T15:35:44.442835",
     "status": "completed"
    },
    "tags": []
   },
   "outputs": [
    {
     "data": {
      "text/plain": [
       "0.18681318681318682"
      ]
     },
     "execution_count": 64,
     "metadata": {},
     "output_type": "execute_result"
    }
   ],
   "source": [
    "recall_score(attr_labels1, y_train_pred)"
   ]
  },
  {
   "cell_type": "code",
   "execution_count": 65,
   "id": "5d03c13d",
   "metadata": {
    "execution": {
     "iopub.execute_input": "2022-02-16T15:35:44.848164Z",
     "iopub.status.busy": "2022-02-16T15:35:44.847472Z",
     "iopub.status.idle": "2022-02-16T15:35:44.853408Z",
     "shell.execute_reply": "2022-02-16T15:35:44.852906Z"
    },
    "papermill": {
     "duration": 0.137693,
     "end_time": "2022-02-16T15:35:44.853566",
     "exception": false,
     "start_time": "2022-02-16T15:35:44.715873",
     "status": "completed"
    },
    "tags": []
   },
   "outputs": [
    {
     "data": {
      "text/plain": [
       "0.18681318681318682"
      ]
     },
     "execution_count": 65,
     "metadata": {},
     "output_type": "execute_result"
    }
   ],
   "source": [
    "cm[1, 1] / (cm[1, 0] + cm[1, 1])"
   ]
  },
  {
   "cell_type": "code",
   "execution_count": 66,
   "id": "1aea9b38",
   "metadata": {
    "execution": {
     "iopub.execute_input": "2022-02-16T15:35:45.118453Z",
     "iopub.status.busy": "2022-02-16T15:35:45.117795Z",
     "iopub.status.idle": "2022-02-16T15:35:45.141484Z",
     "shell.execute_reply": "2022-02-16T15:35:45.142066Z"
    },
    "papermill": {
     "duration": 0.15823,
     "end_time": "2022-02-16T15:35:45.142279",
     "exception": false,
     "start_time": "2022-02-16T15:35:44.984049",
     "status": "completed"
    },
    "tags": []
   },
   "outputs": [],
   "source": [
    "y_scores = cross_val_predict(sgd_clf, attr1, attr_labels1, cv=3,\n",
    "                             method=\"decision_function\")"
   ]
  },
  {
   "cell_type": "code",
   "execution_count": 67,
   "id": "6aeb3810",
   "metadata": {
    "execution": {
     "iopub.execute_input": "2022-02-16T15:35:45.426026Z",
     "iopub.status.busy": "2022-02-16T15:35:45.424535Z",
     "iopub.status.idle": "2022-02-16T15:35:45.428446Z",
     "shell.execute_reply": "2022-02-16T15:35:45.429283Z"
    },
    "papermill": {
     "duration": 0.156312,
     "end_time": "2022-02-16T15:35:45.429553",
     "exception": false,
     "start_time": "2022-02-16T15:35:45.273241",
     "status": "completed"
    },
    "tags": []
   },
   "outputs": [],
   "source": [
    "from sklearn.metrics import precision_recall_curve\n",
    "\n",
    "precisions, recalls, thresholds = precision_recall_curve(attr_labels1, y_scores)"
   ]
  },
  {
   "cell_type": "code",
   "execution_count": 68,
   "id": "074cc0b4",
   "metadata": {
    "execution": {
     "iopub.execute_input": "2022-02-16T15:35:45.728009Z",
     "iopub.status.busy": "2022-02-16T15:35:45.726959Z",
     "iopub.status.idle": "2022-02-16T15:35:45.763017Z",
     "shell.execute_reply": "2022-02-16T15:35:45.763610Z"
    },
    "papermill": {
     "duration": 0.189095,
     "end_time": "2022-02-16T15:35:45.763842",
     "exception": false,
     "start_time": "2022-02-16T15:35:45.574747",
     "status": "completed"
    },
    "tags": []
   },
   "outputs": [
    {
     "data": {
      "text/plain": [
       "array([2])"
      ]
     },
     "execution_count": 68,
     "metadata": {},
     "output_type": "execute_result"
    }
   ],
   "source": [
    "from sklearn.svm import SVC\n",
    "svm_clf = SVC()\n",
    "svm_clf.fit(attr1, attr_labels_f1) \n",
    "svm_clf.predict([[1,1,1,1,80,90,100]])"
   ]
  },
  {
   "cell_type": "code",
   "execution_count": 69,
   "id": "a67f36ca",
   "metadata": {
    "execution": {
     "iopub.execute_input": "2022-02-16T15:35:46.037241Z",
     "iopub.status.busy": "2022-02-16T15:35:46.036274Z",
     "iopub.status.idle": "2022-02-16T15:35:46.065091Z",
     "shell.execute_reply": "2022-02-16T15:35:46.065799Z"
    },
    "papermill": {
     "duration": 0.168708,
     "end_time": "2022-02-16T15:35:46.066028",
     "exception": false,
     "start_time": "2022-02-16T15:35:45.897320",
     "status": "completed"
    },
    "tags": []
   },
   "outputs": [
    {
     "data": {
      "text/plain": [
       "array([2])"
      ]
     },
     "execution_count": 69,
     "metadata": {},
     "output_type": "execute_result"
    }
   ],
   "source": [
    "sgd_clf.fit(attr1, attr_labels_f1)\n",
    "sgd_clf.predict([[1,1,1,1,80,90,100]])"
   ]
  },
  {
   "cell_type": "code",
   "execution_count": 70,
   "id": "9d02289b",
   "metadata": {
    "execution": {
     "iopub.execute_input": "2022-02-16T15:35:46.337186Z",
     "iopub.status.busy": "2022-02-16T15:35:46.336181Z",
     "iopub.status.idle": "2022-02-16T15:35:46.395483Z",
     "shell.execute_reply": "2022-02-16T15:35:46.396127Z"
    },
    "papermill": {
     "duration": 0.194695,
     "end_time": "2022-02-16T15:35:46.396324",
     "exception": false,
     "start_time": "2022-02-16T15:35:46.201629",
     "status": "completed"
    },
    "tags": []
   },
   "outputs": [
    {
     "data": {
      "text/plain": [
       "array([0.18803419, 0.3304721 , 0.30901288])"
      ]
     },
     "execution_count": 70,
     "metadata": {},
     "output_type": "execute_result"
    }
   ],
   "source": [
    "cross_val_score(sgd_clf, attr1, attr_labels_f1, cv=3, scoring=\"accuracy\")"
   ]
  },
  {
   "cell_type": "code",
   "execution_count": 71,
   "id": "a46251be",
   "metadata": {
    "execution": {
     "iopub.execute_input": "2022-02-16T15:35:46.667559Z",
     "iopub.status.busy": "2022-02-16T15:35:46.666558Z",
     "iopub.status.idle": "2022-02-16T15:35:46.712570Z",
     "shell.execute_reply": "2022-02-16T15:35:46.712071Z"
    },
    "papermill": {
     "duration": 0.183927,
     "end_time": "2022-02-16T15:35:46.712747",
     "exception": false,
     "start_time": "2022-02-16T15:35:46.528820",
     "status": "completed"
    },
    "tags": []
   },
   "outputs": [
    {
     "data": {
      "text/plain": [
       "array([0.26923077, 0.27467811, 0.27467811])"
      ]
     },
     "execution_count": 71,
     "metadata": {},
     "output_type": "execute_result"
    }
   ],
   "source": [
    "from sklearn.preprocessing import StandardScaler\n",
    "scaler = StandardScaler()\n",
    "X_train_scaled = scaler.fit_transform(attr1.astype(np.float64))\n",
    "cross_val_score(sgd_clf, X_train_scaled, attr_labels_f1, cv=3,\n",
    "scoring=\"accuracy\")"
   ]
  },
  {
   "cell_type": "code",
   "execution_count": 72,
   "id": "62a44cb9",
   "metadata": {
    "execution": {
     "iopub.execute_input": "2022-02-16T15:35:46.990079Z",
     "iopub.status.busy": "2022-02-16T15:35:46.989326Z",
     "iopub.status.idle": "2022-02-16T15:35:46.993715Z",
     "shell.execute_reply": "2022-02-16T15:35:46.993146Z"
    },
    "papermill": {
     "duration": 0.149188,
     "end_time": "2022-02-16T15:35:46.993885",
     "exception": false,
     "start_time": "2022-02-16T15:35:46.844697",
     "status": "completed"
    },
    "tags": []
   },
   "outputs": [
    {
     "data": {
      "text/plain": [
       "521    2\n",
       "737    1\n",
       "740    3\n",
       "660    2\n",
       "411    4\n",
       "      ..\n",
       "468    0\n",
       "935    3\n",
       "428    0\n",
       "7      1\n",
       "155    2\n",
       "Name: race/ethnicity, Length: 300, dtype: int64"
      ]
     },
     "execution_count": 72,
     "metadata": {},
     "output_type": "execute_result"
    }
   ],
   "source": [
    "tattr1 = train_set.drop(['race/ethnicity'], axis=1)\n",
    "tattr2 = test_set.drop(['race/ethnicity'], axis=1)\n",
    "\n",
    "tattr_labels_f1 = (train_set['race/ethnicity'].copy())\n",
    "tattr_labels_f2 = (test_set['race/ethnicity'].copy())\n",
    "\n",
    "tattr_labels_f2"
   ]
  },
  {
   "cell_type": "code",
   "execution_count": 73,
   "id": "a76b38fd",
   "metadata": {
    "execution": {
     "iopub.execute_input": "2022-02-16T15:35:47.270767Z",
     "iopub.status.busy": "2022-02-16T15:35:47.270105Z",
     "iopub.status.idle": "2022-02-16T15:35:47.338344Z",
     "shell.execute_reply": "2022-02-16T15:35:47.337812Z"
    },
    "papermill": {
     "duration": 0.208696,
     "end_time": "2022-02-16T15:35:47.338481",
     "exception": false,
     "start_time": "2022-02-16T15:35:47.129785",
     "status": "completed"
    },
    "tags": []
   },
   "outputs": [
    {
     "data": {
      "text/plain": [
       "array([0.26923077, 0.27467811, 0.27467811])"
      ]
     },
     "execution_count": 73,
     "metadata": {},
     "output_type": "execute_result"
    }
   ],
   "source": [
    "sgd_clf.fit(tattr1, tattr_labels_f1)\n",
    "sgd_clf.predict([[1,1,1,1,80,90,100]])\n",
    "scaler = StandardScaler()\n",
    "X_train_scaled = scaler.fit_transform(tattr1.astype(np.float64))\n",
    "cross_val_score(sgd_clf, X_train_scaled, tattr_labels_f1, cv=3,\n",
    "scoring=\"accuracy\")"
   ]
  },
  {
   "cell_type": "code",
   "execution_count": 74,
   "id": "04599a84",
   "metadata": {
    "execution": {
     "iopub.execute_input": "2022-02-16T15:35:47.616419Z",
     "iopub.status.busy": "2022-02-16T15:35:47.615515Z",
     "iopub.status.idle": "2022-02-16T15:35:47.620717Z",
     "shell.execute_reply": "2022-02-16T15:35:47.621230Z"
    },
    "papermill": {
     "duration": 0.147602,
     "end_time": "2022-02-16T15:35:47.621409",
     "exception": false,
     "start_time": "2022-02-16T15:35:47.473807",
     "status": "completed"
    },
    "tags": []
   },
   "outputs": [],
   "source": [
    "from sklearn.model_selection import train_test_split\n",
    "from sklearn.linear_model import LogisticRegression\n",
    "from sklearn.neighbors import KNeighborsClassifier\n",
    "from sklearn.naive_bayes import GaussianNB\n",
    "from sklearn.tree import DecisionTreeClassifier\n",
    "from sklearn.svm import SVC\n",
    "from sklearn.metrics import plot_confusion_matrix"
   ]
  },
  {
   "cell_type": "code",
   "execution_count": 75,
   "id": "9f654870",
   "metadata": {
    "execution": {
     "iopub.execute_input": "2022-02-16T15:35:47.891750Z",
     "iopub.status.busy": "2022-02-16T15:35:47.891083Z",
     "iopub.status.idle": "2022-02-16T15:35:47.934610Z",
     "shell.execute_reply": "2022-02-16T15:35:47.935117Z"
    },
    "papermill": {
     "duration": 0.180709,
     "end_time": "2022-02-16T15:35:47.935304",
     "exception": false,
     "start_time": "2022-02-16T15:35:47.754595",
     "status": "completed"
    },
    "tags": []
   },
   "outputs": [
    {
     "name": "stdout",
     "output_type": "stream",
     "text": [
      "[3]\n"
     ]
    },
    {
     "data": {
      "text/plain": [
       "array([0.25, 0.22, 0.27, 0.26, 0.23, 0.21, 0.28])"
      ]
     },
     "execution_count": 75,
     "metadata": {},
     "output_type": "execute_result"
    }
   ],
   "source": [
    "dtc = DecisionTreeClassifier()\n",
    "dtc.fit(tattr1, tattr_labels_f1)\n",
    "print(dtc.predict([[1,1,1,1,80,90,100]]))\n",
    "scaler = StandardScaler()\n",
    "X_train_scaled = scaler.fit_transform(tattr1.astype(np.float64))\n",
    "cross_val_score(dtc, X_train_scaled, tattr_labels_f1, cv=7,\n",
    "scoring=\"accuracy\")"
   ]
  },
  {
   "cell_type": "code",
   "execution_count": 76,
   "id": "75292abe",
   "metadata": {
    "execution": {
     "iopub.execute_input": "2022-02-16T15:35:48.209860Z",
     "iopub.status.busy": "2022-02-16T15:35:48.209151Z",
     "iopub.status.idle": "2022-02-16T15:35:48.215025Z",
     "shell.execute_reply": "2022-02-16T15:35:48.215546Z"
    },
    "papermill": {
     "duration": 0.144701,
     "end_time": "2022-02-16T15:35:48.215760",
     "exception": false,
     "start_time": "2022-02-16T15:35:48.071059",
     "status": "completed"
    },
    "tags": []
   },
   "outputs": [],
   "source": [
    "gattr1 = train_set.drop(['gender'], axis=1)\n",
    "gattr2 = test_set.drop(['gender'], axis=1)\n",
    "\n",
    "gattr_labels_f1 = (train_set['gender'].copy())\n",
    "gattr_labels_f2 = (test_set['gender'].copy())"
   ]
  },
  {
   "cell_type": "code",
   "execution_count": 77,
   "id": "500e49f1",
   "metadata": {
    "execution": {
     "iopub.execute_input": "2022-02-16T15:35:48.501926Z",
     "iopub.status.busy": "2022-02-16T15:35:48.501245Z",
     "iopub.status.idle": "2022-02-16T15:35:48.529995Z",
     "shell.execute_reply": "2022-02-16T15:35:48.529429Z"
    },
    "papermill": {
     "duration": 0.177311,
     "end_time": "2022-02-16T15:35:48.530154",
     "exception": false,
     "start_time": "2022-02-16T15:35:48.352843",
     "status": "completed"
    },
    "tags": []
   },
   "outputs": [
    {
     "data": {
      "text/plain": [
       "array([0.85, 0.85, 0.84, 0.75, 0.85, 0.82, 0.81])"
      ]
     },
     "execution_count": 77,
     "metadata": {},
     "output_type": "execute_result"
    }
   ],
   "source": [
    "dtc = DecisionTreeClassifier()\n",
    "dtc.fit(gattr1, gattr_labels_f1)\n",
    "scaler = StandardScaler()\n",
    "X_train_scaled = scaler.fit_transform(gattr1.astype(np.float64))\n",
    "cross_val_score(dtc, X_train_scaled, gattr_labels_f1, cv=7,\n",
    "scoring=\"accuracy\")"
   ]
  },
  {
   "cell_type": "markdown",
   "id": "9c3ec698",
   "metadata": {
    "papermill": {
     "duration": 0.134227,
     "end_time": "2022-02-16T15:35:48.799909",
     "exception": false,
     "start_time": "2022-02-16T15:35:48.665682",
     "status": "completed"
    },
    "tags": []
   },
   "source": [
    "classification works fine for predicting gender, but gives bad results for other attribs"
   ]
  },
  {
   "cell_type": "code",
   "execution_count": 78,
   "id": "c2254e0a",
   "metadata": {
    "execution": {
     "iopub.execute_input": "2022-02-16T15:35:49.076642Z",
     "iopub.status.busy": "2022-02-16T15:35:49.075949Z",
     "iopub.status.idle": "2022-02-16T15:35:49.164596Z",
     "shell.execute_reply": "2022-02-16T15:35:49.165114Z"
    },
    "papermill": {
     "duration": 0.228403,
     "end_time": "2022-02-16T15:35:49.165325",
     "exception": false,
     "start_time": "2022-02-16T15:35:48.936922",
     "status": "completed"
    },
    "tags": []
   },
   "outputs": [
    {
     "data": {
      "text/plain": [
       "array([0.9 , 0.86, 0.8 , 0.84, 0.82, 0.91, 0.85])"
      ]
     },
     "execution_count": 78,
     "metadata": {},
     "output_type": "execute_result"
    }
   ],
   "source": [
    "svc = SVC()\n",
    "svc.fit(gattr1, gattr_labels_f1)\n",
    "scaler = StandardScaler()\n",
    "X_train_scaled = scaler.fit_transform(gattr1.astype(np.float64))\n",
    "cross_val_score(svc, X_train_scaled, gattr_labels_f1, cv=7,\n",
    "scoring=\"accuracy\")"
   ]
  },
  {
   "cell_type": "markdown",
   "id": "90f5ebd6",
   "metadata": {
    "papermill": {
     "duration": 0.13646,
     "end_time": "2022-02-16T15:35:49.439068",
     "exception": false,
     "start_time": "2022-02-16T15:35:49.302608",
     "status": "completed"
    },
    "tags": []
   },
   "source": [
    "SVC gives best results for predicting gender"
   ]
  },
  {
   "cell_type": "code",
   "execution_count": 79,
   "id": "3ee6abc2",
   "metadata": {
    "execution": {
     "iopub.execute_input": "2022-02-16T15:35:49.715922Z",
     "iopub.status.busy": "2022-02-16T15:35:49.714952Z",
     "iopub.status.idle": "2022-02-16T15:35:49.971392Z",
     "shell.execute_reply": "2022-02-16T15:35:49.970447Z"
    },
    "papermill": {
     "duration": 0.39481,
     "end_time": "2022-02-16T15:35:49.971555",
     "exception": false,
     "start_time": "2022-02-16T15:35:49.576745",
     "status": "completed"
    },
    "tags": []
   },
   "outputs": [
    {
     "data": {
      "text/plain": [
       "Text(0.5, 1.0, 'Confusion Matrix for SVC')"
      ]
     },
     "execution_count": 79,
     "metadata": {},
     "output_type": "execute_result"
    },
    {
     "data": {
      "image/png": "[encoded data removed]",
      "text/plain": [
       "<Figure size 432x288 with 2 Axes>"
      ]
     },
     "metadata": {
      "needs_background": "light"
     },
     "output_type": "display_data"
    }
   ],
   "source": [
    "plt = plot_confusion_matrix(svc, gattr1, gattr_labels_f1)\n",
    "plt.ax_.set_title('Confusion Matrix for SVC')"
   ]
  },
  {
   "cell_type": "code",
   "execution_count": 80,
   "id": "8c5f8178",
   "metadata": {
    "execution": {
     "iopub.execute_input": "2022-02-16T15:35:50.256828Z",
     "iopub.status.busy": "2022-02-16T15:35:50.256077Z",
     "iopub.status.idle": "2022-02-16T15:35:50.280628Z",
     "shell.execute_reply": "2022-02-16T15:35:50.280108Z"
    },
    "papermill": {
     "duration": 0.169818,
     "end_time": "2022-02-16T15:35:50.280799",
     "exception": false,
     "start_time": "2022-02-16T15:35:50.110981",
     "status": "completed"
    },
    "tags": []
   },
   "outputs": [
    {
     "data": {
      "text/plain": [
       "array([0.74, 0.56, 0.74, 0.68, 0.71, 0.71, 0.7 ])"
      ]
     },
     "execution_count": 80,
     "metadata": {},
     "output_type": "execute_result"
    }
   ],
   "source": [
    "dtc = GaussianNB()\n",
    "dtc.fit(gattr1, gattr_labels_f1)\n",
    "scaler = StandardScaler()\n",
    "X_train_scaled = scaler.fit_transform(gattr1.astype(np.float64))\n",
    "cross_val_score(dtc, X_train_scaled, gattr_labels_f1, cv=7,\n",
    "scoring=\"accuracy\")"
   ]
  },
  {
   "cell_type": "code",
   "execution_count": 81,
   "id": "e742fdf6",
   "metadata": {
    "execution": {
     "iopub.execute_input": "2022-02-16T15:35:50.562911Z",
     "iopub.status.busy": "2022-02-16T15:35:50.562220Z",
     "iopub.status.idle": "2022-02-16T15:35:50.624397Z",
     "shell.execute_reply": "2022-02-16T15:35:50.623850Z"
    },
    "papermill": {
     "duration": 0.205299,
     "end_time": "2022-02-16T15:35:50.624562",
     "exception": false,
     "start_time": "2022-02-16T15:35:50.419263",
     "status": "completed"
    },
    "tags": []
   },
   "outputs": [
    {
     "data": {
      "text/plain": [
       "array([0.77, 0.74, 0.77, 0.72, 0.79, 0.74, 0.77])"
      ]
     },
     "execution_count": 81,
     "metadata": {},
     "output_type": "execute_result"
    }
   ],
   "source": [
    "dtc = KNeighborsClassifier()\n",
    "dtc.fit(gattr1, gattr_labels_f1)\n",
    "scaler = StandardScaler()\n",
    "X_train_scaled = scaler.fit_transform(gattr1.astype(np.float64))\n",
    "cross_val_score(dtc, X_train_scaled, gattr_labels_f1, cv=7,\n",
    "scoring=\"accuracy\")"
   ]
  },
  {
   "cell_type": "code",
   "execution_count": 82,
   "id": "04b465a4",
   "metadata": {
    "execution": {
     "iopub.execute_input": "2022-02-16T15:35:50.907118Z",
     "iopub.status.busy": "2022-02-16T15:35:50.906402Z",
     "iopub.status.idle": "2022-02-16T15:35:51.099541Z",
     "shell.execute_reply": "2022-02-16T15:35:51.098854Z"
    },
    "papermill": {
     "duration": 0.335525,
     "end_time": "2022-02-16T15:35:51.099715",
     "exception": false,
     "start_time": "2022-02-16T15:35:50.764190",
     "status": "completed"
    },
    "tags": []
   },
   "outputs": [
    {
     "data": {
      "text/plain": [
       "array([0.32, 0.36, 0.32, 0.29, 0.31, 0.29, 0.29])"
      ]
     },
     "execution_count": 82,
     "metadata": {},
     "output_type": "execute_result"
    }
   ],
   "source": [
    "dtc = SVC()\n",
    "dtc.fit(tattr1, tattr_labels_f1)\n",
    "scaler = StandardScaler()\n",
    "X_train_scaled = scaler.fit_transform(tattr1.astype(np.float64))\n",
    "cross_val_score(dtc, X_train_scaled, tattr_labels_f1, cv=7,\n",
    "scoring=\"accuracy\")"
   ]
  },
  {
   "cell_type": "markdown",
   "id": "a5153956",
   "metadata": {
    "papermill": {
     "duration": 0.1421,
     "end_time": "2022-02-16T15:35:51.382499",
     "exception": false,
     "start_time": "2022-02-16T15:35:51.240399",
     "status": "completed"
    },
    "tags": []
   },
   "source": [
    "but gives low accuracy,precision,recall for race ethnicity"
   ]
  },
  {
   "cell_type": "code",
   "execution_count": null,
   "id": "9d30d324",
   "metadata": {
    "papermill": {
     "duration": 0.139269,
     "end_time": "2022-02-16T15:35:51.663880",
     "exception": false,
     "start_time": "2022-02-16T15:35:51.524611",
     "status": "completed"
    },
    "tags": []
   },
   "outputs": [],
   "source": []
  }
 ],
 "metadata": {
  "kernelspec": {
   "display_name": "Python 3",
   "language": "python",
   "name": "python3"
  },
  "language_info": {
   "codemirror_mode": {
    "name": "ipython",
    "version": 3
   },
   "file_extension": ".py",
   "mimetype": "text/x-python",
   "name": "python",
   "nbconvert_exporter": "python",
   "pygments_lexer": "ipython3",
   "version": "3.7.12"
  },
  "papermill": {
   "default_parameters": {},
   "duration": 51.658517,
   "end_time": "2022-02-16T15:35:53.017065",
   "environment_variables": {},
   "exception": null,
   "input_path": "__notebook__.ipynb",
   "output_path": "__notebook__.ipynb",
   "parameters": {},
   "start_time": "2022-02-16T15:35:01.358548",
   "version": "2.3.3"
  }
 },
 "nbformat": 4,
 "nbformat_minor": 5
}
